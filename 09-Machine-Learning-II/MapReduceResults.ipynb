{
 "cells": [
  {
   "cell_type": "code",
   "execution_count": 32,
   "metadata": {},
   "outputs": [],
   "source": [
    "import json\n",
    "import numpy as np\n",
    "import pandas as pd\n",
    "\n",
    "\n",
    "with open('dt_evalutation_results.json') as jf:\n",
    "    rec = json.loads(jf.readline())\n",
    "    rec[u'Features'] = '|'.join(rec[u'Features'])\n",
    "    i = 0\n",
    "    df = pd.DataFrame(rec, index=[i])\n",
    "    for line in jf:\n",
    "        i += 1\n",
    "        rec = json.loads(line)\n",
    "        rec[u'Features'] = '|'.join(rec[u'Features'])\n",
    "        df = pd.concat([df, pd.DataFrame(rec, index=[i])], axis=0, ignore_index=True)"
   ]
  },
  {
   "cell_type": "code",
   "execution_count": 34,
   "metadata": {},
   "outputs": [
    {
     "name": "stdout",
     "output_type": "stream",
     "text": [
      "F1_score_no                                          0.941801\n",
      "F1_score_yes                                         0.468131\n",
      "Features         education|duration|poutcome|previous|default\n",
      "MaxDepth                                                    5\n",
      "Nftrs                                                       5\n",
      "Precision_no                                         0.921886\n",
      "Precision_yes                                         0.58432\n",
      "Recall_no                                            0.962673\n",
      "Recall_yes                                           0.392602\n",
      "Support_no                                              797.8\n",
      "Support_yes                                             107.2\n",
      "Name: 88244, dtype: object\n",
      "education|duration|poutcome|previous|default\n"
     ]
    }
   ],
   "source": [
    "best = df.F1_score_yes.argmax()\n",
    "print(df.iloc[best])\n",
    "print(df.iloc[best].Features)"
   ]
  },
  {
   "cell_type": "code",
   "execution_count": 35,
   "metadata": {},
   "outputs": [
    {
     "name": "stdout",
     "output_type": "stream",
     "text": [
      "F1_score_no                                               0.933536\n",
      "F1_score_yes                                              0.438701\n",
      "Features         pdays|education|duration|previous|loan|housing...\n",
      "MaxDepth                                                        10\n",
      "Nftrs                                                           10\n",
      "Precision_no                                              0.920808\n",
      "Precision_yes                                             0.498194\n",
      "Recall_no                                                 0.946731\n",
      "Recall_yes                                                0.395108\n",
      "Support_no                                                   797.8\n",
      "Support_yes                                                  107.2\n",
      "Name: 1309, dtype: object\n",
      "pdays|education|duration|previous|loan|housing|age|contact|default|job\n"
     ]
    }
   ],
   "source": [
    "best = df.Recall_yes.argmax()\n",
    "print(df.iloc[best])\n",
    "print(df.iloc[best].Features)"
   ]
  },
  {
   "cell_type": "code",
   "execution_count": null,
   "metadata": {
    "collapsed": true
   },
   "outputs": [],
   "source": []
  },
  {
   "cell_type": "code",
   "execution_count": null,
   "metadata": {
    "collapsed": true
   },
   "outputs": [],
   "source": []
  },
  {
   "cell_type": "code",
   "execution_count": null,
   "metadata": {
    "collapsed": true
   },
   "outputs": [],
   "source": []
  },
  {
   "cell_type": "code",
   "execution_count": null,
   "metadata": {
    "collapsed": true
   },
   "outputs": [],
   "source": []
  }
 ],
 "metadata": {
  "kernelspec": {
   "display_name": "Python 3",
   "language": "python",
   "name": "python3"
  },
  "language_info": {
   "codemirror_mode": {
    "name": "ipython",
    "version": 3
   },
   "file_extension": ".py",
   "mimetype": "text/x-python",
   "name": "python",
   "nbconvert_exporter": "python",
   "pygments_lexer": "ipython3",
   "version": "3.6.8"
  }
 },
 "nbformat": 4,
 "nbformat_minor": 1
}
