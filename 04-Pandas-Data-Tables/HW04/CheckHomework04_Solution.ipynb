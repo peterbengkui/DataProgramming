{
 "cells": [
  {
   "cell_type": "markdown",
   "metadata": {},
   "source": [
    "# Check Homework HW04"
   ]
  },
  {
   "cell_type": "code",
   "execution_count": null,
   "metadata": {
    "ExecuteTime": {
     "end_time": "2017-09-18T10:40:30.229427",
     "start_time": "2017-09-18T10:40:29.852924"
    }
   },
   "outputs": [],
   "source": [
    "import pandas as pd\n",
    "import numpy as np"
   ]
  },
  {
   "cell_type": "markdown",
   "metadata": {},
   "source": [
    "Now, import your solutions from `hw4_answers.py`. The following code looks a bit redundant. However, we do this to allow reloading the `hw4_answers.py` in case you made some changes. Normally, Python assumes that modules don't change and therefore does not try to import them again."
   ]
  },
  {
   "cell_type": "code",
   "execution_count": null,
   "metadata": {
    "ExecuteTime": {
     "end_time": "2017-09-18T11:43:08.503644",
     "start_time": "2017-09-18T11:43:08.498810"
    }
   },
   "outputs": [],
   "source": [
    "import hw4_answers\n",
    "reload(hw4_answers)\n",
    "from hw4_answers import *"
   ]
  },
  {
   "cell_type": "markdown",
   "metadata": {},
   "source": [
    "## Problem 1\n",
    "Create a function `load_employees` that loads the employees table from\n",
    "the file  `/home/data/AdventureWorks/Employees.xls` and sets the index of the DataFrame to the `EmployeeID`. The function should return a table with the `EmployeeID` as the index and the remaining 25 columns."
   ]
  },
  {
   "cell_type": "code",
   "execution_count": null,
   "metadata": {},
   "outputs": [],
   "source": [
    "# step1 load the data from path\n",
    "employee_df = pd.read_excel('/home/data/AdventureWorks/Employees.xls')\n",
    "employees_df.head()"
   ]
  },
  {
   "cell_type": "code",
   "execution_count": null,
   "metadata": {},
   "outputs": [],
   "source": [
    "# step 2: change index \n",
    "employee_df = employee_df.set_index('EmployeeID')\n",
    "# employee_df.columns \n",
    "employee_df.index"
   ]
  },
  {
   "cell_type": "code",
   "execution_count": null,
   "metadata": {},
   "outputs": [],
   "source": [
    "def load_employees(file_path): \n",
    "    df = pd.read_excel(file_path)\n",
    "    df = df.set_index('EmployeeID')\n",
    "    return df\n"
   ]
  },
  {
   "cell_type": "code",
   "execution_count": null,
   "metadata": {
    "ExecuteTime": {
     "end_time": "2017-09-18T10:55:29.739245",
     "start_time": "2017-09-18T10:55:29.599413"
    },
    "scrolled": false
   },
   "outputs": [],
   "source": [
    "employees_df = load_employees('/home/data/AdventureWorks/Employees.xls')\n",
    "\n",
    "print(\"Number of rows: %d\\nNumber of cols: %d\\n\" % (employees_df.shape[0], employees_df.shape[1]))\n",
    "print(\"Head of index: %s\\n\" % (employees_df.index[:10]))\n",
    "print(\"Record of employee with ID=999\\n\")\n",
    "print(employees_df.loc[999])"
   ]
  },
  {
   "cell_type": "markdown",
   "metadata": {},
   "source": [
    "The output should be \n",
    "<pre>\n",
    "Number of rows: 291\n",
    "Number of cols: 25\n",
    "\n",
    "Head of index: Int64Index([259, 278, 204, 78, 255, 66, 270, 22, 161, 124], dtype='int64', name=u'EmployeeID')\n",
    "\n",
    "Record of employee with ID=999\n",
    "\n",
    "ManagerID                                      1\n",
    "TerritoryID                                  NaN\n",
    "Title                                        NaN\n",
    "FirstName                               Chadwick\n",
    "MiddleName                                   NaN\n",
    "LastName                                   Smith\n",
    "Suffix                                       NaN\n",
    "JobTitle                            BI Professor\n",
    "NationalIDNumber                       123456789\n",
    "BirthDate                             1967-07-05\n",
    "MaritalStatus                                  M\n",
    "Gender                                         M\n",
    "HireDate              2003-12-31 23:59:59.997000\n",
    "SalariedFlag                                   0\n",
    "VacationHours                                 55\n",
    "SickLeaveHours                                47\n",
    "PhoneNumber                         555-887-9788\n",
    "PhoneNumberType                             Work\n",
    "EmailAddress         chadwick.smith@rentpath.com\n",
    "AddressLine1                   565 Peachtree Rd.\n",
    "AddressLine2                                 NaN\n",
    "City                                     Atlanta\n",
    "StateProvinceName                        Georgia\n",
    "PostalCode                                 30084\n",
    "CountryName                        United States\n",
    "Name: 999, dtype: object\n",
    "</pre>"
   ]
  },
  {
   "cell_type": "markdown",
   "metadata": {},
   "source": [
    "The output should be \n",
    "<pre>\n",
    "Number of rows: 291\n",
    "Number of cols: 25\n",
    "\n",
    "Head of index: Int64Index([259, 278, 204, 78, 255, 66, 270, 22, 161, 124], dtype='int64', name=u'EmployeeID')\n",
    "\n",
    "Record of employee with ID=999\n",
    "\n",
    "ManagerID                                      1\n",
    "TerritoryID                                  NaN\n",
    "Title                                        NaN\n",
    "FirstName                               Chadwick\n",
    "MiddleName                                   NaN\n",
    "LastName                                   Smith\n",
    "Suffix                                       NaN\n",
    "JobTitle                            BI Professor\n",
    "NationalIDNumber                       123456789\n",
    "BirthDate                             1967-07-05\n",
    "MaritalStatus                                  M\n",
    "Gender                                         M\n",
    "HireDate              2003-12-31 23:59:59.997000\n",
    "SalariedFlag                                   0\n",
    "VacationHours                                 55\n",
    "SickLeaveHours                                47\n",
    "PhoneNumber                         555-887-9788\n",
    "PhoneNumberType                             Work\n",
    "EmailAddress         chadwick.smith@rentpath.com\n",
    "AddressLine1                   565 Peachtree Rd.\n",
    "AddressLine2                                 NaN\n",
    "City                                     Atlanta\n",
    "StateProvinceName                        Georgia\n",
    "PostalCode                                 30084\n",
    "CountryName                        United States\n",
    "Name: 999, dtype: object\n",
    "</pre>"
   ]
  },
  {
   "cell_type": "code",
   "execution_count": null,
   "metadata": {},
   "outputs": [],
   "source": [
    "employees_df.head()"
   ]
  },
  {
   "cell_type": "markdown",
   "metadata": {},
   "source": [
    "### Slicing\n",
    "* picking out *part of the DF* (rows, columns, elements)\n",
    "\n",
    "#### Pick out rows\n",
    "* pick by row names -- LOC\n",
    "* pick by row numbers -- ILOC: I stands for integer\n",
    "\n",
    "#### Pick out columns\n",
    "* pick by column names -- LOC (COMMA)\n",
    "* pick by column numbers -- ILOC: I stands for integer"
   ]
  },
  {
   "cell_type": "code",
   "execution_count": null,
   "metadata": {},
   "outputs": [],
   "source": [
    "# picking rows by rowname -- LOC \n",
    "my_columns = ['FirstName', 'MiddleName', 'LastName']\n",
    "employee_df.loc[259, my_columns]"
   ]
  },
  {
   "cell_type": "code",
   "execution_count": null,
   "metadata": {},
   "outputs": [],
   "source": [
    "## ILOC: I means INTEGER \n",
    "my_columns = ['FirstName', 'MiddleName', 'LastName']\n",
    "employee_df.iloc[259, :]  ## row 260th "
   ]
  },
  {
   "cell_type": "code",
   "execution_count": null,
   "metadata": {},
   "outputs": [],
   "source": [
    "employee_df.iat[259, 10]   # element on row 260 and column 11"
   ]
  },
  {
   "cell_type": "code",
   "execution_count": null,
   "metadata": {},
   "outputs": [],
   "source": [
    "employees_df.iloc[2, 1:4]"
   ]
  },
  {
   "cell_type": "code",
   "execution_count": null,
   "metadata": {},
   "outputs": [],
   "source": [
    "employees_df['FullName'] = employees_df['LastName'].astype(str) + \", \" + employees_df['FirstName'].astype(str) + \" \" + employees_df['MiddleName'].astype(str)\n",
    "employees_df.head()"
   ]
  },
  {
   "cell_type": "markdown",
   "metadata": {},
   "source": [
    "## Problem 2\n",
    "Define a function `getFullName` which takes the employees table and a single employee ID as arguments, and returns a string with the full name of the employee in the format \"LAST, FIRST MIDDLE\".\n",
    "If the given ID does not belong to any employee return the string \"UNKNOWN\" (in all caps)\n",
    "If no middle name is given only return \"LAST, FIRST\". Make sure there are not trailing spaces!\n",
    "If only the middle initial is given the return the full name in the format \"LAST, FIRST M.\" with the middle initial followed by a '.'.\n",
    "\n",
    "Arguments:\n",
    "- df (DataFrame): Employee Table\n",
    "- empid (int):  Employee ID\n",
    "\n",
    "Returns:\n",
    "- String with full name"
   ]
  },
  {
   "cell_type": "code",
   "execution_count": null,
   "metadata": {},
   "outputs": [],
   "source": [
    "employee_df.columns"
   ]
  },
  {
   "cell_type": "code",
   "execution_count": null,
   "metadata": {},
   "outputs": [],
   "source": [
    "# step 1: create new column cuz start simple \n",
    "employee_df['FullName'] = employee_df['LastName'] + ', ' + employee_df['FirstName'] + ' ' + employee_df['MiddleName']"
   ]
  },
  {
   "cell_type": "code",
   "execution_count": null,
   "metadata": {
    "scrolled": true
   },
   "outputs": [],
   "source": [
    "# step 2: given a emp_id, return full_name\n",
    "empid = 10000\n",
    "employee_df.loc[empid, 'FullName']\n",
    "\n"
   ]
  },
  {
   "cell_type": "code",
   "execution_count": null,
   "metadata": {},
   "outputs": [],
   "source": []
  },
  {
   "cell_type": "code",
   "execution_count": null,
   "metadata": {},
   "outputs": [],
   "source": [
    "mydf= pd.read_excel('/home/data/AdventureWorks/Employees.xls')\n",
    "mydf.columns"
   ]
  },
  {
   "cell_type": "code",
   "execution_count": null,
   "metadata": {
    "scrolled": true
   },
   "outputs": [],
   "source": [
    "mydf.head()"
   ]
  },
  {
   "cell_type": "code",
   "execution_count": null,
   "metadata": {},
   "outputs": [],
   "source": [
    "# step 3: if else to handle empid not in df\n",
    "empid = 259\n",
    "empid in employee_df.index"
   ]
  },
  {
   "cell_type": "code",
   "execution_count": null,
   "metadata": {},
   "outputs": [],
   "source": [
    "# step 4: pick out f, m, l\n",
    "employees_df = load_employees('/home/data/AdventureWorks/Employees.xls')\n",
    "\n",
    "empid = 274\n",
    "\n",
    "def getFullName(df, empid):\n",
    "    if empid in df.index:\n",
    "        ln = df.loc[empid, 'LastName'] \n",
    "        fn = df.loc[empid, 'FirstName'] \n",
    "        mn = df.loc[empid, 'MiddleName']\n",
    "        my_return = ln + ', ' + fn + ' ' + mn\n",
    "        return my_return\n",
    "    else:\n",
    "        return 'UNKNOWN'\n"
   ]
  },
  {
   "cell_type": "code",
   "execution_count": null,
   "metadata": {},
   "outputs": [],
   "source": [
    "#step 5: wrap up as an func:\n",
    "def getFullName(df, empid):\n",
    "    if empid in df.FullName:\n",
    "        full_name = df.loc[empid, ['LastName']] + ', ' + df.loc[empid, ['FirstName']] + ' ' + df.loc[empid, ['MiddleName']\n",
    "        my_return = full_name.loc[empid, 'FullName']\n",
    "        return my_return\n",
    "    else:\n",
    "        return 'UNKNOWN'"
   ]
  },
  {
   "cell_type": "code",
   "execution_count": null,
   "metadata": {},
   "outputs": [],
   "source": [
    "eid = 4\n",
    "getFullName(employee_df, eid)\n",
    "# employee_df\n"
   ]
  },
  {
   "cell_type": "code",
   "execution_count": null,
   "metadata": {},
   "outputs": [],
   "source": [
    "employee_df.loc[4, :]"
   ]
  },
  {
   "cell_type": "code",
   "execution_count": null,
   "metadata": {},
   "outputs": [],
   "source": [
    "employee_df.loc[259, 'FullName']"
   ]
  },
  {
   "cell_type": "code",
   "execution_count": null,
   "metadata": {},
   "outputs": [],
   "source": [
    "employee_df.iloc[259, 10]  ## row 260 column 11 b\n"
   ]
  },
  {
   "cell_type": "code",
   "execution_count": null,
   "metadata": {},
   "outputs": [],
   "source": [
    "###  loc: column or row\n",
    "###  at: element \n",
    "employee_df.iat[259, 10]  # i: integer -- row & column numbers \n",
    "\n",
    "employee_df.at[259, 'FullName']  # row & column names "
   ]
  },
  {
   "cell_type": "code",
   "execution_count": null,
   "metadata": {},
   "outputs": [],
   "source": [
    "employee_df1 = employee_df.copy().reset_index()\n",
    "employee_df1.iloc[0, :]"
   ]
  },
  {
   "cell_type": "code",
   "execution_count": null,
   "metadata": {},
   "outputs": [],
   "source": [
    "# step1: pick out f, m, l name based on e_id\n",
    "\n",
    "empid = 100000\n",
    "# my_columns = [\"FirstName\",\"MiddleName\",\"LastName\"]\n",
    "# name = employee_df.loc[empid, my_columns]  ## pandas series \n",
    "# name\n",
    "\n",
    "# # step2: assembly full name in the format as requested from f, m, l in step 1\n",
    "# fn = name[0]\n",
    "# mn = name[1]\n",
    "# ln = name[2]\n",
    "# full_name = ln + \", \" + fn + \" \" + mn\n",
    "# full_name\n",
    "\n",
    "def getFullName(df, empid):\n",
    "    # handle UNKNOWN\n",
    "    if empid in df.index:\n",
    "        my_columns = [\"FirstName\",\"MiddleName\",\"LastName\"]\n",
    "        name = employee_df.loc[empid, my_columns]  ## pandas series \n",
    "        name\n",
    "\n",
    "        # step2: assembly full name in the format as requested from f, m, l in step 1\n",
    "        fn = name[0]\n",
    "        mn = name[1]\n",
    "        ln = name[2]\n",
    "        full_name = ln + \", \" + fn + \" \" + mn\n",
    "        return full_name\n",
    "    else:\n",
    "        return \"UNKNOWN\""
   ]
  },
  {
   "cell_type": "code",
   "execution_count": null,
   "metadata": {},
   "outputs": [],
   "source": [
    "def getFullName(df, empid):\n",
    "    full_name = \"UNKNOWN\"\n",
    "    if empid in employees_df.index:\n",
    "        name = df.loc[empid, [\"FirstName\",\"MiddleName\",\"LastName\"]]\n",
    "        first_name, middle_name, last_name = name[0],name[1],name[2]\n",
    "        if str(middle_name) == 'nan':\n",
    "            full_name = last_name +\", \" + first_name\n",
    "        elif len(middle_name) == 1:\n",
    "            full_name = last_name + \", \" + first_name + \" \" + middle_name + \".\"\n",
    "        else:\n",
    "            full_name = last_name + \", \" + first_name + \" \" + middle_name\n",
    "\n",
    "    return full_name"
   ]
  },
  {
   "cell_type": "code",
   "execution_count": null,
   "metadata": {
    "ExecuteTime": {
     "end_time": "2017-09-18T11:04:14.143639",
     "start_time": "2017-09-18T11:04:14.133015"
    }
   },
   "outputs": [],
   "source": [
    "for eid in [274]:\n",
    "    print('%d, \"%s\"' %(eid, getFullName(employees_df, eid)))"
   ]
  },
  {
   "cell_type": "markdown",
   "metadata": {},
   "source": [
    "The output should be\n",
    "<pre>\n",
    "274, \"Jiang, Stephen Y.\"\n",
    "999, \"Smith, Chadwick\"\n",
    "102, \"Mu, Zheng W.\"\n",
    "</pre>"
   ]
  },
  {
   "cell_type": "markdown",
   "metadata": {},
   "source": [
    "## Problem 3\n",
    "Define a function `isSales` that takes the job title of an employee as string as an argument and return either `True` if the job title indicates this person works in sales, and `False` otherwise.\n",
    "\n",
    "Argument:\n",
    "- jobtitle (str)\n",
    "\n",
    "Returns:\n",
    "- True or False"
   ]
  },
  {
   "cell_type": "code",
   "execution_count": null,
   "metadata": {},
   "outputs": [],
   "source": [
    "def isSales(jobtitle):\n",
    "    if \"sale\" in jobtitle.lower(): ## SALE sALe\n",
    "        return True\n",
    "    else:\n",
    "        return False"
   ]
  },
  {
   "cell_type": "code",
   "execution_count": null,
   "metadata": {
    "ExecuteTime": {
     "end_time": "2017-09-18T11:09:52.659531",
     "start_time": "2017-09-18T11:09:52.653879"
    }
   },
   "outputs": [],
   "source": [
    "for jt in ['Chief Data Scientist', 'Sales Manager', 'Vice President of Sales']:\n",
    "    if isSales(jt):\n",
    "        print(\"The job title '%s' is part of the Sales Department.\" % jt)\n",
    "    else:\n",
    "        print(\"The job title '%s' belongs to a different department.\" % jt)"
   ]
  },
  {
   "cell_type": "markdown",
   "metadata": {},
   "source": [
    "The output should be\n",
    "<pre>\n",
    "The job title 'Chief Data Scientist' belongs to a different department.\n",
    "The job title 'Sales Manager' is part of the Sales Department.\n",
    "The job title 'Vice President of Sales' is part of the Sales Department.\n",
    "</pre>"
   ]
  },
  {
   "cell_type": "code",
   "execution_count": null,
   "metadata": {},
   "outputs": [],
   "source": [
    "employee_df['JobTitle']"
   ]
  },
  {
   "cell_type": "markdown",
   "metadata": {
    "ExecuteTime": {
     "end_time": "2017-09-18T11:10:52.841897",
     "start_time": "2017-09-18T11:10:52.838016"
    }
   },
   "source": [
    "## Problem 4\n",
    "Define a function `filterSales` with the employee tables as an argument, that returns a new table of the same column_names and row_names containing only row of sales people. You should use the `isSales` function from the previous problem.\n",
    "\n",
    "Arguments:\n",
    "- employees (DataFrame)\n",
    "\n",
    "Returns:\n",
    "- DataFrame with only people form the Sales Department"
   ]
  },
  {
   "cell_type": "code",
   "execution_count": null,
   "metadata": {},
   "outputs": [],
   "source": [
    "my_column_list = ['FirstName', 'LastName']\n",
    "employee_df.loc[:, my_column_list]"
   ]
  },
  {
   "cell_type": "code",
   "execution_count": null,
   "metadata": {},
   "outputs": [],
   "source": [
    "# step 1: picking out rows by jobtitle \n",
    "# employee_df.columns\n",
    "\n",
    "sales_filter = employee_df.loc[:, ['JobTitle']].str.lower().str.contains('sale')\n",
    "# my_con"
   ]
  },
  {
   "cell_type": "code",
   "execution_count": null,
   "metadata": {},
   "outputs": [],
   "source": [
    "# step 2: pick out rows based on the filter then assign to a new DF\n",
    "salesDF = employee_df[sales_filter]\n",
    "salesDF"
   ]
  },
  {
   "cell_type": "markdown",
   "metadata": {},
   "source": [
    "### for loops in DataFrame\n",
    "* step 1 loop through the rows\n",
    "    * pick out job title, then call function isSales\n",
    "    * if true:\n",
    "        * store in the new DF\n",
    "\n",
    "\n",
    "### make it better\n",
    "* apply -- for loop on DF & PD.Series\n",
    "* map -- for loop on PD.Series\n",
    "* applymap -- for loop on elements of DF & PD.Series  -- much less used because it is VERY slow\n",
    "    "
   ]
  },
  {
   "cell_type": "code",
   "execution_count": null,
   "metadata": {},
   "outputs": [],
   "source": [
    "sales_filter = employees_df.loc[:, \"JobTitle\"].apply(isSales)\n",
    "sales_filter"
   ]
  },
  {
   "cell_type": "code",
   "execution_count": null,
   "metadata": {},
   "outputs": [],
   "source": [
    "def filterSales(employees):\n",
    "    sales_filter = employees.loc[:, \"JobTitle\"].apply(isSales)\n",
    "    return employees[sales_filter]"
   ]
  },
  {
   "cell_type": "code",
   "execution_count": null,
   "metadata": {
    "ExecuteTime": {
     "end_time": "2017-09-18T11:14:04.586899",
     "start_time": "2017-09-18T11:14:04.578483"
    }
   },
   "outputs": [],
   "source": [
    "sales_df = filterSales(employees_df)\n",
    "print(\"Number of rows: %d\\nNumber of cols: %d\\n\" % (sales_df.shape[0], sales_df.shape[1]))\n",
    "print(\"Head of index: %s\\n\" % (sales_df.index[:10]))\n",
    "print(\"Record of sales employee with ID=280\\n\")\n",
    "print(sales_df.loc[280])"
   ]
  },
  {
   "cell_type": "markdown",
   "metadata": {},
   "source": [
    "The output should be\n",
    "<pre>\n",
    "Number of rows: 18\n",
    "Number of cols: 25\n",
    "\n",
    "Head of index: Int64Index([278, 283, 274, 276, 286, 284, 287, 281, 280, 285], dtype='int64', name=u'EmployeeID')\n",
    "\n",
    "Record of sales employee with ID=280\n",
    "\n",
    "ManagerID                             274\n",
    "TerritoryID                             1\n",
    "Title                                 NaN\n",
    "FirstName                          Pamela\n",
    "MiddleName                              O\n",
    "LastName                     Ansman-Wolfe\n",
    "Suffix                                NaN\n",
    "JobTitle             Sales Representative\n",
    "NationalIDNumber                 61161660\n",
    "BirthDate                      1969-01-06\n",
    "MaritalStatus                           S\n",
    "Gender                                  F\n",
    "HireDate              2005-10-01 00:00:00\n",
    "SalariedFlag                            1\n",
    "VacationHours                          22\n",
    "SickLeaveHours                         31\n",
    "PhoneNumber                  340-555-0193\n",
    "PhoneNumberType                      Cell\n",
    "EmailAddress            pamela0@yahoo.com\n",
    "AddressLine1            636 Vine Hill Way\n",
    "AddressLine2                          NaN\n",
    "City                             Portland\n",
    "StateProvinceName                  Oregon\n",
    "PostalCode                          97205\n",
    "CountryName                 United States\n",
    "Name: 280, dtype: object\n",
    "</pre>\n"
   ]
  },
  {
   "cell_type": "markdown",
   "metadata": {},
   "source": [
    "## Problem 5\n",
    "Define a function `getEmailList` with that returns a Series of strings of all email addresses of employees in this state or province. The email addresses should be separated by a given character, usually a comma ',' or semicolon ';'.\n",
    "\n",
    "Arguments:\n",
    "- employees (DataFrame)\n",
    "- delimiter (str)\n",
    "\n",
    "Returns:\n",
    "- Series of email addresses, concatenated by the given delimiter. The Series is indexed by the state or province."
   ]
  },
  {
   "cell_type": "code",
   "execution_count": null,
   "metadata": {},
   "outputs": [],
   "source": [
    "employee_df.columns"
   ]
  },
  {
   "cell_type": "code",
   "execution_count": null,
   "metadata": {},
   "outputs": [],
   "source": [
    "employee_df.head()"
   ]
  },
  {
   "cell_type": "code",
   "execution_count": null,
   "metadata": {},
   "outputs": [],
   "source": [
    "state = 'Washington'\n",
    "my_filter = employee_df['StateProvinceName'] == state\n",
    "my_filter"
   ]
  },
  {
   "cell_type": "code",
   "execution_count": null,
   "metadata": {},
   "outputs": [],
   "source": [
    "# step 1: get emails based on state\n",
    "# employee_df['StateProvinceName']\n",
    "state = 'Washington'\n",
    "my_filter = employee_df['StateProvinceName'] == state\n",
    "my_columns =  ['EmailAddress', 'StateProvinceName']\n",
    "employee_df.loc[my_filter, my_columns]"
   ]
  },
  {
   "cell_type": "code",
   "execution_count": null,
   "metadata": {},
   "outputs": [],
   "source": [
    "my_email_list = employee_df.loc[my_filter, my_columns]\n",
    "my_email_list = list(my_email_list['EmailAddress'])"
   ]
  },
  {
   "cell_type": "code",
   "execution_count": null,
   "metadata": {},
   "outputs": [],
   "source": [
    "delimiter = ', '\n",
    "state + \": \" + delimiter.join(my_email_list)"
   ]
  },
  {
   "cell_type": "code",
   "execution_count": null,
   "metadata": {},
   "outputs": [],
   "source": [
    "def getEmailListByState(employees, delimiter):\n",
    "#     state = 'Washington'\n",
    "    states = employee_df['StateProvinceName']\n",
    "    output = dict()\n",
    "    for state in states:\n",
    "        my_filter = employee_df['StateProvinceName'] == state\n",
    "        my_columns =  ['EmailAddress', 'StateProvinceName']\n",
    "        my_email_df = employee_df.loc[my_filter, my_columns]\n",
    "        my_email_list = list(my_email_df['EmailAddress'])\n",
    "        my_output = delimiter.join(my_email_list)\n",
    "        output[state] = my_output\n",
    "    return pd.DataFrame(output)"
   ]
  },
  {
   "cell_type": "code",
   "execution_count": null,
   "metadata": {},
   "outputs": [],
   "source": [
    "# step 1: get emails based on state\n",
    "# employee_df['StateProvinceName']\n",
    "state = 'Washington'\n",
    "my_filter = employee_df['StateProvinceName'] == state\n",
    "my_columns =  ['EmailAddress', 'StateProvinceName']\n",
    "employee_df.loc[my_filter, my_columns]\n",
    "\n",
    "# step 2: make the emails a list\n",
    "my_emails = employee_df.loc[my_filter, ['EmailAddress', 'StateProvinceName']]\n",
    "my_emails\n",
    "\n",
    "my_email_lists = list(my_emails['EmailAddress'])\n",
    "\n",
    "delimiter = ', '\n",
    "delimiter.join(my_email_lists)\n",
    "\n",
    "def getEmailListByState(df, delimiter):\n",
    "    states = employee_df['StateProvinceName']\n",
    "    output = dict()\n",
    "    for state in states:\n",
    "        my_filter = employee_df['StateProvinceName'] == state\n",
    "        my_emails = employee_df.loc[my_filter, ['EmailAddress', 'StateProvinceName']]\n",
    "\n",
    "        my_email_lists = list(my_emails['EmailAddress'])\n",
    "\n",
    "        output[state] = delimiter.join(my_email_lists)\n",
    "    return pd.DataFrame(output)\n",
    "    "
   ]
  },
  {
   "cell_type": "code",
   "execution_count": null,
   "metadata": {},
   "outputs": [],
   "source": [
    "# step 1: pick out emails and state names\n",
    "employee_emails = employees_df.loc[:, [\"StateProvinceName\", \"EmailAddress\"]]\n",
    "employee_emails.head()\n",
    "\n",
    "# step 2: group emails by state names\n",
    "my_groups = employee_emails.groupby('StateProvinceName')\n",
    "pd.DataFrame(my_groups['EmailAddress'])\n",
    "\n",
    "# step 3: turn email group into a list\n",
    "my_lists = my_groups['EmailAddress'].apply(list)\n",
    "\n",
    "# step 4: concat the list in step 3 by the delimiter \n",
    "# my_output = my_lists['EmailAddress'].apply(lambda email_list: delimiter.join(email_list))\n",
    "\n",
    "def getEmailListByState(df, delimiter):\n",
    "    employee_emails = employees_df.loc[:, [\"StateProvinceName\", \"EmailAddress\"]]\n",
    "    my_groups = employee_emails.groupby('StateProvinceName')\n",
    "#     my_lists = my_groups['EmailAddress'].apply(list)\n",
    "    my_output = my_groups['EmailAddress'].apply(lambda email_list: delimiter.join(email_list))\n",
    "    \n",
    "    return my_output\n"
   ]
  },
  {
   "cell_type": "code",
   "execution_count": null,
   "metadata": {},
   "outputs": [],
   "source": [
    "def getEmailListByState(employees, delimiter):\n",
    "    employee_emails = employees.loc[:, [\"StateProvinceName\", \"EmailAddress\"]]\n",
    "#     delimiter = delimiter\n",
    "    state_emails = employee_emails.groupby(\"StateProvinceName\")\n",
    "    \n",
    "    [\"EmailAddress\"].apply(lambda x: delimiter.join(x))\n",
    "    return state_emails\n"
   ]
  },
  {
   "cell_type": "code",
   "execution_count": null,
   "metadata": {
    "ExecuteTime": {
     "end_time": "2017-09-18T11:34:12.434614",
     "start_time": "2017-09-18T11:34:12.425732"
    }
   },
   "outputs": [],
   "source": [
    "emails= getEmailListByState(salesDF, \", \")\n",
    "for state in sorted(emails.index):\n",
    "#     print('hi')\n",
    "    print(\"%15s: %s\" % (state, emails[state]))"
   ]
  },
  {
   "cell_type": "markdown",
   "metadata": {},
   "source": [
    "The output should be\n",
    "<pre>\n",
    "        Alberta: garrett1@mapleleafmail.ca\n",
    "     California: shu0@adventure-works.com\n",
    "        England: jae0@aol.co.uk\n",
    "        Gironde: ranjit0@adventure-works.com\n",
    "        Hamburg: rachel0@adventure-works.com\n",
    "  Massachusetts: tete0@adventure-works.com\n",
    "       Michigan: michael9@adventure-works.com\n",
    "      Minnesota: jillian0@adventure-works.com\n",
    "        Ontario: josé1@safe-mail.net\n",
    "         Oregon: pamela0@yahoo.com\n",
    "      Tennessee: tsvi0@adventure-works.com\n",
    "           Utah: linda3@adventure-works.com\n",
    "       Victoria: lynn0@adventure-works.com\n",
    "     Washington: david8@adventure-works.com, stephen0@adventure-works.com, amy0@yahoo.com, syed0@yahoo.com, brian3@aol.com\n",
    "<pre>"
   ]
  },
  {
   "cell_type": "markdown",
   "metadata": {},
   "source": [
    "## Problem 6 (Bonus)\n",
    "Define a function `managementCounts` which produces a Series of how many employees report to a manager. The Series is indexed by the `ManagerID`, the count should be performed on the `EmployeeID` because this is the only field that is guaranteed to be unique. The resulting Series should be order by the number of employees in **descending order**.\n",
    "\n",
    "Arguments:\n",
    "- employees (DataFrame)\n",
    "\n",
    "Returns:\n",
    "- Series of counts (int), indexed by `ManagerID`"
   ]
  },
  {
   "cell_type": "code",
   "execution_count": null,
   "metadata": {},
   "outputs": [],
   "source": [
    "employees_df.columns"
   ]
  },
  {
   "cell_type": "code",
   "execution_count": null,
   "metadata": {},
   "outputs": [],
   "source": [
    "# step 1 pick out employeeids based on manager id\n",
    "m_id = 250.0\n",
    "\n",
    "employee_df.loc[employee_df['ManagerID'] == m_id ,['EmployeeID']]\n"
   ]
  },
  {
   "cell_type": "code",
   "execution_count": null,
   "metadata": {},
   "outputs": [],
   "source": [
    "# def managementCounts(employees):\n",
    "employees_df = employees_df.reset_index()\n",
    "# employees_df = pd.read_excel('/home/data/AdventureWorks/Employees.xls')\n",
    "employees_df.head()\n",
    "employees_df['EmployeeID']"
   ]
  },
  {
   "cell_type": "code",
   "execution_count": null,
   "metadata": {},
   "outputs": [],
   "source": [
    "# step 2: group em_id by m_id\n",
    "my_group = employees_df.groupby('ManagerID')['EmployeeID']\n",
    "\n",
    "# loop thru the list and count unique size \n",
    "employees_df.groupby('ManagerID')['EmployeeID'].apply(lambda em_id_list: len(em_id_list.unique()))\n",
    "\n",
    "# sorting \n",
    "employees_df.groupby('ManagerID')['EmployeeID'].apply(lambda em_id_list: len(em_id_list.unique())).sort_values(ascending=False)"
   ]
  },
  {
   "cell_type": "code",
   "execution_count": null,
   "metadata": {},
   "outputs": [],
   "source": []
  }
 ],
 "metadata": {
  "hide_input": false,
  "kernelspec": {
   "display_name": "Python 3",
   "language": "python",
   "name": "python3"
  },
  "language_info": {
   "codemirror_mode": {
    "name": "ipython",
    "version": 3
   },
   "file_extension": ".py",
   "mimetype": "text/x-python",
   "name": "python",
   "nbconvert_exporter": "python",
   "pygments_lexer": "ipython3",
   "version": "3.6.8"
  },
  "toc": {
   "nav_menu": {
    "height": "139px",
    "width": "252px"
   },
   "navigate_menu": true,
   "number_sections": true,
   "sideBar": true,
   "threshold": 4,
   "toc_cell": false,
   "toc_section_display": "block",
   "toc_window_display": false
  }
 },
 "nbformat": 4,
 "nbformat_minor": 2
}
