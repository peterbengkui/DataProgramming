{
 "cells": [
  {
   "cell_type": "markdown",
   "metadata": {},
   "source": [
    "# Pandas\n",
    "***pandas*** is a Python package providing fast, flexible, and expressive data structures designed to make working with “relational” or “labeled” data both easy and intuitive. It aims to be the fundamental high-level building block for doing practical, real world data analysis in Python. Additionally, it has the broader goal of becoming the most powerful and flexible open source data analysis / manipulation tool available in any language. It is already well on its way toward this goal.\n",
    "\n",
    "Source: http://pandas.pydata.org/pandas-docs/stable/"
   ]
  },
  {
   "cell_type": "markdown",
   "metadata": {},
   "source": [
    "# 10 Minutes to pandas\n",
    "This is a short introduction to pandas, geared mainly for new users. You can see more complex recipes in the Cookbook\n",
    "The original document is posted at http://pandas.pydata.org/pandas-docs/stable/10min.html\n",
    "\n",
    "Customarily, we import as follows:"
   ]
  },
  {
   "cell_type": "code",
   "execution_count": 1,
   "metadata": {
    "ExecuteTime": {
     "end_time": "2017-09-18T19:40:13.849678",
     "start_time": "2017-09-18T19:40:12.731988"
    }
   },
   "outputs": [],
   "source": [
    "%matplotlib inline\n",
    "import pandas as pd\n",
    "import numpy as np\n",
    "import matplotlib.pyplot as plt"
   ]
  },
  {
   "cell_type": "markdown",
   "metadata": {},
   "source": [
    "## Object Creation\n",
    "See the [Data Structure Intro section](http://pandas.pydata.org/pandas-docs/stable/dsintro.html#dsintro).\n",
    "\n",
    "When we worked with Numpy arrays, one limitation was that a numpy ndarray can only hold one type of data (there are ways of getting around that, but they take away some of the nice advantages of numpy!). More often than not, real-world data sets contain mixed data that can have strings, dates, and numerical values for each \"element\". That is where pandas data frames show their real advantage. \n",
    "\n",
    "Pandas has Series (1-dim labeled lists) and DataTables (2-dim tables with column names and row labels). \n",
    "\n",
    "We'll start off by looking as Series. \n",
    "\n",
    "Creating a `Series` by passing a list of values, letting pandas create a default integer index:"
   ]
  },
  {
   "cell_type": "code",
   "execution_count": 4,
   "metadata": {
    "ExecuteTime": {
     "end_time": "2017-09-18T19:42:05.561743",
     "start_time": "2017-09-18T19:42:05.547551"
    }
   },
   "outputs": [
    {
     "data": {
      "text/plain": [
       "0     1.0\n",
       "1     3.0\n",
       "4     5.0\n",
       "9     NaN\n",
       "16    6.0\n",
       "25    8.0\n",
       "dtype: float64"
      ]
     },
     "execution_count": 4,
     "metadata": {},
     "output_type": "execute_result"
    }
   ],
   "source": [
    "s = pd.Series([1,3,5,np.nan,6,8], index=[x**2 for x in range(6)])\n",
    "s"
   ]
  },
  {
   "cell_type": "markdown",
   "metadata": {},
   "source": [
    "Creating a `DataFrame` by passing a numpy array, with a datetime index and labeled columns:"
   ]
  },
  {
   "cell_type": "code",
   "execution_count": 5,
   "metadata": {
    "ExecuteTime": {
     "end_time": "2017-09-18T19:42:55.748422",
     "start_time": "2017-09-18T19:42:55.728792"
    }
   },
   "outputs": [
    {
     "data": {
      "text/plain": [
       "DatetimeIndex(['2013-01-31', '2013-02-28', '2013-03-31', '2013-04-30',\n",
       "               '2013-05-31', '2013-06-30'],\n",
       "              dtype='datetime64[ns]', freq='M')"
      ]
     },
     "execution_count": 5,
     "metadata": {},
     "output_type": "execute_result"
    }
   ],
   "source": [
    "dates = pd.date_range('20130101', periods=6, freq='M')\n",
    "dates"
   ]
  },
  {
   "cell_type": "code",
   "execution_count": 6,
   "metadata": {
    "ExecuteTime": {
     "end_time": "2017-09-18T19:43:28.907370",
     "start_time": "2017-09-18T19:43:28.875285"
    },
    "scrolled": true
   },
   "outputs": [
    {
     "data": {
      "text/html": [
       "<div>\n",
       "<table border=\"1\" class=\"dataframe\">\n",
       "  <thead>\n",
       "    <tr style=\"text-align: right;\">\n",
       "      <th></th>\n",
       "      <th>Ann</th>\n",
       "      <th>Bob</th>\n",
       "      <th>Charly</th>\n",
       "      <th>Don</th>\n",
       "    </tr>\n",
       "  </thead>\n",
       "  <tbody>\n",
       "    <tr>\n",
       "      <th>2013-01-31</th>\n",
       "      <td>-0.003502</td>\n",
       "      <td>1.152828</td>\n",
       "      <td>3.717634</td>\n",
       "      <td>0.037692</td>\n",
       "    </tr>\n",
       "    <tr>\n",
       "      <th>2013-02-28</th>\n",
       "      <td>0.892275</td>\n",
       "      <td>0.343000</td>\n",
       "      <td>-0.808303</td>\n",
       "      <td>-0.898209</td>\n",
       "    </tr>\n",
       "    <tr>\n",
       "      <th>2013-03-31</th>\n",
       "      <td>-0.390379</td>\n",
       "      <td>-0.438595</td>\n",
       "      <td>0.672244</td>\n",
       "      <td>0.081278</td>\n",
       "    </tr>\n",
       "    <tr>\n",
       "      <th>2013-04-30</th>\n",
       "      <td>-0.738945</td>\n",
       "      <td>0.605548</td>\n",
       "      <td>-0.581430</td>\n",
       "      <td>0.098590</td>\n",
       "    </tr>\n",
       "    <tr>\n",
       "      <th>2013-05-31</th>\n",
       "      <td>-0.051126</td>\n",
       "      <td>-1.592866</td>\n",
       "      <td>0.180535</td>\n",
       "      <td>-0.060732</td>\n",
       "    </tr>\n",
       "    <tr>\n",
       "      <th>2013-06-30</th>\n",
       "      <td>2.067142</td>\n",
       "      <td>0.433863</td>\n",
       "      <td>-2.547680</td>\n",
       "      <td>0.424048</td>\n",
       "    </tr>\n",
       "  </tbody>\n",
       "</table>\n",
       "</div>"
      ],
      "text/plain": [
       "                 Ann       Bob    Charly       Don\n",
       "2013-01-31 -0.003502  1.152828  3.717634  0.037692\n",
       "2013-02-28  0.892275  0.343000 -0.808303 -0.898209\n",
       "2013-03-31 -0.390379 -0.438595  0.672244  0.081278\n",
       "2013-04-30 -0.738945  0.605548 -0.581430  0.098590\n",
       "2013-05-31 -0.051126 -1.592866  0.180535 -0.060732\n",
       "2013-06-30  2.067142  0.433863 -2.547680  0.424048"
      ]
     },
     "execution_count": 6,
     "metadata": {},
     "output_type": "execute_result"
    }
   ],
   "source": [
    "df = pd.DataFrame(np.random.randn(6,4), index=dates, columns = ['Ann', \"Bob\", \"Charly\", \"Don\"])\n",
    "                  ## columns=list('ABCD'))\n",
    "df"
   ]
  },
  {
   "cell_type": "markdown",
   "metadata": {},
   "source": [
    "You can operate on the columns:"
   ]
  },
  {
   "cell_type": "code",
   "execution_count": 7,
   "metadata": {
    "ExecuteTime": {
     "end_time": "2017-09-18T19:44:08.910502",
     "start_time": "2017-09-18T19:44:08.871909"
    }
   },
   "outputs": [
    {
     "data": {
      "text/plain": [
       "2013-01-31    3.755326\n",
       "2013-02-28   -1.706512\n",
       "2013-03-31    0.753523\n",
       "2013-04-30   -0.482840\n",
       "2013-05-31    0.119803\n",
       "2013-06-30   -2.123632\n",
       "Freq: M, dtype: float64"
      ]
     },
     "execution_count": 7,
     "metadata": {},
     "output_type": "execute_result"
    }
   ],
   "source": [
    "df.Charly+df.Don"
   ]
  },
  {
   "cell_type": "markdown",
   "metadata": {},
   "source": [
    "This example illustrates some objects that can be put into DataFrames (with dtype specification):"
   ]
  },
  {
   "cell_type": "code",
   "execution_count": 8,
   "metadata": {
    "ExecuteTime": {
     "end_time": "2017-09-18T19:46:18.266313",
     "start_time": "2017-09-18T19:46:18.219253"
    }
   },
   "outputs": [
    {
     "data": {
      "text/html": [
       "<div>\n",
       "<table border=\"1\" class=\"dataframe\">\n",
       "  <thead>\n",
       "    <tr style=\"text-align: right;\">\n",
       "      <th></th>\n",
       "      <th>A</th>\n",
       "      <th>B</th>\n",
       "      <th>C</th>\n",
       "      <th>D</th>\n",
       "      <th>E</th>\n",
       "      <th>F</th>\n",
       "    </tr>\n",
       "  </thead>\n",
       "  <tbody>\n",
       "    <tr>\n",
       "      <th>a</th>\n",
       "      <td>1.0</td>\n",
       "      <td>2013-01-02</td>\n",
       "      <td>1.0</td>\n",
       "      <td>3</td>\n",
       "      <td>test</td>\n",
       "      <td>foo</td>\n",
       "    </tr>\n",
       "    <tr>\n",
       "      <th>b</th>\n",
       "      <td>1.0</td>\n",
       "      <td>2013-01-02</td>\n",
       "      <td>1.0</td>\n",
       "      <td>3</td>\n",
       "      <td>train</td>\n",
       "      <td>foo</td>\n",
       "    </tr>\n",
       "    <tr>\n",
       "      <th>c</th>\n",
       "      <td>1.0</td>\n",
       "      <td>2013-01-02</td>\n",
       "      <td>1.0</td>\n",
       "      <td>3</td>\n",
       "      <td>test</td>\n",
       "      <td>foo</td>\n",
       "    </tr>\n",
       "    <tr>\n",
       "      <th>d</th>\n",
       "      <td>1.0</td>\n",
       "      <td>2013-01-02</td>\n",
       "      <td>1.0</td>\n",
       "      <td>3</td>\n",
       "      <td>train</td>\n",
       "      <td>foo</td>\n",
       "    </tr>\n",
       "  </tbody>\n",
       "</table>\n",
       "</div>"
      ],
      "text/plain": [
       "     A          B    C  D      E    F\n",
       "a  1.0 2013-01-02  1.0  3   test  foo\n",
       "b  1.0 2013-01-02  1.0  3  train  foo\n",
       "c  1.0 2013-01-02  1.0  3   test  foo\n",
       "d  1.0 2013-01-02  1.0  3  train  foo"
      ]
     },
     "execution_count": 8,
     "metadata": {},
     "output_type": "execute_result"
    }
   ],
   "source": [
    "df2 = pd.DataFrame({ 'A' : 1.,\n",
    "                    'B' : pd.Timestamp('20130102'),\n",
    "                    'C' : pd.Series(1,index=list(['a','b','c','d']),dtype='float32'),\n",
    "                    'D' : np.array([3] * 4,dtype='int32'),\n",
    "                    'E' : pd.Categorical([\"test\",\"train\",\"test\",\"train\"]),\n",
    "                    'F' : 'foo' })\n",
    "df2"
   ]
  },
  {
   "cell_type": "code",
   "execution_count": 9,
   "metadata": {
    "ExecuteTime": {
     "end_time": "2017-09-18T19:46:55.642149",
     "start_time": "2017-09-18T19:46:55.624533"
    }
   },
   "outputs": [
    {
     "data": {
      "text/plain": [
       "A           float64\n",
       "B    datetime64[ns]\n",
       "C           float32\n",
       "D             int32\n",
       "E          category\n",
       "F            object\n",
       "dtype: object"
      ]
     },
     "execution_count": 9,
     "metadata": {},
     "output_type": "execute_result"
    }
   ],
   "source": [
    "df2.dtypes"
   ]
  },
  {
   "cell_type": "markdown",
   "metadata": {},
   "source": [
    "Another simple example:"
   ]
  },
  {
   "cell_type": "code",
   "execution_count": 10,
   "metadata": {
    "ExecuteTime": {
     "end_time": "2017-09-18T19:47:34.152447",
     "start_time": "2017-09-18T19:47:34.114788"
    }
   },
   "outputs": [
    {
     "data": {
      "text/html": [
       "<div>\n",
       "<table border=\"1\" class=\"dataframe\">\n",
       "  <thead>\n",
       "    <tr style=\"text-align: right;\">\n",
       "      <th></th>\n",
       "      <th>ValuesA</th>\n",
       "      <th>ValuesB</th>\n",
       "      <th>C</th>\n",
       "      <th>D</th>\n",
       "      <th>CplusD</th>\n",
       "    </tr>\n",
       "  </thead>\n",
       "  <tbody>\n",
       "    <tr>\n",
       "      <th>0</th>\n",
       "      <td>0.056222</td>\n",
       "      <td>0.635249</td>\n",
       "      <td>0.952729</td>\n",
       "      <td>0.850519</td>\n",
       "      <td>1.803248</td>\n",
       "    </tr>\n",
       "    <tr>\n",
       "      <th>1</th>\n",
       "      <td>0.052966</td>\n",
       "      <td>0.774945</td>\n",
       "      <td>0.873052</td>\n",
       "      <td>0.488782</td>\n",
       "      <td>1.361834</td>\n",
       "    </tr>\n",
       "    <tr>\n",
       "      <th>4</th>\n",
       "      <td>0.897074</td>\n",
       "      <td>0.611696</td>\n",
       "      <td>0.520884</td>\n",
       "      <td>0.565424</td>\n",
       "      <td>1.086307</td>\n",
       "    </tr>\n",
       "  </tbody>\n",
       "</table>\n",
       "</div>"
      ],
      "text/plain": [
       "    ValuesA   ValuesB         C         D    CplusD\n",
       "0  0.056222  0.635249  0.952729  0.850519  1.803248\n",
       "1  0.052966  0.774945  0.873052  0.488782  1.361834\n",
       "4  0.897074  0.611696  0.520884  0.565424  1.086307"
      ]
     },
     "execution_count": 10,
     "metadata": {},
     "output_type": "execute_result"
    }
   ],
   "source": [
    "df3 = pd.DataFrame(np.random.rand(3,4), columns=['ValuesA','ValuesB','C','D'], index=[x**2 for x in xrange(3)])\n",
    "df3['CplusD'] = df3.C+df3.D\n",
    "df3"
   ]
  },
  {
   "cell_type": "markdown",
   "metadata": {},
   "source": [
    "If you’re using IPython, tab completion for column names (as well as public attributes) is automatically enabled. Here’s a subset of the attributes that will be completed:\n",
    "<pre>\n",
    "In [13]: df2.&lt;TAB&gt;\n",
    "df2.A                  df2.boxplot\n",
    "df2.abs                df2.C\n",
    "df2.add                df2.clip\n",
    "df2.add_prefix         df2.clip_lower\n",
    "df2.add_suffix         df2.clip_upper\n",
    "df2.align              df2.columns\n",
    "df2.all                df2.combine\n",
    "df2.any                df2.combineAdd\n",
    "df2.append             df2.combine_first\n",
    "df2.apply              df2.combineMult\n",
    "df2.applymap           df2.compound\n",
    "df2.as_blocks          df2.consolidate\n",
    "df2.asfreq             df2.convert_objects\n",
    "df2.as_matrix          df2.copy\n",
    "df2.astype             df2.corr\n",
    "df2.at                 df2.corrwith\n",
    "df2.at_time            df2.count\n",
    "df2.axes               df2.cov\n",
    "df2.B                  df2.cummax\n",
    "df2.between_time       df2.cummin\n",
    "df2.bfill              df2.cumprod\n",
    "df2.blocks             df2.cumsum\n",
    "df2.bool               df2.D\n",
    "</pre>\n",
    "As you can see, the columns A, B, C, and D are automatically tab completed. E is there as well; the rest of the attributes have been truncated for brevity."
   ]
  },
  {
   "cell_type": "markdown",
   "metadata": {},
   "source": [
    "# Viewing Data\n",
    "See the [Basics section](http://pandas.pydata.org/pandas-docs/stable/basics.html#basics)\n",
    "\n",
    "See the top & bottom rows of the frame"
   ]
  },
  {
   "cell_type": "code",
   "execution_count": 12,
   "metadata": {
    "ExecuteTime": {
     "end_time": "2017-09-18T19:51:20.751008",
     "start_time": "2017-09-18T19:51:20.725798"
    }
   },
   "outputs": [
    {
     "data": {
      "text/html": [
       "<div>\n",
       "<table border=\"1\" class=\"dataframe\">\n",
       "  <thead>\n",
       "    <tr style=\"text-align: right;\">\n",
       "      <th></th>\n",
       "      <th>Ann</th>\n",
       "      <th>Bob</th>\n",
       "      <th>Charly</th>\n",
       "      <th>Don</th>\n",
       "    </tr>\n",
       "  </thead>\n",
       "  <tbody>\n",
       "    <tr>\n",
       "      <th>2013-01-31</th>\n",
       "      <td>-0.003502</td>\n",
       "      <td>1.152828</td>\n",
       "      <td>3.717634</td>\n",
       "      <td>0.037692</td>\n",
       "    </tr>\n",
       "    <tr>\n",
       "      <th>2013-02-28</th>\n",
       "      <td>0.892275</td>\n",
       "      <td>0.343000</td>\n",
       "      <td>-0.808303</td>\n",
       "      <td>-0.898209</td>\n",
       "    </tr>\n",
       "    <tr>\n",
       "      <th>2013-03-31</th>\n",
       "      <td>-0.390379</td>\n",
       "      <td>-0.438595</td>\n",
       "      <td>0.672244</td>\n",
       "      <td>0.081278</td>\n",
       "    </tr>\n",
       "  </tbody>\n",
       "</table>\n",
       "</div>"
      ],
      "text/plain": [
       "                 Ann       Bob    Charly       Don\n",
       "2013-01-31 -0.003502  1.152828  3.717634  0.037692\n",
       "2013-02-28  0.892275  0.343000 -0.808303 -0.898209\n",
       "2013-03-31 -0.390379 -0.438595  0.672244  0.081278"
      ]
     },
     "execution_count": 12,
     "metadata": {},
     "output_type": "execute_result"
    }
   ],
   "source": [
    "df.head(3)"
   ]
  },
  {
   "cell_type": "code",
   "execution_count": 13,
   "metadata": {
    "ExecuteTime": {
     "end_time": "2017-09-18T19:51:29.144447",
     "start_time": "2017-09-18T19:51:29.120774"
    }
   },
   "outputs": [
    {
     "data": {
      "text/html": [
       "<div>\n",
       "<table border=\"1\" class=\"dataframe\">\n",
       "  <thead>\n",
       "    <tr style=\"text-align: right;\">\n",
       "      <th></th>\n",
       "      <th>Ann</th>\n",
       "      <th>Bob</th>\n",
       "      <th>Charly</th>\n",
       "      <th>Don</th>\n",
       "    </tr>\n",
       "  </thead>\n",
       "  <tbody>\n",
       "    <tr>\n",
       "      <th>2013-04-30</th>\n",
       "      <td>-0.738945</td>\n",
       "      <td>0.605548</td>\n",
       "      <td>-0.581430</td>\n",
       "      <td>0.098590</td>\n",
       "    </tr>\n",
       "    <tr>\n",
       "      <th>2013-05-31</th>\n",
       "      <td>-0.051126</td>\n",
       "      <td>-1.592866</td>\n",
       "      <td>0.180535</td>\n",
       "      <td>-0.060732</td>\n",
       "    </tr>\n",
       "    <tr>\n",
       "      <th>2013-06-30</th>\n",
       "      <td>2.067142</td>\n",
       "      <td>0.433863</td>\n",
       "      <td>-2.547680</td>\n",
       "      <td>0.424048</td>\n",
       "    </tr>\n",
       "  </tbody>\n",
       "</table>\n",
       "</div>"
      ],
      "text/plain": [
       "                 Ann       Bob    Charly       Don\n",
       "2013-04-30 -0.738945  0.605548 -0.581430  0.098590\n",
       "2013-05-31 -0.051126 -1.592866  0.180535 -0.060732\n",
       "2013-06-30  2.067142  0.433863 -2.547680  0.424048"
      ]
     },
     "execution_count": 13,
     "metadata": {},
     "output_type": "execute_result"
    }
   ],
   "source": [
    "df.tail(3)"
   ]
  },
  {
   "cell_type": "code",
   "execution_count": 14,
   "metadata": {
    "ExecuteTime": {
     "end_time": "2017-09-18T19:51:46.039139",
     "start_time": "2017-09-18T19:51:46.033591"
    }
   },
   "outputs": [
    {
     "data": {
      "text/plain": [
       "DatetimeIndex(['2013-01-31', '2013-02-28', '2013-03-31', '2013-04-30',\n",
       "               '2013-05-31', '2013-06-30'],\n",
       "              dtype='datetime64[ns]', freq='M')"
      ]
     },
     "execution_count": 14,
     "metadata": {},
     "output_type": "execute_result"
    }
   ],
   "source": [
    "df.index"
   ]
  },
  {
   "cell_type": "code",
   "execution_count": 15,
   "metadata": {
    "ExecuteTime": {
     "end_time": "2017-09-18T19:52:04.369521",
     "start_time": "2017-09-18T19:52:04.364603"
    }
   },
   "outputs": [
    {
     "data": {
      "text/plain": [
       "Index([u'Ann', u'Bob', u'Charly', u'Don'], dtype='object')"
      ]
     },
     "execution_count": 15,
     "metadata": {},
     "output_type": "execute_result"
    }
   ],
   "source": [
    "df.columns"
   ]
  },
  {
   "cell_type": "code",
   "execution_count": 16,
   "metadata": {
    "ExecuteTime": {
     "end_time": "2017-09-18T19:52:39.142092",
     "start_time": "2017-09-18T19:52:39.134879"
    }
   },
   "outputs": [
    {
     "data": {
      "text/plain": [
       "array([[ -3.50224419e-03,   1.15282819e+00,   3.71763446e+00,\n",
       "          3.76917202e-02],\n",
       "       [  8.92274647e-01,   3.43000342e-01,  -8.08302825e-01,\n",
       "         -8.98209201e-01],\n",
       "       [ -3.90379242e-01,  -4.38594525e-01,   6.72244191e-01,\n",
       "          8.12784256e-02],\n",
       "       [ -7.38945126e-01,   6.05548009e-01,  -5.81430120e-01,\n",
       "          9.85898049e-02],\n",
       "       [ -5.11257328e-02,  -1.59286606e+00,   1.80534564e-01,\n",
       "         -6.07317067e-02],\n",
       "       [  2.06714181e+00,   4.33862827e-01,  -2.54767969e+00,\n",
       "          4.24047873e-01]])"
      ]
     },
     "execution_count": 16,
     "metadata": {},
     "output_type": "execute_result"
    }
   ],
   "source": [
    "df.values"
   ]
  },
  {
   "cell_type": "code",
   "execution_count": 17,
   "metadata": {
    "ExecuteTime": {
     "end_time": "2017-09-18T19:52:58.182753",
     "start_time": "2017-09-18T19:52:58.122310"
    },
    "scrolled": true
   },
   "outputs": [
    {
     "data": {
      "text/html": [
       "<div>\n",
       "<table border=\"1\" class=\"dataframe\">\n",
       "  <thead>\n",
       "    <tr style=\"text-align: right;\">\n",
       "      <th></th>\n",
       "      <th>Ann</th>\n",
       "      <th>Bob</th>\n",
       "      <th>Charly</th>\n",
       "      <th>Don</th>\n",
       "    </tr>\n",
       "  </thead>\n",
       "  <tbody>\n",
       "    <tr>\n",
       "      <th>count</th>\n",
       "      <td>6.000000</td>\n",
       "      <td>6.000000</td>\n",
       "      <td>6.000000</td>\n",
       "      <td>6.000000</td>\n",
       "    </tr>\n",
       "    <tr>\n",
       "      <th>mean</th>\n",
       "      <td>0.295911</td>\n",
       "      <td>0.083963</td>\n",
       "      <td>0.105500</td>\n",
       "      <td>-0.052889</td>\n",
       "    </tr>\n",
       "    <tr>\n",
       "      <th>std</th>\n",
       "      <td>1.024198</td>\n",
       "      <td>0.968388</td>\n",
       "      <td>2.084256</td>\n",
       "      <td>0.445252</td>\n",
       "    </tr>\n",
       "    <tr>\n",
       "      <th>min</th>\n",
       "      <td>-0.738945</td>\n",
       "      <td>-1.592866</td>\n",
       "      <td>-2.547680</td>\n",
       "      <td>-0.898209</td>\n",
       "    </tr>\n",
       "    <tr>\n",
       "      <th>25%</th>\n",
       "      <td>-0.305566</td>\n",
       "      <td>-0.243196</td>\n",
       "      <td>-0.751585</td>\n",
       "      <td>-0.036126</td>\n",
       "    </tr>\n",
       "    <tr>\n",
       "      <th>50%</th>\n",
       "      <td>-0.027314</td>\n",
       "      <td>0.388432</td>\n",
       "      <td>-0.200448</td>\n",
       "      <td>0.059485</td>\n",
       "    </tr>\n",
       "    <tr>\n",
       "      <th>75%</th>\n",
       "      <td>0.668330</td>\n",
       "      <td>0.562627</td>\n",
       "      <td>0.549317</td>\n",
       "      <td>0.094262</td>\n",
       "    </tr>\n",
       "    <tr>\n",
       "      <th>max</th>\n",
       "      <td>2.067142</td>\n",
       "      <td>1.152828</td>\n",
       "      <td>3.717634</td>\n",
       "      <td>0.424048</td>\n",
       "    </tr>\n",
       "  </tbody>\n",
       "</table>\n",
       "</div>"
      ],
      "text/plain": [
       "            Ann       Bob    Charly       Don\n",
       "count  6.000000  6.000000  6.000000  6.000000\n",
       "mean   0.295911  0.083963  0.105500 -0.052889\n",
       "std    1.024198  0.968388  2.084256  0.445252\n",
       "min   -0.738945 -1.592866 -2.547680 -0.898209\n",
       "25%   -0.305566 -0.243196 -0.751585 -0.036126\n",
       "50%   -0.027314  0.388432 -0.200448  0.059485\n",
       "75%    0.668330  0.562627  0.549317  0.094262\n",
       "max    2.067142  1.152828  3.717634  0.424048"
      ]
     },
     "execution_count": 17,
     "metadata": {},
     "output_type": "execute_result"
    }
   ],
   "source": [
    "df.describe()"
   ]
  },
  {
   "cell_type": "code",
   "execution_count": 18,
   "metadata": {
    "ExecuteTime": {
     "end_time": "2017-09-18T19:53:36.072705",
     "start_time": "2017-09-18T19:53:36.066810"
    }
   },
   "outputs": [
    {
     "data": {
      "text/plain": [
       "Index([u'A', u'B', u'C', u'D', u'E', u'F'], dtype='object')"
      ]
     },
     "execution_count": 18,
     "metadata": {},
     "output_type": "execute_result"
    }
   ],
   "source": [
    "df2.columns"
   ]
  },
  {
   "cell_type": "code",
   "execution_count": 19,
   "metadata": {
    "ExecuteTime": {
     "end_time": "2017-09-18T19:53:38.946963",
     "start_time": "2017-09-18T19:53:38.939707"
    }
   },
   "outputs": [
    {
     "data": {
      "text/plain": [
       "A           float64\n",
       "B    datetime64[ns]\n",
       "C           float32\n",
       "D             int32\n",
       "E          category\n",
       "F            object\n",
       "dtype: object"
      ]
     },
     "execution_count": 19,
     "metadata": {},
     "output_type": "execute_result"
    }
   ],
   "source": [
    "df2.dtypes"
   ]
  },
  {
   "cell_type": "code",
   "execution_count": 20,
   "metadata": {
    "ExecuteTime": {
     "end_time": "2017-09-18T19:53:41.706504",
     "start_time": "2017-09-18T19:53:41.651810"
    }
   },
   "outputs": [
    {
     "data": {
      "text/html": [
       "<div>\n",
       "<table border=\"1\" class=\"dataframe\">\n",
       "  <thead>\n",
       "    <tr style=\"text-align: right;\">\n",
       "      <th></th>\n",
       "      <th>A</th>\n",
       "      <th>C</th>\n",
       "      <th>D</th>\n",
       "    </tr>\n",
       "  </thead>\n",
       "  <tbody>\n",
       "    <tr>\n",
       "      <th>count</th>\n",
       "      <td>4.0</td>\n",
       "      <td>4.0</td>\n",
       "      <td>4.0</td>\n",
       "    </tr>\n",
       "    <tr>\n",
       "      <th>mean</th>\n",
       "      <td>1.0</td>\n",
       "      <td>1.0</td>\n",
       "      <td>3.0</td>\n",
       "    </tr>\n",
       "    <tr>\n",
       "      <th>std</th>\n",
       "      <td>0.0</td>\n",
       "      <td>0.0</td>\n",
       "      <td>0.0</td>\n",
       "    </tr>\n",
       "    <tr>\n",
       "      <th>min</th>\n",
       "      <td>1.0</td>\n",
       "      <td>1.0</td>\n",
       "      <td>3.0</td>\n",
       "    </tr>\n",
       "    <tr>\n",
       "      <th>25%</th>\n",
       "      <td>1.0</td>\n",
       "      <td>1.0</td>\n",
       "      <td>3.0</td>\n",
       "    </tr>\n",
       "    <tr>\n",
       "      <th>50%</th>\n",
       "      <td>1.0</td>\n",
       "      <td>1.0</td>\n",
       "      <td>3.0</td>\n",
       "    </tr>\n",
       "    <tr>\n",
       "      <th>75%</th>\n",
       "      <td>1.0</td>\n",
       "      <td>1.0</td>\n",
       "      <td>3.0</td>\n",
       "    </tr>\n",
       "    <tr>\n",
       "      <th>max</th>\n",
       "      <td>1.0</td>\n",
       "      <td>1.0</td>\n",
       "      <td>3.0</td>\n",
       "    </tr>\n",
       "  </tbody>\n",
       "</table>\n",
       "</div>"
      ],
      "text/plain": [
       "         A    C    D\n",
       "count  4.0  4.0  4.0\n",
       "mean   1.0  1.0  3.0\n",
       "std    0.0  0.0  0.0\n",
       "min    1.0  1.0  3.0\n",
       "25%    1.0  1.0  3.0\n",
       "50%    1.0  1.0  3.0\n",
       "75%    1.0  1.0  3.0\n",
       "max    1.0  1.0  3.0"
      ]
     },
     "execution_count": 20,
     "metadata": {},
     "output_type": "execute_result"
    }
   ],
   "source": [
    "df2.describe()"
   ]
  },
  {
   "cell_type": "markdown",
   "metadata": {},
   "source": [
    "Transposing your data"
   ]
  },
  {
   "cell_type": "code",
   "execution_count": 21,
   "metadata": {
    "ExecuteTime": {
     "end_time": "2017-09-18T19:54:03.509393",
     "start_time": "2017-09-18T19:54:03.427860"
    }
   },
   "outputs": [
    {
     "data": {
      "text/html": [
       "<div>\n",
       "<table border=\"1\" class=\"dataframe\">\n",
       "  <thead>\n",
       "    <tr style=\"text-align: right;\">\n",
       "      <th></th>\n",
       "      <th>2013-01-31 00:00:00</th>\n",
       "      <th>2013-02-28 00:00:00</th>\n",
       "      <th>2013-03-31 00:00:00</th>\n",
       "      <th>2013-04-30 00:00:00</th>\n",
       "      <th>2013-05-31 00:00:00</th>\n",
       "      <th>2013-06-30 00:00:00</th>\n",
       "    </tr>\n",
       "  </thead>\n",
       "  <tbody>\n",
       "    <tr>\n",
       "      <th>Ann</th>\n",
       "      <td>-0.003502</td>\n",
       "      <td>0.892275</td>\n",
       "      <td>-0.390379</td>\n",
       "      <td>-0.738945</td>\n",
       "      <td>-0.051126</td>\n",
       "      <td>2.067142</td>\n",
       "    </tr>\n",
       "    <tr>\n",
       "      <th>Bob</th>\n",
       "      <td>1.152828</td>\n",
       "      <td>0.343000</td>\n",
       "      <td>-0.438595</td>\n",
       "      <td>0.605548</td>\n",
       "      <td>-1.592866</td>\n",
       "      <td>0.433863</td>\n",
       "    </tr>\n",
       "    <tr>\n",
       "      <th>Charly</th>\n",
       "      <td>3.717634</td>\n",
       "      <td>-0.808303</td>\n",
       "      <td>0.672244</td>\n",
       "      <td>-0.581430</td>\n",
       "      <td>0.180535</td>\n",
       "      <td>-2.547680</td>\n",
       "    </tr>\n",
       "    <tr>\n",
       "      <th>Don</th>\n",
       "      <td>0.037692</td>\n",
       "      <td>-0.898209</td>\n",
       "      <td>0.081278</td>\n",
       "      <td>0.098590</td>\n",
       "      <td>-0.060732</td>\n",
       "      <td>0.424048</td>\n",
       "    </tr>\n",
       "  </tbody>\n",
       "</table>\n",
       "</div>"
      ],
      "text/plain": [
       "        2013-01-31  2013-02-28  2013-03-31  2013-04-30  2013-05-31  2013-06-30\n",
       "Ann      -0.003502    0.892275   -0.390379   -0.738945   -0.051126    2.067142\n",
       "Bob       1.152828    0.343000   -0.438595    0.605548   -1.592866    0.433863\n",
       "Charly    3.717634   -0.808303    0.672244   -0.581430    0.180535   -2.547680\n",
       "Don       0.037692   -0.898209    0.081278    0.098590   -0.060732    0.424048"
      ]
     },
     "execution_count": 21,
     "metadata": {},
     "output_type": "execute_result"
    }
   ],
   "source": [
    "df.T"
   ]
  },
  {
   "cell_type": "markdown",
   "metadata": {},
   "source": [
    "Sorting by an axis"
   ]
  },
  {
   "cell_type": "code",
   "execution_count": 23,
   "metadata": {
    "ExecuteTime": {
     "end_time": "2017-09-18T19:55:26.404367",
     "start_time": "2017-09-18T19:55:26.376623"
    }
   },
   "outputs": [
    {
     "data": {
      "text/html": [
       "<div>\n",
       "<table border=\"1\" class=\"dataframe\">\n",
       "  <thead>\n",
       "    <tr style=\"text-align: right;\">\n",
       "      <th></th>\n",
       "      <th>Ann</th>\n",
       "      <th>Bob</th>\n",
       "      <th>Charly</th>\n",
       "      <th>Don</th>\n",
       "    </tr>\n",
       "  </thead>\n",
       "  <tbody>\n",
       "    <tr>\n",
       "      <th>2013-06-30</th>\n",
       "      <td>2.067142</td>\n",
       "      <td>0.433863</td>\n",
       "      <td>-2.547680</td>\n",
       "      <td>0.424048</td>\n",
       "    </tr>\n",
       "    <tr>\n",
       "      <th>2013-05-31</th>\n",
       "      <td>-0.051126</td>\n",
       "      <td>-1.592866</td>\n",
       "      <td>0.180535</td>\n",
       "      <td>-0.060732</td>\n",
       "    </tr>\n",
       "    <tr>\n",
       "      <th>2013-04-30</th>\n",
       "      <td>-0.738945</td>\n",
       "      <td>0.605548</td>\n",
       "      <td>-0.581430</td>\n",
       "      <td>0.098590</td>\n",
       "    </tr>\n",
       "    <tr>\n",
       "      <th>2013-03-31</th>\n",
       "      <td>-0.390379</td>\n",
       "      <td>-0.438595</td>\n",
       "      <td>0.672244</td>\n",
       "      <td>0.081278</td>\n",
       "    </tr>\n",
       "    <tr>\n",
       "      <th>2013-02-28</th>\n",
       "      <td>0.892275</td>\n",
       "      <td>0.343000</td>\n",
       "      <td>-0.808303</td>\n",
       "      <td>-0.898209</td>\n",
       "    </tr>\n",
       "    <tr>\n",
       "      <th>2013-01-31</th>\n",
       "      <td>-0.003502</td>\n",
       "      <td>1.152828</td>\n",
       "      <td>3.717634</td>\n",
       "      <td>0.037692</td>\n",
       "    </tr>\n",
       "  </tbody>\n",
       "</table>\n",
       "</div>"
      ],
      "text/plain": [
       "                 Ann       Bob    Charly       Don\n",
       "2013-06-30  2.067142  0.433863 -2.547680  0.424048\n",
       "2013-05-31 -0.051126 -1.592866  0.180535 -0.060732\n",
       "2013-04-30 -0.738945  0.605548 -0.581430  0.098590\n",
       "2013-03-31 -0.390379 -0.438595  0.672244  0.081278\n",
       "2013-02-28  0.892275  0.343000 -0.808303 -0.898209\n",
       "2013-01-31 -0.003502  1.152828  3.717634  0.037692"
      ]
     },
     "execution_count": 23,
     "metadata": {},
     "output_type": "execute_result"
    }
   ],
   "source": [
    "df.sort_index(axis=0, ascending=False) # axis = 0 => sort rows, 1 => sort columns"
   ]
  },
  {
   "cell_type": "markdown",
   "metadata": {},
   "source": [
    "Sorting by values"
   ]
  },
  {
   "cell_type": "code",
   "execution_count": 27,
   "metadata": {
    "ExecuteTime": {
     "end_time": "2017-09-18T20:01:11.831321",
     "start_time": "2017-09-18T20:01:11.800292"
    }
   },
   "outputs": [
    {
     "data": {
      "text/html": [
       "<div>\n",
       "<table border=\"1\" class=\"dataframe\">\n",
       "  <thead>\n",
       "    <tr style=\"text-align: right;\">\n",
       "      <th></th>\n",
       "      <th>Ann</th>\n",
       "      <th>Bob</th>\n",
       "      <th>Charly</th>\n",
       "      <th>Don</th>\n",
       "    </tr>\n",
       "  </thead>\n",
       "  <tbody>\n",
       "    <tr>\n",
       "      <th>2013-05-31</th>\n",
       "      <td>-0.051126</td>\n",
       "      <td>-1.592866</td>\n",
       "      <td>0.180535</td>\n",
       "      <td>-0.060732</td>\n",
       "    </tr>\n",
       "    <tr>\n",
       "      <th>2013-03-31</th>\n",
       "      <td>-0.390379</td>\n",
       "      <td>-0.438595</td>\n",
       "      <td>0.672244</td>\n",
       "      <td>0.081278</td>\n",
       "    </tr>\n",
       "    <tr>\n",
       "      <th>2013-02-28</th>\n",
       "      <td>0.892275</td>\n",
       "      <td>0.343000</td>\n",
       "      <td>-0.808303</td>\n",
       "      <td>-0.898209</td>\n",
       "    </tr>\n",
       "    <tr>\n",
       "      <th>2013-06-30</th>\n",
       "      <td>2.067142</td>\n",
       "      <td>0.433863</td>\n",
       "      <td>-2.547680</td>\n",
       "      <td>0.424048</td>\n",
       "    </tr>\n",
       "    <tr>\n",
       "      <th>2013-04-30</th>\n",
       "      <td>-0.738945</td>\n",
       "      <td>0.605548</td>\n",
       "      <td>-0.581430</td>\n",
       "      <td>0.098590</td>\n",
       "    </tr>\n",
       "    <tr>\n",
       "      <th>2013-01-31</th>\n",
       "      <td>-0.003502</td>\n",
       "      <td>1.152828</td>\n",
       "      <td>3.717634</td>\n",
       "      <td>0.037692</td>\n",
       "    </tr>\n",
       "  </tbody>\n",
       "</table>\n",
       "</div>"
      ],
      "text/plain": [
       "                 Ann       Bob    Charly       Don\n",
       "2013-05-31 -0.051126 -1.592866  0.180535 -0.060732\n",
       "2013-03-31 -0.390379 -0.438595  0.672244  0.081278\n",
       "2013-02-28  0.892275  0.343000 -0.808303 -0.898209\n",
       "2013-06-30  2.067142  0.433863 -2.547680  0.424048\n",
       "2013-04-30 -0.738945  0.605548 -0.581430  0.098590\n",
       "2013-01-31 -0.003502  1.152828  3.717634  0.037692"
      ]
     },
     "execution_count": 27,
     "metadata": {},
     "output_type": "execute_result"
    }
   ],
   "source": [
    "df.sort_index(axis=0).sort_values(by=['Bob','Ann'], ascending=True)"
   ]
  },
  {
   "cell_type": "markdown",
   "metadata": {},
   "source": [
    "# Selection\n",
    "***Note:*** While standard Python / Numpy expressions for selecting and setting are intuitive and come in handy for interactive work, for production code, we recommend the optimized pandas data access methods, `.at`, .`iat`, `.loc`, `.iloc` and `.ix`.\n",
    "\n",
    "See the indexing documentation [Indexing and Selecting Data](http://pandas.pydata.org/pandas-docs/stable/indexing.html#indexing) and [MultiIndex / Advanced Indexing](http://pandas.pydata.org/pandas-docs/stable/advanced.html#advanced).\n",
    "\n",
    "Basically: `loc` is for label-based indexing; `iloc` is for indexing by row number; `ix` first tries to use labels, and if it fails, it goes to integer row-number indexing. These methods can all be used to select several elements at once. By contrast, `at` provides fast label-based indexing _for a single element_, and `iat` provides fast row-number indexing _for a single element_.\n",
    "\n",
    "## Getting\n",
    "\n",
    "Selecting a single column, which yields a `Series`, equivalent to `df.Ann`"
   ]
  },
  {
   "cell_type": "code",
   "execution_count": 29,
   "metadata": {
    "ExecuteTime": {
     "end_time": "2017-09-18T20:13:30.076141",
     "start_time": "2017-09-18T20:13:30.047461"
    }
   },
   "outputs": [
    {
     "data": {
      "text/plain": [
       "2013-01-31   -0.003502\n",
       "2013-02-28    0.892275\n",
       "2013-03-31   -0.390379\n",
       "2013-04-30   -0.738945\n",
       "2013-05-31   -0.051126\n",
       "2013-06-30    2.067142\n",
       "Freq: M, Name: Ann, dtype: float64"
      ]
     },
     "execution_count": 29,
     "metadata": {},
     "output_type": "execute_result"
    }
   ],
   "source": [
    "df.Ann"
   ]
  },
  {
   "cell_type": "code",
   "execution_count": 28,
   "metadata": {
    "ExecuteTime": {
     "end_time": "2017-09-18T20:13:17.799405",
     "start_time": "2017-09-18T20:13:17.762768"
    }
   },
   "outputs": [
    {
     "data": {
      "text/plain": [
       "2013-01-31   -0.003502\n",
       "2013-02-28    0.892275\n",
       "2013-03-31   -0.390379\n",
       "2013-04-30   -0.738945\n",
       "2013-05-31   -0.051126\n",
       "2013-06-30    2.067142\n",
       "Freq: M, Name: Ann, dtype: float64"
      ]
     },
     "execution_count": 28,
     "metadata": {},
     "output_type": "execute_result"
    }
   ],
   "source": [
    "df['Ann']"
   ]
  },
  {
   "cell_type": "markdown",
   "metadata": {},
   "source": [
    "Selecting via [], which slices the rows."
   ]
  },
  {
   "cell_type": "code",
   "execution_count": 30,
   "metadata": {
    "ExecuteTime": {
     "end_time": "2017-09-18T20:13:44.278388",
     "start_time": "2017-09-18T20:13:44.259033"
    }
   },
   "outputs": [
    {
     "data": {
      "text/html": [
       "<div>\n",
       "<table border=\"1\" class=\"dataframe\">\n",
       "  <thead>\n",
       "    <tr style=\"text-align: right;\">\n",
       "      <th></th>\n",
       "      <th>Ann</th>\n",
       "      <th>Bob</th>\n",
       "      <th>Charly</th>\n",
       "      <th>Don</th>\n",
       "    </tr>\n",
       "  </thead>\n",
       "  <tbody>\n",
       "    <tr>\n",
       "      <th>2013-02-28</th>\n",
       "      <td>0.892275</td>\n",
       "      <td>0.343000</td>\n",
       "      <td>-0.808303</td>\n",
       "      <td>-0.898209</td>\n",
       "    </tr>\n",
       "    <tr>\n",
       "      <th>2013-03-31</th>\n",
       "      <td>-0.390379</td>\n",
       "      <td>-0.438595</td>\n",
       "      <td>0.672244</td>\n",
       "      <td>0.081278</td>\n",
       "    </tr>\n",
       "  </tbody>\n",
       "</table>\n",
       "</div>"
      ],
      "text/plain": [
       "                 Ann       Bob    Charly       Don\n",
       "2013-02-28  0.892275  0.343000 -0.808303 -0.898209\n",
       "2013-03-31 -0.390379 -0.438595  0.672244  0.081278"
      ]
     },
     "execution_count": 30,
     "metadata": {},
     "output_type": "execute_result"
    }
   ],
   "source": [
    "df[1:3]"
   ]
  },
  {
   "cell_type": "code",
   "execution_count": 33,
   "metadata": {
    "ExecuteTime": {
     "end_time": "2017-09-18T20:14:20.054465",
     "start_time": "2017-09-18T20:14:20.020676"
    }
   },
   "outputs": [
    {
     "data": {
      "text/html": [
       "<div>\n",
       "<table border=\"1\" class=\"dataframe\">\n",
       "  <thead>\n",
       "    <tr style=\"text-align: right;\">\n",
       "      <th></th>\n",
       "      <th>Ann</th>\n",
       "      <th>Bob</th>\n",
       "      <th>Charly</th>\n",
       "      <th>Don</th>\n",
       "    </tr>\n",
       "  </thead>\n",
       "  <tbody>\n",
       "    <tr>\n",
       "      <th>2013-02-28</th>\n",
       "      <td>0.892275</td>\n",
       "      <td>0.343000</td>\n",
       "      <td>-0.808303</td>\n",
       "      <td>-0.898209</td>\n",
       "    </tr>\n",
       "    <tr>\n",
       "      <th>2013-03-31</th>\n",
       "      <td>-0.390379</td>\n",
       "      <td>-0.438595</td>\n",
       "      <td>0.672244</td>\n",
       "      <td>0.081278</td>\n",
       "    </tr>\n",
       "  </tbody>\n",
       "</table>\n",
       "</div>"
      ],
      "text/plain": [
       "                 Ann       Bob    Charly       Don\n",
       "2013-02-28  0.892275  0.343000 -0.808303 -0.898209\n",
       "2013-03-31 -0.390379 -0.438595  0.672244  0.081278"
      ]
     },
     "execution_count": 33,
     "metadata": {},
     "output_type": "execute_result"
    }
   ],
   "source": [
    "df['20130228':'20130331']"
   ]
  },
  {
   "cell_type": "markdown",
   "metadata": {},
   "source": [
    "## Selection by Label\n",
    "\n",
    "See more in [Selection by Label](http://pandas.pydata.org/pandas-docs/stable/indexing.html#indexing-label)\n",
    "\n",
    "For getting a cross section using a label"
   ]
  },
  {
   "cell_type": "code",
   "execution_count": 34,
   "metadata": {
    "ExecuteTime": {
     "end_time": "2017-09-18T20:14:38.653854",
     "start_time": "2017-09-18T20:14:38.647302"
    }
   },
   "outputs": [
    {
     "data": {
      "text/plain": [
       "DatetimeIndex(['2013-01-31', '2013-02-28', '2013-03-31', '2013-04-30',\n",
       "               '2013-05-31', '2013-06-30'],\n",
       "              dtype='datetime64[ns]', freq='M')"
      ]
     },
     "execution_count": 34,
     "metadata": {},
     "output_type": "execute_result"
    }
   ],
   "source": [
    "dates"
   ]
  },
  {
   "cell_type": "code",
   "execution_count": 35,
   "metadata": {
    "ExecuteTime": {
     "end_time": "2017-09-18T20:14:41.353272",
     "start_time": "2017-09-18T20:14:41.347795"
    }
   },
   "outputs": [
    {
     "data": {
      "text/plain": [
       "Timestamp('2013-01-31 00:00:00', freq='M')"
      ]
     },
     "execution_count": 35,
     "metadata": {},
     "output_type": "execute_result"
    }
   ],
   "source": [
    "dates[0]"
   ]
  },
  {
   "cell_type": "code",
   "execution_count": 36,
   "metadata": {
    "ExecuteTime": {
     "end_time": "2017-09-18T20:14:49.308518",
     "start_time": "2017-09-18T20:14:49.278754"
    }
   },
   "outputs": [
    {
     "data": {
      "text/html": [
       "<div>\n",
       "<table border=\"1\" class=\"dataframe\">\n",
       "  <thead>\n",
       "    <tr style=\"text-align: right;\">\n",
       "      <th></th>\n",
       "      <th>Ann</th>\n",
       "      <th>Bob</th>\n",
       "      <th>Charly</th>\n",
       "      <th>Don</th>\n",
       "    </tr>\n",
       "  </thead>\n",
       "  <tbody>\n",
       "    <tr>\n",
       "      <th>2013-01-31</th>\n",
       "      <td>-0.003502</td>\n",
       "      <td>1.152828</td>\n",
       "      <td>3.717634</td>\n",
       "      <td>0.037692</td>\n",
       "    </tr>\n",
       "    <tr>\n",
       "      <th>2013-02-28</th>\n",
       "      <td>0.892275</td>\n",
       "      <td>0.343000</td>\n",
       "      <td>-0.808303</td>\n",
       "      <td>-0.898209</td>\n",
       "    </tr>\n",
       "    <tr>\n",
       "      <th>2013-03-31</th>\n",
       "      <td>-0.390379</td>\n",
       "      <td>-0.438595</td>\n",
       "      <td>0.672244</td>\n",
       "      <td>0.081278</td>\n",
       "    </tr>\n",
       "    <tr>\n",
       "      <th>2013-04-30</th>\n",
       "      <td>-0.738945</td>\n",
       "      <td>0.605548</td>\n",
       "      <td>-0.581430</td>\n",
       "      <td>0.098590</td>\n",
       "    </tr>\n",
       "    <tr>\n",
       "      <th>2013-05-31</th>\n",
       "      <td>-0.051126</td>\n",
       "      <td>-1.592866</td>\n",
       "      <td>0.180535</td>\n",
       "      <td>-0.060732</td>\n",
       "    </tr>\n",
       "    <tr>\n",
       "      <th>2013-06-30</th>\n",
       "      <td>2.067142</td>\n",
       "      <td>0.433863</td>\n",
       "      <td>-2.547680</td>\n",
       "      <td>0.424048</td>\n",
       "    </tr>\n",
       "  </tbody>\n",
       "</table>\n",
       "</div>"
      ],
      "text/plain": [
       "                 Ann       Bob    Charly       Don\n",
       "2013-01-31 -0.003502  1.152828  3.717634  0.037692\n",
       "2013-02-28  0.892275  0.343000 -0.808303 -0.898209\n",
       "2013-03-31 -0.390379 -0.438595  0.672244  0.081278\n",
       "2013-04-30 -0.738945  0.605548 -0.581430  0.098590\n",
       "2013-05-31 -0.051126 -1.592866  0.180535 -0.060732\n",
       "2013-06-30  2.067142  0.433863 -2.547680  0.424048"
      ]
     },
     "execution_count": 36,
     "metadata": {},
     "output_type": "execute_result"
    }
   ],
   "source": [
    "df"
   ]
  },
  {
   "cell_type": "code",
   "execution_count": 38,
   "metadata": {
    "ExecuteTime": {
     "end_time": "2017-09-18T20:15:20.522428",
     "start_time": "2017-09-18T20:15:20.486295"
    }
   },
   "outputs": [
    {
     "data": {
      "text/html": [
       "<div>\n",
       "<table border=\"1\" class=\"dataframe\">\n",
       "  <thead>\n",
       "    <tr style=\"text-align: right;\">\n",
       "      <th></th>\n",
       "      <th>Ann</th>\n",
       "      <th>Bob</th>\n",
       "      <th>Charly</th>\n",
       "      <th>Don</th>\n",
       "    </tr>\n",
       "  </thead>\n",
       "  <tbody>\n",
       "    <tr>\n",
       "      <th>2013-01-31</th>\n",
       "      <td>-0.003502</td>\n",
       "      <td>1.152828</td>\n",
       "      <td>3.717634</td>\n",
       "      <td>0.037692</td>\n",
       "    </tr>\n",
       "    <tr>\n",
       "      <th>2013-02-28</th>\n",
       "      <td>0.892275</td>\n",
       "      <td>0.343000</td>\n",
       "      <td>-0.808303</td>\n",
       "      <td>-0.898209</td>\n",
       "    </tr>\n",
       "    <tr>\n",
       "      <th>2013-03-31</th>\n",
       "      <td>-0.390379</td>\n",
       "      <td>-0.438595</td>\n",
       "      <td>0.672244</td>\n",
       "      <td>0.081278</td>\n",
       "    </tr>\n",
       "  </tbody>\n",
       "</table>\n",
       "</div>"
      ],
      "text/plain": [
       "                 Ann       Bob    Charly       Don\n",
       "2013-01-31 -0.003502  1.152828  3.717634  0.037692\n",
       "2013-02-28  0.892275  0.343000 -0.808303 -0.898209\n",
       "2013-03-31 -0.390379 -0.438595  0.672244  0.081278"
      ]
     },
     "execution_count": 38,
     "metadata": {},
     "output_type": "execute_result"
    }
   ],
   "source": [
    "df.loc[dates[0:3]]"
   ]
  },
  {
   "cell_type": "markdown",
   "metadata": {},
   "source": [
    "Selecting on a multi-axis by label"
   ]
  },
  {
   "cell_type": "code",
   "execution_count": 39,
   "metadata": {
    "ExecuteTime": {
     "end_time": "2017-09-18T20:15:51.331735",
     "start_time": "2017-09-18T20:15:51.318986"
    }
   },
   "outputs": [
    {
     "data": {
      "text/html": [
       "<div>\n",
       "<table border=\"1\" class=\"dataframe\">\n",
       "  <thead>\n",
       "    <tr style=\"text-align: right;\">\n",
       "      <th></th>\n",
       "      <th>Ann</th>\n",
       "      <th>Bob</th>\n",
       "    </tr>\n",
       "  </thead>\n",
       "  <tbody>\n",
       "    <tr>\n",
       "      <th>2013-01-31</th>\n",
       "      <td>-0.003502</td>\n",
       "      <td>1.152828</td>\n",
       "    </tr>\n",
       "    <tr>\n",
       "      <th>2013-02-28</th>\n",
       "      <td>0.892275</td>\n",
       "      <td>0.343000</td>\n",
       "    </tr>\n",
       "    <tr>\n",
       "      <th>2013-03-31</th>\n",
       "      <td>-0.390379</td>\n",
       "      <td>-0.438595</td>\n",
       "    </tr>\n",
       "    <tr>\n",
       "      <th>2013-04-30</th>\n",
       "      <td>-0.738945</td>\n",
       "      <td>0.605548</td>\n",
       "    </tr>\n",
       "    <tr>\n",
       "      <th>2013-05-31</th>\n",
       "      <td>-0.051126</td>\n",
       "      <td>-1.592866</td>\n",
       "    </tr>\n",
       "    <tr>\n",
       "      <th>2013-06-30</th>\n",
       "      <td>2.067142</td>\n",
       "      <td>0.433863</td>\n",
       "    </tr>\n",
       "  </tbody>\n",
       "</table>\n",
       "</div>"
      ],
      "text/plain": [
       "                 Ann       Bob\n",
       "2013-01-31 -0.003502  1.152828\n",
       "2013-02-28  0.892275  0.343000\n",
       "2013-03-31 -0.390379 -0.438595\n",
       "2013-04-30 -0.738945  0.605548\n",
       "2013-05-31 -0.051126 -1.592866\n",
       "2013-06-30  2.067142  0.433863"
      ]
     },
     "execution_count": 39,
     "metadata": {},
     "output_type": "execute_result"
    }
   ],
   "source": [
    "df.loc[:,['Ann','Bob']]"
   ]
  },
  {
   "cell_type": "markdown",
   "metadata": {},
   "source": [
    "Showing label slicing, both endpoints are *included*"
   ]
  },
  {
   "cell_type": "code",
   "execution_count": 40,
   "metadata": {
    "ExecuteTime": {
     "end_time": "2017-09-18T20:16:26.726074",
     "start_time": "2017-09-18T20:16:26.697383"
    }
   },
   "outputs": [
    {
     "data": {
      "text/html": [
       "<div>\n",
       "<table border=\"1\" class=\"dataframe\">\n",
       "  <thead>\n",
       "    <tr style=\"text-align: right;\">\n",
       "      <th></th>\n",
       "      <th>Ann</th>\n",
       "      <th>Bob</th>\n",
       "    </tr>\n",
       "  </thead>\n",
       "  <tbody>\n",
       "    <tr>\n",
       "      <th>2013-01-31</th>\n",
       "      <td>-0.003502</td>\n",
       "      <td>1.152828</td>\n",
       "    </tr>\n",
       "    <tr>\n",
       "      <th>2013-02-28</th>\n",
       "      <td>0.892275</td>\n",
       "      <td>0.343000</td>\n",
       "    </tr>\n",
       "    <tr>\n",
       "      <th>2013-03-31</th>\n",
       "      <td>-0.390379</td>\n",
       "      <td>-0.438595</td>\n",
       "    </tr>\n",
       "    <tr>\n",
       "      <th>2013-04-30</th>\n",
       "      <td>-0.738945</td>\n",
       "      <td>0.605548</td>\n",
       "    </tr>\n",
       "  </tbody>\n",
       "</table>\n",
       "</div>"
      ],
      "text/plain": [
       "                 Ann       Bob\n",
       "2013-01-31 -0.003502  1.152828\n",
       "2013-02-28  0.892275  0.343000\n",
       "2013-03-31 -0.390379 -0.438595\n",
       "2013-04-30 -0.738945  0.605548"
      ]
     },
     "execution_count": 40,
     "metadata": {},
     "output_type": "execute_result"
    }
   ],
   "source": [
    "df.loc['20130131':'20130430',['Ann','Bob']]"
   ]
  },
  {
   "cell_type": "markdown",
   "metadata": {},
   "source": [
    "Reduction in the dimensions of the returned object"
   ]
  },
  {
   "cell_type": "code",
   "execution_count": 43,
   "metadata": {
    "ExecuteTime": {
     "end_time": "2017-09-18T20:17:33.016427",
     "start_time": "2017-09-18T20:17:33.001447"
    }
   },
   "outputs": [
    {
     "data": {
      "text/plain": [
       "pandas.core.series.Series"
      ]
     },
     "execution_count": 43,
     "metadata": {},
     "output_type": "execute_result"
    }
   ],
   "source": [
    "type(df.loc['20130131',['Ann','Bob']])"
   ]
  },
  {
   "cell_type": "markdown",
   "metadata": {},
   "source": [
    "For getting a scalar value"
   ]
  },
  {
   "cell_type": "code",
   "execution_count": 44,
   "metadata": {
    "ExecuteTime": {
     "end_time": "2017-09-18T20:17:59.946029",
     "start_time": "2017-09-18T20:17:59.938605"
    }
   },
   "outputs": [
    {
     "name": "stdout",
     "output_type": "stream",
     "text": [
      "CPU times: user 779 µs, sys: 0 ns, total: 779 µs\n",
      "Wall time: 602 µs\n"
     ]
    },
    {
     "data": {
      "text/plain": [
       "-0.0035022441885232273"
      ]
     },
     "execution_count": 44,
     "metadata": {},
     "output_type": "execute_result"
    }
   ],
   "source": [
    "%time df.loc[dates[0],'Ann']"
   ]
  },
  {
   "cell_type": "markdown",
   "metadata": {},
   "source": [
    "For getting fast access to a scalar (equiv to the prior method)"
   ]
  },
  {
   "cell_type": "code",
   "execution_count": 45,
   "metadata": {
    "ExecuteTime": {
     "end_time": "2017-09-18T20:18:01.624831",
     "start_time": "2017-09-18T20:18:01.617754"
    }
   },
   "outputs": [
    {
     "name": "stdout",
     "output_type": "stream",
     "text": [
      "CPU times: user 537 µs, sys: 0 ns, total: 537 µs\n",
      "Wall time: 191 µs\n"
     ]
    },
    {
     "data": {
      "text/plain": [
       "-0.0035022441885232273"
      ]
     },
     "execution_count": 45,
     "metadata": {},
     "output_type": "execute_result"
    }
   ],
   "source": [
    "%time df.at[dates[0],'Ann']"
   ]
  },
  {
   "cell_type": "markdown",
   "metadata": {},
   "source": [
    "## Selection by Position\n",
    "\n",
    "See more in [Selection by Position](http://pandas.pydata.org/pandas-docs/stable/indexing.html#indexing-integer)\n",
    "\n",
    "Select via the position of the passed integers"
   ]
  },
  {
   "cell_type": "code",
   "execution_count": 46,
   "metadata": {
    "ExecuteTime": {
     "end_time": "2017-09-18T20:20:44.514451",
     "start_time": "2017-09-18T20:20:44.482264"
    }
   },
   "outputs": [
    {
     "data": {
      "text/html": [
       "<div>\n",
       "<table border=\"1\" class=\"dataframe\">\n",
       "  <thead>\n",
       "    <tr style=\"text-align: right;\">\n",
       "      <th></th>\n",
       "      <th>Ann</th>\n",
       "      <th>Bob</th>\n",
       "      <th>Charly</th>\n",
       "      <th>Don</th>\n",
       "    </tr>\n",
       "  </thead>\n",
       "  <tbody>\n",
       "    <tr>\n",
       "      <th>2013-01-31</th>\n",
       "      <td>-0.003502</td>\n",
       "      <td>1.152828</td>\n",
       "      <td>3.717634</td>\n",
       "      <td>0.037692</td>\n",
       "    </tr>\n",
       "    <tr>\n",
       "      <th>2013-02-28</th>\n",
       "      <td>0.892275</td>\n",
       "      <td>0.343000</td>\n",
       "      <td>-0.808303</td>\n",
       "      <td>-0.898209</td>\n",
       "    </tr>\n",
       "    <tr>\n",
       "      <th>2013-03-31</th>\n",
       "      <td>-0.390379</td>\n",
       "      <td>-0.438595</td>\n",
       "      <td>0.672244</td>\n",
       "      <td>0.081278</td>\n",
       "    </tr>\n",
       "    <tr>\n",
       "      <th>2013-04-30</th>\n",
       "      <td>-0.738945</td>\n",
       "      <td>0.605548</td>\n",
       "      <td>-0.581430</td>\n",
       "      <td>0.098590</td>\n",
       "    </tr>\n",
       "    <tr>\n",
       "      <th>2013-05-31</th>\n",
       "      <td>-0.051126</td>\n",
       "      <td>-1.592866</td>\n",
       "      <td>0.180535</td>\n",
       "      <td>-0.060732</td>\n",
       "    </tr>\n",
       "    <tr>\n",
       "      <th>2013-06-30</th>\n",
       "      <td>2.067142</td>\n",
       "      <td>0.433863</td>\n",
       "      <td>-2.547680</td>\n",
       "      <td>0.424048</td>\n",
       "    </tr>\n",
       "  </tbody>\n",
       "</table>\n",
       "</div>"
      ],
      "text/plain": [
       "                 Ann       Bob    Charly       Don\n",
       "2013-01-31 -0.003502  1.152828  3.717634  0.037692\n",
       "2013-02-28  0.892275  0.343000 -0.808303 -0.898209\n",
       "2013-03-31 -0.390379 -0.438595  0.672244  0.081278\n",
       "2013-04-30 -0.738945  0.605548 -0.581430  0.098590\n",
       "2013-05-31 -0.051126 -1.592866  0.180535 -0.060732\n",
       "2013-06-30  2.067142  0.433863 -2.547680  0.424048"
      ]
     },
     "execution_count": 46,
     "metadata": {},
     "output_type": "execute_result"
    }
   ],
   "source": [
    "df"
   ]
  },
  {
   "cell_type": "code",
   "execution_count": 47,
   "metadata": {
    "ExecuteTime": {
     "end_time": "2017-09-18T20:20:54.742296",
     "start_time": "2017-09-18T20:20:54.735324"
    }
   },
   "outputs": [
    {
     "data": {
      "text/plain": [
       "Ann      -0.738945\n",
       "Bob       0.605548\n",
       "Charly   -0.581430\n",
       "Don       0.098590\n",
       "Name: 2013-04-30 00:00:00, dtype: float64"
      ]
     },
     "execution_count": 47,
     "metadata": {},
     "output_type": "execute_result"
    }
   ],
   "source": [
    "df.iloc[3]"
   ]
  },
  {
   "cell_type": "markdown",
   "metadata": {},
   "source": [
    "By integer slices, acting similar to numpy/python"
   ]
  },
  {
   "cell_type": "code",
   "execution_count": 48,
   "metadata": {
    "ExecuteTime": {
     "end_time": "2017-09-18T20:21:12.952403",
     "start_time": "2017-09-18T20:21:12.938695"
    }
   },
   "outputs": [
    {
     "data": {
      "text/html": [
       "<div>\n",
       "<table border=\"1\" class=\"dataframe\">\n",
       "  <thead>\n",
       "    <tr style=\"text-align: right;\">\n",
       "      <th></th>\n",
       "      <th>Ann</th>\n",
       "      <th>Bob</th>\n",
       "    </tr>\n",
       "  </thead>\n",
       "  <tbody>\n",
       "    <tr>\n",
       "      <th>2013-04-30</th>\n",
       "      <td>-0.738945</td>\n",
       "      <td>0.605548</td>\n",
       "    </tr>\n",
       "    <tr>\n",
       "      <th>2013-05-31</th>\n",
       "      <td>-0.051126</td>\n",
       "      <td>-1.592866</td>\n",
       "    </tr>\n",
       "  </tbody>\n",
       "</table>\n",
       "</div>"
      ],
      "text/plain": [
       "                 Ann       Bob\n",
       "2013-04-30 -0.738945  0.605548\n",
       "2013-05-31 -0.051126 -1.592866"
      ]
     },
     "execution_count": 48,
     "metadata": {},
     "output_type": "execute_result"
    }
   ],
   "source": [
    "df.iloc[3:5,0:2]"
   ]
  },
  {
   "cell_type": "markdown",
   "metadata": {},
   "source": [
    "By lists of integer position locations, similar to the numpy/python style"
   ]
  },
  {
   "cell_type": "code",
   "execution_count": 49,
   "metadata": {
    "ExecuteTime": {
     "end_time": "2017-09-18T20:21:41.872894",
     "start_time": "2017-09-18T20:21:41.854764"
    }
   },
   "outputs": [
    {
     "data": {
      "text/html": [
       "<div>\n",
       "<table border=\"1\" class=\"dataframe\">\n",
       "  <thead>\n",
       "    <tr style=\"text-align: right;\">\n",
       "      <th></th>\n",
       "      <th>Ann</th>\n",
       "      <th>Charly</th>\n",
       "    </tr>\n",
       "  </thead>\n",
       "  <tbody>\n",
       "    <tr>\n",
       "      <th>2013-02-28</th>\n",
       "      <td>0.892275</td>\n",
       "      <td>-0.808303</td>\n",
       "    </tr>\n",
       "    <tr>\n",
       "      <th>2013-03-31</th>\n",
       "      <td>-0.390379</td>\n",
       "      <td>0.672244</td>\n",
       "    </tr>\n",
       "    <tr>\n",
       "      <th>2013-05-31</th>\n",
       "      <td>-0.051126</td>\n",
       "      <td>0.180535</td>\n",
       "    </tr>\n",
       "  </tbody>\n",
       "</table>\n",
       "</div>"
      ],
      "text/plain": [
       "                 Ann    Charly\n",
       "2013-02-28  0.892275 -0.808303\n",
       "2013-03-31 -0.390379  0.672244\n",
       "2013-05-31 -0.051126  0.180535"
      ]
     },
     "execution_count": 49,
     "metadata": {},
     "output_type": "execute_result"
    }
   ],
   "source": [
    "df.iloc[[1,2,4],[0,2]]"
   ]
  },
  {
   "cell_type": "markdown",
   "metadata": {},
   "source": [
    "For slicing rows explicitly"
   ]
  },
  {
   "cell_type": "code",
   "execution_count": 50,
   "metadata": {
    "ExecuteTime": {
     "end_time": "2017-09-18T20:21:53.612456",
     "start_time": "2017-09-18T20:21:53.580936"
    }
   },
   "outputs": [
    {
     "data": {
      "text/html": [
       "<div>\n",
       "<table border=\"1\" class=\"dataframe\">\n",
       "  <thead>\n",
       "    <tr style=\"text-align: right;\">\n",
       "      <th></th>\n",
       "      <th>Ann</th>\n",
       "      <th>Bob</th>\n",
       "      <th>Charly</th>\n",
       "      <th>Don</th>\n",
       "    </tr>\n",
       "  </thead>\n",
       "  <tbody>\n",
       "    <tr>\n",
       "      <th>2013-02-28</th>\n",
       "      <td>0.892275</td>\n",
       "      <td>0.343000</td>\n",
       "      <td>-0.808303</td>\n",
       "      <td>-0.898209</td>\n",
       "    </tr>\n",
       "    <tr>\n",
       "      <th>2013-03-31</th>\n",
       "      <td>-0.390379</td>\n",
       "      <td>-0.438595</td>\n",
       "      <td>0.672244</td>\n",
       "      <td>0.081278</td>\n",
       "    </tr>\n",
       "  </tbody>\n",
       "</table>\n",
       "</div>"
      ],
      "text/plain": [
       "                 Ann       Bob    Charly       Don\n",
       "2013-02-28  0.892275  0.343000 -0.808303 -0.898209\n",
       "2013-03-31 -0.390379 -0.438595  0.672244  0.081278"
      ]
     },
     "execution_count": 50,
     "metadata": {},
     "output_type": "execute_result"
    }
   ],
   "source": [
    "df.iloc[1:3,:]"
   ]
  },
  {
   "cell_type": "markdown",
   "metadata": {},
   "source": [
    "For slicing columns explicitly"
   ]
  },
  {
   "cell_type": "code",
   "execution_count": 51,
   "metadata": {
    "ExecuteTime": {
     "end_time": "2017-09-18T20:21:57.357375",
     "start_time": "2017-09-18T20:21:57.339269"
    }
   },
   "outputs": [
    {
     "data": {
      "text/html": [
       "<div>\n",
       "<table border=\"1\" class=\"dataframe\">\n",
       "  <thead>\n",
       "    <tr style=\"text-align: right;\">\n",
       "      <th></th>\n",
       "      <th>Bob</th>\n",
       "      <th>Charly</th>\n",
       "    </tr>\n",
       "  </thead>\n",
       "  <tbody>\n",
       "    <tr>\n",
       "      <th>2013-01-31</th>\n",
       "      <td>1.152828</td>\n",
       "      <td>3.717634</td>\n",
       "    </tr>\n",
       "    <tr>\n",
       "      <th>2013-02-28</th>\n",
       "      <td>0.343000</td>\n",
       "      <td>-0.808303</td>\n",
       "    </tr>\n",
       "    <tr>\n",
       "      <th>2013-03-31</th>\n",
       "      <td>-0.438595</td>\n",
       "      <td>0.672244</td>\n",
       "    </tr>\n",
       "    <tr>\n",
       "      <th>2013-04-30</th>\n",
       "      <td>0.605548</td>\n",
       "      <td>-0.581430</td>\n",
       "    </tr>\n",
       "    <tr>\n",
       "      <th>2013-05-31</th>\n",
       "      <td>-1.592866</td>\n",
       "      <td>0.180535</td>\n",
       "    </tr>\n",
       "    <tr>\n",
       "      <th>2013-06-30</th>\n",
       "      <td>0.433863</td>\n",
       "      <td>-2.547680</td>\n",
       "    </tr>\n",
       "  </tbody>\n",
       "</table>\n",
       "</div>"
      ],
      "text/plain": [
       "                 Bob    Charly\n",
       "2013-01-31  1.152828  3.717634\n",
       "2013-02-28  0.343000 -0.808303\n",
       "2013-03-31 -0.438595  0.672244\n",
       "2013-04-30  0.605548 -0.581430\n",
       "2013-05-31 -1.592866  0.180535\n",
       "2013-06-30  0.433863 -2.547680"
      ]
     },
     "execution_count": 51,
     "metadata": {},
     "output_type": "execute_result"
    }
   ],
   "source": [
    "df.iloc[:,1:3]"
   ]
  },
  {
   "cell_type": "markdown",
   "metadata": {},
   "source": [
    "For getting a value explicitly"
   ]
  },
  {
   "cell_type": "code",
   "execution_count": 52,
   "metadata": {
    "ExecuteTime": {
     "end_time": "2017-09-18T20:22:11.085439",
     "start_time": "2017-09-18T20:22:11.077773"
    }
   },
   "outputs": [
    {
     "name": "stdout",
     "output_type": "stream",
     "text": [
      "0.343000341998\n",
      "CPU times: user 1.75 ms, sys: 0 ns, total: 1.75 ms\n",
      "Wall time: 1.61 ms\n",
      "0.343000341998\n",
      "CPU times: user 0 ns, sys: 0 ns, total: 0 ns\n",
      "Wall time: 98 µs\n"
     ]
    }
   ],
   "source": [
    "%time print df.iloc[1,1]\n",
    "\n",
    "#For getting fast access to a scalar (equiv to the prior method)\n",
    "\n",
    "%time print df.iat[1,1]"
   ]
  },
  {
   "cell_type": "code",
   "execution_count": null,
   "metadata": {
    "collapsed": true
   },
   "outputs": [],
   "source": [
    "# in-class exercise:\n",
    "# Show all values of \"Bob\" and \"Don\" for March-May 2013."
   ]
  },
  {
   "cell_type": "code",
   "execution_count": 58,
   "metadata": {
    "ExecuteTime": {
     "end_time": "2017-09-18T20:26:26.153818",
     "start_time": "2017-09-18T20:26:26.122693"
    }
   },
   "outputs": [
    {
     "data": {
      "text/html": [
       "<div>\n",
       "<table border=\"1\" class=\"dataframe\">\n",
       "  <thead>\n",
       "    <tr style=\"text-align: right;\">\n",
       "      <th></th>\n",
       "      <th>Ann</th>\n",
       "      <th>Bob</th>\n",
       "      <th>Charly</th>\n",
       "      <th>Don</th>\n",
       "    </tr>\n",
       "  </thead>\n",
       "  <tbody>\n",
       "    <tr>\n",
       "      <th>2013-01-31</th>\n",
       "      <td>-0.003502</td>\n",
       "      <td>1.152828</td>\n",
       "      <td>3.717634</td>\n",
       "      <td>0.037692</td>\n",
       "    </tr>\n",
       "    <tr>\n",
       "      <th>2013-02-28</th>\n",
       "      <td>0.892275</td>\n",
       "      <td>0.343000</td>\n",
       "      <td>-0.808303</td>\n",
       "      <td>-0.898209</td>\n",
       "    </tr>\n",
       "    <tr>\n",
       "      <th>2013-03-31</th>\n",
       "      <td>-0.390379</td>\n",
       "      <td>-0.438595</td>\n",
       "      <td>0.672244</td>\n",
       "      <td>0.081278</td>\n",
       "    </tr>\n",
       "    <tr>\n",
       "      <th>2013-04-30</th>\n",
       "      <td>-0.738945</td>\n",
       "      <td>0.605548</td>\n",
       "      <td>-0.581430</td>\n",
       "      <td>0.098590</td>\n",
       "    </tr>\n",
       "    <tr>\n",
       "      <th>2013-05-31</th>\n",
       "      <td>-0.051126</td>\n",
       "      <td>-1.592866</td>\n",
       "      <td>0.180535</td>\n",
       "      <td>-0.060732</td>\n",
       "    </tr>\n",
       "    <tr>\n",
       "      <th>2013-06-30</th>\n",
       "      <td>2.067142</td>\n",
       "      <td>0.433863</td>\n",
       "      <td>-2.547680</td>\n",
       "      <td>0.424048</td>\n",
       "    </tr>\n",
       "  </tbody>\n",
       "</table>\n",
       "</div>"
      ],
      "text/plain": [
       "                 Ann       Bob    Charly       Don\n",
       "2013-01-31 -0.003502  1.152828  3.717634  0.037692\n",
       "2013-02-28  0.892275  0.343000 -0.808303 -0.898209\n",
       "2013-03-31 -0.390379 -0.438595  0.672244  0.081278\n",
       "2013-04-30 -0.738945  0.605548 -0.581430  0.098590\n",
       "2013-05-31 -0.051126 -1.592866  0.180535 -0.060732\n",
       "2013-06-30  2.067142  0.433863 -2.547680  0.424048"
      ]
     },
     "execution_count": 58,
     "metadata": {},
     "output_type": "execute_result"
    }
   ],
   "source": [
    "df"
   ]
  },
  {
   "cell_type": "code",
   "execution_count": 60,
   "metadata": {
    "ExecuteTime": {
     "end_time": "2017-09-18T20:28:56.170063",
     "start_time": "2017-09-18T20:28:56.159948"
    }
   },
   "outputs": [
    {
     "data": {
      "text/plain": [
       "DatetimeIndex(['2013-03-31', '2013-04-30', '2013-05-31'], dtype='datetime64[ns]', freq='M')"
      ]
     },
     "execution_count": 60,
     "metadata": {},
     "output_type": "execute_result"
    }
   ],
   "source": [
    "dates[np.logical_and(dates>='20130301', dates<'20130601')]"
   ]
  },
  {
   "cell_type": "code",
   "execution_count": 67,
   "metadata": {
    "ExecuteTime": {
     "end_time": "2017-09-18T20:31:34.815418",
     "start_time": "2017-09-18T20:31:34.792653"
    }
   },
   "outputs": [
    {
     "data": {
      "text/html": [
       "<div>\n",
       "<table border=\"1\" class=\"dataframe\">\n",
       "  <thead>\n",
       "    <tr style=\"text-align: right;\">\n",
       "      <th></th>\n",
       "      <th>Bob</th>\n",
       "      <th>Don</th>\n",
       "    </tr>\n",
       "  </thead>\n",
       "  <tbody>\n",
       "    <tr>\n",
       "      <th>2013-03-31</th>\n",
       "      <td>-0.438595</td>\n",
       "      <td>0.081278</td>\n",
       "    </tr>\n",
       "    <tr>\n",
       "      <th>2013-04-30</th>\n",
       "      <td>0.605548</td>\n",
       "      <td>0.098590</td>\n",
       "    </tr>\n",
       "    <tr>\n",
       "      <th>2013-05-31</th>\n",
       "      <td>-1.592866</td>\n",
       "      <td>-0.060732</td>\n",
       "    </tr>\n",
       "  </tbody>\n",
       "</table>\n",
       "</div>"
      ],
      "text/plain": [
       "                 Bob       Don\n",
       "2013-03-31 -0.438595  0.081278\n",
       "2013-04-30  0.605548  0.098590\n",
       "2013-05-31 -1.592866 -0.060732"
      ]
     },
     "execution_count": 67,
     "metadata": {},
     "output_type": "execute_result"
    }
   ],
   "source": [
    "df.ix[dates[np.logical_and(dates>='20130301', dates<'20130601')], ['Bob','Don']]"
   ]
  },
  {
   "cell_type": "markdown",
   "metadata": {},
   "source": [
    "## Boolean Indexing\n",
    "\n",
    "Using a single column’s values to select data."
   ]
  },
  {
   "cell_type": "code",
   "execution_count": 69,
   "metadata": {
    "ExecuteTime": {
     "end_time": "2017-09-18T20:32:36.778108",
     "start_time": "2017-09-18T20:32:36.744312"
    }
   },
   "outputs": [
    {
     "data": {
      "text/plain": [
       "2013-01-31   -0.003502\n",
       "2013-02-28    0.892275\n",
       "2013-03-31   -0.390379\n",
       "2013-04-30   -0.738945\n",
       "2013-05-31   -0.051126\n",
       "2013-06-30    2.067142\n",
       "Freq: M, Name: Ann, dtype: float64"
      ]
     },
     "execution_count": 69,
     "metadata": {},
     "output_type": "execute_result"
    }
   ],
   "source": [
    "df.Ann"
   ]
  },
  {
   "cell_type": "code",
   "execution_count": 70,
   "metadata": {
    "ExecuteTime": {
     "end_time": "2017-09-18T20:32:56.167596",
     "start_time": "2017-09-18T20:32:56.140012"
    }
   },
   "outputs": [
    {
     "data": {
      "text/plain": [
       "2013-01-31    False\n",
       "2013-02-28     True\n",
       "2013-03-31    False\n",
       "2013-04-30    False\n",
       "2013-05-31    False\n",
       "2013-06-30    False\n",
       "Freq: M, Name: Ann, dtype: bool"
      ]
     },
     "execution_count": 70,
     "metadata": {},
     "output_type": "execute_result"
    }
   ],
   "source": [
    "flt = (df.Ann >= 0) & (df.Ann < 1.5) \n",
    "flt"
   ]
  },
  {
   "cell_type": "code",
   "execution_count": 71,
   "metadata": {
    "ExecuteTime": {
     "end_time": "2017-09-18T20:33:22.315410",
     "start_time": "2017-09-18T20:33:22.281584"
    }
   },
   "outputs": [
    {
     "data": {
      "text/html": [
       "<div>\n",
       "<table border=\"1\" class=\"dataframe\">\n",
       "  <thead>\n",
       "    <tr style=\"text-align: right;\">\n",
       "      <th></th>\n",
       "      <th>Ann</th>\n",
       "      <th>Bob</th>\n",
       "      <th>Charly</th>\n",
       "      <th>Don</th>\n",
       "    </tr>\n",
       "  </thead>\n",
       "  <tbody>\n",
       "    <tr>\n",
       "      <th>2013-02-28</th>\n",
       "      <td>0.892275</td>\n",
       "      <td>0.343</td>\n",
       "      <td>-0.808303</td>\n",
       "      <td>-0.898209</td>\n",
       "    </tr>\n",
       "  </tbody>\n",
       "</table>\n",
       "</div>"
      ],
      "text/plain": [
       "                 Ann    Bob    Charly       Don\n",
       "2013-02-28  0.892275  0.343 -0.808303 -0.898209"
      ]
     },
     "execution_count": 71,
     "metadata": {},
     "output_type": "execute_result"
    }
   ],
   "source": [
    "df[flt]"
   ]
  },
  {
   "cell_type": "code",
   "execution_count": 72,
   "metadata": {
    "ExecuteTime": {
     "end_time": "2017-09-18T20:33:44.215082",
     "start_time": "2017-09-18T20:33:44.175662"
    }
   },
   "outputs": [
    {
     "data": {
      "text/html": [
       "<div>\n",
       "<table border=\"1\" class=\"dataframe\">\n",
       "  <thead>\n",
       "    <tr style=\"text-align: right;\">\n",
       "      <th></th>\n",
       "      <th>Ann</th>\n",
       "      <th>Bob</th>\n",
       "      <th>Charly</th>\n",
       "      <th>Don</th>\n",
       "    </tr>\n",
       "  </thead>\n",
       "  <tbody>\n",
       "    <tr>\n",
       "      <th>2013-02-28</th>\n",
       "      <td>0.892275</td>\n",
       "      <td>0.343</td>\n",
       "      <td>-0.808303</td>\n",
       "      <td>-0.898209</td>\n",
       "    </tr>\n",
       "  </tbody>\n",
       "</table>\n",
       "</div>"
      ],
      "text/plain": [
       "                 Ann    Bob    Charly       Don\n",
       "2013-02-28  0.892275  0.343 -0.808303 -0.898209"
      ]
     },
     "execution_count": 72,
     "metadata": {},
     "output_type": "execute_result"
    }
   ],
   "source": [
    "df[(df.Ann >= 0) & (df.Ann < 1.5)]"
   ]
  },
  {
   "cell_type": "markdown",
   "metadata": {},
   "source": [
    "A `where` operation for getting."
   ]
  },
  {
   "cell_type": "code",
   "execution_count": 75,
   "metadata": {
    "ExecuteTime": {
     "end_time": "2017-09-18T20:34:43.372661",
     "start_time": "2017-09-18T20:34:43.320334"
    },
    "scrolled": true
   },
   "outputs": [
    {
     "data": {
      "text/html": [
       "<div>\n",
       "<table border=\"1\" class=\"dataframe\">\n",
       "  <thead>\n",
       "    <tr style=\"text-align: right;\">\n",
       "      <th></th>\n",
       "      <th>Ann</th>\n",
       "      <th>Bob</th>\n",
       "      <th>Charly</th>\n",
       "      <th>Don</th>\n",
       "    </tr>\n",
       "  </thead>\n",
       "  <tbody>\n",
       "    <tr>\n",
       "      <th>2013-01-31</th>\n",
       "      <td>NaN</td>\n",
       "      <td>1.152828</td>\n",
       "      <td>3.717634</td>\n",
       "      <td>0.037692</td>\n",
       "    </tr>\n",
       "    <tr>\n",
       "      <th>2013-02-28</th>\n",
       "      <td>0.892275</td>\n",
       "      <td>0.343000</td>\n",
       "      <td>NaN</td>\n",
       "      <td>NaN</td>\n",
       "    </tr>\n",
       "    <tr>\n",
       "      <th>2013-03-31</th>\n",
       "      <td>NaN</td>\n",
       "      <td>NaN</td>\n",
       "      <td>0.672244</td>\n",
       "      <td>0.081278</td>\n",
       "    </tr>\n",
       "    <tr>\n",
       "      <th>2013-04-30</th>\n",
       "      <td>NaN</td>\n",
       "      <td>0.605548</td>\n",
       "      <td>NaN</td>\n",
       "      <td>0.098590</td>\n",
       "    </tr>\n",
       "    <tr>\n",
       "      <th>2013-05-31</th>\n",
       "      <td>NaN</td>\n",
       "      <td>NaN</td>\n",
       "      <td>0.180535</td>\n",
       "      <td>NaN</td>\n",
       "    </tr>\n",
       "    <tr>\n",
       "      <th>2013-06-30</th>\n",
       "      <td>2.067142</td>\n",
       "      <td>0.433863</td>\n",
       "      <td>NaN</td>\n",
       "      <td>0.424048</td>\n",
       "    </tr>\n",
       "  </tbody>\n",
       "</table>\n",
       "</div>"
      ],
      "text/plain": [
       "                 Ann       Bob    Charly       Don\n",
       "2013-01-31       NaN  1.152828  3.717634  0.037692\n",
       "2013-02-28  0.892275  0.343000       NaN       NaN\n",
       "2013-03-31       NaN       NaN  0.672244  0.081278\n",
       "2013-04-30       NaN  0.605548       NaN  0.098590\n",
       "2013-05-31       NaN       NaN  0.180535       NaN\n",
       "2013-06-30  2.067142  0.433863       NaN  0.424048"
      ]
     },
     "execution_count": 75,
     "metadata": {},
     "output_type": "execute_result"
    }
   ],
   "source": [
    "df5=df[df > 0]\n",
    "df5"
   ]
  },
  {
   "cell_type": "code",
   "execution_count": 76,
   "metadata": {
    "ExecuteTime": {
     "end_time": "2017-09-18T20:34:54.454330",
     "start_time": "2017-09-18T20:34:54.416702"
    }
   },
   "outputs": [
    {
     "data": {
      "text/html": [
       "<div>\n",
       "<table border=\"1\" class=\"dataframe\">\n",
       "  <thead>\n",
       "    <tr style=\"text-align: right;\">\n",
       "      <th></th>\n",
       "      <th>Ann</th>\n",
       "      <th>Bob</th>\n",
       "      <th>Charly</th>\n",
       "      <th>Don</th>\n",
       "    </tr>\n",
       "  </thead>\n",
       "  <tbody>\n",
       "    <tr>\n",
       "      <th>2013-01-31</th>\n",
       "      <td>99999.000000</td>\n",
       "      <td>1.152828</td>\n",
       "      <td>3.717634</td>\n",
       "      <td>0.037692</td>\n",
       "    </tr>\n",
       "    <tr>\n",
       "      <th>2013-02-28</th>\n",
       "      <td>0.892275</td>\n",
       "      <td>0.343000</td>\n",
       "      <td>99999.000000</td>\n",
       "      <td>99999.000000</td>\n",
       "    </tr>\n",
       "    <tr>\n",
       "      <th>2013-03-31</th>\n",
       "      <td>99999.000000</td>\n",
       "      <td>99999.000000</td>\n",
       "      <td>0.672244</td>\n",
       "      <td>0.081278</td>\n",
       "    </tr>\n",
       "    <tr>\n",
       "      <th>2013-04-30</th>\n",
       "      <td>99999.000000</td>\n",
       "      <td>0.605548</td>\n",
       "      <td>99999.000000</td>\n",
       "      <td>0.098590</td>\n",
       "    </tr>\n",
       "    <tr>\n",
       "      <th>2013-05-31</th>\n",
       "      <td>99999.000000</td>\n",
       "      <td>99999.000000</td>\n",
       "      <td>0.180535</td>\n",
       "      <td>99999.000000</td>\n",
       "    </tr>\n",
       "    <tr>\n",
       "      <th>2013-06-30</th>\n",
       "      <td>2.067142</td>\n",
       "      <td>0.433863</td>\n",
       "      <td>99999.000000</td>\n",
       "      <td>0.424048</td>\n",
       "    </tr>\n",
       "  </tbody>\n",
       "</table>\n",
       "</div>"
      ],
      "text/plain": [
       "                     Ann           Bob        Charly           Don\n",
       "2013-01-31  99999.000000      1.152828      3.717634      0.037692\n",
       "2013-02-28      0.892275      0.343000  99999.000000  99999.000000\n",
       "2013-03-31  99999.000000  99999.000000      0.672244      0.081278\n",
       "2013-04-30  99999.000000      0.605548  99999.000000      0.098590\n",
       "2013-05-31  99999.000000  99999.000000      0.180535  99999.000000\n",
       "2013-06-30      2.067142      0.433863  99999.000000      0.424048"
      ]
     },
     "execution_count": 76,
     "metadata": {},
     "output_type": "execute_result"
    }
   ],
   "source": [
    "df5.fillna(99999)"
   ]
  },
  {
   "cell_type": "markdown",
   "metadata": {},
   "source": [
    "Using the `isin()` method for filtering:"
   ]
  },
  {
   "cell_type": "code",
   "execution_count": 77,
   "metadata": {
    "ExecuteTime": {
     "end_time": "2017-09-18T20:36:39.716507",
     "start_time": "2017-09-18T20:36:39.647096"
    }
   },
   "outputs": [
    {
     "data": {
      "text/html": [
       "<div>\n",
       "<table border=\"1\" class=\"dataframe\">\n",
       "  <thead>\n",
       "    <tr style=\"text-align: right;\">\n",
       "      <th></th>\n",
       "      <th>Ann</th>\n",
       "      <th>Bob</th>\n",
       "      <th>Charly</th>\n",
       "      <th>Don</th>\n",
       "      <th>E</th>\n",
       "    </tr>\n",
       "  </thead>\n",
       "  <tbody>\n",
       "    <tr>\n",
       "      <th>2013-01-31</th>\n",
       "      <td>-0.003502</td>\n",
       "      <td>1.152828</td>\n",
       "      <td>3.717634</td>\n",
       "      <td>0.037692</td>\n",
       "      <td>one</td>\n",
       "    </tr>\n",
       "    <tr>\n",
       "      <th>2013-02-28</th>\n",
       "      <td>0.892275</td>\n",
       "      <td>0.343000</td>\n",
       "      <td>-0.808303</td>\n",
       "      <td>-0.898209</td>\n",
       "      <td>one</td>\n",
       "    </tr>\n",
       "    <tr>\n",
       "      <th>2013-03-31</th>\n",
       "      <td>-0.390379</td>\n",
       "      <td>-0.438595</td>\n",
       "      <td>0.672244</td>\n",
       "      <td>0.081278</td>\n",
       "      <td>two</td>\n",
       "    </tr>\n",
       "    <tr>\n",
       "      <th>2013-04-30</th>\n",
       "      <td>-0.738945</td>\n",
       "      <td>0.605548</td>\n",
       "      <td>-0.581430</td>\n",
       "      <td>0.098590</td>\n",
       "      <td>three</td>\n",
       "    </tr>\n",
       "    <tr>\n",
       "      <th>2013-05-31</th>\n",
       "      <td>-0.051126</td>\n",
       "      <td>-1.592866</td>\n",
       "      <td>0.180535</td>\n",
       "      <td>-0.060732</td>\n",
       "      <td>four</td>\n",
       "    </tr>\n",
       "    <tr>\n",
       "      <th>2013-06-30</th>\n",
       "      <td>2.067142</td>\n",
       "      <td>0.433863</td>\n",
       "      <td>-2.547680</td>\n",
       "      <td>0.424048</td>\n",
       "      <td>three</td>\n",
       "    </tr>\n",
       "  </tbody>\n",
       "</table>\n",
       "</div>"
      ],
      "text/plain": [
       "                 Ann       Bob    Charly       Don      E\n",
       "2013-01-31 -0.003502  1.152828  3.717634  0.037692    one\n",
       "2013-02-28  0.892275  0.343000 -0.808303 -0.898209    one\n",
       "2013-03-31 -0.390379 -0.438595  0.672244  0.081278    two\n",
       "2013-04-30 -0.738945  0.605548 -0.581430  0.098590  three\n",
       "2013-05-31 -0.051126 -1.592866  0.180535 -0.060732   four\n",
       "2013-06-30  2.067142  0.433863 -2.547680  0.424048  three"
      ]
     },
     "execution_count": 77,
     "metadata": {},
     "output_type": "execute_result"
    }
   ],
   "source": [
    "df2 = df.copy()\n",
    "df2['E'] = ['one', 'one','two','three','four','three']\n",
    "df2"
   ]
  },
  {
   "cell_type": "code",
   "execution_count": 78,
   "metadata": {
    "ExecuteTime": {
     "end_time": "2017-09-18T20:36:54.027499",
     "start_time": "2017-09-18T20:36:53.994710"
    }
   },
   "outputs": [
    {
     "data": {
      "text/html": [
       "<div>\n",
       "<table border=\"1\" class=\"dataframe\">\n",
       "  <thead>\n",
       "    <tr style=\"text-align: right;\">\n",
       "      <th></th>\n",
       "      <th>Ann</th>\n",
       "      <th>Bob</th>\n",
       "      <th>Charly</th>\n",
       "      <th>Don</th>\n",
       "    </tr>\n",
       "  </thead>\n",
       "  <tbody>\n",
       "    <tr>\n",
       "      <th>2013-01-31</th>\n",
       "      <td>-0.003502</td>\n",
       "      <td>1.152828</td>\n",
       "      <td>3.717634</td>\n",
       "      <td>0.037692</td>\n",
       "    </tr>\n",
       "    <tr>\n",
       "      <th>2013-02-28</th>\n",
       "      <td>0.892275</td>\n",
       "      <td>0.343000</td>\n",
       "      <td>-0.808303</td>\n",
       "      <td>-0.898209</td>\n",
       "    </tr>\n",
       "    <tr>\n",
       "      <th>2013-03-31</th>\n",
       "      <td>-0.390379</td>\n",
       "      <td>-0.438595</td>\n",
       "      <td>0.672244</td>\n",
       "      <td>0.081278</td>\n",
       "    </tr>\n",
       "    <tr>\n",
       "      <th>2013-04-30</th>\n",
       "      <td>-0.738945</td>\n",
       "      <td>0.605548</td>\n",
       "      <td>-0.581430</td>\n",
       "      <td>0.098590</td>\n",
       "    </tr>\n",
       "    <tr>\n",
       "      <th>2013-05-31</th>\n",
       "      <td>-0.051126</td>\n",
       "      <td>-1.592866</td>\n",
       "      <td>0.180535</td>\n",
       "      <td>-0.060732</td>\n",
       "    </tr>\n",
       "    <tr>\n",
       "      <th>2013-06-30</th>\n",
       "      <td>2.067142</td>\n",
       "      <td>0.433863</td>\n",
       "      <td>-2.547680</td>\n",
       "      <td>0.424048</td>\n",
       "    </tr>\n",
       "  </tbody>\n",
       "</table>\n",
       "</div>"
      ],
      "text/plain": [
       "                 Ann       Bob    Charly       Don\n",
       "2013-01-31 -0.003502  1.152828  3.717634  0.037692\n",
       "2013-02-28  0.892275  0.343000 -0.808303 -0.898209\n",
       "2013-03-31 -0.390379 -0.438595  0.672244  0.081278\n",
       "2013-04-30 -0.738945  0.605548 -0.581430  0.098590\n",
       "2013-05-31 -0.051126 -1.592866  0.180535 -0.060732\n",
       "2013-06-30  2.067142  0.433863 -2.547680  0.424048"
      ]
     },
     "execution_count": 78,
     "metadata": {},
     "output_type": "execute_result"
    }
   ],
   "source": [
    "df"
   ]
  },
  {
   "cell_type": "code",
   "execution_count": 79,
   "metadata": {
    "ExecuteTime": {
     "end_time": "2017-09-18T20:37:15.350443",
     "start_time": "2017-09-18T20:37:15.301677"
    }
   },
   "outputs": [
    {
     "data": {
      "text/html": [
       "<div>\n",
       "<table border=\"1\" class=\"dataframe\">\n",
       "  <thead>\n",
       "    <tr style=\"text-align: right;\">\n",
       "      <th></th>\n",
       "      <th>Ann</th>\n",
       "      <th>Bob</th>\n",
       "      <th>Charly</th>\n",
       "      <th>Don</th>\n",
       "      <th>E</th>\n",
       "    </tr>\n",
       "  </thead>\n",
       "  <tbody>\n",
       "    <tr>\n",
       "      <th>2013-03-31</th>\n",
       "      <td>-0.390379</td>\n",
       "      <td>-0.438595</td>\n",
       "      <td>0.672244</td>\n",
       "      <td>0.081278</td>\n",
       "      <td>two</td>\n",
       "    </tr>\n",
       "    <tr>\n",
       "      <th>2013-04-30</th>\n",
       "      <td>-0.738945</td>\n",
       "      <td>0.605548</td>\n",
       "      <td>-0.581430</td>\n",
       "      <td>0.098590</td>\n",
       "      <td>three</td>\n",
       "    </tr>\n",
       "    <tr>\n",
       "      <th>2013-06-30</th>\n",
       "      <td>2.067142</td>\n",
       "      <td>0.433863</td>\n",
       "      <td>-2.547680</td>\n",
       "      <td>0.424048</td>\n",
       "      <td>three</td>\n",
       "    </tr>\n",
       "  </tbody>\n",
       "</table>\n",
       "</div>"
      ],
      "text/plain": [
       "                 Ann       Bob    Charly       Don      E\n",
       "2013-03-31 -0.390379 -0.438595  0.672244  0.081278    two\n",
       "2013-04-30 -0.738945  0.605548 -0.581430  0.098590  three\n",
       "2013-06-30  2.067142  0.433863 -2.547680  0.424048  three"
      ]
     },
     "execution_count": 79,
     "metadata": {},
     "output_type": "execute_result"
    }
   ],
   "source": [
    "df2[df2['E'].isin(['two','three'])]"
   ]
  },
  {
   "cell_type": "code",
   "execution_count": null,
   "metadata": {
    "collapsed": true
   },
   "outputs": [],
   "source": [
    "# in-class exercise: \n",
    "# Display all rows of df where Ann > Charly."
   ]
  },
  {
   "cell_type": "code",
   "execution_count": 80,
   "metadata": {
    "ExecuteTime": {
     "end_time": "2017-09-18T20:41:20.823475",
     "start_time": "2017-09-18T20:41:20.783864"
    }
   },
   "outputs": [
    {
     "data": {
      "text/html": [
       "<div>\n",
       "<table border=\"1\" class=\"dataframe\">\n",
       "  <thead>\n",
       "    <tr style=\"text-align: right;\">\n",
       "      <th></th>\n",
       "      <th>Ann</th>\n",
       "      <th>Bob</th>\n",
       "      <th>Charly</th>\n",
       "      <th>Don</th>\n",
       "    </tr>\n",
       "  </thead>\n",
       "  <tbody>\n",
       "    <tr>\n",
       "      <th>2013-02-28</th>\n",
       "      <td>0.892275</td>\n",
       "      <td>0.343000</td>\n",
       "      <td>-0.808303</td>\n",
       "      <td>-0.898209</td>\n",
       "    </tr>\n",
       "    <tr>\n",
       "      <th>2013-06-30</th>\n",
       "      <td>2.067142</td>\n",
       "      <td>0.433863</td>\n",
       "      <td>-2.547680</td>\n",
       "      <td>0.424048</td>\n",
       "    </tr>\n",
       "  </tbody>\n",
       "</table>\n",
       "</div>"
      ],
      "text/plain": [
       "                 Ann       Bob    Charly       Don\n",
       "2013-02-28  0.892275  0.343000 -0.808303 -0.898209\n",
       "2013-06-30  2.067142  0.433863 -2.547680  0.424048"
      ]
     },
     "execution_count": 80,
     "metadata": {},
     "output_type": "execute_result"
    }
   ],
   "source": [
    "df[df.Ann>df.Charly]"
   ]
  },
  {
   "cell_type": "markdown",
   "metadata": {},
   "source": [
    "## Setting\n",
    "\n",
    "Setting a new column automatically aligns the data by the indexes"
   ]
  },
  {
   "cell_type": "code",
   "execution_count": 81,
   "metadata": {
    "ExecuteTime": {
     "end_time": "2017-09-18T20:42:35.102386",
     "start_time": "2017-09-18T20:42:35.027657"
    }
   },
   "outputs": [
    {
     "data": {
      "text/plain": [
       "2013-01-02    1\n",
       "2013-01-03    2\n",
       "2013-01-04    3\n",
       "2013-01-05    4\n",
       "2013-01-06    5\n",
       "2013-01-07    6\n",
       "Freq: D, dtype: int64"
      ]
     },
     "execution_count": 81,
     "metadata": {},
     "output_type": "execute_result"
    }
   ],
   "source": [
    "s1 = pd.Series([1,2,3,4,5,6], index=pd.date_range('20130102', periods=6))\n",
    "s1"
   ]
  },
  {
   "cell_type": "code",
   "execution_count": 82,
   "metadata": {
    "ExecuteTime": {
     "end_time": "2017-09-18T20:43:00.866216",
     "start_time": "2017-09-18T20:43:00.821500"
    },
    "scrolled": false
   },
   "outputs": [
    {
     "data": {
      "text/html": [
       "<div>\n",
       "<table border=\"1\" class=\"dataframe\">\n",
       "  <thead>\n",
       "    <tr style=\"text-align: right;\">\n",
       "      <th></th>\n",
       "      <th>Ann</th>\n",
       "      <th>Bob</th>\n",
       "      <th>Charly</th>\n",
       "      <th>Don</th>\n",
       "      <th>F</th>\n",
       "      <th>G</th>\n",
       "    </tr>\n",
       "  </thead>\n",
       "  <tbody>\n",
       "    <tr>\n",
       "      <th>2013-01-31</th>\n",
       "      <td>-0.003502</td>\n",
       "      <td>1.152828</td>\n",
       "      <td>3.717634</td>\n",
       "      <td>0.037692</td>\n",
       "      <td>NaN</td>\n",
       "      <td>-1.156330</td>\n",
       "    </tr>\n",
       "    <tr>\n",
       "      <th>2013-02-28</th>\n",
       "      <td>0.892275</td>\n",
       "      <td>0.343000</td>\n",
       "      <td>-0.808303</td>\n",
       "      <td>-0.898209</td>\n",
       "      <td>NaN</td>\n",
       "      <td>0.549274</td>\n",
       "    </tr>\n",
       "    <tr>\n",
       "      <th>2013-03-31</th>\n",
       "      <td>-0.390379</td>\n",
       "      <td>-0.438595</td>\n",
       "      <td>0.672244</td>\n",
       "      <td>0.081278</td>\n",
       "      <td>NaN</td>\n",
       "      <td>0.048215</td>\n",
       "    </tr>\n",
       "    <tr>\n",
       "      <th>2013-04-30</th>\n",
       "      <td>-0.738945</td>\n",
       "      <td>0.605548</td>\n",
       "      <td>-0.581430</td>\n",
       "      <td>0.098590</td>\n",
       "      <td>NaN</td>\n",
       "      <td>-1.344493</td>\n",
       "    </tr>\n",
       "    <tr>\n",
       "      <th>2013-05-31</th>\n",
       "      <td>-0.051126</td>\n",
       "      <td>-1.592866</td>\n",
       "      <td>0.180535</td>\n",
       "      <td>-0.060732</td>\n",
       "      <td>NaN</td>\n",
       "      <td>1.541740</td>\n",
       "    </tr>\n",
       "    <tr>\n",
       "      <th>2013-06-30</th>\n",
       "      <td>2.067142</td>\n",
       "      <td>0.433863</td>\n",
       "      <td>-2.547680</td>\n",
       "      <td>0.424048</td>\n",
       "      <td>NaN</td>\n",
       "      <td>1.633279</td>\n",
       "    </tr>\n",
       "  </tbody>\n",
       "</table>\n",
       "</div>"
      ],
      "text/plain": [
       "                 Ann       Bob    Charly       Don   F         G\n",
       "2013-01-31 -0.003502  1.152828  3.717634  0.037692 NaN -1.156330\n",
       "2013-02-28  0.892275  0.343000 -0.808303 -0.898209 NaN  0.549274\n",
       "2013-03-31 -0.390379 -0.438595  0.672244  0.081278 NaN  0.048215\n",
       "2013-04-30 -0.738945  0.605548 -0.581430  0.098590 NaN -1.344493\n",
       "2013-05-31 -0.051126 -1.592866  0.180535 -0.060732 NaN  1.541740\n",
       "2013-06-30  2.067142  0.433863 -2.547680  0.424048 NaN  1.633279"
      ]
     },
     "execution_count": 82,
     "metadata": {},
     "output_type": "execute_result"
    }
   ],
   "source": [
    "df['F'] = s1\n",
    "df['G'] = df['Ann']-df['Bob']\n",
    "df"
   ]
  },
  {
   "cell_type": "code",
   "execution_count": null,
   "metadata": {
    "collapsed": true
   },
   "outputs": [],
   "source": [
    "# in-class exercise: how would you change the index in s1 so that we get values for F in df? \n",
    "#(note: that's probably not a good way to manipulate real data!)"
   ]
  },
  {
   "cell_type": "code",
   "execution_count": 84,
   "metadata": {
    "ExecuteTime": {
     "end_time": "2017-09-18T20:46:22.591389",
     "start_time": "2017-09-18T20:46:22.586647"
    },
    "collapsed": true
   },
   "outputs": [],
   "source": [
    "s1.index = df.index"
   ]
  },
  {
   "cell_type": "code",
   "execution_count": 85,
   "metadata": {
    "ExecuteTime": {
     "end_time": "2017-09-18T20:46:46.955404",
     "start_time": "2017-09-18T20:46:46.905963"
    }
   },
   "outputs": [
    {
     "data": {
      "text/html": [
       "<div>\n",
       "<table border=\"1\" class=\"dataframe\">\n",
       "  <thead>\n",
       "    <tr style=\"text-align: right;\">\n",
       "      <th></th>\n",
       "      <th>Ann</th>\n",
       "      <th>Bob</th>\n",
       "      <th>Charly</th>\n",
       "      <th>Don</th>\n",
       "      <th>F</th>\n",
       "      <th>G</th>\n",
       "    </tr>\n",
       "  </thead>\n",
       "  <tbody>\n",
       "    <tr>\n",
       "      <th>2013-01-31</th>\n",
       "      <td>-0.003502</td>\n",
       "      <td>1.152828</td>\n",
       "      <td>3.717634</td>\n",
       "      <td>0.037692</td>\n",
       "      <td>1</td>\n",
       "      <td>-1.156330</td>\n",
       "    </tr>\n",
       "    <tr>\n",
       "      <th>2013-02-28</th>\n",
       "      <td>0.892275</td>\n",
       "      <td>0.343000</td>\n",
       "      <td>-0.808303</td>\n",
       "      <td>-0.898209</td>\n",
       "      <td>2</td>\n",
       "      <td>0.549274</td>\n",
       "    </tr>\n",
       "    <tr>\n",
       "      <th>2013-03-31</th>\n",
       "      <td>-0.390379</td>\n",
       "      <td>-0.438595</td>\n",
       "      <td>0.672244</td>\n",
       "      <td>0.081278</td>\n",
       "      <td>3</td>\n",
       "      <td>0.048215</td>\n",
       "    </tr>\n",
       "    <tr>\n",
       "      <th>2013-04-30</th>\n",
       "      <td>-0.738945</td>\n",
       "      <td>0.605548</td>\n",
       "      <td>-0.581430</td>\n",
       "      <td>0.098590</td>\n",
       "      <td>4</td>\n",
       "      <td>-1.344493</td>\n",
       "    </tr>\n",
       "    <tr>\n",
       "      <th>2013-05-31</th>\n",
       "      <td>-0.051126</td>\n",
       "      <td>-1.592866</td>\n",
       "      <td>0.180535</td>\n",
       "      <td>-0.060732</td>\n",
       "      <td>5</td>\n",
       "      <td>1.541740</td>\n",
       "    </tr>\n",
       "    <tr>\n",
       "      <th>2013-06-30</th>\n",
       "      <td>2.067142</td>\n",
       "      <td>0.433863</td>\n",
       "      <td>-2.547680</td>\n",
       "      <td>0.424048</td>\n",
       "      <td>6</td>\n",
       "      <td>1.633279</td>\n",
       "    </tr>\n",
       "  </tbody>\n",
       "</table>\n",
       "</div>"
      ],
      "text/plain": [
       "                 Ann       Bob    Charly       Don  F         G\n",
       "2013-01-31 -0.003502  1.152828  3.717634  0.037692  1 -1.156330\n",
       "2013-02-28  0.892275  0.343000 -0.808303 -0.898209  2  0.549274\n",
       "2013-03-31 -0.390379 -0.438595  0.672244  0.081278  3  0.048215\n",
       "2013-04-30 -0.738945  0.605548 -0.581430  0.098590  4 -1.344493\n",
       "2013-05-31 -0.051126 -1.592866  0.180535 -0.060732  5  1.541740\n",
       "2013-06-30  2.067142  0.433863 -2.547680  0.424048  6  1.633279"
      ]
     },
     "execution_count": 85,
     "metadata": {},
     "output_type": "execute_result"
    }
   ],
   "source": [
    "df['F'] = s1\n",
    "df"
   ]
  },
  {
   "cell_type": "markdown",
   "metadata": {},
   "source": [
    "Setting values by label"
   ]
  },
  {
   "cell_type": "code",
   "execution_count": 86,
   "metadata": {
    "ExecuteTime": {
     "end_time": "2017-09-18T20:47:58.769538",
     "start_time": "2017-09-18T20:47:58.709224"
    }
   },
   "outputs": [
    {
     "data": {
      "text/html": [
       "<div>\n",
       "<table border=\"1\" class=\"dataframe\">\n",
       "  <thead>\n",
       "    <tr style=\"text-align: right;\">\n",
       "      <th></th>\n",
       "      <th>Ann</th>\n",
       "      <th>Bob</th>\n",
       "      <th>Charly</th>\n",
       "      <th>Don</th>\n",
       "      <th>F</th>\n",
       "      <th>G</th>\n",
       "    </tr>\n",
       "  </thead>\n",
       "  <tbody>\n",
       "    <tr>\n",
       "      <th>2013-01-31</th>\n",
       "      <td>17.600000</td>\n",
       "      <td>1.152828</td>\n",
       "      <td>3.717634</td>\n",
       "      <td>0.037692</td>\n",
       "      <td>1</td>\n",
       "      <td>-1.156330</td>\n",
       "    </tr>\n",
       "    <tr>\n",
       "      <th>2013-02-28</th>\n",
       "      <td>0.892275</td>\n",
       "      <td>0.343000</td>\n",
       "      <td>-0.808303</td>\n",
       "      <td>-0.898209</td>\n",
       "      <td>2</td>\n",
       "      <td>0.549274</td>\n",
       "    </tr>\n",
       "    <tr>\n",
       "      <th>2013-03-31</th>\n",
       "      <td>-0.390379</td>\n",
       "      <td>-0.438595</td>\n",
       "      <td>0.672244</td>\n",
       "      <td>0.081278</td>\n",
       "      <td>3</td>\n",
       "      <td>0.048215</td>\n",
       "    </tr>\n",
       "    <tr>\n",
       "      <th>2013-04-30</th>\n",
       "      <td>-0.738945</td>\n",
       "      <td>0.605548</td>\n",
       "      <td>-0.581430</td>\n",
       "      <td>0.098590</td>\n",
       "      <td>4</td>\n",
       "      <td>-1.344493</td>\n",
       "    </tr>\n",
       "    <tr>\n",
       "      <th>2013-05-31</th>\n",
       "      <td>-0.051126</td>\n",
       "      <td>-1.592866</td>\n",
       "      <td>0.180535</td>\n",
       "      <td>-0.060732</td>\n",
       "      <td>5</td>\n",
       "      <td>1.541740</td>\n",
       "    </tr>\n",
       "    <tr>\n",
       "      <th>2013-06-30</th>\n",
       "      <td>2.067142</td>\n",
       "      <td>0.433863</td>\n",
       "      <td>-2.547680</td>\n",
       "      <td>0.424048</td>\n",
       "      <td>6</td>\n",
       "      <td>1.633279</td>\n",
       "    </tr>\n",
       "  </tbody>\n",
       "</table>\n",
       "</div>"
      ],
      "text/plain": [
       "                  Ann       Bob    Charly       Don  F         G\n",
       "2013-01-31  17.600000  1.152828  3.717634  0.037692  1 -1.156330\n",
       "2013-02-28   0.892275  0.343000 -0.808303 -0.898209  2  0.549274\n",
       "2013-03-31  -0.390379 -0.438595  0.672244  0.081278  3  0.048215\n",
       "2013-04-30  -0.738945  0.605548 -0.581430  0.098590  4 -1.344493\n",
       "2013-05-31  -0.051126 -1.592866  0.180535 -0.060732  5  1.541740\n",
       "2013-06-30   2.067142  0.433863 -2.547680  0.424048  6  1.633279"
      ]
     },
     "execution_count": 86,
     "metadata": {},
     "output_type": "execute_result"
    }
   ],
   "source": [
    "df.at[dates[0],'Ann'] = 17.6\n",
    "df"
   ]
  },
  {
   "cell_type": "markdown",
   "metadata": {},
   "source": [
    "Setting values by position"
   ]
  },
  {
   "cell_type": "code",
   "execution_count": 87,
   "metadata": {
    "ExecuteTime": {
     "end_time": "2017-09-18T20:48:08.141472",
     "start_time": "2017-09-18T20:48:08.106250"
    }
   },
   "outputs": [
    {
     "data": {
      "text/html": [
       "<div>\n",
       "<table border=\"1\" class=\"dataframe\">\n",
       "  <thead>\n",
       "    <tr style=\"text-align: right;\">\n",
       "      <th></th>\n",
       "      <th>Ann</th>\n",
       "      <th>Bob</th>\n",
       "      <th>Charly</th>\n",
       "      <th>Don</th>\n",
       "      <th>F</th>\n",
       "      <th>G</th>\n",
       "    </tr>\n",
       "  </thead>\n",
       "  <tbody>\n",
       "    <tr>\n",
       "      <th>2013-01-31</th>\n",
       "      <td>17.600000</td>\n",
       "      <td>1.152828</td>\n",
       "      <td>3.717634</td>\n",
       "      <td>0.037692</td>\n",
       "      <td>1</td>\n",
       "      <td>-1.156330</td>\n",
       "    </tr>\n",
       "    <tr>\n",
       "      <th>2013-02-28</th>\n",
       "      <td>0.892275</td>\n",
       "      <td>0.343000</td>\n",
       "      <td>-0.808303</td>\n",
       "      <td>-0.898209</td>\n",
       "      <td>2</td>\n",
       "      <td>0.549274</td>\n",
       "    </tr>\n",
       "    <tr>\n",
       "      <th>2013-03-31</th>\n",
       "      <td>-0.390379</td>\n",
       "      <td>-0.438595</td>\n",
       "      <td>0.672244</td>\n",
       "      <td>0.081278</td>\n",
       "      <td>3</td>\n",
       "      <td>0.048215</td>\n",
       "    </tr>\n",
       "    <tr>\n",
       "      <th>2013-04-30</th>\n",
       "      <td>-0.738945</td>\n",
       "      <td>0.605548</td>\n",
       "      <td>-0.581430</td>\n",
       "      <td>0.098590</td>\n",
       "      <td>4</td>\n",
       "      <td>-1.344493</td>\n",
       "    </tr>\n",
       "    <tr>\n",
       "      <th>2013-05-31</th>\n",
       "      <td>-0.051126</td>\n",
       "      <td>-1.592866</td>\n",
       "      <td>0.180535</td>\n",
       "      <td>-0.060732</td>\n",
       "      <td>5</td>\n",
       "      <td>1.541740</td>\n",
       "    </tr>\n",
       "    <tr>\n",
       "      <th>2013-06-30</th>\n",
       "      <td>2.067142</td>\n",
       "      <td>0.433863</td>\n",
       "      <td>349.000000</td>\n",
       "      <td>0.424048</td>\n",
       "      <td>6</td>\n",
       "      <td>1.633279</td>\n",
       "    </tr>\n",
       "  </tbody>\n",
       "</table>\n",
       "</div>"
      ],
      "text/plain": [
       "                  Ann       Bob      Charly       Don  F         G\n",
       "2013-01-31  17.600000  1.152828    3.717634  0.037692  1 -1.156330\n",
       "2013-02-28   0.892275  0.343000   -0.808303 -0.898209  2  0.549274\n",
       "2013-03-31  -0.390379 -0.438595    0.672244  0.081278  3  0.048215\n",
       "2013-04-30  -0.738945  0.605548   -0.581430  0.098590  4 -1.344493\n",
       "2013-05-31  -0.051126 -1.592866    0.180535 -0.060732  5  1.541740\n",
       "2013-06-30   2.067142  0.433863  349.000000  0.424048  6  1.633279"
      ]
     },
     "execution_count": 87,
     "metadata": {},
     "output_type": "execute_result"
    }
   ],
   "source": [
    "df.iat[5,2] = 349\n",
    "df"
   ]
  },
  {
   "cell_type": "markdown",
   "metadata": {},
   "source": [
    "Setting by assigning with a numpy array"
   ]
  },
  {
   "cell_type": "code",
   "execution_count": 88,
   "metadata": {
    "ExecuteTime": {
     "end_time": "2017-09-18T20:48:46.664614",
     "start_time": "2017-09-18T20:48:46.603417"
    }
   },
   "outputs": [
    {
     "data": {
      "text/html": [
       "<div>\n",
       "<table border=\"1\" class=\"dataframe\">\n",
       "  <thead>\n",
       "    <tr style=\"text-align: right;\">\n",
       "      <th></th>\n",
       "      <th>Ann</th>\n",
       "      <th>Bob</th>\n",
       "      <th>Charly</th>\n",
       "      <th>Don</th>\n",
       "      <th>F</th>\n",
       "      <th>G</th>\n",
       "      <th>Fives</th>\n",
       "    </tr>\n",
       "  </thead>\n",
       "  <tbody>\n",
       "    <tr>\n",
       "      <th>2013-01-31</th>\n",
       "      <td>17.600000</td>\n",
       "      <td>1.152828</td>\n",
       "      <td>3.717634</td>\n",
       "      <td>0.037692</td>\n",
       "      <td>1</td>\n",
       "      <td>-1.156330</td>\n",
       "      <td>5</td>\n",
       "    </tr>\n",
       "    <tr>\n",
       "      <th>2013-02-28</th>\n",
       "      <td>0.892275</td>\n",
       "      <td>0.343000</td>\n",
       "      <td>-0.808303</td>\n",
       "      <td>-0.898209</td>\n",
       "      <td>2</td>\n",
       "      <td>0.549274</td>\n",
       "      <td>5</td>\n",
       "    </tr>\n",
       "    <tr>\n",
       "      <th>2013-03-31</th>\n",
       "      <td>-0.390379</td>\n",
       "      <td>-0.438595</td>\n",
       "      <td>0.672244</td>\n",
       "      <td>0.081278</td>\n",
       "      <td>3</td>\n",
       "      <td>0.048215</td>\n",
       "      <td>5</td>\n",
       "    </tr>\n",
       "    <tr>\n",
       "      <th>2013-04-30</th>\n",
       "      <td>-0.738945</td>\n",
       "      <td>0.605548</td>\n",
       "      <td>-0.581430</td>\n",
       "      <td>0.098590</td>\n",
       "      <td>4</td>\n",
       "      <td>-1.344493</td>\n",
       "      <td>5</td>\n",
       "    </tr>\n",
       "    <tr>\n",
       "      <th>2013-05-31</th>\n",
       "      <td>-0.051126</td>\n",
       "      <td>-1.592866</td>\n",
       "      <td>0.180535</td>\n",
       "      <td>-0.060732</td>\n",
       "      <td>5</td>\n",
       "      <td>1.541740</td>\n",
       "      <td>5</td>\n",
       "    </tr>\n",
       "    <tr>\n",
       "      <th>2013-06-30</th>\n",
       "      <td>2.067142</td>\n",
       "      <td>0.433863</td>\n",
       "      <td>349.000000</td>\n",
       "      <td>0.424048</td>\n",
       "      <td>6</td>\n",
       "      <td>1.633279</td>\n",
       "      <td>5</td>\n",
       "    </tr>\n",
       "  </tbody>\n",
       "</table>\n",
       "</div>"
      ],
      "text/plain": [
       "                  Ann       Bob      Charly       Don  F         G  Fives\n",
       "2013-01-31  17.600000  1.152828    3.717634  0.037692  1 -1.156330      5\n",
       "2013-02-28   0.892275  0.343000   -0.808303 -0.898209  2  0.549274      5\n",
       "2013-03-31  -0.390379 -0.438595    0.672244  0.081278  3  0.048215      5\n",
       "2013-04-30  -0.738945  0.605548   -0.581430  0.098590  4 -1.344493      5\n",
       "2013-05-31  -0.051126 -1.592866    0.180535 -0.060732  5  1.541740      5\n",
       "2013-06-30   2.067142  0.433863  349.000000  0.424048  6  1.633279      5"
      ]
     },
     "execution_count": 88,
     "metadata": {},
     "output_type": "execute_result"
    }
   ],
   "source": [
    "df.loc[:,'Fives'] = np.array([5] * len(df))\n",
    "df"
   ]
  },
  {
   "cell_type": "markdown",
   "metadata": {},
   "source": [
    "A `where` operation with setting."
   ]
  },
  {
   "cell_type": "code",
   "execution_count": 89,
   "metadata": {
    "ExecuteTime": {
     "end_time": "2017-09-18T20:49:30.125542",
     "start_time": "2017-09-18T20:49:30.059512"
    }
   },
   "outputs": [
    {
     "data": {
      "text/html": [
       "<div>\n",
       "<table border=\"1\" class=\"dataframe\">\n",
       "  <thead>\n",
       "    <tr style=\"text-align: right;\">\n",
       "      <th></th>\n",
       "      <th>Ann</th>\n",
       "      <th>Bob</th>\n",
       "      <th>Charly</th>\n",
       "      <th>Don</th>\n",
       "      <th>F</th>\n",
       "      <th>G</th>\n",
       "      <th>Fives</th>\n",
       "    </tr>\n",
       "  </thead>\n",
       "  <tbody>\n",
       "    <tr>\n",
       "      <th>2013-01-31</th>\n",
       "      <td>17.600000</td>\n",
       "      <td>1.152828</td>\n",
       "      <td>3.717634</td>\n",
       "      <td>0.037692</td>\n",
       "      <td>1</td>\n",
       "      <td>1.156330</td>\n",
       "      <td>5</td>\n",
       "    </tr>\n",
       "    <tr>\n",
       "      <th>2013-02-28</th>\n",
       "      <td>0.892275</td>\n",
       "      <td>0.343000</td>\n",
       "      <td>0.808303</td>\n",
       "      <td>0.898209</td>\n",
       "      <td>2</td>\n",
       "      <td>0.549274</td>\n",
       "      <td>5</td>\n",
       "    </tr>\n",
       "    <tr>\n",
       "      <th>2013-03-31</th>\n",
       "      <td>0.390379</td>\n",
       "      <td>0.438595</td>\n",
       "      <td>0.672244</td>\n",
       "      <td>0.081278</td>\n",
       "      <td>3</td>\n",
       "      <td>0.048215</td>\n",
       "      <td>5</td>\n",
       "    </tr>\n",
       "    <tr>\n",
       "      <th>2013-04-30</th>\n",
       "      <td>0.738945</td>\n",
       "      <td>0.605548</td>\n",
       "      <td>0.581430</td>\n",
       "      <td>0.098590</td>\n",
       "      <td>4</td>\n",
       "      <td>1.344493</td>\n",
       "      <td>5</td>\n",
       "    </tr>\n",
       "    <tr>\n",
       "      <th>2013-05-31</th>\n",
       "      <td>0.051126</td>\n",
       "      <td>1.592866</td>\n",
       "      <td>0.180535</td>\n",
       "      <td>0.060732</td>\n",
       "      <td>5</td>\n",
       "      <td>1.541740</td>\n",
       "      <td>5</td>\n",
       "    </tr>\n",
       "    <tr>\n",
       "      <th>2013-06-30</th>\n",
       "      <td>2.067142</td>\n",
       "      <td>0.433863</td>\n",
       "      <td>349.000000</td>\n",
       "      <td>0.424048</td>\n",
       "      <td>6</td>\n",
       "      <td>1.633279</td>\n",
       "      <td>5</td>\n",
       "    </tr>\n",
       "  </tbody>\n",
       "</table>\n",
       "</div>"
      ],
      "text/plain": [
       "                  Ann       Bob      Charly       Don  F         G  Fives\n",
       "2013-01-31  17.600000  1.152828    3.717634  0.037692  1  1.156330      5\n",
       "2013-02-28   0.892275  0.343000    0.808303  0.898209  2  0.549274      5\n",
       "2013-03-31   0.390379  0.438595    0.672244  0.081278  3  0.048215      5\n",
       "2013-04-30   0.738945  0.605548    0.581430  0.098590  4  1.344493      5\n",
       "2013-05-31   0.051126  1.592866    0.180535  0.060732  5  1.541740      5\n",
       "2013-06-30   2.067142  0.433863  349.000000  0.424048  6  1.633279      5"
      ]
     },
     "execution_count": 89,
     "metadata": {},
     "output_type": "execute_result"
    }
   ],
   "source": [
    "df2 = df.copy()\n",
    "df2[df2 < 0] = -df2\n",
    "df2"
   ]
  },
  {
   "cell_type": "markdown",
   "metadata": {},
   "source": [
    "# Missing Data\n",
    "pandas primarily uses the value `np.nan` to represent missing data. It is by default not included in computations.\n",
    "See the [Missing Data section]()\n",
    "\n",
    "Reindexing allows you to change/add/delete the index on a specified axis. This returns a copy of the data."
   ]
  },
  {
   "cell_type": "code",
   "execution_count": 95,
   "metadata": {
    "ExecuteTime": {
     "end_time": "2017-09-18T20:52:24.921914",
     "start_time": "2017-09-18T20:52:24.853748"
    }
   },
   "outputs": [
    {
     "data": {
      "text/html": [
       "<div>\n",
       "<table border=\"1\" class=\"dataframe\">\n",
       "  <thead>\n",
       "    <tr style=\"text-align: right;\">\n",
       "      <th></th>\n",
       "      <th>Ann</th>\n",
       "      <th>Bob</th>\n",
       "      <th>Charly</th>\n",
       "      <th>Don</th>\n",
       "      <th>F</th>\n",
       "      <th>G</th>\n",
       "      <th>Fives</th>\n",
       "      <th>E</th>\n",
       "    </tr>\n",
       "  </thead>\n",
       "  <tbody>\n",
       "    <tr>\n",
       "      <th>2013-01-31</th>\n",
       "      <td>17.600000</td>\n",
       "      <td>1.152828</td>\n",
       "      <td>3.717634</td>\n",
       "      <td>0.037692</td>\n",
       "      <td>1</td>\n",
       "      <td>-1.156330</td>\n",
       "      <td>5</td>\n",
       "      <td>NaN</td>\n",
       "    </tr>\n",
       "    <tr>\n",
       "      <th>2013-02-28</th>\n",
       "      <td>0.892275</td>\n",
       "      <td>0.343000</td>\n",
       "      <td>-0.808303</td>\n",
       "      <td>-0.898209</td>\n",
       "      <td>2</td>\n",
       "      <td>0.549274</td>\n",
       "      <td>5</td>\n",
       "      <td>NaN</td>\n",
       "    </tr>\n",
       "    <tr>\n",
       "      <th>2013-03-31</th>\n",
       "      <td>-0.390379</td>\n",
       "      <td>-0.438595</td>\n",
       "      <td>0.672244</td>\n",
       "      <td>0.081278</td>\n",
       "      <td>3</td>\n",
       "      <td>0.048215</td>\n",
       "      <td>5</td>\n",
       "      <td>NaN</td>\n",
       "    </tr>\n",
       "    <tr>\n",
       "      <th>2013-04-30</th>\n",
       "      <td>-0.738945</td>\n",
       "      <td>0.605548</td>\n",
       "      <td>-0.581430</td>\n",
       "      <td>0.098590</td>\n",
       "      <td>4</td>\n",
       "      <td>-1.344493</td>\n",
       "      <td>5</td>\n",
       "      <td>NaN</td>\n",
       "    </tr>\n",
       "  </tbody>\n",
       "</table>\n",
       "</div>"
      ],
      "text/plain": [
       "                  Ann       Bob    Charly       Don  F         G  Fives   E\n",
       "2013-01-31  17.600000  1.152828  3.717634  0.037692  1 -1.156330      5 NaN\n",
       "2013-02-28   0.892275  0.343000 -0.808303 -0.898209  2  0.549274      5 NaN\n",
       "2013-03-31  -0.390379 -0.438595  0.672244  0.081278  3  0.048215      5 NaN\n",
       "2013-04-30  -0.738945  0.605548 -0.581430  0.098590  4 -1.344493      5 NaN"
      ]
     },
     "execution_count": 95,
     "metadata": {},
     "output_type": "execute_result"
    }
   ],
   "source": [
    "df1 = df.reindex(index=dates[0:4], columns=list(df.columns) + ['E'])\n",
    "df1"
   ]
  },
  {
   "cell_type": "code",
   "execution_count": 96,
   "metadata": {
    "ExecuteTime": {
     "end_time": "2017-09-18T20:52:26.797618",
     "start_time": "2017-09-18T20:52:26.739049"
    }
   },
   "outputs": [
    {
     "data": {
      "text/html": [
       "<div>\n",
       "<table border=\"1\" class=\"dataframe\">\n",
       "  <thead>\n",
       "    <tr style=\"text-align: right;\">\n",
       "      <th></th>\n",
       "      <th>Ann</th>\n",
       "      <th>Bob</th>\n",
       "      <th>Charly</th>\n",
       "      <th>Don</th>\n",
       "      <th>F</th>\n",
       "      <th>G</th>\n",
       "      <th>Fives</th>\n",
       "      <th>E</th>\n",
       "    </tr>\n",
       "  </thead>\n",
       "  <tbody>\n",
       "    <tr>\n",
       "      <th>2013-01-31</th>\n",
       "      <td>17.600000</td>\n",
       "      <td>1.152828</td>\n",
       "      <td>3.717634</td>\n",
       "      <td>0.037692</td>\n",
       "      <td>1</td>\n",
       "      <td>-1.156330</td>\n",
       "      <td>5</td>\n",
       "      <td>1.0</td>\n",
       "    </tr>\n",
       "    <tr>\n",
       "      <th>2013-02-28</th>\n",
       "      <td>0.892275</td>\n",
       "      <td>0.343000</td>\n",
       "      <td>-0.808303</td>\n",
       "      <td>-0.898209</td>\n",
       "      <td>2</td>\n",
       "      <td>0.549274</td>\n",
       "      <td>5</td>\n",
       "      <td>1.0</td>\n",
       "    </tr>\n",
       "    <tr>\n",
       "      <th>2013-03-31</th>\n",
       "      <td>-0.390379</td>\n",
       "      <td>-0.438595</td>\n",
       "      <td>0.672244</td>\n",
       "      <td>0.081278</td>\n",
       "      <td>3</td>\n",
       "      <td>0.048215</td>\n",
       "      <td>5</td>\n",
       "      <td>NaN</td>\n",
       "    </tr>\n",
       "    <tr>\n",
       "      <th>2013-04-30</th>\n",
       "      <td>-0.738945</td>\n",
       "      <td>0.605548</td>\n",
       "      <td>-0.581430</td>\n",
       "      <td>0.098590</td>\n",
       "      <td>4</td>\n",
       "      <td>-1.344493</td>\n",
       "      <td>5</td>\n",
       "      <td>NaN</td>\n",
       "    </tr>\n",
       "  </tbody>\n",
       "</table>\n",
       "</div>"
      ],
      "text/plain": [
       "                  Ann       Bob    Charly       Don  F         G  Fives    E\n",
       "2013-01-31  17.600000  1.152828  3.717634  0.037692  1 -1.156330      5  1.0\n",
       "2013-02-28   0.892275  0.343000 -0.808303 -0.898209  2  0.549274      5  1.0\n",
       "2013-03-31  -0.390379 -0.438595  0.672244  0.081278  3  0.048215      5  NaN\n",
       "2013-04-30  -0.738945  0.605548 -0.581430  0.098590  4 -1.344493      5  NaN"
      ]
     },
     "execution_count": 96,
     "metadata": {},
     "output_type": "execute_result"
    }
   ],
   "source": [
    "df1.loc[dates[0]:dates[1],'E'] = 1\n",
    "df1"
   ]
  },
  {
   "cell_type": "markdown",
   "metadata": {},
   "source": [
    "To drop any rows that have missing data."
   ]
  },
  {
   "cell_type": "code",
   "execution_count": 97,
   "metadata": {
    "ExecuteTime": {
     "end_time": "2017-09-18T20:53:33.037532",
     "start_time": "2017-09-18T20:53:32.937927"
    }
   },
   "outputs": [
    {
     "data": {
      "text/html": [
       "<div>\n",
       "<table border=\"1\" class=\"dataframe\">\n",
       "  <thead>\n",
       "    <tr style=\"text-align: right;\">\n",
       "      <th></th>\n",
       "      <th>Ann</th>\n",
       "      <th>Bob</th>\n",
       "      <th>Charly</th>\n",
       "      <th>Don</th>\n",
       "      <th>F</th>\n",
       "      <th>G</th>\n",
       "      <th>Fives</th>\n",
       "      <th>E</th>\n",
       "    </tr>\n",
       "  </thead>\n",
       "  <tbody>\n",
       "    <tr>\n",
       "      <th>2013-01-31</th>\n",
       "      <td>17.600000</td>\n",
       "      <td>1.152828</td>\n",
       "      <td>3.717634</td>\n",
       "      <td>0.037692</td>\n",
       "      <td>1</td>\n",
       "      <td>-1.156330</td>\n",
       "      <td>5</td>\n",
       "      <td>1.0</td>\n",
       "    </tr>\n",
       "    <tr>\n",
       "      <th>2013-02-28</th>\n",
       "      <td>0.892275</td>\n",
       "      <td>0.343000</td>\n",
       "      <td>-0.808303</td>\n",
       "      <td>-0.898209</td>\n",
       "      <td>2</td>\n",
       "      <td>0.549274</td>\n",
       "      <td>5</td>\n",
       "      <td>1.0</td>\n",
       "    </tr>\n",
       "  </tbody>\n",
       "</table>\n",
       "</div>"
      ],
      "text/plain": [
       "                  Ann       Bob    Charly       Don  F         G  Fives    E\n",
       "2013-01-31  17.600000  1.152828  3.717634  0.037692  1 -1.156330      5  1.0\n",
       "2013-02-28   0.892275  0.343000 -0.808303 -0.898209  2  0.549274      5  1.0"
      ]
     },
     "execution_count": 97,
     "metadata": {},
     "output_type": "execute_result"
    }
   ],
   "source": [
    "df1.dropna(how='any')"
   ]
  },
  {
   "cell_type": "markdown",
   "metadata": {},
   "source": [
    "Filling missing data"
   ]
  },
  {
   "cell_type": "code",
   "execution_count": 98,
   "metadata": {
    "ExecuteTime": {
     "end_time": "2017-09-18T20:54:17.473472",
     "start_time": "2017-09-18T20:54:17.423855"
    }
   },
   "outputs": [
    {
     "data": {
      "text/html": [
       "<div>\n",
       "<table border=\"1\" class=\"dataframe\">\n",
       "  <thead>\n",
       "    <tr style=\"text-align: right;\">\n",
       "      <th></th>\n",
       "      <th>Ann</th>\n",
       "      <th>Bob</th>\n",
       "      <th>Charly</th>\n",
       "      <th>Don</th>\n",
       "      <th>F</th>\n",
       "      <th>G</th>\n",
       "      <th>Fives</th>\n",
       "      <th>E</th>\n",
       "    </tr>\n",
       "  </thead>\n",
       "  <tbody>\n",
       "    <tr>\n",
       "      <th>2013-01-31</th>\n",
       "      <td>17.600000</td>\n",
       "      <td>1.152828</td>\n",
       "      <td>3.717634</td>\n",
       "      <td>0.037692</td>\n",
       "      <td>1</td>\n",
       "      <td>-1.156330</td>\n",
       "      <td>5</td>\n",
       "      <td>1.0</td>\n",
       "    </tr>\n",
       "    <tr>\n",
       "      <th>2013-02-28</th>\n",
       "      <td>0.892275</td>\n",
       "      <td>0.343000</td>\n",
       "      <td>-0.808303</td>\n",
       "      <td>-0.898209</td>\n",
       "      <td>2</td>\n",
       "      <td>0.549274</td>\n",
       "      <td>5</td>\n",
       "      <td>1.0</td>\n",
       "    </tr>\n",
       "    <tr>\n",
       "      <th>2013-03-31</th>\n",
       "      <td>-0.390379</td>\n",
       "      <td>-0.438595</td>\n",
       "      <td>0.672244</td>\n",
       "      <td>0.081278</td>\n",
       "      <td>3</td>\n",
       "      <td>0.048215</td>\n",
       "      <td>5</td>\n",
       "      <td>NaN</td>\n",
       "    </tr>\n",
       "    <tr>\n",
       "      <th>2013-04-30</th>\n",
       "      <td>-0.738945</td>\n",
       "      <td>0.605548</td>\n",
       "      <td>-0.581430</td>\n",
       "      <td>0.098590</td>\n",
       "      <td>4</td>\n",
       "      <td>-1.344493</td>\n",
       "      <td>5</td>\n",
       "      <td>NaN</td>\n",
       "    </tr>\n",
       "  </tbody>\n",
       "</table>\n",
       "</div>"
      ],
      "text/plain": [
       "                  Ann       Bob    Charly       Don  F         G  Fives    E\n",
       "2013-01-31  17.600000  1.152828  3.717634  0.037692  1 -1.156330      5  1.0\n",
       "2013-02-28   0.892275  0.343000 -0.808303 -0.898209  2  0.549274      5  1.0\n",
       "2013-03-31  -0.390379 -0.438595  0.672244  0.081278  3  0.048215      5  NaN\n",
       "2013-04-30  -0.738945  0.605548 -0.581430  0.098590  4 -1.344493      5  NaN"
      ]
     },
     "execution_count": 98,
     "metadata": {},
     "output_type": "execute_result"
    }
   ],
   "source": [
    "df1"
   ]
  },
  {
   "cell_type": "code",
   "execution_count": 99,
   "metadata": {
    "ExecuteTime": {
     "end_time": "2017-09-18T20:54:20.925717",
     "start_time": "2017-09-18T20:54:20.871529"
    }
   },
   "outputs": [
    {
     "data": {
      "text/html": [
       "<div>\n",
       "<table border=\"1\" class=\"dataframe\">\n",
       "  <thead>\n",
       "    <tr style=\"text-align: right;\">\n",
       "      <th></th>\n",
       "      <th>Ann</th>\n",
       "      <th>Bob</th>\n",
       "      <th>Charly</th>\n",
       "      <th>Don</th>\n",
       "      <th>F</th>\n",
       "      <th>G</th>\n",
       "      <th>Fives</th>\n",
       "      <th>E</th>\n",
       "    </tr>\n",
       "  </thead>\n",
       "  <tbody>\n",
       "    <tr>\n",
       "      <th>2013-01-31</th>\n",
       "      <td>17.600000</td>\n",
       "      <td>1.152828</td>\n",
       "      <td>3.717634</td>\n",
       "      <td>0.037692</td>\n",
       "      <td>1</td>\n",
       "      <td>-1.156330</td>\n",
       "      <td>5</td>\n",
       "      <td>1.0</td>\n",
       "    </tr>\n",
       "    <tr>\n",
       "      <th>2013-02-28</th>\n",
       "      <td>0.892275</td>\n",
       "      <td>0.343000</td>\n",
       "      <td>-0.808303</td>\n",
       "      <td>-0.898209</td>\n",
       "      <td>2</td>\n",
       "      <td>0.549274</td>\n",
       "      <td>5</td>\n",
       "      <td>1.0</td>\n",
       "    </tr>\n",
       "    <tr>\n",
       "      <th>2013-03-31</th>\n",
       "      <td>-0.390379</td>\n",
       "      <td>-0.438595</td>\n",
       "      <td>0.672244</td>\n",
       "      <td>0.081278</td>\n",
       "      <td>3</td>\n",
       "      <td>0.048215</td>\n",
       "      <td>5</td>\n",
       "      <td>5.0</td>\n",
       "    </tr>\n",
       "    <tr>\n",
       "      <th>2013-04-30</th>\n",
       "      <td>-0.738945</td>\n",
       "      <td>0.605548</td>\n",
       "      <td>-0.581430</td>\n",
       "      <td>0.098590</td>\n",
       "      <td>4</td>\n",
       "      <td>-1.344493</td>\n",
       "      <td>5</td>\n",
       "      <td>5.0</td>\n",
       "    </tr>\n",
       "  </tbody>\n",
       "</table>\n",
       "</div>"
      ],
      "text/plain": [
       "                  Ann       Bob    Charly       Don  F         G  Fives    E\n",
       "2013-01-31  17.600000  1.152828  3.717634  0.037692  1 -1.156330      5  1.0\n",
       "2013-02-28   0.892275  0.343000 -0.808303 -0.898209  2  0.549274      5  1.0\n",
       "2013-03-31  -0.390379 -0.438595  0.672244  0.081278  3  0.048215      5  5.0\n",
       "2013-04-30  -0.738945  0.605548 -0.581430  0.098590  4 -1.344493      5  5.0"
      ]
     },
     "execution_count": 99,
     "metadata": {},
     "output_type": "execute_result"
    }
   ],
   "source": [
    "df1.fillna(value=5)"
   ]
  },
  {
   "cell_type": "markdown",
   "metadata": {},
   "source": [
    "To get the boolean mask where values are `nan`"
   ]
  },
  {
   "cell_type": "code",
   "execution_count": 100,
   "metadata": {
    "ExecuteTime": {
     "end_time": "2017-09-18T20:54:39.975980",
     "start_time": "2017-09-18T20:54:39.924052"
    }
   },
   "outputs": [
    {
     "data": {
      "text/html": [
       "<div>\n",
       "<table border=\"1\" class=\"dataframe\">\n",
       "  <thead>\n",
       "    <tr style=\"text-align: right;\">\n",
       "      <th></th>\n",
       "      <th>Ann</th>\n",
       "      <th>Bob</th>\n",
       "      <th>Charly</th>\n",
       "      <th>Don</th>\n",
       "      <th>F</th>\n",
       "      <th>G</th>\n",
       "      <th>Fives</th>\n",
       "      <th>E</th>\n",
       "    </tr>\n",
       "  </thead>\n",
       "  <tbody>\n",
       "    <tr>\n",
       "      <th>2013-01-31</th>\n",
       "      <td>False</td>\n",
       "      <td>False</td>\n",
       "      <td>False</td>\n",
       "      <td>False</td>\n",
       "      <td>False</td>\n",
       "      <td>False</td>\n",
       "      <td>False</td>\n",
       "      <td>False</td>\n",
       "    </tr>\n",
       "    <tr>\n",
       "      <th>2013-02-28</th>\n",
       "      <td>False</td>\n",
       "      <td>False</td>\n",
       "      <td>False</td>\n",
       "      <td>False</td>\n",
       "      <td>False</td>\n",
       "      <td>False</td>\n",
       "      <td>False</td>\n",
       "      <td>False</td>\n",
       "    </tr>\n",
       "    <tr>\n",
       "      <th>2013-03-31</th>\n",
       "      <td>False</td>\n",
       "      <td>False</td>\n",
       "      <td>False</td>\n",
       "      <td>False</td>\n",
       "      <td>False</td>\n",
       "      <td>False</td>\n",
       "      <td>False</td>\n",
       "      <td>True</td>\n",
       "    </tr>\n",
       "    <tr>\n",
       "      <th>2013-04-30</th>\n",
       "      <td>False</td>\n",
       "      <td>False</td>\n",
       "      <td>False</td>\n",
       "      <td>False</td>\n",
       "      <td>False</td>\n",
       "      <td>False</td>\n",
       "      <td>False</td>\n",
       "      <td>True</td>\n",
       "    </tr>\n",
       "  </tbody>\n",
       "</table>\n",
       "</div>"
      ],
      "text/plain": [
       "              Ann    Bob Charly    Don      F      G  Fives      E\n",
       "2013-01-31  False  False  False  False  False  False  False  False\n",
       "2013-02-28  False  False  False  False  False  False  False  False\n",
       "2013-03-31  False  False  False  False  False  False  False   True\n",
       "2013-04-30  False  False  False  False  False  False  False   True"
      ]
     },
     "execution_count": 100,
     "metadata": {},
     "output_type": "execute_result"
    }
   ],
   "source": [
    "pd.isnull(df1)"
   ]
  },
  {
   "cell_type": "code",
   "execution_count": 108,
   "metadata": {
    "ExecuteTime": {
     "end_time": "2017-09-18T20:58:40.476524",
     "start_time": "2017-09-18T20:58:40.412136"
    },
    "scrolled": true
   },
   "outputs": [
    {
     "data": {
      "text/html": [
       "<div>\n",
       "<table border=\"1\" class=\"dataframe\">\n",
       "  <thead>\n",
       "    <tr style=\"text-align: right;\">\n",
       "      <th></th>\n",
       "      <th>Ann</th>\n",
       "      <th>Bob</th>\n",
       "      <th>Charly</th>\n",
       "      <th>Don</th>\n",
       "      <th>F</th>\n",
       "      <th>G</th>\n",
       "      <th>Fives</th>\n",
       "    </tr>\n",
       "  </thead>\n",
       "  <tbody>\n",
       "    <tr>\n",
       "      <th>2013-01-31</th>\n",
       "      <td>0.000000</td>\n",
       "      <td>1.152828</td>\n",
       "      <td>3.717634</td>\n",
       "      <td>0.037692</td>\n",
       "      <td>1</td>\n",
       "      <td>-1.156330</td>\n",
       "      <td>5</td>\n",
       "    </tr>\n",
       "    <tr>\n",
       "      <th>2013-02-28</th>\n",
       "      <td>1.000000</td>\n",
       "      <td>0.343000</td>\n",
       "      <td>-0.808303</td>\n",
       "      <td>-0.898209</td>\n",
       "      <td>2</td>\n",
       "      <td>0.549274</td>\n",
       "      <td>5</td>\n",
       "    </tr>\n",
       "    <tr>\n",
       "      <th>2013-03-31</th>\n",
       "      <td>2.000000</td>\n",
       "      <td>-0.438595</td>\n",
       "      <td>0.672244</td>\n",
       "      <td>0.081278</td>\n",
       "      <td>3</td>\n",
       "      <td>0.048215</td>\n",
       "      <td>5</td>\n",
       "    </tr>\n",
       "    <tr>\n",
       "      <th>2013-04-30</th>\n",
       "      <td>-0.738945</td>\n",
       "      <td>0.605548</td>\n",
       "      <td>-0.581430</td>\n",
       "      <td>0.098590</td>\n",
       "      <td>4</td>\n",
       "      <td>-1.344493</td>\n",
       "      <td>5</td>\n",
       "    </tr>\n",
       "    <tr>\n",
       "      <th>2013-05-31</th>\n",
       "      <td>-0.051126</td>\n",
       "      <td>-1.592866</td>\n",
       "      <td>0.180535</td>\n",
       "      <td>-0.060732</td>\n",
       "      <td>5</td>\n",
       "      <td>1.541740</td>\n",
       "      <td>5</td>\n",
       "    </tr>\n",
       "    <tr>\n",
       "      <th>2013-06-30</th>\n",
       "      <td>2.067142</td>\n",
       "      <td>0.433863</td>\n",
       "      <td>349.000000</td>\n",
       "      <td>0.424048</td>\n",
       "      <td>6</td>\n",
       "      <td>1.633279</td>\n",
       "      <td>5</td>\n",
       "    </tr>\n",
       "  </tbody>\n",
       "</table>\n",
       "</div>"
      ],
      "text/plain": [
       "                 Ann       Bob      Charly       Don  F         G  Fives\n",
       "2013-01-31  0.000000  1.152828    3.717634  0.037692  1 -1.156330      5\n",
       "2013-02-28  1.000000  0.343000   -0.808303 -0.898209  2  0.549274      5\n",
       "2013-03-31  2.000000 -0.438595    0.672244  0.081278  3  0.048215      5\n",
       "2013-04-30 -0.738945  0.605548   -0.581430  0.098590  4 -1.344493      5\n",
       "2013-05-31 -0.051126 -1.592866    0.180535 -0.060732  5  1.541740      5\n",
       "2013-06-30  2.067142  0.433863  349.000000  0.424048  6  1.633279      5"
      ]
     },
     "execution_count": 108,
     "metadata": {},
     "output_type": "execute_result"
    }
   ],
   "source": [
    "df.set_value(dates[:3], 'Ann', [0,1,2])"
   ]
  },
  {
   "cell_type": "markdown",
   "metadata": {},
   "source": [
    "# Operations\n",
    "See the [Basic section on Binary Ops]()\n",
    "\n",
    "## Stats\n",
    "\n",
    "Operations in general exclude missing data.\n",
    "\n",
    "Performing a descriptive statistic\n"
   ]
  },
  {
   "cell_type": "code",
   "execution_count": 110,
   "metadata": {
    "ExecuteTime": {
     "end_time": "2017-09-18T21:13:15.909815",
     "start_time": "2017-09-18T21:13:15.890524"
    }
   },
   "outputs": [
    {
     "data": {
      "text/plain": [
       "Ann        0.712845\n",
       "Bob        0.083963\n",
       "Charly    58.696780\n",
       "Don       -0.052889\n",
       "F          3.500000\n",
       "G          0.211948\n",
       "Fives      5.000000\n",
       "dtype: float64"
      ]
     },
     "execution_count": 110,
     "metadata": {},
     "output_type": "execute_result"
    }
   ],
   "source": [
    "df.mean(0)"
   ]
  },
  {
   "cell_type": "markdown",
   "metadata": {},
   "source": [
    "Same operation on the other axis"
   ]
  },
  {
   "cell_type": "code",
   "execution_count": 111,
   "metadata": {
    "ExecuteTime": {
     "end_time": "2017-09-18T21:13:19.935613",
     "start_time": "2017-09-18T21:13:19.897456"
    }
   },
   "outputs": [
    {
     "data": {
      "text/plain": [
       "2013-01-31     1.393118\n",
       "2013-02-28     1.026538\n",
       "2013-03-31     1.480449\n",
       "2013-04-30     1.005610\n",
       "2013-05-31     1.431079\n",
       "2013-06-30    52.079762\n",
       "Freq: M, dtype: float64"
      ]
     },
     "execution_count": 111,
     "metadata": {},
     "output_type": "execute_result"
    }
   ],
   "source": [
    "df.mean(1)"
   ]
  },
  {
   "cell_type": "markdown",
   "metadata": {},
   "source": [
    "Operating with objects that have different dimensionality and need alignment. In addition, pandas automatically broadcasts along the specified dimension."
   ]
  },
  {
   "cell_type": "code",
   "execution_count": 109,
   "metadata": {
    "ExecuteTime": {
     "end_time": "2017-09-18T21:02:16.070059",
     "start_time": "2017-09-18T21:02:16.004715"
    }
   },
   "outputs": [
    {
     "data": {
      "text/plain": [
       "2013-01-31    NaN\n",
       "2013-02-28    NaN\n",
       "2013-03-31    1.0\n",
       "2013-04-30    3.0\n",
       "2013-05-31    5.0\n",
       "2013-06-30    NaN\n",
       "Freq: M, dtype: float64"
      ]
     },
     "execution_count": 109,
     "metadata": {},
     "output_type": "execute_result"
    }
   ],
   "source": [
    "s = pd.Series([1,3,5,np.nan,6,8], index=dates).shift(2)\n",
    "s"
   ]
  },
  {
   "cell_type": "code",
   "execution_count": null,
   "metadata": {},
   "outputs": [],
   "source": [
    "df.sub(s, axis='index')"
   ]
  },
  {
   "cell_type": "markdown",
   "metadata": {},
   "source": [
    "## Apply\n",
    "\n",
    "Applying functions to the data"
   ]
  },
  {
   "cell_type": "code",
   "execution_count": null,
   "metadata": {},
   "outputs": [],
   "source": [
    "df"
   ]
  },
  {
   "cell_type": "code",
   "execution_count": 112,
   "metadata": {
    "ExecuteTime": {
     "end_time": "2017-09-18T21:14:08.207979",
     "start_time": "2017-09-18T21:14:08.123878"
    }
   },
   "outputs": [
    {
     "data": {
      "text/html": [
       "<div>\n",
       "<table border=\"1\" class=\"dataframe\">\n",
       "  <thead>\n",
       "    <tr style=\"text-align: right;\">\n",
       "      <th></th>\n",
       "      <th>Ann</th>\n",
       "      <th>Bob</th>\n",
       "      <th>Charly</th>\n",
       "      <th>Don</th>\n",
       "      <th>F</th>\n",
       "      <th>G</th>\n",
       "      <th>Fives</th>\n",
       "    </tr>\n",
       "  </thead>\n",
       "  <tbody>\n",
       "    <tr>\n",
       "      <th>2013-01-31</th>\n",
       "      <td>0.000000</td>\n",
       "      <td>1.152828</td>\n",
       "      <td>3.717634</td>\n",
       "      <td>0.037692</td>\n",
       "      <td>1</td>\n",
       "      <td>-1.156330</td>\n",
       "      <td>5</td>\n",
       "    </tr>\n",
       "    <tr>\n",
       "      <th>2013-02-28</th>\n",
       "      <td>1.000000</td>\n",
       "      <td>1.495829</td>\n",
       "      <td>2.909332</td>\n",
       "      <td>-0.860517</td>\n",
       "      <td>3</td>\n",
       "      <td>-0.607056</td>\n",
       "      <td>10</td>\n",
       "    </tr>\n",
       "    <tr>\n",
       "      <th>2013-03-31</th>\n",
       "      <td>3.000000</td>\n",
       "      <td>1.057234</td>\n",
       "      <td>3.581576</td>\n",
       "      <td>-0.779239</td>\n",
       "      <td>6</td>\n",
       "      <td>-0.558841</td>\n",
       "      <td>15</td>\n",
       "    </tr>\n",
       "    <tr>\n",
       "      <th>2013-04-30</th>\n",
       "      <td>2.261055</td>\n",
       "      <td>1.662782</td>\n",
       "      <td>3.000146</td>\n",
       "      <td>-0.680649</td>\n",
       "      <td>10</td>\n",
       "      <td>-1.903334</td>\n",
       "      <td>20</td>\n",
       "    </tr>\n",
       "    <tr>\n",
       "      <th>2013-05-31</th>\n",
       "      <td>2.209929</td>\n",
       "      <td>0.069916</td>\n",
       "      <td>3.180680</td>\n",
       "      <td>-0.741381</td>\n",
       "      <td>15</td>\n",
       "      <td>-0.361594</td>\n",
       "      <td>25</td>\n",
       "    </tr>\n",
       "    <tr>\n",
       "      <th>2013-06-30</th>\n",
       "      <td>4.277071</td>\n",
       "      <td>0.503779</td>\n",
       "      <td>352.180680</td>\n",
       "      <td>-0.317333</td>\n",
       "      <td>21</td>\n",
       "      <td>1.271685</td>\n",
       "      <td>30</td>\n",
       "    </tr>\n",
       "  </tbody>\n",
       "</table>\n",
       "</div>"
      ],
      "text/plain": [
       "                 Ann       Bob      Charly       Don   F         G  Fives\n",
       "2013-01-31  0.000000  1.152828    3.717634  0.037692   1 -1.156330      5\n",
       "2013-02-28  1.000000  1.495829    2.909332 -0.860517   3 -0.607056     10\n",
       "2013-03-31  3.000000  1.057234    3.581576 -0.779239   6 -0.558841     15\n",
       "2013-04-30  2.261055  1.662782    3.000146 -0.680649  10 -1.903334     20\n",
       "2013-05-31  2.209929  0.069916    3.180680 -0.741381  15 -0.361594     25\n",
       "2013-06-30  4.277071  0.503779  352.180680 -0.317333  21  1.271685     30"
      ]
     },
     "execution_count": 112,
     "metadata": {},
     "output_type": "execute_result"
    }
   ],
   "source": [
    "df.apply(np.cumsum)"
   ]
  },
  {
   "cell_type": "code",
   "execution_count": 113,
   "metadata": {
    "ExecuteTime": {
     "end_time": "2017-09-18T21:14:25.232515",
     "start_time": "2017-09-18T21:14:25.148479"
    }
   },
   "outputs": [
    {
     "data": {
      "text/html": [
       "<div>\n",
       "<table border=\"1\" class=\"dataframe\">\n",
       "  <thead>\n",
       "    <tr style=\"text-align: right;\">\n",
       "      <th></th>\n",
       "      <th>Ann</th>\n",
       "      <th>Bob</th>\n",
       "      <th>Charly</th>\n",
       "      <th>Don</th>\n",
       "      <th>F</th>\n",
       "      <th>G</th>\n",
       "      <th>Fives</th>\n",
       "    </tr>\n",
       "  </thead>\n",
       "  <tbody>\n",
       "    <tr>\n",
       "      <th>2013-01-31</th>\n",
       "      <td>0.000000</td>\n",
       "      <td>1.152828</td>\n",
       "      <td>3.717634</td>\n",
       "      <td>0.037692</td>\n",
       "      <td>1</td>\n",
       "      <td>-1.156330</td>\n",
       "      <td>5</td>\n",
       "    </tr>\n",
       "    <tr>\n",
       "      <th>2013-02-28</th>\n",
       "      <td>1.000000</td>\n",
       "      <td>0.343000</td>\n",
       "      <td>-0.808303</td>\n",
       "      <td>-0.898209</td>\n",
       "      <td>2</td>\n",
       "      <td>0.549274</td>\n",
       "      <td>5</td>\n",
       "    </tr>\n",
       "    <tr>\n",
       "      <th>2013-03-31</th>\n",
       "      <td>2.000000</td>\n",
       "      <td>-0.438595</td>\n",
       "      <td>0.672244</td>\n",
       "      <td>0.081278</td>\n",
       "      <td>3</td>\n",
       "      <td>0.048215</td>\n",
       "      <td>5</td>\n",
       "    </tr>\n",
       "    <tr>\n",
       "      <th>2013-04-30</th>\n",
       "      <td>-0.738945</td>\n",
       "      <td>0.605548</td>\n",
       "      <td>-0.581430</td>\n",
       "      <td>0.098590</td>\n",
       "      <td>4</td>\n",
       "      <td>-1.344493</td>\n",
       "      <td>5</td>\n",
       "    </tr>\n",
       "    <tr>\n",
       "      <th>2013-05-31</th>\n",
       "      <td>-0.051126</td>\n",
       "      <td>-1.592866</td>\n",
       "      <td>0.180535</td>\n",
       "      <td>-0.060732</td>\n",
       "      <td>5</td>\n",
       "      <td>1.541740</td>\n",
       "      <td>5</td>\n",
       "    </tr>\n",
       "    <tr>\n",
       "      <th>2013-06-30</th>\n",
       "      <td>2.067142</td>\n",
       "      <td>0.433863</td>\n",
       "      <td>349.000000</td>\n",
       "      <td>0.424048</td>\n",
       "      <td>6</td>\n",
       "      <td>1.633279</td>\n",
       "      <td>5</td>\n",
       "    </tr>\n",
       "  </tbody>\n",
       "</table>\n",
       "</div>"
      ],
      "text/plain": [
       "                 Ann       Bob      Charly       Don  F         G  Fives\n",
       "2013-01-31  0.000000  1.152828    3.717634  0.037692  1 -1.156330      5\n",
       "2013-02-28  1.000000  0.343000   -0.808303 -0.898209  2  0.549274      5\n",
       "2013-03-31  2.000000 -0.438595    0.672244  0.081278  3  0.048215      5\n",
       "2013-04-30 -0.738945  0.605548   -0.581430  0.098590  4 -1.344493      5\n",
       "2013-05-31 -0.051126 -1.592866    0.180535 -0.060732  5  1.541740      5\n",
       "2013-06-30  2.067142  0.433863  349.000000  0.424048  6  1.633279      5"
      ]
     },
     "execution_count": 113,
     "metadata": {},
     "output_type": "execute_result"
    }
   ],
   "source": [
    "df"
   ]
  },
  {
   "cell_type": "code",
   "execution_count": 114,
   "metadata": {
    "ExecuteTime": {
     "end_time": "2017-09-18T21:14:27.757269",
     "start_time": "2017-09-18T21:14:27.746054"
    }
   },
   "outputs": [
    {
     "data": {
      "text/plain": [
       "Ann         2.067142\n",
       "Bob         1.152828\n",
       "Charly    349.000000\n",
       "Don         0.424048\n",
       "F           6.000000\n",
       "G           1.633279\n",
       "Fives       5.000000\n",
       "dtype: float64"
      ]
     },
     "execution_count": 114,
     "metadata": {},
     "output_type": "execute_result"
    }
   ],
   "source": [
    "df.max() ##df.apply(max)"
   ]
  },
  {
   "cell_type": "code",
   "execution_count": 115,
   "metadata": {
    "ExecuteTime": {
     "end_time": "2017-09-18T21:14:35.111287",
     "start_time": "2017-09-18T21:14:35.100257"
    }
   },
   "outputs": [
    {
     "data": {
      "text/plain": [
       "2.8060869328012688"
      ]
     },
     "execution_count": 115,
     "metadata": {},
     "output_type": "execute_result"
    }
   ],
   "source": [
    "df.Ann.max()-df.Ann.min()"
   ]
  },
  {
   "cell_type": "code",
   "execution_count": 116,
   "metadata": {
    "ExecuteTime": {
     "end_time": "2017-09-18T21:14:38.106838",
     "start_time": "2017-09-18T21:14:38.093618"
    }
   },
   "outputs": [
    {
     "data": {
      "text/plain": [
       "Ann         2.806087\n",
       "Bob         2.745694\n",
       "Charly    349.808303\n",
       "Don         1.322257\n",
       "F           5.000000\n",
       "G           2.977772\n",
       "Fives       0.000000\n",
       "dtype: float64"
      ]
     },
     "execution_count": 116,
     "metadata": {},
     "output_type": "execute_result"
    }
   ],
   "source": [
    "df.apply(lambda x: x.max() - x.min())"
   ]
  },
  {
   "cell_type": "markdown",
   "metadata": {},
   "source": [
    "## Histogramming\n",
    "\n",
    "See more at [Histogramming and Discretization](http://pandas.pydata.org/pandas-docs/stable/basics.html#basics-discretization)"
   ]
  },
  {
   "cell_type": "code",
   "execution_count": null,
   "metadata": {},
   "outputs": [],
   "source": [
    "s = pd.Series(np.random.randint(0, 7, size=10))\n",
    "s"
   ]
  },
  {
   "cell_type": "code",
   "execution_count": null,
   "metadata": {},
   "outputs": [],
   "source": [
    "s.value_counts()"
   ]
  },
  {
   "cell_type": "markdown",
   "metadata": {},
   "source": [
    "Series is equipped with a set of string processing methods in the str attribute that make it easy to operate on each element of the array, as in the code snippet below. Note that pattern-matching in str generally uses [regular expressions](https://docs.python.org/2/library/re.html) by default (and in some cases always uses them). See more at [Vectorized String Methods](http://pandas.pydata.org/pandas-docs/stable/text.html#text-string-methods)."
   ]
  },
  {
   "cell_type": "code",
   "execution_count": null,
   "metadata": {},
   "outputs": [],
   "source": [
    "s = pd.Series(['A', 'B', 'C', 'Aaba', 'Baca', np.nan, 'CABA', 'dog', 'cat'])\n",
    "s.str.lower()"
   ]
  },
  {
   "cell_type": "markdown",
   "metadata": {},
   "source": [
    "# Merge\n",
    "## Concat\n",
    "\n",
    "pandas provides various facilities for easily combining together Series, DataFrame, and Panel objects with various kinds of set logic for the indexes and relational algebra functionality in the case of join / merge-type operations.\n",
    "\n",
    "See the [Merging section](http://pandas.pydata.org/pandas-docs/stable/merging.html#merging)\n",
    "\n",
    "Concatenating pandas objects together with `concat()`:"
   ]
  },
  {
   "cell_type": "code",
   "execution_count": null,
   "metadata": {
    "ExecuteTime": {
     "end_time": "2017-09-18T17:48:01.380790",
     "start_time": "2017-09-18T17:48:01.348534"
    }
   },
   "outputs": [],
   "source": [
    "df = pd.DataFrame(np.random.randn(10, 4))\n",
    "df"
   ]
  },
  {
   "cell_type": "code",
   "execution_count": null,
   "metadata": {
    "ExecuteTime": {
     "end_time": "2017-09-18T17:49:19.149409",
     "start_time": "2017-09-18T17:49:19.078001"
    }
   },
   "outputs": [],
   "source": [
    "# break it into pieces\n",
    "pieces = [df[:3], df[3:7], df[7:]]\n",
    "print \"pieces:\\n\", pieces\n",
    "print \"put back together:\\n\"\n",
    "pd.concat(pieces)"
   ]
  },
  {
   "cell_type": "markdown",
   "metadata": {},
   "source": [
    "## Join\n",
    "\n",
    "SQL style merges. See the [Database style joining](http://pandas.pydata.org/pandas-docs/stable/merging.html#merging-join)"
   ]
  },
  {
   "cell_type": "code",
   "execution_count": 117,
   "metadata": {
    "ExecuteTime": {
     "end_time": "2017-09-18T21:15:12.947030",
     "start_time": "2017-09-18T21:15:12.939307"
    },
    "collapsed": true
   },
   "outputs": [],
   "source": [
    "left = pd.DataFrame({'key': ['foo', 'boo', 'foo'], 'lval': [1, 2, 3]})\n",
    "#right = pd.DataFrame({'key': ['boo', 'foo', 'foo'], 'rval': [4, 5, 6]})\n",
    "right = pd.DataFrame({'key': ['foo', 'foo'], 'rval': [5, 6]})"
   ]
  },
  {
   "cell_type": "code",
   "execution_count": 118,
   "metadata": {
    "ExecuteTime": {
     "end_time": "2017-09-18T21:15:15.849666",
     "start_time": "2017-09-18T21:15:15.834923"
    }
   },
   "outputs": [
    {
     "data": {
      "text/html": [
       "<div>\n",
       "<table border=\"1\" class=\"dataframe\">\n",
       "  <thead>\n",
       "    <tr style=\"text-align: right;\">\n",
       "      <th></th>\n",
       "      <th>key</th>\n",
       "      <th>lval</th>\n",
       "    </tr>\n",
       "  </thead>\n",
       "  <tbody>\n",
       "    <tr>\n",
       "      <th>0</th>\n",
       "      <td>foo</td>\n",
       "      <td>1</td>\n",
       "    </tr>\n",
       "    <tr>\n",
       "      <th>1</th>\n",
       "      <td>boo</td>\n",
       "      <td>2</td>\n",
       "    </tr>\n",
       "    <tr>\n",
       "      <th>2</th>\n",
       "      <td>foo</td>\n",
       "      <td>3</td>\n",
       "    </tr>\n",
       "  </tbody>\n",
       "</table>\n",
       "</div>"
      ],
      "text/plain": [
       "   key  lval\n",
       "0  foo     1\n",
       "1  boo     2\n",
       "2  foo     3"
      ]
     },
     "execution_count": 118,
     "metadata": {},
     "output_type": "execute_result"
    }
   ],
   "source": [
    "left"
   ]
  },
  {
   "cell_type": "code",
   "execution_count": 119,
   "metadata": {
    "ExecuteTime": {
     "end_time": "2017-09-18T21:15:17.118441",
     "start_time": "2017-09-18T21:15:17.099123"
    }
   },
   "outputs": [
    {
     "data": {
      "text/html": [
       "<div>\n",
       "<table border=\"1\" class=\"dataframe\">\n",
       "  <thead>\n",
       "    <tr style=\"text-align: right;\">\n",
       "      <th></th>\n",
       "      <th>key</th>\n",
       "      <th>rval</th>\n",
       "    </tr>\n",
       "  </thead>\n",
       "  <tbody>\n",
       "    <tr>\n",
       "      <th>0</th>\n",
       "      <td>foo</td>\n",
       "      <td>5</td>\n",
       "    </tr>\n",
       "    <tr>\n",
       "      <th>1</th>\n",
       "      <td>foo</td>\n",
       "      <td>6</td>\n",
       "    </tr>\n",
       "  </tbody>\n",
       "</table>\n",
       "</div>"
      ],
      "text/plain": [
       "   key  rval\n",
       "0  foo     5\n",
       "1  foo     6"
      ]
     },
     "execution_count": 119,
     "metadata": {},
     "output_type": "execute_result"
    }
   ],
   "source": [
    "right"
   ]
  },
  {
   "cell_type": "code",
   "execution_count": 121,
   "metadata": {
    "ExecuteTime": {
     "end_time": "2017-09-18T21:17:12.937097",
     "start_time": "2017-09-18T21:17:12.876704"
    }
   },
   "outputs": [
    {
     "data": {
      "text/html": [
       "<div>\n",
       "<table border=\"1\" class=\"dataframe\">\n",
       "  <thead>\n",
       "    <tr style=\"text-align: right;\">\n",
       "      <th></th>\n",
       "      <th>key</th>\n",
       "      <th>lval</th>\n",
       "      <th>rval</th>\n",
       "    </tr>\n",
       "  </thead>\n",
       "  <tbody>\n",
       "    <tr>\n",
       "      <th>0</th>\n",
       "      <td>foo</td>\n",
       "      <td>1</td>\n",
       "      <td>5</td>\n",
       "    </tr>\n",
       "    <tr>\n",
       "      <th>1</th>\n",
       "      <td>foo</td>\n",
       "      <td>3</td>\n",
       "      <td>5</td>\n",
       "    </tr>\n",
       "    <tr>\n",
       "      <th>2</th>\n",
       "      <td>foo</td>\n",
       "      <td>1</td>\n",
       "      <td>6</td>\n",
       "    </tr>\n",
       "    <tr>\n",
       "      <th>3</th>\n",
       "      <td>foo</td>\n",
       "      <td>3</td>\n",
       "      <td>6</td>\n",
       "    </tr>\n",
       "  </tbody>\n",
       "</table>\n",
       "</div>"
      ],
      "text/plain": [
       "   key  lval  rval\n",
       "0  foo     1     5\n",
       "1  foo     3     5\n",
       "2  foo     1     6\n",
       "3  foo     3     6"
      ]
     },
     "execution_count": 121,
     "metadata": {},
     "output_type": "execute_result"
    }
   ],
   "source": [
    "pd.merge(left, right, on='key', how='right')"
   ]
  },
  {
   "cell_type": "markdown",
   "metadata": {},
   "source": [
    "## Append\n",
    "\n",
    "Append rows to a dataframe. See the [Appending](http://pandas.pydata.org/pandas-docs/stable/merging.html#merging-concatenation)"
   ]
  },
  {
   "cell_type": "code",
   "execution_count": 1,
   "metadata": {},
   "outputs": [
    {
     "data": {
      "text/html": [
       "<div>\n",
       "<style scoped>\n",
       "    .dataframe tbody tr th:only-of-type {\n",
       "        vertical-align: middle;\n",
       "    }\n",
       "\n",
       "    .dataframe tbody tr th {\n",
       "        vertical-align: top;\n",
       "    }\n",
       "\n",
       "    .dataframe thead th {\n",
       "        text-align: right;\n",
       "    }\n",
       "</style>\n",
       "<table border=\"1\" class=\"dataframe\">\n",
       "  <thead>\n",
       "    <tr style=\"text-align: right;\">\n",
       "      <th></th>\n",
       "      <th>A</th>\n",
       "      <th>B</th>\n",
       "      <th>C</th>\n",
       "      <th>D</th>\n",
       "    </tr>\n",
       "  </thead>\n",
       "  <tbody>\n",
       "    <tr>\n",
       "      <th>0</th>\n",
       "      <td>0.443129</td>\n",
       "      <td>-1.565255</td>\n",
       "      <td>1.945183</td>\n",
       "      <td>-0.484802</td>\n",
       "    </tr>\n",
       "    <tr>\n",
       "      <th>1</th>\n",
       "      <td>0.593493</td>\n",
       "      <td>1.924541</td>\n",
       "      <td>0.273793</td>\n",
       "      <td>-0.802956</td>\n",
       "    </tr>\n",
       "    <tr>\n",
       "      <th>2</th>\n",
       "      <td>0.211298</td>\n",
       "      <td>0.562578</td>\n",
       "      <td>1.103356</td>\n",
       "      <td>0.349393</td>\n",
       "    </tr>\n",
       "    <tr>\n",
       "      <th>3</th>\n",
       "      <td>0.400909</td>\n",
       "      <td>0.482226</td>\n",
       "      <td>0.042098</td>\n",
       "      <td>-0.035528</td>\n",
       "    </tr>\n",
       "    <tr>\n",
       "      <th>4</th>\n",
       "      <td>-1.480535</td>\n",
       "      <td>0.878827</td>\n",
       "      <td>0.529993</td>\n",
       "      <td>0.745852</td>\n",
       "    </tr>\n",
       "    <tr>\n",
       "      <th>5</th>\n",
       "      <td>-0.780842</td>\n",
       "      <td>1.153374</td>\n",
       "      <td>-0.175420</td>\n",
       "      <td>0.307999</td>\n",
       "    </tr>\n",
       "    <tr>\n",
       "      <th>6</th>\n",
       "      <td>-0.696335</td>\n",
       "      <td>-0.325813</td>\n",
       "      <td>2.509246</td>\n",
       "      <td>0.721924</td>\n",
       "    </tr>\n",
       "    <tr>\n",
       "      <th>7</th>\n",
       "      <td>-0.988543</td>\n",
       "      <td>-1.036162</td>\n",
       "      <td>-0.085755</td>\n",
       "      <td>-0.978820</td>\n",
       "    </tr>\n",
       "  </tbody>\n",
       "</table>\n",
       "</div>"
      ],
      "text/plain": [
       "          A         B         C         D\n",
       "0  0.443129 -1.565255  1.945183 -0.484802\n",
       "1  0.593493  1.924541  0.273793 -0.802956\n",
       "2  0.211298  0.562578  1.103356  0.349393\n",
       "3  0.400909  0.482226  0.042098 -0.035528\n",
       "4 -1.480535  0.878827  0.529993  0.745852\n",
       "5 -0.780842  1.153374 -0.175420  0.307999\n",
       "6 -0.696335 -0.325813  2.509246  0.721924\n",
       "7 -0.988543 -1.036162 -0.085755 -0.978820"
      ]
     },
     "execution_count": 1,
     "metadata": {},
     "output_type": "execute_result"
    }
   ],
   "source": [
    "df = pd.DataFrame(np.random.randn(8, 4), columns=['A','B','C','D'])\n",
    "df"
   ]
  },
  {
   "cell_type": "code",
   "execution_count": 2,
   "metadata": {},
   "outputs": [
    {
     "data": {
      "text/html": [
       "<div>\n",
       "<style scoped>\n",
       "    .dataframe tbody tr th:only-of-type {\n",
       "        vertical-align: middle;\n",
       "    }\n",
       "\n",
       "    .dataframe tbody tr th {\n",
       "        vertical-align: top;\n",
       "    }\n",
       "\n",
       "    .dataframe thead th {\n",
       "        text-align: right;\n",
       "    }\n",
       "</style>\n",
       "<table border=\"1\" class=\"dataframe\">\n",
       "  <thead>\n",
       "    <tr style=\"text-align: right;\">\n",
       "      <th></th>\n",
       "      <th>A</th>\n",
       "      <th>B</th>\n",
       "      <th>C</th>\n",
       "      <th>D</th>\n",
       "    </tr>\n",
       "  </thead>\n",
       "  <tbody>\n",
       "    <tr>\n",
       "      <th>0</th>\n",
       "      <td>0.443129</td>\n",
       "      <td>-1.565255</td>\n",
       "      <td>1.945183</td>\n",
       "      <td>-0.484802</td>\n",
       "    </tr>\n",
       "    <tr>\n",
       "      <th>1</th>\n",
       "      <td>0.593493</td>\n",
       "      <td>1.924541</td>\n",
       "      <td>0.273793</td>\n",
       "      <td>-0.802956</td>\n",
       "    </tr>\n",
       "    <tr>\n",
       "      <th>2</th>\n",
       "      <td>0.211298</td>\n",
       "      <td>0.562578</td>\n",
       "      <td>1.103356</td>\n",
       "      <td>0.349393</td>\n",
       "    </tr>\n",
       "    <tr>\n",
       "      <th>3</th>\n",
       "      <td>0.400909</td>\n",
       "      <td>0.482226</td>\n",
       "      <td>0.042098</td>\n",
       "      <td>-0.035528</td>\n",
       "    </tr>\n",
       "    <tr>\n",
       "      <th>4</th>\n",
       "      <td>-1.480535</td>\n",
       "      <td>0.878827</td>\n",
       "      <td>0.529993</td>\n",
       "      <td>0.745852</td>\n",
       "    </tr>\n",
       "    <tr>\n",
       "      <th>5</th>\n",
       "      <td>-0.780842</td>\n",
       "      <td>1.153374</td>\n",
       "      <td>-0.175420</td>\n",
       "      <td>0.307999</td>\n",
       "    </tr>\n",
       "    <tr>\n",
       "      <th>6</th>\n",
       "      <td>-0.696335</td>\n",
       "      <td>-0.325813</td>\n",
       "      <td>2.509246</td>\n",
       "      <td>0.721924</td>\n",
       "    </tr>\n",
       "    <tr>\n",
       "      <th>7</th>\n",
       "      <td>-0.988543</td>\n",
       "      <td>-1.036162</td>\n",
       "      <td>-0.085755</td>\n",
       "      <td>-0.978820</td>\n",
       "    </tr>\n",
       "    <tr>\n",
       "      <th>8</th>\n",
       "      <td>0.400909</td>\n",
       "      <td>0.482226</td>\n",
       "      <td>0.042098</td>\n",
       "      <td>-0.035528</td>\n",
       "    </tr>\n",
       "  </tbody>\n",
       "</table>\n",
       "</div>"
      ],
      "text/plain": [
       "          A         B         C         D\n",
       "0  0.443129 -1.565255  1.945183 -0.484802\n",
       "1  0.593493  1.924541  0.273793 -0.802956\n",
       "2  0.211298  0.562578  1.103356  0.349393\n",
       "3  0.400909  0.482226  0.042098 -0.035528\n",
       "4 -1.480535  0.878827  0.529993  0.745852\n",
       "5 -0.780842  1.153374 -0.175420  0.307999\n",
       "6 -0.696335 -0.325813  2.509246  0.721924\n",
       "7 -0.988543 -1.036162 -0.085755 -0.978820\n",
       "8  0.400909  0.482226  0.042098 -0.035528"
      ]
     },
     "execution_count": 2,
     "metadata": {},
     "output_type": "execute_result"
    }
   ],
   "source": [
    "s = df.iloc[3]\n",
    "df.append(s, ignore_index=True)"
   ]
  },
  {
   "cell_type": "markdown",
   "metadata": {},
   "source": [
    "# Grouping\n",
    "By “group by” we are referring to a process involving one or more of the following steps\n",
    "- Splitting the data into groups based on some criteria\n",
    "- Applying a function to each group independently\n",
    "- Combining the results into a data structure\n",
    "\n",
    "See the [Grouping section](http://pandas.pydata.org/pandas-docs/stable/groupby.html#groupby)"
   ]
  },
  {
   "cell_type": "code",
   "execution_count": 122,
   "metadata": {
    "ExecuteTime": {
     "end_time": "2017-09-18T21:18:02.091553",
     "start_time": "2017-09-18T21:18:02.033873"
    }
   },
   "outputs": [
    {
     "data": {
      "text/html": [
       "<div>\n",
       "<table border=\"1\" class=\"dataframe\">\n",
       "  <thead>\n",
       "    <tr style=\"text-align: right;\">\n",
       "      <th></th>\n",
       "      <th>A</th>\n",
       "      <th>B</th>\n",
       "      <th>C</th>\n",
       "      <th>D</th>\n",
       "    </tr>\n",
       "  </thead>\n",
       "  <tbody>\n",
       "    <tr>\n",
       "      <th>0</th>\n",
       "      <td>foo</td>\n",
       "      <td>one</td>\n",
       "      <td>0.727334</td>\n",
       "      <td>-0.121076</td>\n",
       "    </tr>\n",
       "    <tr>\n",
       "      <th>1</th>\n",
       "      <td>bar</td>\n",
       "      <td>one</td>\n",
       "      <td>-0.376269</td>\n",
       "      <td>-0.551921</td>\n",
       "    </tr>\n",
       "    <tr>\n",
       "      <th>2</th>\n",
       "      <td>foo</td>\n",
       "      <td>two</td>\n",
       "      <td>0.347377</td>\n",
       "      <td>-1.324145</td>\n",
       "    </tr>\n",
       "    <tr>\n",
       "      <th>3</th>\n",
       "      <td>bar</td>\n",
       "      <td>three</td>\n",
       "      <td>-1.800360</td>\n",
       "      <td>1.362982</td>\n",
       "    </tr>\n",
       "    <tr>\n",
       "      <th>4</th>\n",
       "      <td>foo</td>\n",
       "      <td>two</td>\n",
       "      <td>-1.607225</td>\n",
       "      <td>-0.278323</td>\n",
       "    </tr>\n",
       "    <tr>\n",
       "      <th>5</th>\n",
       "      <td>bar</td>\n",
       "      <td>two</td>\n",
       "      <td>0.155321</td>\n",
       "      <td>1.141374</td>\n",
       "    </tr>\n",
       "    <tr>\n",
       "      <th>6</th>\n",
       "      <td>foo</td>\n",
       "      <td>one</td>\n",
       "      <td>-0.058291</td>\n",
       "      <td>0.749650</td>\n",
       "    </tr>\n",
       "    <tr>\n",
       "      <th>7</th>\n",
       "      <td>foo</td>\n",
       "      <td>three</td>\n",
       "      <td>0.285056</td>\n",
       "      <td>0.796032</td>\n",
       "    </tr>\n",
       "  </tbody>\n",
       "</table>\n",
       "</div>"
      ],
      "text/plain": [
       "     A      B         C         D\n",
       "0  foo    one  0.727334 -0.121076\n",
       "1  bar    one -0.376269 -0.551921\n",
       "2  foo    two  0.347377 -1.324145\n",
       "3  bar  three -1.800360  1.362982\n",
       "4  foo    two -1.607225 -0.278323\n",
       "5  bar    two  0.155321  1.141374\n",
       "6  foo    one -0.058291  0.749650\n",
       "7  foo  three  0.285056  0.796032"
      ]
     },
     "execution_count": 122,
     "metadata": {},
     "output_type": "execute_result"
    }
   ],
   "source": [
    "df = pd.DataFrame({'A' : ['foo', 'bar', 'foo', 'bar', 'foo', 'bar', 'foo', 'foo'],\n",
    "                   'B' : ['one', 'one', 'two', 'three', 'two', 'two', 'one', 'three'],\n",
    "                   'C' : np.random.randn(8),\n",
    "                   'D' : np.random.randn(8)})\n",
    "\n",
    "df"
   ]
  },
  {
   "cell_type": "markdown",
   "metadata": {},
   "source": [
    "Grouping and then applying a function sum to the resulting groups."
   ]
  },
  {
   "cell_type": "code",
   "execution_count": 124,
   "metadata": {
    "ExecuteTime": {
     "end_time": "2017-09-18T21:19:17.253596",
     "start_time": "2017-09-18T21:19:17.221193"
    }
   },
   "outputs": [
    {
     "data": {
      "text/html": [
       "<div>\n",
       "<table border=\"1\" class=\"dataframe\">\n",
       "  <thead>\n",
       "    <tr style=\"text-align: right;\">\n",
       "      <th></th>\n",
       "      <th>C</th>\n",
       "      <th>D</th>\n",
       "    </tr>\n",
       "    <tr>\n",
       "      <th>A</th>\n",
       "      <th></th>\n",
       "      <th></th>\n",
       "    </tr>\n",
       "  </thead>\n",
       "  <tbody>\n",
       "    <tr>\n",
       "      <th>bar</th>\n",
       "      <td>-0.673769</td>\n",
       "      <td>0.650812</td>\n",
       "    </tr>\n",
       "    <tr>\n",
       "      <th>foo</th>\n",
       "      <td>-0.061150</td>\n",
       "      <td>-0.035573</td>\n",
       "    </tr>\n",
       "  </tbody>\n",
       "</table>\n",
       "</div>"
      ],
      "text/plain": [
       "            C         D\n",
       "A                      \n",
       "bar -0.673769  0.650812\n",
       "foo -0.061150 -0.035573"
      ]
     },
     "execution_count": 124,
     "metadata": {},
     "output_type": "execute_result"
    }
   ],
   "source": [
    "df.groupby('A').mean()"
   ]
  },
  {
   "cell_type": "markdown",
   "metadata": {},
   "source": [
    "Grouping by multiple columns forms a hierarchical index, which we then apply the function."
   ]
  },
  {
   "cell_type": "code",
   "execution_count": 125,
   "metadata": {
    "ExecuteTime": {
     "end_time": "2017-09-18T21:19:40.833429",
     "start_time": "2017-09-18T21:19:40.785630"
    }
   },
   "outputs": [
    {
     "data": {
      "text/html": [
       "<div>\n",
       "<table border=\"1\" class=\"dataframe\">\n",
       "  <thead>\n",
       "    <tr style=\"text-align: right;\">\n",
       "      <th></th>\n",
       "      <th></th>\n",
       "      <th>C</th>\n",
       "      <th>D</th>\n",
       "    </tr>\n",
       "    <tr>\n",
       "      <th>A</th>\n",
       "      <th>B</th>\n",
       "      <th></th>\n",
       "      <th></th>\n",
       "    </tr>\n",
       "  </thead>\n",
       "  <tbody>\n",
       "    <tr>\n",
       "      <th rowspan=\"3\" valign=\"top\">bar</th>\n",
       "      <th>one</th>\n",
       "      <td>-0.376269</td>\n",
       "      <td>-0.551921</td>\n",
       "    </tr>\n",
       "    <tr>\n",
       "      <th>three</th>\n",
       "      <td>-1.800360</td>\n",
       "      <td>1.362982</td>\n",
       "    </tr>\n",
       "    <tr>\n",
       "      <th>two</th>\n",
       "      <td>0.155321</td>\n",
       "      <td>1.141374</td>\n",
       "    </tr>\n",
       "    <tr>\n",
       "      <th rowspan=\"3\" valign=\"top\">foo</th>\n",
       "      <th>one</th>\n",
       "      <td>0.669043</td>\n",
       "      <td>0.628573</td>\n",
       "    </tr>\n",
       "    <tr>\n",
       "      <th>three</th>\n",
       "      <td>0.285056</td>\n",
       "      <td>0.796032</td>\n",
       "    </tr>\n",
       "    <tr>\n",
       "      <th>two</th>\n",
       "      <td>-1.259848</td>\n",
       "      <td>-1.602468</td>\n",
       "    </tr>\n",
       "  </tbody>\n",
       "</table>\n",
       "</div>"
      ],
      "text/plain": [
       "                  C         D\n",
       "A   B                        \n",
       "bar one   -0.376269 -0.551921\n",
       "    three -1.800360  1.362982\n",
       "    two    0.155321  1.141374\n",
       "foo one    0.669043  0.628573\n",
       "    three  0.285056  0.796032\n",
       "    two   -1.259848 -1.602468"
      ]
     },
     "execution_count": 125,
     "metadata": {},
     "output_type": "execute_result"
    }
   ],
   "source": [
    "df.groupby(['A','B']).sum()"
   ]
  },
  {
   "cell_type": "markdown",
   "metadata": {},
   "source": [
    "# Reshaping\n",
    "See the sections on [Hierarchical Indexing](http://pandas.pydata.org/pandas-docs/stable/advanced.html#advanced-hierarchical) and [Reshaping](http://pandas.pydata.org/pandas-docs/stable/reshaping.html#reshaping-stacking).\n",
    "\n",
    "## Stack"
   ]
  },
  {
   "cell_type": "code",
   "execution_count": 7,
   "metadata": {
    "ExecuteTime": {
     "end_time": "2017-09-18T17:53:19.133747",
     "start_time": "2017-09-18T17:53:19.114015"
    }
   },
   "outputs": [
    {
     "data": {
      "text/plain": [
       "[('bar', 'one'),\n",
       " ('bar', 'two'),\n",
       " ('baz', 'one'),\n",
       " ('baz', 'two'),\n",
       " ('foo', 'one'),\n",
       " ('foo', 'two'),\n",
       " ('qux', 'one'),\n",
       " ('qux', 'two')]"
      ]
     },
     "execution_count": 7,
     "metadata": {},
     "output_type": "execute_result"
    },
    {
     "data": {
      "text/plain": [
       "MultiIndex(levels=[['bar', 'baz', 'foo', 'qux'], ['one', 'two']],\n",
       "           labels=[[0, 0, 1, 1, 2, 2, 3, 3], [0, 1, 0, 1, 0, 1, 0, 1]],\n",
       "           names=['first', 'second'])"
      ]
     },
     "execution_count": 7,
     "metadata": {},
     "output_type": "execute_result"
    }
   ],
   "source": [
    "tuples = list(zip(*[['bar', 'bar', 'baz', 'baz', 'foo', 'foo', 'qux', 'qux'],\n",
    "                    ['one', 'two', 'one', 'two', 'one', 'two', 'one', 'two']]))\n",
    "\n",
    "tuples\n",
    "\n",
    "index = pd.MultiIndex.from_tuples(tuples, names=['first', 'second'])\n",
    "index"
   ]
  },
  {
   "cell_type": "code",
   "execution_count": 8,
   "metadata": {
    "ExecuteTime": {
     "end_time": "2017-09-18T17:54:11.744663",
     "start_time": "2017-09-18T17:54:11.722695"
    }
   },
   "outputs": [
    {
     "data": {
      "text/html": [
       "<div>\n",
       "<style scoped>\n",
       "    .dataframe tbody tr th:only-of-type {\n",
       "        vertical-align: middle;\n",
       "    }\n",
       "\n",
       "    .dataframe tbody tr th {\n",
       "        vertical-align: top;\n",
       "    }\n",
       "\n",
       "    .dataframe thead th {\n",
       "        text-align: right;\n",
       "    }\n",
       "</style>\n",
       "<table border=\"1\" class=\"dataframe\">\n",
       "  <thead>\n",
       "    <tr style=\"text-align: right;\">\n",
       "      <th></th>\n",
       "      <th></th>\n",
       "      <th>A</th>\n",
       "      <th>B</th>\n",
       "    </tr>\n",
       "    <tr>\n",
       "      <th>first</th>\n",
       "      <th>second</th>\n",
       "      <th></th>\n",
       "      <th></th>\n",
       "    </tr>\n",
       "  </thead>\n",
       "  <tbody>\n",
       "    <tr>\n",
       "      <th rowspan=\"2\" valign=\"top\">bar</th>\n",
       "      <th>one</th>\n",
       "      <td>-1.070346</td>\n",
       "      <td>0.853410</td>\n",
       "    </tr>\n",
       "    <tr>\n",
       "      <th>two</th>\n",
       "      <td>0.727214</td>\n",
       "      <td>0.103735</td>\n",
       "    </tr>\n",
       "    <tr>\n",
       "      <th rowspan=\"2\" valign=\"top\">baz</th>\n",
       "      <th>one</th>\n",
       "      <td>0.719127</td>\n",
       "      <td>1.066594</td>\n",
       "    </tr>\n",
       "    <tr>\n",
       "      <th>two</th>\n",
       "      <td>0.743250</td>\n",
       "      <td>0.860584</td>\n",
       "    </tr>\n",
       "    <tr>\n",
       "      <th rowspan=\"2\" valign=\"top\">foo</th>\n",
       "      <th>one</th>\n",
       "      <td>-0.680177</td>\n",
       "      <td>0.611621</td>\n",
       "    </tr>\n",
       "    <tr>\n",
       "      <th>two</th>\n",
       "      <td>0.015638</td>\n",
       "      <td>-0.498721</td>\n",
       "    </tr>\n",
       "    <tr>\n",
       "      <th rowspan=\"2\" valign=\"top\">qux</th>\n",
       "      <th>one</th>\n",
       "      <td>1.190713</td>\n",
       "      <td>-0.013968</td>\n",
       "    </tr>\n",
       "    <tr>\n",
       "      <th>two</th>\n",
       "      <td>0.523318</td>\n",
       "      <td>0.536419</td>\n",
       "    </tr>\n",
       "  </tbody>\n",
       "</table>\n",
       "</div>"
      ],
      "text/plain": [
       "                     A         B\n",
       "first second                    \n",
       "bar   one    -1.070346  0.853410\n",
       "      two     0.727214  0.103735\n",
       "baz   one     0.719127  1.066594\n",
       "      two     0.743250  0.860584\n",
       "foo   one    -0.680177  0.611621\n",
       "      two     0.015638 -0.498721\n",
       "qux   one     1.190713 -0.013968\n",
       "      two     0.523318  0.536419"
      ]
     },
     "execution_count": 8,
     "metadata": {},
     "output_type": "execute_result"
    }
   ],
   "source": [
    "df = pd.DataFrame(np.random.randn(8, 2), index=index, columns=['A', 'B'])\n",
    "df"
   ]
  },
  {
   "cell_type": "code",
   "execution_count": 9,
   "metadata": {
    "ExecuteTime": {
     "end_time": "2017-09-18T17:54:25.770315",
     "start_time": "2017-09-18T17:54:25.742869"
    }
   },
   "outputs": [
    {
     "data": {
      "text/html": [
       "<div>\n",
       "<style scoped>\n",
       "    .dataframe tbody tr th:only-of-type {\n",
       "        vertical-align: middle;\n",
       "    }\n",
       "\n",
       "    .dataframe tbody tr th {\n",
       "        vertical-align: top;\n",
       "    }\n",
       "\n",
       "    .dataframe thead th {\n",
       "        text-align: right;\n",
       "    }\n",
       "</style>\n",
       "<table border=\"1\" class=\"dataframe\">\n",
       "  <thead>\n",
       "    <tr style=\"text-align: right;\">\n",
       "      <th></th>\n",
       "      <th></th>\n",
       "      <th>A</th>\n",
       "      <th>B</th>\n",
       "    </tr>\n",
       "    <tr>\n",
       "      <th>first</th>\n",
       "      <th>second</th>\n",
       "      <th></th>\n",
       "      <th></th>\n",
       "    </tr>\n",
       "  </thead>\n",
       "  <tbody>\n",
       "    <tr>\n",
       "      <th rowspan=\"2\" valign=\"top\">bar</th>\n",
       "      <th>one</th>\n",
       "      <td>-1.070346</td>\n",
       "      <td>0.853410</td>\n",
       "    </tr>\n",
       "    <tr>\n",
       "      <th>two</th>\n",
       "      <td>0.727214</td>\n",
       "      <td>0.103735</td>\n",
       "    </tr>\n",
       "    <tr>\n",
       "      <th rowspan=\"2\" valign=\"top\">baz</th>\n",
       "      <th>one</th>\n",
       "      <td>0.719127</td>\n",
       "      <td>1.066594</td>\n",
       "    </tr>\n",
       "    <tr>\n",
       "      <th>two</th>\n",
       "      <td>0.743250</td>\n",
       "      <td>0.860584</td>\n",
       "    </tr>\n",
       "  </tbody>\n",
       "</table>\n",
       "</div>"
      ],
      "text/plain": [
       "                     A         B\n",
       "first second                    \n",
       "bar   one    -1.070346  0.853410\n",
       "      two     0.727214  0.103735\n",
       "baz   one     0.719127  1.066594\n",
       "      two     0.743250  0.860584"
      ]
     },
     "execution_count": 9,
     "metadata": {},
     "output_type": "execute_result"
    }
   ],
   "source": [
    "df2 = df[:4]\n",
    "df2"
   ]
  },
  {
   "cell_type": "markdown",
   "metadata": {},
   "source": [
    "The `stack()` method “compresses” a level in the DataFrame’s columns."
   ]
  },
  {
   "cell_type": "code",
   "execution_count": 22,
   "metadata": {
    "ExecuteTime": {
     "end_time": "2017-09-18T17:55:45.637019",
     "start_time": "2017-09-18T17:55:45.628890"
    }
   },
   "outputs": [
    {
     "data": {
      "text/plain": [
       "first  second   \n",
       "bar    one     A   -1.070346\n",
       "               B    0.853410\n",
       "       two     A    0.727214\n",
       "               B    0.103735\n",
       "baz    one     A    0.719127\n",
       "               B    1.066594\n",
       "       two     A    0.743250\n",
       "               B    0.860584\n",
       "dtype: float64"
      ]
     },
     "execution_count": 22,
     "metadata": {},
     "output_type": "execute_result"
    },
    {
     "data": {
      "text/plain": [
       "0.8534096973614375"
      ]
     },
     "execution_count": 22,
     "metadata": {},
     "output_type": "execute_result"
    }
   ],
   "source": [
    "stacked = df2.stack()\n",
    "stacked\n",
    "stacked[1]"
   ]
  },
  {
   "cell_type": "code",
   "execution_count": 14,
   "metadata": {},
   "outputs": [
    {
     "data": {
      "text/html": [
       "<div>\n",
       "<style scoped>\n",
       "    .dataframe tbody tr th:only-of-type {\n",
       "        vertical-align: middle;\n",
       "    }\n",
       "\n",
       "    .dataframe tbody tr th {\n",
       "        vertical-align: top;\n",
       "    }\n",
       "\n",
       "    .dataframe thead tr th {\n",
       "        text-align: left;\n",
       "    }\n",
       "</style>\n",
       "<table border=\"1\" class=\"dataframe\">\n",
       "  <thead>\n",
       "    <tr>\n",
       "      <th>first</th>\n",
       "      <th colspan=\"2\" halign=\"left\">bar</th>\n",
       "      <th colspan=\"2\" halign=\"left\">baz</th>\n",
       "    </tr>\n",
       "    <tr>\n",
       "      <th>second</th>\n",
       "      <th>one</th>\n",
       "      <th>two</th>\n",
       "      <th>one</th>\n",
       "      <th>two</th>\n",
       "    </tr>\n",
       "  </thead>\n",
       "  <tbody>\n",
       "    <tr>\n",
       "      <th>A</th>\n",
       "      <td>-1.070346</td>\n",
       "      <td>0.727214</td>\n",
       "      <td>0.719127</td>\n",
       "      <td>0.743250</td>\n",
       "    </tr>\n",
       "    <tr>\n",
       "      <th>B</th>\n",
       "      <td>0.853410</td>\n",
       "      <td>0.103735</td>\n",
       "      <td>1.066594</td>\n",
       "      <td>0.860584</td>\n",
       "    </tr>\n",
       "  </tbody>\n",
       "</table>\n",
       "</div>"
      ],
      "text/plain": [
       "first        bar                 baz          \n",
       "second       one       two       one       two\n",
       "A      -1.070346  0.727214  0.719127  0.743250\n",
       "B       0.853410  0.103735  1.066594  0.860584"
      ]
     },
     "execution_count": 14,
     "metadata": {},
     "output_type": "execute_result"
    }
   ],
   "source": [
    "transposed = df2.T\n",
    "transposed"
   ]
  },
  {
   "cell_type": "code",
   "execution_count": 15,
   "metadata": {},
   "outputs": [
    {
     "data": {
      "text/html": [
       "<div>\n",
       "<style scoped>\n",
       "    .dataframe tbody tr th:only-of-type {\n",
       "        vertical-align: middle;\n",
       "    }\n",
       "\n",
       "    .dataframe tbody tr th {\n",
       "        vertical-align: top;\n",
       "    }\n",
       "\n",
       "    .dataframe thead th {\n",
       "        text-align: right;\n",
       "    }\n",
       "</style>\n",
       "<table border=\"1\" class=\"dataframe\">\n",
       "  <thead>\n",
       "    <tr style=\"text-align: right;\">\n",
       "      <th></th>\n",
       "      <th>variable</th>\n",
       "      <th>value</th>\n",
       "    </tr>\n",
       "  </thead>\n",
       "  <tbody>\n",
       "    <tr>\n",
       "      <th>0</th>\n",
       "      <td>A</td>\n",
       "      <td>-1.070346</td>\n",
       "    </tr>\n",
       "    <tr>\n",
       "      <th>1</th>\n",
       "      <td>A</td>\n",
       "      <td>0.727214</td>\n",
       "    </tr>\n",
       "    <tr>\n",
       "      <th>2</th>\n",
       "      <td>A</td>\n",
       "      <td>0.719127</td>\n",
       "    </tr>\n",
       "    <tr>\n",
       "      <th>3</th>\n",
       "      <td>A</td>\n",
       "      <td>0.743250</td>\n",
       "    </tr>\n",
       "    <tr>\n",
       "      <th>4</th>\n",
       "      <td>B</td>\n",
       "      <td>0.853410</td>\n",
       "    </tr>\n",
       "    <tr>\n",
       "      <th>5</th>\n",
       "      <td>B</td>\n",
       "      <td>0.103735</td>\n",
       "    </tr>\n",
       "    <tr>\n",
       "      <th>6</th>\n",
       "      <td>B</td>\n",
       "      <td>1.066594</td>\n",
       "    </tr>\n",
       "    <tr>\n",
       "      <th>7</th>\n",
       "      <td>B</td>\n",
       "      <td>0.860584</td>\n",
       "    </tr>\n",
       "  </tbody>\n",
       "</table>\n",
       "</div>"
      ],
      "text/plain": [
       "  variable     value\n",
       "0        A -1.070346\n",
       "1        A  0.727214\n",
       "2        A  0.719127\n",
       "3        A  0.743250\n",
       "4        B  0.853410\n",
       "5        B  0.103735\n",
       "6        B  1.066594\n",
       "7        B  0.860584"
      ]
     },
     "execution_count": 15,
     "metadata": {},
     "output_type": "execute_result"
    }
   ],
   "source": [
    "melted = df2.melt()\n",
    "melted"
   ]
  },
  {
   "cell_type": "markdown",
   "metadata": {},
   "source": [
    "With a “stacked” DataFrame or Series (having a `MultiIndex` as the index), the inverse operation of `stack()` is `unstack()`, which by default unstacks the ***last level***:"
   ]
  },
  {
   "cell_type": "code",
   "execution_count": 11,
   "metadata": {
    "ExecuteTime": {
     "end_time": "2017-09-18T17:55:50.495915",
     "start_time": "2017-09-18T17:55:50.471954"
    }
   },
   "outputs": [
    {
     "data": {
      "text/html": [
       "<div>\n",
       "<style scoped>\n",
       "    .dataframe tbody tr th:only-of-type {\n",
       "        vertical-align: middle;\n",
       "    }\n",
       "\n",
       "    .dataframe tbody tr th {\n",
       "        vertical-align: top;\n",
       "    }\n",
       "\n",
       "    .dataframe thead th {\n",
       "        text-align: right;\n",
       "    }\n",
       "</style>\n",
       "<table border=\"1\" class=\"dataframe\">\n",
       "  <thead>\n",
       "    <tr style=\"text-align: right;\">\n",
       "      <th></th>\n",
       "      <th></th>\n",
       "      <th>A</th>\n",
       "      <th>B</th>\n",
       "    </tr>\n",
       "    <tr>\n",
       "      <th>first</th>\n",
       "      <th>second</th>\n",
       "      <th></th>\n",
       "      <th></th>\n",
       "    </tr>\n",
       "  </thead>\n",
       "  <tbody>\n",
       "    <tr>\n",
       "      <th rowspan=\"2\" valign=\"top\">bar</th>\n",
       "      <th>one</th>\n",
       "      <td>-1.070346</td>\n",
       "      <td>0.853410</td>\n",
       "    </tr>\n",
       "    <tr>\n",
       "      <th>two</th>\n",
       "      <td>0.727214</td>\n",
       "      <td>0.103735</td>\n",
       "    </tr>\n",
       "    <tr>\n",
       "      <th rowspan=\"2\" valign=\"top\">baz</th>\n",
       "      <th>one</th>\n",
       "      <td>0.719127</td>\n",
       "      <td>1.066594</td>\n",
       "    </tr>\n",
       "    <tr>\n",
       "      <th>two</th>\n",
       "      <td>0.743250</td>\n",
       "      <td>0.860584</td>\n",
       "    </tr>\n",
       "  </tbody>\n",
       "</table>\n",
       "</div>"
      ],
      "text/plain": [
       "                     A         B\n",
       "first second                    \n",
       "bar   one    -1.070346  0.853410\n",
       "      two     0.727214  0.103735\n",
       "baz   one     0.719127  1.066594\n",
       "      two     0.743250  0.860584"
      ]
     },
     "execution_count": 11,
     "metadata": {},
     "output_type": "execute_result"
    }
   ],
   "source": [
    "stacked.unstack()"
   ]
  },
  {
   "cell_type": "code",
   "execution_count": 12,
   "metadata": {
    "ExecuteTime": {
     "end_time": "2017-09-18T17:55:52.914934",
     "start_time": "2017-09-18T17:55:52.889856"
    }
   },
   "outputs": [
    {
     "data": {
      "text/html": [
       "<div>\n",
       "<style scoped>\n",
       "    .dataframe tbody tr th:only-of-type {\n",
       "        vertical-align: middle;\n",
       "    }\n",
       "\n",
       "    .dataframe tbody tr th {\n",
       "        vertical-align: top;\n",
       "    }\n",
       "\n",
       "    .dataframe thead th {\n",
       "        text-align: right;\n",
       "    }\n",
       "</style>\n",
       "<table border=\"1\" class=\"dataframe\">\n",
       "  <thead>\n",
       "    <tr style=\"text-align: right;\">\n",
       "      <th></th>\n",
       "      <th>second</th>\n",
       "      <th>one</th>\n",
       "      <th>two</th>\n",
       "    </tr>\n",
       "    <tr>\n",
       "      <th>first</th>\n",
       "      <th></th>\n",
       "      <th></th>\n",
       "      <th></th>\n",
       "    </tr>\n",
       "  </thead>\n",
       "  <tbody>\n",
       "    <tr>\n",
       "      <th rowspan=\"2\" valign=\"top\">bar</th>\n",
       "      <th>A</th>\n",
       "      <td>-1.070346</td>\n",
       "      <td>0.727214</td>\n",
       "    </tr>\n",
       "    <tr>\n",
       "      <th>B</th>\n",
       "      <td>0.853410</td>\n",
       "      <td>0.103735</td>\n",
       "    </tr>\n",
       "    <tr>\n",
       "      <th rowspan=\"2\" valign=\"top\">baz</th>\n",
       "      <th>A</th>\n",
       "      <td>0.719127</td>\n",
       "      <td>0.743250</td>\n",
       "    </tr>\n",
       "    <tr>\n",
       "      <th>B</th>\n",
       "      <td>1.066594</td>\n",
       "      <td>0.860584</td>\n",
       "    </tr>\n",
       "  </tbody>\n",
       "</table>\n",
       "</div>"
      ],
      "text/plain": [
       "second        one       two\n",
       "first                      \n",
       "bar   A -1.070346  0.727214\n",
       "      B  0.853410  0.103735\n",
       "baz   A  0.719127  0.743250\n",
       "      B  1.066594  0.860584"
      ]
     },
     "execution_count": 12,
     "metadata": {},
     "output_type": "execute_result"
    }
   ],
   "source": [
    "stacked.unstack(1)"
   ]
  },
  {
   "cell_type": "code",
   "execution_count": 13,
   "metadata": {
    "ExecuteTime": {
     "end_time": "2017-09-18T17:56:02.417130",
     "start_time": "2017-09-18T17:56:02.391517"
    }
   },
   "outputs": [
    {
     "data": {
      "text/html": [
       "<div>\n",
       "<style scoped>\n",
       "    .dataframe tbody tr th:only-of-type {\n",
       "        vertical-align: middle;\n",
       "    }\n",
       "\n",
       "    .dataframe tbody tr th {\n",
       "        vertical-align: top;\n",
       "    }\n",
       "\n",
       "    .dataframe thead th {\n",
       "        text-align: right;\n",
       "    }\n",
       "</style>\n",
       "<table border=\"1\" class=\"dataframe\">\n",
       "  <thead>\n",
       "    <tr style=\"text-align: right;\">\n",
       "      <th></th>\n",
       "      <th>first</th>\n",
       "      <th>bar</th>\n",
       "      <th>baz</th>\n",
       "    </tr>\n",
       "    <tr>\n",
       "      <th>second</th>\n",
       "      <th></th>\n",
       "      <th></th>\n",
       "      <th></th>\n",
       "    </tr>\n",
       "  </thead>\n",
       "  <tbody>\n",
       "    <tr>\n",
       "      <th rowspan=\"2\" valign=\"top\">one</th>\n",
       "      <th>A</th>\n",
       "      <td>-1.070346</td>\n",
       "      <td>0.719127</td>\n",
       "    </tr>\n",
       "    <tr>\n",
       "      <th>B</th>\n",
       "      <td>0.853410</td>\n",
       "      <td>1.066594</td>\n",
       "    </tr>\n",
       "    <tr>\n",
       "      <th rowspan=\"2\" valign=\"top\">two</th>\n",
       "      <th>A</th>\n",
       "      <td>0.727214</td>\n",
       "      <td>0.743250</td>\n",
       "    </tr>\n",
       "    <tr>\n",
       "      <th>B</th>\n",
       "      <td>0.103735</td>\n",
       "      <td>0.860584</td>\n",
       "    </tr>\n",
       "  </tbody>\n",
       "</table>\n",
       "</div>"
      ],
      "text/plain": [
       "first          bar       baz\n",
       "second                      \n",
       "one    A -1.070346  0.719127\n",
       "       B  0.853410  1.066594\n",
       "two    A  0.727214  0.743250\n",
       "       B  0.103735  0.860584"
      ]
     },
     "execution_count": 13,
     "metadata": {},
     "output_type": "execute_result"
    }
   ],
   "source": [
    "stacked.unstack(0)"
   ]
  },
  {
   "cell_type": "markdown",
   "metadata": {},
   "source": [
    "## Pivot Tables\n",
    "\n",
    "See the section on [Pivot Tables](http://pandas.pydata.org/pandas-docs/stable/reshaping.html#reshaping-pivot).\n",
    "\n",
    "In [100]: "
   ]
  },
  {
   "cell_type": "code",
   "execution_count": 23,
   "metadata": {
    "ExecuteTime": {
     "end_time": "2017-09-18T18:01:34.913895",
     "start_time": "2017-09-18T18:01:34.859979"
    }
   },
   "outputs": [
    {
     "data": {
      "text/html": [
       "<div>\n",
       "<style scoped>\n",
       "    .dataframe tbody tr th:only-of-type {\n",
       "        vertical-align: middle;\n",
       "    }\n",
       "\n",
       "    .dataframe tbody tr th {\n",
       "        vertical-align: top;\n",
       "    }\n",
       "\n",
       "    .dataframe thead th {\n",
       "        text-align: right;\n",
       "    }\n",
       "</style>\n",
       "<table border=\"1\" class=\"dataframe\">\n",
       "  <thead>\n",
       "    <tr style=\"text-align: right;\">\n",
       "      <th></th>\n",
       "      <th>ModelNumber</th>\n",
       "      <th>Submodel</th>\n",
       "      <th>Type</th>\n",
       "      <th>Xval</th>\n",
       "      <th>Yval</th>\n",
       "    </tr>\n",
       "  </thead>\n",
       "  <tbody>\n",
       "    <tr>\n",
       "      <th>0</th>\n",
       "      <td>one</td>\n",
       "      <td>A</td>\n",
       "      <td>foo</td>\n",
       "      <td>-0.778852</td>\n",
       "      <td>-0.888647</td>\n",
       "    </tr>\n",
       "    <tr>\n",
       "      <th>1</th>\n",
       "      <td>one</td>\n",
       "      <td>B</td>\n",
       "      <td>foo</td>\n",
       "      <td>1.255619</td>\n",
       "      <td>-0.657497</td>\n",
       "    </tr>\n",
       "    <tr>\n",
       "      <th>2</th>\n",
       "      <td>two</td>\n",
       "      <td>C</td>\n",
       "      <td>foo</td>\n",
       "      <td>0.566418</td>\n",
       "      <td>-0.874148</td>\n",
       "    </tr>\n",
       "    <tr>\n",
       "      <th>3</th>\n",
       "      <td>three</td>\n",
       "      <td>A</td>\n",
       "      <td>bar</td>\n",
       "      <td>-0.504502</td>\n",
       "      <td>-0.835302</td>\n",
       "    </tr>\n",
       "    <tr>\n",
       "      <th>4</th>\n",
       "      <td>one</td>\n",
       "      <td>B</td>\n",
       "      <td>bar</td>\n",
       "      <td>0.480120</td>\n",
       "      <td>1.168798</td>\n",
       "    </tr>\n",
       "    <tr>\n",
       "      <th>5</th>\n",
       "      <td>one</td>\n",
       "      <td>C</td>\n",
       "      <td>bar</td>\n",
       "      <td>-1.827308</td>\n",
       "      <td>1.527037</td>\n",
       "    </tr>\n",
       "    <tr>\n",
       "      <th>6</th>\n",
       "      <td>two</td>\n",
       "      <td>A</td>\n",
       "      <td>foo</td>\n",
       "      <td>1.325504</td>\n",
       "      <td>2.073253</td>\n",
       "    </tr>\n",
       "    <tr>\n",
       "      <th>7</th>\n",
       "      <td>three</td>\n",
       "      <td>B</td>\n",
       "      <td>foo</td>\n",
       "      <td>0.009720</td>\n",
       "      <td>-0.687443</td>\n",
       "    </tr>\n",
       "    <tr>\n",
       "      <th>8</th>\n",
       "      <td>one</td>\n",
       "      <td>C</td>\n",
       "      <td>foo</td>\n",
       "      <td>-0.855655</td>\n",
       "      <td>-1.091092</td>\n",
       "    </tr>\n",
       "    <tr>\n",
       "      <th>9</th>\n",
       "      <td>one</td>\n",
       "      <td>A</td>\n",
       "      <td>bar</td>\n",
       "      <td>1.284329</td>\n",
       "      <td>1.300541</td>\n",
       "    </tr>\n",
       "    <tr>\n",
       "      <th>10</th>\n",
       "      <td>two</td>\n",
       "      <td>B</td>\n",
       "      <td>bar</td>\n",
       "      <td>-0.524096</td>\n",
       "      <td>1.520942</td>\n",
       "    </tr>\n",
       "    <tr>\n",
       "      <th>11</th>\n",
       "      <td>three</td>\n",
       "      <td>C</td>\n",
       "      <td>bar</td>\n",
       "      <td>0.310315</td>\n",
       "      <td>-0.367754</td>\n",
       "    </tr>\n",
       "  </tbody>\n",
       "</table>\n",
       "</div>"
      ],
      "text/plain": [
       "   ModelNumber Submodel Type      Xval      Yval\n",
       "0          one        A  foo -0.778852 -0.888647\n",
       "1          one        B  foo  1.255619 -0.657497\n",
       "2          two        C  foo  0.566418 -0.874148\n",
       "3        three        A  bar -0.504502 -0.835302\n",
       "4          one        B  bar  0.480120  1.168798\n",
       "5          one        C  bar -1.827308  1.527037\n",
       "6          two        A  foo  1.325504  2.073253\n",
       "7        three        B  foo  0.009720 -0.687443\n",
       "8          one        C  foo -0.855655 -1.091092\n",
       "9          one        A  bar  1.284329  1.300541\n",
       "10         two        B  bar -0.524096  1.520942\n",
       "11       three        C  bar  0.310315 -0.367754"
      ]
     },
     "execution_count": 23,
     "metadata": {},
     "output_type": "execute_result"
    }
   ],
   "source": [
    "df = pd.DataFrame({'ModelNumber' : ['one', 'one', 'two', 'three'] * 3,\n",
    "                   'Submodel' : ['A', 'B', 'C'] * 4,\n",
    "                   'Type' : ['foo', 'foo', 'foo', 'bar', 'bar', 'bar'] * 2,\n",
    "                   'Xval' : np.random.randn(12),\n",
    "                   'Yval' : np.random.randn(12)})\n",
    "\n",
    "df"
   ]
  },
  {
   "cell_type": "markdown",
   "metadata": {},
   "source": [
    "We can produce pivot tables from this data very easily:"
   ]
  },
  {
   "cell_type": "code",
   "execution_count": 24,
   "metadata": {
    "ExecuteTime": {
     "end_time": "2017-09-18T18:01:58.667380",
     "start_time": "2017-09-18T18:01:58.619664"
    }
   },
   "outputs": [
    {
     "data": {
      "text/html": [
       "<div>\n",
       "<style scoped>\n",
       "    .dataframe tbody tr th:only-of-type {\n",
       "        vertical-align: middle;\n",
       "    }\n",
       "\n",
       "    .dataframe tbody tr th {\n",
       "        vertical-align: top;\n",
       "    }\n",
       "\n",
       "    .dataframe thead th {\n",
       "        text-align: right;\n",
       "    }\n",
       "</style>\n",
       "<table border=\"1\" class=\"dataframe\">\n",
       "  <thead>\n",
       "    <tr style=\"text-align: right;\">\n",
       "      <th></th>\n",
       "      <th>Type</th>\n",
       "      <th>bar</th>\n",
       "      <th>foo</th>\n",
       "    </tr>\n",
       "    <tr>\n",
       "      <th>ModelNumber</th>\n",
       "      <th>Submodel</th>\n",
       "      <th></th>\n",
       "      <th></th>\n",
       "    </tr>\n",
       "  </thead>\n",
       "  <tbody>\n",
       "    <tr>\n",
       "      <th rowspan=\"3\" valign=\"top\">one</th>\n",
       "      <th>A</th>\n",
       "      <td>1.284329</td>\n",
       "      <td>-0.778852</td>\n",
       "    </tr>\n",
       "    <tr>\n",
       "      <th>B</th>\n",
       "      <td>0.480120</td>\n",
       "      <td>1.255619</td>\n",
       "    </tr>\n",
       "    <tr>\n",
       "      <th>C</th>\n",
       "      <td>-1.827308</td>\n",
       "      <td>-0.855655</td>\n",
       "    </tr>\n",
       "    <tr>\n",
       "      <th rowspan=\"3\" valign=\"top\">three</th>\n",
       "      <th>A</th>\n",
       "      <td>-0.504502</td>\n",
       "      <td>NaN</td>\n",
       "    </tr>\n",
       "    <tr>\n",
       "      <th>B</th>\n",
       "      <td>NaN</td>\n",
       "      <td>0.009720</td>\n",
       "    </tr>\n",
       "    <tr>\n",
       "      <th>C</th>\n",
       "      <td>0.310315</td>\n",
       "      <td>NaN</td>\n",
       "    </tr>\n",
       "    <tr>\n",
       "      <th rowspan=\"3\" valign=\"top\">two</th>\n",
       "      <th>A</th>\n",
       "      <td>NaN</td>\n",
       "      <td>1.325504</td>\n",
       "    </tr>\n",
       "    <tr>\n",
       "      <th>B</th>\n",
       "      <td>-0.524096</td>\n",
       "      <td>NaN</td>\n",
       "    </tr>\n",
       "    <tr>\n",
       "      <th>C</th>\n",
       "      <td>NaN</td>\n",
       "      <td>0.566418</td>\n",
       "    </tr>\n",
       "  </tbody>\n",
       "</table>\n",
       "</div>"
      ],
      "text/plain": [
       "Type                       bar       foo\n",
       "ModelNumber Submodel                    \n",
       "one         A         1.284329 -0.778852\n",
       "            B         0.480120  1.255619\n",
       "            C        -1.827308 -0.855655\n",
       "three       A        -0.504502       NaN\n",
       "            B              NaN  0.009720\n",
       "            C         0.310315       NaN\n",
       "two         A              NaN  1.325504\n",
       "            B        -0.524096       NaN\n",
       "            C              NaN  0.566418"
      ]
     },
     "execution_count": 24,
     "metadata": {},
     "output_type": "execute_result"
    }
   ],
   "source": [
    "pd.pivot_table(df, values='Xval', index=['ModelNumber', 'Submodel'], columns=['Type'])"
   ]
  },
  {
   "cell_type": "markdown",
   "metadata": {},
   "source": [
    "# Time Series\n",
    "pandas has simple, powerful, and efficient functionality for performing resampling operations during frequency conversion (e.g., converting secondly data into 5-minutely data). This is extremely common in, but not limited to, financial applications.\n",
    "See the [Time Series section](http://pandas.pydata.org/pandas-docs/stable/timeseries.html#timeseries)"
   ]
  },
  {
   "cell_type": "code",
   "execution_count": null,
   "metadata": {},
   "outputs": [],
   "source": [
    "rng = pd.date_range('1/1/2012', periods=100, freq='S')\n",
    "ts = pd.Series(np.random.randint(0, 500, len(rng)), index=rng)\n",
    "ts.resample('5Min').sum()"
   ]
  },
  {
   "cell_type": "code",
   "execution_count": null,
   "metadata": {
    "collapsed": true
   },
   "outputs": [],
   "source": [
    "Out[105]: \n",
    "2012-01-01    25083\n",
    "Freq: 5T, dtype: int64"
   ]
  },
  {
   "cell_type": "markdown",
   "metadata": {},
   "source": [
    "Time zone representation"
   ]
  },
  {
   "cell_type": "code",
   "execution_count": null,
   "metadata": {},
   "outputs": [],
   "source": [
    "rng = pd.date_range('3/6/2012 00:00', periods=5, freq='D')\n",
    "ts = pd.Series(np.random.randn(len(rng)), rng)\n",
    "ts"
   ]
  },
  {
   "cell_type": "code",
   "execution_count": null,
   "metadata": {},
   "outputs": [],
   "source": [
    "ts_utc = ts.tz_localize('UTC')\n",
    "ts_utc"
   ]
  },
  {
   "cell_type": "markdown",
   "metadata": {},
   "source": [
    "Convert to another time zone"
   ]
  },
  {
   "cell_type": "code",
   "execution_count": null,
   "metadata": {},
   "outputs": [],
   "source": [
    "ts_utc.tz_convert('US/Eastern')"
   ]
  },
  {
   "cell_type": "markdown",
   "metadata": {},
   "source": [
    "Converting between time span representations"
   ]
  },
  {
   "cell_type": "code",
   "execution_count": null,
   "metadata": {},
   "outputs": [],
   "source": [
    "rng = pd.date_range('1/1/2012', periods=5, freq='M')\n",
    "ts = pd.Series(np.random.randn(len(rng)), index=rng)\n",
    "ts"
   ]
  },
  {
   "cell_type": "code",
   "execution_count": null,
   "metadata": {},
   "outputs": [],
   "source": [
    "ps = ts.to_period()\n",
    "ps"
   ]
  },
  {
   "cell_type": "code",
   "execution_count": null,
   "metadata": {},
   "outputs": [],
   "source": [
    "ps.to_timestamp()"
   ]
  },
  {
   "cell_type": "markdown",
   "metadata": {},
   "source": [
    "Converting between period and timestamp enables some convenient arithmetic functions to be used. In the following example, we convert a quarterly frequency with year ending in November to 9am of the end of the month following the quarter end:"
   ]
  },
  {
   "cell_type": "code",
   "execution_count": null,
   "metadata": {},
   "outputs": [],
   "source": [
    "prng = pd.period_range('1990Q1', '2000Q4', freq='Q-NOV')\n",
    "ts = pd.Series(np.random.randn(len(prng)), prng)\n",
    "ts.index = (prng.asfreq('M', 'e') + 1).asfreq('H', 's') + 9\n",
    "ts.head()"
   ]
  },
  {
   "cell_type": "markdown",
   "metadata": {},
   "source": [
    "# Categoricals\n",
    "Since version 0.15, pandas can include categorical data in a DataFrame. For full docs, see the [categorical introduction](http://pandas.pydata.org/pandas-docs/stable/categorical.html#categorical) and the [API documentation](http://pandas.pydata.org/pandas-docs/stable/api.html#api-categorical)."
   ]
  },
  {
   "cell_type": "code",
   "execution_count": 26,
   "metadata": {},
   "outputs": [
    {
     "data": {
      "text/html": [
       "<div>\n",
       "<style scoped>\n",
       "    .dataframe tbody tr th:only-of-type {\n",
       "        vertical-align: middle;\n",
       "    }\n",
       "\n",
       "    .dataframe tbody tr th {\n",
       "        vertical-align: top;\n",
       "    }\n",
       "\n",
       "    .dataframe thead th {\n",
       "        text-align: right;\n",
       "    }\n",
       "</style>\n",
       "<table border=\"1\" class=\"dataframe\">\n",
       "  <thead>\n",
       "    <tr style=\"text-align: right;\">\n",
       "      <th></th>\n",
       "      <th>id</th>\n",
       "      <th>raw_grade</th>\n",
       "    </tr>\n",
       "  </thead>\n",
       "  <tbody>\n",
       "    <tr>\n",
       "      <th>0</th>\n",
       "      <td>1</td>\n",
       "      <td>a</td>\n",
       "    </tr>\n",
       "    <tr>\n",
       "      <th>1</th>\n",
       "      <td>2</td>\n",
       "      <td>b</td>\n",
       "    </tr>\n",
       "    <tr>\n",
       "      <th>2</th>\n",
       "      <td>3</td>\n",
       "      <td>b</td>\n",
       "    </tr>\n",
       "    <tr>\n",
       "      <th>3</th>\n",
       "      <td>4</td>\n",
       "      <td>a</td>\n",
       "    </tr>\n",
       "    <tr>\n",
       "      <th>4</th>\n",
       "      <td>5</td>\n",
       "      <td>a</td>\n",
       "    </tr>\n",
       "    <tr>\n",
       "      <th>5</th>\n",
       "      <td>6</td>\n",
       "      <td>e</td>\n",
       "    </tr>\n",
       "  </tbody>\n",
       "</table>\n",
       "</div>"
      ],
      "text/plain": [
       "   id raw_grade\n",
       "0   1         a\n",
       "1   2         b\n",
       "2   3         b\n",
       "3   4         a\n",
       "4   5         a\n",
       "5   6         e"
      ]
     },
     "execution_count": 26,
     "metadata": {},
     "output_type": "execute_result"
    }
   ],
   "source": [
    "df = pd.DataFrame({\"id\":[1,2,3,4,5,6], \"raw_grade\":['a', 'b', 'b', 'a', 'a', 'e']})\n",
    "df"
   ]
  },
  {
   "cell_type": "markdown",
   "metadata": {},
   "source": [
    "Convert the raw grades to a categorical data type."
   ]
  },
  {
   "cell_type": "code",
   "execution_count": 27,
   "metadata": {},
   "outputs": [
    {
     "data": {
      "text/plain": [
       "0    a\n",
       "1    b\n",
       "2    b\n",
       "3    a\n",
       "4    a\n",
       "5    e\n",
       "Name: grade, dtype: category\n",
       "Categories (3, object): [a, b, e]"
      ]
     },
     "execution_count": 27,
     "metadata": {},
     "output_type": "execute_result"
    }
   ],
   "source": [
    "df[\"grade\"] = df[\"raw_grade\"].astype(\"category\")\n",
    "df[\"grade\"]"
   ]
  },
  {
   "cell_type": "code",
   "execution_count": null,
   "metadata": {
    "collapsed": true
   },
   "outputs": [],
   "source": [
    "Out[124]: \n",
    "0    a\n",
    "1    b\n",
    "2    b\n",
    "3    a\n",
    "4    a\n",
    "5    e\n",
    "Name: grade, dtype: category\n",
    "Categories (3, object): [a, b, e]"
   ]
  },
  {
   "cell_type": "markdown",
   "metadata": {},
   "source": [
    "Rename the categories to more meaningful names (assigning to `Series.cat.categories` is inplace!)"
   ]
  },
  {
   "cell_type": "code",
   "execution_count": 29,
   "metadata": {},
   "outputs": [
    {
     "data": {
      "text/html": [
       "<div>\n",
       "<style scoped>\n",
       "    .dataframe tbody tr th:only-of-type {\n",
       "        vertical-align: middle;\n",
       "    }\n",
       "\n",
       "    .dataframe tbody tr th {\n",
       "        vertical-align: top;\n",
       "    }\n",
       "\n",
       "    .dataframe thead th {\n",
       "        text-align: right;\n",
       "    }\n",
       "</style>\n",
       "<table border=\"1\" class=\"dataframe\">\n",
       "  <thead>\n",
       "    <tr style=\"text-align: right;\">\n",
       "      <th></th>\n",
       "      <th>id</th>\n",
       "      <th>raw_grade</th>\n",
       "      <th>grade</th>\n",
       "    </tr>\n",
       "  </thead>\n",
       "  <tbody>\n",
       "    <tr>\n",
       "      <th>0</th>\n",
       "      <td>1</td>\n",
       "      <td>a</td>\n",
       "      <td>very good</td>\n",
       "    </tr>\n",
       "    <tr>\n",
       "      <th>1</th>\n",
       "      <td>2</td>\n",
       "      <td>b</td>\n",
       "      <td>good</td>\n",
       "    </tr>\n",
       "    <tr>\n",
       "      <th>2</th>\n",
       "      <td>3</td>\n",
       "      <td>b</td>\n",
       "      <td>good</td>\n",
       "    </tr>\n",
       "    <tr>\n",
       "      <th>3</th>\n",
       "      <td>4</td>\n",
       "      <td>a</td>\n",
       "      <td>very good</td>\n",
       "    </tr>\n",
       "    <tr>\n",
       "      <th>4</th>\n",
       "      <td>5</td>\n",
       "      <td>a</td>\n",
       "      <td>very good</td>\n",
       "    </tr>\n",
       "    <tr>\n",
       "      <th>5</th>\n",
       "      <td>6</td>\n",
       "      <td>e</td>\n",
       "      <td>very bad</td>\n",
       "    </tr>\n",
       "  </tbody>\n",
       "</table>\n",
       "</div>"
      ],
      "text/plain": [
       "   id raw_grade      grade\n",
       "0   1         a  very good\n",
       "1   2         b       good\n",
       "2   3         b       good\n",
       "3   4         a  very good\n",
       "4   5         a  very good\n",
       "5   6         e   very bad"
      ]
     },
     "execution_count": 29,
     "metadata": {},
     "output_type": "execute_result"
    }
   ],
   "source": [
    "df[\"grade\"].cat.categories = [\"very good\", \"good\", \"very bad\"]\n",
    "df"
   ]
  },
  {
   "cell_type": "markdown",
   "metadata": {},
   "source": [
    "Reorder the categories and simultaneously add the missing categories (methods under Series `.cat` return a new Series per default)."
   ]
  },
  {
   "cell_type": "code",
   "execution_count": 30,
   "metadata": {},
   "outputs": [
    {
     "data": {
      "text/plain": [
       "0    very good\n",
       "1         good\n",
       "2         good\n",
       "3    very good\n",
       "4    very good\n",
       "5     very bad\n",
       "Name: grade, dtype: category\n",
       "Categories (5, object): [very bad, bad, medium, good, very good]"
      ]
     },
     "execution_count": 30,
     "metadata": {},
     "output_type": "execute_result"
    }
   ],
   "source": [
    "df[\"grade\"] = df[\"grade\"].cat.set_categories([\"very bad\", \"bad\", \"medium\", \"good\", \"very good\"])\n",
    "df[\"grade\"]"
   ]
  },
  {
   "cell_type": "markdown",
   "metadata": {},
   "source": [
    "Sorting is per order in the categories, not lexical order."
   ]
  },
  {
   "cell_type": "code",
   "execution_count": null,
   "metadata": {},
   "outputs": [],
   "source": [
    "df.sort_values(by=\"grade\")"
   ]
  },
  {
   "cell_type": "code",
   "execution_count": null,
   "metadata": {
    "collapsed": true
   },
   "outputs": [],
   "source": [
    "Out[128]: \n",
    "   id raw_grade      grade\n",
    "5   6         e   very bad\n",
    "1   2         b       good\n",
    "2   3         b       good\n",
    "0   1         a  very good\n",
    "3   4         a  very good\n",
    "4   5         a  very good"
   ]
  },
  {
   "cell_type": "markdown",
   "metadata": {},
   "source": [
    "Grouping by a categorical column shows also empty categories."
   ]
  },
  {
   "cell_type": "code",
   "execution_count": null,
   "metadata": {},
   "outputs": [],
   "source": [
    "df.groupby(\"grade\").size()"
   ]
  },
  {
   "cell_type": "markdown",
   "metadata": {},
   "source": [
    "# Plotting\n",
    "[Plotting docs](http://pandas.pydata.org/pandas-docs/stable/visualization.html#visualization)."
   ]
  },
  {
   "cell_type": "code",
   "execution_count": null,
   "metadata": {
    "collapsed": true
   },
   "outputs": [],
   "source": [
    "ts = pd.Series(np.random.randn(1000), index=pd.date_range('1/1/2000', periods=1000))\n",
    "ts = ts.cumsum()"
   ]
  },
  {
   "cell_type": "code",
   "execution_count": null,
   "metadata": {},
   "outputs": [],
   "source": [
    "%matplotlib inline\n",
    "ts.plot()"
   ]
  },
  {
   "cell_type": "markdown",
   "metadata": {},
   "source": [
    "On DataFrame, `plot()` is a convenience to plot all of the columns with labels:"
   ]
  },
  {
   "cell_type": "code",
   "execution_count": null,
   "metadata": {},
   "outputs": [],
   "source": [
    "df = pd.DataFrame(np.random.randn(1000, 4), index=ts.index,\n",
    "   .....:                   columns=['A', 'B', 'C', 'D'])\n",
    "   .....: \n",
    "\n",
    "df = df.cumsum()\n",
    "\n",
    "%matplotlib inline\n",
    "plt.figure(); df.plot(); plt.legend(loc='best')"
   ]
  },
  {
   "cell_type": "markdown",
   "metadata": {},
   "source": [
    "# Getting Data In/Out\n",
    "## CSV\n",
    "\n",
    "[Writing to a csv file](http://pandas.pydata.org/pandas-docs/stable/io.html#io-store-in-csv)"
   ]
  },
  {
   "cell_type": "code",
   "execution_count": null,
   "metadata": {
    "collapsed": true
   },
   "outputs": [],
   "source": [
    "df.to_csv('foo.csv')"
   ]
  },
  {
   "cell_type": "markdown",
   "metadata": {},
   "source": [
    "[Reading from a csv file](http://pandas.pydata.org/pandas-docs/stable/io.html#io-read-csv-table)"
   ]
  },
  {
   "cell_type": "code",
   "execution_count": null,
   "metadata": {
    "collapsed": true
   },
   "outputs": [],
   "source": [
    "pd.read_csv('foo.csv')"
   ]
  },
  {
   "cell_type": "markdown",
   "metadata": {},
   "source": [
    "## HDF5\n",
    "\n",
    "Reading and writing to [HDFStores](http://pandas.pydata.org/pandas-docs/stable/io.html#io-hdf5)\n",
    "\n",
    "Writing to a HDF5 Store"
   ]
  },
  {
   "cell_type": "code",
   "execution_count": null,
   "metadata": {},
   "outputs": [],
   "source": [
    "## df.to_hdf('foo.h5','df')"
   ]
  },
  {
   "cell_type": "markdown",
   "metadata": {},
   "source": [
    "Reading from a HDF5 Store"
   ]
  },
  {
   "cell_type": "code",
   "execution_count": null,
   "metadata": {
    "collapsed": true
   },
   "outputs": [],
   "source": [
    "## pd.read_hdf('foo.h5','df')"
   ]
  },
  {
   "cell_type": "markdown",
   "metadata": {},
   "source": [
    "## Excel\n",
    "\n",
    "Reading and writing to [MS Excel](http://pandas.pydata.org/pandas-docs/stable/io.html#io-excel)\n",
    "\n",
    "Writing to an excel file"
   ]
  },
  {
   "cell_type": "code",
   "execution_count": null,
   "metadata": {
    "collapsed": true
   },
   "outputs": [],
   "source": [
    "df.to_excel('foo.xlsx', sheet_name='Sheet1')"
   ]
  },
  {
   "cell_type": "markdown",
   "metadata": {},
   "source": [
    "Reading from an excel file"
   ]
  },
  {
   "cell_type": "code",
   "execution_count": null,
   "metadata": {
    "scrolled": true
   },
   "outputs": [],
   "source": [
    "pd.read_excel('foo.xlsx', 'Sheet1', index_col=None, na_values=['NA'])"
   ]
  },
  {
   "cell_type": "markdown",
   "metadata": {},
   "source": [
    "# Gotchas\n",
    "If you are trying an operation and you see an exception like:\n",
    "<pre>    \n",
    "&gt;&gt;&gt; if pd.Series([False, True, False]):\n",
    "    print(\"I was true\")\n",
    "Traceback\n",
    "    ...\n",
    "\n",
    "ValueError: The truth value of an array is ambiguous. Use a.empty, a.any() or a.all().\n",
    "</pre>\n",
    "\n",
    "See [Comparisons](http://pandas.pydata.org/pandas-docs/stable/basics.html#basics-compare) for an explanation and what to do.\n",
    "\n",
    "See [Gotchas](http://pandas.pydata.org/pandas-docs/stable/gotchas.html#gotchas) as well."
   ]
  },
  {
   "cell_type": "code",
   "execution_count": null,
   "metadata": {
    "collapsed": true
   },
   "outputs": [],
   "source": []
  },
  {
   "cell_type": "code",
   "execution_count": null,
   "metadata": {
    "collapsed": true
   },
   "outputs": [],
   "source": []
  },
  {
   "cell_type": "code",
   "execution_count": null,
   "metadata": {
    "collapsed": true
   },
   "outputs": [],
   "source": []
  },
  {
   "cell_type": "code",
   "execution_count": null,
   "metadata": {
    "collapsed": true
   },
   "outputs": [],
   "source": []
  },
  {
   "cell_type": "code",
   "execution_count": null,
   "metadata": {
    "collapsed": true
   },
   "outputs": [],
   "source": []
  },
  {
   "cell_type": "code",
   "execution_count": null,
   "metadata": {
    "collapsed": true
   },
   "outputs": [],
   "source": []
  },
  {
   "cell_type": "code",
   "execution_count": null,
   "metadata": {
    "collapsed": true
   },
   "outputs": [],
   "source": []
  },
  {
   "cell_type": "code",
   "execution_count": null,
   "metadata": {
    "collapsed": true
   },
   "outputs": [],
   "source": []
  },
  {
   "cell_type": "code",
   "execution_count": null,
   "metadata": {
    "collapsed": true
   },
   "outputs": [],
   "source": []
  },
  {
   "cell_type": "code",
   "execution_count": null,
   "metadata": {
    "collapsed": true
   },
   "outputs": [],
   "source": []
  },
  {
   "cell_type": "code",
   "execution_count": null,
   "metadata": {
    "ExecuteTime": {
     "end_time": "2017-09-18T18:16:52.078113",
     "start_time": "2017-09-18T18:16:52.072116"
    }
   },
   "outputs": [],
   "source": [
    "np.array([row[10] for row in array])"
   ]
  }
 ],
 "metadata": {
  "hide_input": false,
  "kernelspec": {
   "display_name": "Python 3",
   "language": "python",
   "name": "python3"
  },
  "language_info": {
   "codemirror_mode": {
    "name": "ipython",
    "version": 3
   },
   "file_extension": ".py",
   "mimetype": "text/x-python",
   "name": "python",
   "nbconvert_exporter": "python",
   "pygments_lexer": "ipython3",
   "version": "3.6.8"
  },
  "toc": {
   "nav_menu": {
    "height": "512px",
    "width": "252px"
   },
   "navigate_menu": true,
   "number_sections": true,
   "sideBar": true,
   "threshold": 4,
   "toc_cell": false,
   "toc_section_display": "block",
   "toc_window_display": false
  }
 },
 "nbformat": 4,
 "nbformat_minor": 1
}
