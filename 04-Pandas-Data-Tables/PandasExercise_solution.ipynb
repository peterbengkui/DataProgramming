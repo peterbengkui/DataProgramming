{
 "cells": [
  {
   "cell_type": "markdown",
   "metadata": {},
   "source": [
    "# Pandas Exercise\n",
    "Use the Adventure Works dataset to create the following reports.\n",
    "The data files can be directlty accessed by all users on ARC (our Hadoop Cluster).\n",
    "\n",
    "***No need to download or copy into your home directory!***\n",
    "\n",
    "Reference to the original data set https://msdn.microsoft.com/en-us/library/hh403424.aspx \n",
    "\n",
    "## Task\n",
    "1. write the Python Pandas expression to produce a table as described in the problem statements.\n",
    "2. The SQL expression may give you a hint. It also allows you to see both systems side-by-side.\n",
    "3. If you don't know SQL just ignore the SQL code."
   ]
  },
  {
   "cell_type": "code",
   "execution_count": 1,
   "metadata": {},
   "outputs": [],
   "source": [
    "import pandas as pd\n",
    "import numpy as np\n",
    "\n",
    "Employees = pd.read_excel('/Users/mxz0434/GSU-Teaching/course-material/DataProgramming/04-Pandas-Data-Tables/Employees.xls')"
   ]
  },
  {
   "cell_type": "markdown",
   "metadata": {},
   "source": [
    "# Filtering (with)"
   ]
  },
  {
   "cell_type": "markdown",
   "metadata": {},
   "source": [
    "### 1. Provide a list of employees that are married."
   ]
  },
  {
   "cell_type": "raw",
   "metadata": {},
   "source": [
    "SELECT e.EmployeeID, e.FirstName, e.LastName FROM dbo.Employees AS e\n",
    "    WHERE e.MaritalStatus = 'M';"
   ]
  },
  {
   "cell_type": "code",
   "execution_count": null,
   "metadata": {
    "collapsed": true
   },
   "outputs": [],
   "source": [
    "Employees.MaritalStatus == 'M'"
   ]
  },
  {
   "cell_type": "code",
   "execution_count": null,
   "metadata": {
    "scrolled": true
   },
   "outputs": [],
   "source": [
    "Employees.loc[Employees.MaritalStatus == 'M', ['EmployeeID', 'FirstName', 'LastName', 'MaritalStatus']]"
   ]
  },
  {
   "cell_type": "markdown",
   "metadata": {},
   "source": [
    "### 2a. Show me a list of employees that have a lastname that begins with \"R\"."
   ]
  },
  {
   "cell_type": "raw",
   "metadata": {},
   "source": [
    "SELECT e.EmployeeID, e.FirstName, e.LastName FROM dbo.Employees AS e\n",
    "\tWHERE e.LastName LIKE 'R%';"
   ]
  },
  {
   "cell_type": "code",
   "execution_count": 2,
   "metadata": {},
   "outputs": [],
   "source": [
    "filter = Employees.LastName.map(lambda x: x[0] == 'R')"
   ]
  },
  {
   "cell_type": "code",
   "execution_count": 4,
   "metadata": {},
   "outputs": [
    {
     "data": {
      "text/html": [
       "<div>\n",
       "<style scoped>\n",
       "    .dataframe tbody tr th:only-of-type {\n",
       "        vertical-align: middle;\n",
       "    }\n",
       "\n",
       "    .dataframe tbody tr th {\n",
       "        vertical-align: top;\n",
       "    }\n",
       "\n",
       "    .dataframe thead th {\n",
       "        text-align: right;\n",
       "    }\n",
       "</style>\n",
       "<table border=\"1\" class=\"dataframe\">\n",
       "  <thead>\n",
       "    <tr style=\"text-align: right;\">\n",
       "      <th></th>\n",
       "      <th>EmployeeID</th>\n",
       "      <th>ManagerID</th>\n",
       "      <th>TerritoryID</th>\n",
       "      <th>Title</th>\n",
       "      <th>FirstName</th>\n",
       "      <th>MiddleName</th>\n",
       "      <th>LastName</th>\n",
       "      <th>Suffix</th>\n",
       "      <th>JobTitle</th>\n",
       "      <th>NationalIDNumber</th>\n",
       "      <th>BirthDate</th>\n",
       "      <th>MaritalStatus</th>\n",
       "      <th>Gender</th>\n",
       "      <th>HireDate</th>\n",
       "      <th>SalariedFlag</th>\n",
       "      <th>VacationHours</th>\n",
       "      <th>SickLeaveHours</th>\n",
       "      <th>PhoneNumber</th>\n",
       "      <th>PhoneNumberType</th>\n",
       "      <th>EmailAddress</th>\n",
       "      <th>AddressLine1</th>\n",
       "      <th>AddressLine2</th>\n",
       "      <th>City</th>\n",
       "      <th>StateProvinceName</th>\n",
       "      <th>PostalCode</th>\n",
       "      <th>CountryName</th>\n",
       "    </tr>\n",
       "  </thead>\n",
       "  <tbody>\n",
       "    <tr>\n",
       "      <th>9</th>\n",
       "      <td>124</td>\n",
       "      <td>250.0</td>\n",
       "      <td>NaN</td>\n",
       "      <td>NaN</td>\n",
       "      <td>Kim</td>\n",
       "      <td>T</td>\n",
       "      <td>Ralls</td>\n",
       "      <td>NaN</td>\n",
       "      <td>Stocker</td>\n",
       "      <td>420776180</td>\n",
       "      <td>1978-06-01</td>\n",
       "      <td>S</td>\n",
       "      <td>F</td>\n",
       "      <td>2003-01-27</td>\n",
       "      <td>0</td>\n",
       "      <td>98</td>\n",
       "      <td>69</td>\n",
       "      <td>309-555-0129</td>\n",
       "      <td>Work</td>\n",
       "      <td>kim0@adventure-works.com</td>\n",
       "      <td>1226 Shoe St.</td>\n",
       "      <td>NaN</td>\n",
       "      <td>Bothell</td>\n",
       "      <td>Washington</td>\n",
       "      <td>98011</td>\n",
       "      <td>United States</td>\n",
       "    </tr>\n",
       "    <tr>\n",
       "      <th>10</th>\n",
       "      <td>10</td>\n",
       "      <td>25.0</td>\n",
       "      <td>NaN</td>\n",
       "      <td>NaN</td>\n",
       "      <td>Michael</td>\n",
       "      <td>NaN</td>\n",
       "      <td>Raheem</td>\n",
       "      <td>NaN</td>\n",
       "      <td>Research and Development Manager</td>\n",
       "      <td>879342154</td>\n",
       "      <td>1979-01-01</td>\n",
       "      <td>M</td>\n",
       "      <td>M</td>\n",
       "      <td>2003-06-04</td>\n",
       "      <td>1</td>\n",
       "      <td>16</td>\n",
       "      <td>64</td>\n",
       "      <td>330-555-2568</td>\n",
       "      <td>Work</td>\n",
       "      <td>michael6@adventure-works.com</td>\n",
       "      <td>1234 Seaside Way</td>\n",
       "      <td>NaN</td>\n",
       "      <td>San Francisco</td>\n",
       "      <td>California</td>\n",
       "      <td>94109</td>\n",
       "      <td>United States</td>\n",
       "    </tr>\n",
       "    <tr>\n",
       "      <th>16</th>\n",
       "      <td>166</td>\n",
       "      <td>26.0</td>\n",
       "      <td>NaN</td>\n",
       "      <td>NaN</td>\n",
       "      <td>Jack</td>\n",
       "      <td>S</td>\n",
       "      <td>Richins</td>\n",
       "      <td>NaN</td>\n",
       "      <td>Production Supervisor - WC30</td>\n",
       "      <td>60114406</td>\n",
       "      <td>1977-07-23</td>\n",
       "      <td>S</td>\n",
       "      <td>M</td>\n",
       "      <td>2003-03-25</td>\n",
       "      <td>0</td>\n",
       "      <td>68</td>\n",
       "      <td>54</td>\n",
       "      <td>552-555-0111</td>\n",
       "      <td>Work</td>\n",
       "      <td>jack0@adventure-works.com</td>\n",
       "      <td>1356 Grove Way</td>\n",
       "      <td>NaN</td>\n",
       "      <td>Monroe</td>\n",
       "      <td>Washington</td>\n",
       "      <td>98272</td>\n",
       "      <td>United States</td>\n",
       "    </tr>\n",
       "    <tr>\n",
       "      <th>27</th>\n",
       "      <td>147</td>\n",
       "      <td>26.0</td>\n",
       "      <td>NaN</td>\n",
       "      <td>NaN</td>\n",
       "      <td>Sandra</td>\n",
       "      <td>NaN</td>\n",
       "      <td>Reátegui Alayo</td>\n",
       "      <td>NaN</td>\n",
       "      <td>Production Technician - WC30</td>\n",
       "      <td>604664374</td>\n",
       "      <td>1969-12-06</td>\n",
       "      <td>M</td>\n",
       "      <td>F</td>\n",
       "      <td>2003-01-27</td>\n",
       "      <td>0</td>\n",
       "      <td>37</td>\n",
       "      <td>38</td>\n",
       "      <td>896-555-0168</td>\n",
       "      <td>Work</td>\n",
       "      <td>sandra0@adventure-works.com</td>\n",
       "      <td>1619 Stillman Court</td>\n",
       "      <td>NaN</td>\n",
       "      <td>Seattle</td>\n",
       "      <td>Washington</td>\n",
       "      <td>98104</td>\n",
       "      <td>United States</td>\n",
       "    </tr>\n",
       "    <tr>\n",
       "      <th>44</th>\n",
       "      <td>133</td>\n",
       "      <td>26.0</td>\n",
       "      <td>NaN</td>\n",
       "      <td>NaN</td>\n",
       "      <td>Michael</td>\n",
       "      <td>L</td>\n",
       "      <td>Rothkugel</td>\n",
       "      <td>NaN</td>\n",
       "      <td>Production Technician - WC40</td>\n",
       "      <td>830150469</td>\n",
       "      <td>1985-02-04</td>\n",
       "      <td>S</td>\n",
       "      <td>M</td>\n",
       "      <td>2003-02-11</td>\n",
       "      <td>0</td>\n",
       "      <td>70</td>\n",
       "      <td>55</td>\n",
       "      <td>454-555-0119</td>\n",
       "      <td>Work</td>\n",
       "      <td>michael1@adventure-works.com</td>\n",
       "      <td>207 Berry Court</td>\n",
       "      <td>NaN</td>\n",
       "      <td>Edmonds</td>\n",
       "      <td>Washington</td>\n",
       "      <td>98020</td>\n",
       "      <td>United States</td>\n",
       "    </tr>\n",
       "    <tr>\n",
       "      <th>95</th>\n",
       "      <td>44</td>\n",
       "      <td>26.0</td>\n",
       "      <td>NaN</td>\n",
       "      <td>NaN</td>\n",
       "      <td>Simon</td>\n",
       "      <td>D</td>\n",
       "      <td>Rapier</td>\n",
       "      <td>NaN</td>\n",
       "      <td>Production Technician - WC60</td>\n",
       "      <td>276751903</td>\n",
       "      <td>1984-06-17</td>\n",
       "      <td>S</td>\n",
       "      <td>M</td>\n",
       "      <td>2003-01-09</td>\n",
       "      <td>0</td>\n",
       "      <td>38</td>\n",
       "      <td>39</td>\n",
       "      <td>963-555-0134</td>\n",
       "      <td>Work</td>\n",
       "      <td>simon0@adventure-works.com</td>\n",
       "      <td>3421 Bouncing Road</td>\n",
       "      <td>NaN</td>\n",
       "      <td>Duvall</td>\n",
       "      <td>Washington</td>\n",
       "      <td>98019</td>\n",
       "      <td>United States</td>\n",
       "    </tr>\n",
       "    <tr>\n",
       "      <th>99</th>\n",
       "      <td>65</td>\n",
       "      <td>26.0</td>\n",
       "      <td>NaN</td>\n",
       "      <td>NaN</td>\n",
       "      <td>Randy</td>\n",
       "      <td>T</td>\n",
       "      <td>Reeves</td>\n",
       "      <td>NaN</td>\n",
       "      <td>Production Technician - WC60</td>\n",
       "      <td>8066363</td>\n",
       "      <td>1964-05-29</td>\n",
       "      <td>M</td>\n",
       "      <td>M</td>\n",
       "      <td>2004-03-26</td>\n",
       "      <td>0</td>\n",
       "      <td>29</td>\n",
       "      <td>34</td>\n",
       "      <td>961-555-0122</td>\n",
       "      <td>Cell</td>\n",
       "      <td>randy0@adventure-works.com</td>\n",
       "      <td>3632 Bank Way</td>\n",
       "      <td>NaN</td>\n",
       "      <td>Edmonds</td>\n",
       "      <td>Washington</td>\n",
       "      <td>98020</td>\n",
       "      <td>United States</td>\n",
       "    </tr>\n",
       "    <tr>\n",
       "      <th>128</th>\n",
       "      <td>145</td>\n",
       "      <td>26.0</td>\n",
       "      <td>NaN</td>\n",
       "      <td>NaN</td>\n",
       "      <td>Cynthia</td>\n",
       "      <td>S</td>\n",
       "      <td>Randall</td>\n",
       "      <td>NaN</td>\n",
       "      <td>Production Supervisor - WC30</td>\n",
       "      <td>386315192</td>\n",
       "      <td>1975-09-19</td>\n",
       "      <td>S</td>\n",
       "      <td>F</td>\n",
       "      <td>2003-02-28</td>\n",
       "      <td>0</td>\n",
       "      <td>69</td>\n",
       "      <td>54</td>\n",
       "      <td>352-555-0138</td>\n",
       "      <td>Cell</td>\n",
       "      <td>cynthia0@adventure-works.com</td>\n",
       "      <td>463 H Stagecoach Rd.</td>\n",
       "      <td>NaN</td>\n",
       "      <td>Kenmore</td>\n",
       "      <td>Washington</td>\n",
       "      <td>98028</td>\n",
       "      <td>United States</td>\n",
       "    </tr>\n",
       "    <tr>\n",
       "      <th>131</th>\n",
       "      <td>149</td>\n",
       "      <td>26.0</td>\n",
       "      <td>NaN</td>\n",
       "      <td>NaN</td>\n",
       "      <td>Andy</td>\n",
       "      <td>M</td>\n",
       "      <td>Ruth</td>\n",
       "      <td>NaN</td>\n",
       "      <td>Production Technician - WC30</td>\n",
       "      <td>764853868</td>\n",
       "      <td>1977-11-20</td>\n",
       "      <td>M</td>\n",
       "      <td>M</td>\n",
       "      <td>2003-03-04</td>\n",
       "      <td>0</td>\n",
       "      <td>39</td>\n",
       "      <td>39</td>\n",
       "      <td>118-555-0110</td>\n",
       "      <td>Cell</td>\n",
       "      <td>andy0@adventure-works.com</td>\n",
       "      <td>4777 Rockne Drive</td>\n",
       "      <td>NaN</td>\n",
       "      <td>Bellevue</td>\n",
       "      <td>Washington</td>\n",
       "      <td>98004</td>\n",
       "      <td>United States</td>\n",
       "    </tr>\n",
       "    <tr>\n",
       "      <th>166</th>\n",
       "      <td>74</td>\n",
       "      <td>26.0</td>\n",
       "      <td>NaN</td>\n",
       "      <td>NaN</td>\n",
       "      <td>Bjorn</td>\n",
       "      <td>M</td>\n",
       "      <td>Rettig</td>\n",
       "      <td>NaN</td>\n",
       "      <td>Production Technician - WC30</td>\n",
       "      <td>420023788</td>\n",
       "      <td>1983-12-08</td>\n",
       "      <td>S</td>\n",
       "      <td>M</td>\n",
       "      <td>2003-02-08</td>\n",
       "      <td>0</td>\n",
       "      <td>43</td>\n",
       "      <td>41</td>\n",
       "      <td>199-555-0117</td>\n",
       "      <td>Work</td>\n",
       "      <td>bjorn0@adventure-works.com</td>\n",
       "      <td>5802 Ampersand Drive</td>\n",
       "      <td>NaN</td>\n",
       "      <td>Seattle</td>\n",
       "      <td>Washington</td>\n",
       "      <td>98104</td>\n",
       "      <td>United States</td>\n",
       "    </tr>\n",
       "    <tr>\n",
       "      <th>180</th>\n",
       "      <td>71</td>\n",
       "      <td>26.0</td>\n",
       "      <td>NaN</td>\n",
       "      <td>NaN</td>\n",
       "      <td>Michael</td>\n",
       "      <td>Sean</td>\n",
       "      <td>Ray</td>\n",
       "      <td>NaN</td>\n",
       "      <td>Production Supervisor - WC30</td>\n",
       "      <td>578935259</td>\n",
       "      <td>1983-03-02</td>\n",
       "      <td>S</td>\n",
       "      <td>M</td>\n",
       "      <td>2003-03-19</td>\n",
       "      <td>0</td>\n",
       "      <td>70</td>\n",
       "      <td>55</td>\n",
       "      <td>156-555-0199</td>\n",
       "      <td>Cell</td>\n",
       "      <td>michael3@adventure-works.com</td>\n",
       "      <td>6498 Mining Rd.</td>\n",
       "      <td>NaN</td>\n",
       "      <td>Seattle</td>\n",
       "      <td>Washington</td>\n",
       "      <td>98104</td>\n",
       "      <td>United States</td>\n",
       "    </tr>\n",
       "    <tr>\n",
       "      <th>188</th>\n",
       "      <td>190</td>\n",
       "      <td>26.0</td>\n",
       "      <td>NaN</td>\n",
       "      <td>NaN</td>\n",
       "      <td>Robert</td>\n",
       "      <td>J</td>\n",
       "      <td>Rounthwaite</td>\n",
       "      <td>NaN</td>\n",
       "      <td>Production Technician - WC45</td>\n",
       "      <td>456839592</td>\n",
       "      <td>1979-04-01</td>\n",
       "      <td>S</td>\n",
       "      <td>M</td>\n",
       "      <td>2003-03-06</td>\n",
       "      <td>0</td>\n",
       "      <td>82</td>\n",
       "      <td>61</td>\n",
       "      <td>589-555-0147</td>\n",
       "      <td>Cell</td>\n",
       "      <td>robert0@adventure-works.com</td>\n",
       "      <td>6843 San Simeon Dr.</td>\n",
       "      <td>NaN</td>\n",
       "      <td>Seattle</td>\n",
       "      <td>Washington</td>\n",
       "      <td>98104</td>\n",
       "      <td>United States</td>\n",
       "    </tr>\n",
       "    <tr>\n",
       "      <th>219</th>\n",
       "      <td>157</td>\n",
       "      <td>26.0</td>\n",
       "      <td>NaN</td>\n",
       "      <td>NaN</td>\n",
       "      <td>Linda</td>\n",
       "      <td>A</td>\n",
       "      <td>Randall</td>\n",
       "      <td>NaN</td>\n",
       "      <td>Production Technician - WC20</td>\n",
       "      <td>812797414</td>\n",
       "      <td>1971-11-06</td>\n",
       "      <td>S</td>\n",
       "      <td>F</td>\n",
       "      <td>2003-03-07</td>\n",
       "      <td>0</td>\n",
       "      <td>12</td>\n",
       "      <td>26</td>\n",
       "      <td>696-555-0157</td>\n",
       "      <td>Work</td>\n",
       "      <td>linda1@adventure-works.com</td>\n",
       "      <td>77 Birchwood</td>\n",
       "      <td>NaN</td>\n",
       "      <td>Seattle</td>\n",
       "      <td>Washington</td>\n",
       "      <td>98104</td>\n",
       "      <td>United States</td>\n",
       "    </tr>\n",
       "    <tr>\n",
       "      <th>240</th>\n",
       "      <td>279</td>\n",
       "      <td>274.0</td>\n",
       "      <td>5.0</td>\n",
       "      <td>NaN</td>\n",
       "      <td>Tsvi</td>\n",
       "      <td>Michael</td>\n",
       "      <td>Reiter</td>\n",
       "      <td>NaN</td>\n",
       "      <td>Sales Representative</td>\n",
       "      <td>716374314</td>\n",
       "      <td>1968-02-19</td>\n",
       "      <td>M</td>\n",
       "      <td>M</td>\n",
       "      <td>2005-07-01</td>\n",
       "      <td>1</td>\n",
       "      <td>29</td>\n",
       "      <td>34</td>\n",
       "      <td>664-555-0112</td>\n",
       "      <td>Work</td>\n",
       "      <td>tsvi0@adventure-works.com</td>\n",
       "      <td>8291 Crossbow Way</td>\n",
       "      <td>NaN</td>\n",
       "      <td>Memphis</td>\n",
       "      <td>Tennessee</td>\n",
       "      <td>38103</td>\n",
       "      <td>United States</td>\n",
       "    </tr>\n",
       "    <tr>\n",
       "      <th>267</th>\n",
       "      <td>252</td>\n",
       "      <td>250.0</td>\n",
       "      <td>NaN</td>\n",
       "      <td>NaN</td>\n",
       "      <td>Arvind</td>\n",
       "      <td>B</td>\n",
       "      <td>Rao</td>\n",
       "      <td>NaN</td>\n",
       "      <td>Buyer</td>\n",
       "      <td>792847334</td>\n",
       "      <td>1968-09-21</td>\n",
       "      <td>M</td>\n",
       "      <td>M</td>\n",
       "      <td>2003-04-01</td>\n",
       "      <td>0</td>\n",
       "      <td>60</td>\n",
       "      <td>50</td>\n",
       "      <td>848-555-0163</td>\n",
       "      <td>Cell</td>\n",
       "      <td>arvind0@adventure-works.com</td>\n",
       "      <td>9495 Limewood Place</td>\n",
       "      <td>NaN</td>\n",
       "      <td>Renton</td>\n",
       "      <td>Washington</td>\n",
       "      <td>98055</td>\n",
       "      <td>United States</td>\n",
       "    </tr>\n",
       "  </tbody>\n",
       "</table>\n",
       "</div>"
      ],
      "text/plain": [
       "     EmployeeID  ManagerID  TerritoryID Title FirstName MiddleName  \\\n",
       "9           124      250.0          NaN   NaN       Kim          T   \n",
       "10           10       25.0          NaN   NaN   Michael        NaN   \n",
       "16          166       26.0          NaN   NaN      Jack          S   \n",
       "27          147       26.0          NaN   NaN    Sandra        NaN   \n",
       "44          133       26.0          NaN   NaN   Michael          L   \n",
       "95           44       26.0          NaN   NaN     Simon          D   \n",
       "99           65       26.0          NaN   NaN     Randy          T   \n",
       "128         145       26.0          NaN   NaN   Cynthia          S   \n",
       "131         149       26.0          NaN   NaN      Andy          M   \n",
       "166          74       26.0          NaN   NaN     Bjorn          M   \n",
       "180          71       26.0          NaN   NaN   Michael       Sean   \n",
       "188         190       26.0          NaN   NaN    Robert          J   \n",
       "219         157       26.0          NaN   NaN     Linda          A   \n",
       "240         279      274.0          5.0   NaN      Tsvi    Michael   \n",
       "267         252      250.0          NaN   NaN    Arvind          B   \n",
       "\n",
       "           LastName Suffix                          JobTitle  \\\n",
       "9             Ralls    NaN                           Stocker   \n",
       "10           Raheem    NaN  Research and Development Manager   \n",
       "16          Richins    NaN      Production Supervisor - WC30   \n",
       "27   Reátegui Alayo    NaN      Production Technician - WC30   \n",
       "44        Rothkugel    NaN      Production Technician - WC40   \n",
       "95           Rapier    NaN      Production Technician - WC60   \n",
       "99           Reeves    NaN      Production Technician - WC60   \n",
       "128         Randall    NaN      Production Supervisor - WC30   \n",
       "131            Ruth    NaN      Production Technician - WC30   \n",
       "166          Rettig    NaN      Production Technician - WC30   \n",
       "180             Ray    NaN      Production Supervisor - WC30   \n",
       "188     Rounthwaite    NaN      Production Technician - WC45   \n",
       "219         Randall    NaN      Production Technician - WC20   \n",
       "240          Reiter    NaN              Sales Representative   \n",
       "267             Rao    NaN                             Buyer   \n",
       "\n",
       "     NationalIDNumber   BirthDate MaritalStatus Gender   HireDate  \\\n",
       "9           420776180  1978-06-01             S      F 2003-01-27   \n",
       "10          879342154  1979-01-01             M      M 2003-06-04   \n",
       "16           60114406  1977-07-23             S      M 2003-03-25   \n",
       "27          604664374  1969-12-06             M      F 2003-01-27   \n",
       "44          830150469  1985-02-04             S      M 2003-02-11   \n",
       "95          276751903  1984-06-17             S      M 2003-01-09   \n",
       "99            8066363  1964-05-29             M      M 2004-03-26   \n",
       "128         386315192  1975-09-19             S      F 2003-02-28   \n",
       "131         764853868  1977-11-20             M      M 2003-03-04   \n",
       "166         420023788  1983-12-08             S      M 2003-02-08   \n",
       "180         578935259  1983-03-02             S      M 2003-03-19   \n",
       "188         456839592  1979-04-01             S      M 2003-03-06   \n",
       "219         812797414  1971-11-06             S      F 2003-03-07   \n",
       "240         716374314  1968-02-19             M      M 2005-07-01   \n",
       "267         792847334  1968-09-21             M      M 2003-04-01   \n",
       "\n",
       "     SalariedFlag  VacationHours  SickLeaveHours   PhoneNumber  \\\n",
       "9               0             98              69  309-555-0129   \n",
       "10              1             16              64  330-555-2568   \n",
       "16              0             68              54  552-555-0111   \n",
       "27              0             37              38  896-555-0168   \n",
       "44              0             70              55  454-555-0119   \n",
       "95              0             38              39  963-555-0134   \n",
       "99              0             29              34  961-555-0122   \n",
       "128             0             69              54  352-555-0138   \n",
       "131             0             39              39  118-555-0110   \n",
       "166             0             43              41  199-555-0117   \n",
       "180             0             70              55  156-555-0199   \n",
       "188             0             82              61  589-555-0147   \n",
       "219             0             12              26  696-555-0157   \n",
       "240             1             29              34  664-555-0112   \n",
       "267             0             60              50  848-555-0163   \n",
       "\n",
       "    PhoneNumberType                  EmailAddress          AddressLine1  \\\n",
       "9              Work      kim0@adventure-works.com         1226 Shoe St.   \n",
       "10             Work  michael6@adventure-works.com      1234 Seaside Way   \n",
       "16             Work     jack0@adventure-works.com        1356 Grove Way   \n",
       "27             Work   sandra0@adventure-works.com   1619 Stillman Court   \n",
       "44             Work  michael1@adventure-works.com       207 Berry Court   \n",
       "95             Work    simon0@adventure-works.com    3421 Bouncing Road   \n",
       "99             Cell    randy0@adventure-works.com         3632 Bank Way   \n",
       "128            Cell  cynthia0@adventure-works.com  463 H Stagecoach Rd.   \n",
       "131            Cell     andy0@adventure-works.com     4777 Rockne Drive   \n",
       "166            Work    bjorn0@adventure-works.com  5802 Ampersand Drive   \n",
       "180            Cell  michael3@adventure-works.com       6498 Mining Rd.   \n",
       "188            Cell   robert0@adventure-works.com   6843 San Simeon Dr.   \n",
       "219            Work    linda1@adventure-works.com          77 Birchwood   \n",
       "240            Work     tsvi0@adventure-works.com     8291 Crossbow Way   \n",
       "267            Cell   arvind0@adventure-works.com   9495 Limewood Place   \n",
       "\n",
       "    AddressLine2           City StateProvinceName PostalCode    CountryName  \n",
       "9            NaN        Bothell        Washington      98011  United States  \n",
       "10           NaN  San Francisco        California      94109  United States  \n",
       "16           NaN         Monroe        Washington      98272  United States  \n",
       "27           NaN        Seattle        Washington      98104  United States  \n",
       "44           NaN        Edmonds        Washington      98020  United States  \n",
       "95           NaN         Duvall        Washington      98019  United States  \n",
       "99           NaN        Edmonds        Washington      98020  United States  \n",
       "128          NaN        Kenmore        Washington      98028  United States  \n",
       "131          NaN       Bellevue        Washington      98004  United States  \n",
       "166          NaN        Seattle        Washington      98104  United States  \n",
       "180          NaN        Seattle        Washington      98104  United States  \n",
       "188          NaN        Seattle        Washington      98104  United States  \n",
       "219          NaN        Seattle        Washington      98104  United States  \n",
       "240          NaN        Memphis         Tennessee      38103  United States  \n",
       "267          NaN         Renton        Washington      98055  United States  "
      ]
     },
     "execution_count": 4,
     "metadata": {},
     "output_type": "execute_result"
    }
   ],
   "source": [
    "filter1 = []\n",
    "for ln in Employees.LastName:\n",
    "    if ln[0] == 'R':\n",
    "        filter1.append(True)\n",
    "    else:\n",
    "        filter1.append(False)\n",
    "\n",
    "Employees[filter1]"
   ]
  },
  {
   "cell_type": "code",
   "execution_count": null,
   "metadata": {},
   "outputs": [],
   "source": [
    "df = Employees[Employees.LastName.map(lambda x: x[0] == 'R')]\n",
    "df[['EmployeeID', 'FirstName', 'LastName']]"
   ]
  },
  {
   "cell_type": "markdown",
   "metadata": {},
   "source": [
    "### 2b. Show me a list of employees that have a lastname that ends with \"r\""
   ]
  },
  {
   "cell_type": "raw",
   "metadata": {},
   "source": [
    "SELECT e.EmployeeID, e.FirstName, e.LastName FROM dbo.Employees AS e\n",
    "\tWHERE e.LastName LIKE '%r';"
   ]
  },
  {
   "cell_type": "code",
   "execution_count": null,
   "metadata": {
    "scrolled": true
   },
   "outputs": [],
   "source": [
    "Employees.loc[Employees.LastName.map(lambda x: x[-1] == 'r'), ['EmployeeID', 'FirstName', 'LastName']]"
   ]
  },
  {
   "cell_type": "markdown",
   "metadata": {},
   "source": [
    "### 2c. Provide a list of employees that have a hyphenated lastname."
   ]
  },
  {
   "cell_type": "raw",
   "metadata": {},
   "source": [
    "SELECT e.EmployeeID, e.FirstName, e.LastName FROM dbo.Employees AS e\n",
    "\tWHERE e.LastName LIKE '%-%';"
   ]
  },
  {
   "cell_type": "code",
   "execution_count": null,
   "metadata": {},
   "outputs": [],
   "source": [
    "help(pd.Series.between)"
   ]
  },
  {
   "cell_type": "code",
   "execution_count": null,
   "metadata": {},
   "outputs": [],
   "source": [
    "type(Employees.LastName)\n",
    "dir(type(Employees.LastName))"
   ]
  },
  {
   "cell_type": "code",
   "execution_count": null,
   "metadata": {},
   "outputs": [],
   "source": [
    "Employees.loc[Employees.LastName.map(lambda x: '-' in x), ['EmployeeID', 'FirstName', 'LastName']]"
   ]
  },
  {
   "cell_type": "markdown",
   "metadata": {},
   "source": [
    "### 3a. Provide a list of employees that are on salary and have more than 35 vacation hours left."
   ]
  },
  {
   "cell_type": "raw",
   "metadata": {},
   "source": [
    "SELECT \te.EmployeeID\n",
    "\t\t,e.FirstName\n",
    "\t\t,e.LastName\n",
    "\t\t,e.VacationHours\n",
    "\t\t,e.SalariedFlag\n",
    "\tFROM dbo.Employees AS e\n",
    "\tWHERE (e.SalariedFlag = 1) AND (e.VacationHours > 35);"
   ]
  },
  {
   "cell_type": "code",
   "execution_count": null,
   "metadata": {
    "scrolled": true
   },
   "outputs": [],
   "source": [
    "Employees.loc[(Employees.SalariedFlag==1) & (Employees.VacationHours>35), ['EmployeeID', 'FirstName', 'LastName', 'SalariedFlag', 'VacationHours']]"
   ]
  },
  {
   "cell_type": "markdown",
   "metadata": {},
   "source": [
    "### 3b. Show the same as above but limit it to US employees."
   ]
  },
  {
   "cell_type": "raw",
   "metadata": {},
   "source": [
    "SELECT DISTINCT CountryName FROM dbo.Employees;\n",
    "\n",
    "SELECT \te.EmployeeID\n",
    "\t\t,e.FirstName\n",
    "\t\t,e.LastName\n",
    "\t\t,e.VacationHours\n",
    "\t\t,e.SalariedFlag\n",
    "\t\t,e.CountryName\n",
    "\tFROM dbo.Employees AS e\n",
    "\tWHERE (e.SalariedFlag = 1) AND (e.VacationHours > 35) AND e.CountryName = 'United States';"
   ]
  },
  {
   "cell_type": "code",
   "execution_count": null,
   "metadata": {
    "collapsed": true
   },
   "outputs": [],
   "source": [
    "Employees.loc[(Employees.SalariedFlag==1) & (Employees.VacationHours>35), ['EmployeeID', 'FirstName', 'LastName', 'SalariedFlag', 'VacationHours']]"
   ]
  },
  {
   "cell_type": "markdown",
   "metadata": {},
   "source": [
    "### 3c. Show the same as above but limit it to non-US employees."
   ]
  },
  {
   "cell_type": "raw",
   "metadata": {},
   "source": [
    "SELECT \te.EmployeeID\n",
    "\t\t,e.FirstName\n",
    "\t\t,e.LastName\n",
    "\t\t,e.VacationHours\n",
    "\t\t,e.SalariedFlag\n",
    "\t\t,e.CountryName\n",
    "\tFROM dbo.Employees AS e\n",
    "\tWHERE (e.SalariedFlag = 1) AND (e.VacationHours > 5) AND e.CountryName != 'United States';"
   ]
  },
  {
   "cell_type": "code",
   "execution_count": null,
   "metadata": {},
   "outputs": [],
   "source": [
    "Employees.loc[\n",
    "    (Employees.SalariedFlag==1) & (Employees.VacationHours>35) & (Employees.CountryName != 'United States')\n",
    "    , ['EmployeeID', 'FirstName', 'LastName', 'SalariedFlag', 'VacationHours']\n",
    "]"
   ]
  },
  {
   "cell_type": "markdown",
   "metadata": {},
   "source": [
    "### 4a. List the married employees with more than 35 vacation hours, only ones living in Washington state."
   ]
  },
  {
   "cell_type": "raw",
   "metadata": {},
   "source": [
    "SELECT \te.EmployeeID\n",
    "\t\t,e.FirstName\n",
    "\t\t,e.LastName\n",
    "\t\t,e.VacationHours\n",
    "\t\t,e.SalariedFlag\n",
    "\t\t,e.StateProvinceName\n",
    "\t\t,e.CountryName\n",
    "\tFROM dbo.Employees AS e\n",
    "\tWHERE e.MaritalStatus = 'M' AND e.VacationHours > 35 AND e.StateProvinceName = 'Washington'\n",
    "\t;"
   ]
  },
  {
   "cell_type": "code",
   "execution_count": null,
   "metadata": {},
   "outputs": [],
   "source": [
    "Employees.loc[\n",
    "    (Employees.SalariedFlag==1) & (Employees.VacationHours>35) & (Employees.StateProvinceName == 'Washington')\n",
    "    , ['EmployeeID', 'FirstName', 'LastName', 'SalariedFlag', 'VacationHours', 'StateProvinceName']\n",
    "]"
   ]
  },
  {
   "cell_type": "markdown",
   "metadata": {},
   "source": [
    "### 4b. Change the logic to include anyone who meets any of the 3 conditions (i.e., people who are either married, live in Washington state, or have more than 35 vacation hours left)"
   ]
  },
  {
   "cell_type": "raw",
   "metadata": {},
   "source": [
    "SELECT \te.EmployeeID\n",
    "\t\t,e.FirstName\n",
    "\t\t,e.LastName\n",
    "\t\t,e.MaritalStatus\n",
    "\t\t,e.VacationHours\n",
    "\t\t,e.SalariedFlag\n",
    "\t\t,e.StateProvinceName\n",
    "\t\t,e.CountryName\n",
    "\tFROM dbo.Employees AS e\n",
    "\tWHERE e.MaritalStatus = 'M' OR e.VacationHours > 35 OR e.StateProvinceName = 'Washington'\n",
    "\t;"
   ]
  },
  {
   "cell_type": "code",
   "execution_count": null,
   "metadata": {
    "scrolled": true
   },
   "outputs": [],
   "source": [
    "Employees.loc[\n",
    "    (Employees.SalariedFlag==1) | (Employees.VacationHours>35) | (Employees.StateProvinceName == 'Washington')\n",
    "    , ['EmployeeID', 'FirstName', 'LastName', 'SalariedFlag', 'VacationHours', 'StateProvinceName']\n",
    "]"
   ]
  },
  {
   "cell_type": "markdown",
   "metadata": {},
   "source": [
    "### 4c. Show the same as above, but only for Production Technicians"
   ]
  },
  {
   "cell_type": "raw",
   "metadata": {},
   "source": [
    "SELECT DISTINCT JobTitle FROM dbo.Employees; --- look at job titles\n",
    "\n",
    "SELECT \te.EmployeeID\n",
    "\t\t,e.FirstName\n",
    "\t\t,e.LastName\n",
    "\t\t,e.MaritalStatus\n",
    "\t\t,e.JobTitle\n",
    "\t\t,e.VacationHours\n",
    "\t\t,e.SalariedFlag\n",
    "\t\t,e.StateProvinceName\n",
    "\t\t,e.CountryName\n",
    "\tFROM dbo.Employees AS e\n",
    "\tWHERE e.JobTitle LIKE 'Production Technician%'\n",
    "\t\t AND (e.MaritalStatus = 'M' OR e.VacationHours > 35 OR e.StateProvinceName = 'Washington')\n",
    "\t;"
   ]
  },
  {
   "cell_type": "code",
   "execution_count": null,
   "metadata": {},
   "outputs": [],
   "source": [
    "'abc'.startswith('ab')"
   ]
  },
  {
   "cell_type": "code",
   "execution_count": null,
   "metadata": {
    "scrolled": true
   },
   "outputs": [],
   "source": [
    "Employees.loc[ Employees.JobTitle.map(lambda x: x.startswith('Production Technician'))\n",
    "    & (\n",
    "        (Employees.SalariedFlag==1) | (Employees.VacationHours>35) | (Employees.StateProvinceName == 'Washington')\n",
    "    ), ['EmployeeID', 'FirstName', 'LastName', 'SalariedFlag', 'VacationHours', 'StateProvinceName', 'JobTitle']\n",
    "]"
   ]
  },
  {
   "cell_type": "markdown",
   "metadata": {},
   "source": [
    "### 5a. List all employees living in Redmond, Seattle, and Bellevue, showing EmployeeID, FirstName, LastName, and City. Sort the list alphabetically by city."
   ]
  },
  {
   "cell_type": "raw",
   "metadata": {},
   "source": [
    "SELECT e.EmployeeID, e.FirstName, e.LastName, e.City\n",
    "\tFROM dbo.Employees AS e\n",
    "\tWHERE e.City in ('Redmond', 'Seattle', 'Bellevue')\n",
    "\tORDER BY e.City\n",
    "\t;"
   ]
  },
  {
   "cell_type": "code",
   "execution_count": null,
   "metadata": {
    "scrolled": true
   },
   "outputs": [],
   "source": [
    "Employees.loc[Employees.City.isin(['Redmond', 'Seattle', 'Bellevue']),\n",
    "              ['EmployeeID', 'FirstName', 'LastName', 'City']].sort_values('City')"
   ]
  },
  {
   "cell_type": "markdown",
   "metadata": {},
   "source": [
    "### 5b. For the list above, make sure these are only in the state of Washington, just to be careful."
   ]
  },
  {
   "cell_type": "raw",
   "metadata": {},
   "source": [
    "SELECT e.EmployeeID, e.FirstName, e.LastName, e.City,  e.StateProvinceName\n",
    "\tFROM dbo.Employees AS e\n",
    "\tWHERE e.City in ('Redmond', 'Seattle', 'Bellevue') AND e.StateProvinceName = 'Washington'\n",
    "\tORDER BY e.City\n",
    "\t;"
   ]
  },
  {
   "cell_type": "code",
   "execution_count": null,
   "metadata": {
    "scrolled": true
   },
   "outputs": [],
   "source": [
    "Employees.loc[Employees.City.isin(['Redmond', 'Seattle', 'Bellevue'])\n",
    "              & (Employees.StateProvinceName=='Washington'),\n",
    "              ['EmployeeID', 'FirstName', 'LastName', 'City']].sort_values('City')"
   ]
  },
  {
   "cell_type": "markdown",
   "metadata": {},
   "source": [
    "### 6. Provide a list of employees who have no title, whether it's a NULL or empty string."
   ]
  },
  {
   "cell_type": "raw",
   "metadata": {},
   "source": [
    "SELECT e.EmployeeID, e.Title, e.FirstName, e.LastName\n",
    "\tFROM dbo.Employees AS e\n",
    "\tWHERE e.Title IS NULL OR e.Title = ''\n",
    "\t;"
   ]
  },
  {
   "cell_type": "code",
   "execution_count": null,
   "metadata": {
    "scrolled": true
   },
   "outputs": [],
   "source": [
    "### Note: when exporting the SQL table to Excel the one row with a ' ' in the Title was already removed...Sorry\n",
    "\n",
    "Employees.loc[pd.isnull(Employees.Title) | Employees.Title.map(lambda x: len(str(x).strip())==0)\n",
    "              ,['EmployeeID', 'Title', 'FirstName', 'LastName', 'City']]"
   ]
  },
  {
   "cell_type": "markdown",
   "metadata": {},
   "source": [
    "### 7a. Provide a list of employees who have at least 60 vacation hours left."
   ]
  },
  {
   "cell_type": "raw",
   "metadata": {},
   "source": [
    "SELECT e.EmployeeID, e.Title, e.FirstName, e.LastName, e.VacationHours, e.SickLeaveHours\n",
    "\tFROM dbo.Employees AS e\n",
    "\tWHERE e.VacationHours >= 60\n",
    "\t;"
   ]
  },
  {
   "cell_type": "code",
   "execution_count": null,
   "metadata": {
    "scrolled": true
   },
   "outputs": [],
   "source": [
    "Employees.loc[Employees.VacationHours >= 60\n",
    "              , ['EmployeeID', 'FirstName', 'LastName', 'VacationHours', 'SickLeaveHours']]"
   ]
  },
  {
   "cell_type": "markdown",
   "metadata": {},
   "source": [
    "### 7b. Provide a list of employees who have less than 60 vacation hours left."
   ]
  },
  {
   "cell_type": "raw",
   "metadata": {},
   "source": [
    "SELECT e.EmployeeID, e.Title, e.FirstName, e.LastName, e.VacationHours, e.SickLeaveHours\n",
    "\tFROM dbo.Employees AS e\n",
    "\tWHERE e.VacationHours < 60\n",
    "\t;"
   ]
  },
  {
   "cell_type": "code",
   "execution_count": null,
   "metadata": {
    "scrolled": true
   },
   "outputs": [],
   "source": [
    "Employees.loc[Employees.VacationHours < 60\n",
    "              , ['EmployeeID', 'FirstName', 'LastName', 'VacationHours', 'SickLeaveHours']]"
   ]
  },
  {
   "cell_type": "markdown",
   "metadata": {},
   "source": [
    "### 7c. Show me employees who have more than 20 and less than 60 vacation hours left."
   ]
  },
  {
   "cell_type": "raw",
   "metadata": {},
   "source": [
    "SELECT e.EmployeeID, e.Title, e.FirstName, e.LastName, e.VacationHours, e.SickLeaveHours\n",
    "\tFROM dbo.Employees AS e\n",
    "\tWHERE e.VacationHours BETWEEN 21 AND 59\n",
    "\t;"
   ]
  },
  {
   "cell_type": "code",
   "execution_count": null,
   "metadata": {
    "collapsed": true
   },
   "outputs": [],
   "source": [
    "Employees.loc[(Employees.VacationHours > 20) & (Employees.VacationHours < 60)\n",
    "              , ['EmployeeID', 'FirstName', 'LastName', 'VacationHours', 'SickLeaveHours']]"
   ]
  },
  {
   "cell_type": "markdown",
   "metadata": {},
   "source": [
    "### 7d. If you did not use BETWEEN for 7c, do the same but use BETWEEN. If you did use BETWEEN for 7c, do it another way."
   ]
  },
  {
   "cell_type": "raw",
   "metadata": {},
   "source": [
    "SELECT e.EmployeeID, e.Title, e.FirstName, e.LastName, e.VacationHours, e.SickLeaveHours\n",
    "\tFROM dbo.Employees AS e\n",
    "\tWHERE e.VacationHours > 20 AND  e.VacationHours < 60\n",
    "\t;"
   ]
  },
  {
   "cell_type": "code",
   "execution_count": null,
   "metadata": {
    "scrolled": true
   },
   "outputs": [],
   "source": [
    "Employees.loc[Employees.VacationHours.between(20, 60, inclusive=False)\n",
    "              , ['EmployeeID', 'FirstName', 'LastName', 'VacationHours', 'SickLeaveHours']]"
   ]
  },
  {
   "cell_type": "markdown",
   "metadata": {},
   "source": [
    "# Grouping"
   ]
  },
  {
   "cell_type": "markdown",
   "metadata": {},
   "source": [
    "### 1a. What is the earliest birthdate for all employees?"
   ]
  },
  {
   "cell_type": "raw",
   "metadata": {},
   "source": [
    "SELECT MIN(e.BirthDate) FROM dbo.Employees AS e;"
   ]
  },
  {
   "cell_type": "code",
   "execution_count": null,
   "metadata": {},
   "outputs": [],
   "source": [
    "Employees.BirthDate.min()"
   ]
  },
  {
   "cell_type": "markdown",
   "metadata": {},
   "source": [
    "### 1b. Add to the above, the most recent birthdate for all employees"
   ]
  },
  {
   "cell_type": "raw",
   "metadata": {},
   "source": [
    "SELECT MIN(e.BirthDate) AS 'Earliest Birthday', MAX(e.BirthDate) AS 'Most Reecent Birthday'\n",
    "\tFROM dbo.Employees AS e;"
   ]
  },
  {
   "cell_type": "code",
   "execution_count": null,
   "metadata": {},
   "outputs": [],
   "source": [
    "(Employees.BirthDate.min(), Employees.BirthDate.max())"
   ]
  },
  {
   "cell_type": "markdown",
   "metadata": {},
   "source": [
    "### 1c. Show the above results broken down by gender"
   ]
  },
  {
   "cell_type": "raw",
   "metadata": {},
   "source": [
    "SELECT e.Gender, MIN(e.BirthDate) AS 'Earliest Birthday', MAX(e.BirthDate) AS 'Most Reecent Birthday'\n",
    "\tFROM dbo.Employees AS e\n",
    "\tGROUP BY e.Gender\n",
    "\t;"
   ]
  },
  {
   "cell_type": "code",
   "execution_count": 6,
   "metadata": {},
   "outputs": [
    {
     "data": {
      "text/plain": [
       "array(['M', 'F'], dtype=object)"
      ]
     },
     "execution_count": 6,
     "metadata": {},
     "output_type": "execute_result"
    }
   ],
   "source": [
    "groups = Employees.Gender.unique()\n",
    "groups"
   ]
  },
  {
   "cell_type": "code",
   "execution_count": 5,
   "metadata": {},
   "outputs": [
    {
     "data": {
      "text/html": [
       "<div>\n",
       "<style scoped>\n",
       "    .dataframe tbody tr th:only-of-type {\n",
       "        vertical-align: middle;\n",
       "    }\n",
       "\n",
       "    .dataframe tbody tr th {\n",
       "        vertical-align: top;\n",
       "    }\n",
       "\n",
       "    .dataframe thead th {\n",
       "        text-align: right;\n",
       "    }\n",
       "</style>\n",
       "<table border=\"1\" class=\"dataframe\">\n",
       "  <thead>\n",
       "    <tr style=\"text-align: right;\">\n",
       "      <th></th>\n",
       "      <th>min</th>\n",
       "      <th>max</th>\n",
       "    </tr>\n",
       "    <tr>\n",
       "      <th>Gender</th>\n",
       "      <th></th>\n",
       "      <th></th>\n",
       "    </tr>\n",
       "  </thead>\n",
       "  <tbody>\n",
       "    <tr>\n",
       "      <th>F</th>\n",
       "      <td>1946-10-29</td>\n",
       "      <td>1985-07-01</td>\n",
       "    </tr>\n",
       "    <tr>\n",
       "      <th>M</th>\n",
       "      <td>1945-11-17</td>\n",
       "      <td>1985-05-07</td>\n",
       "    </tr>\n",
       "  </tbody>\n",
       "</table>\n",
       "</div>"
      ],
      "text/plain": [
       "               min         max\n",
       "Gender                        \n",
       "F       1946-10-29  1985-07-01\n",
       "M       1945-11-17  1985-05-07"
      ]
     },
     "execution_count": 5,
     "metadata": {},
     "output_type": "execute_result"
    }
   ],
   "source": [
    "Employees.groupby(by=['Gender']).BirthDate.aggregate([min, max])"
   ]
  },
  {
   "cell_type": "markdown",
   "metadata": {},
   "source": [
    "### 1d. Show the above results broken down by gender, and salaried/hourly"
   ]
  },
  {
   "cell_type": "raw",
   "metadata": {},
   "source": [
    "SELECT e.Gender, e.SalariedFlag, MIN(e.BirthDate) AS 'Earliest Birthday', MAX(e.BirthDate) AS 'Most Reecent Birthday'\n",
    "\tFROM dbo.Employees AS e\n",
    "\tGROUP BY e.Gender, e.SalariedFlag\n",
    "\t;"
   ]
  },
  {
   "cell_type": "code",
   "execution_count": null,
   "metadata": {},
   "outputs": [],
   "source": [
    "Employees.groupby(by=['Gender', 'SalariedFlag']).BirthDate.aggregate([min, max])"
   ]
  },
  {
   "cell_type": "markdown",
   "metadata": {},
   "source": [
    "### 2a. What are the average vacation hours for all employees?"
   ]
  },
  {
   "cell_type": "raw",
   "metadata": {},
   "source": [
    "SELECT AVG(e.VacationHours)\n",
    "\tFROM dbo.Employees AS e\t\n",
    "\t;"
   ]
  },
  {
   "cell_type": "code",
   "execution_count": null,
   "metadata": {},
   "outputs": [],
   "source": [
    "Employees.VacationHours.mean()"
   ]
  },
  {
   "cell_type": "markdown",
   "metadata": {},
   "source": [
    "### 2b. Add to the above, the minimum vacation hours for all employees"
   ]
  },
  {
   "cell_type": "raw",
   "metadata": {},
   "source": [
    "SELECT AVG(e.VacationHours) AS 'Average Vacation', MIN(e.VacationHours) AS 'Minumum Vacation'\n",
    "\tFROM dbo.Employees AS e\t\n",
    "\t;"
   ]
  },
  {
   "cell_type": "code",
   "execution_count": null,
   "metadata": {},
   "outputs": [],
   "source": [
    "(Employees.VacationHours.mean(), Employees.VacationHours.min())"
   ]
  },
  {
   "cell_type": "markdown",
   "metadata": {},
   "source": [
    "### 2c. Show the above results broken down and ordered by job title"
   ]
  },
  {
   "cell_type": "raw",
   "metadata": {},
   "source": [
    "SELECT e.JobTitle, AVG(e.VacationHours) AS 'Average Vacation', MIN(e.VacationHours) AS 'Minimum Vacation'\n",
    "\tFROM dbo.Employees AS e\n",
    "\tGROUP BY e.JobTitle\n",
    "\t;"
   ]
  },
  {
   "cell_type": "code",
   "execution_count": null,
   "metadata": {},
   "outputs": [],
   "source": [
    "Employees.groupby(by=['JobTitle']).VacationHours.aggregate([np.mean, np.min])"
   ]
  },
  {
   "cell_type": "markdown",
   "metadata": {},
   "source": [
    "### 2d. Show the above results broken down by job title, and married/single employees"
   ]
  },
  {
   "cell_type": "raw",
   "metadata": {},
   "source": [
    "SELECT e.JobTitle, e.MaritalStatus, AVG(e.VacationHours) AS 'Average Vacation', MIN(e.VacationHours) AS 'Minimum Vacation'\n",
    "\tFROM dbo.Employees AS e\n",
    "\tGROUP BY e.JobTitle, e.MaritalStatus\n",
    "\t;"
   ]
  },
  {
   "cell_type": "code",
   "execution_count": null,
   "metadata": {},
   "outputs": [],
   "source": [
    "Employees.groupby(by=['JobTitle', 'MaritalStatus']).VacationHours.aggregate([np.mean, np.min])"
   ]
  },
  {
   "cell_type": "markdown",
   "metadata": {},
   "source": [
    "### 2e. Add to the above, the maximum vacation hours per group"
   ]
  },
  {
   "cell_type": "raw",
   "metadata": {},
   "source": [
    "SELECT e.JobTitle, e.MaritalStatus\n",
    "\t\t, AVG(e.VacationHours) AS 'Average Vacation'\n",
    "\t\t, MIN(e.VacationHours) AS 'Minimum Vacation'\n",
    "\t\t, MAX(e.VacationHours) AS 'Maximum Vacation'\n",
    "\tFROM dbo.Employees AS e\n",
    "\tGROUP BY e.JobTitle, e.MaritalStatus\n",
    "\t;"
   ]
  },
  {
   "cell_type": "code",
   "execution_count": null,
   "metadata": {},
   "outputs": [],
   "source": [
    "Employees.groupby(by=['JobTitle', 'MaritalStatus']).VacationHours.aggregate([np.mean, np.min, np.max])"
   ]
  },
  {
   "cell_type": "markdown",
   "metadata": {},
   "source": [
    "### 2f. Show the above results broken down by job title, married/single employees, and State"
   ]
  },
  {
   "cell_type": "raw",
   "metadata": {},
   "source": [
    "SELECT e.JobTitle, e.MaritalStatus, e.StateProvinceName\n",
    "\t\t, AVG(e.VacationHours) AS 'Average Vacation'\n",
    "\t\t, MIN(e.VacationHours) AS 'Minimum Vacation'\n",
    "\t\t, MAX(e.VacationHours) AS 'Maximum Vacation'\n",
    "\tFROM dbo.Employees AS e\n",
    "\tGROUP BY e.JobTitle, e.MaritalStatus, e.StateProvinceName\n",
    "\t;"
   ]
  },
  {
   "cell_type": "code",
   "execution_count": null,
   "metadata": {
    "scrolled": true
   },
   "outputs": [],
   "source": [
    "Employees.groupby(by=['JobTitle', 'MaritalStatus', 'StateProvinceName']).VacationHours.aggregate([np.mean, np.min, np.max])"
   ]
  },
  {
   "cell_type": "markdown",
   "metadata": {},
   "source": [
    "### 2g. Show the above results but only for American employees"
   ]
  },
  {
   "cell_type": "raw",
   "metadata": {},
   "source": [
    "SELECT e.JobTitle, e.MaritalStatus, e.StateProvinceName\n",
    "\t\t, AVG(e.VacationHours) AS 'Average Vacation'\n",
    "\t\t, MIN(e.VacationHours) AS 'Minimum Vacation'\n",
    "\t\t, MAX(e.VacationHours) AS 'Maximum Vacation'\n",
    "\tFROM dbo.Employees AS e\n",
    "\tWHERE e.CountryName = 'United States'\n",
    "\tGROUP BY e.JobTitle, e.MaritalStatus, e.StateProvinceName\n",
    "\t;"
   ]
  },
  {
   "cell_type": "code",
   "execution_count": null,
   "metadata": {
    "scrolled": true
   },
   "outputs": [],
   "source": [
    "Employees[Employees.CountryName=='United States'] \\\n",
    ".groupby(by=['JobTitle', 'MaritalStatus', 'StateProvinceName']).VacationHours.aggregate([np.mean, np.min, np.max])"
   ]
  },
  {
   "cell_type": "markdown",
   "metadata": {},
   "source": [
    "### 2h. Change the grouping above so it's broken down by married/single and State, no more job title"
   ]
  },
  {
   "cell_type": "raw",
   "metadata": {},
   "source": [
    "SELECT e.MaritalStatus, e.StateProvinceName\n",
    "\t\t, AVG(e.VacationHours) AS 'Average Vacation'\n",
    "\t\t, MIN(e.VacationHours) AS 'Minimum Vacation'\n",
    "\t\t, MAX(e.VacationHours) AS 'Maximum Vacation'\n",
    "\tFROM dbo.Employees AS e\n",
    "\tWHERE e.CountryName = 'United States'\n",
    "\tGROUP BY e.MaritalStatus, e.StateProvinceName\n",
    "\t;"
   ]
  },
  {
   "cell_type": "code",
   "execution_count": null,
   "metadata": {},
   "outputs": [],
   "source": [
    "Employees[Employees.CountryName=='United States'] \\\n",
    ".groupby(by=['MaritalStatus', 'StateProvinceName']).VacationHours.aggregate([np.mean, np.min, np.max])"
   ]
  },
  {
   "cell_type": "markdown",
   "metadata": {},
   "source": [
    "### 2i. Limit the results above to States where the average vacation hours is greater than 30"
   ]
  },
  {
   "cell_type": "raw",
   "metadata": {},
   "source": [
    "SELECT e.MaritalStatus, e.StateProvinceName\n",
    "\t\t, AVG(e.VacationHours) AS 'Average Vacation'\n",
    "\t\t, MIN(e.VacationHours) AS 'Minimum Vacation'\n",
    "\t\t, MAX(e.VacationHours) AS 'Maximum Vacation'\n",
    "\tFROM dbo.Employees AS e\n",
    "\tWHERE e.CountryName = 'United States'\n",
    "\tGROUP BY e.MaritalStatus, e.StateProvinceName\n",
    "\tHAVING AVG(e.VacationHours) > 30\n",
    "\t;"
   ]
  },
  {
   "cell_type": "raw",
   "metadata": {},
   "source": [
    "SELECT e.StateProvinceName\n",
    "\t\t, AVG(e.VacationHours) AS 'Average Vacation'\n",
    "\t\t, MIN(e.VacationHours) AS 'Minimum Vacation'\n",
    "\t\t, MAX(e.VacationHours) AS 'Maximum Vacation'\n",
    "\tFROM dbo.Employees AS e\n",
    "\tWHERE e.CountryName = 'United States'\n",
    "\tGROUP BY e.StateProvinceName\n",
    "\tHAVING AVG(e.VacationHours) > 30\n",
    "\t;"
   ]
  },
  {
   "cell_type": "code",
   "execution_count": null,
   "metadata": {
    "scrolled": true
   },
   "outputs": [],
   "source": [
    "Employees[Employees.CountryName=='United States'] \\\n",
    ".groupby(by=['StateProvinceName']).filter(lambda x: x.VacationHours.mean()>30) \\\n",
    ".groupby(by=['StateProvinceName']).VacationHours.aggregate([np.mean, np.min, np.max])"
   ]
  },
  {
   "cell_type": "markdown",
   "metadata": {},
   "source": [
    "### 2j. Limit the results above to States where the average vacation hours is greater than 30 and the maximum vacation hours is less than 50"
   ]
  },
  {
   "cell_type": "raw",
   "metadata": {},
   "source": [
    "SELECT e.StateProvinceName\n",
    "\t\t, AVG(e.VacationHours) AS 'Average Vacation'\n",
    "\t\t, MIN(e.VacationHours) AS 'Minimum Vacation'\n",
    "\t\t, MAX(e.VacationHours) AS 'Maximum Vacation'\n",
    "\tFROM dbo.Employees AS e\n",
    "\tWHERE e.CountryName = 'United States'\n",
    "\tGROUP BY e.StateProvinceName\n",
    "\tHAVING AVG(e.VacationHours) >30 AND 49 MAX((e.VacationHours) < 50)\n",
    "\t;"
   ]
  },
  {
   "cell_type": "code",
   "execution_count": 18,
   "metadata": {},
   "outputs": [
    {
     "data": {
      "text/html": [
       "<div>\n",
       "<style scoped>\n",
       "    .dataframe tbody tr th:only-of-type {\n",
       "        vertical-align: middle;\n",
       "    }\n",
       "\n",
       "    .dataframe tbody tr th {\n",
       "        vertical-align: top;\n",
       "    }\n",
       "\n",
       "    .dataframe thead th {\n",
       "        text-align: right;\n",
       "    }\n",
       "</style>\n",
       "<table border=\"1\" class=\"dataframe\">\n",
       "  <thead>\n",
       "    <tr style=\"text-align: right;\">\n",
       "      <th></th>\n",
       "      <th>mean</th>\n",
       "      <th>amin</th>\n",
       "      <th>amax</th>\n",
       "    </tr>\n",
       "    <tr>\n",
       "      <th>StateProvinceName</th>\n",
       "      <th></th>\n",
       "      <th></th>\n",
       "      <th></th>\n",
       "    </tr>\n",
       "  </thead>\n",
       "  <tbody>\n",
       "    <tr>\n",
       "      <th>Massachusetts</th>\n",
       "      <td>39</td>\n",
       "      <td>39</td>\n",
       "      <td>39</td>\n",
       "    </tr>\n",
       "    <tr>\n",
       "      <th>Michigan</th>\n",
       "      <td>38</td>\n",
       "      <td>38</td>\n",
       "      <td>38</td>\n",
       "    </tr>\n",
       "    <tr>\n",
       "      <th>Minnesota</th>\n",
       "      <td>36</td>\n",
       "      <td>24</td>\n",
       "      <td>48</td>\n",
       "    </tr>\n",
       "  </tbody>\n",
       "</table>\n",
       "</div>"
      ],
      "text/plain": [
       "                   mean  amin  amax\n",
       "StateProvinceName                  \n",
       "Massachusetts        39    39    39\n",
       "Michigan             38    38    38\n",
       "Minnesota            36    24    48"
      ]
     },
     "execution_count": 18,
     "metadata": {},
     "output_type": "execute_result"
    }
   ],
   "source": [
    "Employees[Employees.CountryName=='United States'] \\\n",
    ".groupby(by=['StateProvinceName']).filter(lambda x: (x.VacationHours.mean() >30) and (x.VacationHours.max()<50)) \\\n",
    ".groupby(by=['StateProvinceName']).VacationHours.aggregate([np.mean, np.min, np.max])"
   ]
  },
  {
   "cell_type": "code",
   "execution_count": 24,
   "metadata": {},
   "outputs": [
    {
     "data": {
      "text/html": [
       "<div>\n",
       "<style scoped>\n",
       "    .dataframe tbody tr th:only-of-type {\n",
       "        vertical-align: middle;\n",
       "    }\n",
       "\n",
       "    .dataframe tbody tr th {\n",
       "        vertical-align: top;\n",
       "    }\n",
       "\n",
       "    .dataframe thead th {\n",
       "        text-align: right;\n",
       "    }\n",
       "</style>\n",
       "<table border=\"1\" class=\"dataframe\">\n",
       "  <thead>\n",
       "    <tr style=\"text-align: right;\">\n",
       "      <th></th>\n",
       "      <th>mean</th>\n",
       "      <th>amin</th>\n",
       "      <th>amax</th>\n",
       "    </tr>\n",
       "    <tr>\n",
       "      <th>StateProvinceName</th>\n",
       "      <th></th>\n",
       "      <th></th>\n",
       "      <th></th>\n",
       "    </tr>\n",
       "  </thead>\n",
       "  <tbody>\n",
       "    <tr>\n",
       "      <th>Massachusetts</th>\n",
       "      <td>39.0</td>\n",
       "      <td>39</td>\n",
       "      <td>39</td>\n",
       "    </tr>\n",
       "    <tr>\n",
       "      <th>Michigan</th>\n",
       "      <td>38.0</td>\n",
       "      <td>38</td>\n",
       "      <td>38</td>\n",
       "    </tr>\n",
       "    <tr>\n",
       "      <th>Minnesota</th>\n",
       "      <td>36.0</td>\n",
       "      <td>24</td>\n",
       "      <td>48</td>\n",
       "    </tr>\n",
       "  </tbody>\n",
       "</table>\n",
       "</div>"
      ],
      "text/plain": [
       "                   mean  amin  amax\n",
       "StateProvinceName                  \n",
       "Massachusetts      39.0    39    39\n",
       "Michigan           38.0    38    38\n",
       "Minnesota          36.0    24    48"
      ]
     },
     "execution_count": 24,
     "metadata": {},
     "output_type": "execute_result"
    }
   ],
   "source": [
    "df = Employees[Employees.CountryName=='United States'].groupby(by=['StateProvinceName']).VacationHours.aggregate([np.mean, np.min, np.max])\n",
    "# df\n",
    "\n",
    "df[(df['mean'] > 30) & (df['amax'] < 50) ]"
   ]
  },
  {
   "cell_type": "markdown",
   "metadata": {},
   "source": [
    "### 2k. Show the same results but only for non-American employees"
   ]
  },
  {
   "cell_type": "raw",
   "metadata": {},
   "source": [
    "SELECT e.StateProvinceName\n",
    "\t\t, AVG(e.VacationHours) AS 'Average Vacation'\n",
    "\t\t, MIN(e.VacationHours) AS 'Minimum Vacation'\n",
    "\t\t, MAX(e.VacationHours) AS 'Maximum Vacation'\n",
    "\tFROM dbo.Employees AS e\n",
    "\tWHERE e.CountryName != 'United States'\n",
    "\tGROUP BY e.StateProvinceName\n",
    "\tHAVING AVG(e.VacationHours) BETWEEN 31 AND 49\n",
    "\t;"
   ]
  },
  {
   "cell_type": "code",
   "execution_count": null,
   "metadata": {},
   "outputs": [],
   "source": [
    "Employees[Employees.CountryName!='United States'] \\\n",
    ".groupby(by=['StateProvinceName']).filter(lambda x: (x.VacationHours.mean() >30) and (x.VacationHours.max()<50)) \\\n",
    ".groupby(by=['StateProvinceName']).VacationHours.aggregate([np.mean, np.min, np.max])"
   ]
  },
  {
   "cell_type": "markdown",
   "metadata": {},
   "source": [
    "### 3a. Report how many employees are in the company"
   ]
  },
  {
   "cell_type": "raw",
   "metadata": {},
   "source": [
    "SELECT COUNT(1) FROM dbo.Employees;"
   ]
  },
  {
   "cell_type": "code",
   "execution_count": null,
   "metadata": {},
   "outputs": [],
   "source": [
    "Employees.shape[0]"
   ]
  },
  {
   "cell_type": "markdown",
   "metadata": {},
   "source": [
    "### 3b. For the above report, show the number of employees per manager (hint: use ManagerID)"
   ]
  },
  {
   "cell_type": "raw",
   "metadata": {},
   "source": [
    "SELECT e.ManagerID, COUNT(1) AS 'NumEmployees'\n",
    "\tFROM dbo.Employees AS e\n",
    "\tGROUP BY e.ManagerID\n",
    "\t;"
   ]
  },
  {
   "cell_type": "code",
   "execution_count": null,
   "metadata": {},
   "outputs": [],
   "source": [
    "Employees.groupby(by=['ManagerID']).EmployeeID.aggregate(lambda x: x.shape[0])"
   ]
  },
  {
   "cell_type": "markdown",
   "metadata": {},
   "source": [
    "### 3c. Remove any manager ID's that are NULL from the results above"
   ]
  },
  {
   "cell_type": "raw",
   "metadata": {},
   "source": [
    "SELECT e.ManagerID, COUNT(1) AS 'NumEmployees'\n",
    "\tFROM dbo.Employees AS e\n",
    "\tWHERE e.ManagerID IS NOT NULL\n",
    "\tGROUP BY e.ManagerID\n",
    "\t;"
   ]
  },
  {
   "cell_type": "code",
   "execution_count": null,
   "metadata": {
    "scrolled": true
   },
   "outputs": [],
   "source": [
    "Employees.loc[pd.isnull(Employees.EmployeeID)==False] \\\n",
    ".groupby(by=['ManagerID']).EmployeeID.aggregate(lambda x: x.shape[0])"
   ]
  },
  {
   "cell_type": "markdown",
   "metadata": {},
   "source": [
    "### 3d. Show the same results as above, but only for managers who have at least 5 employees"
   ]
  },
  {
   "cell_type": "raw",
   "metadata": {},
   "source": [
    "SELECT e.ManagerID, COUNT(1) AS 'NumEmployees'\n",
    "\tFROM dbo.Employees AS e\n",
    "\tWHERE e.ManagerID IS NOT NULL\n",
    "\tGROUP BY e.ManagerID\n",
    "\tHAVING COUNT(1) >= 5\n",
    "\t;"
   ]
  },
  {
   "cell_type": "code",
   "execution_count": null,
   "metadata": {},
   "outputs": [],
   "source": [
    "Employees.loc[pd.isnull(Employees.EmployeeID)==False] \\\n",
    ".groupby(by=['ManagerID']).filter(lambda x: x.shape[0]>=5) \\\n",
    ".groupby(by=['ManagerID']).EmployeeID.aggregate(lambda x: x.shape[0])"
   ]
  },
  {
   "cell_type": "markdown",
   "metadata": {},
   "source": [
    "### 4a. List the average vacation hours of all employees"
   ]
  },
  {
   "cell_type": "raw",
   "metadata": {},
   "source": [
    "SELECT AVG(e.VacationHours)\n",
    "\tFROM dbo.Employees AS e\n",
    "\t;"
   ]
  },
  {
   "cell_type": "code",
   "execution_count": null,
   "metadata": {},
   "outputs": [],
   "source": [
    "Employees.VacationHours.mean()"
   ]
  },
  {
   "cell_type": "markdown",
   "metadata": {},
   "source": [
    "### 4b. Break down the results by State"
   ]
  },
  {
   "cell_type": "raw",
   "metadata": {},
   "source": [
    "SELECT e.StateProvinceName, AVG(e.VacationHours) AS 'Average Vacation Hours'\n",
    "\tFROM dbo.Employees AS e\n",
    "\tGROUP BY e.StateProvinceName\n",
    "\t;"
   ]
  },
  {
   "cell_type": "code",
   "execution_count": null,
   "metadata": {},
   "outputs": [],
   "source": [
    "Employees.groupby(by=['StateProvinceName']).VacationHours.mean()"
   ]
  },
  {
   "cell_type": "markdown",
   "metadata": {},
   "source": [
    "### 4c. Break down the results by city and State"
   ]
  },
  {
   "cell_type": "raw",
   "metadata": {},
   "source": [
    "SELECT e.StateProvinceName, e.City, AVG(e.VacationHours) AS 'Average Vacation Hours'\n",
    "\tFROM dbo.Employees AS e\n",
    "\tGROUP BY e.StateProvinceName, e.City\n",
    "\t;"
   ]
  },
  {
   "cell_type": "code",
   "execution_count": null,
   "metadata": {},
   "outputs": [],
   "source": [
    "Employees.groupby(by=['StateProvinceName', 'City']).VacationHours.mean()"
   ]
  },
  {
   "cell_type": "markdown",
   "metadata": {},
   "source": [
    "### 4d. Add something that shows the number of employees per city"
   ]
  },
  {
   "cell_type": "raw",
   "metadata": {},
   "source": [
    "SELECT e.StateProvinceName, e.City\n",
    "\t, AVG(e.VacationHours) AS 'Average Vacation Hours'\n",
    "\t, COUNT(1) AS 'NumEmployees'\n",
    "\tFROM dbo.Employees AS e\n",
    "\tGROUP BY e.StateProvinceName, e.City\n",
    "\t;"
   ]
  },
  {
   "cell_type": "code",
   "execution_count": null,
   "metadata": {
    "scrolled": true
   },
   "outputs": [],
   "source": [
    "aggregations = {\n",
    "    'VacationHours' : {\n",
    "        'AverageVacationHours' : 'mean'\n",
    "    },\n",
    "    'EmployeeID' : {\n",
    "        'NumEmployees' : 'count'\n",
    "    }\n",
    "}\n",
    "Employees.groupby(by=['StateProvinceName', 'City'])\\\n",
    ".aggregate(aggregations)"
   ]
  },
  {
   "cell_type": "markdown",
   "metadata": {},
   "source": [
    "### 4e. Sort the results by the city and state"
   ]
  },
  {
   "cell_type": "raw",
   "metadata": {},
   "source": [
    "SELECT e.StateProvinceName, e.City\n",
    "\t, AVG(e.VacationHours) AS 'Average Vacation Hours'\n",
    "\t, COUNT(1) AS 'NumEmployees'\n",
    "\tFROM dbo.Employees AS e\n",
    "\tGROUP BY e.StateProvinceName, e.City\n",
    "\tORDER BY e.StateProvinceName, e.City\n",
    "\t;"
   ]
  },
  {
   "cell_type": "code",
   "execution_count": null,
   "metadata": {
    "collapsed": true
   },
   "outputs": [],
   "source": [
    "### Since Pandas already sorts the results, we show here how show resutls in DESCENDING order\n",
    "aggregations = {\n",
    "    'VacationHours' : {\n",
    "        'AverageVacationHours' : 'mean'\n",
    "    },\n",
    "    'EmployeeID' : {\n",
    "        'NumEmployees' : 'count'\n",
    "    }\n",
    "}\n",
    "Employees.groupby(by=['StateProvinceName', 'City']).aggregate(aggregations) \\\n",
    ".sort_index(ascending=False, axis=0)"
   ]
  },
  {
   "cell_type": "code",
   "execution_count": null,
   "metadata": {
    "collapsed": true
   },
   "outputs": [],
   "source": [
    "## This adds the row indices back as columns\n",
    "df = Employees.groupby(by=['StateProvinceName', 'City']).aggregate(aggregations) \\\n",
    ".sort_index(ascending=False, axis=0)\n",
    "\n",
    "df['SPN'] = df.index.get_level_values(0)\n",
    "df['C'] = df.index.get_level_values(1)"
   ]
  },
  {
   "cell_type": "markdown",
   "metadata": {},
   "source": [
    "### 4f. Make city and State a single column in the format of \"City, State\""
   ]
  },
  {
   "cell_type": "raw",
   "metadata": {},
   "source": [
    "SELECT CONCAT(e.StateProvinceName, ', ', e.City) AS 'Location'\n",
    "\t, AVG(e.VacationHours) AS 'Average Vacation Hours'\n",
    "\t, COUNT(1) AS 'NumEmployees'\n",
    "\tFROM dbo.Employees AS e\n",
    "\tGROUP BY e.StateProvinceName, e.City\n",
    "\tORDER BY e.StateProvinceName, e.City\n",
    "\t;"
   ]
  },
  {
   "cell_type": "code",
   "execution_count": null,
   "metadata": {
    "scrolled": true
   },
   "outputs": [],
   "source": [
    "# Version 1: first create new column 'CityState' ... rest is easy\n",
    "aggregations = {\n",
    "    'VacationHours' : {\n",
    "        'AverageVacationHours' : 'mean'\n",
    "    },\n",
    "    'EmployeeID' : {\n",
    "        'NumEmployees' : 'count'\n",
    "    },\n",
    "}\n",
    "\n",
    "df = Employees.copy()\n",
    "df['CityState'] = Employees.City.str.cat(Employees.StateProvinceName, sep=', ')\n",
    "df.groupby(by = 'CityState').aggregate(aggregations).sort_index(ascending=False, axis=0)"
   ]
  },
  {
   "cell_type": "code",
   "execution_count": null,
   "metadata": {
    "scrolled": true
   },
   "outputs": [],
   "source": [
    "# Version 2: using the multi-indexed result and adding index values as new column 'CityState'\n",
    "aggregations = {\n",
    "    'VacationHours' : {\n",
    "        'AverageVacationHours' : 'mean'\n",
    "    },\n",
    "    'EmployeeID' : {\n",
    "        'NumEmployees' : 'count'\n",
    "    },\n",
    "}\n",
    "\n",
    "df = Employees.groupby(by=['StateProvinceName', 'City']).aggregate(aggregations) \\\n",
    ".sort_index(ascending=False, axis=0)\n",
    "df['CityState'] = [\n",
    "    r.City+', '+r.State \\\n",
    "        for i, r in pd.DataFrame({\n",
    "            'City': df.index.get_level_values(1),\n",
    "            'State': df.index.get_level_values(0)\n",
    "            }).iterrows()\n",
    "    ]\n",
    "df"
   ]
  },
  {
   "cell_type": "markdown",
   "metadata": {},
   "source": [
    "### 4g. Add a column that shows the difference between the maximum vacation hours and minimum vacation hours for each city"
   ]
  },
  {
   "cell_type": "raw",
   "metadata": {},
   "source": [
    "SELECT CONCAT(e.StateProvinceName, ', ', e.City) AS 'Location'\n",
    "\t, AVG(e.VacationHours) AS 'Average Vacation Hours'\n",
    "\t, COUNT(1) AS 'NumEmployees'\n",
    "\t, MAX(e.VacationHours)-MIN(e.VacationHours) AS 'Difference Vacation Hours'\n",
    "\tFROM dbo.Employees AS e\n",
    "\tGROUP BY e.StateProvinceName, e.City\n",
    "\tORDER BY e.StateProvinceName, e.City\n",
    "\t;"
   ]
  },
  {
   "cell_type": "code",
   "execution_count": 25,
   "metadata": {},
   "outputs": [
    {
     "name": "stderr",
     "output_type": "stream",
     "text": [
      "/Users/mxz0434/anaconda3/lib/python3.6/site-packages/pandas/core/groupby/groupby.py:4658: FutureWarning: using a dict with renaming is deprecated and will be removed in a future version\n",
      "  return super(DataFrameGroupBy, self).aggregate(arg, *args, **kwargs)\n"
     ]
    },
    {
     "data": {
      "text/html": [
       "<div>\n",
       "<style scoped>\n",
       "    .dataframe tbody tr th:only-of-type {\n",
       "        vertical-align: middle;\n",
       "    }\n",
       "\n",
       "    .dataframe tbody tr th {\n",
       "        vertical-align: top;\n",
       "    }\n",
       "\n",
       "    .dataframe thead tr th {\n",
       "        text-align: left;\n",
       "    }\n",
       "\n",
       "    .dataframe thead tr:last-of-type th {\n",
       "        text-align: right;\n",
       "    }\n",
       "</style>\n",
       "<table border=\"1\" class=\"dataframe\">\n",
       "  <thead>\n",
       "    <tr>\n",
       "      <th></th>\n",
       "      <th></th>\n",
       "      <th colspan=\"4\" halign=\"left\">VacationHours</th>\n",
       "      <th>EmployeeID</th>\n",
       "    </tr>\n",
       "    <tr>\n",
       "      <th></th>\n",
       "      <th></th>\n",
       "      <th>AverageVacationHours</th>\n",
       "      <th>MinVacationHours</th>\n",
       "      <th>MaxVacationHours</th>\n",
       "      <th>DeltaVacationHoues</th>\n",
       "      <th>NumEmployees</th>\n",
       "    </tr>\n",
       "    <tr>\n",
       "      <th>StateProvinceName</th>\n",
       "      <th>City</th>\n",
       "      <th></th>\n",
       "      <th></th>\n",
       "      <th></th>\n",
       "      <th></th>\n",
       "      <th></th>\n",
       "    </tr>\n",
       "  </thead>\n",
       "  <tbody>\n",
       "    <tr>\n",
       "      <th rowspan=\"10\" valign=\"top\">Washington</th>\n",
       "      <th>Snohomish</th>\n",
       "      <td>52.800000</td>\n",
       "      <td>10</td>\n",
       "      <td>95</td>\n",
       "      <td>85</td>\n",
       "      <td>10</td>\n",
       "    </tr>\n",
       "    <tr>\n",
       "      <th>Seattle</th>\n",
       "      <td>54.659091</td>\n",
       "      <td>6</td>\n",
       "      <td>95</td>\n",
       "      <td>89</td>\n",
       "      <td>44</td>\n",
       "    </tr>\n",
       "    <tr>\n",
       "      <th>Sammamish</th>\n",
       "      <td>42.823529</td>\n",
       "      <td>0</td>\n",
       "      <td>93</td>\n",
       "      <td>93</td>\n",
       "      <td>17</td>\n",
       "    </tr>\n",
       "    <tr>\n",
       "      <th>Renton</th>\n",
       "      <td>54.176471</td>\n",
       "      <td>0</td>\n",
       "      <td>97</td>\n",
       "      <td>97</td>\n",
       "      <td>17</td>\n",
       "    </tr>\n",
       "    <tr>\n",
       "      <th>Redmond</th>\n",
       "      <td>37.428571</td>\n",
       "      <td>2</td>\n",
       "      <td>94</td>\n",
       "      <td>92</td>\n",
       "      <td>21</td>\n",
       "    </tr>\n",
       "    <tr>\n",
       "      <th>Newport Hills</th>\n",
       "      <td>62.833333</td>\n",
       "      <td>44</td>\n",
       "      <td>99</td>\n",
       "      <td>55</td>\n",
       "      <td>6</td>\n",
       "    </tr>\n",
       "    <tr>\n",
       "      <th>Monroe</th>\n",
       "      <td>47.916667</td>\n",
       "      <td>14</td>\n",
       "      <td>85</td>\n",
       "      <td>71</td>\n",
       "      <td>12</td>\n",
       "    </tr>\n",
       "    <tr>\n",
       "      <th>Kent</th>\n",
       "      <td>5.000000</td>\n",
       "      <td>5</td>\n",
       "      <td>5</td>\n",
       "      <td>0</td>\n",
       "      <td>1</td>\n",
       "    </tr>\n",
       "    <tr>\n",
       "      <th>Kenmore</th>\n",
       "      <td>53.916667</td>\n",
       "      <td>7</td>\n",
       "      <td>97</td>\n",
       "      <td>90</td>\n",
       "      <td>12</td>\n",
       "    </tr>\n",
       "    <tr>\n",
       "      <th>Issaquah</th>\n",
       "      <td>67.666667</td>\n",
       "      <td>10</td>\n",
       "      <td>83</td>\n",
       "      <td>73</td>\n",
       "      <td>15</td>\n",
       "    </tr>\n",
       "    <tr>\n",
       "      <th>...</th>\n",
       "      <th>...</th>\n",
       "      <td>...</td>\n",
       "      <td>...</td>\n",
       "      <td>...</td>\n",
       "      <td>...</td>\n",
       "      <td>...</td>\n",
       "    </tr>\n",
       "    <tr>\n",
       "      <th rowspan=\"2\" valign=\"top\">Minnesota</th>\n",
       "      <th>Minneapolis</th>\n",
       "      <td>48.000000</td>\n",
       "      <td>48</td>\n",
       "      <td>48</td>\n",
       "      <td>0</td>\n",
       "      <td>1</td>\n",
       "    </tr>\n",
       "    <tr>\n",
       "      <th>Duluth</th>\n",
       "      <td>24.000000</td>\n",
       "      <td>24</td>\n",
       "      <td>24</td>\n",
       "      <td>0</td>\n",
       "      <td>1</td>\n",
       "    </tr>\n",
       "    <tr>\n",
       "      <th>Michigan</th>\n",
       "      <th>Detroit</th>\n",
       "      <td>38.000000</td>\n",
       "      <td>38</td>\n",
       "      <td>38</td>\n",
       "      <td>0</td>\n",
       "      <td>1</td>\n",
       "    </tr>\n",
       "    <tr>\n",
       "      <th>Massachusetts</th>\n",
       "      <th>Cambridge</th>\n",
       "      <td>39.000000</td>\n",
       "      <td>39</td>\n",
       "      <td>39</td>\n",
       "      <td>0</td>\n",
       "      <td>1</td>\n",
       "    </tr>\n",
       "    <tr>\n",
       "      <th>Hamburg</th>\n",
       "      <th>Berlin</th>\n",
       "      <td>35.000000</td>\n",
       "      <td>35</td>\n",
       "      <td>35</td>\n",
       "      <td>0</td>\n",
       "      <td>1</td>\n",
       "    </tr>\n",
       "    <tr>\n",
       "      <th>Gironde</th>\n",
       "      <th>Bordeaux</th>\n",
       "      <td>34.000000</td>\n",
       "      <td>34</td>\n",
       "      <td>34</td>\n",
       "      <td>0</td>\n",
       "      <td>1</td>\n",
       "    </tr>\n",
       "    <tr>\n",
       "      <th>Georgia</th>\n",
       "      <th>Atlanta</th>\n",
       "      <td>55.000000</td>\n",
       "      <td>55</td>\n",
       "      <td>55</td>\n",
       "      <td>0</td>\n",
       "      <td>1</td>\n",
       "    </tr>\n",
       "    <tr>\n",
       "      <th>England</th>\n",
       "      <th>Cambridge</th>\n",
       "      <td>37.000000</td>\n",
       "      <td>37</td>\n",
       "      <td>37</td>\n",
       "      <td>0</td>\n",
       "      <td>1</td>\n",
       "    </tr>\n",
       "    <tr>\n",
       "      <th>California</th>\n",
       "      <th>San Francisco</th>\n",
       "      <td>21.000000</td>\n",
       "      <td>16</td>\n",
       "      <td>26</td>\n",
       "      <td>10</td>\n",
       "      <td>2</td>\n",
       "    </tr>\n",
       "    <tr>\n",
       "      <th>Alberta</th>\n",
       "      <th>Calgary</th>\n",
       "      <td>35.000000</td>\n",
       "      <td>9</td>\n",
       "      <td>62</td>\n",
       "      <td>53</td>\n",
       "      <td>5</td>\n",
       "    </tr>\n",
       "  </tbody>\n",
       "</table>\n",
       "<p>33 rows × 5 columns</p>\n",
       "</div>"
      ],
      "text/plain": [
       "                                       VacationHours                   \\\n",
       "                                AverageVacationHours MinVacationHours   \n",
       "StateProvinceName City                                                  \n",
       "Washington        Snohomish                52.800000               10   \n",
       "                  Seattle                  54.659091                6   \n",
       "                  Sammamish                42.823529                0   \n",
       "                  Renton                   54.176471                0   \n",
       "                  Redmond                  37.428571                2   \n",
       "                  Newport Hills            62.833333               44   \n",
       "                  Monroe                   47.916667               14   \n",
       "                  Kent                      5.000000                5   \n",
       "                  Kenmore                  53.916667                7   \n",
       "                  Issaquah                 67.666667               10   \n",
       "...                                              ...              ...   \n",
       "Minnesota         Minneapolis              48.000000               48   \n",
       "                  Duluth                   24.000000               24   \n",
       "Michigan          Detroit                  38.000000               38   \n",
       "Massachusetts     Cambridge                39.000000               39   \n",
       "Hamburg           Berlin                   35.000000               35   \n",
       "Gironde           Bordeaux                 34.000000               34   \n",
       "Georgia           Atlanta                  55.000000               55   \n",
       "England           Cambridge                37.000000               37   \n",
       "California        San Francisco            21.000000               16   \n",
       "Alberta           Calgary                  35.000000                9   \n",
       "\n",
       "                                                                     \\\n",
       "                                MaxVacationHours DeltaVacationHoues   \n",
       "StateProvinceName City                                                \n",
       "Washington        Snohomish                   95                 85   \n",
       "                  Seattle                     95                 89   \n",
       "                  Sammamish                   93                 93   \n",
       "                  Renton                      97                 97   \n",
       "                  Redmond                     94                 92   \n",
       "                  Newport Hills               99                 55   \n",
       "                  Monroe                      85                 71   \n",
       "                  Kent                         5                  0   \n",
       "                  Kenmore                     97                 90   \n",
       "                  Issaquah                    83                 73   \n",
       "...                                          ...                ...   \n",
       "Minnesota         Minneapolis                 48                  0   \n",
       "                  Duluth                      24                  0   \n",
       "Michigan          Detroit                     38                  0   \n",
       "Massachusetts     Cambridge                   39                  0   \n",
       "Hamburg           Berlin                      35                  0   \n",
       "Gironde           Bordeaux                    34                  0   \n",
       "Georgia           Atlanta                     55                  0   \n",
       "England           Cambridge                   37                  0   \n",
       "California        San Francisco               26                 10   \n",
       "Alberta           Calgary                     62                 53   \n",
       "\n",
       "                                  EmployeeID  \n",
       "                                NumEmployees  \n",
       "StateProvinceName City                        \n",
       "Washington        Snohomish               10  \n",
       "                  Seattle                 44  \n",
       "                  Sammamish               17  \n",
       "                  Renton                  17  \n",
       "                  Redmond                 21  \n",
       "                  Newport Hills            6  \n",
       "                  Monroe                  12  \n",
       "                  Kent                     1  \n",
       "                  Kenmore                 12  \n",
       "                  Issaquah                15  \n",
       "...                                      ...  \n",
       "Minnesota         Minneapolis              1  \n",
       "                  Duluth                   1  \n",
       "Michigan          Detroit                  1  \n",
       "Massachusetts     Cambridge                1  \n",
       "Hamburg           Berlin                   1  \n",
       "Gironde           Bordeaux                 1  \n",
       "Georgia           Atlanta                  1  \n",
       "England           Cambridge                1  \n",
       "California        San Francisco            2  \n",
       "Alberta           Calgary                  5  \n",
       "\n",
       "[33 rows x 5 columns]"
      ]
     },
     "execution_count": 25,
     "metadata": {},
     "output_type": "execute_result"
    }
   ],
   "source": [
    "aggregations = {\n",
    "    'VacationHours' : {\n",
    "        'AverageVacationHours' : 'mean',\n",
    "        'MinVacationHours' : min, \n",
    "        'MaxVacationHours' : max,\n",
    "        'DeltaVacationHoues' : lambda x: x.max()-x.min()\n",
    "    },\n",
    "    'EmployeeID' : {\n",
    "        'NumEmployees' : 'count'\n",
    "    },\n",
    "}\n",
    "\n",
    "Employees.groupby(by=['StateProvinceName', 'City']).aggregate(aggregations) \\\n",
    ".sort_index(ascending=False, axis=0)"
   ]
  },
  {
   "cell_type": "markdown",
   "metadata": {},
   "source": [
    "### 4h. Now sort the results by the new column created above"
   ]
  },
  {
   "cell_type": "raw",
   "metadata": {},
   "source": [
    "SELECT CONCAT(e.StateProvinceName, ', ', e.City) AS 'Location'\n",
    "\t, AVG(e.VacationHours) AS 'Average Vacation Hours'\n",
    "\t, COUNT(1) AS 'NumEmployees'\n",
    "\t, MAX(e.VacationHours)-MIN(e.VacationHours) AS 'Difference Vacation Hours'\n",
    "\tFROM dbo.Employees AS e\n",
    "\tGROUP BY e.StateProvinceName, e.City\n",
    "\tORDER BY 'Difference Vacation Hours' DESC\n",
    "\t;"
   ]
  },
  {
   "cell_type": "code",
   "execution_count": 26,
   "metadata": {},
   "outputs": [
    {
     "name": "stderr",
     "output_type": "stream",
     "text": [
      "/Users/mxz0434/anaconda3/lib/python3.6/site-packages/pandas/core/groupby/groupby.py:4658: FutureWarning: using a dict with renaming is deprecated and will be removed in a future version\n",
      "  return super(DataFrameGroupBy, self).aggregate(arg, *args, **kwargs)\n"
     ]
    },
    {
     "data": {
      "text/html": [
       "<div>\n",
       "<style scoped>\n",
       "    .dataframe tbody tr th:only-of-type {\n",
       "        vertical-align: middle;\n",
       "    }\n",
       "\n",
       "    .dataframe tbody tr th {\n",
       "        vertical-align: top;\n",
       "    }\n",
       "\n",
       "    .dataframe thead tr th {\n",
       "        text-align: left;\n",
       "    }\n",
       "\n",
       "    .dataframe thead tr:last-of-type th {\n",
       "        text-align: right;\n",
       "    }\n",
       "</style>\n",
       "<table border=\"1\" class=\"dataframe\">\n",
       "  <thead>\n",
       "    <tr>\n",
       "      <th></th>\n",
       "      <th></th>\n",
       "      <th colspan=\"4\" halign=\"left\">VacationHours</th>\n",
       "      <th>EmployeeID</th>\n",
       "    </tr>\n",
       "    <tr>\n",
       "      <th></th>\n",
       "      <th></th>\n",
       "      <th>AverageVacationHours</th>\n",
       "      <th>MinVacationHours</th>\n",
       "      <th>MaxVacationHours</th>\n",
       "      <th>DeltaVacationHours</th>\n",
       "      <th>NumEmployees</th>\n",
       "    </tr>\n",
       "    <tr>\n",
       "      <th>StateProvinceName</th>\n",
       "      <th>City</th>\n",
       "      <th></th>\n",
       "      <th></th>\n",
       "      <th></th>\n",
       "      <th></th>\n",
       "      <th></th>\n",
       "    </tr>\n",
       "  </thead>\n",
       "  <tbody>\n",
       "    <tr>\n",
       "      <th>Oregon</th>\n",
       "      <th>Portland</th>\n",
       "      <td>22.000000</td>\n",
       "      <td>22</td>\n",
       "      <td>22</td>\n",
       "      <td>0</td>\n",
       "      <td>1</td>\n",
       "    </tr>\n",
       "    <tr>\n",
       "      <th>England</th>\n",
       "      <th>Cambridge</th>\n",
       "      <td>37.000000</td>\n",
       "      <td>37</td>\n",
       "      <td>37</td>\n",
       "      <td>0</td>\n",
       "      <td>1</td>\n",
       "    </tr>\n",
       "    <tr>\n",
       "      <th>Georgia</th>\n",
       "      <th>Atlanta</th>\n",
       "      <td>55.000000</td>\n",
       "      <td>55</td>\n",
       "      <td>55</td>\n",
       "      <td>0</td>\n",
       "      <td>1</td>\n",
       "    </tr>\n",
       "    <tr>\n",
       "      <th>Gironde</th>\n",
       "      <th>Bordeaux</th>\n",
       "      <td>34.000000</td>\n",
       "      <td>34</td>\n",
       "      <td>34</td>\n",
       "      <td>0</td>\n",
       "      <td>1</td>\n",
       "    </tr>\n",
       "    <tr>\n",
       "      <th>Hamburg</th>\n",
       "      <th>Berlin</th>\n",
       "      <td>35.000000</td>\n",
       "      <td>35</td>\n",
       "      <td>35</td>\n",
       "      <td>0</td>\n",
       "      <td>1</td>\n",
       "    </tr>\n",
       "    <tr>\n",
       "      <th>Massachusetts</th>\n",
       "      <th>Cambridge</th>\n",
       "      <td>39.000000</td>\n",
       "      <td>39</td>\n",
       "      <td>39</td>\n",
       "      <td>0</td>\n",
       "      <td>1</td>\n",
       "    </tr>\n",
       "    <tr>\n",
       "      <th>Michigan</th>\n",
       "      <th>Detroit</th>\n",
       "      <td>38.000000</td>\n",
       "      <td>38</td>\n",
       "      <td>38</td>\n",
       "      <td>0</td>\n",
       "      <td>1</td>\n",
       "    </tr>\n",
       "    <tr>\n",
       "      <th rowspan=\"2\" valign=\"top\">Minnesota</th>\n",
       "      <th>Duluth</th>\n",
       "      <td>24.000000</td>\n",
       "      <td>24</td>\n",
       "      <td>24</td>\n",
       "      <td>0</td>\n",
       "      <td>1</td>\n",
       "    </tr>\n",
       "    <tr>\n",
       "      <th>Minneapolis</th>\n",
       "      <td>48.000000</td>\n",
       "      <td>48</td>\n",
       "      <td>48</td>\n",
       "      <td>0</td>\n",
       "      <td>1</td>\n",
       "    </tr>\n",
       "    <tr>\n",
       "      <th>Ontario</th>\n",
       "      <th>Ottawa</th>\n",
       "      <td>31.000000</td>\n",
       "      <td>31</td>\n",
       "      <td>31</td>\n",
       "      <td>0</td>\n",
       "      <td>1</td>\n",
       "    </tr>\n",
       "    <tr>\n",
       "      <th>...</th>\n",
       "      <th>...</th>\n",
       "      <td>...</td>\n",
       "      <td>...</td>\n",
       "      <td>...</td>\n",
       "      <td>...</td>\n",
       "      <td>...</td>\n",
       "    </tr>\n",
       "    <tr>\n",
       "      <th rowspan=\"10\" valign=\"top\">Washington</th>\n",
       "      <th>Snohomish</th>\n",
       "      <td>52.800000</td>\n",
       "      <td>10</td>\n",
       "      <td>95</td>\n",
       "      <td>85</td>\n",
       "      <td>10</td>\n",
       "    </tr>\n",
       "    <tr>\n",
       "      <th>Seattle</th>\n",
       "      <td>54.659091</td>\n",
       "      <td>6</td>\n",
       "      <td>95</td>\n",
       "      <td>89</td>\n",
       "      <td>44</td>\n",
       "    </tr>\n",
       "    <tr>\n",
       "      <th>Kenmore</th>\n",
       "      <td>53.916667</td>\n",
       "      <td>7</td>\n",
       "      <td>97</td>\n",
       "      <td>90</td>\n",
       "      <td>12</td>\n",
       "    </tr>\n",
       "    <tr>\n",
       "      <th>Bothell</th>\n",
       "      <td>65.692308</td>\n",
       "      <td>9</td>\n",
       "      <td>99</td>\n",
       "      <td>90</td>\n",
       "      <td>13</td>\n",
       "    </tr>\n",
       "    <tr>\n",
       "      <th>Duvall</th>\n",
       "      <td>42.200000</td>\n",
       "      <td>0</td>\n",
       "      <td>92</td>\n",
       "      <td>92</td>\n",
       "      <td>10</td>\n",
       "    </tr>\n",
       "    <tr>\n",
       "      <th>Redmond</th>\n",
       "      <td>37.428571</td>\n",
       "      <td>2</td>\n",
       "      <td>94</td>\n",
       "      <td>92</td>\n",
       "      <td>21</td>\n",
       "    </tr>\n",
       "    <tr>\n",
       "      <th>Sammamish</th>\n",
       "      <td>42.823529</td>\n",
       "      <td>0</td>\n",
       "      <td>93</td>\n",
       "      <td>93</td>\n",
       "      <td>17</td>\n",
       "    </tr>\n",
       "    <tr>\n",
       "      <th>Bellevue</th>\n",
       "      <td>44.305556</td>\n",
       "      <td>1</td>\n",
       "      <td>96</td>\n",
       "      <td>95</td>\n",
       "      <td>36</td>\n",
       "    </tr>\n",
       "    <tr>\n",
       "      <th>Renton</th>\n",
       "      <td>54.176471</td>\n",
       "      <td>0</td>\n",
       "      <td>97</td>\n",
       "      <td>97</td>\n",
       "      <td>17</td>\n",
       "    </tr>\n",
       "    <tr>\n",
       "      <th>Edmonds</th>\n",
       "      <td>47.640000</td>\n",
       "      <td>1</td>\n",
       "      <td>98</td>\n",
       "      <td>97</td>\n",
       "      <td>25</td>\n",
       "    </tr>\n",
       "  </tbody>\n",
       "</table>\n",
       "<p>33 rows × 5 columns</p>\n",
       "</div>"
      ],
      "text/plain": [
       "                                     VacationHours                   \\\n",
       "                              AverageVacationHours MinVacationHours   \n",
       "StateProvinceName City                                                \n",
       "Oregon            Portland               22.000000               22   \n",
       "England           Cambridge              37.000000               37   \n",
       "Georgia           Atlanta                55.000000               55   \n",
       "Gironde           Bordeaux               34.000000               34   \n",
       "Hamburg           Berlin                 35.000000               35   \n",
       "Massachusetts     Cambridge              39.000000               39   \n",
       "Michigan          Detroit                38.000000               38   \n",
       "Minnesota         Duluth                 24.000000               24   \n",
       "                  Minneapolis            48.000000               48   \n",
       "Ontario           Ottawa                 31.000000               31   \n",
       "...                                            ...              ...   \n",
       "Washington        Snohomish              52.800000               10   \n",
       "                  Seattle                54.659091                6   \n",
       "                  Kenmore                53.916667                7   \n",
       "                  Bothell                65.692308                9   \n",
       "                  Duvall                 42.200000                0   \n",
       "                  Redmond                37.428571                2   \n",
       "                  Sammamish              42.823529                0   \n",
       "                  Bellevue               44.305556                1   \n",
       "                  Renton                 54.176471                0   \n",
       "                  Edmonds                47.640000                1   \n",
       "\n",
       "                                                                    EmployeeID  \n",
       "                              MaxVacationHours DeltaVacationHours NumEmployees  \n",
       "StateProvinceName City                                                          \n",
       "Oregon            Portland                  22                  0            1  \n",
       "England           Cambridge                 37                  0            1  \n",
       "Georgia           Atlanta                   55                  0            1  \n",
       "Gironde           Bordeaux                  34                  0            1  \n",
       "Hamburg           Berlin                    35                  0            1  \n",
       "Massachusetts     Cambridge                 39                  0            1  \n",
       "Michigan          Detroit                   38                  0            1  \n",
       "Minnesota         Duluth                    24                  0            1  \n",
       "                  Minneapolis               48                  0            1  \n",
       "Ontario           Ottawa                    31                  0            1  \n",
       "...                                        ...                ...          ...  \n",
       "Washington        Snohomish                 95                 85           10  \n",
       "                  Seattle                   95                 89           44  \n",
       "                  Kenmore                   97                 90           12  \n",
       "                  Bothell                   99                 90           13  \n",
       "                  Duvall                    92                 92           10  \n",
       "                  Redmond                   94                 92           21  \n",
       "                  Sammamish                 93                 93           17  \n",
       "                  Bellevue                  96                 95           36  \n",
       "                  Renton                    97                 97           17  \n",
       "                  Edmonds                   98                 97           25  \n",
       "\n",
       "[33 rows x 5 columns]"
      ]
     },
     "execution_count": 26,
     "metadata": {},
     "output_type": "execute_result"
    }
   ],
   "source": [
    "aggregations = {\n",
    "    'VacationHours' : {\n",
    "        'AverageVacationHours' : 'mean',\n",
    "        'MinVacationHours' : min, \n",
    "        'MaxVacationHours' : max,\n",
    "        'DeltaVacationHours' : lambda x: x.max()-x.min()\n",
    "    },\n",
    "    'EmployeeID' : {\n",
    "        'NumEmployees' : 'count'\n",
    "    },\n",
    "}\n",
    "\n",
    "df = Employees.groupby(by=['StateProvinceName', 'City']).aggregate(aggregations)\n",
    "df.iloc[np.argsort(df['VacationHours']['DeltaVacationHours'])]"
   ]
  },
  {
   "cell_type": "code",
   "execution_count": 27,
   "metadata": {},
   "outputs": [
    {
     "name": "stderr",
     "output_type": "stream",
     "text": [
      "/Users/mxz0434/anaconda3/lib/python3.6/site-packages/pandas/core/groupby/groupby.py:4658: FutureWarning: using a dict with renaming is deprecated and will be removed in a future version\n",
      "  return super(DataFrameGroupBy, self).aggregate(arg, *args, **kwargs)\n"
     ]
    },
    {
     "ename": "KeyError",
     "evalue": "'AverageVacationHours'",
     "output_type": "error",
     "traceback": [
      "\u001b[0;31m---------------------------------------------------------------------------\u001b[0m",
      "\u001b[0;31mKeyError\u001b[0m                                  Traceback (most recent call last)",
      "\u001b[0;32m~/anaconda3/lib/python3.6/site-packages/pandas/core/indexes/base.py\u001b[0m in \u001b[0;36mget_loc\u001b[0;34m(self, key, method, tolerance)\u001b[0m\n\u001b[1;32m   3062\u001b[0m             \u001b[0;32mtry\u001b[0m\u001b[0;34m:\u001b[0m\u001b[0;34m\u001b[0m\u001b[0;34m\u001b[0m\u001b[0m\n\u001b[0;32m-> 3063\u001b[0;31m                 \u001b[0;32mreturn\u001b[0m \u001b[0mself\u001b[0m\u001b[0;34m.\u001b[0m\u001b[0m_engine\u001b[0m\u001b[0;34m.\u001b[0m\u001b[0mget_loc\u001b[0m\u001b[0;34m(\u001b[0m\u001b[0mkey\u001b[0m\u001b[0;34m)\u001b[0m\u001b[0;34m\u001b[0m\u001b[0;34m\u001b[0m\u001b[0m\n\u001b[0m\u001b[1;32m   3064\u001b[0m             \u001b[0;32mexcept\u001b[0m \u001b[0mKeyError\u001b[0m\u001b[0;34m:\u001b[0m\u001b[0;34m\u001b[0m\u001b[0;34m\u001b[0m\u001b[0m\n",
      "\u001b[0;32mpandas/_libs/index.pyx\u001b[0m in \u001b[0;36mpandas._libs.index.IndexEngine.get_loc\u001b[0;34m()\u001b[0m\n",
      "\u001b[0;32mpandas/_libs/index.pyx\u001b[0m in \u001b[0;36mpandas._libs.index.IndexEngine.get_loc\u001b[0;34m()\u001b[0m\n",
      "\u001b[0;32mpandas/_libs/hashtable_class_helper.pxi\u001b[0m in \u001b[0;36mpandas._libs.hashtable.PyObjectHashTable.get_item\u001b[0;34m()\u001b[0m\n",
      "\u001b[0;32mpandas/_libs/hashtable_class_helper.pxi\u001b[0m in \u001b[0;36mpandas._libs.hashtable.PyObjectHashTable.get_item\u001b[0;34m()\u001b[0m\n",
      "\u001b[0;31mKeyError\u001b[0m: 'AverageVacationHours'",
      "\nDuring handling of the above exception, another exception occurred:\n",
      "\u001b[0;31mKeyError\u001b[0m                                  Traceback (most recent call last)",
      "\u001b[0;32m<ipython-input-27-2cc85634c718>\u001b[0m in \u001b[0;36m<module>\u001b[0;34m()\u001b[0m\n\u001b[1;32m      7\u001b[0m }\n\u001b[1;32m      8\u001b[0m \u001b[0;34m\u001b[0m\u001b[0m\n\u001b[0;32m----> 9\u001b[0;31m \u001b[0mdf\u001b[0m \u001b[0;34m=\u001b[0m \u001b[0mEmployees\u001b[0m\u001b[0;34m.\u001b[0m\u001b[0mgroupby\u001b[0m\u001b[0;34m(\u001b[0m\u001b[0mby\u001b[0m\u001b[0;34m=\u001b[0m\u001b[0;34m[\u001b[0m\u001b[0;34m'StateProvinceName'\u001b[0m\u001b[0;34m,\u001b[0m \u001b[0;34m'City'\u001b[0m\u001b[0;34m]\u001b[0m\u001b[0;34m)\u001b[0m\u001b[0;34m.\u001b[0m\u001b[0maggregate\u001b[0m\u001b[0;34m(\u001b[0m\u001b[0maggregations\u001b[0m\u001b[0;34m)\u001b[0m\u001b[0;34m\u001b[0m\u001b[0;34m\u001b[0m\u001b[0m\n\u001b[0m\u001b[1;32m     10\u001b[0m \u001b[0mdf\u001b[0m\u001b[0;34m\u001b[0m\u001b[0;34m\u001b[0m\u001b[0m\n\u001b[1;32m     11\u001b[0m \u001b[0;31m# df.iloc[np.argsort(df['VacationHours']['DeltaVacationHours'])]\u001b[0m\u001b[0;34m\u001b[0m\u001b[0;34m\u001b[0m\u001b[0;34m\u001b[0m\u001b[0m\n",
      "\u001b[0;32m~/anaconda3/lib/python3.6/site-packages/pandas/core/groupby/groupby.py\u001b[0m in \u001b[0;36maggregate\u001b[0;34m(self, arg, *args, **kwargs)\u001b[0m\n\u001b[1;32m   4656\u001b[0m         axis=''))\n\u001b[1;32m   4657\u001b[0m     \u001b[0;32mdef\u001b[0m \u001b[0maggregate\u001b[0m\u001b[0;34m(\u001b[0m\u001b[0mself\u001b[0m\u001b[0;34m,\u001b[0m \u001b[0marg\u001b[0m\u001b[0;34m,\u001b[0m \u001b[0;34m*\u001b[0m\u001b[0margs\u001b[0m\u001b[0;34m,\u001b[0m \u001b[0;34m**\u001b[0m\u001b[0mkwargs\u001b[0m\u001b[0;34m)\u001b[0m\u001b[0;34m:\u001b[0m\u001b[0;34m\u001b[0m\u001b[0;34m\u001b[0m\u001b[0m\n\u001b[0;32m-> 4658\u001b[0;31m         \u001b[0;32mreturn\u001b[0m \u001b[0msuper\u001b[0m\u001b[0;34m(\u001b[0m\u001b[0mDataFrameGroupBy\u001b[0m\u001b[0;34m,\u001b[0m \u001b[0mself\u001b[0m\u001b[0;34m)\u001b[0m\u001b[0;34m.\u001b[0m\u001b[0maggregate\u001b[0m\u001b[0;34m(\u001b[0m\u001b[0marg\u001b[0m\u001b[0;34m,\u001b[0m \u001b[0;34m*\u001b[0m\u001b[0margs\u001b[0m\u001b[0;34m,\u001b[0m \u001b[0;34m**\u001b[0m\u001b[0mkwargs\u001b[0m\u001b[0;34m)\u001b[0m\u001b[0;34m\u001b[0m\u001b[0;34m\u001b[0m\u001b[0m\n\u001b[0m\u001b[1;32m   4659\u001b[0m \u001b[0;34m\u001b[0m\u001b[0m\n\u001b[1;32m   4660\u001b[0m     \u001b[0magg\u001b[0m \u001b[0;34m=\u001b[0m \u001b[0maggregate\u001b[0m\u001b[0;34m\u001b[0m\u001b[0;34m\u001b[0m\u001b[0m\n",
      "\u001b[0;32m~/anaconda3/lib/python3.6/site-packages/pandas/core/groupby/groupby.py\u001b[0m in \u001b[0;36maggregate\u001b[0;34m(self, arg, *args, **kwargs)\u001b[0m\n\u001b[1;32m   4087\u001b[0m \u001b[0;34m\u001b[0m\u001b[0m\n\u001b[1;32m   4088\u001b[0m         \u001b[0m_level\u001b[0m \u001b[0;34m=\u001b[0m \u001b[0mkwargs\u001b[0m\u001b[0;34m.\u001b[0m\u001b[0mpop\u001b[0m\u001b[0;34m(\u001b[0m\u001b[0;34m'_level'\u001b[0m\u001b[0;34m,\u001b[0m \u001b[0;32mNone\u001b[0m\u001b[0;34m)\u001b[0m\u001b[0;34m\u001b[0m\u001b[0;34m\u001b[0m\u001b[0m\n\u001b[0;32m-> 4089\u001b[0;31m         \u001b[0mresult\u001b[0m\u001b[0;34m,\u001b[0m \u001b[0mhow\u001b[0m \u001b[0;34m=\u001b[0m \u001b[0mself\u001b[0m\u001b[0;34m.\u001b[0m\u001b[0m_aggregate\u001b[0m\u001b[0;34m(\u001b[0m\u001b[0marg\u001b[0m\u001b[0;34m,\u001b[0m \u001b[0m_level\u001b[0m\u001b[0;34m=\u001b[0m\u001b[0m_level\u001b[0m\u001b[0;34m,\u001b[0m \u001b[0;34m*\u001b[0m\u001b[0margs\u001b[0m\u001b[0;34m,\u001b[0m \u001b[0;34m**\u001b[0m\u001b[0mkwargs\u001b[0m\u001b[0;34m)\u001b[0m\u001b[0;34m\u001b[0m\u001b[0;34m\u001b[0m\u001b[0m\n\u001b[0m\u001b[1;32m   4090\u001b[0m         \u001b[0;32mif\u001b[0m \u001b[0mhow\u001b[0m \u001b[0;32mis\u001b[0m \u001b[0;32mNone\u001b[0m\u001b[0;34m:\u001b[0m\u001b[0;34m\u001b[0m\u001b[0;34m\u001b[0m\u001b[0m\n\u001b[1;32m   4091\u001b[0m             \u001b[0;32mreturn\u001b[0m \u001b[0mresult\u001b[0m\u001b[0;34m\u001b[0m\u001b[0;34m\u001b[0m\u001b[0m\n",
      "\u001b[0;32m~/anaconda3/lib/python3.6/site-packages/pandas/core/base.py\u001b[0m in \u001b[0;36m_aggregate\u001b[0;34m(self, arg, *args, **kwargs)\u001b[0m\n\u001b[1;32m    488\u001b[0m \u001b[0;34m\u001b[0m\u001b[0m\n\u001b[1;32m    489\u001b[0m                 \u001b[0;32mtry\u001b[0m\u001b[0;34m:\u001b[0m\u001b[0;34m\u001b[0m\u001b[0;34m\u001b[0m\u001b[0m\n\u001b[0;32m--> 490\u001b[0;31m                     \u001b[0mresult\u001b[0m \u001b[0;34m=\u001b[0m \u001b[0m_agg\u001b[0m\u001b[0;34m(\u001b[0m\u001b[0marg\u001b[0m\u001b[0;34m,\u001b[0m \u001b[0m_agg_1dim\u001b[0m\u001b[0;34m)\u001b[0m\u001b[0;34m\u001b[0m\u001b[0;34m\u001b[0m\u001b[0m\n\u001b[0m\u001b[1;32m    491\u001b[0m                 \u001b[0;32mexcept\u001b[0m \u001b[0mSpecificationError\u001b[0m\u001b[0;34m:\u001b[0m\u001b[0;34m\u001b[0m\u001b[0;34m\u001b[0m\u001b[0m\n\u001b[1;32m    492\u001b[0m \u001b[0;34m\u001b[0m\u001b[0m\n",
      "\u001b[0;32m~/anaconda3/lib/python3.6/site-packages/pandas/core/base.py\u001b[0m in \u001b[0;36m_agg\u001b[0;34m(arg, func)\u001b[0m\n\u001b[1;32m    439\u001b[0m                 \u001b[0mresult\u001b[0m \u001b[0;34m=\u001b[0m \u001b[0mcompat\u001b[0m\u001b[0;34m.\u001b[0m\u001b[0mOrderedDict\u001b[0m\u001b[0;34m(\u001b[0m\u001b[0;34m)\u001b[0m\u001b[0;34m\u001b[0m\u001b[0;34m\u001b[0m\u001b[0m\n\u001b[1;32m    440\u001b[0m                 \u001b[0;32mfor\u001b[0m \u001b[0mfname\u001b[0m\u001b[0;34m,\u001b[0m \u001b[0magg_how\u001b[0m \u001b[0;32min\u001b[0m \u001b[0mcompat\u001b[0m\u001b[0;34m.\u001b[0m\u001b[0miteritems\u001b[0m\u001b[0;34m(\u001b[0m\u001b[0marg\u001b[0m\u001b[0;34m)\u001b[0m\u001b[0;34m:\u001b[0m\u001b[0;34m\u001b[0m\u001b[0;34m\u001b[0m\u001b[0m\n\u001b[0;32m--> 441\u001b[0;31m                     \u001b[0mresult\u001b[0m\u001b[0;34m[\u001b[0m\u001b[0mfname\u001b[0m\u001b[0;34m]\u001b[0m \u001b[0;34m=\u001b[0m \u001b[0mfunc\u001b[0m\u001b[0;34m(\u001b[0m\u001b[0mfname\u001b[0m\u001b[0;34m,\u001b[0m \u001b[0magg_how\u001b[0m\u001b[0;34m)\u001b[0m\u001b[0;34m\u001b[0m\u001b[0;34m\u001b[0m\u001b[0m\n\u001b[0m\u001b[1;32m    442\u001b[0m                 \u001b[0;32mreturn\u001b[0m \u001b[0mresult\u001b[0m\u001b[0;34m\u001b[0m\u001b[0;34m\u001b[0m\u001b[0m\n\u001b[1;32m    443\u001b[0m \u001b[0;34m\u001b[0m\u001b[0m\n",
      "\u001b[0;32m~/anaconda3/lib/python3.6/site-packages/pandas/core/base.py\u001b[0m in \u001b[0;36m_agg_1dim\u001b[0;34m(name, how, subset)\u001b[0m\n\u001b[1;32m    418\u001b[0m                 \u001b[0maggregate\u001b[0m \u001b[0ma\u001b[0m \u001b[0;36m1\u001b[0m\u001b[0;34m-\u001b[0m\u001b[0mdim\u001b[0m \u001b[0;32mwith\u001b[0m \u001b[0mhow\u001b[0m\u001b[0;34m\u001b[0m\u001b[0;34m\u001b[0m\u001b[0m\n\u001b[1;32m    419\u001b[0m                 \"\"\"\n\u001b[0;32m--> 420\u001b[0;31m                 \u001b[0mcolg\u001b[0m \u001b[0;34m=\u001b[0m \u001b[0mself\u001b[0m\u001b[0;34m.\u001b[0m\u001b[0m_gotitem\u001b[0m\u001b[0;34m(\u001b[0m\u001b[0mname\u001b[0m\u001b[0;34m,\u001b[0m \u001b[0mndim\u001b[0m\u001b[0;34m=\u001b[0m\u001b[0;36m1\u001b[0m\u001b[0;34m,\u001b[0m \u001b[0msubset\u001b[0m\u001b[0;34m=\u001b[0m\u001b[0msubset\u001b[0m\u001b[0;34m)\u001b[0m\u001b[0;34m\u001b[0m\u001b[0;34m\u001b[0m\u001b[0m\n\u001b[0m\u001b[1;32m    421\u001b[0m                 \u001b[0;32mif\u001b[0m \u001b[0mcolg\u001b[0m\u001b[0;34m.\u001b[0m\u001b[0mndim\u001b[0m \u001b[0;34m!=\u001b[0m \u001b[0;36m1\u001b[0m\u001b[0;34m:\u001b[0m\u001b[0;34m\u001b[0m\u001b[0;34m\u001b[0m\u001b[0m\n\u001b[1;32m    422\u001b[0m                     raise SpecificationError(\"nested dictionary is ambiguous \"\n",
      "\u001b[0;32m~/anaconda3/lib/python3.6/site-packages/pandas/core/groupby/groupby.py\u001b[0m in \u001b[0;36m_gotitem\u001b[0;34m(self, key, ndim, subset)\u001b[0m\n\u001b[1;32m   4683\u001b[0m         \u001b[0;32melif\u001b[0m \u001b[0mndim\u001b[0m \u001b[0;34m==\u001b[0m \u001b[0;36m1\u001b[0m\u001b[0;34m:\u001b[0m\u001b[0;34m\u001b[0m\u001b[0;34m\u001b[0m\u001b[0m\n\u001b[1;32m   4684\u001b[0m             \u001b[0;32mif\u001b[0m \u001b[0msubset\u001b[0m \u001b[0;32mis\u001b[0m \u001b[0;32mNone\u001b[0m\u001b[0;34m:\u001b[0m\u001b[0;34m\u001b[0m\u001b[0;34m\u001b[0m\u001b[0m\n\u001b[0;32m-> 4685\u001b[0;31m                 \u001b[0msubset\u001b[0m \u001b[0;34m=\u001b[0m \u001b[0mself\u001b[0m\u001b[0;34m.\u001b[0m\u001b[0mobj\u001b[0m\u001b[0;34m[\u001b[0m\u001b[0mkey\u001b[0m\u001b[0;34m]\u001b[0m\u001b[0;34m\u001b[0m\u001b[0;34m\u001b[0m\u001b[0m\n\u001b[0m\u001b[1;32m   4686\u001b[0m             return SeriesGroupBy(subset, selection=key,\n\u001b[1;32m   4687\u001b[0m                                  grouper=self.grouper)\n",
      "\u001b[0;32m~/anaconda3/lib/python3.6/site-packages/pandas/core/frame.py\u001b[0m in \u001b[0;36m__getitem__\u001b[0;34m(self, key)\u001b[0m\n\u001b[1;32m   2683\u001b[0m             \u001b[0;32mreturn\u001b[0m \u001b[0mself\u001b[0m\u001b[0;34m.\u001b[0m\u001b[0m_getitem_multilevel\u001b[0m\u001b[0;34m(\u001b[0m\u001b[0mkey\u001b[0m\u001b[0;34m)\u001b[0m\u001b[0;34m\u001b[0m\u001b[0;34m\u001b[0m\u001b[0m\n\u001b[1;32m   2684\u001b[0m         \u001b[0;32melse\u001b[0m\u001b[0;34m:\u001b[0m\u001b[0;34m\u001b[0m\u001b[0;34m\u001b[0m\u001b[0m\n\u001b[0;32m-> 2685\u001b[0;31m             \u001b[0;32mreturn\u001b[0m \u001b[0mself\u001b[0m\u001b[0;34m.\u001b[0m\u001b[0m_getitem_column\u001b[0m\u001b[0;34m(\u001b[0m\u001b[0mkey\u001b[0m\u001b[0;34m)\u001b[0m\u001b[0;34m\u001b[0m\u001b[0;34m\u001b[0m\u001b[0m\n\u001b[0m\u001b[1;32m   2686\u001b[0m \u001b[0;34m\u001b[0m\u001b[0m\n\u001b[1;32m   2687\u001b[0m     \u001b[0;32mdef\u001b[0m \u001b[0m_getitem_column\u001b[0m\u001b[0;34m(\u001b[0m\u001b[0mself\u001b[0m\u001b[0;34m,\u001b[0m \u001b[0mkey\u001b[0m\u001b[0;34m)\u001b[0m\u001b[0;34m:\u001b[0m\u001b[0;34m\u001b[0m\u001b[0;34m\u001b[0m\u001b[0m\n",
      "\u001b[0;32m~/anaconda3/lib/python3.6/site-packages/pandas/core/frame.py\u001b[0m in \u001b[0;36m_getitem_column\u001b[0;34m(self, key)\u001b[0m\n\u001b[1;32m   2690\u001b[0m         \u001b[0;31m# get column\u001b[0m\u001b[0;34m\u001b[0m\u001b[0;34m\u001b[0m\u001b[0;34m\u001b[0m\u001b[0m\n\u001b[1;32m   2691\u001b[0m         \u001b[0;32mif\u001b[0m \u001b[0mself\u001b[0m\u001b[0;34m.\u001b[0m\u001b[0mcolumns\u001b[0m\u001b[0;34m.\u001b[0m\u001b[0mis_unique\u001b[0m\u001b[0;34m:\u001b[0m\u001b[0;34m\u001b[0m\u001b[0;34m\u001b[0m\u001b[0m\n\u001b[0;32m-> 2692\u001b[0;31m             \u001b[0;32mreturn\u001b[0m \u001b[0mself\u001b[0m\u001b[0;34m.\u001b[0m\u001b[0m_get_item_cache\u001b[0m\u001b[0;34m(\u001b[0m\u001b[0mkey\u001b[0m\u001b[0;34m)\u001b[0m\u001b[0;34m\u001b[0m\u001b[0;34m\u001b[0m\u001b[0m\n\u001b[0m\u001b[1;32m   2693\u001b[0m \u001b[0;34m\u001b[0m\u001b[0m\n\u001b[1;32m   2694\u001b[0m         \u001b[0;31m# duplicate columns & possible reduce dimensionality\u001b[0m\u001b[0;34m\u001b[0m\u001b[0;34m\u001b[0m\u001b[0;34m\u001b[0m\u001b[0m\n",
      "\u001b[0;32m~/anaconda3/lib/python3.6/site-packages/pandas/core/generic.py\u001b[0m in \u001b[0;36m_get_item_cache\u001b[0;34m(self, item)\u001b[0m\n\u001b[1;32m   2484\u001b[0m         \u001b[0mres\u001b[0m \u001b[0;34m=\u001b[0m \u001b[0mcache\u001b[0m\u001b[0;34m.\u001b[0m\u001b[0mget\u001b[0m\u001b[0;34m(\u001b[0m\u001b[0mitem\u001b[0m\u001b[0;34m)\u001b[0m\u001b[0;34m\u001b[0m\u001b[0;34m\u001b[0m\u001b[0m\n\u001b[1;32m   2485\u001b[0m         \u001b[0;32mif\u001b[0m \u001b[0mres\u001b[0m \u001b[0;32mis\u001b[0m \u001b[0;32mNone\u001b[0m\u001b[0;34m:\u001b[0m\u001b[0;34m\u001b[0m\u001b[0;34m\u001b[0m\u001b[0m\n\u001b[0;32m-> 2486\u001b[0;31m             \u001b[0mvalues\u001b[0m \u001b[0;34m=\u001b[0m \u001b[0mself\u001b[0m\u001b[0;34m.\u001b[0m\u001b[0m_data\u001b[0m\u001b[0;34m.\u001b[0m\u001b[0mget\u001b[0m\u001b[0;34m(\u001b[0m\u001b[0mitem\u001b[0m\u001b[0;34m)\u001b[0m\u001b[0;34m\u001b[0m\u001b[0;34m\u001b[0m\u001b[0m\n\u001b[0m\u001b[1;32m   2487\u001b[0m             \u001b[0mres\u001b[0m \u001b[0;34m=\u001b[0m \u001b[0mself\u001b[0m\u001b[0;34m.\u001b[0m\u001b[0m_box_item_values\u001b[0m\u001b[0;34m(\u001b[0m\u001b[0mitem\u001b[0m\u001b[0;34m,\u001b[0m \u001b[0mvalues\u001b[0m\u001b[0;34m)\u001b[0m\u001b[0;34m\u001b[0m\u001b[0;34m\u001b[0m\u001b[0m\n\u001b[1;32m   2488\u001b[0m             \u001b[0mcache\u001b[0m\u001b[0;34m[\u001b[0m\u001b[0mitem\u001b[0m\u001b[0;34m]\u001b[0m \u001b[0;34m=\u001b[0m \u001b[0mres\u001b[0m\u001b[0;34m\u001b[0m\u001b[0;34m\u001b[0m\u001b[0m\n",
      "\u001b[0;32m~/anaconda3/lib/python3.6/site-packages/pandas/core/internals.py\u001b[0m in \u001b[0;36mget\u001b[0;34m(self, item, fastpath)\u001b[0m\n\u001b[1;32m   4113\u001b[0m \u001b[0;34m\u001b[0m\u001b[0m\n\u001b[1;32m   4114\u001b[0m             \u001b[0;32mif\u001b[0m \u001b[0;32mnot\u001b[0m \u001b[0misna\u001b[0m\u001b[0;34m(\u001b[0m\u001b[0mitem\u001b[0m\u001b[0;34m)\u001b[0m\u001b[0;34m:\u001b[0m\u001b[0;34m\u001b[0m\u001b[0;34m\u001b[0m\u001b[0m\n\u001b[0;32m-> 4115\u001b[0;31m                 \u001b[0mloc\u001b[0m \u001b[0;34m=\u001b[0m \u001b[0mself\u001b[0m\u001b[0;34m.\u001b[0m\u001b[0mitems\u001b[0m\u001b[0;34m.\u001b[0m\u001b[0mget_loc\u001b[0m\u001b[0;34m(\u001b[0m\u001b[0mitem\u001b[0m\u001b[0;34m)\u001b[0m\u001b[0;34m\u001b[0m\u001b[0;34m\u001b[0m\u001b[0m\n\u001b[0m\u001b[1;32m   4116\u001b[0m             \u001b[0;32melse\u001b[0m\u001b[0;34m:\u001b[0m\u001b[0;34m\u001b[0m\u001b[0;34m\u001b[0m\u001b[0m\n\u001b[1;32m   4117\u001b[0m                 \u001b[0mindexer\u001b[0m \u001b[0;34m=\u001b[0m \u001b[0mnp\u001b[0m\u001b[0;34m.\u001b[0m\u001b[0marange\u001b[0m\u001b[0;34m(\u001b[0m\u001b[0mlen\u001b[0m\u001b[0;34m(\u001b[0m\u001b[0mself\u001b[0m\u001b[0;34m.\u001b[0m\u001b[0mitems\u001b[0m\u001b[0;34m)\u001b[0m\u001b[0;34m)\u001b[0m\u001b[0;34m[\u001b[0m\u001b[0misna\u001b[0m\u001b[0;34m(\u001b[0m\u001b[0mself\u001b[0m\u001b[0;34m.\u001b[0m\u001b[0mitems\u001b[0m\u001b[0;34m)\u001b[0m\u001b[0;34m]\u001b[0m\u001b[0;34m\u001b[0m\u001b[0;34m\u001b[0m\u001b[0m\n",
      "\u001b[0;32m~/anaconda3/lib/python3.6/site-packages/pandas/core/indexes/base.py\u001b[0m in \u001b[0;36mget_loc\u001b[0;34m(self, key, method, tolerance)\u001b[0m\n\u001b[1;32m   3063\u001b[0m                 \u001b[0;32mreturn\u001b[0m \u001b[0mself\u001b[0m\u001b[0;34m.\u001b[0m\u001b[0m_engine\u001b[0m\u001b[0;34m.\u001b[0m\u001b[0mget_loc\u001b[0m\u001b[0;34m(\u001b[0m\u001b[0mkey\u001b[0m\u001b[0;34m)\u001b[0m\u001b[0;34m\u001b[0m\u001b[0;34m\u001b[0m\u001b[0m\n\u001b[1;32m   3064\u001b[0m             \u001b[0;32mexcept\u001b[0m \u001b[0mKeyError\u001b[0m\u001b[0;34m:\u001b[0m\u001b[0;34m\u001b[0m\u001b[0;34m\u001b[0m\u001b[0m\n\u001b[0;32m-> 3065\u001b[0;31m                 \u001b[0;32mreturn\u001b[0m \u001b[0mself\u001b[0m\u001b[0;34m.\u001b[0m\u001b[0m_engine\u001b[0m\u001b[0;34m.\u001b[0m\u001b[0mget_loc\u001b[0m\u001b[0;34m(\u001b[0m\u001b[0mself\u001b[0m\u001b[0;34m.\u001b[0m\u001b[0m_maybe_cast_indexer\u001b[0m\u001b[0;34m(\u001b[0m\u001b[0mkey\u001b[0m\u001b[0;34m)\u001b[0m\u001b[0;34m)\u001b[0m\u001b[0;34m\u001b[0m\u001b[0;34m\u001b[0m\u001b[0m\n\u001b[0m\u001b[1;32m   3066\u001b[0m \u001b[0;34m\u001b[0m\u001b[0m\n\u001b[1;32m   3067\u001b[0m         \u001b[0mindexer\u001b[0m \u001b[0;34m=\u001b[0m \u001b[0mself\u001b[0m\u001b[0;34m.\u001b[0m\u001b[0mget_indexer\u001b[0m\u001b[0;34m(\u001b[0m\u001b[0;34m[\u001b[0m\u001b[0mkey\u001b[0m\u001b[0;34m]\u001b[0m\u001b[0;34m,\u001b[0m \u001b[0mmethod\u001b[0m\u001b[0;34m=\u001b[0m\u001b[0mmethod\u001b[0m\u001b[0;34m,\u001b[0m \u001b[0mtolerance\u001b[0m\u001b[0;34m=\u001b[0m\u001b[0mtolerance\u001b[0m\u001b[0;34m)\u001b[0m\u001b[0;34m\u001b[0m\u001b[0;34m\u001b[0m\u001b[0m\n",
      "\u001b[0;32mpandas/_libs/index.pyx\u001b[0m in \u001b[0;36mpandas._libs.index.IndexEngine.get_loc\u001b[0;34m()\u001b[0m\n",
      "\u001b[0;32mpandas/_libs/index.pyx\u001b[0m in \u001b[0;36mpandas._libs.index.IndexEngine.get_loc\u001b[0;34m()\u001b[0m\n",
      "\u001b[0;32mpandas/_libs/hashtable_class_helper.pxi\u001b[0m in \u001b[0;36mpandas._libs.hashtable.PyObjectHashTable.get_item\u001b[0;34m()\u001b[0m\n",
      "\u001b[0;32mpandas/_libs/hashtable_class_helper.pxi\u001b[0m in \u001b[0;36mpandas._libs.hashtable.PyObjectHashTable.get_item\u001b[0;34m()\u001b[0m\n",
      "\u001b[0;31mKeyError\u001b[0m: 'AverageVacationHours'"
     ]
    }
   ],
   "source": [
    "aggregations = {\n",
    "        'AverageVacationHours' : 'mean',\n",
    "        'MinVacationHours' : min, \n",
    "        'MaxVacationHours' : max,\n",
    "        'DeltaVacationHours' : lambda x: x.max()-x.min(),\n",
    "        'NumEmployees' : 'count'\n",
    "}\n",
    "\n",
    "df = Employees.groupby(by=['StateProvinceName', 'City']).aggregate(aggregations)\n",
    "df\n",
    "# df.iloc[np.argsort(df['VacationHours']['DeltaVacationHours'])]"
   ]
  },
  {
   "cell_type": "markdown",
   "metadata": {},
   "source": [
    "### 4i. Limit the results to cities that have more than 1 employee"
   ]
  },
  {
   "cell_type": "raw",
   "metadata": {},
   "source": [
    "SELECT CONCAT(e.StateProvinceName, ', ', e.City) AS 'Location'\n",
    "\t, AVG(e.VacationHours) AS 'Average Vacation Hours'\n",
    "\t, COUNT(1) AS 'NumEmployees'\n",
    "\t, MAX(e.VacationHours)-MIN(e.VacationHours) AS 'Difference Vacation Hours'\n",
    "\tFROM dbo.Employees AS e\n",
    "\tGROUP BY e.StateProvinceName, e.City\n",
    "\tHAVING COUNT(1) > 1\n",
    "\tORDER BY 'Difference Vacation Hours' DESC\n",
    "\t;"
   ]
  },
  {
   "cell_type": "code",
   "execution_count": null,
   "metadata": {},
   "outputs": [],
   "source": [
    "def my_own_delta(x):\n",
    "    return  x.max()-x.min()\n",
    "\n",
    "aggregations = {\n",
    "    'VacationHours' : {\n",
    "        'AverageVacationHours' : 'mean',\n",
    "        'MinVacationHours' : np.min, \n",
    "        'MaxVacationHours' : np.max,\n",
    "        'DeltaVacationHours' : my_own_delta, ##lambda x: x.max()-x.min(),\n",
    "        'cnt' : pd.Series.count\n",
    "    },\n",
    "    'EmployeeID' : {\n",
    "        'NumEmployees' : 'count'\n",
    "    },\n",
    "}\n",
    "\n",
    "df = Employees.groupby(by=['StateProvinceName', 'City']).aggregate(aggregations)\n",
    "df['VacationHours']['DeltaVacationHours']>1\n",
    "df2 = df[df['VacationHours']['DeltaVacationHours']>1]\n",
    "\n",
    "df2.columns = df2.columns.droplevel(0)\n",
    "df2.reset_index()\n",
    "##df2.iloc[np.argsort(df2['VacationHours']['DeltaVacationHours'])]\n",
    "##np.argsort(df2['VacationHours']['DeltaVacationHours'])"
   ]
  },
  {
   "cell_type": "markdown",
   "metadata": {},
   "source": [
    "### 4j. Limit the results to non-U.S. cities"
   ]
  },
  {
   "cell_type": "raw",
   "metadata": {},
   "source": [
    "SELECT CONCAT(e.StateProvinceName, ', ', e.City) AS 'Location'\n",
    "\t, AVG(e.VacationHours) AS 'Average Vacation Hours'\n",
    "\t, COUNT(1) AS 'NumEmployees'\n",
    "\t, MAX(e.VacationHours)-MIN(e.VacationHours) AS 'Difference Vacation Hours'\n",
    "\tFROM dbo.Employees AS e\n",
    "\tWHERE e.CountryName != 'United States'\n",
    "\tGROUP BY e.StateProvinceName, e.City\n",
    "\tHAVING COUNT(1) > 1\n",
    "\tORDER BY 'Difference Vacation Hours' DESC\n",
    "\t;"
   ]
  },
  {
   "cell_type": "code",
   "execution_count": null,
   "metadata": {
    "scrolled": true
   },
   "outputs": [],
   "source": [
    "aggregations = {\n",
    "    'VacationHours' : {\n",
    "        'AverageVacationHours' : 'mean',\n",
    "        'MinVacationHours' : min, \n",
    "        'MaxVacationHours' : max,\n",
    "        'DeltaVacationHours' : lambda x: x.max()-x.min()\n",
    "    },\n",
    "    'EmployeeID' : {\n",
    "        'NumEmployees' : 'count'\n",
    "    },\n",
    "}\n",
    "\n",
    "df = Employees[Employees.CountryName != 'United States'].groupby(by=['StateProvinceName', 'City']).aggregate(aggregations)\n",
    "df2 = df[df['VacationHours']['DeltaVacationHours']>1]\n",
    "df2.iloc[np.argsort(df2['VacationHours']['DeltaVacationHours'])]"
   ]
  },
  {
   "cell_type": "markdown",
   "metadata": {},
   "source": [
    "### Extra\n",
    "Here are two alternatives to create a 'City, State' column."
   ]
  },
  {
   "cell_type": "code",
   "execution_count": null,
   "metadata": {
    "collapsed": true
   },
   "outputs": [],
   "source": [
    "[cs for cs in map(lambda x,y: str(y)+', '+str(x), Employees.StateProvinceName.values, Employees.City.values)]"
   ]
  },
  {
   "cell_type": "code",
   "execution_count": null,
   "metadata": {
    "collapsed": true
   },
   "outputs": [],
   "source": [
    "Employees.City.str.cat(Employees.StateProvinceName, sep=', ')"
   ]
  },
  {
   "cell_type": "markdown",
   "metadata": {},
   "source": [
    "# Summary\n",
    "\n",
    "### In the simplest form one can specify either rows or columns\n"
   ]
  },
  {
   "cell_type": "code",
   "execution_count": null,
   "metadata": {
    "collapsed": true
   },
   "outputs": [],
   "source": [
    "# First ten rows\n",
    "Employees[0:10]"
   ]
  },
  {
   "cell_type": "code",
   "execution_count": null,
   "metadata": {
    "collapsed": true
   },
   "outputs": [],
   "source": [
    "# Rows satisfying a particular condition\n",
    "Employees[Employees.MaritalStatus=='M']"
   ]
  },
  {
   "cell_type": "code",
   "execution_count": null,
   "metadata": {
    "collapsed": true
   },
   "outputs": [],
   "source": [
    "# Select sertain columns\n",
    "Employees[['EmployeeID', 'FirstName']]"
   ]
  },
  {
   "cell_type": "markdown",
   "metadata": {},
   "source": [
    "### Since expressions return DataFrames we can chain method calls and [...] operators\n",
    "The order matters!"
   ]
  },
  {
   "cell_type": "code",
   "execution_count": null,
   "metadata": {
    "scrolled": true
   },
   "outputs": [],
   "source": [
    "Employees[0:10][Employees.MaritalStatus=='M'][['EmployeeID', 'FirstName', 'MaritalStatus']]"
   ]
  },
  {
   "cell_type": "code",
   "execution_count": null,
   "metadata": {},
   "outputs": [],
   "source": [
    "Employees[Employees.MaritalStatus=='M'][['EmployeeID', 'FirstName', 'MaritalStatus']][0:10]"
   ]
  },
  {
   "cell_type": "markdown",
   "metadata": {},
   "source": [
    "Recommended to use .loc .iloc .at methods"
   ]
  },
  {
   "cell_type": "markdown",
   "metadata": {},
   "source": [
    "### Grouping should be performed by on factors (i.e. discrete values), aggregation usually on numeric values."
   ]
  },
  {
   "cell_type": "code",
   "execution_count": null,
   "metadata": {
    "scrolled": true
   },
   "outputs": [],
   "source": [
    "Employees.groupby(by=['MaritalStatus']).VacationHours.sum()"
   ]
  },
  {
   "cell_type": "markdown",
   "metadata": {},
   "source": [
    "### Use 'aggregate' for more complex groupings and aggregations"
   ]
  },
  {
   "cell_type": "code",
   "execution_count": null,
   "metadata": {
    "collapsed": true
   },
   "outputs": [],
   "source": [
    "aggregations = {\n",
    "    'VacationHours' : {\n",
    "        'AverageVacationHours' : 'mean',\n",
    "        'MinVacationHours' : min, \n",
    "        'MaxVacationHours' : max,\n",
    "        'DeltaVacationHoues' : lambda x: x.max()-x.min()\n",
    "    },\n",
    "    'EmployeeID' : {\n",
    "        'NumEmployees' : 'count'\n",
    "    },\n",
    "}\n",
    "\n",
    "Employees.groupby(by=['StateProvinceName', 'City']).aggregate(aggregations) \\\n",
    ".sort_index(ascending=False, axis=0)"
   ]
  },
  {
   "cell_type": "markdown",
   "metadata": {},
   "source": [
    "### Assign intermediate results to new variables, and perform next operation on them\n",
    "In particular to saticfy filtering ('HAVING') and sorting on aggregated values"
   ]
  },
  {
   "cell_type": "markdown",
   "metadata": {},
   "source": [
    "### Columns are not lists. Methods on columns are defined in Pandas.Series and NumPy"
   ]
  },
  {
   "cell_type": "code",
   "execution_count": null,
   "metadata": {},
   "outputs": [],
   "source": [
    "help(np.min)\n",
    "help(pd.Series.between)"
   ]
  },
  {
   "cell_type": "code",
   "execution_count": null,
   "metadata": {
    "collapsed": true
   },
   "outputs": [],
   "source": []
  },
  {
   "cell_type": "code",
   "execution_count": null,
   "metadata": {
    "collapsed": true
   },
   "outputs": [],
   "source": []
  }
 ],
 "metadata": {
  "kernelspec": {
   "display_name": "Python 3",
   "language": "python",
   "name": "python3"
  },
  "language_info": {
   "codemirror_mode": {
    "name": "ipython",
    "version": 3
   },
   "file_extension": ".py",
   "mimetype": "text/x-python",
   "name": "python",
   "nbconvert_exporter": "python",
   "pygments_lexer": "ipython3",
   "version": "3.6.8"
  }
 },
 "nbformat": 4,
 "nbformat_minor": 2
}
