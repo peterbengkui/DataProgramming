{
 "cells": [
  {
   "cell_type": "markdown",
   "metadata": {},
   "source": [
    "<div style=\"float: right; color:red; font-weight:bold;\">Rename this file before you work on it!</div>\n",
    "# Pandas Exercise\n",
    "Use the Adventure Works dataset to create the following reports. The dataset is availablt for download in it's original format at https://msdn.microsoft.com/en-us/library/hh403424.aspx (follow instructions to download).\n",
    "\n",
    "## Task\n",
    "1. write the Python Pandas expression to produce a table as described in the problem statements.\n",
    "2. The SQL expression may give you a hint. It also allows you to see both systems side-by-side.\n",
    "3. If you don't know SQL just ignore the SQL code."
   ]
  },
  {
   "cell_type": "code",
   "execution_count": 1,
   "metadata": {},
   "outputs": [],
   "source": [
    "import pandas as pd\n",
    "import numpy as np"
   ]
  },
  {
   "cell_type": "code",
   "execution_count": 2,
   "metadata": {},
   "outputs": [
    {
     "name": "stdout",
     "output_type": "stream",
     "text": [
      "CPU times: user 64.4 ms, sys: 5.03 ms, total: 69.4 ms\n",
      "Wall time: 68.2 ms\n"
     ]
    }
   ],
   "source": [
    "%%time\n",
    "Empoyees = pd.read_excel('/home/data/AdventureWorks/Employees.xls')"
   ]
  },
  {
   "cell_type": "code",
   "execution_count": 3,
   "metadata": {},
   "outputs": [
    {
     "name": "stdout",
     "output_type": "stream",
     "text": [
      "CPU times: user 9.8 ms, sys: 3.53 ms, total: 13.3 ms\n",
      "Wall time: 12.1 ms\n"
     ]
    }
   ],
   "source": [
    "%%time\n",
    "Territory = pd.read_excel('/home/data/AdventureWorks/SalesTerritory.xls')"
   ]
  },
  {
   "cell_type": "code",
   "execution_count": 4,
   "metadata": {},
   "outputs": [
    {
     "name": "stdout",
     "output_type": "stream",
     "text": [
      "CPU times: user 9.16 ms, sys: 509 µs, total: 9.67 ms\n",
      "Wall time: 8.58 ms\n"
     ]
    }
   ],
   "source": [
    "%%time\n",
    "Customers = pd.read_excel('/home/data/AdventureWorks/Customers.xls')"
   ]
  },
  {
   "cell_type": "code",
   "execution_count": 5,
   "metadata": {},
   "outputs": [
    {
     "name": "stdout",
     "output_type": "stream",
     "text": [
      "CPU times: user 12.6 ms, sys: 342 µs, total: 13 ms\n",
      "Wall time: 12 ms\n"
     ]
    }
   ],
   "source": [
    "%%time\n",
    "Orders = pd.read_excel('/home/data/AdventureWorks/ItemsOrdered.xls')"
   ]
  },
  {
   "cell_type": "markdown",
   "metadata": {},
   "source": [
    "# Filtering (with)"
   ]
  },
  {
   "cell_type": "markdown",
   "metadata": {},
   "source": [
    "### 1. Provide a list of employees that are married."
   ]
  },
  {
   "cell_type": "raw",
   "metadata": {},
   "source": [
    "SELECT e.EmployeeID, e.FirstName, e.LastName FROM dbo.Employees AS e\n",
    "    WHERE e.MaritalStatus = 'M';"
   ]
  },
  {
   "cell_type": "code",
   "execution_count": 9,
   "metadata": {},
   "outputs": [
    {
     "data": {
      "text/html": [
       "<div>\n",
       "<style scoped>\n",
       "    .dataframe tbody tr th:only-of-type {\n",
       "        vertical-align: middle;\n",
       "    }\n",
       "\n",
       "    .dataframe tbody tr th {\n",
       "        vertical-align: top;\n",
       "    }\n",
       "\n",
       "    .dataframe thead th {\n",
       "        text-align: right;\n",
       "    }\n",
       "</style>\n",
       "<table border=\"1\" class=\"dataframe\">\n",
       "  <thead>\n",
       "    <tr style=\"text-align: right;\">\n",
       "      <th></th>\n",
       "      <th>EmployeeID</th>\n",
       "      <th>FirstName</th>\n",
       "      <th>LastName</th>\n",
       "    </tr>\n",
       "  </thead>\n",
       "  <tbody>\n",
       "    <tr>\n",
       "      <th>0</th>\n",
       "      <td>259</td>\n",
       "      <td>Ben</td>\n",
       "      <td>Miller</td>\n",
       "    </tr>\n",
       "    <tr>\n",
       "      <th>1</th>\n",
       "      <td>278</td>\n",
       "      <td>Garrett</td>\n",
       "      <td>Vargas</td>\n",
       "    </tr>\n",
       "    <tr>\n",
       "      <th>2</th>\n",
       "      <td>204</td>\n",
       "      <td>Gabe</td>\n",
       "      <td>Mares</td>\n",
       "    </tr>\n",
       "    <tr>\n",
       "      <th>3</th>\n",
       "      <td>78</td>\n",
       "      <td>Reuben</td>\n",
       "      <td>D'sa</td>\n",
       "    </tr>\n",
       "    <tr>\n",
       "      <th>4</th>\n",
       "      <td>255</td>\n",
       "      <td>Gordon</td>\n",
       "      <td>Hee</td>\n",
       "    </tr>\n",
       "    <tr>\n",
       "      <th>10</th>\n",
       "      <td>10</td>\n",
       "      <td>Michael</td>\n",
       "      <td>Raheem</td>\n",
       "    </tr>\n",
       "    <tr>\n",
       "      <th>12</th>\n",
       "      <td>175</td>\n",
       "      <td>Reed</td>\n",
       "      <td>Koch</td>\n",
       "    </tr>\n",
       "    <tr>\n",
       "      <th>14</th>\n",
       "      <td>144</td>\n",
       "      <td>Paul</td>\n",
       "      <td>Singh</td>\n",
       "    </tr>\n",
       "    <tr>\n",
       "      <th>15</th>\n",
       "      <td>192</td>\n",
       "      <td>Brenda</td>\n",
       "      <td>Diaz</td>\n",
       "    </tr>\n",
       "    <tr>\n",
       "      <th>18</th>\n",
       "      <td>203</td>\n",
       "      <td>Ken</td>\n",
       "      <td>Myer</td>\n",
       "    </tr>\n",
       "    <tr>\n",
       "      <th>19</th>\n",
       "      <td>245</td>\n",
       "      <td>Barbara</td>\n",
       "      <td>Moreland</td>\n",
       "    </tr>\n",
       "    <tr>\n",
       "      <th>24</th>\n",
       "      <td>163</td>\n",
       "      <td>Alex</td>\n",
       "      <td>Nayberg</td>\n",
       "    </tr>\n",
       "    <tr>\n",
       "      <th>25</th>\n",
       "      <td>118</td>\n",
       "      <td>Don</td>\n",
       "      <td>Hall</td>\n",
       "    </tr>\n",
       "    <tr>\n",
       "      <th>26</th>\n",
       "      <td>176</td>\n",
       "      <td>David</td>\n",
       "      <td>Lawrence</td>\n",
       "    </tr>\n",
       "    <tr>\n",
       "      <th>27</th>\n",
       "      <td>147</td>\n",
       "      <td>Sandra</td>\n",
       "      <td>Reátegui Alayo</td>\n",
       "    </tr>\n",
       "    <tr>\n",
       "      <th>28</th>\n",
       "      <td>138</td>\n",
       "      <td>Samantha</td>\n",
       "      <td>Smith</td>\n",
       "    </tr>\n",
       "    <tr>\n",
       "      <th>29</th>\n",
       "      <td>95</td>\n",
       "      <td>Jim</td>\n",
       "      <td>Scardelis</td>\n",
       "    </tr>\n",
       "    <tr>\n",
       "      <th>30</th>\n",
       "      <td>231</td>\n",
       "      <td>Jo</td>\n",
       "      <td>Berry</td>\n",
       "    </tr>\n",
       "    <tr>\n",
       "      <th>31</th>\n",
       "      <td>86</td>\n",
       "      <td>Ryan</td>\n",
       "      <td>Cornelsen</td>\n",
       "    </tr>\n",
       "    <tr>\n",
       "      <th>33</th>\n",
       "      <td>214</td>\n",
       "      <td>Andreas</td>\n",
       "      <td>Berglund</td>\n",
       "    </tr>\n",
       "    <tr>\n",
       "      <th>34</th>\n",
       "      <td>72</td>\n",
       "      <td>Steven</td>\n",
       "      <td>Selikoff</td>\n",
       "    </tr>\n",
       "    <tr>\n",
       "      <th>36</th>\n",
       "      <td>107</td>\n",
       "      <td>Christopher</td>\n",
       "      <td>Hill</td>\n",
       "    </tr>\n",
       "    <tr>\n",
       "      <th>37</th>\n",
       "      <td>269</td>\n",
       "      <td>Dan</td>\n",
       "      <td>Bacon</td>\n",
       "    </tr>\n",
       "    <tr>\n",
       "      <th>38</th>\n",
       "      <td>187</td>\n",
       "      <td>Yvonne</td>\n",
       "      <td>McKay</td>\n",
       "    </tr>\n",
       "    <tr>\n",
       "      <th>40</th>\n",
       "      <td>12</td>\n",
       "      <td>Thierry</td>\n",
       "      <td>D'Hers</td>\n",
       "    </tr>\n",
       "    <tr>\n",
       "      <th>42</th>\n",
       "      <td>30</td>\n",
       "      <td>Britta</td>\n",
       "      <td>Simon</td>\n",
       "    </tr>\n",
       "    <tr>\n",
       "      <th>43</th>\n",
       "      <td>198</td>\n",
       "      <td>Lorraine</td>\n",
       "      <td>Nay</td>\n",
       "    </tr>\n",
       "    <tr>\n",
       "      <th>45</th>\n",
       "      <td>31</td>\n",
       "      <td>Margie</td>\n",
       "      <td>Shoop</td>\n",
       "    </tr>\n",
       "    <tr>\n",
       "      <th>48</th>\n",
       "      <td>3</td>\n",
       "      <td>Roberto</td>\n",
       "      <td>Tamburello</td>\n",
       "    </tr>\n",
       "    <tr>\n",
       "      <th>49</th>\n",
       "      <td>199</td>\n",
       "      <td>Paula</td>\n",
       "      <td>Nartker</td>\n",
       "    </tr>\n",
       "    <tr>\n",
       "      <th>...</th>\n",
       "      <td>...</td>\n",
       "      <td>...</td>\n",
       "      <td>...</td>\n",
       "    </tr>\n",
       "    <tr>\n",
       "      <th>227</th>\n",
       "      <td>136</td>\n",
       "      <td>Sylvester</td>\n",
       "      <td>Valdez</td>\n",
       "    </tr>\n",
       "    <tr>\n",
       "      <th>231</th>\n",
       "      <td>35</td>\n",
       "      <td>Brandon</td>\n",
       "      <td>Heidepriem</td>\n",
       "    </tr>\n",
       "    <tr>\n",
       "      <th>232</th>\n",
       "      <td>228</td>\n",
       "      <td>Christian</td>\n",
       "      <td>Kleinerman</td>\n",
       "    </tr>\n",
       "    <tr>\n",
       "      <th>233</th>\n",
       "      <td>223</td>\n",
       "      <td>Sairaj</td>\n",
       "      <td>Uddin</td>\n",
       "    </tr>\n",
       "    <tr>\n",
       "      <th>234</th>\n",
       "      <td>100</td>\n",
       "      <td>Lolan</td>\n",
       "      <td>Song</td>\n",
       "    </tr>\n",
       "    <tr>\n",
       "      <th>239</th>\n",
       "      <td>200</td>\n",
       "      <td>Frank</td>\n",
       "      <td>Lee</td>\n",
       "    </tr>\n",
       "    <tr>\n",
       "      <th>240</th>\n",
       "      <td>279</td>\n",
       "      <td>Tsvi</td>\n",
       "      <td>Reiter</td>\n",
       "    </tr>\n",
       "    <tr>\n",
       "      <th>243</th>\n",
       "      <td>73</td>\n",
       "      <td>Carole</td>\n",
       "      <td>Poland</td>\n",
       "    </tr>\n",
       "    <tr>\n",
       "      <th>249</th>\n",
       "      <td>21</td>\n",
       "      <td>Terry</td>\n",
       "      <td>Eminhizer</td>\n",
       "    </tr>\n",
       "    <tr>\n",
       "      <th>252</th>\n",
       "      <td>254</td>\n",
       "      <td>Fukiko</td>\n",
       "      <td>Ogisu</td>\n",
       "    </tr>\n",
       "    <tr>\n",
       "      <th>255</th>\n",
       "      <td>53</td>\n",
       "      <td>Diane</td>\n",
       "      <td>Glimp</td>\n",
       "    </tr>\n",
       "    <tr>\n",
       "      <th>256</th>\n",
       "      <td>282</td>\n",
       "      <td>José</td>\n",
       "      <td>Saraiva</td>\n",
       "    </tr>\n",
       "    <tr>\n",
       "      <th>258</th>\n",
       "      <td>209</td>\n",
       "      <td>Kathie</td>\n",
       "      <td>Flood</td>\n",
       "    </tr>\n",
       "    <tr>\n",
       "      <th>259</th>\n",
       "      <td>50</td>\n",
       "      <td>Sidney</td>\n",
       "      <td>Higa</td>\n",
       "    </tr>\n",
       "    <tr>\n",
       "      <th>261</th>\n",
       "      <td>70</td>\n",
       "      <td>David</td>\n",
       "      <td>Ortiz</td>\n",
       "    </tr>\n",
       "    <tr>\n",
       "      <th>264</th>\n",
       "      <td>140</td>\n",
       "      <td>Prasanna</td>\n",
       "      <td>Samarawickrama</td>\n",
       "    </tr>\n",
       "    <tr>\n",
       "      <th>266</th>\n",
       "      <td>5</td>\n",
       "      <td>Gail</td>\n",
       "      <td>Erickson</td>\n",
       "    </tr>\n",
       "    <tr>\n",
       "      <th>267</th>\n",
       "      <td>252</td>\n",
       "      <td>Arvind</td>\n",
       "      <td>Rao</td>\n",
       "    </tr>\n",
       "    <tr>\n",
       "      <th>269</th>\n",
       "      <td>233</td>\n",
       "      <td>Magnus</td>\n",
       "      <td>Hedlund</td>\n",
       "    </tr>\n",
       "    <tr>\n",
       "      <th>270</th>\n",
       "      <td>83</td>\n",
       "      <td>Patrick</td>\n",
       "      <td>Cook</td>\n",
       "    </tr>\n",
       "    <tr>\n",
       "      <th>272</th>\n",
       "      <td>241</td>\n",
       "      <td>David</td>\n",
       "      <td>Liu</td>\n",
       "    </tr>\n",
       "    <tr>\n",
       "      <th>275</th>\n",
       "      <td>239</td>\n",
       "      <td>Mindy</td>\n",
       "      <td>Martin</td>\n",
       "    </tr>\n",
       "    <tr>\n",
       "      <th>278</th>\n",
       "      <td>38</td>\n",
       "      <td>Kim</td>\n",
       "      <td>Abercrombie</td>\n",
       "    </tr>\n",
       "    <tr>\n",
       "      <th>279</th>\n",
       "      <td>154</td>\n",
       "      <td>Raymond</td>\n",
       "      <td>Sam</td>\n",
       "    </tr>\n",
       "    <tr>\n",
       "      <th>280</th>\n",
       "      <td>114</td>\n",
       "      <td>Mindaugas</td>\n",
       "      <td>Krapauskas</td>\n",
       "    </tr>\n",
       "    <tr>\n",
       "      <th>281</th>\n",
       "      <td>123</td>\n",
       "      <td>Vamsi</td>\n",
       "      <td>Kuppa</td>\n",
       "    </tr>\n",
       "    <tr>\n",
       "      <th>283</th>\n",
       "      <td>101</td>\n",
       "      <td>Houman</td>\n",
       "      <td>Pournasseh</td>\n",
       "    </tr>\n",
       "    <tr>\n",
       "      <th>284</th>\n",
       "      <td>221</td>\n",
       "      <td>Chris</td>\n",
       "      <td>Norred</td>\n",
       "    </tr>\n",
       "    <tr>\n",
       "      <th>288</th>\n",
       "      <td>289</td>\n",
       "      <td>Jae</td>\n",
       "      <td>Pak</td>\n",
       "    </tr>\n",
       "    <tr>\n",
       "      <th>290</th>\n",
       "      <td>999</td>\n",
       "      <td>Chadwick</td>\n",
       "      <td>Smith</td>\n",
       "    </tr>\n",
       "  </tbody>\n",
       "</table>\n",
       "<p>147 rows × 3 columns</p>\n",
       "</div>"
      ],
      "text/plain": [
       "     EmployeeID    FirstName        LastName\n",
       "0           259          Ben          Miller\n",
       "1           278      Garrett          Vargas\n",
       "2           204         Gabe           Mares\n",
       "3            78       Reuben            D'sa\n",
       "4           255       Gordon             Hee\n",
       "10           10      Michael          Raheem\n",
       "12          175         Reed            Koch\n",
       "14          144         Paul           Singh\n",
       "15          192       Brenda            Diaz\n",
       "18          203          Ken            Myer\n",
       "19          245      Barbara        Moreland\n",
       "24          163         Alex         Nayberg\n",
       "25          118          Don            Hall\n",
       "26          176        David        Lawrence\n",
       "27          147       Sandra  Reátegui Alayo\n",
       "28          138     Samantha           Smith\n",
       "29           95          Jim       Scardelis\n",
       "30          231           Jo           Berry\n",
       "31           86         Ryan       Cornelsen\n",
       "33          214      Andreas        Berglund\n",
       "34           72       Steven        Selikoff\n",
       "36          107  Christopher            Hill\n",
       "37          269          Dan           Bacon\n",
       "38          187       Yvonne           McKay\n",
       "40           12      Thierry          D'Hers\n",
       "42           30       Britta           Simon\n",
       "43          198     Lorraine             Nay\n",
       "45           31       Margie           Shoop\n",
       "48            3      Roberto      Tamburello\n",
       "49          199        Paula         Nartker\n",
       "..          ...          ...             ...\n",
       "227         136    Sylvester          Valdez\n",
       "231          35      Brandon      Heidepriem\n",
       "232         228    Christian      Kleinerman\n",
       "233         223       Sairaj           Uddin\n",
       "234         100        Lolan            Song\n",
       "239         200        Frank             Lee\n",
       "240         279         Tsvi          Reiter\n",
       "243          73       Carole          Poland\n",
       "249          21        Terry       Eminhizer\n",
       "252         254       Fukiko           Ogisu\n",
       "255          53        Diane           Glimp\n",
       "256         282         José         Saraiva\n",
       "258         209       Kathie           Flood\n",
       "259          50       Sidney            Higa\n",
       "261          70        David           Ortiz\n",
       "264         140     Prasanna  Samarawickrama\n",
       "266           5         Gail        Erickson\n",
       "267         252       Arvind             Rao\n",
       "269         233       Magnus         Hedlund\n",
       "270          83      Patrick            Cook\n",
       "272         241        David             Liu\n",
       "275         239        Mindy          Martin\n",
       "278          38          Kim     Abercrombie\n",
       "279         154      Raymond             Sam\n",
       "280         114    Mindaugas      Krapauskas\n",
       "281         123        Vamsi           Kuppa\n",
       "283         101       Houman      Pournasseh\n",
       "284         221        Chris          Norred\n",
       "288         289          Jae             Pak\n",
       "290         999     Chadwick           Smith\n",
       "\n",
       "[147 rows x 3 columns]"
      ]
     },
     "execution_count": 9,
     "metadata": {},
     "output_type": "execute_result"
    }
   ],
   "source": [
    "Empoyees.loc[Empoyees.MaritalStatus == 'M', ['EmployeeID', 'FirstName', 'LastName']]"
   ]
  },
  {
   "cell_type": "markdown",
   "metadata": {},
   "source": [
    "### 2a. Show me a list of employees that have a lastname that begins with \"R\"."
   ]
  },
  {
   "cell_type": "raw",
   "metadata": {},
   "source": [
    "SELECT e.EmployeeID, e.FirstName, e.LastName FROM dbo.Employees AS e\n",
    "\tWHERE e.LastName LIKE 'R%';"
   ]
  },
  {
   "cell_type": "code",
   "execution_count": 12,
   "metadata": {},
   "outputs": [
    {
     "data": {
      "text/html": [
       "<div>\n",
       "<style scoped>\n",
       "    .dataframe tbody tr th:only-of-type {\n",
       "        vertical-align: middle;\n",
       "    }\n",
       "\n",
       "    .dataframe tbody tr th {\n",
       "        vertical-align: top;\n",
       "    }\n",
       "\n",
       "    .dataframe thead th {\n",
       "        text-align: right;\n",
       "    }\n",
       "</style>\n",
       "<table border=\"1\" class=\"dataframe\">\n",
       "  <thead>\n",
       "    <tr style=\"text-align: right;\">\n",
       "      <th></th>\n",
       "      <th>EmployeeID</th>\n",
       "      <th>FirstName</th>\n",
       "      <th>LastName</th>\n",
       "    </tr>\n",
       "  </thead>\n",
       "  <tbody>\n",
       "    <tr>\n",
       "      <th>0</th>\n",
       "      <td>NaN</td>\n",
       "      <td>NaN</td>\n",
       "      <td>NaN</td>\n",
       "    </tr>\n",
       "    <tr>\n",
       "      <th>1</th>\n",
       "      <td>NaN</td>\n",
       "      <td>NaN</td>\n",
       "      <td>NaN</td>\n",
       "    </tr>\n",
       "    <tr>\n",
       "      <th>2</th>\n",
       "      <td>NaN</td>\n",
       "      <td>NaN</td>\n",
       "      <td>NaN</td>\n",
       "    </tr>\n",
       "    <tr>\n",
       "      <th>3</th>\n",
       "      <td>NaN</td>\n",
       "      <td>NaN</td>\n",
       "      <td>NaN</td>\n",
       "    </tr>\n",
       "    <tr>\n",
       "      <th>4</th>\n",
       "      <td>NaN</td>\n",
       "      <td>NaN</td>\n",
       "      <td>NaN</td>\n",
       "    </tr>\n",
       "    <tr>\n",
       "      <th>5</th>\n",
       "      <td>NaN</td>\n",
       "      <td>NaN</td>\n",
       "      <td>NaN</td>\n",
       "    </tr>\n",
       "    <tr>\n",
       "      <th>6</th>\n",
       "      <td>NaN</td>\n",
       "      <td>NaN</td>\n",
       "      <td>NaN</td>\n",
       "    </tr>\n",
       "    <tr>\n",
       "      <th>7</th>\n",
       "      <td>NaN</td>\n",
       "      <td>NaN</td>\n",
       "      <td>NaN</td>\n",
       "    </tr>\n",
       "    <tr>\n",
       "      <th>8</th>\n",
       "      <td>NaN</td>\n",
       "      <td>NaN</td>\n",
       "      <td>NaN</td>\n",
       "    </tr>\n",
       "    <tr>\n",
       "      <th>9</th>\n",
       "      <td>124.0</td>\n",
       "      <td>Kim</td>\n",
       "      <td>Ralls</td>\n",
       "    </tr>\n",
       "    <tr>\n",
       "      <th>10</th>\n",
       "      <td>10.0</td>\n",
       "      <td>Michael</td>\n",
       "      <td>Raheem</td>\n",
       "    </tr>\n",
       "    <tr>\n",
       "      <th>11</th>\n",
       "      <td>NaN</td>\n",
       "      <td>NaN</td>\n",
       "      <td>NaN</td>\n",
       "    </tr>\n",
       "    <tr>\n",
       "      <th>12</th>\n",
       "      <td>NaN</td>\n",
       "      <td>NaN</td>\n",
       "      <td>NaN</td>\n",
       "    </tr>\n",
       "    <tr>\n",
       "      <th>13</th>\n",
       "      <td>NaN</td>\n",
       "      <td>NaN</td>\n",
       "      <td>NaN</td>\n",
       "    </tr>\n",
       "    <tr>\n",
       "      <th>14</th>\n",
       "      <td>NaN</td>\n",
       "      <td>NaN</td>\n",
       "      <td>NaN</td>\n",
       "    </tr>\n",
       "    <tr>\n",
       "      <th>15</th>\n",
       "      <td>NaN</td>\n",
       "      <td>NaN</td>\n",
       "      <td>NaN</td>\n",
       "    </tr>\n",
       "    <tr>\n",
       "      <th>16</th>\n",
       "      <td>166.0</td>\n",
       "      <td>Jack</td>\n",
       "      <td>Richins</td>\n",
       "    </tr>\n",
       "    <tr>\n",
       "      <th>17</th>\n",
       "      <td>NaN</td>\n",
       "      <td>NaN</td>\n",
       "      <td>NaN</td>\n",
       "    </tr>\n",
       "    <tr>\n",
       "      <th>18</th>\n",
       "      <td>NaN</td>\n",
       "      <td>NaN</td>\n",
       "      <td>NaN</td>\n",
       "    </tr>\n",
       "    <tr>\n",
       "      <th>19</th>\n",
       "      <td>NaN</td>\n",
       "      <td>NaN</td>\n",
       "      <td>NaN</td>\n",
       "    </tr>\n",
       "    <tr>\n",
       "      <th>20</th>\n",
       "      <td>NaN</td>\n",
       "      <td>NaN</td>\n",
       "      <td>NaN</td>\n",
       "    </tr>\n",
       "    <tr>\n",
       "      <th>21</th>\n",
       "      <td>NaN</td>\n",
       "      <td>NaN</td>\n",
       "      <td>NaN</td>\n",
       "    </tr>\n",
       "    <tr>\n",
       "      <th>22</th>\n",
       "      <td>NaN</td>\n",
       "      <td>NaN</td>\n",
       "      <td>NaN</td>\n",
       "    </tr>\n",
       "    <tr>\n",
       "      <th>23</th>\n",
       "      <td>NaN</td>\n",
       "      <td>NaN</td>\n",
       "      <td>NaN</td>\n",
       "    </tr>\n",
       "    <tr>\n",
       "      <th>24</th>\n",
       "      <td>NaN</td>\n",
       "      <td>NaN</td>\n",
       "      <td>NaN</td>\n",
       "    </tr>\n",
       "    <tr>\n",
       "      <th>25</th>\n",
       "      <td>NaN</td>\n",
       "      <td>NaN</td>\n",
       "      <td>NaN</td>\n",
       "    </tr>\n",
       "    <tr>\n",
       "      <th>26</th>\n",
       "      <td>NaN</td>\n",
       "      <td>NaN</td>\n",
       "      <td>NaN</td>\n",
       "    </tr>\n",
       "    <tr>\n",
       "      <th>27</th>\n",
       "      <td>147.0</td>\n",
       "      <td>Sandra</td>\n",
       "      <td>Reátegui Alayo</td>\n",
       "    </tr>\n",
       "    <tr>\n",
       "      <th>28</th>\n",
       "      <td>NaN</td>\n",
       "      <td>NaN</td>\n",
       "      <td>NaN</td>\n",
       "    </tr>\n",
       "    <tr>\n",
       "      <th>29</th>\n",
       "      <td>NaN</td>\n",
       "      <td>NaN</td>\n",
       "      <td>NaN</td>\n",
       "    </tr>\n",
       "    <tr>\n",
       "      <th>...</th>\n",
       "      <td>...</td>\n",
       "      <td>...</td>\n",
       "      <td>...</td>\n",
       "    </tr>\n",
       "    <tr>\n",
       "      <th>261</th>\n",
       "      <td>NaN</td>\n",
       "      <td>NaN</td>\n",
       "      <td>NaN</td>\n",
       "    </tr>\n",
       "    <tr>\n",
       "      <th>262</th>\n",
       "      <td>NaN</td>\n",
       "      <td>NaN</td>\n",
       "      <td>NaN</td>\n",
       "    </tr>\n",
       "    <tr>\n",
       "      <th>263</th>\n",
       "      <td>NaN</td>\n",
       "      <td>NaN</td>\n",
       "      <td>NaN</td>\n",
       "    </tr>\n",
       "    <tr>\n",
       "      <th>264</th>\n",
       "      <td>NaN</td>\n",
       "      <td>NaN</td>\n",
       "      <td>NaN</td>\n",
       "    </tr>\n",
       "    <tr>\n",
       "      <th>265</th>\n",
       "      <td>NaN</td>\n",
       "      <td>NaN</td>\n",
       "      <td>NaN</td>\n",
       "    </tr>\n",
       "    <tr>\n",
       "      <th>266</th>\n",
       "      <td>NaN</td>\n",
       "      <td>NaN</td>\n",
       "      <td>NaN</td>\n",
       "    </tr>\n",
       "    <tr>\n",
       "      <th>267</th>\n",
       "      <td>252.0</td>\n",
       "      <td>Arvind</td>\n",
       "      <td>Rao</td>\n",
       "    </tr>\n",
       "    <tr>\n",
       "      <th>268</th>\n",
       "      <td>NaN</td>\n",
       "      <td>NaN</td>\n",
       "      <td>NaN</td>\n",
       "    </tr>\n",
       "    <tr>\n",
       "      <th>269</th>\n",
       "      <td>NaN</td>\n",
       "      <td>NaN</td>\n",
       "      <td>NaN</td>\n",
       "    </tr>\n",
       "    <tr>\n",
       "      <th>270</th>\n",
       "      <td>NaN</td>\n",
       "      <td>NaN</td>\n",
       "      <td>NaN</td>\n",
       "    </tr>\n",
       "    <tr>\n",
       "      <th>271</th>\n",
       "      <td>NaN</td>\n",
       "      <td>NaN</td>\n",
       "      <td>NaN</td>\n",
       "    </tr>\n",
       "    <tr>\n",
       "      <th>272</th>\n",
       "      <td>NaN</td>\n",
       "      <td>NaN</td>\n",
       "      <td>NaN</td>\n",
       "    </tr>\n",
       "    <tr>\n",
       "      <th>273</th>\n",
       "      <td>NaN</td>\n",
       "      <td>NaN</td>\n",
       "      <td>NaN</td>\n",
       "    </tr>\n",
       "    <tr>\n",
       "      <th>274</th>\n",
       "      <td>NaN</td>\n",
       "      <td>NaN</td>\n",
       "      <td>NaN</td>\n",
       "    </tr>\n",
       "    <tr>\n",
       "      <th>275</th>\n",
       "      <td>NaN</td>\n",
       "      <td>NaN</td>\n",
       "      <td>NaN</td>\n",
       "    </tr>\n",
       "    <tr>\n",
       "      <th>276</th>\n",
       "      <td>NaN</td>\n",
       "      <td>NaN</td>\n",
       "      <td>NaN</td>\n",
       "    </tr>\n",
       "    <tr>\n",
       "      <th>277</th>\n",
       "      <td>NaN</td>\n",
       "      <td>NaN</td>\n",
       "      <td>NaN</td>\n",
       "    </tr>\n",
       "    <tr>\n",
       "      <th>278</th>\n",
       "      <td>NaN</td>\n",
       "      <td>NaN</td>\n",
       "      <td>NaN</td>\n",
       "    </tr>\n",
       "    <tr>\n",
       "      <th>279</th>\n",
       "      <td>NaN</td>\n",
       "      <td>NaN</td>\n",
       "      <td>NaN</td>\n",
       "    </tr>\n",
       "    <tr>\n",
       "      <th>280</th>\n",
       "      <td>NaN</td>\n",
       "      <td>NaN</td>\n",
       "      <td>NaN</td>\n",
       "    </tr>\n",
       "    <tr>\n",
       "      <th>281</th>\n",
       "      <td>NaN</td>\n",
       "      <td>NaN</td>\n",
       "      <td>NaN</td>\n",
       "    </tr>\n",
       "    <tr>\n",
       "      <th>282</th>\n",
       "      <td>NaN</td>\n",
       "      <td>NaN</td>\n",
       "      <td>NaN</td>\n",
       "    </tr>\n",
       "    <tr>\n",
       "      <th>283</th>\n",
       "      <td>NaN</td>\n",
       "      <td>NaN</td>\n",
       "      <td>NaN</td>\n",
       "    </tr>\n",
       "    <tr>\n",
       "      <th>284</th>\n",
       "      <td>NaN</td>\n",
       "      <td>NaN</td>\n",
       "      <td>NaN</td>\n",
       "    </tr>\n",
       "    <tr>\n",
       "      <th>285</th>\n",
       "      <td>NaN</td>\n",
       "      <td>NaN</td>\n",
       "      <td>NaN</td>\n",
       "    </tr>\n",
       "    <tr>\n",
       "      <th>286</th>\n",
       "      <td>NaN</td>\n",
       "      <td>NaN</td>\n",
       "      <td>NaN</td>\n",
       "    </tr>\n",
       "    <tr>\n",
       "      <th>287</th>\n",
       "      <td>NaN</td>\n",
       "      <td>NaN</td>\n",
       "      <td>NaN</td>\n",
       "    </tr>\n",
       "    <tr>\n",
       "      <th>288</th>\n",
       "      <td>NaN</td>\n",
       "      <td>NaN</td>\n",
       "      <td>NaN</td>\n",
       "    </tr>\n",
       "    <tr>\n",
       "      <th>289</th>\n",
       "      <td>NaN</td>\n",
       "      <td>NaN</td>\n",
       "      <td>NaN</td>\n",
       "    </tr>\n",
       "    <tr>\n",
       "      <th>290</th>\n",
       "      <td>NaN</td>\n",
       "      <td>NaN</td>\n",
       "      <td>NaN</td>\n",
       "    </tr>\n",
       "  </tbody>\n",
       "</table>\n",
       "<p>291 rows × 3 columns</p>\n",
       "</div>"
      ],
      "text/plain": [
       "     EmployeeID FirstName        LastName\n",
       "0           NaN       NaN             NaN\n",
       "1           NaN       NaN             NaN\n",
       "2           NaN       NaN             NaN\n",
       "3           NaN       NaN             NaN\n",
       "4           NaN       NaN             NaN\n",
       "5           NaN       NaN             NaN\n",
       "6           NaN       NaN             NaN\n",
       "7           NaN       NaN             NaN\n",
       "8           NaN       NaN             NaN\n",
       "9         124.0       Kim           Ralls\n",
       "10         10.0   Michael          Raheem\n",
       "11          NaN       NaN             NaN\n",
       "12          NaN       NaN             NaN\n",
       "13          NaN       NaN             NaN\n",
       "14          NaN       NaN             NaN\n",
       "15          NaN       NaN             NaN\n",
       "16        166.0      Jack         Richins\n",
       "17          NaN       NaN             NaN\n",
       "18          NaN       NaN             NaN\n",
       "19          NaN       NaN             NaN\n",
       "20          NaN       NaN             NaN\n",
       "21          NaN       NaN             NaN\n",
       "22          NaN       NaN             NaN\n",
       "23          NaN       NaN             NaN\n",
       "24          NaN       NaN             NaN\n",
       "25          NaN       NaN             NaN\n",
       "26          NaN       NaN             NaN\n",
       "27        147.0    Sandra  Reátegui Alayo\n",
       "28          NaN       NaN             NaN\n",
       "29          NaN       NaN             NaN\n",
       "..          ...       ...             ...\n",
       "261         NaN       NaN             NaN\n",
       "262         NaN       NaN             NaN\n",
       "263         NaN       NaN             NaN\n",
       "264         NaN       NaN             NaN\n",
       "265         NaN       NaN             NaN\n",
       "266         NaN       NaN             NaN\n",
       "267       252.0    Arvind             Rao\n",
       "268         NaN       NaN             NaN\n",
       "269         NaN       NaN             NaN\n",
       "270         NaN       NaN             NaN\n",
       "271         NaN       NaN             NaN\n",
       "272         NaN       NaN             NaN\n",
       "273         NaN       NaN             NaN\n",
       "274         NaN       NaN             NaN\n",
       "275         NaN       NaN             NaN\n",
       "276         NaN       NaN             NaN\n",
       "277         NaN       NaN             NaN\n",
       "278         NaN       NaN             NaN\n",
       "279         NaN       NaN             NaN\n",
       "280         NaN       NaN             NaN\n",
       "281         NaN       NaN             NaN\n",
       "282         NaN       NaN             NaN\n",
       "283         NaN       NaN             NaN\n",
       "284         NaN       NaN             NaN\n",
       "285         NaN       NaN             NaN\n",
       "286         NaN       NaN             NaN\n",
       "287         NaN       NaN             NaN\n",
       "288         NaN       NaN             NaN\n",
       "289         NaN       NaN             NaN\n",
       "290         NaN       NaN             NaN\n",
       "\n",
       "[291 rows x 3 columns]"
      ]
     },
     "execution_count": 12,
     "metadata": {},
     "output_type": "execute_result"
    }
   ],
   "source": [
    "Empoyees[['EmployeeID', 'FirstName', 'LastName']].where(Empoyees.LastName.str.startswith(\"R\"))"
   ]
  },
  {
   "cell_type": "markdown",
   "metadata": {},
   "source": [
    "### 2b. Show me a list of employees that have a lastname that ends with \"r\""
   ]
  },
  {
   "cell_type": "raw",
   "metadata": {},
   "source": [
    "SELECT e.EmployeeID, e.FirstName, e.LastName FROM dbo.Employees AS e\n",
    "\tWHERE e.LastName LIKE '%r';"
   ]
  },
  {
   "cell_type": "code",
   "execution_count": 11,
   "metadata": {},
   "outputs": [
    {
     "data": {
      "text/html": [
       "<div>\n",
       "<style scoped>\n",
       "    .dataframe tbody tr th:only-of-type {\n",
       "        vertical-align: middle;\n",
       "    }\n",
       "\n",
       "    .dataframe tbody tr th {\n",
       "        vertical-align: top;\n",
       "    }\n",
       "\n",
       "    .dataframe thead th {\n",
       "        text-align: right;\n",
       "    }\n",
       "</style>\n",
       "<table border=\"1\" class=\"dataframe\">\n",
       "  <thead>\n",
       "    <tr style=\"text-align: right;\">\n",
       "      <th></th>\n",
       "      <th>EmployeeID</th>\n",
       "      <th>FirstName</th>\n",
       "      <th>LastName</th>\n",
       "    </tr>\n",
       "  </thead>\n",
       "  <tbody>\n",
       "    <tr>\n",
       "      <th>0</th>\n",
       "      <td>259</td>\n",
       "      <td>Ben</td>\n",
       "      <td>Miller</td>\n",
       "    </tr>\n",
       "    <tr>\n",
       "      <th>8</th>\n",
       "      <td>161</td>\n",
       "      <td>Kirk</td>\n",
       "      <td>Koenigsbauer</td>\n",
       "    </tr>\n",
       "    <tr>\n",
       "      <th>18</th>\n",
       "      <td>203</td>\n",
       "      <td>Ken</td>\n",
       "      <td>Myer</td>\n",
       "    </tr>\n",
       "    <tr>\n",
       "      <th>49</th>\n",
       "      <td>199</td>\n",
       "      <td>Paula</td>\n",
       "      <td>Nartker</td>\n",
       "    </tr>\n",
       "    <tr>\n",
       "      <th>53</th>\n",
       "      <td>41</td>\n",
       "      <td>Bryan</td>\n",
       "      <td>Baker</td>\n",
       "    </tr>\n",
       "    <tr>\n",
       "      <th>56</th>\n",
       "      <td>104</td>\n",
       "      <td>Mary</td>\n",
       "      <td>Baker</td>\n",
       "    </tr>\n",
       "    <tr>\n",
       "      <th>64</th>\n",
       "      <td>225</td>\n",
       "      <td>Alan</td>\n",
       "      <td>Brewer</td>\n",
       "    </tr>\n",
       "    <tr>\n",
       "      <th>75</th>\n",
       "      <td>156</td>\n",
       "      <td>Lane</td>\n",
       "      <td>Sacksteder</td>\n",
       "    </tr>\n",
       "    <tr>\n",
       "      <th>95</th>\n",
       "      <td>44</td>\n",
       "      <td>Simon</td>\n",
       "      <td>Rapier</td>\n",
       "    </tr>\n",
       "    <tr>\n",
       "      <th>97</th>\n",
       "      <td>96</td>\n",
       "      <td>Elizabeth</td>\n",
       "      <td>Keyser</td>\n",
       "    </tr>\n",
       "    <tr>\n",
       "      <th>98</th>\n",
       "      <td>229</td>\n",
       "      <td>Lori</td>\n",
       "      <td>Penor</td>\n",
       "    </tr>\n",
       "    <tr>\n",
       "      <th>127</th>\n",
       "      <td>39</td>\n",
       "      <td>Ed</td>\n",
       "      <td>Dudenhoefer</td>\n",
       "    </tr>\n",
       "    <tr>\n",
       "      <th>129</th>\n",
       "      <td>42</td>\n",
       "      <td>James</td>\n",
       "      <td>Kramer</td>\n",
       "    </tr>\n",
       "    <tr>\n",
       "      <th>165</th>\n",
       "      <td>117</td>\n",
       "      <td>Chad</td>\n",
       "      <td>Niswonger</td>\n",
       "    </tr>\n",
       "    <tr>\n",
       "      <th>168</th>\n",
       "      <td>57</td>\n",
       "      <td>Frank</td>\n",
       "      <td>Miller</td>\n",
       "    </tr>\n",
       "    <tr>\n",
       "      <th>172</th>\n",
       "      <td>105</td>\n",
       "      <td>Kevin</td>\n",
       "      <td>Homer</td>\n",
       "    </tr>\n",
       "    <tr>\n",
       "      <th>173</th>\n",
       "      <td>253</td>\n",
       "      <td>Linda</td>\n",
       "      <td>Meisner</td>\n",
       "    </tr>\n",
       "    <tr>\n",
       "      <th>196</th>\n",
       "      <td>7</td>\n",
       "      <td>Dylan</td>\n",
       "      <td>Miller</td>\n",
       "    </tr>\n",
       "    <tr>\n",
       "      <th>200</th>\n",
       "      <td>183</td>\n",
       "      <td>Barbara</td>\n",
       "      <td>Decker</td>\n",
       "    </tr>\n",
       "    <tr>\n",
       "      <th>203</th>\n",
       "      <td>142</td>\n",
       "      <td>Olinda</td>\n",
       "      <td>Turner</td>\n",
       "    </tr>\n",
       "    <tr>\n",
       "      <th>216</th>\n",
       "      <td>94</td>\n",
       "      <td>Russell</td>\n",
       "      <td>Hunter</td>\n",
       "    </tr>\n",
       "    <tr>\n",
       "      <th>222</th>\n",
       "      <td>273</td>\n",
       "      <td>Brian</td>\n",
       "      <td>Welcker</td>\n",
       "    </tr>\n",
       "    <tr>\n",
       "      <th>229</th>\n",
       "      <td>216</td>\n",
       "      <td>Sean</td>\n",
       "      <td>Alexander</td>\n",
       "    </tr>\n",
       "    <tr>\n",
       "      <th>240</th>\n",
       "      <td>279</td>\n",
       "      <td>Tsvi</td>\n",
       "      <td>Reiter</td>\n",
       "    </tr>\n",
       "    <tr>\n",
       "      <th>249</th>\n",
       "      <td>21</td>\n",
       "      <td>Terry</td>\n",
       "      <td>Eminhizer</td>\n",
       "    </tr>\n",
       "    <tr>\n",
       "      <th>254</th>\n",
       "      <td>262</td>\n",
       "      <td>David</td>\n",
       "      <td>Barber</td>\n",
       "    </tr>\n",
       "    <tr>\n",
       "      <th>282</th>\n",
       "      <td>29</td>\n",
       "      <td>Mark</td>\n",
       "      <td>McArthur</td>\n",
       "    </tr>\n",
       "  </tbody>\n",
       "</table>\n",
       "</div>"
      ],
      "text/plain": [
       "     EmployeeID  FirstName      LastName\n",
       "0           259        Ben        Miller\n",
       "8           161       Kirk  Koenigsbauer\n",
       "18          203        Ken          Myer\n",
       "49          199      Paula       Nartker\n",
       "53           41      Bryan         Baker\n",
       "56          104       Mary         Baker\n",
       "64          225       Alan        Brewer\n",
       "75          156       Lane    Sacksteder\n",
       "95           44      Simon        Rapier\n",
       "97           96  Elizabeth        Keyser\n",
       "98          229       Lori         Penor\n",
       "127          39         Ed   Dudenhoefer\n",
       "129          42      James        Kramer\n",
       "165         117       Chad     Niswonger\n",
       "168          57      Frank        Miller\n",
       "172         105      Kevin         Homer\n",
       "173         253      Linda       Meisner\n",
       "196           7      Dylan        Miller\n",
       "200         183    Barbara        Decker\n",
       "203         142     Olinda        Turner\n",
       "216          94    Russell        Hunter\n",
       "222         273      Brian       Welcker\n",
       "229         216       Sean     Alexander\n",
       "240         279       Tsvi        Reiter\n",
       "249          21      Terry     Eminhizer\n",
       "254         262      David        Barber\n",
       "282          29       Mark      McArthur"
      ]
     },
     "execution_count": 11,
     "metadata": {},
     "output_type": "execute_result"
    }
   ],
   "source": [
    "Empoyees.loc[Empoyees.LastName.str.endswith(\"r\"), ['EmployeeID', 'FirstName', 'LastName']]"
   ]
  },
  {
   "cell_type": "markdown",
   "metadata": {},
   "source": [
    "### 2c. Provide a list of employees that have a hyphenated lastname."
   ]
  },
  {
   "cell_type": "raw",
   "metadata": {},
   "source": [
    "SELECT e.EmployeeID, e.FirstName, e.LastName FROM dbo.Employees AS e\n",
    "\tWHERE e.LastName LIKE '%-%';"
   ]
  },
  {
   "cell_type": "code",
   "execution_count": null,
   "metadata": {
    "collapsed": true
   },
   "outputs": [],
   "source": []
  },
  {
   "cell_type": "markdown",
   "metadata": {},
   "source": [
    "### 3a. Provide a list of employees that are on salary and have more than 35 vacation hours left."
   ]
  },
  {
   "cell_type": "raw",
   "metadata": {},
   "source": [
    "SELECT \te.EmployeeID\n",
    "\t\t,e.FirstName\n",
    "\t\t,e.LastName\n",
    "\t\t,e.VacationHours\n",
    "\t\t,e.SalariedFlag\n",
    "\tFROM dbo.Employees AS e\n",
    "\tWHERE (e.SalariedFlag = 1) AND (e.VacationHours > 35);"
   ]
  },
  {
   "cell_type": "code",
   "execution_count": null,
   "metadata": {
    "collapsed": true
   },
   "outputs": [],
   "source": []
  },
  {
   "cell_type": "markdown",
   "metadata": {},
   "source": [
    "### 3b. Show the same as above but limit it to American employees."
   ]
  },
  {
   "cell_type": "raw",
   "metadata": {},
   "source": [
    "SELECT DISTINCT CountryName FROM dbo.Employees;\n",
    "\n",
    "SELECT \te.EmployeeID\n",
    "\t\t,e.FirstName\n",
    "\t\t,e.LastName\n",
    "\t\t,e.VacationHours\n",
    "\t\t,e.SalariedFlag\n",
    "\t\t,e.CountryName\n",
    "\tFROM dbo.Employees AS e\n",
    "\tWHERE (e.SalariedFlag = 1) AND (e.VacationHours > 5) AND e.CountryName = 'United States';"
   ]
  },
  {
   "cell_type": "code",
   "execution_count": null,
   "metadata": {
    "collapsed": true
   },
   "outputs": [],
   "source": []
  },
  {
   "cell_type": "markdown",
   "metadata": {},
   "source": [
    "### 3c. Show the same as above but limit it to non-US employees."
   ]
  },
  {
   "cell_type": "raw",
   "metadata": {},
   "source": [
    "SELECT \te.EmployeeID\n",
    "\t\t,e.FirstName\n",
    "\t\t,e.LastName\n",
    "\t\t,e.VacationHours\n",
    "\t\t,e.SalariedFlag\n",
    "\t\t,e.CountryName\n",
    "\tFROM dbo.Employees AS e\n",
    "\tWHERE (e.SalariedFlag = 1) AND (e.VacationHours > 5) AND e.CountryName != 'United States';"
   ]
  },
  {
   "cell_type": "code",
   "execution_count": null,
   "metadata": {
    "collapsed": true
   },
   "outputs": [],
   "source": []
  },
  {
   "cell_type": "markdown",
   "metadata": {},
   "source": [
    "### 4a. List the married employees with more than 35 vacation hours, only ones living in Washington state."
   ]
  },
  {
   "cell_type": "raw",
   "metadata": {},
   "source": [
    "SELECT \te.EmployeeID\n",
    "\t\t,e.FirstName\n",
    "\t\t,e.LastName\n",
    "\t\t,e.VacationHours\n",
    "\t\t,e.SalariedFlag\n",
    "\t\t,e.StateProvinceName\n",
    "\t\t,e.CountryName\n",
    "\tFROM dbo.Employees AS e\n",
    "\tWHERE e.MaritalStatus = 'M' AND e.VacationHours > 35 AND e.StateProvinceName = 'Washington'\n",
    "\t;"
   ]
  },
  {
   "cell_type": "code",
   "execution_count": null,
   "metadata": {
    "collapsed": true
   },
   "outputs": [],
   "source": []
  },
  {
   "cell_type": "markdown",
   "metadata": {},
   "source": [
    "### 4b. Change the logic to include anyone who meets any of the 3 conditions (i.e., people who are either married, live in Washington state, or have more than 35 vacation hours left)"
   ]
  },
  {
   "cell_type": "raw",
   "metadata": {},
   "source": [
    "SELECT \te.EmployeeID\n",
    "\t\t,e.FirstName\n",
    "\t\t,e.LastName\n",
    "\t\t,e.MaritalStatus\n",
    "\t\t,e.VacationHours\n",
    "\t\t,e.SalariedFlag\n",
    "\t\t,e.StateProvinceName\n",
    "\t\t,e.CountryName\n",
    "\tFROM dbo.Employees AS e\n",
    "\tWHERE e.MaritalStatus = 'M' OR e.VacationHours > 35 OR e.StateProvinceName = 'Washington'\n",
    "\t;"
   ]
  },
  {
   "cell_type": "code",
   "execution_count": null,
   "metadata": {
    "collapsed": true
   },
   "outputs": [],
   "source": []
  },
  {
   "cell_type": "markdown",
   "metadata": {},
   "source": [
    "### 4c. Show the same as above, but only for Production Technicians"
   ]
  },
  {
   "cell_type": "raw",
   "metadata": {},
   "source": [
    "SELECT DISTINCT JobTitle FROM dbo.Employees; --- look at job titles\n",
    "\n",
    "SELECT \te.EmployeeID\n",
    "\t\t,e.FirstName\n",
    "\t\t,e.LastName\n",
    "\t\t,e.MaritalStatus\n",
    "\t\t,e.JobTitle\n",
    "\t\t,e.VacationHours\n",
    "\t\t,e.SalariedFlag\n",
    "\t\t,e.StateProvinceName\n",
    "\t\t,e.CountryName\n",
    "\tFROM dbo.Employees AS e\n",
    "\tWHERE e.JobTitle LIKE 'Production Technician%'\n",
    "\t\t AND (e.MaritalStatus = 'M' OR e.VacationHours > 35 OR e.StateProvinceName = 'Washington')\n",
    "\t;"
   ]
  },
  {
   "cell_type": "code",
   "execution_count": 15,
   "metadata": {},
   "outputs": [
    {
     "ename": "AttributeError",
     "evalue": "'Series' object has no attribute 'startswith'",
     "output_type": "error",
     "traceback": [
      "\u001b[0;31m---------------------------------------------------------------------------\u001b[0m",
      "\u001b[0;31mAttributeError\u001b[0m                            Traceback (most recent call last)",
      "\u001b[0;32m<ipython-input-15-50c9647f282b>\u001b[0m in \u001b[0;36m<module>\u001b[0;34m()\u001b[0m\n\u001b[0;32m----> 1\u001b[0;31m \u001b[0mEmpoyees\u001b[0m\u001b[0;34m.\u001b[0m\u001b[0mloc\u001b[0m\u001b[0;34m[\u001b[0m\u001b[0mEmpoyees\u001b[0m\u001b[0;34m.\u001b[0m\u001b[0mJobTitle\u001b[0m\u001b[0;34m.\u001b[0m\u001b[0mstr\u001b[0m\u001b[0;34m.\u001b[0m\u001b[0mlower\u001b[0m\u001b[0;34m(\u001b[0m\u001b[0;34m)\u001b[0m\u001b[0;34m.\u001b[0m\u001b[0mstartswith\u001b[0m\u001b[0;34m(\u001b[0m\u001b[0;34m'p'\u001b[0m\u001b[0;34m)\u001b[0m\u001b[0;34m]\u001b[0m\u001b[0;34m[\u001b[0m\u001b[0;34m'JobTitle'\u001b[0m\u001b[0;34m]\u001b[0m\u001b[0;34m\u001b[0m\u001b[0;34m\u001b[0m\u001b[0m\n\u001b[0m",
      "\u001b[0;32m/usr/local/lib64/python3.6/site-packages/pandas/core/generic.py\u001b[0m in \u001b[0;36m__getattr__\u001b[0;34m(self, name)\u001b[0m\n\u001b[1;32m   5065\u001b[0m             \u001b[0;32mif\u001b[0m \u001b[0mself\u001b[0m\u001b[0;34m.\u001b[0m\u001b[0m_info_axis\u001b[0m\u001b[0;34m.\u001b[0m\u001b[0m_can_hold_identifiers_and_holds_name\u001b[0m\u001b[0;34m(\u001b[0m\u001b[0mname\u001b[0m\u001b[0;34m)\u001b[0m\u001b[0;34m:\u001b[0m\u001b[0;34m\u001b[0m\u001b[0;34m\u001b[0m\u001b[0m\n\u001b[1;32m   5066\u001b[0m                 \u001b[0;32mreturn\u001b[0m \u001b[0mself\u001b[0m\u001b[0;34m[\u001b[0m\u001b[0mname\u001b[0m\u001b[0;34m]\u001b[0m\u001b[0;34m\u001b[0m\u001b[0;34m\u001b[0m\u001b[0m\n\u001b[0;32m-> 5067\u001b[0;31m             \u001b[0;32mreturn\u001b[0m \u001b[0mobject\u001b[0m\u001b[0;34m.\u001b[0m\u001b[0m__getattribute__\u001b[0m\u001b[0;34m(\u001b[0m\u001b[0mself\u001b[0m\u001b[0;34m,\u001b[0m \u001b[0mname\u001b[0m\u001b[0;34m)\u001b[0m\u001b[0;34m\u001b[0m\u001b[0;34m\u001b[0m\u001b[0m\n\u001b[0m\u001b[1;32m   5068\u001b[0m \u001b[0;34m\u001b[0m\u001b[0m\n\u001b[1;32m   5069\u001b[0m     \u001b[0;32mdef\u001b[0m \u001b[0m__setattr__\u001b[0m\u001b[0;34m(\u001b[0m\u001b[0mself\u001b[0m\u001b[0;34m,\u001b[0m \u001b[0mname\u001b[0m\u001b[0;34m,\u001b[0m \u001b[0mvalue\u001b[0m\u001b[0;34m)\u001b[0m\u001b[0;34m:\u001b[0m\u001b[0;34m\u001b[0m\u001b[0;34m\u001b[0m\u001b[0m\n",
      "\u001b[0;31mAttributeError\u001b[0m: 'Series' object has no attribute 'startswith'"
     ]
    }
   ],
   "source": [
    "Empoyees.loc[Empoyees.JobTitle.str.lower().startswith('p')]['JobTitle']"
   ]
  },
  {
   "cell_type": "markdown",
   "metadata": {},
   "source": [
    "### 5a. List all employees living in Redmond, Seattle, and Bellevue, showing EmployeeID, FirstName, LastName, and City. Sort the list alphabetically by city."
   ]
  },
  {
   "cell_type": "raw",
   "metadata": {},
   "source": [
    "SELECT e.EmployeeID, e.FirstName, e.LastName, e.City\n",
    "\tFROM dbo.Employees AS e\n",
    "\tWHERE e.City in ('Redmond', 'Seattle', 'Bellevue')\n",
    "\tORDER BY e.City\n",
    "\t;"
   ]
  },
  {
   "cell_type": "code",
   "execution_count": null,
   "metadata": {
    "collapsed": true
   },
   "outputs": [],
   "source": []
  },
  {
   "cell_type": "markdown",
   "metadata": {},
   "source": [
    "### 5b. For the list above, make sure these are only in the state of Washington, just to be careful."
   ]
  },
  {
   "cell_type": "raw",
   "metadata": {},
   "source": [
    "SELECT DISTINCT e.City, e.StateProvinceName, e.CountryName\n",
    "\tFROM dbo.Employees AS e\n",
    "\tWHERE e.City in ('Redmond', 'Seattle', 'Bellevue')\n",
    "\t;\n",
    "\n",
    "SELECT e.EmployeeID, e.FirstName, e.LastName, e.City,  e.StateProvinceName\n",
    "\tFROM dbo.Employees AS e\n",
    "\tWHERE e.City in ('Redmond', 'Seattle', 'Bellevue') AND e.StateProvinceName = 'Washington'\n",
    "\tORDER BY e.City\n",
    "\t;"
   ]
  },
  {
   "cell_type": "code",
   "execution_count": null,
   "metadata": {
    "collapsed": true
   },
   "outputs": [],
   "source": []
  },
  {
   "cell_type": "markdown",
   "metadata": {},
   "source": [
    "### 6. Provide a list of employees who have no title, whether it's a NULL or empty string."
   ]
  },
  {
   "cell_type": "raw",
   "metadata": {},
   "source": [
    "SELECT e.EmployeeID, e.Title, e.FirstName, e.LastName\n",
    "\tFROM dbo.Employees AS e\n",
    "\tWHERE e.Title IS NULL OR e.Title = ''\n",
    "\t;"
   ]
  },
  {
   "cell_type": "code",
   "execution_count": null,
   "metadata": {
    "collapsed": true
   },
   "outputs": [],
   "source": []
  },
  {
   "cell_type": "markdown",
   "metadata": {},
   "source": [
    "### 7a. Provide a list of employees who have at least 60 vacation hours left."
   ]
  },
  {
   "cell_type": "raw",
   "metadata": {},
   "source": [
    "SELECT e.EmployeeID, e.Title, e.FirstName, e.LastName, e.VacationHours, e.SickLeaveHours\n",
    "\tFROM dbo.Employees AS e\n",
    "\tWHERE e.VacationHours >= 60\n",
    "\t;"
   ]
  },
  {
   "cell_type": "code",
   "execution_count": null,
   "metadata": {
    "collapsed": true
   },
   "outputs": [],
   "source": []
  },
  {
   "cell_type": "markdown",
   "metadata": {},
   "source": [
    "### 7b. Provide a list of employees who have less than 60 vacation hours left."
   ]
  },
  {
   "cell_type": "code",
   "execution_count": null,
   "metadata": {
    "collapsed": true
   },
   "outputs": [],
   "source": [
    "SELECT e.EmployeeID, e.Title, e.FirstName, e.LastName, e.VacationHours, e.SickLeaveHours\n",
    "\tFROM dbo.Employees AS e\n",
    "\tWHERE e.VacationHours < 60\n",
    "\t;"
   ]
  },
  {
   "cell_type": "code",
   "execution_count": null,
   "metadata": {
    "collapsed": true
   },
   "outputs": [],
   "source": []
  },
  {
   "cell_type": "markdown",
   "metadata": {},
   "source": [
    "### 7c. Show me employees who have more than 20 and less than 60 vacation hours left."
   ]
  },
  {
   "cell_type": "raw",
   "metadata": {},
   "source": [
    "SELECT e.EmployeeID, e.Title, e.FirstName, e.LastName, e.VacationHours, e.SickLeaveHours\n",
    "\tFROM dbo.Employees AS e\n",
    "\tWHERE e.VacationHours BETWEEN 21 AND 59\n",
    "\t;"
   ]
  },
  {
   "cell_type": "code",
   "execution_count": null,
   "metadata": {
    "collapsed": true
   },
   "outputs": [],
   "source": []
  },
  {
   "cell_type": "markdown",
   "metadata": {},
   "source": [
    "### 7d. If you did not use BETWEEN for 7c, do the same but use BETWEEN. If you did use BETWEEN for 7c, do it another way."
   ]
  },
  {
   "cell_type": "raw",
   "metadata": {},
   "source": [
    "SELECT e.EmployeeID, e.Title, e.FirstName, e.LastName, e.VacationHours, e.SickLeaveHours\n",
    "\tFROM dbo.Employees AS e\n",
    "\tWHERE e.VacationHours > 20 AND  e.VacationHours < 60\n",
    "\t;"
   ]
  },
  {
   "cell_type": "code",
   "execution_count": null,
   "metadata": {
    "collapsed": true
   },
   "outputs": [],
   "source": []
  },
  {
   "cell_type": "markdown",
   "metadata": {},
   "source": [
    "# Grouping"
   ]
  },
  {
   "cell_type": "markdown",
   "metadata": {},
   "source": [
    "### 1a. What is the earliest birthdate for all employees?"
   ]
  },
  {
   "cell_type": "raw",
   "metadata": {},
   "source": [
    "SELECT MIN(e.BirthDate) FROM dbo.Employees AS e;"
   ]
  },
  {
   "cell_type": "code",
   "execution_count": null,
   "metadata": {
    "collapsed": true
   },
   "outputs": [],
   "source": []
  },
  {
   "cell_type": "markdown",
   "metadata": {},
   "source": [
    "### 1b. Add to the above, the most recent birthdate for all employees"
   ]
  },
  {
   "cell_type": "raw",
   "metadata": {},
   "source": [
    "SELECT MIN(e.BirthDate) AS 'Earliest Birthday', MAX(e.BirthDate) AS 'Most Reecent Birthday'\n",
    "\tFROM dbo.Employees AS e;"
   ]
  },
  {
   "cell_type": "code",
   "execution_count": null,
   "metadata": {
    "collapsed": true
   },
   "outputs": [],
   "source": []
  },
  {
   "cell_type": "markdown",
   "metadata": {},
   "source": [
    "### 1c. Show the above results broken down by gender"
   ]
  },
  {
   "cell_type": "raw",
   "metadata": {},
   "source": [
    "SELECT e.Gender, MIN(e.BirthDate) AS 'Earliest Birthday', MAX(e.BirthDate) AS 'Most Reecent Birthday'\n",
    "\tFROM dbo.Employees AS e\n",
    "\tGROUP BY e.Gender\n",
    "\t;"
   ]
  },
  {
   "cell_type": "code",
   "execution_count": null,
   "metadata": {
    "collapsed": true
   },
   "outputs": [],
   "source": []
  },
  {
   "cell_type": "markdown",
   "metadata": {},
   "source": [
    "### 1d. Show the above results broken down by gender, and salaried/hourly"
   ]
  },
  {
   "cell_type": "raw",
   "metadata": {},
   "source": [
    "SELECT e.Gender, e.SalariedFlag, MIN(e.BirthDate) AS 'Earliest Birthday', MAX(e.BirthDate) AS 'Most Reecent Birthday'\n",
    "\tFROM dbo.Employees AS e\n",
    "\tGROUP BY e.Gender, e.SalariedFlag\n",
    "\t;"
   ]
  },
  {
   "cell_type": "code",
   "execution_count": null,
   "metadata": {
    "collapsed": true
   },
   "outputs": [],
   "source": []
  },
  {
   "cell_type": "markdown",
   "metadata": {},
   "source": [
    "### 2a. What are the average vacation hours for all employees?"
   ]
  },
  {
   "cell_type": "raw",
   "metadata": {},
   "source": [
    "SELECT AVG(e.VacationHours)\n",
    "\tFROM dbo.Employees AS e\t\n",
    "\t;\n",
    "\t\n",
    "\t"
   ]
  },
  {
   "cell_type": "code",
   "execution_count": null,
   "metadata": {
    "collapsed": true
   },
   "outputs": [],
   "source": []
  },
  {
   "cell_type": "markdown",
   "metadata": {},
   "source": [
    "### 2b. Add to the above, the minimum vacation hours for all employees"
   ]
  },
  {
   "cell_type": "raw",
   "metadata": {},
   "source": [
    "SELECT AVG(e.VacationHours) AS 'Average Vacation', MIN(e.VacationHours) AS 'Minumum Vacation'\n",
    "\tFROM dbo.Employees AS e\t\n",
    "\t;"
   ]
  },
  {
   "cell_type": "code",
   "execution_count": null,
   "metadata": {
    "collapsed": true
   },
   "outputs": [],
   "source": []
  },
  {
   "cell_type": "markdown",
   "metadata": {},
   "source": [
    "### 2c. Show the above results broken down and ordered by job title"
   ]
  },
  {
   "cell_type": "raw",
   "metadata": {},
   "source": [
    "SELECT e.JobTitle, AVG(e.VacationHours) AS 'Average Vacation', MIN(e.VacationHours) AS 'Minimum Vacation'\n",
    "\tFROM dbo.Employees AS e\n",
    "\tGROUP BY e.JobTitle\n",
    "\t;"
   ]
  },
  {
   "cell_type": "code",
   "execution_count": null,
   "metadata": {
    "collapsed": true
   },
   "outputs": [],
   "source": []
  },
  {
   "cell_type": "markdown",
   "metadata": {},
   "source": [
    "### 2d. Show the above results broken down by job title, and married/single employees"
   ]
  },
  {
   "cell_type": "raw",
   "metadata": {},
   "source": [
    "SELECT e.JobTitle, e.MaritalStatus, AVG(e.VacationHours) AS 'Average Vacation', MIN(e.VacationHours) AS 'Minimum Vacation'\n",
    "\tFROM dbo.Employees AS e\n",
    "\tGROUP BY e.JobTitle, e.MaritalStatus\n",
    "\t;"
   ]
  },
  {
   "cell_type": "code",
   "execution_count": null,
   "metadata": {
    "collapsed": true
   },
   "outputs": [],
   "source": []
  },
  {
   "cell_type": "markdown",
   "metadata": {},
   "source": [
    "### 2e. Add to the above, the maximum vacation hours per group"
   ]
  },
  {
   "cell_type": "raw",
   "metadata": {},
   "source": [
    "SELECT e.JobTitle, e.MaritalStatus\n",
    "\t\t, AVG(e.VacationHours) AS 'Average Vacation'\n",
    "\t\t, MIN(e.VacationHours) AS 'Minimum Vacation'\n",
    "\t\t, MAX(e.VacationHours) AS 'Maximum Vacation'\n",
    "\tFROM dbo.Employees AS e\n",
    "\tGROUP BY e.JobTitle, e.MaritalStatus\n",
    "\t;"
   ]
  },
  {
   "cell_type": "code",
   "execution_count": null,
   "metadata": {
    "collapsed": true
   },
   "outputs": [],
   "source": []
  },
  {
   "cell_type": "markdown",
   "metadata": {},
   "source": [
    "### 2f. Show the above results broken down by job title, married/single employees, and State"
   ]
  },
  {
   "cell_type": "raw",
   "metadata": {},
   "source": [
    "SELECT e.JobTitle, e.MaritalStatus, e.StateProvinceName\n",
    "\t\t, AVG(e.VacationHours) AS 'Average Vacation'\n",
    "\t\t, MIN(e.VacationHours) AS 'Minimum Vacation'\n",
    "\t\t, MAX(e.VacationHours) AS 'Maximum Vacation'\n",
    "\tFROM dbo.Employees AS e\n",
    "\tGROUP BY e.JobTitle, e.MaritalStatus, e.StateProvinceName\n",
    "\t;"
   ]
  },
  {
   "cell_type": "code",
   "execution_count": null,
   "metadata": {
    "collapsed": true
   },
   "outputs": [],
   "source": []
  },
  {
   "cell_type": "markdown",
   "metadata": {},
   "source": [
    "### 2g. Show the above results but only for American employees"
   ]
  },
  {
   "cell_type": "raw",
   "metadata": {},
   "source": [
    "SELECT e.JobTitle, e.MaritalStatus, e.StateProvinceName\n",
    "\t\t, AVG(e.VacationHours) AS 'Average Vacation'\n",
    "\t\t, MIN(e.VacationHours) AS 'Minimum Vacation'\n",
    "\t\t, MAX(e.VacationHours) AS 'Maximum Vacation'\n",
    "\tFROM dbo.Employees AS e\n",
    "\tWHERE e.CountryName = 'United States'\n",
    "\tGROUP BY e.JobTitle, e.MaritalStatus, e.StateProvinceName\n",
    "\t;"
   ]
  },
  {
   "cell_type": "code",
   "execution_count": null,
   "metadata": {
    "collapsed": true
   },
   "outputs": [],
   "source": []
  },
  {
   "cell_type": "markdown",
   "metadata": {},
   "source": [
    "### 2h. Change the grouping above so it's broken down by married/single and State, no more job title"
   ]
  },
  {
   "cell_type": "raw",
   "metadata": {},
   "source": [
    "SELECT e.MaritalStatus, e.StateProvinceName\n",
    "\t\t, AVG(e.VacationHours) AS 'Average Vacation'\n",
    "\t\t, MIN(e.VacationHours) AS 'Minimum Vacation'\n",
    "\t\t, MAX(e.VacationHours) AS 'Maximum Vacation'\n",
    "\tFROM dbo.Employees AS e\n",
    "\tWHERE e.CountryName = 'United States'\n",
    "\tGROUP BY e.MaritalStatus, e.StateProvinceName\n",
    "\t;"
   ]
  },
  {
   "cell_type": "code",
   "execution_count": null,
   "metadata": {
    "collapsed": true
   },
   "outputs": [],
   "source": []
  },
  {
   "cell_type": "markdown",
   "metadata": {},
   "source": [
    "### 2i. Limit the results above to States where the average vacation hours is greater than 30"
   ]
  },
  {
   "cell_type": "raw",
   "metadata": {},
   "source": [
    "SELECT e.MaritalStatus, e.StateProvinceName\n",
    "\t\t, AVG(e.VacationHours) AS 'Average Vacation'\n",
    "\t\t, MIN(e.VacationHours) AS 'Minimum Vacation'\n",
    "\t\t, MAX(e.VacationHours) AS 'Maximum Vacation'\n",
    "\tFROM dbo.Employees AS e\n",
    "\tWHERE e.CountryName = 'United States'\n",
    "\tGROUP BY e.MaritalStatus, e.StateProvinceName\n",
    "\tHAVING AVG(e.VacationHours) > 30\n",
    "\t;"
   ]
  },
  {
   "cell_type": "raw",
   "metadata": {},
   "source": [
    "SELECT e.StateProvinceName\n",
    "\t\t, AVG(e.VacationHours) AS 'Average Vacation'\n",
    "\t\t, MIN(e.VacationHours) AS 'Minimum Vacation'\n",
    "\t\t, MAX(e.VacationHours) AS 'Maximum Vacation'\n",
    "\tFROM dbo.Employees AS e\n",
    "\tWHERE e.CountryName = 'United States'\n",
    "\tGROUP BY e.StateProvinceName\n",
    "\tHAVING AVG(e.VacationHours) > 30\n",
    "\t;"
   ]
  },
  {
   "cell_type": "code",
   "execution_count": null,
   "metadata": {
    "collapsed": true
   },
   "outputs": [],
   "source": []
  },
  {
   "cell_type": "markdown",
   "metadata": {},
   "source": [
    "### 2j. Limit the results above to States where the average vacation hours is greater than 30 and the maximum vacation hours is less than 50"
   ]
  },
  {
   "cell_type": "raw",
   "metadata": {},
   "source": [
    "SELECT e.StateProvinceName\n",
    "\t\t, AVG(e.VacationHours) AS 'Average Vacation'\n",
    "\t\t, MIN(e.VacationHours) AS 'Minimum Vacation'\n",
    "\t\t, MAX(e.VacationHours) AS 'Maximum Vacation'\n",
    "\tFROM dbo.Employees AS e\n",
    "\tWHERE e.CountryName = 'United States'\n",
    "\tGROUP BY e.StateProvinceName\n",
    "\tHAVING AVG(e.VacationHours) BETWEEN 31 AND 49\n",
    "\t;"
   ]
  },
  {
   "cell_type": "code",
   "execution_count": null,
   "metadata": {
    "collapsed": true
   },
   "outputs": [],
   "source": []
  },
  {
   "cell_type": "markdown",
   "metadata": {},
   "source": [
    "### 2k. Show the same results but only for non-American employees"
   ]
  },
  {
   "cell_type": "raw",
   "metadata": {},
   "source": [
    "SELECT e.StateProvinceName\n",
    "\t\t, AVG(e.VacationHours) AS 'Average Vacation'\n",
    "\t\t, MIN(e.VacationHours) AS 'Minimum Vacation'\n",
    "\t\t, MAX(e.VacationHours) AS 'Maximum Vacation'\n",
    "\tFROM dbo.Employees AS e\n",
    "\tWHERE e.CountryName != 'United States'\n",
    "\tGROUP BY e.StateProvinceName\n",
    "\tHAVING AVG(e.VacationHours) BETWEEN 31 AND 49\n",
    "\t;"
   ]
  },
  {
   "cell_type": "code",
   "execution_count": null,
   "metadata": {
    "collapsed": true
   },
   "outputs": [],
   "source": []
  },
  {
   "cell_type": "markdown",
   "metadata": {},
   "source": [
    "### 3a. Report how many employees are in the company"
   ]
  },
  {
   "cell_type": "raw",
   "metadata": {},
   "source": [
    "SELECT COUNT(1) FROM dbo.Employees;"
   ]
  },
  {
   "cell_type": "code",
   "execution_count": null,
   "metadata": {
    "collapsed": true
   },
   "outputs": [],
   "source": []
  },
  {
   "cell_type": "markdown",
   "metadata": {},
   "source": [
    "### 3b. For the above report, show the number of employees per manager (hint: use ManagerID)"
   ]
  },
  {
   "cell_type": "raw",
   "metadata": {},
   "source": [
    "SELECT e.ManagerID, COUNT(1) AS 'NumEmployees'\n",
    "\tFROM dbo.Employees AS e\n",
    "\tGROUP BY e.ManagerID\n",
    "\t;"
   ]
  },
  {
   "cell_type": "code",
   "execution_count": null,
   "metadata": {
    "collapsed": true
   },
   "outputs": [],
   "source": []
  },
  {
   "cell_type": "markdown",
   "metadata": {},
   "source": [
    "### 3c. Remove any manager ID's that are NULL from the results above"
   ]
  },
  {
   "cell_type": "raw",
   "metadata": {},
   "source": [
    "SELECT e.ManagerID, COUNT(1) AS 'NumEmployees'\n",
    "\tFROM dbo.Employees AS e\n",
    "\tWHERE e.ManagerID IS NOT NULL\n",
    "\tGROUP BY e.ManagerID\n",
    "\t;"
   ]
  },
  {
   "cell_type": "code",
   "execution_count": null,
   "metadata": {
    "collapsed": true
   },
   "outputs": [],
   "source": []
  },
  {
   "cell_type": "markdown",
   "metadata": {},
   "source": [
    "### 3d. Show the same results as above, but only for managers who have at least 5 employees"
   ]
  },
  {
   "cell_type": "raw",
   "metadata": {},
   "source": [
    "SELECT e.ManagerID, COUNT(1) AS 'NumEmployees'\n",
    "\tFROM dbo.Employees AS e\n",
    "\tWHERE e.ManagerID IS NOT NULL\n",
    "\tGROUP BY e.ManagerID\n",
    "\tHAVING COUNT(1) >= 5\n",
    "\t;"
   ]
  },
  {
   "cell_type": "code",
   "execution_count": null,
   "metadata": {
    "collapsed": true
   },
   "outputs": [],
   "source": []
  },
  {
   "cell_type": "markdown",
   "metadata": {},
   "source": [
    "### 4a. List the average vacation hours of all employees"
   ]
  },
  {
   "cell_type": "raw",
   "metadata": {},
   "source": [
    "SELECT AVG(e.VacationHours)\n",
    "\tFROM dbo.Employees AS e\n",
    "\t;"
   ]
  },
  {
   "cell_type": "code",
   "execution_count": null,
   "metadata": {
    "collapsed": true
   },
   "outputs": [],
   "source": []
  },
  {
   "cell_type": "markdown",
   "metadata": {},
   "source": [
    "### 4b. Break down the results by State"
   ]
  },
  {
   "cell_type": "raw",
   "metadata": {},
   "source": [
    "SELECT e.StateProvinceName, AVG(e.VacationHours) AS 'Average Vacation Hours'\n",
    "\tFROM dbo.Employees AS e\n",
    "\tGROUP BY e.StateProvinceName\n",
    "\t;"
   ]
  },
  {
   "cell_type": "code",
   "execution_count": null,
   "metadata": {
    "collapsed": true
   },
   "outputs": [],
   "source": []
  },
  {
   "cell_type": "markdown",
   "metadata": {},
   "source": [
    "### 4c. Break down the results by city and State"
   ]
  },
  {
   "cell_type": "raw",
   "metadata": {},
   "source": [
    "SELECT e.StateProvinceName, e.City, AVG(e.VacationHours) AS 'Average Vacation Hours'\n",
    "\tFROM dbo.Employees AS e\n",
    "\tGROUP BY e.StateProvinceName, e.City\n",
    "\t;"
   ]
  },
  {
   "cell_type": "code",
   "execution_count": null,
   "metadata": {
    "collapsed": true
   },
   "outputs": [],
   "source": []
  },
  {
   "cell_type": "markdown",
   "metadata": {},
   "source": [
    "### 4d. Add something that shows the number of employees per city"
   ]
  },
  {
   "cell_type": "raw",
   "metadata": {},
   "source": [
    "SELECT e.StateProvinceName, e.City\n",
    "\t, AVG(e.VacationHours) AS 'Average Vacation Hours'\n",
    "\t, COUNT(1) AS 'NumEmployees'\n",
    "\tFROM dbo.Employees AS e\n",
    "\tGROUP BY e.StateProvinceName, e.City\n",
    "\t;"
   ]
  },
  {
   "cell_type": "code",
   "execution_count": null,
   "metadata": {
    "collapsed": true
   },
   "outputs": [],
   "source": []
  },
  {
   "cell_type": "markdown",
   "metadata": {},
   "source": [
    "### 4e. Sort the results by the city and state"
   ]
  },
  {
   "cell_type": "raw",
   "metadata": {},
   "source": [
    "SELECT e.StateProvinceName, e.City\n",
    "\t, AVG(e.VacationHours) AS 'Average Vacation Hours'\n",
    "\t, COUNT(1) AS 'NumEmployees'\n",
    "\tFROM dbo.Employees AS e\n",
    "\tGROUP BY e.StateProvinceName, e.City\n",
    "\tORDER BY e.StateProvinceName, e.City\n",
    "\t;"
   ]
  },
  {
   "cell_type": "code",
   "execution_count": null,
   "metadata": {
    "collapsed": true
   },
   "outputs": [],
   "source": []
  },
  {
   "cell_type": "markdown",
   "metadata": {},
   "source": [
    "### 4f. Make city and State a single column in the format of \"City, State\""
   ]
  },
  {
   "cell_type": "raw",
   "metadata": {},
   "source": [
    "SELECT CONCAT(e.StateProvinceName, ', ', e.City) AS 'Location'\n",
    "\t, AVG(e.VacationHours) AS 'Average Vacation Hours'\n",
    "\t, COUNT(1) AS 'NumEmployees'\n",
    "\tFROM dbo.Employees AS e\n",
    "\tGROUP BY e.StateProvinceName, e.City\n",
    "\tORDER BY e.StateProvinceName, e.City\n",
    "\t;"
   ]
  },
  {
   "cell_type": "code",
   "execution_count": null,
   "metadata": {
    "collapsed": true
   },
   "outputs": [],
   "source": []
  },
  {
   "cell_type": "markdown",
   "metadata": {},
   "source": [
    "### 4g. Add a column that shows the difference between the maximum vacation hours and minimum vacation hours for each city"
   ]
  },
  {
   "cell_type": "raw",
   "metadata": {},
   "source": [
    "SELECT CONCAT(e.StateProvinceName, ', ', e.City) AS 'Location'\n",
    "\t, AVG(e.VacationHours) AS 'Average Vacation Hours'\n",
    "\t, COUNT(1) AS 'NumEmployees'\n",
    "\t, MAX(e.VacationHours)-MIN(e.VacationHours) AS 'Difference Vacation Hours'\n",
    "\tFROM dbo.Employees AS e\n",
    "\tGROUP BY e.StateProvinceName, e.City\n",
    "\tORDER BY e.StateProvinceName, e.City\n",
    "\t;"
   ]
  },
  {
   "cell_type": "code",
   "execution_count": null,
   "metadata": {
    "collapsed": true
   },
   "outputs": [],
   "source": []
  },
  {
   "cell_type": "markdown",
   "metadata": {},
   "source": [
    "### 4h. Now sort the results by the new column created above"
   ]
  },
  {
   "cell_type": "raw",
   "metadata": {},
   "source": [
    "SELECT CONCAT(e.StateProvinceName, ', ', e.City) AS 'Location'\n",
    "\t, AVG(e.VacationHours) AS 'Average Vacation Hours'\n",
    "\t, COUNT(1) AS 'NumEmployees'\n",
    "\t, MAX(e.VacationHours)-MIN(e.VacationHours) AS 'Difference Vacation Hours'\n",
    "\tFROM dbo.Employees AS e\n",
    "\tGROUP BY e.StateProvinceName, e.City\n",
    "\tORDER BY 'Difference Vacation Hours' DESC\n",
    "\t;"
   ]
  },
  {
   "cell_type": "code",
   "execution_count": null,
   "metadata": {
    "collapsed": true
   },
   "outputs": [],
   "source": []
  },
  {
   "cell_type": "markdown",
   "metadata": {},
   "source": [
    "### 4i. Limit the results to cities that have more than 1 employee"
   ]
  },
  {
   "cell_type": "raw",
   "metadata": {},
   "source": [
    "SELECT CONCAT(e.StateProvinceName, ', ', e.City) AS 'Location'\n",
    "\t, AVG(e.VacationHours) AS 'Average Vacation Hours'\n",
    "\t, COUNT(1) AS 'NumEmployees'\n",
    "\t, MAX(e.VacationHours)-MIN(e.VacationHours) AS 'Difference Vacation Hours'\n",
    "\tFROM dbo.Employees AS e\n",
    "\tGROUP BY e.StateProvinceName, e.City\n",
    "\tHAVING COUNT(1) > 1\n",
    "\tORDER BY 'Difference Vacation Hours' DESC\n",
    "\t;"
   ]
  },
  {
   "cell_type": "code",
   "execution_count": null,
   "metadata": {
    "collapsed": true
   },
   "outputs": [],
   "source": []
  },
  {
   "cell_type": "markdown",
   "metadata": {},
   "source": [
    "### 4j. Limit the results to non-U.S. cities"
   ]
  },
  {
   "cell_type": "raw",
   "metadata": {},
   "source": [
    "SELECT CONCAT(e.StateProvinceName, ', ', e.City) AS 'Location'\n",
    "\t, AVG(e.VacationHours) AS 'Average Vacation Hours'\n",
    "\t, COUNT(1) AS 'NumEmployees'\n",
    "\t, MAX(e.VacationHours)-MIN(e.VacationHours) AS 'Difference Vacation Hours'\n",
    "\tFROM dbo.Employees AS e\n",
    "\tWHERE e.CountryName != 'United States'\n",
    "\tGROUP BY e.StateProvinceName, e.City\n",
    "\tHAVING COUNT(1) > 1\n",
    "\tORDER BY 'Difference Vacation Hours' DESC\n",
    "\t;"
   ]
  },
  {
   "cell_type": "code",
   "execution_count": null,
   "metadata": {
    "collapsed": true
   },
   "outputs": [],
   "source": []
  }
 ],
 "metadata": {
  "kernelspec": {
   "display_name": "Python 3",
   "language": "python",
   "name": "python3"
  },
  "language_info": {
   "codemirror_mode": {
    "name": "ipython",
    "version": 3
   },
   "file_extension": ".py",
   "mimetype": "text/x-python",
   "name": "python",
   "nbconvert_exporter": "python",
   "pygments_lexer": "ipython3",
   "version": "3.6.8"
  }
 },
 "nbformat": 4,
 "nbformat_minor": 1
}
