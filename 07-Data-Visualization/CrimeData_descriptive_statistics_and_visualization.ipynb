{
 "cells": [
  {
   "cell_type": "markdown",
   "metadata": {},
   "source": [
    "# Atlanta Police Department\n",
    "![APD Logo](https://atlantapd.galls.com/photos/partners/atlantapd/logo.jpg)\n",
    "\n",
    "\n",
    "The Atlanta Police Department provides Part 1 crime data at http://www.atlantapd.org/i-want-to/crime-data-downloads\n",
    "\n",
    "A recent copy of the data file is stored in the cluster. <span style=\"color: red; font-weight: bold;\">Please, do not copy this data file into your home directory!</span>"
   ]
  },
  {
   "cell_type": "markdown",
   "metadata": {},
   "source": [
    "# Introduction\n",
    "\n",
    "\n",
    "- This notebooks leads into an exploration of public crime data provided by the Atlanta Police Department.\n",
    "- The original data set and supplemental information can be found at http://www.atlantapd.org/i-want-to/crime-data-downloads\n",
    "- **The data set is available on ARC, please, don't download into your home directory on ARC!**"
   ]
  },
  {
   "cell_type": "code",
   "execution_count": 1,
   "metadata": {
    "ExecuteTime": {
     "end_time": "2017-10-08T19:32:50.338314",
     "start_time": "2017-10-08T19:32:49.358503"
    }
   },
   "outputs": [],
   "source": [
    "import numpy as np\n",
    "import pandas as pd \n",
    "%matplotlib inline\n",
    "import matplotlib.pyplot as plt"
   ]
  },
  {
   "cell_type": "code",
   "execution_count": 2,
   "metadata": {
    "ExecuteTime": {
     "end_time": "2017-10-08T19:32:54.563016",
     "start_time": "2017-10-08T19:32:51.317436"
    }
   },
   "outputs": [
    {
     "name": "stdout",
     "output_type": "stream",
     "text": [
      "Shape of table:  (285733, 23)\n"
     ]
    },
    {
     "name": "stderr",
     "output_type": "stream",
     "text": [
      "/Users/mxz0434/anaconda3/lib/python3.6/site-packages/IPython/core/interactiveshell.py:2785: DtypeWarning: Columns (13) have mixed types. Specify dtype option on import or set low_memory=False.\n",
      "  interactivity=interactivity, compiler=compiler, result=result)\n"
     ]
    }
   ],
   "source": [
    "# load data set\n",
    "df = pd.read_csv('/Users/mxz0434/Downloads/COBRA-YTD-multiyear.csv.gz')\n",
    "print(\"Shape of table: \", df.shape)"
   ]
  },
  {
   "cell_type": "markdown",
   "metadata": {
    "ExecuteTime": {
     "end_time": "2017-10-02T08:59:00.075648",
     "start_time": "2017-10-02T08:59:00.072119"
    }
   },
   "source": [
    "## Review: Creating a data key"
   ]
  },
  {
   "cell_type": "markdown",
   "metadata": {},
   "source": [
    "Let's look at the structure of this table. We're actually creating some text output that can be used to create a data dictionary."
   ]
  },
  {
   "cell_type": "code",
   "execution_count": null,
   "metadata": {
    "ExecuteTime": {
     "end_time": "2017-10-08T19:33:03.158246",
     "start_time": "2017-10-08T19:33:03.144267"
    }
   },
   "outputs": [],
   "source": [
    "dataDict = pd.DataFrame({'DataType': df.dtypes.values, 'Description': '', }, index=df.columns.values)"
   ]
  },
  {
   "cell_type": "markdown",
   "metadata": {},
   "source": [
    "We need to enter the descriptions for each entry in our dictionary manually..."
   ]
  },
  {
   "cell_type": "code",
   "execution_count": null,
   "metadata": {
    "ExecuteTime": {
     "end_time": "2017-10-08T19:33:06.057526",
     "start_time": "2017-10-08T19:33:05.979243"
    }
   },
   "outputs": [],
   "source": [
    "dataDict.loc['MI_PRINX'].Description = '' # type: int64\n",
    "dataDict.loc['offense_id'].Description = 'Unique ID in the format YYDDDNNNN with the year YY, the day of the year DDD and a counter NNNN' # type: int64\n",
    "dataDict.loc['rpt_date'].Description = 'Date the crime was reported' # type: object\n",
    "dataDict.loc['occur_date'].Description = 'Estimated date when the crime occured' # type: object\n",
    "dataDict.loc['occur_time'].Description = 'Estimated time when the crime occured' # type: object\n",
    "dataDict.loc['poss_date'].Description = '' # type: object\n",
    "dataDict.loc['poss_time'].Description = '' # type: object\n",
    "dataDict.loc['beat'].Description = '' # type: int64\n",
    "dataDict.loc['apt_office_prefix'].Description = '' # type: object\n",
    "dataDict.loc['apt_office_num'].Description = '' # type: object\n",
    "dataDict.loc['location'].Description = '' # type: object\n",
    "dataDict.loc['MinOfucr'].Description = '' # type: int64\n",
    "dataDict.loc['MinOfibr_code'].Description = '' # type: object\n",
    "dataDict.loc['dispo_code'].Description = '' # type: object\n",
    "dataDict.loc['MaxOfnum_victims'].Description = '' # type: float64\n",
    "dataDict.loc['Shift'].Description = 'Zones have 8 or 10 hour shifts' # type: object\n",
    "dataDict.loc['Avg Day'].Description = '' # type: object\n",
    "dataDict.loc['loc_type'].Description = '' # type: float64\n",
    "dataDict.loc['UC2 Literal'].Description = '' # type: object\n",
    "dataDict.loc['neighborhood'].Description = '' # type: object\n",
    "dataDict.loc['npu'].Description = '' # type: object\n",
    "dataDict.loc['x'].Description = '' # type: float64\n",
    "dataDict.loc['y'].Description = '' # type: float64\n",
    "dataDict.to_csv(\"COBRA_Data_Dictionary.csv\")"
   ]
  },
  {
   "cell_type": "code",
   "execution_count": null,
   "metadata": {
    "ExecuteTime": {
     "end_time": "2017-10-08T19:33:07.708285",
     "start_time": "2017-10-08T19:33:07.642002"
    }
   },
   "outputs": [],
   "source": [
    "dataDict"
   ]
  },
  {
   "cell_type": "markdown",
   "metadata": {},
   "source": [
    "## Convert Time Columns"
   ]
  },
  {
   "cell_type": "markdown",
   "metadata": {},
   "source": [
    "Please refer to the following resources for working with time series data in pandas:\n",
    "- https://pandas.pydata.org/pandas-docs/stable/timeseries.html\n",
    "- https://pandas.pydata.org/pandas-docs/stable/api.html#id10"
   ]
  },
  {
   "cell_type": "code",
   "execution_count": 3,
   "metadata": {
    "ExecuteTime": {
     "end_time": "2017-10-08T19:48:58.681441",
     "start_time": "2017-10-08T19:48:58.671361"
    },
    "scrolled": false
   },
   "outputs": [],
   "source": [
    "# function currying\n",
    "def fixdatetime(fld):\n",
    "    def _fix(s):\n",
    "        date_col = '%s_date' % fld # \"rpt_date\"\n",
    "        time_col = '%s_time' % fld # \"rpt_time\"\n",
    "        if time_col in s.index:\n",
    "            return str(s[date_col])+' '+str(s[time_col])\n",
    "        else:\n",
    "            return str(s[date_col])+' 00:00:00'\n",
    "    return _fix"
   ]
  },
  {
   "cell_type": "code",
   "execution_count": 4,
   "metadata": {
    "ExecuteTime": {
     "end_time": "2017-10-08T19:52:23.782454",
     "start_time": "2017-10-08T19:49:00.547029"
    }
   },
   "outputs": [],
   "source": [
    "for col in ['rpt', 'occur', 'poss']:\n",
    "    datser = df.apply(fixdatetime(col), axis=1)\n",
    "    df['%s_dt'%col] = pd.to_datetime(datser, format=\"%m/%d/%Y %H:%M:%S\", errors='coerce')"
   ]
  },
  {
   "cell_type": "code",
   "execution_count": 5,
   "metadata": {
    "ExecuteTime": {
     "end_time": "2017-10-08T19:52:23.845247",
     "start_time": "2017-10-08T19:52:23.784851"
    },
    "scrolled": false
   },
   "outputs": [
    {
     "data": {
      "text/html": [
       "<div>\n",
       "<style scoped>\n",
       "    .dataframe tbody tr th:only-of-type {\n",
       "        vertical-align: middle;\n",
       "    }\n",
       "\n",
       "    .dataframe tbody tr th {\n",
       "        vertical-align: top;\n",
       "    }\n",
       "\n",
       "    .dataframe thead th {\n",
       "        text-align: right;\n",
       "    }\n",
       "</style>\n",
       "<table border=\"1\" class=\"dataframe\">\n",
       "  <thead>\n",
       "    <tr style=\"text-align: right;\">\n",
       "      <th></th>\n",
       "      <th>MI_PRINX</th>\n",
       "      <th>offense_id</th>\n",
       "      <th>beat</th>\n",
       "      <th>UC2 Literal</th>\n",
       "      <th>neighborhood</th>\n",
       "      <th>rpt_dt</th>\n",
       "      <th>occur_dt</th>\n",
       "      <th>poss_dt</th>\n",
       "    </tr>\n",
       "  </thead>\n",
       "  <tbody>\n",
       "    <tr>\n",
       "      <th>0</th>\n",
       "      <td>1160569</td>\n",
       "      <td>90360664</td>\n",
       "      <td>305.0</td>\n",
       "      <td>LARCENY-NON VEHICLE</td>\n",
       "      <td>South Atlanta</td>\n",
       "      <td>2009-02-05</td>\n",
       "      <td>2009-02-03 13:50:00</td>\n",
       "      <td>2009-02-03 15:00:00</td>\n",
       "    </tr>\n",
       "    <tr>\n",
       "      <th>1</th>\n",
       "      <td>1160570</td>\n",
       "      <td>90370891</td>\n",
       "      <td>502.0</td>\n",
       "      <td>LARCENY-FROM VEHICLE</td>\n",
       "      <td>Ansley Park</td>\n",
       "      <td>2009-02-06</td>\n",
       "      <td>2009-02-06 08:50:00</td>\n",
       "      <td>2009-02-06 10:45:00</td>\n",
       "    </tr>\n",
       "    <tr>\n",
       "      <th>2</th>\n",
       "      <td>1160572</td>\n",
       "      <td>91681984</td>\n",
       "      <td>604.0</td>\n",
       "      <td>LARCENY-NON VEHICLE</td>\n",
       "      <td>Sweet Auburn</td>\n",
       "      <td>2009-06-17</td>\n",
       "      <td>2009-06-17 14:00:00</td>\n",
       "      <td>2009-06-17 15:00:00</td>\n",
       "    </tr>\n",
       "    <tr>\n",
       "      <th>3</th>\n",
       "      <td>1160575</td>\n",
       "      <td>82040835</td>\n",
       "      <td>104.0</td>\n",
       "      <td>BURGLARY-RESIDENCE</td>\n",
       "      <td>Mozley Park</td>\n",
       "      <td>2009-02-27</td>\n",
       "      <td>2008-07-21 18:00:00</td>\n",
       "      <td>2008-07-21 18:00:00</td>\n",
       "    </tr>\n",
       "    <tr>\n",
       "      <th>4</th>\n",
       "      <td>1160576</td>\n",
       "      <td>82922120</td>\n",
       "      <td>210.0</td>\n",
       "      <td>AUTO THEFT</td>\n",
       "      <td>Lenox</td>\n",
       "      <td>2009-01-14</td>\n",
       "      <td>2008-10-19 18:30:00</td>\n",
       "      <td>2008-10-19 19:45:00</td>\n",
       "    </tr>\n",
       "  </tbody>\n",
       "</table>\n",
       "</div>"
      ],
      "text/plain": [
       "   MI_PRINX  offense_id   beat           UC2 Literal   neighborhood  \\\n",
       "0   1160569    90360664  305.0   LARCENY-NON VEHICLE  South Atlanta   \n",
       "1   1160570    90370891  502.0  LARCENY-FROM VEHICLE    Ansley Park   \n",
       "2   1160572    91681984  604.0   LARCENY-NON VEHICLE   Sweet Auburn   \n",
       "3   1160575    82040835  104.0    BURGLARY-RESIDENCE    Mozley Park   \n",
       "4   1160576    82922120  210.0            AUTO THEFT          Lenox   \n",
       "\n",
       "      rpt_dt            occur_dt             poss_dt  \n",
       "0 2009-02-05 2009-02-03 13:50:00 2009-02-03 15:00:00  \n",
       "1 2009-02-06 2009-02-06 08:50:00 2009-02-06 10:45:00  \n",
       "2 2009-06-17 2009-06-17 14:00:00 2009-06-17 15:00:00  \n",
       "3 2009-02-27 2008-07-21 18:00:00 2008-07-21 18:00:00  \n",
       "4 2009-01-14 2008-10-19 18:30:00 2008-10-19 19:45:00  "
      ]
     },
     "execution_count": 5,
     "metadata": {},
     "output_type": "execute_result"
    }
   ],
   "source": [
    "df[[\"MI_PRINX\", \"offense_id\", \"beat\", \"UC2 Literal\", \"neighborhood\", \"rpt_dt\", \"occur_dt\", \"poss_dt\"]].head()"
   ]
  },
  {
   "cell_type": "markdown",
   "metadata": {},
   "source": [
    "What's the date range of the data?"
   ]
  },
  {
   "cell_type": "code",
   "execution_count": null,
   "metadata": {
    "ExecuteTime": {
     "end_time": "2017-10-08T19:52:23.872437",
     "start_time": "2017-10-08T19:52:23.847740"
    },
    "scrolled": false
   },
   "outputs": [],
   "source": [
    "print df.occur_dt.min(), '---', df.occur_dt.max()"
   ]
  },
  {
   "cell_type": "markdown",
   "metadata": {},
   "source": [
    "Number of crimes reported each year:"
   ]
  },
  {
   "cell_type": "code",
   "execution_count": null,
   "metadata": {
    "ExecuteTime": {
     "end_time": "2017-10-08T19:52:24.474415",
     "start_time": "2017-10-08T19:52:23.875189"
    }
   },
   "outputs": [],
   "source": [
    "# resample is like \"groupby\" for time\n",
    "df.resample('A-DEC', closed='right', on='occur_dt').offense_id.count()\n",
    "# df['Year'] = df.occur_dt.map(lambda d: d.year)\n",
    "# df2 = df[(df.Year>=2010) & (df.Year<=2017)]\n",
    "# df2.shape, df.shape"
   ]
  },
  {
   "cell_type": "markdown",
   "metadata": {},
   "source": [
    "Looks like most of the data is actually from 2009-2017! Let's throw the rest away..."
   ]
  },
  {
   "cell_type": "code",
   "execution_count": null,
   "metadata": {
    "ExecuteTime": {
     "end_time": "2017-10-08T19:53:26.236335",
     "start_time": "2017-10-08T19:53:26.092491"
    }
   },
   "outputs": [],
   "source": [
    "df = df[df.occur_dt>='01/01/2009']"
   ]
  },
  {
   "cell_type": "markdown",
   "metadata": {},
   "source": [
    "# Crime Over Time\n",
    "\n",
    "Has the number of crimes in Atlanta changed over time?\n",
    "\n",
    "Are some areas more affected by crime than others?\n",
    "\n",
    "Do different types of crime correlate with each other?"
   ]
  },
  {
   "cell_type": "markdown",
   "metadata": {
    "ExecuteTime": {
     "end_time": "2017-10-02T10:27:11.463007",
     "start_time": "2017-10-02T10:27:11.459373"
    }
   },
   "source": [
    "## Number of Crimes Over Time, with Pivot Tables"
   ]
  },
  {
   "cell_type": "code",
   "execution_count": null,
   "metadata": {
    "ExecuteTime": {
     "end_time": "2017-10-08T20:20:23.152640",
     "start_time": "2017-10-08T20:20:23.118402"
    }
   },
   "outputs": [],
   "source": [
    "df[[\"occur_dt\", \"UC2 Literal\", \"offense_id\"]].head()"
   ]
  },
  {
   "cell_type": "code",
   "execution_count": null,
   "metadata": {
    "ExecuteTime": {
     "end_time": "2017-10-08T22:43:30.903721",
     "start_time": "2017-10-08T22:43:30.330130"
    }
   },
   "outputs": [],
   "source": [
    "# Pivoting the table:\n",
    "# index = nolumn that the new table will be indexed by\n",
    "# columns = column whose unique values will form the new column names\n",
    "# values = values used to fill the table (default = all columns other than those given in index and columns)\n",
    "df_ct = df.pivot_table(index=\"occur_dt\", columns=\"UC2 Literal\", values=\"offense_id\")"
   ]
  },
  {
   "cell_type": "code",
   "execution_count": null,
   "metadata": {
    "ExecuteTime": {
     "end_time": "2017-10-08T22:43:33.291410",
     "start_time": "2017-10-08T22:43:33.236786"
    }
   },
   "outputs": [],
   "source": [
    "df_ct.head()"
   ]
  },
  {
   "cell_type": "markdown",
   "metadata": {},
   "source": [
    "This gives us a timeline for different types of crime reported in Atlanta.\n",
    "\n",
    "By itself, this can be useful, but we are more interested in aggregate statistics. Let's get the number of crimes by month..."
   ]
  },
  {
   "cell_type": "code",
   "execution_count": null,
   "metadata": {
    "ExecuteTime": {
     "end_time": "2017-10-08T22:43:40.201495",
     "start_time": "2017-10-08T22:43:40.138635"
    }
   },
   "outputs": [],
   "source": [
    "df_ct = df_ct.resample(\"1M\", closed=\"right\").count()"
   ]
  },
  {
   "cell_type": "code",
   "execution_count": null,
   "metadata": {
    "ExecuteTime": {
     "end_time": "2017-10-08T22:42:05.352596",
     "start_time": "2017-10-08T22:42:05.301141"
    },
    "scrolled": true
   },
   "outputs": [],
   "source": [
    "df_ct.head()"
   ]
  },
  {
   "cell_type": "markdown",
   "metadata": {},
   "source": [
    "Average number of crimes per month, for each year:"
   ]
  },
  {
   "cell_type": "code",
   "execution_count": null,
   "metadata": {
    "ExecuteTime": {
     "end_time": "2017-10-08T20:36:38.119688",
     "start_time": "2017-10-08T20:36:36.875919"
    }
   },
   "outputs": [],
   "source": [
    "ax = df_ct.plot.box(figsize=(13,4), rot=45)\n",
    "plt.ylabel(\"Total Reported Crimes by Month\")"
   ]
  },
  {
   "cell_type": "markdown",
   "metadata": {},
   "source": [
    "Explanation of boxplot:\n",
    "\n",
    "From the matplotlib documentation (http://matplotlib.org/api/pyplot_api.html#matplotlib.pyplot.boxplot):\n",
    "\n",
    "The box extends from the **lower to upper quartile values** of the data, with a line at the **median**. The whiskers extend from the box to show the range of the data. Flier points are those past the end of the whiskers.\n",
    "\n",
    "**Whiskers:** IQR is the interquartile range (Q3-Q1). The upper whisker will extend to last datum less than Q3 + whis*IQR (where the default value for whis is 1.5). Similarly, the lower whisker will extend to the first datum greater than Q1 - whis*IQR. Beyond the whiskers, data are considered outliers and are plotted as individual points. "
   ]
  },
  {
   "cell_type": "code",
   "execution_count": null,
   "metadata": {
    "ExecuteTime": {
     "end_time": "2017-10-08T21:54:25.379935",
     "start_time": "2017-10-08T21:54:25.376922"
    }
   },
   "outputs": [],
   "source": [
    "## In-class exercise:\n",
    "# Make a boxplot of the number of reported crimes, aggregating by week. "
   ]
  },
  {
   "cell_type": "code",
   "execution_count": null,
   "metadata": {
    "ExecuteTime": {
     "end_time": "2017-10-09T20:09:13.909910",
     "start_time": "2017-10-09T20:09:12.385835"
    }
   },
   "outputs": [],
   "source": [
    "df_wk = df.pivot_table(index=\"occur_dt\", columns=\"UC2 Literal\", values=\"offense_id\")\n",
    "df_wk = df_wk.resample(\"W-SUN\", closed='right').count()\n",
    "df_wk.plot.box(figsize=(13,4), rot=45)\n",
    "plt.ylabel(\"Total Reported Crimes by Week\")"
   ]
  },
  {
   "cell_type": "markdown",
   "metadata": {},
   "source": [
    "More on pandas datetime objects:\n",
    "\n",
    "http://pandas-docs.github.io/pandas-docs-travis/timeseries.html#dateoffset-objects\n",
    "\n",
    "http://pandas-docs.github.io/pandas-docs-travis/timeseries.html#anchored-offsets"
   ]
  },
  {
   "cell_type": "markdown",
   "metadata": {},
   "source": [
    "### Crimes over time"
   ]
  },
  {
   "cell_type": "markdown",
   "metadata": {},
   "source": [
    "Let's take a look at a time series plot of the number of crimes over time..."
   ]
  },
  {
   "cell_type": "code",
   "execution_count": null,
   "metadata": {
    "ExecuteTime": {
     "end_time": "2017-10-08T21:00:38.061707",
     "start_time": "2017-10-08T21:00:36.354127"
    }
   },
   "outputs": [],
   "source": [
    "ax = df_ct.plot(figsize=(10,5), style='-o')\n",
    "ax.get_legend().set_bbox_to_anchor((1, 1))\n",
    "plt.ylabel(\"Total Reported Crimes by Month\")\n",
    "ax.vlines(pd.date_range(\"12/31/2009\", \"12/31/2017\", freq=\"A-JAN\"), 0, 900)"
   ]
  },
  {
   "cell_type": "markdown",
   "metadata": {},
   "source": [
    "Can you pick out the seasonal variation in number of crimes per year?\n",
    "\n",
    "Suppose we are not interested in seasonal trends, but want to see if the number of reported crimes is changing year over year. We could simply add the number of crimes together to get number of crimes reported each year."
   ]
  },
  {
   "cell_type": "code",
   "execution_count": null,
   "metadata": {
    "ExecuteTime": {
     "end_time": "2017-10-08T20:52:34.044256",
     "start_time": "2017-10-08T20:52:34.036976"
    }
   },
   "outputs": [],
   "source": [
    "ann_cr = df_ct.resample(\"A-DEC\", closed=\"right\").sum()"
   ]
  },
  {
   "cell_type": "code",
   "execution_count": null,
   "metadata": {
    "ExecuteTime": {
     "end_time": "2017-10-08T20:53:22.581414",
     "start_time": "2017-10-08T20:53:21.566357"
    },
    "scrolled": false
   },
   "outputs": [],
   "source": [
    "ax = ann_cr[ann_cr.index<\"01/01/2017\"].plot(figsize=(10,5), style='-o')\n",
    "ax.get_legend().set_bbox_to_anchor((1, 1))"
   ]
  },
  {
   "cell_type": "markdown",
   "metadata": {
    "ExecuteTime": {
     "end_time": "2017-10-08T21:56:01.908868",
     "start_time": "2017-10-08T21:56:01.905504"
    }
   },
   "source": [
    "## Correlation In Number of Crimes Over Time"
   ]
  },
  {
   "cell_type": "markdown",
   "metadata": {},
   "source": [
    "You can use the \"corr\" method in Pandas to find the correlation between columns of a dataframe. "
   ]
  },
  {
   "cell_type": "code",
   "execution_count": null,
   "metadata": {
    "ExecuteTime": {
     "end_time": "2017-10-08T21:56:45.014921",
     "start_time": "2017-10-08T21:56:45.008794"
    }
   },
   "outputs": [],
   "source": [
    "crime_corr = df_ct.corr()"
   ]
  },
  {
   "cell_type": "code",
   "execution_count": null,
   "metadata": {
    "ExecuteTime": {
     "end_time": "2017-10-08T21:56:50.118060",
     "start_time": "2017-10-08T21:56:50.032793"
    }
   },
   "outputs": [],
   "source": [
    "crime_corr"
   ]
  },
  {
   "cell_type": "markdown",
   "metadata": {
    "ExecuteTime": {
     "end_time": "2017-10-08T21:59:05.427881",
     "start_time": "2017-10-08T21:59:05.422751"
    }
   },
   "source": [
    "Visualizing the correlation..."
   ]
  },
  {
   "cell_type": "code",
   "execution_count": null,
   "metadata": {
    "ExecuteTime": {
     "end_time": "2017-10-08T22:05:43.072141",
     "start_time": "2017-10-08T22:05:41.883084"
    }
   },
   "outputs": [],
   "source": [
    "plt.matshow(crime_corr);\n",
    "plt.yticks(range(len(crime_corr.columns)), crime_corr.columns);\n",
    "plt.xticks(range(len(crime_corr.columns)), crime_corr.columns, rotation=90);\n",
    "plt.colorbar();"
   ]
  },
  {
   "cell_type": "markdown",
   "metadata": {},
   "source": [
    "# Crimes By Place"
   ]
  },
  {
   "cell_type": "markdown",
   "metadata": {},
   "source": [
    "## Beats and Zones\n",
    "The City of Atlanta is divided into 6 zones, each with 12 to 14 beats. \n",
    "\n",
    "![](https://upload.wikimedia.org/wikipedia/commons/thumb/c/cb/Atlanta_Police_Zones_-_Feb_2013.jpg/588px-Atlanta_Police_Zones_-_Feb_2013.jpg)"
   ]
  },
  {
   "cell_type": "code",
   "execution_count": 6,
   "metadata": {
    "ExecuteTime": {
     "end_time": "2017-10-08T22:51:23.342122",
     "start_time": "2017-10-08T22:51:20.581418"
    }
   },
   "outputs": [],
   "source": [
    "df['Zone'] = df['beat']//100\n",
    "df['Year'] = df.occur_dt.apply(lambda x: x.year)"
   ]
  },
  {
   "cell_type": "code",
   "execution_count": 7,
   "metadata": {
    "ExecuteTime": {
     "end_time": "2017-10-09T20:33:24.649567",
     "start_time": "2017-10-09T20:33:24.483972"
    }
   },
   "outputs": [],
   "source": [
    "df_cp = df.pivot_table(index=\"Zone\", \n",
    "                       columns=\"UC2 Literal\", \n",
    "                       values=\"offense_id\", \n",
    "                       aggfunc=lambda x: np.count_nonzero(~np.isnan(x)))"
   ]
  },
  {
   "cell_type": "code",
   "execution_count": null,
   "metadata": {
    "ExecuteTime": {
     "end_time": "2017-10-09T20:33:28.329891",
     "start_time": "2017-10-09T20:33:28.241014"
    },
    "scrolled": true
   },
   "outputs": [],
   "source": [
    "df_cp"
   ]
  },
  {
   "cell_type": "code",
   "execution_count": 8,
   "metadata": {
    "ExecuteTime": {
     "end_time": "2017-10-09T21:07:01.029211",
     "start_time": "2017-10-09T21:07:00.702981"
    }
   },
   "outputs": [],
   "source": [
    "df_cp = df.pivot_table(index=[\"Year\",\"Zone\"], \n",
    "                       columns=\"UC2 Literal\", \n",
    "                       values=\"offense_id\", \n",
    "                       aggfunc=lambda x: np.count_nonzero(~np.isnan(x)))"
   ]
  },
  {
   "cell_type": "code",
   "execution_count": 9,
   "metadata": {
    "ExecuteTime": {
     "end_time": "2017-10-09T21:07:02.163893",
     "start_time": "2017-10-09T21:07:02.001189"
    }
   },
   "outputs": [
    {
     "data": {
      "text/html": [
       "<div>\n",
       "<style scoped>\n",
       "    .dataframe tbody tr th:only-of-type {\n",
       "        vertical-align: middle;\n",
       "    }\n",
       "\n",
       "    .dataframe tbody tr th {\n",
       "        vertical-align: top;\n",
       "    }\n",
       "\n",
       "    .dataframe thead th {\n",
       "        text-align: right;\n",
       "    }\n",
       "</style>\n",
       "<table border=\"1\" class=\"dataframe\">\n",
       "  <thead>\n",
       "    <tr style=\"text-align: right;\">\n",
       "      <th></th>\n",
       "      <th>UC2 Literal</th>\n",
       "      <th>AGG ASSAULT</th>\n",
       "      <th>AUTO THEFT</th>\n",
       "      <th>BURGLARY-NONRES</th>\n",
       "      <th>BURGLARY-RESIDENCE</th>\n",
       "      <th>HOMICIDE</th>\n",
       "      <th>LARCENY-FROM VEHICLE</th>\n",
       "      <th>LARCENY-NON VEHICLE</th>\n",
       "      <th>RAPE</th>\n",
       "      <th>ROBBERY-COMMERCIAL</th>\n",
       "      <th>ROBBERY-PEDESTRIAN</th>\n",
       "      <th>ROBBERY-RESIDENCE</th>\n",
       "    </tr>\n",
       "    <tr>\n",
       "      <th>Year</th>\n",
       "      <th>Zone</th>\n",
       "      <th></th>\n",
       "      <th></th>\n",
       "      <th></th>\n",
       "      <th></th>\n",
       "      <th></th>\n",
       "      <th></th>\n",
       "      <th></th>\n",
       "      <th></th>\n",
       "      <th></th>\n",
       "      <th></th>\n",
       "      <th></th>\n",
       "    </tr>\n",
       "  </thead>\n",
       "  <tbody>\n",
       "    <tr>\n",
       "      <th rowspan=\"4\" valign=\"top\">1916.0</th>\n",
       "      <th>2.0</th>\n",
       "      <td>NaN</td>\n",
       "      <td>1.0</td>\n",
       "      <td>1.0</td>\n",
       "      <td>NaN</td>\n",
       "      <td>NaN</td>\n",
       "      <td>NaN</td>\n",
       "      <td>1.0</td>\n",
       "      <td>NaN</td>\n",
       "      <td>NaN</td>\n",
       "      <td>NaN</td>\n",
       "      <td>NaN</td>\n",
       "    </tr>\n",
       "    <tr>\n",
       "      <th>4.0</th>\n",
       "      <td>NaN</td>\n",
       "      <td>NaN</td>\n",
       "      <td>NaN</td>\n",
       "      <td>1.0</td>\n",
       "      <td>NaN</td>\n",
       "      <td>NaN</td>\n",
       "      <td>1.0</td>\n",
       "      <td>NaN</td>\n",
       "      <td>NaN</td>\n",
       "      <td>NaN</td>\n",
       "      <td>NaN</td>\n",
       "    </tr>\n",
       "    <tr>\n",
       "      <th>5.0</th>\n",
       "      <td>NaN</td>\n",
       "      <td>1.0</td>\n",
       "      <td>1.0</td>\n",
       "      <td>NaN</td>\n",
       "      <td>NaN</td>\n",
       "      <td>1.0</td>\n",
       "      <td>NaN</td>\n",
       "      <td>NaN</td>\n",
       "      <td>NaN</td>\n",
       "      <td>NaN</td>\n",
       "      <td>NaN</td>\n",
       "    </tr>\n",
       "    <tr>\n",
       "      <th>6.0</th>\n",
       "      <td>NaN</td>\n",
       "      <td>1.0</td>\n",
       "      <td>NaN</td>\n",
       "      <td>2.0</td>\n",
       "      <td>NaN</td>\n",
       "      <td>NaN</td>\n",
       "      <td>NaN</td>\n",
       "      <td>NaN</td>\n",
       "      <td>NaN</td>\n",
       "      <td>NaN</td>\n",
       "      <td>NaN</td>\n",
       "    </tr>\n",
       "    <tr>\n",
       "      <th rowspan=\"2\" valign=\"top\">1920.0</th>\n",
       "      <th>2.0</th>\n",
       "      <td>NaN</td>\n",
       "      <td>NaN</td>\n",
       "      <td>NaN</td>\n",
       "      <td>NaN</td>\n",
       "      <td>NaN</td>\n",
       "      <td>1.0</td>\n",
       "      <td>NaN</td>\n",
       "      <td>NaN</td>\n",
       "      <td>NaN</td>\n",
       "      <td>NaN</td>\n",
       "      <td>NaN</td>\n",
       "    </tr>\n",
       "    <tr>\n",
       "      <th>4.0</th>\n",
       "      <td>NaN</td>\n",
       "      <td>NaN</td>\n",
       "      <td>NaN</td>\n",
       "      <td>1.0</td>\n",
       "      <td>NaN</td>\n",
       "      <td>NaN</td>\n",
       "      <td>NaN</td>\n",
       "      <td>NaN</td>\n",
       "      <td>NaN</td>\n",
       "      <td>NaN</td>\n",
       "      <td>NaN</td>\n",
       "    </tr>\n",
       "    <tr>\n",
       "      <th>1970.0</th>\n",
       "      <th>6.0</th>\n",
       "      <td>NaN</td>\n",
       "      <td>NaN</td>\n",
       "      <td>NaN</td>\n",
       "      <td>NaN</td>\n",
       "      <td>NaN</td>\n",
       "      <td>NaN</td>\n",
       "      <td>1.0</td>\n",
       "      <td>NaN</td>\n",
       "      <td>NaN</td>\n",
       "      <td>NaN</td>\n",
       "      <td>NaN</td>\n",
       "    </tr>\n",
       "    <tr>\n",
       "      <th>1973.0</th>\n",
       "      <th>3.0</th>\n",
       "      <td>NaN</td>\n",
       "      <td>NaN</td>\n",
       "      <td>NaN</td>\n",
       "      <td>1.0</td>\n",
       "      <td>NaN</td>\n",
       "      <td>NaN</td>\n",
       "      <td>NaN</td>\n",
       "      <td>NaN</td>\n",
       "      <td>NaN</td>\n",
       "      <td>NaN</td>\n",
       "      <td>NaN</td>\n",
       "    </tr>\n",
       "    <tr>\n",
       "      <th>1976.0</th>\n",
       "      <th>6.0</th>\n",
       "      <td>NaN</td>\n",
       "      <td>NaN</td>\n",
       "      <td>NaN</td>\n",
       "      <td>NaN</td>\n",
       "      <td>NaN</td>\n",
       "      <td>1.0</td>\n",
       "      <td>NaN</td>\n",
       "      <td>NaN</td>\n",
       "      <td>NaN</td>\n",
       "      <td>NaN</td>\n",
       "      <td>NaN</td>\n",
       "    </tr>\n",
       "    <tr>\n",
       "      <th>1979.0</th>\n",
       "      <th>3.0</th>\n",
       "      <td>NaN</td>\n",
       "      <td>1.0</td>\n",
       "      <td>NaN</td>\n",
       "      <td>NaN</td>\n",
       "      <td>NaN</td>\n",
       "      <td>NaN</td>\n",
       "      <td>NaN</td>\n",
       "      <td>NaN</td>\n",
       "      <td>NaN</td>\n",
       "      <td>NaN</td>\n",
       "      <td>NaN</td>\n",
       "    </tr>\n",
       "    <tr>\n",
       "      <th>...</th>\n",
       "      <th>...</th>\n",
       "      <td>...</td>\n",
       "      <td>...</td>\n",
       "      <td>...</td>\n",
       "      <td>...</td>\n",
       "      <td>...</td>\n",
       "      <td>...</td>\n",
       "      <td>...</td>\n",
       "      <td>...</td>\n",
       "      <td>...</td>\n",
       "      <td>...</td>\n",
       "      <td>...</td>\n",
       "    </tr>\n",
       "    <tr>\n",
       "      <th rowspan=\"3\" valign=\"top\">2016.0</th>\n",
       "      <th>5.0</th>\n",
       "      <td>189.0</td>\n",
       "      <td>364.0</td>\n",
       "      <td>146.0</td>\n",
       "      <td>140.0</td>\n",
       "      <td>7.0</td>\n",
       "      <td>2209.0</td>\n",
       "      <td>1172.0</td>\n",
       "      <td>35.0</td>\n",
       "      <td>26.0</td>\n",
       "      <td>224.0</td>\n",
       "      <td>11.0</td>\n",
       "    </tr>\n",
       "    <tr>\n",
       "      <th>6.0</th>\n",
       "      <td>181.0</td>\n",
       "      <td>460.0</td>\n",
       "      <td>149.0</td>\n",
       "      <td>508.0</td>\n",
       "      <td>7.0</td>\n",
       "      <td>1713.0</td>\n",
       "      <td>1057.0</td>\n",
       "      <td>11.0</td>\n",
       "      <td>37.0</td>\n",
       "      <td>209.0</td>\n",
       "      <td>28.0</td>\n",
       "    </tr>\n",
       "    <tr>\n",
       "      <th>7.0</th>\n",
       "      <td>7.0</td>\n",
       "      <td>4.0</td>\n",
       "      <td>2.0</td>\n",
       "      <td>NaN</td>\n",
       "      <td>NaN</td>\n",
       "      <td>31.0</td>\n",
       "      <td>140.0</td>\n",
       "      <td>NaN</td>\n",
       "      <td>NaN</td>\n",
       "      <td>NaN</td>\n",
       "      <td>NaN</td>\n",
       "    </tr>\n",
       "    <tr>\n",
       "      <th rowspan=\"7\" valign=\"top\">2017.0</th>\n",
       "      <th>1.0</th>\n",
       "      <td>430.0</td>\n",
       "      <td>351.0</td>\n",
       "      <td>72.0</td>\n",
       "      <td>438.0</td>\n",
       "      <td>17.0</td>\n",
       "      <td>617.0</td>\n",
       "      <td>514.0</td>\n",
       "      <td>39.0</td>\n",
       "      <td>10.0</td>\n",
       "      <td>152.0</td>\n",
       "      <td>26.0</td>\n",
       "    </tr>\n",
       "    <tr>\n",
       "      <th>2.0</th>\n",
       "      <td>101.0</td>\n",
       "      <td>422.0</td>\n",
       "      <td>119.0</td>\n",
       "      <td>237.0</td>\n",
       "      <td>5.0</td>\n",
       "      <td>1735.0</td>\n",
       "      <td>1259.0</td>\n",
       "      <td>19.0</td>\n",
       "      <td>29.0</td>\n",
       "      <td>96.0</td>\n",
       "      <td>5.0</td>\n",
       "    </tr>\n",
       "    <tr>\n",
       "      <th>3.0</th>\n",
       "      <td>368.0</td>\n",
       "      <td>495.0</td>\n",
       "      <td>103.0</td>\n",
       "      <td>351.0</td>\n",
       "      <td>12.0</td>\n",
       "      <td>819.0</td>\n",
       "      <td>528.0</td>\n",
       "      <td>26.0</td>\n",
       "      <td>16.0</td>\n",
       "      <td>167.0</td>\n",
       "      <td>23.0</td>\n",
       "    </tr>\n",
       "    <tr>\n",
       "      <th>4.0</th>\n",
       "      <td>348.0</td>\n",
       "      <td>444.0</td>\n",
       "      <td>108.0</td>\n",
       "      <td>460.0</td>\n",
       "      <td>7.0</td>\n",
       "      <td>873.0</td>\n",
       "      <td>631.0</td>\n",
       "      <td>27.0</td>\n",
       "      <td>28.0</td>\n",
       "      <td>160.0</td>\n",
       "      <td>23.0</td>\n",
       "    </tr>\n",
       "    <tr>\n",
       "      <th>5.0</th>\n",
       "      <td>154.0</td>\n",
       "      <td>279.0</td>\n",
       "      <td>63.0</td>\n",
       "      <td>69.0</td>\n",
       "      <td>5.0</td>\n",
       "      <td>1506.0</td>\n",
       "      <td>847.0</td>\n",
       "      <td>29.0</td>\n",
       "      <td>7.0</td>\n",
       "      <td>125.0</td>\n",
       "      <td>5.0</td>\n",
       "    </tr>\n",
       "    <tr>\n",
       "      <th>6.0</th>\n",
       "      <td>133.0</td>\n",
       "      <td>233.0</td>\n",
       "      <td>92.0</td>\n",
       "      <td>282.0</td>\n",
       "      <td>4.0</td>\n",
       "      <td>1186.0</td>\n",
       "      <td>789.0</td>\n",
       "      <td>13.0</td>\n",
       "      <td>14.0</td>\n",
       "      <td>131.0</td>\n",
       "      <td>10.0</td>\n",
       "    </tr>\n",
       "    <tr>\n",
       "      <th>7.0</th>\n",
       "      <td>3.0</td>\n",
       "      <td>5.0</td>\n",
       "      <td>1.0</td>\n",
       "      <td>NaN</td>\n",
       "      <td>NaN</td>\n",
       "      <td>19.0</td>\n",
       "      <td>145.0</td>\n",
       "      <td>1.0</td>\n",
       "      <td>NaN</td>\n",
       "      <td>1.0</td>\n",
       "      <td>NaN</td>\n",
       "    </tr>\n",
       "  </tbody>\n",
       "</table>\n",
       "<p>117 rows × 11 columns</p>\n",
       "</div>"
      ],
      "text/plain": [
       "UC2 Literal  AGG ASSAULT  AUTO THEFT  BURGLARY-NONRES  BURGLARY-RESIDENCE  \\\n",
       "Year   Zone                                                                 \n",
       "1916.0 2.0           NaN         1.0              1.0                 NaN   \n",
       "       4.0           NaN         NaN              NaN                 1.0   \n",
       "       5.0           NaN         1.0              1.0                 NaN   \n",
       "       6.0           NaN         1.0              NaN                 2.0   \n",
       "1920.0 2.0           NaN         NaN              NaN                 NaN   \n",
       "       4.0           NaN         NaN              NaN                 1.0   \n",
       "1970.0 6.0           NaN         NaN              NaN                 NaN   \n",
       "1973.0 3.0           NaN         NaN              NaN                 1.0   \n",
       "1976.0 6.0           NaN         NaN              NaN                 NaN   \n",
       "1979.0 3.0           NaN         1.0              NaN                 NaN   \n",
       "...                  ...         ...              ...                 ...   \n",
       "2016.0 5.0         189.0       364.0            146.0               140.0   \n",
       "       6.0         181.0       460.0            149.0               508.0   \n",
       "       7.0           7.0         4.0              2.0                 NaN   \n",
       "2017.0 1.0         430.0       351.0             72.0               438.0   \n",
       "       2.0         101.0       422.0            119.0               237.0   \n",
       "       3.0         368.0       495.0            103.0               351.0   \n",
       "       4.0         348.0       444.0            108.0               460.0   \n",
       "       5.0         154.0       279.0             63.0                69.0   \n",
       "       6.0         133.0       233.0             92.0               282.0   \n",
       "       7.0           3.0         5.0              1.0                 NaN   \n",
       "\n",
       "UC2 Literal  HOMICIDE  LARCENY-FROM VEHICLE  LARCENY-NON VEHICLE  RAPE  \\\n",
       "Year   Zone                                                              \n",
       "1916.0 2.0        NaN                   NaN                  1.0   NaN   \n",
       "       4.0        NaN                   NaN                  1.0   NaN   \n",
       "       5.0        NaN                   1.0                  NaN   NaN   \n",
       "       6.0        NaN                   NaN                  NaN   NaN   \n",
       "1920.0 2.0        NaN                   1.0                  NaN   NaN   \n",
       "       4.0        NaN                   NaN                  NaN   NaN   \n",
       "1970.0 6.0        NaN                   NaN                  1.0   NaN   \n",
       "1973.0 3.0        NaN                   NaN                  NaN   NaN   \n",
       "1976.0 6.0        NaN                   1.0                  NaN   NaN   \n",
       "1979.0 3.0        NaN                   NaN                  NaN   NaN   \n",
       "...               ...                   ...                  ...   ...   \n",
       "2016.0 5.0        7.0                2209.0               1172.0  35.0   \n",
       "       6.0        7.0                1713.0               1057.0  11.0   \n",
       "       7.0        NaN                  31.0                140.0   NaN   \n",
       "2017.0 1.0       17.0                 617.0                514.0  39.0   \n",
       "       2.0        5.0                1735.0               1259.0  19.0   \n",
       "       3.0       12.0                 819.0                528.0  26.0   \n",
       "       4.0        7.0                 873.0                631.0  27.0   \n",
       "       5.0        5.0                1506.0                847.0  29.0   \n",
       "       6.0        4.0                1186.0                789.0  13.0   \n",
       "       7.0        NaN                  19.0                145.0   1.0   \n",
       "\n",
       "UC2 Literal  ROBBERY-COMMERCIAL  ROBBERY-PEDESTRIAN  ROBBERY-RESIDENCE  \n",
       "Year   Zone                                                             \n",
       "1916.0 2.0                  NaN                 NaN                NaN  \n",
       "       4.0                  NaN                 NaN                NaN  \n",
       "       5.0                  NaN                 NaN                NaN  \n",
       "       6.0                  NaN                 NaN                NaN  \n",
       "1920.0 2.0                  NaN                 NaN                NaN  \n",
       "       4.0                  NaN                 NaN                NaN  \n",
       "1970.0 6.0                  NaN                 NaN                NaN  \n",
       "1973.0 3.0                  NaN                 NaN                NaN  \n",
       "1976.0 6.0                  NaN                 NaN                NaN  \n",
       "1979.0 3.0                  NaN                 NaN                NaN  \n",
       "...                         ...                 ...                ...  \n",
       "2016.0 5.0                 26.0               224.0               11.0  \n",
       "       6.0                 37.0               209.0               28.0  \n",
       "       7.0                  NaN                 NaN                NaN  \n",
       "2017.0 1.0                 10.0               152.0               26.0  \n",
       "       2.0                 29.0                96.0                5.0  \n",
       "       3.0                 16.0               167.0               23.0  \n",
       "       4.0                 28.0               160.0               23.0  \n",
       "       5.0                  7.0               125.0                5.0  \n",
       "       6.0                 14.0               131.0               10.0  \n",
       "       7.0                  NaN                 1.0                NaN  \n",
       "\n",
       "[117 rows x 11 columns]"
      ]
     },
     "execution_count": 9,
     "metadata": {},
     "output_type": "execute_result"
    }
   ],
   "source": [
    "df_cp"
   ]
  },
  {
   "cell_type": "code",
   "execution_count": 22,
   "metadata": {},
   "outputs": [
    {
     "data": {
      "text/plain": [
       "[(1916.0,\n",
       "  1916.0,\n",
       "  1916.0,\n",
       "  1916.0,\n",
       "  1920.0,\n",
       "  1920.0,\n",
       "  1970.0,\n",
       "  1973.0,\n",
       "  1976.0,\n",
       "  1979.0,\n",
       "  1980.0,\n",
       "  1991.0,\n",
       "  1991.0,\n",
       "  1993.0,\n",
       "  1994.0,\n",
       "  1996.0,\n",
       "  1996.0,\n",
       "  1998.0,\n",
       "  2000.0,\n",
       "  2000.0,\n",
       "  2000.0,\n",
       "  2001.0,\n",
       "  2001.0,\n",
       "  2001.0,\n",
       "  2002.0,\n",
       "  2002.0,\n",
       "  2002.0,\n",
       "  2003.0,\n",
       "  2003.0,\n",
       "  2004.0,\n",
       "  2004.0,\n",
       "  2004.0,\n",
       "  2005.0,\n",
       "  2005.0,\n",
       "  2005.0,\n",
       "  2006.0,\n",
       "  2006.0,\n",
       "  2006.0,\n",
       "  2007.0,\n",
       "  2007.0,\n",
       "  2007.0,\n",
       "  2007.0,\n",
       "  2007.0,\n",
       "  2007.0,\n",
       "  2008.0,\n",
       "  2008.0,\n",
       "  2008.0,\n",
       "  2008.0,\n",
       "  2008.0,\n",
       "  2008.0,\n",
       "  2008.0,\n",
       "  2009.0,\n",
       "  2009.0,\n",
       "  2009.0,\n",
       "  2009.0,\n",
       "  2009.0,\n",
       "  2009.0,\n",
       "  2009.0,\n",
       "  2009.0,\n",
       "  2010.0,\n",
       "  2010.0,\n",
       "  2010.0,\n",
       "  2010.0,\n",
       "  2010.0,\n",
       "  2010.0,\n",
       "  2010.0,\n",
       "  2010.0,\n",
       "  2011.0,\n",
       "  2011.0,\n",
       "  2011.0,\n",
       "  2011.0,\n",
       "  2011.0,\n",
       "  2011.0,\n",
       "  2011.0,\n",
       "  2012.0,\n",
       "  2012.0,\n",
       "  2012.0,\n",
       "  2012.0,\n",
       "  2012.0,\n",
       "  2012.0,\n",
       "  2012.0,\n",
       "  2013.0,\n",
       "  2013.0,\n",
       "  2013.0,\n",
       "  2013.0,\n",
       "  2013.0,\n",
       "  2013.0,\n",
       "  2013.0,\n",
       "  2013.0,\n",
       "  2014.0,\n",
       "  2014.0,\n",
       "  2014.0,\n",
       "  2014.0,\n",
       "  2014.0,\n",
       "  2014.0,\n",
       "  2014.0,\n",
       "  2015.0,\n",
       "  2015.0,\n",
       "  2015.0,\n",
       "  2015.0,\n",
       "  2015.0,\n",
       "  2015.0,\n",
       "  2015.0,\n",
       "  2016.0,\n",
       "  2016.0,\n",
       "  2016.0,\n",
       "  2016.0,\n",
       "  2016.0,\n",
       "  2016.0,\n",
       "  2016.0,\n",
       "  2017.0,\n",
       "  2017.0,\n",
       "  2017.0,\n",
       "  2017.0,\n",
       "  2017.0,\n",
       "  2017.0,\n",
       "  2017.0),\n",
       " (2.0,\n",
       "  4.0,\n",
       "  5.0,\n",
       "  6.0,\n",
       "  2.0,\n",
       "  4.0,\n",
       "  6.0,\n",
       "  3.0,\n",
       "  6.0,\n",
       "  3.0,\n",
       "  3.0,\n",
       "  1.0,\n",
       "  3.0,\n",
       "  6.0,\n",
       "  2.0,\n",
       "  1.0,\n",
       "  3.0,\n",
       "  2.0,\n",
       "  2.0,\n",
       "  3.0,\n",
       "  6.0,\n",
       "  2.0,\n",
       "  3.0,\n",
       "  6.0,\n",
       "  2.0,\n",
       "  3.0,\n",
       "  6.0,\n",
       "  2.0,\n",
       "  4.0,\n",
       "  2.0,\n",
       "  3.0,\n",
       "  6.0,\n",
       "  2.0,\n",
       "  3.0,\n",
       "  6.0,\n",
       "  1.0,\n",
       "  2.0,\n",
       "  5.0,\n",
       "  1.0,\n",
       "  2.0,\n",
       "  3.0,\n",
       "  4.0,\n",
       "  5.0,\n",
       "  6.0,\n",
       "  0.0,\n",
       "  1.0,\n",
       "  2.0,\n",
       "  3.0,\n",
       "  4.0,\n",
       "  5.0,\n",
       "  6.0,\n",
       "  0.0,\n",
       "  1.0,\n",
       "  2.0,\n",
       "  3.0,\n",
       "  4.0,\n",
       "  5.0,\n",
       "  6.0,\n",
       "  7.0,\n",
       "  0.0,\n",
       "  1.0,\n",
       "  2.0,\n",
       "  3.0,\n",
       "  4.0,\n",
       "  5.0,\n",
       "  6.0,\n",
       "  7.0,\n",
       "  1.0,\n",
       "  2.0,\n",
       "  3.0,\n",
       "  4.0,\n",
       "  5.0,\n",
       "  6.0,\n",
       "  7.0,\n",
       "  1.0,\n",
       "  2.0,\n",
       "  3.0,\n",
       "  4.0,\n",
       "  5.0,\n",
       "  6.0,\n",
       "  7.0,\n",
       "  1.0,\n",
       "  2.0,\n",
       "  3.0,\n",
       "  4.0,\n",
       "  5.0,\n",
       "  6.0,\n",
       "  7.0,\n",
       "  9.0,\n",
       "  1.0,\n",
       "  2.0,\n",
       "  3.0,\n",
       "  4.0,\n",
       "  5.0,\n",
       "  6.0,\n",
       "  7.0,\n",
       "  1.0,\n",
       "  2.0,\n",
       "  3.0,\n",
       "  4.0,\n",
       "  5.0,\n",
       "  6.0,\n",
       "  7.0,\n",
       "  1.0,\n",
       "  2.0,\n",
       "  3.0,\n",
       "  4.0,\n",
       "  5.0,\n",
       "  6.0,\n",
       "  7.0,\n",
       "  1.0,\n",
       "  2.0,\n",
       "  3.0,\n",
       "  4.0,\n",
       "  5.0,\n",
       "  6.0,\n",
       "  7.0)]"
      ]
     },
     "execution_count": 22,
     "metadata": {},
     "output_type": "execute_result"
    }
   ],
   "source": [
    "# [x[1] for x in df_cp.index.values]\n",
    "list(zip(*df_cp.index.values))"
   ]
  },
  {
   "cell_type": "code",
   "execution_count": 23,
   "metadata": {
    "ExecuteTime": {
     "end_time": "2017-10-08T22:59:15.011523",
     "start_time": "2017-10-08T22:59:14.881598"
    },
    "scrolled": false
   },
   "outputs": [
    {
     "data": {
      "text/html": [
       "<div>\n",
       "<style scoped>\n",
       "    .dataframe tbody tr th:only-of-type {\n",
       "        vertical-align: middle;\n",
       "    }\n",
       "\n",
       "    .dataframe tbody tr th {\n",
       "        vertical-align: top;\n",
       "    }\n",
       "\n",
       "    .dataframe thead th {\n",
       "        text-align: right;\n",
       "    }\n",
       "</style>\n",
       "<table border=\"1\" class=\"dataframe\">\n",
       "  <thead>\n",
       "    <tr style=\"text-align: right;\">\n",
       "      <th></th>\n",
       "      <th>UC2 Literal</th>\n",
       "      <th>AGG ASSAULT</th>\n",
       "      <th>AUTO THEFT</th>\n",
       "      <th>BURGLARY-NONRES</th>\n",
       "      <th>BURGLARY-RESIDENCE</th>\n",
       "      <th>HOMICIDE</th>\n",
       "      <th>LARCENY-FROM VEHICLE</th>\n",
       "      <th>LARCENY-NON VEHICLE</th>\n",
       "      <th>RAPE</th>\n",
       "      <th>ROBBERY-COMMERCIAL</th>\n",
       "      <th>ROBBERY-PEDESTRIAN</th>\n",
       "      <th>ROBBERY-RESIDENCE</th>\n",
       "    </tr>\n",
       "    <tr>\n",
       "      <th>Year</th>\n",
       "      <th>Zone</th>\n",
       "      <th></th>\n",
       "      <th></th>\n",
       "      <th></th>\n",
       "      <th></th>\n",
       "      <th></th>\n",
       "      <th></th>\n",
       "      <th></th>\n",
       "      <th></th>\n",
       "      <th></th>\n",
       "      <th></th>\n",
       "      <th></th>\n",
       "    </tr>\n",
       "  </thead>\n",
       "  <tbody>\n",
       "    <tr>\n",
       "      <th rowspan=\"4\" valign=\"top\">1916.0</th>\n",
       "      <th>2.0</th>\n",
       "      <td>0.0</td>\n",
       "      <td>1.0</td>\n",
       "      <td>1.0</td>\n",
       "      <td>0.0</td>\n",
       "      <td>0.0</td>\n",
       "      <td>0.0</td>\n",
       "      <td>1.0</td>\n",
       "      <td>0.0</td>\n",
       "      <td>0.0</td>\n",
       "      <td>0.0</td>\n",
       "      <td>0.0</td>\n",
       "    </tr>\n",
       "    <tr>\n",
       "      <th>4.0</th>\n",
       "      <td>0.0</td>\n",
       "      <td>0.0</td>\n",
       "      <td>0.0</td>\n",
       "      <td>1.0</td>\n",
       "      <td>0.0</td>\n",
       "      <td>0.0</td>\n",
       "      <td>1.0</td>\n",
       "      <td>0.0</td>\n",
       "      <td>0.0</td>\n",
       "      <td>0.0</td>\n",
       "      <td>0.0</td>\n",
       "    </tr>\n",
       "    <tr>\n",
       "      <th>5.0</th>\n",
       "      <td>0.0</td>\n",
       "      <td>1.0</td>\n",
       "      <td>1.0</td>\n",
       "      <td>0.0</td>\n",
       "      <td>0.0</td>\n",
       "      <td>1.0</td>\n",
       "      <td>0.0</td>\n",
       "      <td>0.0</td>\n",
       "      <td>0.0</td>\n",
       "      <td>0.0</td>\n",
       "      <td>0.0</td>\n",
       "    </tr>\n",
       "    <tr>\n",
       "      <th>6.0</th>\n",
       "      <td>0.0</td>\n",
       "      <td>1.0</td>\n",
       "      <td>0.0</td>\n",
       "      <td>2.0</td>\n",
       "      <td>0.0</td>\n",
       "      <td>0.0</td>\n",
       "      <td>0.0</td>\n",
       "      <td>0.0</td>\n",
       "      <td>0.0</td>\n",
       "      <td>0.0</td>\n",
       "      <td>0.0</td>\n",
       "    </tr>\n",
       "    <tr>\n",
       "      <th rowspan=\"2\" valign=\"top\">1920.0</th>\n",
       "      <th>2.0</th>\n",
       "      <td>0.0</td>\n",
       "      <td>0.0</td>\n",
       "      <td>0.0</td>\n",
       "      <td>0.0</td>\n",
       "      <td>0.0</td>\n",
       "      <td>1.0</td>\n",
       "      <td>0.0</td>\n",
       "      <td>0.0</td>\n",
       "      <td>0.0</td>\n",
       "      <td>0.0</td>\n",
       "      <td>0.0</td>\n",
       "    </tr>\n",
       "    <tr>\n",
       "      <th>4.0</th>\n",
       "      <td>0.0</td>\n",
       "      <td>0.0</td>\n",
       "      <td>0.0</td>\n",
       "      <td>1.0</td>\n",
       "      <td>0.0</td>\n",
       "      <td>0.0</td>\n",
       "      <td>0.0</td>\n",
       "      <td>0.0</td>\n",
       "      <td>0.0</td>\n",
       "      <td>0.0</td>\n",
       "      <td>0.0</td>\n",
       "    </tr>\n",
       "    <tr>\n",
       "      <th>1970.0</th>\n",
       "      <th>6.0</th>\n",
       "      <td>0.0</td>\n",
       "      <td>0.0</td>\n",
       "      <td>0.0</td>\n",
       "      <td>0.0</td>\n",
       "      <td>0.0</td>\n",
       "      <td>0.0</td>\n",
       "      <td>1.0</td>\n",
       "      <td>0.0</td>\n",
       "      <td>0.0</td>\n",
       "      <td>0.0</td>\n",
       "      <td>0.0</td>\n",
       "    </tr>\n",
       "    <tr>\n",
       "      <th>1973.0</th>\n",
       "      <th>3.0</th>\n",
       "      <td>0.0</td>\n",
       "      <td>0.0</td>\n",
       "      <td>0.0</td>\n",
       "      <td>1.0</td>\n",
       "      <td>0.0</td>\n",
       "      <td>0.0</td>\n",
       "      <td>0.0</td>\n",
       "      <td>0.0</td>\n",
       "      <td>0.0</td>\n",
       "      <td>0.0</td>\n",
       "      <td>0.0</td>\n",
       "    </tr>\n",
       "    <tr>\n",
       "      <th>1976.0</th>\n",
       "      <th>6.0</th>\n",
       "      <td>0.0</td>\n",
       "      <td>0.0</td>\n",
       "      <td>0.0</td>\n",
       "      <td>0.0</td>\n",
       "      <td>0.0</td>\n",
       "      <td>1.0</td>\n",
       "      <td>0.0</td>\n",
       "      <td>0.0</td>\n",
       "      <td>0.0</td>\n",
       "      <td>0.0</td>\n",
       "      <td>0.0</td>\n",
       "    </tr>\n",
       "    <tr>\n",
       "      <th>1979.0</th>\n",
       "      <th>3.0</th>\n",
       "      <td>0.0</td>\n",
       "      <td>1.0</td>\n",
       "      <td>0.0</td>\n",
       "      <td>0.0</td>\n",
       "      <td>0.0</td>\n",
       "      <td>0.0</td>\n",
       "      <td>0.0</td>\n",
       "      <td>0.0</td>\n",
       "      <td>0.0</td>\n",
       "      <td>0.0</td>\n",
       "      <td>0.0</td>\n",
       "    </tr>\n",
       "    <tr>\n",
       "      <th>1980.0</th>\n",
       "      <th>3.0</th>\n",
       "      <td>0.0</td>\n",
       "      <td>1.0</td>\n",
       "      <td>0.0</td>\n",
       "      <td>0.0</td>\n",
       "      <td>0.0</td>\n",
       "      <td>0.0</td>\n",
       "      <td>0.0</td>\n",
       "      <td>0.0</td>\n",
       "      <td>0.0</td>\n",
       "      <td>0.0</td>\n",
       "      <td>0.0</td>\n",
       "    </tr>\n",
       "    <tr>\n",
       "      <th rowspan=\"2\" valign=\"top\">1991.0</th>\n",
       "      <th>1.0</th>\n",
       "      <td>0.0</td>\n",
       "      <td>0.0</td>\n",
       "      <td>0.0</td>\n",
       "      <td>0.0</td>\n",
       "      <td>0.0</td>\n",
       "      <td>0.0</td>\n",
       "      <td>1.0</td>\n",
       "      <td>0.0</td>\n",
       "      <td>0.0</td>\n",
       "      <td>0.0</td>\n",
       "      <td>0.0</td>\n",
       "    </tr>\n",
       "    <tr>\n",
       "      <th>3.0</th>\n",
       "      <td>0.0</td>\n",
       "      <td>0.0</td>\n",
       "      <td>0.0</td>\n",
       "      <td>0.0</td>\n",
       "      <td>0.0</td>\n",
       "      <td>0.0</td>\n",
       "      <td>0.0</td>\n",
       "      <td>1.0</td>\n",
       "      <td>0.0</td>\n",
       "      <td>0.0</td>\n",
       "      <td>0.0</td>\n",
       "    </tr>\n",
       "    <tr>\n",
       "      <th>1993.0</th>\n",
       "      <th>6.0</th>\n",
       "      <td>0.0</td>\n",
       "      <td>0.0</td>\n",
       "      <td>0.0</td>\n",
       "      <td>0.0</td>\n",
       "      <td>0.0</td>\n",
       "      <td>0.0</td>\n",
       "      <td>1.0</td>\n",
       "      <td>0.0</td>\n",
       "      <td>0.0</td>\n",
       "      <td>0.0</td>\n",
       "      <td>0.0</td>\n",
       "    </tr>\n",
       "    <tr>\n",
       "      <th>1994.0</th>\n",
       "      <th>2.0</th>\n",
       "      <td>0.0</td>\n",
       "      <td>0.0</td>\n",
       "      <td>0.0</td>\n",
       "      <td>0.0</td>\n",
       "      <td>0.0</td>\n",
       "      <td>0.0</td>\n",
       "      <td>0.0</td>\n",
       "      <td>1.0</td>\n",
       "      <td>0.0</td>\n",
       "      <td>0.0</td>\n",
       "      <td>0.0</td>\n",
       "    </tr>\n",
       "    <tr>\n",
       "      <th rowspan=\"2\" valign=\"top\">1996.0</th>\n",
       "      <th>1.0</th>\n",
       "      <td>0.0</td>\n",
       "      <td>0.0</td>\n",
       "      <td>0.0</td>\n",
       "      <td>0.0</td>\n",
       "      <td>0.0</td>\n",
       "      <td>0.0</td>\n",
       "      <td>0.0</td>\n",
       "      <td>1.0</td>\n",
       "      <td>0.0</td>\n",
       "      <td>0.0</td>\n",
       "      <td>0.0</td>\n",
       "    </tr>\n",
       "    <tr>\n",
       "      <th>3.0</th>\n",
       "      <td>0.0</td>\n",
       "      <td>0.0</td>\n",
       "      <td>0.0</td>\n",
       "      <td>0.0</td>\n",
       "      <td>0.0</td>\n",
       "      <td>0.0</td>\n",
       "      <td>0.0</td>\n",
       "      <td>1.0</td>\n",
       "      <td>0.0</td>\n",
       "      <td>0.0</td>\n",
       "      <td>0.0</td>\n",
       "    </tr>\n",
       "    <tr>\n",
       "      <th>1998.0</th>\n",
       "      <th>2.0</th>\n",
       "      <td>0.0</td>\n",
       "      <td>0.0</td>\n",
       "      <td>0.0</td>\n",
       "      <td>0.0</td>\n",
       "      <td>0.0</td>\n",
       "      <td>0.0</td>\n",
       "      <td>0.0</td>\n",
       "      <td>1.0</td>\n",
       "      <td>0.0</td>\n",
       "      <td>0.0</td>\n",
       "      <td>0.0</td>\n",
       "    </tr>\n",
       "    <tr>\n",
       "      <th rowspan=\"2\" valign=\"top\">2000.0</th>\n",
       "      <th>2.0</th>\n",
       "      <td>0.0</td>\n",
       "      <td>0.0</td>\n",
       "      <td>0.0</td>\n",
       "      <td>1.0</td>\n",
       "      <td>0.0</td>\n",
       "      <td>0.0</td>\n",
       "      <td>0.0</td>\n",
       "      <td>0.0</td>\n",
       "      <td>0.0</td>\n",
       "      <td>0.0</td>\n",
       "      <td>0.0</td>\n",
       "    </tr>\n",
       "    <tr>\n",
       "      <th>3.0</th>\n",
       "      <td>0.0</td>\n",
       "      <td>0.0</td>\n",
       "      <td>0.0</td>\n",
       "      <td>1.0</td>\n",
       "      <td>0.0</td>\n",
       "      <td>0.0</td>\n",
       "      <td>0.0</td>\n",
       "      <td>0.0</td>\n",
       "      <td>0.0</td>\n",
       "      <td>0.0</td>\n",
       "      <td>0.0</td>\n",
       "    </tr>\n",
       "  </tbody>\n",
       "</table>\n",
       "</div>"
      ],
      "text/plain": [
       "UC2 Literal  AGG ASSAULT  AUTO THEFT  BURGLARY-NONRES  BURGLARY-RESIDENCE  \\\n",
       "Year   Zone                                                                 \n",
       "1916.0 2.0           0.0         1.0              1.0                 0.0   \n",
       "       4.0           0.0         0.0              0.0                 1.0   \n",
       "       5.0           0.0         1.0              1.0                 0.0   \n",
       "       6.0           0.0         1.0              0.0                 2.0   \n",
       "1920.0 2.0           0.0         0.0              0.0                 0.0   \n",
       "       4.0           0.0         0.0              0.0                 1.0   \n",
       "1970.0 6.0           0.0         0.0              0.0                 0.0   \n",
       "1973.0 3.0           0.0         0.0              0.0                 1.0   \n",
       "1976.0 6.0           0.0         0.0              0.0                 0.0   \n",
       "1979.0 3.0           0.0         1.0              0.0                 0.0   \n",
       "1980.0 3.0           0.0         1.0              0.0                 0.0   \n",
       "1991.0 1.0           0.0         0.0              0.0                 0.0   \n",
       "       3.0           0.0         0.0              0.0                 0.0   \n",
       "1993.0 6.0           0.0         0.0              0.0                 0.0   \n",
       "1994.0 2.0           0.0         0.0              0.0                 0.0   \n",
       "1996.0 1.0           0.0         0.0              0.0                 0.0   \n",
       "       3.0           0.0         0.0              0.0                 0.0   \n",
       "1998.0 2.0           0.0         0.0              0.0                 0.0   \n",
       "2000.0 2.0           0.0         0.0              0.0                 1.0   \n",
       "       3.0           0.0         0.0              0.0                 1.0   \n",
       "\n",
       "UC2 Literal  HOMICIDE  LARCENY-FROM VEHICLE  LARCENY-NON VEHICLE  RAPE  \\\n",
       "Year   Zone                                                              \n",
       "1916.0 2.0        0.0                   0.0                  1.0   0.0   \n",
       "       4.0        0.0                   0.0                  1.0   0.0   \n",
       "       5.0        0.0                   1.0                  0.0   0.0   \n",
       "       6.0        0.0                   0.0                  0.0   0.0   \n",
       "1920.0 2.0        0.0                   1.0                  0.0   0.0   \n",
       "       4.0        0.0                   0.0                  0.0   0.0   \n",
       "1970.0 6.0        0.0                   0.0                  1.0   0.0   \n",
       "1973.0 3.0        0.0                   0.0                  0.0   0.0   \n",
       "1976.0 6.0        0.0                   1.0                  0.0   0.0   \n",
       "1979.0 3.0        0.0                   0.0                  0.0   0.0   \n",
       "1980.0 3.0        0.0                   0.0                  0.0   0.0   \n",
       "1991.0 1.0        0.0                   0.0                  1.0   0.0   \n",
       "       3.0        0.0                   0.0                  0.0   1.0   \n",
       "1993.0 6.0        0.0                   0.0                  1.0   0.0   \n",
       "1994.0 2.0        0.0                   0.0                  0.0   1.0   \n",
       "1996.0 1.0        0.0                   0.0                  0.0   1.0   \n",
       "       3.0        0.0                   0.0                  0.0   1.0   \n",
       "1998.0 2.0        0.0                   0.0                  0.0   1.0   \n",
       "2000.0 2.0        0.0                   0.0                  0.0   0.0   \n",
       "       3.0        0.0                   0.0                  0.0   0.0   \n",
       "\n",
       "UC2 Literal  ROBBERY-COMMERCIAL  ROBBERY-PEDESTRIAN  ROBBERY-RESIDENCE  \n",
       "Year   Zone                                                             \n",
       "1916.0 2.0                  0.0                 0.0                0.0  \n",
       "       4.0                  0.0                 0.0                0.0  \n",
       "       5.0                  0.0                 0.0                0.0  \n",
       "       6.0                  0.0                 0.0                0.0  \n",
       "1920.0 2.0                  0.0                 0.0                0.0  \n",
       "       4.0                  0.0                 0.0                0.0  \n",
       "1970.0 6.0                  0.0                 0.0                0.0  \n",
       "1973.0 3.0                  0.0                 0.0                0.0  \n",
       "1976.0 6.0                  0.0                 0.0                0.0  \n",
       "1979.0 3.0                  0.0                 0.0                0.0  \n",
       "1980.0 3.0                  0.0                 0.0                0.0  \n",
       "1991.0 1.0                  0.0                 0.0                0.0  \n",
       "       3.0                  0.0                 0.0                0.0  \n",
       "1993.0 6.0                  0.0                 0.0                0.0  \n",
       "1994.0 2.0                  0.0                 0.0                0.0  \n",
       "1996.0 1.0                  0.0                 0.0                0.0  \n",
       "       3.0                  0.0                 0.0                0.0  \n",
       "1998.0 2.0                  0.0                 0.0                0.0  \n",
       "2000.0 2.0                  0.0                 0.0                0.0  \n",
       "       3.0                  0.0                 0.0                0.0  "
      ]
     },
     "execution_count": 23,
     "metadata": {},
     "output_type": "execute_result"
    }
   ],
   "source": [
    "df_cp = df_cp[np.logical_and([x >= 1 for x in list(zip(*df_cp.index.values))[1]], \n",
    "                             [x <= 6 for x in list(zip(*df_cp.index.values))[1]])].fillna(0)\n",
    "df_cp.head(20)"
   ]
  },
  {
   "cell_type": "code",
   "execution_count": null,
   "metadata": {
    "ExecuteTime": {
     "end_time": "2017-10-09T21:10:53.179365",
     "start_time": "2017-10-09T21:10:53.033212"
    }
   },
   "outputs": [],
   "source": [
    "# A MUCH PRETTIER way to do the same thing:\n",
    "df_cp = df_cp.loc[(slice(None), slice(1,6)),:].fillna(0)\n",
    "df_cp.head(20)"
   ]
  },
  {
   "cell_type": "code",
   "execution_count": null,
   "metadata": {
    "ExecuteTime": {
     "end_time": "2017-10-09T21:10:25.884188",
     "start_time": "2017-10-09T21:10:25.708070"
    }
   },
   "outputs": [],
   "source": [
    "## slicing on a multi-index\n",
    "#  get data for 2009-2010, for zones 1-3 \n",
    "df_cp.loc[(slice(2009,2010), slice(1,5,2)),:]"
   ]
  },
  {
   "cell_type": "code",
   "execution_count": null,
   "metadata": {},
   "outputs": [],
   "source": [
    "## In-class exercise:\n",
    "# Show all robbery data for 2011, 2013, and 2015, for zones 4-6 "
   ]
  },
  {
   "cell_type": "code",
   "execution_count": null,
   "metadata": {
    "ExecuteTime": {
     "end_time": "2017-10-09T21:16:46.930537",
     "start_time": "2017-10-09T21:16:46.882706"
    }
   },
   "outputs": [],
   "source": [
    "df_cp.loc[(slice(2011,2015,2), slice(4,6)), \"ROBBERY-COMMERCIAL\":\"ROBBERY-RESIDENCE\"]"
   ]
  },
  {
   "cell_type": "code",
   "execution_count": null,
   "metadata": {
    "ExecuteTime": {
     "end_time": "2017-10-09T21:23:37.781349",
     "start_time": "2017-10-09T21:23:37.742087"
    }
   },
   "outputs": [],
   "source": [
    "df_cp.filter(like='ROBBERY').loc[(slice(2011,2015,2), slice(4,6)), :]"
   ]
  },
  {
   "cell_type": "code",
   "execution_count": null,
   "metadata": {
    "ExecuteTime": {
     "end_time": "2017-10-09T21:26:20.537095",
     "start_time": "2017-10-09T21:26:20.458998"
    },
    "scrolled": false
   },
   "outputs": [],
   "source": [
    "## In-class exercise:\n",
    "# Count the total number of crimes in each zone\n",
    "df_cp.groupby(level=1).sum()"
   ]
  },
  {
   "cell_type": "code",
   "execution_count": null,
   "metadata": {
    "ExecuteTime": {
     "end_time": "2017-10-09T21:39:00.377658",
     "start_time": "2017-10-09T21:39:00.362120"
    },
    "scrolled": false
   },
   "outputs": [],
   "source": [
    "help(df_cp.plot)"
   ]
  },
  {
   "cell_type": "code",
   "execution_count": null,
   "metadata": {
    "ExecuteTime": {
     "end_time": "2017-10-09T21:36:50.391269",
     "start_time": "2017-10-09T21:36:49.810220"
    }
   },
   "outputs": [],
   "source": [
    "## In-class exercise:\n",
    "# Plot the number of pedestrian robberies in each zone in 2016\n",
    "df_cp.loc[(slice(2016,2016), slice(None)), \"ROBBERY-PEDESTRIAN\"].plot.bar()\n",
    "plt.xticks(range(6), range(1,7), rotation=0);\n",
    "plt.xlabel(\"Zone\");\n",
    "plt.ylabel(\"Ped. Robberies in 2016\");"
   ]
  },
  {
   "cell_type": "code",
   "execution_count": null,
   "metadata": {},
   "outputs": [],
   "source": [
    "## In-class exercise:\n",
    "# What is the average annual number of crimes in each zone (for each type of crime)?\n",
    "# Hint: use \"groupby\" with a \"level\" argument."
   ]
  },
  {
   "cell_type": "code",
   "execution_count": null,
   "metadata": {
    "ExecuteTime": {
     "end_time": "2017-10-09T21:41:41.898401",
     "start_time": "2017-10-09T21:41:41.819345"
    }
   },
   "outputs": [],
   "source": [
    "df_cp.groupby(level=1).mean()"
   ]
  },
  {
   "cell_type": "code",
   "execution_count": null,
   "metadata": {},
   "outputs": [],
   "source": [
    "##### Shapefile stuff ########"
   ]
  },
  {
   "cell_type": "code",
   "execution_count": null,
   "metadata": {
    "ExecuteTime": {
     "end_time": "2017-10-09T18:46:56.921333",
     "start_time": "2017-10-09T18:46:56.778047"
    }
   },
   "outputs": [],
   "source": [
    "import sys\n",
    "try:\n",
    "    from osgeo import ogr, osr, gdal\n",
    "except:\n",
    "    sys.exit('ERROR: cannot find GDAL/OGR modules')"
   ]
  },
  {
   "cell_type": "code",
   "execution_count": null,
   "metadata": {},
   "outputs": [],
   "source": []
  }
 ],
 "metadata": {
  "hide_input": false,
  "kernelspec": {
   "display_name": "Python 3",
   "language": "python",
   "name": "python3"
  },
  "language_info": {
   "codemirror_mode": {
    "name": "ipython",
    "version": 3
   },
   "file_extension": ".py",
   "mimetype": "text/x-python",
   "name": "python",
   "nbconvert_exporter": "python",
   "pygments_lexer": "ipython3",
   "version": "3.6.8"
  },
  "toc": {
   "nav_menu": {
    "height": "226px",
    "width": "252px"
   },
   "navigate_menu": true,
   "number_sections": true,
   "sideBar": true,
   "threshold": 4,
   "toc_cell": false,
   "toc_section_display": "block",
   "toc_window_display": false
  }
 },
 "nbformat": 4,
 "nbformat_minor": 2
}
