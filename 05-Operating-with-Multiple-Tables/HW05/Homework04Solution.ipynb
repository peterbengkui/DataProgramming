{
 "cells": [
  {
   "cell_type": "markdown",
   "metadata": {},
   "source": [
    "# Homework HW04 Solution"
   ]
  },
  {
   "cell_type": "code",
   "execution_count": 1,
   "metadata": {
    "ExecuteTime": {
     "end_time": "2017-09-29T17:28:38.972793",
     "start_time": "2017-09-29T17:28:38.164229"
    }
   },
   "outputs": [],
   "source": [
    "import pandas as pd\n",
    "import numpy as np"
   ]
  },
  {
   "cell_type": "markdown",
   "metadata": {},
   "source": [
    "The Employees, Territory, Customers, and Orders tables are the same as those we used in class."
   ]
  },
  {
   "cell_type": "code",
   "execution_count": 2,
   "metadata": {
    "ExecuteTime": {
     "end_time": "2017-09-29T17:28:39.157261",
     "start_time": "2017-09-29T17:28:38.983355"
    }
   },
   "outputs": [],
   "source": [
    "Employees = pd.read_excel('/home/data/AdventureWorks/Employees.xls')\n",
    "Territory = pd.read_excel('/home/data/AdventureWorks/SalesTerritory.xls')\n",
    "Customers = pd.read_excel('/home/data/AdventureWorks/Customers.xls')\n",
    "Orders = pd.read_excel('/home/data/AdventureWorks/ItemsOrdered.xls')"
   ]
  },
  {
   "cell_type": "markdown",
   "metadata": {},
   "source": [
    "## Problem 1\n",
    "Write a function called `get_manager` that takes as its one argument the Pandas DataFrame \"Employees\" and returns a DataFrame containing list of all employees (EmployeeID, first name, middle name, last name), and their manager's first and last name. The columns in the output DataFrame should be: EmployeeID, FirstName, MiddleName, LastName, ManagerFirstName, ManagerLastName.\n",
    "\n"
   ]
  },
  {
   "cell_type": "code",
   "execution_count": 11,
   "metadata": {},
   "outputs": [],
   "source": [
    "def get_manager(df):\n",
    "    \n",
    "    # step 1: create two DFs for mappings of employeeID -> Manager ID and EmployeeID -> Employee Name\n",
    "    # note that managers are also employees and hence manager IDs are also employee IDs\n",
    "    employee_manager_df = df[[\"EmployeeID\",\"FirstName\",\"MiddleName\",\"LastName\",\"ManagerID\"]]\n",
    "    employee_id_name_df = df[[\"EmployeeID\",\"FirstName\",\"LastName\"]]\n",
    "    \n",
    "    # Step 2: merge the two but make sure which name is for whom\n",
    "    out = pd.merge(\n",
    "        employee_manager_df\n",
    "        , employee_id_name_df\n",
    "        , left_on = 'ManagerID'\n",
    "        , right_on = 'EmployeeID'\n",
    "        , how = 'inner'  # i'm excluding those without managers but you can argue about that\n",
    "        , suffixes = ('_Employee', '_Manager')  # optional but more explicit and easier to check for error \n",
    "    )\n",
    "    \n",
    "    # step 3: cleaning\n",
    "    \n",
    "    out = out.drop(['ManagerID', 'EmployeeID_Manager'], axis=1)\n",
    "    out.columns = [\"EmployeeID\",\"FirstName\",\"MiddleName\",\"LastName\",\"ManagerFirstName\",\"ManagerLastName\"]\n",
    "    \n",
    "    return out"
   ]
  },
  {
   "cell_type": "code",
   "execution_count": 12,
   "metadata": {
    "ExecuteTime": {
     "end_time": "2017-09-29T17:28:39.227225",
     "start_time": "2017-09-29T17:28:39.159358"
    },
    "scrolled": true
   },
   "outputs": [
    {
     "name": "stdout",
     "output_type": "stream",
     "text": [
      "Shape of resulting table:  (290, 6)\n",
      "Columns:  EmployeeID, FirstName, MiddleName, LastName, ManagerFirstName, ManagerLastName\n"
     ]
    },
    {
     "data": {
      "text/html": [
       "<div>\n",
       "<style scoped>\n",
       "    .dataframe tbody tr th:only-of-type {\n",
       "        vertical-align: middle;\n",
       "    }\n",
       "\n",
       "    .dataframe tbody tr th {\n",
       "        vertical-align: top;\n",
       "    }\n",
       "\n",
       "    .dataframe thead th {\n",
       "        text-align: right;\n",
       "    }\n",
       "</style>\n",
       "<table border=\"1\" class=\"dataframe\">\n",
       "  <thead>\n",
       "    <tr style=\"text-align: right;\">\n",
       "      <th></th>\n",
       "      <th>EmployeeID</th>\n",
       "      <th>FirstName</th>\n",
       "      <th>MiddleName</th>\n",
       "      <th>LastName</th>\n",
       "      <th>ManagerFirstName</th>\n",
       "      <th>ManagerLastName</th>\n",
       "    </tr>\n",
       "  </thead>\n",
       "  <tbody>\n",
       "    <tr>\n",
       "      <th>0</th>\n",
       "      <td>259</td>\n",
       "      <td>Ben</td>\n",
       "      <td>T</td>\n",
       "      <td>Miller</td>\n",
       "      <td>Sheela</td>\n",
       "      <td>Word</td>\n",
       "    </tr>\n",
       "    <tr>\n",
       "      <th>1</th>\n",
       "      <td>255</td>\n",
       "      <td>Gordon</td>\n",
       "      <td>L</td>\n",
       "      <td>Hee</td>\n",
       "      <td>Sheela</td>\n",
       "      <td>Word</td>\n",
       "    </tr>\n",
       "    <tr>\n",
       "      <th>2</th>\n",
       "      <td>124</td>\n",
       "      <td>Kim</td>\n",
       "      <td>T</td>\n",
       "      <td>Ralls</td>\n",
       "      <td>Sheela</td>\n",
       "      <td>Word</td>\n",
       "    </tr>\n",
       "    <tr>\n",
       "      <th>3</th>\n",
       "      <td>257</td>\n",
       "      <td>Eric</td>\n",
       "      <td>S</td>\n",
       "      <td>Kurjan</td>\n",
       "      <td>Sheela</td>\n",
       "      <td>Word</td>\n",
       "    </tr>\n",
       "    <tr>\n",
       "      <th>4</th>\n",
       "      <td>126</td>\n",
       "      <td>Jimmy</td>\n",
       "      <td>T</td>\n",
       "      <td>Bischoff</td>\n",
       "      <td>Sheela</td>\n",
       "      <td>Word</td>\n",
       "    </tr>\n",
       "  </tbody>\n",
       "</table>\n",
       "</div>"
      ],
      "text/plain": [
       "   EmployeeID FirstName MiddleName  LastName ManagerFirstName ManagerLastName\n",
       "0         259       Ben          T    Miller           Sheela            Word\n",
       "1         255    Gordon          L       Hee           Sheela            Word\n",
       "2         124       Kim          T     Ralls           Sheela            Word\n",
       "3         257      Eric          S    Kurjan           Sheela            Word\n",
       "4         126     Jimmy          T  Bischoff           Sheela            Word"
      ]
     },
     "execution_count": 12,
     "metadata": {},
     "output_type": "execute_result"
    }
   ],
   "source": [
    "df1 = get_manager(Employees)\n",
    "print(\"Shape of resulting table: \", df1.shape)\n",
    "print(\"Columns: \", ', '.join(df1.columns))\n",
    "df1.head()"
   ]
  },
  {
   "cell_type": "markdown",
   "metadata": {},
   "source": [
    "\n",
    "    Shape of resulting table:  (291, 6)\n",
    "    Columns:  EmployeeID, FirstName, MiddleName, LastName, ManagerFirstName, ManagerLastName\n",
    "\n",
    "&nbsp;  | EmployeeID | FirstName |MiddleName | LastName | ManagerFirstName | ManagerLastName\n",
    "---------|-----------|-----------|-----------|----------|------------------|----------------\n",
    "0\t| 259\t| Ben\t| T\t| Miller\t|Sheela\t| Word\n",
    "1\t| 278\t| Garrett\t| R\t| Vargas\t|Stephen\t| Jiang\n",
    "2\t| 204\t| Gabe\t| B\t| Mares\t| Peter\t| Krebs\n",
    "3\t| 78\t| Reuben\t| H\t| D'sa\t| Peter\t| Krebs\n",
    "4\t| 255\t| Gordon\t| L\t| Hee\t| Sheela\t| Word\n"
   ]
  },
  {
   "cell_type": "markdown",
   "metadata": {},
   "source": [
    "## Problem 2\n",
    "Write a functon called `get_spend_by_order` that takes as its two arguments the Pandas DataFrames \"Orders\" and \"Customers\", and returns a DataFrame with the following columns: \"FirstName\", \"LastName\", \"Item\", \"TotalSpent\", listing all cutomer names, their purchased items, and the total amount spend on that item (remember that the \"Price\" listed in \"Orders\" is the _price per item_).\n",
    "\n"
   ]
  },
  {
   "cell_type": "code",
   "execution_count": 13,
   "metadata": {},
   "outputs": [],
   "source": [
    "def get_spend_by_order(order_df, cust_df):\n",
    "    \n",
    "    # step 1: pick columns to be used\n",
    "    cust_df_columns = [\"CustomerID\",\"FirstName\",\"LastName\"]\n",
    "    order_df_columns = [\"CustomerID\",\"Item\",\"Quantity\",\"Price\"]\n",
    "    \n",
    "    # Step 2: Merge two table\n",
    "    order_cust = pd.merge(\n",
    "        cust_df[cust_df_columns]\n",
    "        , order_df[order_df_columns]\n",
    "        , left_on = 'CustomerID'\n",
    "        , right_on = 'CustomerID'\n",
    "        , how = 'left'\n",
    "    )\n",
    "    \n",
    "    # Step 3 : Create column total spent\n",
    "    order_cust[\"TotalSpent\"] = order_cust[\"Quantity\"] * order_cust[\"Price\"]\n",
    "\n",
    "    # Step 4: Groupby and sum\n",
    "    total_spent_on_item = order_cust.groupby(by = [\"FirstName\",\"LastName\",\"Item\"])[\"TotalSpent\"].sum()\n",
    "\n",
    "    # Step_4: Reset_index\n",
    "    result = total_spent_on_item.reset_index()\n",
    "    return result\n"
   ]
  },
  {
   "cell_type": "code",
   "execution_count": 14,
   "metadata": {},
   "outputs": [
    {
     "name": "stdout",
     "output_type": "stream",
     "text": [
      "Shape of resulting table:  (32, 4)\n",
      "Columns:  FirstName, LastName, Item, TotalSpent\n"
     ]
    },
    {
     "data": {
      "text/html": [
       "<div>\n",
       "<style scoped>\n",
       "    .dataframe tbody tr th:only-of-type {\n",
       "        vertical-align: middle;\n",
       "    }\n",
       "\n",
       "    .dataframe tbody tr th {\n",
       "        vertical-align: top;\n",
       "    }\n",
       "\n",
       "    .dataframe thead th {\n",
       "        text-align: right;\n",
       "    }\n",
       "</style>\n",
       "<table border=\"1\" class=\"dataframe\">\n",
       "  <thead>\n",
       "    <tr style=\"text-align: right;\">\n",
       "      <th></th>\n",
       "      <th>FirstName</th>\n",
       "      <th>LastName</th>\n",
       "      <th>Item</th>\n",
       "      <th>TotalSpent</th>\n",
       "    </tr>\n",
       "  </thead>\n",
       "  <tbody>\n",
       "    <tr>\n",
       "      <th>0</th>\n",
       "      <td>Anthony</td>\n",
       "      <td>Sanchez</td>\n",
       "      <td>Umbrella</td>\n",
       "      <td>4.5</td>\n",
       "    </tr>\n",
       "    <tr>\n",
       "      <th>1</th>\n",
       "      <td>Conrad</td>\n",
       "      <td>Giles</td>\n",
       "      <td>Ski Poles</td>\n",
       "      <td>51.0</td>\n",
       "    </tr>\n",
       "    <tr>\n",
       "      <th>2</th>\n",
       "      <td>Conrad</td>\n",
       "      <td>Giles</td>\n",
       "      <td>Tent</td>\n",
       "      <td>88.0</td>\n",
       "    </tr>\n",
       "    <tr>\n",
       "      <th>3</th>\n",
       "      <td>Donald</td>\n",
       "      <td>Davids</td>\n",
       "      <td>Lawnchair</td>\n",
       "      <td>128.0</td>\n",
       "    </tr>\n",
       "    <tr>\n",
       "      <th>4</th>\n",
       "      <td>Elroy</td>\n",
       "      <td>Keller</td>\n",
       "      <td>Inflatable Mattress</td>\n",
       "      <td>38.0</td>\n",
       "    </tr>\n",
       "  </tbody>\n",
       "</table>\n",
       "</div>"
      ],
      "text/plain": [
       "  FirstName LastName                 Item  TotalSpent\n",
       "0   Anthony  Sanchez             Umbrella         4.5\n",
       "1    Conrad    Giles            Ski Poles        51.0\n",
       "2    Conrad    Giles                 Tent        88.0\n",
       "3    Donald   Davids            Lawnchair       128.0\n",
       "4     Elroy   Keller  Inflatable Mattress        38.0"
      ]
     },
     "execution_count": 14,
     "metadata": {},
     "output_type": "execute_result"
    }
   ],
   "source": [
    "df2 = get_spend_by_order(Orders, Customers)\n",
    "print(\"Shape of resulting table: \", df2.shape)\n",
    "print(\"Columns: \", ', '.join(df2.columns))\n",
    "df2.head()"
   ]
  },
  {
   "cell_type": "markdown",
   "metadata": {},
   "source": [
    "    Shape of resulting table:  (32, 4)\n",
    "    Columns:  FirstName, LastName, Item, TotalSpent\n",
    "    \n",
    "&nbsp;  |FirstName | LastName | Item | TotalSpent\n",
    "-----|----------|----------|------|-----------\n",
    "0 |\tAnthony\t| Sanchez\t| Umbrella\t| 4.5\n",
    "1 |\tConrad\t| Giles\t| Ski Poles\t| 25.5\n",
    "2 |\tConrad\t| Giles\t| Tent\t| 88.0\n",
    "3 |\tDonald\t| Davids\t| Lawnchair\t| 32.0\n",
    "4 |\tElroy\t| Keller\t| Inflatable Mattress\t| 38.0"
   ]
  },
  {
   "cell_type": "markdown",
   "metadata": {},
   "source": [
    "## Problem 3\n",
    "Write a function called `get_order_location` that takes three arguments: \"Orders\", \"Customers\", and \"Territory\", and returns a DataFrame containing the following columns:  \"CustomerID\", \"Name\", and \"TotalItems\", that gives, for each order, the  CustomerID, the name of the territory where the order was placed, and the total number of items ordered (yes, 2 ski poles counts as 2 items). \n",
    "\n"
   ]
  },
  {
   "cell_type": "code",
   "execution_count": 18,
   "metadata": {},
   "outputs": [],
   "source": [
    "def get_order_location(df_order, df_cust, df_terri):\n",
    "    \n",
    "    step1_df = pd.merge(df_order, \n",
    "                       df_cust,\n",
    "                       how = 'left',\n",
    "                       left_on = 'CustomerID',\n",
    "                       right_on = 'CustomerID')\n",
    "    \n",
    "    step2_df = pd.merge(step1_df, \n",
    "                       df_terri,\n",
    "                       how = 'left',\n",
    "                       left_on = 'SalesTerritoryID',\n",
    "                       right_on = 'TerritoryID')\n",
    "\n",
    "    step3_df = step2_df.groupby(by = ['CustomerID','Name']).Quantity.sum().reset_index()\n",
    "    out = step3_df.rename(columns={\"Quantity\":\"TotalItems\"})\n",
    "    return out"
   ]
  },
  {
   "cell_type": "code",
   "execution_count": 19,
   "metadata": {
    "ExecuteTime": {
     "end_time": "2017-09-29T17:28:39.348259",
     "start_time": "2017-09-29T17:28:39.284798"
    },
    "scrolled": true
   },
   "outputs": [
    {
     "name": "stdout",
     "output_type": "stream",
     "text": [
      "Shape of resulting table:  (11, 3)\n",
      "Columns:  CustomerID, Name, TotalItems\n"
     ]
    },
    {
     "data": {
      "text/html": [
       "<div>\n",
       "<style scoped>\n",
       "    .dataframe tbody tr th:only-of-type {\n",
       "        vertical-align: middle;\n",
       "    }\n",
       "\n",
       "    .dataframe tbody tr th {\n",
       "        vertical-align: top;\n",
       "    }\n",
       "\n",
       "    .dataframe thead th {\n",
       "        text-align: right;\n",
       "    }\n",
       "</style>\n",
       "<table border=\"1\" class=\"dataframe\">\n",
       "  <thead>\n",
       "    <tr style=\"text-align: right;\">\n",
       "      <th></th>\n",
       "      <th>CustomerID</th>\n",
       "      <th>Name</th>\n",
       "      <th>TotalItems</th>\n",
       "    </tr>\n",
       "  </thead>\n",
       "  <tbody>\n",
       "    <tr>\n",
       "      <th>0</th>\n",
       "      <td>10101</td>\n",
       "      <td>Northwest</td>\n",
       "      <td>12</td>\n",
       "    </tr>\n",
       "    <tr>\n",
       "      <th>1</th>\n",
       "      <td>10298</td>\n",
       "      <td>Southwest</td>\n",
       "      <td>6</td>\n",
       "    </tr>\n",
       "    <tr>\n",
       "      <th>2</th>\n",
       "      <td>10299</td>\n",
       "      <td>Northwest</td>\n",
       "      <td>2</td>\n",
       "    </tr>\n",
       "    <tr>\n",
       "      <th>3</th>\n",
       "      <td>10315</td>\n",
       "      <td>Central</td>\n",
       "      <td>1</td>\n",
       "    </tr>\n",
       "    <tr>\n",
       "      <th>4</th>\n",
       "      <td>10330</td>\n",
       "      <td>Northwest</td>\n",
       "      <td>6</td>\n",
       "    </tr>\n",
       "  </tbody>\n",
       "</table>\n",
       "</div>"
      ],
      "text/plain": [
       "   CustomerID       Name  TotalItems\n",
       "0       10101  Northwest          12\n",
       "1       10298  Southwest           6\n",
       "2       10299  Northwest           2\n",
       "3       10315    Central           1\n",
       "4       10330  Northwest           6"
      ]
     },
     "execution_count": 19,
     "metadata": {},
     "output_type": "execute_result"
    }
   ],
   "source": [
    "df3 = get_order_location(Orders, Customers, Territory)\n",
    "print(\"Shape of resulting table: \", df3.shape)\n",
    "print(\"Columns: \", ', '.join(df3.columns))\n",
    "df3.head()"
   ]
  },
  {
   "cell_type": "markdown",
   "metadata": {},
   "source": [
    "    Shape of resulting table:  (11, 3)\n",
    "    Columns:  CustomerID, Name, TotalItems\n",
    "    \n",
    "\n",
    "&nbsp;| CustomerID | Name | TotalItems\n",
    "-----|-----------|------|-----------\n",
    "0\t| 10315\t| Central\t| 1\n",
    "1\t| 10438\t| Central\t| 3\n",
    "2\t| 10439\t| Central\t| 2\n",
    "3\t| 10101\t| Northwest\t| 6\n",
    "4\t| 10299\t| Northwest\t| 2"
   ]
  },
  {
   "cell_type": "markdown",
   "metadata": {},
   "source": [
    "## Problem 4\n",
    "Write a function called `employee_info` that takes one argument: \"Employees\", and returns a DataFrame containing the following columns: JobTitle, NumberOfEmployees, and MeanVacationHours, containing all job titles, the number of employees with that job title, and the mean number of vacation days for employees with that job title. "
   ]
  },
  {
   "cell_type": "code",
   "execution_count": 30,
   "metadata": {},
   "outputs": [],
   "source": [
    "def employee_info(df_emp):\n",
    "    jobtitle_vacations = df_emp.groupby(by = [\"JobTitle\"]).VacationHours.aggregate([\"count\",\"mean\"]).reset_index()\n",
    "\n",
    "    new_columns = {\"count\":\"NumberOfEmployees\",\"mean\":\"MeanVacationHours\"}\n",
    "    out = jobtitle_vacations.rename(columns = new_columns)\n",
    "    return out"
   ]
  },
  {
   "cell_type": "code",
   "execution_count": 31,
   "metadata": {
    "ExecuteTime": {
     "end_time": "2017-09-29T17:28:39.393721",
     "start_time": "2017-09-29T17:28:39.350261"
    }
   },
   "outputs": [
    {
     "name": "stdout",
     "output_type": "stream",
     "text": [
      "Shape of resulting table:  (68, 3)\n",
      "Columns:  JobTitle, NumberOfEmployees, MeanVacationHours\n"
     ]
    },
    {
     "data": {
      "text/html": [
       "<div>\n",
       "<style scoped>\n",
       "    .dataframe tbody tr th:only-of-type {\n",
       "        vertical-align: middle;\n",
       "    }\n",
       "\n",
       "    .dataframe tbody tr th {\n",
       "        vertical-align: top;\n",
       "    }\n",
       "\n",
       "    .dataframe thead th {\n",
       "        text-align: right;\n",
       "    }\n",
       "</style>\n",
       "<table border=\"1\" class=\"dataframe\">\n",
       "  <thead>\n",
       "    <tr style=\"text-align: right;\">\n",
       "      <th></th>\n",
       "      <th>JobTitle</th>\n",
       "      <th>NumberOfEmployees</th>\n",
       "      <th>MeanVacationHours</th>\n",
       "    </tr>\n",
       "  </thead>\n",
       "  <tbody>\n",
       "    <tr>\n",
       "      <th>0</th>\n",
       "      <td>Accountant</td>\n",
       "      <td>2</td>\n",
       "      <td>58.5</td>\n",
       "    </tr>\n",
       "    <tr>\n",
       "      <th>1</th>\n",
       "      <td>Accounts Manager</td>\n",
       "      <td>1</td>\n",
       "      <td>57.0</td>\n",
       "    </tr>\n",
       "    <tr>\n",
       "      <th>2</th>\n",
       "      <td>Accounts Payable Specialist</td>\n",
       "      <td>2</td>\n",
       "      <td>63.5</td>\n",
       "    </tr>\n",
       "    <tr>\n",
       "      <th>3</th>\n",
       "      <td>Accounts Receivable Specialist</td>\n",
       "      <td>3</td>\n",
       "      <td>61.0</td>\n",
       "    </tr>\n",
       "    <tr>\n",
       "      <th>4</th>\n",
       "      <td>Application Specialist</td>\n",
       "      <td>4</td>\n",
       "      <td>72.5</td>\n",
       "    </tr>\n",
       "  </tbody>\n",
       "</table>\n",
       "</div>"
      ],
      "text/plain": [
       "                         JobTitle  NumberOfEmployees  MeanVacationHours\n",
       "0                      Accountant                  2               58.5\n",
       "1                Accounts Manager                  1               57.0\n",
       "2     Accounts Payable Specialist                  2               63.5\n",
       "3  Accounts Receivable Specialist                  3               61.0\n",
       "4          Application Specialist                  4               72.5"
      ]
     },
     "execution_count": 31,
     "metadata": {},
     "output_type": "execute_result"
    }
   ],
   "source": [
    "df4 = employee_info(Employees)\n",
    "print(\"Shape of resulting table: \", df4.shape)\n",
    "print(\"Columns: \", ', '.join(df4.columns))\n",
    "df4.head()"
   ]
  },
  {
   "cell_type": "markdown",
   "metadata": {},
   "source": [
    "    Shape of resulting table:  (68, 3)\n",
    "    Columns:  JobTitle, NumberOfEmployees, MeanVacationHours\n",
    "\n",
    "&nbsp;  | JobTitle | NumberOfEmployees | MeanVacationHours\n",
    "--- |----------|-------------------|------\n",
    "0 |\tAccountant\t|2\t|58.5\n",
    "1 |\tAccounts Manager\t|1\t|57.0\n",
    "2 |\tAccounts Payable Specialist\t|2\t|63.5\n",
    "3 |\tAccounts Receivable Specialist\t|3\t|61.0\n",
    "4 |\tApplication Specialist\t|4\t|72.5"
   ]
  }
 ],
 "metadata": {
  "hide_input": false,
  "kernelspec": {
   "display_name": "Python 3",
   "language": "python",
   "name": "python3"
  },
  "language_info": {
   "codemirror_mode": {
    "name": "ipython",
    "version": 3
   },
   "file_extension": ".py",
   "mimetype": "text/x-python",
   "name": "python",
   "nbconvert_exporter": "python",
   "pygments_lexer": "ipython3",
   "version": "3.6.8"
  },
  "toc": {
   "nav_menu": {
    "height": "103px",
    "width": "252px"
   },
   "navigate_menu": true,
   "number_sections": true,
   "sideBar": true,
   "threshold": 4,
   "toc_cell": false,
   "toc_section_display": "block",
   "toc_window_display": false
  }
 },
 "nbformat": 4,
 "nbformat_minor": 2
}
