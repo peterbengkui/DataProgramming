{
 "cells": [
  {
   "cell_type": "markdown",
   "metadata": {},
   "source": [
    "# Homework 5"
   ]
  },
  {
   "cell_type": "markdown",
   "metadata": {},
   "source": [
    "### Use this notebook for question statement and solution checkup. \n",
    "\n",
    "For questions 1-3, you will use the APD dataset:\n",
    "```\n",
    "df = pd.read_csv('COBRA-YTD2017.csv.gz')\n",
    "``` \n",
    "\n",
    "For questions 4-5, you will use the cereal dataset:\n",
    "\n",
    "```\n",
    "cer = pd.read_csv('cereal.csv')\n",
    "```\n"
   ]
  },
  {
   "cell_type": "markdown",
   "metadata": {},
   "source": [
    "## Load *COBRA-YTD2017.csv.gz* into a pandas DataFram to solve Question 1, 2 & 3. \n"
   ]
  },
  {
   "cell_type": "markdown",
   "metadata": {
    "ExecuteTime": {
     "end_time": "2017-10-17T21:06:49.446074",
     "start_time": "2017-10-17T21:06:49.440535"
    }
   },
   "source": [
    "## Question 1\n",
    "\n",
    "Write a function called \"variable_helper\" which takes one argument:\n",
    "\n",
    "* df, which is a pandas data frame\n",
    "\n",
    "and returns:\n",
    "\n",
    "* d, a _dictionary_ where keys are the column names of df and values are one of \"numeric\", \"categorical\", \"ordinal\", \"date/time\", or \"text\", corresponding to the feature type of each column. "
   ]
  },
  {
   "cell_type": "code",
   "execution_count": null,
   "metadata": {},
   "outputs": [],
   "source": [
    "df = pd.read_csv('/home/data/APD/COBRA-YTD2017.csv.gz')\n",
    "cer = pd.read_csv('/home/cereal.csv')\n"
   ]
  },
  {
   "cell_type": "code",
   "execution_count": null,
   "metadata": {},
   "outputs": [],
   "source": [
    "def get_unique_ratio(column):\n",
    "    return len(column.unique())/len(column)\n",
    "\n",
    "def is_date_or_time(column_name):\n",
    "    date_keys = [\"date\",\"time\"]\n",
    "    for key in date_keys:\n",
    "        if key in column_name.lower():\n",
    "            return \"date/time\"\n",
    "\n",
    "def get_data_type(column,unique_ratio_categorical, unique_ratio_ordinal):\n",
    "    if is_date_or_time(column.name):\n",
    "        return \"date/time\"\n",
    "    else:\n",
    "        if get_unique_ratio(column) < unique_ratio_categorical:\n",
    "            return \"categorical\"\n",
    "        else:\n",
    "            if column.dtype == \"object\":\n",
    "                return \"text\"\n",
    "            else:\n",
    "                if get_unique_ratio(column) > unique_ratio_ordinal:\n",
    "                    return \"ordinal\"\n",
    "                else:\n",
    "                    return \"numeric\"\n",
    "\n",
    "\n",
    "def variable_helper(input_df, unique_ratio_categorical, unique_ratio_ordinal):\n",
    "    return {column:get_data_type(df[column], unique_ratio_categorical, unique_ratio_ordinal)\\\n",
    "            for column in input_df}"
   ]
  },
  {
   "cell_type": "markdown",
   "metadata": {},
   "source": [
    "### Sample output:\n",
    "\n",
    "```\n",
    "In [1]: variable_helper(df[['offense_id','beat','x','y']])\n",
    "Out[1]: {'beat': 'categorical',\n",
    "         'offense_id': 'ordinal',\n",
    "         'x': 'numeric',\n",
    "         'y': 'numeric'}\n",
    "```\n",
    "\n",
    "Short explanation: _offense_\\__id_ is a number assigned to each offense. There is a natural ordering implied in the id number (based on order of occurrence). Because of this, _offense_\\__id_ is an ordinal feature. The _beat_ uses a numeric label, but refers to a geographic location. There is no natural ordering, so _beat_ is a categorical feature. The location variables (_x_ and _y_) are numeric position coordinates. "
   ]
  },
  {
   "cell_type": "markdown",
   "metadata": {
    "ExecuteTime": {
     "end_time": "2017-10-17T21:39:52.369611",
     "start_time": "2017-10-17T21:39:52.332791"
    }
   },
   "source": [
    "## Question 2\n",
    "\n",
    "Write a function called \"get_categories\" which takes one argument:\n",
    "\n",
    "* df, which is a pandas data frame\n",
    "\n",
    "and returns:\n",
    "\n",
    "* cat, a dictionary where keys are names of columns of df corresponding to categorical features, and values are arrays of all the unique values that the feature can take."
   ]
  },
  {
   "cell_type": "code",
   "execution_count": 1,
   "metadata": {},
   "outputs": [],
   "source": [
    "def get_categories(input_df,unique_ratio_categorical, unique_ratio_ordinal):\n",
    "    df_columns = pd.Series(variable_helper(input_df,unique_ratio_categorical, unique_ratio_ordinal))\n",
    "    df_categories = df_columns[df_columns == \"categorical\"]\n",
    "    categories = df_categories.index\n",
    "    result = {categories[i]: np.sort(pd.unique(input_df[categories[i]].values)) for i in range(len(categories))}\n",
    "\n",
    "    return result"
   ]
  },
  {
   "cell_type": "markdown",
   "metadata": {},
   "source": [
    "### Sample output:\n",
    "\n",
    "```\n",
    "In [1]: get_categories(df[['offense_id','beat','UC2 Literal']])\n",
    "Out[1]: {'UC2 Literal': array(['AGG ASSAULT', 'AUTO THEFT', 'BURGLARY-NONRES',\n",
    "                'BURGLARY-RESIDENCE', 'HOMICIDE', 'LARCENY-FROM VEHICLE',\n",
    "                'LARCENY-NON VEHICLE', 'RAPE', 'ROBBERY-COMMERCIAL',\n",
    "                'ROBBERY-PEDESTRIAN', 'ROBBERY-RESIDENCE'], dtype=object),\n",
    "         'beat': array([101, 102, 103, 104, 105, 106, 107, 108, 109, 110, 111, 112, 113,\n",
    "                114, 201, 202, 203, 204, 205, 206, 207, 208, 209, 210, 211, 212,\n",
    "                213, 301, 302, 303, 304, 305, 306, 307, 308, 309, 310, 311, 312,\n",
    "                313, 401, 402, 403, 404, 405, 406, 407, 408, 409, 410, 411, 412,\n",
    "                413, 414, 501, 502, 503, 504, 505, 506, 507, 508, 509, 510, 511,\n",
    "                512, 601, 602, 603, 604, 605, 606, 607, 608, 609, 610, 611, 612,\n",
    "                701, 702, 703, 704, 705, 706, 707, 708, 710])}\n",
    "```\n",
    "\n",
    "Short explanation: UC2 Literal and beat are the only categorical variables in the data frame `df[['offense_id','beat','UC2 Literal']]`. "
   ]
  },
  {
   "cell_type": "markdown",
   "metadata": {},
   "source": [
    "## Question 3\n",
    "\n",
    "Write a function called \"code_shift\" which takes one argument:\n",
    "    \n",
    "* df, which is a pandas data frame\n",
    "\n",
    "and returns:\n",
    "\n",
    "* a pandas data frame with columns \"offense_id\", \"Shift\", \"ShiftID\", where ShiftID is 0 if \"Shift\" is \"Unk\", 1 if \"Morn\", 2 if \"Day\", and 3 if \"Eve\"."
   ]
  },
  {
   "cell_type": "code",
   "execution_count": null,
   "metadata": {},
   "outputs": [],
   "source": [
    "def code_shift(input_df):\n",
    "    shift_dict = {\"Unk\":0,\"Morn\":1,\"Day\":2,\"Eve\":3}\n",
    "    input_df[\"ShiftID\"] = df[\"Shift\"].map(shift_dict)\n",
    "    return input_df[[\"offense_id\", \"Shift\", \"ShiftID\"]]"
   ]
  },
  {
   "cell_type": "markdown",
   "metadata": {},
   "source": [
    "### Sample output:\n",
    "\n",
    "```\n",
    "In [1]: code_shift(df[:5])\n",
    "Out[1]:  \toffense_id \tShift \tShiftID\n",
    "        0 \t172490115 \tMorn \t1\n",
    "        1 \t172490265 \tEve  \t3\n",
    "        2 \t172490322 \tMorn \t1\n",
    "        3 \t172490390 \tMorn \t1\n",
    "        4 \t172490401 \tMorn \t1\n",
    "```"
   ]
  },
  {
   "cell_type": "markdown",
   "metadata": {},
   "source": [
    "## Load *cereal.csv* into a pandas DataFram to solve Question 4 & 5. \n"
   ]
  },
  {
   "cell_type": "markdown",
   "metadata": {},
   "source": [
    "## Question 4\n",
    "\n",
    "Write a function called \"rating_confusion\" which takes one argument:\n",
    "\n",
    "* cer, which is a pandas data frame\n",
    "\n",
    "and returns:\n",
    "\n",
    "* cf, a confusion matrix where the rows correspond to predicted_ratingID and the columns correspond to ratingID."
   ]
  },
  {
   "cell_type": "code",
   "execution_count": null,
   "metadata": {},
   "outputs": [],
   "source": [
    "def rating_confusion(input_df):\n",
    "    # Step 1: Making confusion_matrix\n",
    "    confusion_matrix = [[((input_df[\"predicted_ratingID\"] == i) & (input_df[\"ratingID\"] == j)).sum() \\\n",
    "     for j in range(2)] for i in range(2) ]\n",
    "\n",
    "    # Step 2: Set index & columns name\n",
    "    cf = pd.DataFrame(confusion_matrix)\n",
    "    cf.index.name = \"predicted_ratingID\"\n",
    "    cf.columns.name = \"ratingID\"\n",
    "\n",
    "    return cf"
   ]
  },
  {
   "cell_type": "markdown",
   "metadata": {},
   "source": [
    "### Sample output:\n",
    "\n",
    "\n",
    "```\n",
    "In [1]: rating_confusion(cer[:20])\n",
    "Out[1]: ratingID \t 0 \t1\n",
    "predicted_ratingID \t\t\n",
    "                0 \t15\t0\n",
    "                1 \t3 \t2\n",
    "```"
   ]
  },
  {
   "cell_type": "markdown",
   "metadata": {
    "ExecuteTime": {
     "end_time": "2017-10-18T00:17:09.715906",
     "start_time": "2017-10-18T00:17:09.672366"
    }
   },
   "source": [
    "## Question 5\n",
    "\n",
    "Write a function called \"prediction_metrics\" which takes one argument:\n",
    "\n",
    "* cer, which is a pandas data frame\n",
    "\n",
    "and returns:\n",
    "\n",
    "* metrics_dict, a python dictionary object where the keys are 'precision', 'recall', 'F1' and the values are the numeric values for precision, recall, and F1 score, where ratingID is the prediction target and predicted_ratingID is a model output."
   ]
  },
  {
   "cell_type": "code",
   "execution_count": 2,
   "metadata": {},
   "outputs": [],
   "source": [
    "def prediction_metrics(input_df):\n",
    "    conf_matrix = rating_confusion(input_df)\n",
    "    tp = conf_matrix.loc[1,1]\n",
    "    fp = conf_matrix.loc[1,0]\n",
    "    fn = conf_matrix.loc[0, 1]\n",
    "    precision = tp/(tp+fp)\n",
    "    recall = tp/(tp+fn)\n",
    "    f1 = 2*(precision*recall)/(precision+recall)\n",
    "    result_dict = {\"F1\":f1, \"precision\":float(\"{0:.2f}\".format(precision)),\"recall\":recall}\n",
    "\n",
    "    return result_dict"
   ]
  },
  {
   "cell_type": "markdown",
   "metadata": {},
   "source": [
    "### Sample output:\n",
    "\n",
    "\n",
    "```\n",
    "In [1]: prediction_metrics(cer[:20])\n",
    "Out[1]: {'F1': 0.5714285714285715, 'precision': 0.4, 'recall': 1}\n",
    "```"
   ]
  }
 ],
 "metadata": {
  "kernelspec": {
   "display_name": "Python 3",
   "language": "python",
   "name": "python3"
  },
  "language_info": {
   "codemirror_mode": {
    "name": "ipython",
    "version": 3
   },
   "file_extension": ".py",
   "mimetype": "text/x-python",
   "name": "python",
   "nbconvert_exporter": "python",
   "pygments_lexer": "ipython3",
   "version": "3.6.8"
  },
  "toc": {
   "nav_menu": {
    "height": "216px",
    "width": "252px"
   },
   "navigate_menu": true,
   "number_sections": true,
   "sideBar": true,
   "threshold": 4,
   "toc_cell": false,
   "toc_section_display": "block",
   "toc_window_display": false
  }
 },
 "nbformat": 4,
 "nbformat_minor": 2
}
