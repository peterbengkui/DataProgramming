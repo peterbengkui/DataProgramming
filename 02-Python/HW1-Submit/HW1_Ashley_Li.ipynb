{
 "cells": [
  {
   "cell_type": "markdown",
   "metadata": {},
   "source": [
    "# Assignment HW01\n",
    "\n",
    "## <font color='red'> Deadline: 9/4. </font>\n",
    "\n",
    "### QUESTIONS\n",
    "\n",
    "1. Write a function called \"operate\" that takes as input two numbers, and a string that can be either \"add\" or \"multiply\". The output should be either the sum or product of the two numbers, depending on the string entered.\n",
    "\n",
    "2. The Fibonacci sequence starts with 1, 1, and each subsequent term is the sum of the preceding two terms. The first 6 terms of the Fibonacci sequence are: 1, 1, 2, 3, 5, 8, ... Write a python function that takes one argument N and prints the first N terms of the Fibonacci sequence.\n",
    "\n",
    "3. A simple substitution code codes 'a' as 1, 'b' as 2, ..., 'z' as 26. Write a function called \"encode\" that takes in a string, and prints the coded text. The output should be a string, with letters separated by \".\". Use \"999\" for punctuation and spaces. For example, encode(\"Hello!\") should print out \"8.5.12.12.15.999\".\n",
    "\n",
    "4. The Harmonic series is the sum of 1 + 1/2 + 1/3 + 1/4 + ..... The n<sup>th</sup> Harmonic number H<sub>n</sub> is 1 + 1/2 + 1/3 + ...  + 1/n. Write a python function called \"get_n\" that accepts as input a threshold, and returns n corresponding to the smallest Harmonic number whose value is grater than the threshold. E.g. `get_n(3)` should output 11.\n",
    "\n",
    "5. Write a function called \"describe\" that takes as input a list of numbers, and prints the number of elements in the list, and the mean, variance, and standard deviation. The printed quantities should be labeled. The output should look something like: </br></br>\n",
    "`number of elements: 12` </br>\n",
    "`mean: 0.5` </br>\n",
    "`variance: 0.04` </br>\n",
    "`standard deviation: 0.2`\n"
   ]
  },
  {
   "cell_type": "code",
   "execution_count": 1,
   "metadata": {},
   "outputs": [
    {
     "name": "stdout",
     "output_type": "stream",
     "text": [
      "6 multiply by 8 is 48.\n"
     ]
    }
   ],
   "source": [
    "# Question 1\n",
    "\n",
    "def operate(a,b): # the product of a and b\n",
    "    c = a*b \n",
    "    output_str = f'{a} multiply by {b} is {c}.'\n",
    "    print(output_str)  \n",
    "operate(6,8)"
   ]
  },
  {
   "cell_type": "code",
   "execution_count": 8,
   "metadata": {},
   "outputs": [
    {
     "name": "stdout",
     "output_type": "stream",
     "text": [
      "1\n",
      "1\n",
      "2\n",
      "3\n",
      "5\n",
      "8\n",
      "13\n"
     ]
    }
   ],
   "source": [
    "# Question 2\n",
    "\n",
    "def fibonacci(N):\n",
    "    if N == 1 or N == 2:\n",
    "        return 1\n",
    "    else:\n",
    "        return fibonacci(N-1) + fibonacci (N-2)\n",
    "\n",
    "for N in range(0,7):\n",
    "    print(fibonacci(N+1))"
   ]
  },
  {
   "cell_type": "code",
   "execution_count": 9,
   "metadata": {},
   "outputs": [
    {
     "name": "stdout",
     "output_type": "stream",
     "text": [
      "9999999991.19.8.12.5.25.999999999\n"
     ]
    }
   ],
   "source": [
    "# Question 3\n",
    "\n",
    "def encode(input):\n",
    "    my_dict = {'a':'1.','b':'2.','c':'3.','d':'4.','e':'5.','f':'6.','g':'7.','h':'8.','i':'9.','j':'10.','k':'11.','l':'12.','m':'13.','n':'14.','o':'15.','p':'16.','q':'17.','r':'18.','s':'19.','t':'20.','u':'21.','v':'22.','w':'23.','x':'24.','y':'25.','z':'26.','!':'999',' ':'999'}  \n",
    "    \n",
    "    output_str = ''\n",
    "    \n",
    "    for key in input:\n",
    "        output_str = output_str + my_dict[key]\n",
    "    \n",
    "    print(output_str) \n",
    "\n",
    "\n",
    "encode('   ashley!!!')"
   ]
  },
  {
   "cell_type": "code",
   "execution_count": 3,
   "metadata": {},
   "outputs": [
    {
     "name": "stdout",
     "output_type": "stream",
     "text": [
      "4550\n",
      "616\n",
      "11\n"
     ]
    }
   ],
   "source": [
    "# Question 4\n",
    "\n",
    "def get_n(input_number):\n",
    "    harmonic = 1 # i = 1\n",
    "    i = 1 \n",
    "\n",
    "    while harmonic <= input_number:\n",
    "        i += 1\n",
    "        harmonic += 1 / i\n",
    "    print(i)\n",
    "         \n",
    "\n",
    "get_n(9)\n",
    "get_n(7)\n",
    "get_n(3)"
   ]
  },
  {
   "cell_type": "code",
   "execution_count": 4,
   "metadata": {},
   "outputs": [
    {
     "name": "stdout",
     "output_type": "stream",
     "text": [
      "number of elements: 6  mean: 60.75 variance: 7056.145833333333  standard deviation: 84.00086805107036\n"
     ]
    }
   ],
   "source": [
    "# Question 5\n",
    "\n",
    "def describe(input):\n",
    "    import numpy as np\n",
    "\n",
    "    count = len(input)\n",
    "\n",
    "    mean = np.mean(input)\n",
    "\n",
    "    variance = np.var(input)\n",
    "\n",
    "    standard_deviation = np.std(input)\n",
    "\n",
    "    output_str = f'number of elements: {count}  mean: {mean} variance: {variance}  standard deviation: {standard_deviation}'\n",
    "\n",
    "    print (output_str)\n",
    "\n",
    "input = (5,7,234,97,8.5,13)\n",
    "        \n",
    "describe(input)"
   ]
  },
  {
   "cell_type": "code",
   "execution_count": null,
   "metadata": {},
   "outputs": [],
   "source": []
  }
 ],
 "metadata": {
  "kernelspec": {
   "display_name": "Python 3",
   "language": "python",
   "name": "python3"
  },
  "language_info": {
   "codemirror_mode": {
    "name": "ipython",
    "version": 3
   },
   "file_extension": ".py",
   "mimetype": "text/x-python",
   "name": "python",
   "nbconvert_exporter": "python",
   "pygments_lexer": "ipython3",
   "version": "3.7.3"
  }
 },
 "nbformat": 4,
 "nbformat_minor": 2
}
