{
 "cells": [
  {
   "cell_type": "markdown",
   "metadata": {},
   "source": [
    "# Assignment HW01\n",
    "\n",
    "## <font color='red'> Deadline: 9/4. </font>\n",
    "\n",
    "### QUESTIONS\n",
    "\n",
    "1. Write a function called \"operate\" that takes as input two numbers, and a string that can be either \"add\" or \"multiply\". The output should be either the sum or product of the two numbers, depending on the string entered.\n",
    "\n",
    "2. The Fibonacci sequence starts with 1, 1, and each subsequent term is the sum of the preceding two terms. The first 6 terms of the Fibonacci sequence are: 1, 1, 2, 3, 5, 8, ... Write a python function that takes one argument N and prints the first N terms of the Fibonacci sequence.\n",
    "\n",
    "3. A simple substitution code codes 'a' as 1, 'b' as 2, ..., 'z' as 26. Write a function called \"encode\" that takes in a string, and prints the coded text. The output should be a string, with letters separated by \".\". Use \"999\" for punctuation and spaces. For example, encode(\"Hello!\") should print out \"8.5.12.12.15.999\".\n",
    "\n",
    "4. The Harmonic series is the sum of 1 + 1/2 + 1/3 + 1/4 + ..... The n<sup>th</sup> Harmonic number H<sub>n</sub> is 1 + 1/2 + 1/3 + ...  + 1/n. Write a python function called \"get_n\" that accepts as input a threshold, and returns n corresponding to the smallest Harmonic number whose value is grater than the threshold. E.g. `get_n(3)` should output 11.\n",
    "\n",
    "5. Write a function called \"describe\" that takes as input a list of numbers, and prints the number of elements in the list, and the mean, variance, and standard deviation. The printed quantities should be labeled. The output should look something like: </br></br>\n",
    "`number of elements: 12` </br>\n",
    "`mean: 0.5` </br>\n",
    "`variance: 0.04` </br>\n",
    "`standard deviation: 0.2`\n"
   ]
  },
  {
   "cell_type": "code",
   "execution_count": 2,
   "metadata": {},
   "outputs": [
    {
     "name": "stdout",
     "output_type": "stream",
     "text": [
      "5\n",
      "6\n"
     ]
    }
   ],
   "source": [
    "#1. Write a function called operate\n",
    "def operate(num1, num2, string):\n",
    "    if string == \"add\":\n",
    "        return num1+num2\n",
    "    elif string == \"multiply\":\n",
    "        return num1*num2\n",
    "    else:\n",
    "        return \"Error please enter the correct string\"\n",
    "\n",
    "print(operate(2,3,'add'))\n",
    "print(operate(2,3,'multiply'))"
   ]
  },
  {
   "cell_type": "code",
   "execution_count": 18,
   "metadata": {},
   "outputs": [
    {
     "name": "stdout",
     "output_type": "stream",
     "text": [
      "1,1,2,3,5,8\n"
     ]
    }
   ],
   "source": [
    "#2. The Fibonacci Sequence\n",
    "def fibonacci(N):\n",
    "    temp1=0\n",
    "    temp2=1\n",
    "    string=\"\"\n",
    "    if N >= 1:\n",
    "        string=\"1\"\n",
    "        for i in range(0,N-1):\n",
    "            result=temp1+temp2\n",
    "            string=string+\",\"+str(result)\n",
    "            temp1=temp2\n",
    "            temp2=result\n",
    "        print(string)\n",
    "    else:\n",
    "        print(\"Error, Please enter a vaild input\")\n",
    "\n",
    "fibonacci(6)\n",
    "    "
   ]
  },
  {
   "cell_type": "code",
   "execution_count": 5,
   "metadata": {},
   "outputs": [
    {
     "name": "stdout",
     "output_type": "stream",
     "text": [
      "8.5.12.12.15.999\n"
     ]
    }
   ],
   "source": [
    "#3. Write a function encode\n",
    "def encode(string):\n",
    "    encode_string=''\n",
    "    for i in string:\n",
    "        # Ascii value of A starts with 65\n",
    "        if i.isalpha():\n",
    "            temp=ord(i.upper())\n",
    "            encode_string=encode_string+str(temp-64)+'.'\n",
    "        else:\n",
    "            encode_string=encode_string+'999.'\n",
    "            \n",
    "    return encode_string[0:-1]\n",
    "\n",
    "print(encode(\"Hello!\"))\n",
    "\n"
   ]
  },
  {
   "cell_type": "code",
   "execution_count": 6,
   "metadata": {},
   "outputs": [
    {
     "name": "stdout",
     "output_type": "stream",
     "text": [
      "11\n"
     ]
    }
   ],
   "source": [
    "#4. Write a function called \"get_n\"\n",
    "def get_n(threshold):\n",
    "    sum=0\n",
    "    count=1\n",
    "    for _ in iter(int, 1):\n",
    "        sum=sum+(1/count)\n",
    "        if sum>threshold:\n",
    "            break\n",
    "        count=count+1\n",
    "    return count\n",
    "\n",
    "print(get_n(3))"
   ]
  },
  {
   "cell_type": "code",
   "execution_count": 7,
   "metadata": {},
   "outputs": [
    {
     "name": "stdout",
     "output_type": "stream",
     "text": [
      "number of elements: 8\n",
      "mean: 5.0\n",
      "variance: 4.0\n",
      "standard deviation: 2.0\n"
     ]
    }
   ],
   "source": [
    "#5. Write a function describe\n",
    "import math\n",
    "def describe(list):\n",
    "    total=0\n",
    "    length=len(list)\n",
    "    print('number of elements: '+str(length))\n",
    "    mean=sum(list)/length\n",
    "    print('mean: '+str(mean))\n",
    "    for i in list:\n",
    "        difference=i-mean\n",
    "        total=total+(difference*difference)\n",
    "    variance=total/length\n",
    "    print('variance: '+str(variance))\n",
    "    print('standard deviation: '+str(math.sqrt(variance)))\n",
    "\n",
    "describe([2,4,4,4,5,5,7,9])"
   ]
  }
 ],
 "metadata": {
  "kernelspec": {
   "display_name": "Python 3",
   "language": "python",
   "name": "python3"
  },
  "language_info": {
   "codemirror_mode": {
    "name": "ipython",
    "version": 3
   },
   "file_extension": ".py",
   "mimetype": "text/x-python",
   "name": "python",
   "nbconvert_exporter": "python",
   "pygments_lexer": "ipython3",
   "version": "3.7.3"
  }
 },
 "nbformat": 4,
 "nbformat_minor": 2
}
