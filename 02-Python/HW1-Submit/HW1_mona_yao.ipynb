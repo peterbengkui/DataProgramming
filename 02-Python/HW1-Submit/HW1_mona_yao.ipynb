{
 "cells": [
  {
   "cell_type": "markdown",
   "metadata": {},
   "source": [
    "# Assignment HW01\n",
    "\n",
    "## <font color='red'> Deadline: 9/4. </font>\n",
    "\n",
    "### QUESTIONS\n",
    "\n",
    "1. Write a function called \"operate\" that takes as input two numbers, and a string that can be either \"add\" or \"multiply\". The output should be either the sum or product of the two numbers, depending on the string entered.\n",
    "\n",
    "2. The Fibonacci sequence starts with 1, 1, and each subsequent term is the sum of the preceding two terms. The first 6 terms of the Fibonacci sequence are: 1, 1, 2, 3, 5, 8, ... Write a python function that takes one argument N and prints the first N terms of the Fibonacci sequence.\n",
    "\n",
    "3. A simple substitution code codes 'a' as 1, 'b' as 2, ..., 'z' as 26. Write a function called \"encode\" that takes in a string, and prints the coded text. The output should be a string, with letters separated by \".\". Use \"999\" for punctuation and spaces. For example, encode(\"Hello!\") should print out \"8.5.12.12.15.999\".\n",
    "\n",
    "4. The Harmonic series is the sum of 1 + 1/2 + 1/3 + 1/4 + ..... The n<sup>th</sup> Harmonic number H<sub>n</sub> is 1 + 1/2 + 1/3 + ...  + 1/n. Write a python function called \"get_n\" that accepts as input a threshold, and returns n corresponding to the smallest Harmonic number whose value is grater than the threshold. E.g. `get_n(3)` should output 11.\n",
    "\n",
    "5. Write a function called \"describe\" that takes as input a list of numbers, and prints the number of elements in the list, and the mean, variance, and standard deviation. The printed quantities should be labeled. The output should look something like: </br></br>\n",
    "`number of elements: 12` </br>\n",
    "`mean: 0.5` </br>\n",
    "`variance: 0.04` </br>\n",
    "`standard deviation: 0.2`\n"
   ]
  },
  {
   "cell_type": "code",
   "execution_count": 1,
   "metadata": {},
   "outputs": [],
   "source": [
    "def operate(number_1, number_2, operator):\n",
    "    if (isinstance(number_1,float) or isinstance(number_1,int)) == False:\n",
    "        print(\"Warning! Invalid inputs\")\n",
    "        return\n",
    "    if (isinstance(number_2,float) or isinstance(number_2,int)) == False:\n",
    "        print(\"Warning! Invalid inputs\")\n",
    "        return\n",
    "    if operator == \"add\":\n",
    "        result = number_1 + number_2\n",
    "        return result\n",
    "    elif operator == \"multiply\":\n",
    "        result = number_1 * number_2\n",
    "        return result\n",
    "    else: \n",
    "        print(\"Warning! operator not defined\")\n",
    "        return"
   ]
  },
  {
   "cell_type": "code",
   "execution_count": 7,
   "metadata": {},
   "outputs": [
    {
     "data": {
      "text/plain": [
       "5"
      ]
     },
     "execution_count": 7,
     "metadata": {},
     "output_type": "execute_result"
    }
   ],
   "source": [
    "operate(2,3,\"add\")"
   ]
  },
  {
   "cell_type": "code",
   "execution_count": 2,
   "metadata": {},
   "outputs": [],
   "source": [
    "def Fibonacci(N):\n",
    "    current = 1\n",
    "    previous2 = 0\n",
    "    previous1 = 1\n",
    "    print(current)\n",
    "    for i in range(N-1):\n",
    "        current = previous1+previous2\n",
    "        previous2 = previous1\n",
    "        previous1 = current\n",
    "        print(current)\n",
    "    return"
   ]
  },
  {
   "cell_type": "code",
   "execution_count": 8,
   "metadata": {},
   "outputs": [
    {
     "name": "stdout",
     "output_type": "stream",
     "text": [
      "1\n",
      "1\n",
      "2\n",
      "3\n",
      "5\n",
      "8\n",
      "13\n",
      "21\n",
      "34\n",
      "55\n"
     ]
    }
   ],
   "source": [
    "Fibonacci(10)"
   ]
  },
  {
   "cell_type": "code",
   "execution_count": 12,
   "metadata": {},
   "outputs": [],
   "source": [
    "def encode(string):\n",
    "    d = {\"a\":\"1\", \"b\":\"2\", \"c\":\"3\", \"d\":\"4\", \"e\":\"5\", \"f\":\"6\", \"g\":\"7\", \"h\":\"8\", \"i\":\"9\", \n",
    "         \"j\":\"10\", \"k\":\"11\", \"l\":\"12\", \"m\":\"13\", \"n\":\"14\", \"o\":\"15\", \"p\":\"16\", \"q\":\"17\", \"r\":\"18\", \n",
    "         \"s\":\"19\", \"t\":\"20\", \"u\":\"21\", \"v\":\"22\", \"w\":\"23\", \"x\":\"24\", \"y\":\"25\", \"z\":\"26\", \"!\":\"999\", \" \":\"999\"}\n",
    "    result=\"\"\n",
    "    for letter in string:\n",
    "        result +=  d[letter.lower()] +\".\" \n",
    "    print(result[:-1])\n",
    "    return result[:-1]"
   ]
  },
  {
   "cell_type": "code",
   "execution_count": 13,
   "metadata": {},
   "outputs": [
    {
     "name": "stdout",
     "output_type": "stream",
     "text": [
      "8.5.12.12.15.999\n"
     ]
    },
    {
     "data": {
      "text/plain": [
       "'8.5.12.12.15.999'"
      ]
     },
     "execution_count": 13,
     "metadata": {},
     "output_type": "execute_result"
    }
   ],
   "source": [
    "encode(\"Hello!\")"
   ]
  },
  {
   "cell_type": "code",
   "execution_count": 4,
   "metadata": {},
   "outputs": [],
   "source": [
    "def get_n(threshold):\n",
    "    iterator = 0\n",
    "    factor = 0\n",
    "    summation = 0\n",
    "    while summation < threshold:\n",
    "        factor = 1/(iterator+1)\n",
    "        summation = summation+factor\n",
    "        iterator = iterator+1        \n",
    "    return iterator"
   ]
  },
  {
   "cell_type": "code",
   "execution_count": 14,
   "metadata": {},
   "outputs": [
    {
     "data": {
      "text/plain": [
       "11"
      ]
     },
     "execution_count": 14,
     "metadata": {},
     "output_type": "execute_result"
    }
   ],
   "source": [
    "get_n(3)"
   ]
  },
  {
   "cell_type": "code",
   "execution_count": 5,
   "metadata": {},
   "outputs": [],
   "source": [
    "import numpy as np\n",
    "def describe(list_1):\n",
    "    print(\"number of elements: {}\".format(len(list_1)))\n",
    "    print(\"mean: {}\".format(np.mean(list_1)))\n",
    "    print(\"variance: {}\".format(np.var(list_1)))\n",
    "    print(\"standard deviation:{}\".format(np.std(list_1)))\n",
    "    return"
   ]
  },
  {
   "cell_type": "code",
   "execution_count": 15,
   "metadata": {},
   "outputs": [
    {
     "name": "stdout",
     "output_type": "stream",
     "text": [
      "number of elements: 4\n",
      "mean: 2.5\n",
      "variance: 1.25\n",
      "standard deviation:1.118033988749895\n"
     ]
    }
   ],
   "source": [
    "describe([1,2,3,4])"
   ]
  },
  {
   "cell_type": "code",
   "execution_count": null,
   "metadata": {},
   "outputs": [],
   "source": []
  }
 ],
 "metadata": {
  "kernelspec": {
   "display_name": "Python 3",
   "language": "python",
   "name": "python3"
  },
  "language_info": {
   "codemirror_mode": {
    "name": "ipython",
    "version": 3
   },
   "file_extension": ".py",
   "mimetype": "text/x-python",
   "name": "python",
   "nbconvert_exporter": "python",
   "pygments_lexer": "ipython3",
   "version": "3.7.3"
  }
 },
 "nbformat": 4,
 "nbformat_minor": 2
}
