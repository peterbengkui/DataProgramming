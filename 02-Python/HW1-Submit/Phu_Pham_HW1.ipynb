{
 "cells": [
  {
   "cell_type": "code",
   "execution_count": 1,
   "metadata": {},
   "outputs": [
    {
     "name": "stdout",
     "output_type": "stream",
     "text": [
      "Enter your first number: 5\n",
      "Enter your second number: 7\n",
      "What do you want the system to do? Add or Multiply?Add\n",
      "The result is 12\n"
     ]
    }
   ],
   "source": [
    "#Question 1:\n",
    "\n",
    "def operate(Num1,Num2,task):\n",
    "    if task==\"add\":\n",
    "        Result=Num1+Num2\n",
    "    elif task==\"multiply\":\n",
    "        Result=Num1*Num2\n",
    "    return Result\n",
    "\n",
    "Num1=int(input(\"Enter your first number: \"))\n",
    "Num2=int(input(\"Enter your second number: \"))\n",
    "task=input(\"What do you want the system to do? Add or Multiply?\").lower()\n",
    "if task==\"add\" or task==\"multiply\":\n",
    "    print(\"The result is \"+ str(operate(Num1,Num2,task)))\n",
    "else:\n",
    "    print(\"Sorry, please enter Add or Multiply\")\n",
    "\n",
    "\n"
   ]
  },
  {
   "cell_type": "code",
   "execution_count": 2,
   "metadata": {},
   "outputs": [
    {
     "name": "stdout",
     "output_type": "stream",
     "text": [
      "Please enter a number: 8\n",
      "[1, 1, 2, 3, 5, 8, 13, 21]\n"
     ]
    }
   ],
   "source": [
    "#Question 2:\n",
    "\n",
    "inp=int(input(\"Please enter a number: \"))\n",
    "\n",
    "num=[1,1]\n",
    "\n",
    "for x in range(inp-2):\n",
    "    num.append( num[(len(num)-1)] + num[(len(num)-2)] )\n",
    "\n",
    "print(num)\n",
    "\n"
   ]
  },
  {
   "cell_type": "code",
   "execution_count": 1,
   "metadata": {},
   "outputs": [
    {
     "name": "stdout",
     "output_type": "stream",
     "text": [
      "Enter the string you want to encode: Hello!\n",
      "8.5.12.12.15.999.\n"
     ]
    }
   ],
   "source": [
    "#Question 3\n",
    "\n",
    "thisdict={}\n",
    "alphabet=[]\n",
    "for letter in range(97,123):\n",
    "    alphabet.append(chr(letter))\n",
    "\n",
    "for x in range(len(alphabet)):\n",
    "    thisdict[alphabet[x]]=x+1\n",
    "\n",
    "thisdict['!']=999\n",
    "thisdict[\" \"]=999\n",
    "\n",
    "def encode(inp,thisdict):\n",
    "    b=\"\"\n",
    "    for x in range(len(inp)):\n",
    "        a=str(thisdict[inp[x]])+\".\"\n",
    "        b=b+\"\"+a\n",
    "    return b\n",
    "\n",
    "inp=input(\"Enter the string you want to encode: \").lower()\n",
    "\n",
    "print(encode(inp.lower(),thisdict))"
   ]
  },
  {
   "cell_type": "code",
   "execution_count": 5,
   "metadata": {},
   "outputs": [
    {
     "name": "stdout",
     "output_type": "stream",
     "text": [
      "Enter a number: 3\n",
      "11\n"
     ]
    }
   ],
   "source": [
    "#Question 4: \n",
    "\n",
    "from fractions import Fraction\n",
    "\n",
    "num=int(input(\"Enter a number: \"))\n",
    "\n",
    "def get_n(num):\n",
    "    sum=0\n",
    "    x=0\n",
    "    while sum<num:\n",
    "        x+=1\n",
    "        sum+=(1/(x))\n",
    "    return x\n",
    "\n",
    "print(get_n(num))"
   ]
  },
  {
   "cell_type": "code",
   "execution_count": 2,
   "metadata": {},
   "outputs": [
    {
     "name": "stdout",
     "output_type": "stream",
     "text": [
      "How many number do you want in the list ?5\n",
      "Please enter number 1\n",
      "4\n",
      "Please enter number 2\n",
      "6\n",
      "Please enter number 3\n",
      "7\n",
      "Please enter number 4\n",
      "10\n",
      "Please enter number 5\n",
      "8\n",
      "Number of elements: 5\n",
      "Mean: 7.0\n",
      "Variance: 4.0\n",
      "Standard Deviation: 2.0\n"
     ]
    }
   ],
   "source": [
    "#Question 5:\n",
    "\n",
    "import math \n",
    "\n",
    "num=int(input(\"How many number do you want in the list ?\"))\n",
    "ourlist=[]\n",
    "for x in range(num):\n",
    "    print(\"Please enter number \"+str(x+1))\n",
    "    ourlist.append(int(input()))\n",
    "\n",
    "def describe(ourlist):\n",
    "    size=len(ourlist)\n",
    "    sum=newsum=0\n",
    "    newlist=[]\n",
    "    \n",
    "    #Get the mean\n",
    "    for x in range(size):\n",
    "        sum+=ourlist[x]\n",
    "    mean=sum/size\n",
    "    \n",
    "    #Get the variance\n",
    "    for x in range(size):\n",
    "        newsum+=(ourlist[x]-mean)**2\n",
    "    variance=newsum/size\n",
    "    \n",
    "    #Find the standard deviation\n",
    "    num1=math.sqrt(variance)\n",
    "    \n",
    "    print(\"Number of elements: \"+str(size))\n",
    "    print(\"Mean: \"+str(mean))\n",
    "    print(\"Variance: \"+str(round(variance,1)))\n",
    "    print(\"Standard Deviation: \"+ str(round(num1,1)))\n",
    "    \n",
    "describe(ourlist)"
   ]
  },
  {
   "cell_type": "markdown",
   "metadata": {},
   "source": []
  }
 ],
 "metadata": {
  "kernelspec": {
   "display_name": "Python 3",
   "language": "python",
   "name": "python3"
  },
  "language_info": {
   "codemirror_mode": {
    "name": "ipython",
    "version": 3
   },
   "file_extension": ".py",
   "mimetype": "text/x-python",
   "name": "python",
   "nbconvert_exporter": "python",
   "pygments_lexer": "ipython3",
   "version": "3.7.3"
  }
 },
 "nbformat": 4,
 "nbformat_minor": 2
}
