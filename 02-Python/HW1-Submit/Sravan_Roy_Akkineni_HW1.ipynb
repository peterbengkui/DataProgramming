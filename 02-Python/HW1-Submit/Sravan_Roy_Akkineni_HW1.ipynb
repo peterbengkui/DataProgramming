{
 "cells": [
  {
   "cell_type": "markdown",
   "metadata": {},
   "source": [
    "# Assignment HW01\n",
    "\n",
    "## <font color='red'> Deadline: 9/4. </font>\n",
    "\n",
    "### QUESTIONS\n",
    "\n",
    "1. Write a function called \"operate\" that takes as input two numbers, and a string that can be either \"add\" or \"multiply\". The output should be either the sum or product of the two numbers, depending on the string entered.\n",
    "\n",
    "2. The Fibonacci sequence starts with 1, 1, and each subsequent term is the sum of the preceding two terms. The first 6 terms of the Fibonacci sequence are: 1, 1, 2, 3, 5, 8, ... Write a python function that takes one argument N and prints the first N terms of the Fibonacci sequence.\n",
    "\n",
    "3. A simple substitution code codes 'a' as 1, 'b' as 2, ..., 'z' as 26. Write a function called \"encode\" that takes in a string, and prints the coded text. The output should be a string, with letters separated by \".\". Use \"999\" for punctuation and spaces. For example, encode(\"Hello!\") should print out \"8.5.12.12.15.999\".\n",
    "\n",
    "4. The Harmonic series is the sum of 1 + 1/2 + 1/3 + 1/4 + ..... The n<sup>th</sup> Harmonic number H<sub>n</sub> is 1 + 1/2 + 1/3 + ...  + 1/n. Write a python function called \"get_n\" that accepts as input a threshold, and returns n corresponding to the smallest Harmonic number whose value is grater than the threshold. E.g. `get_n(3)` should output 11.\n",
    "\n",
    "5. Write a function called \"describe\" that takes as input a list of numbers, and prints the number of elements in the list, and the mean, variance, and standard deviation. The printed quantities should be labeled. The output should look something like: </br></br>\n",
    "`number of elements: 12` </br>\n",
    "`mean: 0.5` </br>\n",
    "`variance: 0.04` </br>\n",
    "`standard deviation: 0.2`\n"
   ]
  },
  {
   "cell_type": "code",
   "execution_count": 4,
   "metadata": {
    "scrolled": true
   },
   "outputs": [
    {
     "name": "stdout",
     "output_type": "stream",
     "text": [
      "Enter the first number:\n",
      "3\n",
      "Enter the second number:\n",
      "2\n",
      "Please enter 'add' or 'multiply' to operate on the numbers:\n",
      "multiply\n",
      "\n",
      "The multiplication of 3.0 and 2.0 is 6.0\n"
     ]
    }
   ],
   "source": [
    "def operate(n1,n2,text):\n",
    "    n1 = float(n1)\n",
    "    n2 = float(n2)\n",
    "    text = str(text)\n",
    "    if(text==\"add\"):\n",
    "        z=n1+n2\n",
    "        print(\"\\nThe addition of {} and {} is {}\".format(n1,n2,z))\n",
    "    elif(text==\"multiply\"):\n",
    "        z=n1*n2\n",
    "        print(\"\\nThe multiplication of {} and {} is {}\".format(n1,n2,z))\n",
    "    else:\n",
    "        text = input(\"Please enter a valid string input 'add' or 'multiply':\\n\")\n",
    "        result = operate(number1,number2,text)\n",
    "    \n",
    "number1 = input(\"Enter the first number:\\n\")\n",
    "number2 = input(\"Enter the second number:\\n\")\n",
    "text = input(\"Please enter 'add' or 'multiply' to operate on the numbers:\\n\")\n",
    "\n",
    "operate(number1,number2,text)"
   ]
  },
  {
   "cell_type": "code",
   "execution_count": 5,
   "metadata": {
    "scrolled": true
   },
   "outputs": [
    {
     "name": "stdout",
     "output_type": "stream",
     "text": [
      "Enter the number of terms :\n",
      "8\n",
      "\n",
      "Fibonacci Sequence:\n",
      "0\n",
      "1\n",
      "1\n",
      "2\n",
      "3\n",
      "5\n",
      "8\n",
      "13\n"
     ]
    }
   ],
   "source": [
    "def fib(N):\n",
    "    if N<=1:\n",
    "        return N\n",
    "    else:\n",
    "        return fib(N-1)+fib(N-2)\n",
    "num_terms = input(\"Enter the number of terms :\\n\")\n",
    "\n",
    "try:\n",
    "    num_terms = int(num_terms)\n",
    "    if num_terms >=0:\n",
    "        num_terms=num_terms\n",
    "    else:\n",
    "        num_terms = int(input(\"Enter a valid positive integer:\\n\"))\n",
    "        \n",
    "except ValueError:\n",
    "    num_terms = int(input(\"Enter a valid positive integer:\\n\"))\n",
    "    \n",
    "print(\"\\nFibonacci Sequence:\")\n",
    "for N in range(num_terms):\n",
    "    print(fib(N))\n",
    "        \n",
    "        \n",
    "\n",
    "    \n"
   ]
  },
  {
   "cell_type": "code",
   "execution_count": 2,
   "metadata": {
    "scrolled": true
   },
   "outputs": [
    {
     "name": "stdout",
     "output_type": "stream",
     "text": [
      "Enter a string:\n",
      "Hello!\n",
      "\"8.5.12.12.15.999\"\n"
     ]
    }
   ],
   "source": [
    "from string import ascii_lowercase,ascii_uppercase\n",
    "\n",
    "letters = {}\n",
    "start_lower=1\n",
    "for index in ascii_lowercase:\n",
    "    letters.update({index:str(start_lower)})\n",
    "    start_lower+=1\n",
    "\n",
    "start_upper=1\n",
    "for index in ascii_uppercase:\n",
    "    letters.update({index:str(start_upper)})\n",
    "    start_upper+=1\n",
    "\n",
    "en_list = []\n",
    "def encode(text):\n",
    "    for i in text:\n",
    "        if i in letters:\n",
    "            en_list.append(letters.get(i))\n",
    "        else:\n",
    "            en_list.append(str(999))\n",
    "    return en_list\n",
    "\n",
    "text = input(\"Enter a string:\\n\")\n",
    "result = encode(text)\n",
    "print('\"'+'.'.join(result)+'\"')"
   ]
  },
  {
   "cell_type": "code",
   "execution_count": 2,
   "metadata": {},
   "outputs": [
    {
     "name": "stdout",
     "output_type": "stream",
     "text": [
      "Enter the threshold sum value:3\n"
     ]
    },
    {
     "data": {
      "text/plain": [
       "11"
      ]
     },
     "execution_count": 2,
     "metadata": {},
     "output_type": "execute_result"
    }
   ],
   "source": [
    "def get_n(n):\n",
    "    count = 0\n",
    "    acc = 1\n",
    "    sum = 0\n",
    "    for i in range(9999999):\n",
    "        sum = sum + float(1/acc)\n",
    "        acc+=1\n",
    "        count+=1\n",
    "        if sum>=n:\n",
    "            break\n",
    "        else:\n",
    "            continue\n",
    "    return count\n",
    "\n",
    "n = int(input(\"Enter the threshold sum value:\"))\n",
    "try:\n",
    "    n = int(n)\n",
    "    if n >0:\n",
    "        n=n\n",
    "    else:\n",
    "        n = int(input(\"Enter a valid positive integer:\\n\"))\n",
    "        \n",
    "except ValueError:\n",
    "    n = int(input(\"Enter a valid positive integer:\\n\"))\n",
    "get_n(n)    \n",
    "        \n",
    "    "
   ]
  },
  {
   "cell_type": "code",
   "execution_count": 4,
   "metadata": {},
   "outputs": [
    {
     "name": "stdout",
     "output_type": "stream",
     "text": [
      "Enter the list of numbers:2 4 6 8\n",
      " Number of elements: 4\n",
      " Mean: 5.00\n",
      " Variance: 6.67\n",
      " Standard Deviation: 2.58\n",
      "\n"
     ]
    }
   ],
   "source": [
    "import statistics\n",
    "import numpy as np\n",
    "\n",
    "def describe(items):\n",
    "    count = len(items)\n",
    "    mean = np.mean(items)\n",
    "    var = statistics.variance(items)\n",
    "    std = statistics.stdev(items)\n",
    "    print(\" Number of elements: {}\\n Mean: {:0.2f}\\n Variance: {:0.2f}\\n Standard Deviation: {:0.2f}\\n\".format(count,mean,var,std))\n",
    "\n",
    "\n",
    "items = input(\"Enter the list of numbers:\")\n",
    "items = list(map(int,items.split()))\n",
    "\n",
    "describe(items)"
   ]
  },
  {
   "cell_type": "code",
   "execution_count": null,
   "metadata": {},
   "outputs": [],
   "source": []
  }
 ],
 "metadata": {
  "kernelspec": {
   "display_name": "Python 3",
   "language": "python",
   "name": "python3"
  },
  "language_info": {
   "codemirror_mode": {
    "name": "ipython",
    "version": 3
   },
   "file_extension": ".py",
   "mimetype": "text/x-python",
   "name": "python",
   "nbconvert_exporter": "python",
   "pygments_lexer": "ipython3",
   "version": "3.6.8"
  }
 },
 "nbformat": 4,
 "nbformat_minor": 2
}
