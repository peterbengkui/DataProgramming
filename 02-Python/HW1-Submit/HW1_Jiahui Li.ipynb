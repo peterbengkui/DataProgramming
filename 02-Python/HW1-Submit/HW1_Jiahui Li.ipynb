{
 "cells": [
  {
   "cell_type": "markdown",
   "metadata": {},
   "source": [
    "# Assignment HW01\n",
    "\n",
    "## <font color='red'> Deadline: 9/4. </font>\n",
    "\n",
    "### QUESTIONS\n",
    "\n",
    "1. Write a function called \"operate\" that takes as input two numbers, and a string that can be either \"add\" or \"multiply\". The output should be either the sum or product of the two numbers, depending on the string entered.\n",
    "\n",
    "2. The Fibonacci sequence starts with 1, 1, and each subsequent term is the sum of the preceding two terms. The first 6 terms of the Fibonacci sequence are: 1, 1, 2, 3, 5, 8, ... Write a python function that takes one argument N and prints the first N terms of the Fibonacci sequence.\n",
    "\n",
    "3. A simple substitution code codes 'a' as 1, 'b' as 2, ..., 'z' as 26. Write a function called \"encode\" that takes in a string, and prints the coded text. The output should be a string, with letters separated by \".\". Use \"999\" for punctuation and spaces. For example, encode(\"Hello!\") should print out \"8.5.12.12.15.999\".\n",
    "\n",
    "4. The Harmonic series is the sum of 1 + 1/2 + 1/3 + 1/4 + ..... The n<sup>th</sup> Harmonic number H<sub>n</sub> is 1 + 1/2 + 1/3 + ...  + 1/n. Write a python function called \"get_n\" that accepts as input a threshold, and returns n corresponding to the smallest Harmonic number whose value is grater than the threshold. E.g. `get_n(3)` should output 11.\n",
    "\n",
    "5. Write a function called \"describe\" that takes as input a list of numbers, and prints the number of elements in the list, and the mean, variance, and standard deviation. The printed quantities should be labeled. The output should look something like: </br></br>\n",
    "`number of elements: 12` </br>\n",
    "`mean: 0.5` </br>\n",
    "`variance: 0.04` </br>\n",
    "`standard deviation: 0.2`\n"
   ]
  },
  {
   "cell_type": "code",
   "execution_count": 4,
   "metadata": {},
   "outputs": [],
   "source": [
    "#Q1\n",
    "def operate(x,y,option):\n",
    "    if option==\"add\":\n",
    "        print(x+y)\n",
    "    if option==\"multiply\":\n",
    "        print(x*y)"
   ]
  },
  {
   "cell_type": "code",
   "execution_count": 21,
   "metadata": {},
   "outputs": [
    {
     "name": "stdout",
     "output_type": "stream",
     "text": [
      "3\n",
      "30\n"
     ]
    }
   ],
   "source": [
    "operate(1,2,\"add\")\n",
    "operate(5,6,\"multiply\")\n"
   ]
  },
  {
   "cell_type": "code",
   "execution_count": 179,
   "metadata": {},
   "outputs": [],
   "source": [
    "#Q2\n",
    "def function(N):\n",
    "    Fseq=[1,1]\n",
    "    for n in range(0,N-2):\n",
    "        Fseq.append(Fseq[n]+Fseq[n+1])\n",
    "    print(Fseq[:N])"
   ]
  },
  {
   "cell_type": "code",
   "execution_count": 71,
   "metadata": {},
   "outputs": [
    {
     "name": "stdout",
     "output_type": "stream",
     "text": [
      "[1]\n",
      "[1, 1]\n",
      "[1, 1, 2]\n",
      "[1, 1, 2, 3, 5, 8]\n"
     ]
    }
   ],
   "source": [
    "function(1)\n",
    "function(2)\n",
    "function(3)\n",
    "function(6)"
   ]
  },
  {
   "cell_type": "code",
   "execution_count": 272,
   "metadata": {},
   "outputs": [],
   "source": [
    "#Q3\n",
    "def encode(input_string):\n",
    "    num_list=[]\n",
    "    text=\"\"\n",
    "    alphabet_space_punc=[\"a\",\"b\",\"c\",\"d\",\"e\",\"f\",\"g\",\"h\",\"i\",\"j\",\"k\",\"l\",\"m\",\"n\",\"o\",\"p\",\"q\",\"r\",\"s\",\"t\",\n",
    "              \"u\",\"v\",\"w\",\"x\",\"y\",\"z\",\" \",\"!\"]\n",
    "    \n",
    "    for s in input_string:\n",
    "        num_list.append(alphabet_space_punc.index(s.lower())+1)\n",
    "        \n",
    "    for n in range(len(num_list)):\n",
    "        if num_list[n]>26:\n",
    "            num_list[n]=999\n",
    "    \n",
    "    #print(num_list)\n",
    "        \n",
    "    for num in range(len(num_list)-1):\n",
    "           text=text+(str(num_list[num])+\".\")\n",
    "    \n",
    "    text=text+str(num_list[-1])\n",
    "    print(text)\n",
    "    "
   ]
  },
  {
   "cell_type": "code",
   "execution_count": 273,
   "metadata": {},
   "outputs": [
    {
     "name": "stdout",
     "output_type": "stream",
     "text": [
      "8.5.12.12.15.999\n"
     ]
    }
   ],
   "source": [
    "encode('Hello!')\n"
   ]
  },
  {
   "cell_type": "code",
   "execution_count": 29,
   "metadata": {},
   "outputs": [],
   "source": [
    "#Q4\n",
    "def get_n(threshold): \n",
    "    total=0\n",
    "    n=0\n",
    "    while True:\n",
    "        n=n+1\n",
    "        total=total+(1/n)\n",
    "        if total>threshold:\n",
    "            break        \n",
    "    return n\n"
   ]
  },
  {
   "cell_type": "code",
   "execution_count": 30,
   "metadata": {},
   "outputs": [
    {
     "data": {
      "text/plain": [
       "11"
      ]
     },
     "execution_count": 30,
     "metadata": {},
     "output_type": "execute_result"
    }
   ],
   "source": [
    "n=get_n(3)\n",
    "n"
   ]
  },
  {
   "cell_type": "code",
   "execution_count": null,
   "metadata": {},
   "outputs": [],
   "source": [
    "#Q5\n",
    "def describe(numbers):\n",
    "    import numpy as np\n",
    "    print(\"number of elements: %d\"%len(numbers))\n",
    "    print(\"mean: %g\"%np.mean(numbers))\n",
    "    print(\"variance: %g\"%np.var(numbers))\n",
    "    print(\"standard deviation: %g\"%np.std(numbers))"
   ]
  },
  {
   "cell_type": "code",
   "execution_count": 187,
   "metadata": {},
   "outputs": [
    {
     "name": "stdout",
     "output_type": "stream",
     "text": [
      "number of elements: 5\n",
      "mean: 2.6\n",
      "variance: 2.64\n",
      "standard deviation: 1.62481\n"
     ]
    }
   ],
   "source": [
    "describe([2,1,1,5,4])"
   ]
  }
 ],
 "metadata": {
  "kernelspec": {
   "display_name": "Python 3",
   "language": "python",
   "name": "python3"
  },
  "language_info": {
   "codemirror_mode": {
    "name": "ipython",
    "version": 3
   },
   "file_extension": ".py",
   "mimetype": "text/x-python",
   "name": "python",
   "nbconvert_exporter": "python",
   "pygments_lexer": "ipython3",
   "version": "3.7.3"
  }
 },
 "nbformat": 4,
 "nbformat_minor": 2
}
