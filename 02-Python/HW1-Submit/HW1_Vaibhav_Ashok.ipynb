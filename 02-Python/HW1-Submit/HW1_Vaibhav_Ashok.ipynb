{
 "cells": [
  {
   "cell_type": "markdown",
   "metadata": {},
   "source": [
    "# Assignment HW01\n",
    "\n",
    "## <font color='red'> Deadline: 9/4. </font>\n",
    "\n",
    "### QUESTIONS\n",
    "\n",
    "1. Write a function called \"operate\" that takes as input two numbers, and a string that can be either \"add\" or \"multiply\". The output should be either the sum or product of the two numbers, depending on the string entered.\n",
    "\n",
    "2. The Fibonacci sequence starts with 1, 1, and each subsequent term is the sum of the preceding two terms. The first 6 terms of the Fibonacci sequence are: 1, 1, 2, 3, 5, 8, ... Write a python function that takes one argument N and prints the first N terms of the Fibonacci sequence.\n",
    "\n",
    "3. A simple substitution code codes 'a' as 1, 'b' as 2, ..., 'z' as 26. Write a function called \"encode\" that takes in a string, and prints the coded text. The output should be a string, with letters separated by \".\". Use \"999\" for punctuation and spaces. For example, encode(\"Hello!\") should print out \"8.5.12.12.15.999\".\n",
    "\n",
    "4. The Harmonic series is the sum of 1 + 1/2 + 1/3 + 1/4 + ..... The n<sup>th</sup> Harmonic number H<sub>n</sub> is 1 + 1/2 + 1/3 + ...  + 1/n. Write a python function called \"get_n\" that accepts as input a threshold, and returns n corresponding to the smallest Harmonic number whose value is grater than the threshold. E.g. `get_n(3)` should output 11.\n",
    "\n",
    "5. Write a function called \"describe\" that takes as input a list of numbers, and prints the number of elements in the list, and the mean, variance, and standard deviation. The printed quantities should be labeled. The output should look something like: </br></br>\n",
    "`number of elements: 12` </br>\n",
    "`mean: 0.5` </br>\n",
    "`variance: 0.04` </br>\n",
    "`standard deviation: 0.2`\n"
   ]
  },
  {
   "cell_type": "code",
   "execution_count": 2,
   "metadata": {},
   "outputs": [
    {
     "name": "stdout",
     "output_type": "stream",
     "text": [
      "Enter first number: 5\n",
      "Enter second number: 4\n",
      "Enter either 'add' or 'multiply': add\n",
      "Output:  9\n"
     ]
    }
   ],
   "source": [
    "# 1\n",
    "def operate():\n",
    "    while True:\n",
    "        num1 = input(\"Enter first number: \")\n",
    "        if not num1:\n",
    "            print(\"Incorrect Input! Please try again.\")\n",
    "            continue\n",
    "        try:\n",
    "            num1 == int(num1)\n",
    "        except ValueError:\n",
    "            print(\"Incorrect Input! Please try again.\")\n",
    "            continue\n",
    "\n",
    "        num2 = input(\"Enter second number: \")\n",
    "        if not num2:\n",
    "            print(\"Incorrect Input! Please try again.\")\n",
    "            continue\n",
    "        try:\n",
    "            num2 == int(num2)\n",
    "        except ValueError:\n",
    "            print(\"Incorrect Input! Please try again.\")\n",
    "            continue\n",
    "\n",
    "        unique_operator = str(input(\"Enter either 'add' or 'multiply': \"))\n",
    "        if unique_operator == \"add\":\n",
    "            print(\"Output: \", int(num1) + int(num2))\n",
    "            break\n",
    "\n",
    "        if unique_operator == \"multiply\":\n",
    "            print(\"Output: \", int(num1) * int(num2))\n",
    "            break\n",
    "\n",
    "        if unique_operator != \"add\" or \"multiply\":\n",
    "            print(\"Incorrect Input! Please try again.\")\n",
    "\n",
    "operate()"
   ]
  },
  {
   "cell_type": "code",
   "execution_count": 3,
   "metadata": {},
   "outputs": [
    {
     "name": "stdout",
     "output_type": "stream",
     "text": [
      "Enter the number of terms to show in the Fibonacci Series: 6\n",
      "Fibonacci Sequence:\n",
      "1, 1, 2, 3, 5, 8, "
     ]
    }
   ],
   "source": [
    "# 2\n",
    "def fibseries():\n",
    "    while True:\n",
    "        n = int(input(\"Enter the number of terms to show in the Fibonacci Series: \"))\n",
    "        counter = 0\n",
    "        num1 = 1\n",
    "        num2 = 1\n",
    "\n",
    "        if n <= 0:\n",
    "            print(\"Please enter a positive integer\")\n",
    "            continue\n",
    "        elif n == 1:\n",
    "            print(\"Fibonacci Sequence: \")\n",
    "            print(num1)\n",
    "        else:\n",
    "            print(\"Fibonacci Sequence:\")\n",
    "            while counter < n:\n",
    "                print(num1, end=', ')\n",
    "                i = num1+num2\n",
    "                num1 = num2\n",
    "                num2 = i\n",
    "                counter += 1\n",
    "        break\n",
    "fibseries()"
   ]
  },
  {
   "cell_type": "code",
   "execution_count": 4,
   "metadata": {},
   "outputs": [
    {
     "name": "stdout",
     "output_type": "stream",
     "text": [
      "Enter any text: Hello!\n",
      "Output: \n",
      "\"8.5.12.12.15.999.\""
     ]
    }
   ],
   "source": [
    "# 3\n",
    "def encode():\n",
    "    text_output = input(\"Enter any text: \")\n",
    "    text_output = text_output.lower()\n",
    "    characters_to_number = {'a': '1', 'b': '2', 'c': '3', 'd': '4', 'e': '5', 'f': '6', 'g': '7', 'h': '8', 'i': '9',\n",
    "                            'j': '10', 'k': '11', 'l': '12', 'm': '13', 'n': '14', 'o': '15', 'p': '16', 'q': '17',\n",
    "                            'r': '18', 's': '19', 't': '20', 'u': '21', 'v': '22', 'w': '23', 'x': '24', 'y': '25',\n",
    "                            'z': '26', ' ': '999', '!': '999', ',': '999', '.': '999', ':': '999', ';': '999',\n",
    "                            '?': '999', '-': '999', '(': '999', ')': '999', '[': '999', ']': '999', '{': '999',\n",
    "                            '}': '999'}\n",
    "    \n",
    "    print(\"Output:\")\n",
    "    print(end='\"')\n",
    "    for each_character in text_output:\n",
    "        number_pattern = characters_to_number.get(each_character)\n",
    "        print(number_pattern, end='.')\n",
    "    print(end='\"')\n",
    "encode()\n"
   ]
  },
  {
   "cell_type": "code",
   "execution_count": 6,
   "metadata": {},
   "outputs": [
    {
     "name": "stdout",
     "output_type": "stream",
     "text": [
      "Enter a list of numbers separated by a comma: 2,4\n",
      "Output:\n",
      "Number of elements:  2\n",
      "Mean:  3.0\n",
      "Variance:  2.0\n",
      "Standard Deviation:  1.4142135623730951\n"
     ]
    }
   ],
   "source": [
    "# 5\n",
    "from statistics import variance\n",
    "from statistics import stdev\n",
    "\n",
    "def describe():\n",
    "    # num_list = []\n",
    "    num_list = input(\"Enter a list of numbers separated by a comma: \").split(sep=',')\n",
    "    num_list = [float(i) for i in num_list]  # list compression from str to int\n",
    "\n",
    "    # print(num_list)\n",
    "    print(\"Output:\")\n",
    "    print(\"Number of elements: \", len(num_list))\n",
    "    print(\"Mean: \", sum(num_list)/len(num_list))\n",
    "    print(\"Variance: \", variance(num_list))\n",
    "    print(\"Standard Deviation: \", stdev(num_list))\n",
    "describe()\n"
   ]
  }
 ],
 "metadata": {
  "kernelspec": {
   "display_name": "Python 3",
   "language": "python",
   "name": "python3"
  },
  "language_info": {
   "codemirror_mode": {
    "name": "ipython",
    "version": 3
   },
   "file_extension": ".py",
   "mimetype": "text/x-python",
   "name": "python",
   "nbconvert_exporter": "python",
   "pygments_lexer": "ipython3",
   "version": "3.7.3"
  }
 },
 "nbformat": 4,
 "nbformat_minor": 2
}
