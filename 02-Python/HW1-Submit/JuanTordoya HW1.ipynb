{
 "cells": [
  {
   "cell_type": "markdown",
   "metadata": {},
   "source": [
    "# Assignment HW01\n",
    "\n",
    "## <font color='red'> Deadline: 9/4. </font>\n",
    "\n",
    "### QUESTIONS\n",
    "\n",
    "1. Write a function called \"operate\" that takes as input two numbers, and a string that can be either \"add\" or \"multiply\". The output should be either the sum or product of the two numbers, depending on the string entered.\n",
    "\n",
    "2. The Fibonacci sequence starts with 1, 1, and each subsequent term is the sum of the preceding two terms. The first 6 terms of the Fibonacci sequence are: 1, 1, 2, 3, 5, 8, ... Write a python function that takes one argument N and prints the first N terms of the Fibonacci sequence.\n",
    "\n",
    "3. A simple substitution code codes 'a' as 1, 'b' as 2, ..., 'z' as 26. Write a function called \"encode\" that takes in a string, and prints the coded text. The output should be a string, with letters separated by \".\". Use \"999\" for punctuation and spaces. For example, encode(\"Hello!\") should print out \"8.5.12.12.15.999\".\n",
    "\n",
    "4. The Harmonic series is the sum of 1 + 1/2 + 1/3 + 1/4 + ..... The n<sup>th</sup> Harmonic number H<sub>n</sub> is 1 + 1/2 + 1/3 + ...  + 1/n. Write a python function called \"get_n\" that accepts as input a threshold, and returns n corresponding to the smallest Harmonic number whose value is grater than the threshold. E.g. `get_n(3)` should output 11.\n",
    "\n",
    "5. Write a function called \"describe\" that takes as input a list of numbers, and prints the number of elements in the list, and the mean, variance, and standard deviation. The printed quantities should be labeled. The output should look something like: </br></br>\n",
    "`number of elements: 12` </br>\n",
    "`mean: 0.5` </br>\n",
    "`variance: 0.04` </br>\n",
    "`standard deviation: 0.2`\n"
   ]
  },
  {
   "cell_type": "code",
   "execution_count": 182,
   "metadata": {},
   "outputs": [
    {
     "name": "stdout",
     "output_type": "stream",
     "text": [
      "6\n"
     ]
    }
   ],
   "source": [
    "def operate(a,b,c):\n",
    "    result=0\n",
    "    #test is a and b are numeric\n",
    "    if (isinstance(a,int) or isinstance(a,float)) and (isinstance(b,int) or isinstance(b,float)):\n",
    "        if c=='add':\n",
    "            result=a+b\n",
    "        elif c=='multiply':\n",
    "            result=a*b\n",
    "        else: #if the operation is not add or multiply, throw an error\n",
    "            return(\"operation not supported, please use 'add' or 'multiply'\")\n",
    "    else: #if parameter a or b are not mumeric, throw an error\n",
    "        return (\"parameters 1 and 2 must be numeric\")\n",
    "    return result\n",
    "\n",
    "#test the function \n",
    "test=operate(3,2,'multiply')\n",
    "print(test)\n",
    "        "
   ]
  },
  {
   "cell_type": "code",
   "execution_count": 192,
   "metadata": {},
   "outputs": [
    {
     "name": "stdout",
     "output_type": "stream",
     "text": [
      "[1, 1, 2, 3, 5, 8, 13, 21, 34, 55]\n"
     ]
    }
   ],
   "source": [
    "def fibonacci(iterations):\n",
    "    #test that the parameter in integer between 1 and 100\n",
    "    if isinstance(iterations,int) and iterations>0 and iterations<=100:\n",
    "        result=list(range(0,iterations))\n",
    "        for i in range(iterations):\n",
    "            if i in [0,1]:\n",
    "                result[i]=1\n",
    "            else:\n",
    "                result[i]=result[i-2]+result[i-1]\n",
    "        return (result)\n",
    "    else: #If the parameter is not valid, throw an error\n",
    "        return (\"The parameter cannot be \" + str(iterations) + \" Please use and integer between 0 and 100\" )\n",
    "    \n",
    "#test the function\n",
    "test=fibonacci(10)\n",
    "print(test)\n"
   ]
  },
  {
   "cell_type": "code",
   "execution_count": 188,
   "metadata": {},
   "outputs": [
    {
     "name": "stdout",
     "output_type": "stream",
     "text": [
      "15.24.19.7.14.13.999.8.18.999.4.0.18.24.999.999.999.999\n"
     ]
    }
   ],
   "source": [
    "def encrypt (message):\n",
    "    #test is the parameter is string\n",
    "    if isinstance(message,str):\n",
    "        alphabet = 'abcdefghijklmnopqrstuvwxyz'\n",
    "        result=''    \n",
    "        for i in range(len(message)):\n",
    "            if message[i].lower() in alphabet:\n",
    "                result = result + str(alphabet.index(message[i].lower())) + '.'\n",
    "            else:\n",
    "                result = result + '999.'\n",
    "        return (result[:-1]) #remove last dot in the result\n",
    "    else:\n",
    "        return (\"This function works with strings only, please add a string parameter\")\n",
    "    \n",
    "\n",
    "test=encrypt (\"Python is EASY!!!!\")\n",
    "print(test)\n"
   ]
  },
  {
   "cell_type": "code",
   "execution_count": 191,
   "metadata": {},
   "outputs": [
    {
     "data": {
      "text/plain": [
       "83"
      ]
     },
     "execution_count": 191,
     "metadata": {},
     "output_type": "execute_result"
    }
   ],
   "source": [
    "def harmonic(th):\n",
    "    #test that the parameter in integer between 1 and 15, bigger numbers will take too long\n",
    "    if isinstance(th,int) and th<=15:\n",
    "        denominator=1\n",
    "        hnumber=0\n",
    "        i=0\n",
    "        while hnumber<th:\n",
    "            i=i+1  #count the number of iterations \n",
    "            hnumber=hnumber + 1/denominator #Calculate the harmonic number\n",
    "            denominator=denominator+1 #Prepare the denominator for next iteration\n",
    "        return (i)\n",
    "    else:\n",
    "        return ('Please write and integer between 1 and 15')\n",
    "        \n",
    "harmonic(5)\n",
    "    "
   ]
  },
  {
   "cell_type": "code",
   "execution_count": 167,
   "metadata": {},
   "outputs": [
    {
     "name": "stdout",
     "output_type": "stream",
     "text": [
      "Number of Elements : 8\n",
      "Mean : 4.5\n",
      "Variance : 6.0\n",
      "Standard Deviation : 2.449489742783178\n"
     ]
    }
   ],
   "source": [
    "#Function that test is a parameter is number\n",
    "def isnumber(a):\n",
    "    if (isinstance(a,int) or isinstance(a,float)):\n",
    "        return (True)\n",
    "    else:\n",
    "        return (False)\n",
    "    \n",
    "def printstats (dataset):    \n",
    "    import statistics\n",
    "    #Test all the numbers in the list, and exit if there is any non numeric value\n",
    "    for i in range(len(dataset)):\n",
    "        if not isnumber(dataset[i]):\n",
    "            print ('Wrong list item \\'' + dataset[i] + '\\' please use numbers only')\n",
    "            return\n",
    "    #Print statistics\n",
    "    print ('Number of Elements : ' + str(len(dataset)))\n",
    "    print ('Mean : ' + str(statistics.mean(dataset)))\n",
    "    print('Variance : ' + str(statistics.variance(dataset)))\n",
    "    print('Standard Deviation : ' + str(statistics.stdev(dataset)))\n",
    "##############\n",
    "\n",
    "dataset = (1,2,3,4,5,6,7,8)\n",
    "printstats(dataset)"
   ]
  },
  {
   "cell_type": "code",
   "execution_count": null,
   "metadata": {},
   "outputs": [],
   "source": [
    "\n",
    "    "
   ]
  },
  {
   "cell_type": "code",
   "execution_count": null,
   "metadata": {},
   "outputs": [],
   "source": []
  }
 ],
 "metadata": {
  "kernelspec": {
   "display_name": "Python 3",
   "language": "python",
   "name": "python3"
  },
  "language_info": {
   "codemirror_mode": {
    "name": "ipython",
    "version": 3
   },
   "file_extension": ".py",
   "mimetype": "text/x-python",
   "name": "python",
   "nbconvert_exporter": "python",
   "pygments_lexer": "ipython3",
   "version": "3.7.3"
  }
 },
 "nbformat": 4,
 "nbformat_minor": 2
}
