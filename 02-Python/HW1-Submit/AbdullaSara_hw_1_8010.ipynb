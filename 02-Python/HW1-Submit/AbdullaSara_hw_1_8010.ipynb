{
 "cells": [
  {
   "cell_type": "markdown",
   "metadata": {},
   "source": [
    "# Assignment HW01\n",
    "\n",
    "## <font color='red'> Deadline: 9/4. </font>\n",
    "\n",
    "### QUESTIONS\n",
    "\n",
    "1. Write a function called \"operate\" that takes as input two numbers, and a string that can be either \"add\" or \"multiply\". The output should be either the sum or product of the two numbers, depending on the string entered.\n",
    "\n",
    "2. The Fibonacci sequence starts with 1, 1, and each subsequent term is the sum of the preceding two terms. The first 6 terms of the Fibonacci sequence are: 1, 1, 2, 3, 5, 8, ... Write a python function that takes one argument N and prints the first N terms of the Fibonacci sequence.\n",
    "\n",
    "3. A simple substitution code codes 'a' as 1, 'b' as 2, ..., 'z' as 26. Write a function called \"encode\" that takes in a string, and prints the coded text. The output should be a string, with letters separated by \".\". Use \"999\" for punctuation and spaces. For example, encode(\"Hello!\") should print out \"8.5.12.12.15.999\".\n",
    "\n",
    "4. The Harmonic series is the sum of 1 + 1/2 + 1/3 + 1/4 + ..... The n<sup>th</sup> Harmonic number H<sub>n</sub> is 1 + 1/2 + 1/3 + ...  + 1/n. Write a python function called \"get_n\" that accepts as input a threshold, and returns n corresponding to the smallest Harmonic number whose value is grater than the threshold. E.g. `get_n(3)` should output 11.\n",
    "\n",
    "5. Write a function called \"describe\" that takes as input a list of numbers, and prints the number of elements in the list, and the mean, variance, and standard deviation. The printed quantities should be labeled. The output should look something like: </br></br>\n",
    "`number of elements: 12` </br>\n",
    "`mean: 0.5` </br>\n",
    "`variance: 0.04` </br>\n",
    "`standard deviation: 0.2`\n"
   ]
  },
  {
   "cell_type": "code",
   "execution_count": 1,
   "metadata": {},
   "outputs": [
    {
     "name": "stdout",
     "output_type": "stream",
     "text": [
      "6 times 6 is 36\n"
     ]
    }
   ],
   "source": [
    "###\n",
    "###Question number one \n",
    "\n",
    "def operate(a,b):\n",
    "    c = a * b \n",
    "    output_str = \"%d times %d is %d\" % (a,b,c)\n",
    "    print(output_str)\n",
    "\n",
    "operate(6,6)"
   ]
  },
  {
   "cell_type": "code",
   "execution_count": 60,
   "metadata": {},
   "outputs": [
    {
     "name": "stdout",
     "output_type": "stream",
     "text": [
      "1\n",
      "1\n",
      "2\n",
      "3\n",
      "5\n",
      "8\n",
      "13\n",
      "21\n",
      "34\n",
      "55\n"
     ]
    }
   ],
   "source": [
    "###question number two \n",
    "\n",
    "def fibo(n): \n",
    "    a,b = 1,1\n",
    "    print(b)\n",
    "    for i in range(n-1):\n",
    "        c = a + b\n",
    "        print(b)\n",
    "        a = b\n",
    "        b = c\n",
    "        \n",
    "fibo(10)"
   ]
  },
  {
   "cell_type": "code",
   "execution_count": 27,
   "metadata": {},
   "outputs": [
    {
     "data": {
      "text/plain": [
       "'8.5.12.12.15.999.999.6.18.9.5.14.4.999'"
      ]
     },
     "execution_count": 27,
     "metadata": {},
     "output_type": "execute_result"
    }
   ],
   "source": [
    "###\n",
    "###Question number three\n",
    "\n",
    "from string import ascii_lowercase\n",
    "from string import ascii_uppercase\n",
    "\n",
    "def Merge (dict1, dict2):\n",
    "    res = {**dict1, **dict2}\n",
    "    return res\n",
    "\n",
    "dict1 = {\"!\": \"999\", \" \": \"999\", \".\": \"999\", \",\": \"999\", \";\": \"999\", \":\": \"999\"}\n",
    "dict2 = {letter: str(index) for index, letter in enumerate(ascii_lowercase, start =1)}\n",
    "dict4 = {letter: str(index) for index, letter in enumerate(ascii_uppercase, start =1)}\n",
    "\n",
    "dict3 = Merge(dict1, dict2)\n",
    "dict5 = Merge(dict3, dict4)\n",
    "\n",
    "def encode(text): \n",
    "        s = '.'\n",
    "        num = [dict5.get(character) for character in text if character in dict5]\n",
    "        return s.join(num)\n",
    "\n",
    "encode('Hello, friend!')"
   ]
  },
  {
   "cell_type": "code",
   "execution_count": 122,
   "metadata": {},
   "outputs": [
    {
     "data": {
      "text/plain": [
       "11"
      ]
     },
     "execution_count": 122,
     "metadata": {},
     "output_type": "execute_result"
    }
   ],
   "source": [
    "####wuestion four \n",
    "\n",
    "\n",
    "def get_n(x):   \n",
    "    sum = 0\n",
    "    i = 1\n",
    "    count = 0\n",
    "    while (sum < x):\n",
    "        sum = sum + (1/i)\n",
    "        i = i + 1\n",
    "        count = count + 1\n",
    "    return count\n",
    "\n",
    "get_n(3)    "
   ]
  },
  {
   "cell_type": "code",
   "execution_count": 35,
   "metadata": {},
   "outputs": [
    {
     "name": "stdout",
     "output_type": "stream",
     "text": [
      "number of elements: 6\n",
      "mean: 3.5\n",
      "variance: 3.5\n",
      "standard deviation: 1.8708286933869707\n"
     ]
    }
   ],
   "source": [
    "###question number five \n",
    "import statistics\n",
    "import string \n",
    "\n",
    "list1 = [1,2,3,4,5,6]\n",
    "\n",
    "def describe(data):\n",
    "    a = print(\"number of elements:\", len(data))\n",
    "    b = print(\"mean:\", statistics.mean(data))\n",
    "    c = print(\"variance:\", statistics.variance(data))\n",
    "    d = print(\"standard deviation:\", statistics.stdev(data))\n",
    "    \n",
    "describe(list1)"
   ]
  },
  {
   "cell_type": "code",
   "execution_count": 43,
   "metadata": {},
   "outputs": [],
   "source": [
    "###question number four \n",
    "###\n",
    "\n",
    " "
   ]
  },
  {
   "cell_type": "code",
   "execution_count": 98,
   "metadata": {},
   "outputs": [
    {
     "ename": "TypeError",
     "evalue": "'int' object is not iterable",
     "output_type": "error",
     "traceback": [
      "\u001b[0;31m---------------------------------------------------------------------------\u001b[0m",
      "\u001b[0;31mTypeError\u001b[0m                                 Traceback (most recent call last)",
      "\u001b[0;32m<ipython-input-98-2b523c4d910f>\u001b[0m in \u001b[0;36m<module>\u001b[0;34m\u001b[0m\n\u001b[0;32m----> 1\u001b[0;31m \u001b[0msum\u001b[0m\u001b[0;34m(\u001b[0m\u001b[0;36m12\u001b[0m\u001b[0;34m)\u001b[0m\u001b[0;34m\u001b[0m\u001b[0;34m\u001b[0m\u001b[0m\n\u001b[0m",
      "\u001b[0;31mTypeError\u001b[0m: 'int' object is not iterable"
     ]
    }
   ],
   "source": []
  }
 ],
 "metadata": {
  "kernelspec": {
   "display_name": "Python 3",
   "language": "python",
   "name": "python3"
  },
  "language_info": {
   "codemirror_mode": {
    "name": "ipython",
    "version": 3
   },
   "file_extension": ".py",
   "mimetype": "text/x-python",
   "name": "python",
   "nbconvert_exporter": "python",
   "pygments_lexer": "ipython3",
   "version": "3.7.3"
  }
 },
 "nbformat": 4,
 "nbformat_minor": 4
}
