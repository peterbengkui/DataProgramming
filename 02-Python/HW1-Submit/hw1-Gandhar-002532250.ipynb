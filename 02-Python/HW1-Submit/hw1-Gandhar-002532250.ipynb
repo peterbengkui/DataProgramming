{
 "cells": [
  {
   "cell_type": "markdown",
   "metadata": {},
   "source": [
    "# Assignment HW01\n",
    "\n",
    "## <font color='red'> Deadline: 9/4. </font>\n",
    "\n",
    "### QUESTIONS\n",
    "\n",
    "1. Write a function called \"operate\" that takes as input two numbers, and a string that can be either \"add\" or \"multiply\". The output should be either the sum or product of the two numbers, depending on the string entered.\n",
    "\n",
    "2. The Fibonacci sequence starts with 1, 1, and each subsequent term is the sum of the preceding two terms. The first 6 terms of the Fibonacci sequence are: 1, 1, 2, 3, 5, 8, ... Write a python function that takes one argument N and prints the first N terms of the Fibonacci sequence.\n",
    "\n",
    "3. A simple substitution code codes 'a' as 1, 'b' as 2, ..., 'z' as 26. Write a function called \"encode\" that takes in a string, and prints the coded text. The output should be a string, with letters separated by \".\". Use \"999\" for punctuation and spaces. For example, encode(\"Hello!\") should print out \"8.5.12.12.15.999\".\n",
    "\n",
    "4. The Harmonic series is the sum of 1 + 1/2 + 1/3 + 1/4 + ..... The n<sup>th</sup> Harmonic number H<sub>n</sub> is 1 + 1/2 + 1/3 + ...  + 1/n. Write a python function called \"get_n\" that accepts as input a threshold, and returns n corresponding to the smallest Harmonic number whose value is grater than the threshold. E.g. `get_n(3)` should output 11.\n",
    "\n",
    "5. Write a function called \"describe\" that takes as input a list of numbers, and prints the number of elements in the list, and the mean, variance, and standard deviation. The printed quantities should be labeled. The output should look something like: </br></br>\n",
    "`number of elements: 12` </br>\n",
    "`mean: 0.5` </br>\n",
    "`variance: 0.04` </br>\n",
    "`standard deviation: 0.2`\n"
   ]
  },
  {
   "cell_type": "code",
   "execution_count": 3,
   "metadata": {},
   "outputs": [
    {
     "name": "stdout",
     "output_type": "stream",
     "text": [
      "133\n",
      "1230\n"
     ]
    }
   ],
   "source": [
    "\n",
    "def operate(operation,num1,num2):\n",
    "    if operation==\"add\":\n",
    "        return num1+num2\n",
    "    elif operation==\"multiply\":\n",
    "        return num1*num2\n",
    "    else:\n",
    "        return False\n",
    "\n",
    "print(operate(\"add\",123,10))\n",
    "print(operate(\"multiply\",123,10))\n"
   ]
  },
  {
   "cell_type": "code",
   "execution_count": 5,
   "metadata": {},
   "outputs": [
    {
     "name": "stdout",
     "output_type": "stream",
     "text": [
      "1 1 2 3 5 8 13\n"
     ]
    },
    {
     "data": {
      "text/plain": [
       "[1, 1, 2, 3, 5, 8, 13]"
      ]
     },
     "execution_count": 5,
     "metadata": {},
     "output_type": "execute_result"
    }
   ],
   "source": [
    "def fibbo(n,first=True):\n",
    "    if n == 0:\n",
    "        return []\n",
    "    if n == 1:\n",
    "        return [1]\n",
    "    elif n == 2:\n",
    "        return [1,1]\n",
    "    else:\n",
    "        prev = fibbo(n-1,first=False)\n",
    "        out = prev + [prev[-1]+fibbo(n-2,first=False)[-1]]\n",
    "        if first:\n",
    "            print (\" \".join([ str(item) for item in out]))\n",
    "        return out\n",
    "\n",
    "fibbo(7)\n"
   ]
  },
  {
   "cell_type": "code",
   "execution_count": 14,
   "metadata": {},
   "outputs": [
    {
     "name": "stdout",
     "output_type": "stream",
     "text": [
      "10.9.13.999.999.999.1.999.2.999.999.999.999.10.9.13\n"
     ]
    },
    {
     "data": {
      "text/plain": [
       "'10.9.13.999.999.999.1.999.2.999.999.999.999.10.9.13'"
      ]
     },
     "execution_count": 14,
     "metadata": {},
     "output_type": "execute_result"
    }
   ],
   "source": [
    "def encode(input): \n",
    "    subs = {\n",
    "        \"a\" : 1,\n",
    "        \"b\" : 2,\n",
    "        \"c\" : 3,\n",
    "        \"d\" : 4,\n",
    "        \"e\" : 5,\n",
    "        \"f\" : 6,\n",
    "        \"g\" : 7,\n",
    "        \"h\" : 8,\n",
    "        \"i\" : 9,\n",
    "        \"j\" : 10,\n",
    "        \"k\" : 11,\n",
    "        \"l\" : 12,\n",
    "        \"m\" : 13,\n",
    "        \"n\" : 14,\n",
    "        \"o\" : 15,\n",
    "        \"p\" : 16,\n",
    "        \"q\" : 17,\n",
    "        \"r\" : 18,\n",
    "        \"s\" : 19,\n",
    "        \"t\" : 20,\n",
    "        \"u\" : 21,\n",
    "        \"v\" : 22,\n",
    "        \"w\" : 23,\n",
    "        \"x\" : 24,\n",
    "        \"y\" : 25,\n",
    "        \"z\" : 26,\n",
    "        \" \" : 999,\n",
    "        '.' : 999 ,\n",
    "        ',' : 999 ,\n",
    "        ';' : 999 ,\n",
    "        ':' : 999 ,\n",
    "        '\\'' : 999 ,\n",
    "        '\\\"' : 999 ,\n",
    "        '?' : 999 ,\n",
    "        '!' : 999 ,\n",
    "        '-' : 999 ,\n",
    "        '/' : 999 ,\n",
    "        '\\\\' : 999 ,\n",
    "        '(' : 999 ,\n",
    "        ')' : 999 ,\n",
    "        '{' : 999 ,\n",
    "        '}' : 999 ,\n",
    "        '[' : 999 ,\n",
    "        ']' : 999 ,\n",
    "        '|' : 999 ,\n",
    "        '~' : 999 ,\n",
    "        '`' : 999 \n",
    "    }\n",
    "    out =  (\".\".join([str(subs[item]) for item in input.lower() ]))\n",
    "    print(out)\n",
    "    return out\n",
    "\n",
    "encode(\"Jim::\"\"`A`B    Jim\")\n"
   ]
  },
  {
   "cell_type": "code",
   "execution_count": 8,
   "metadata": {},
   "outputs": [
    {
     "name": "stdout",
     "output_type": "stream",
     "text": [
      "31\n"
     ]
    }
   ],
   "source": [
    "\n",
    "def get_n(max_sum):\n",
    "    def to_infinity():\n",
    "        index=1\n",
    "        while 1:\n",
    "            yield index\n",
    "            index += 1\n",
    "    new_sum = 0\n",
    "    for count in to_infinity():\n",
    "        new_sum = new_sum + 1/count\n",
    "        if new_sum > max_sum:\n",
    "            return count\n",
    "\n",
    "    # while new_sum < max_sum :\n",
    "    #     new_sum = new_sum + 1/count\n",
    "    #     count = count + 1\n",
    "    # return count-1\n",
    "\n",
    "print(get_n(4))"
   ]
  },
  {
   "cell_type": "code",
   "execution_count": 13,
   "metadata": {},
   "outputs": [
    {
     "name": "stdout",
     "output_type": "stream",
     "text": [
      "number of elements: 3\n",
      "mean: 2.0\n",
      "variance: 0.67\n",
      "standard deviation: 0.82\n"
     ]
    }
   ],
   "source": [
    "def describe(numbers):\n",
    "    length = len(numbers)\n",
    "    mean =  sum(numbers)/len(numbers)\n",
    "    variance = sum( [ (item - mean) ** 2 for item in numbers ] ) / length\n",
    "    std_dev = variance ** (0.5)\n",
    "    print (\"number of elements: \" + str(length) )\n",
    "    print (\"mean: \" + str(round(mean,2)) )\n",
    "    print (\"variance: \"+str(round(variance,2)))\n",
    "    print (\"standard deviation: \" + str(round(std_dev,2)))\n",
    "\n",
    "describe([1,2,3])\n"
   ]
  },
  {
   "cell_type": "code",
   "execution_count": null,
   "metadata": {},
   "outputs": [],
   "source": []
  }
 ],
 "metadata": {
  "kernelspec": {
   "display_name": "Python 3",
   "language": "python",
   "name": "python3"
  },
  "language_info": {
   "codemirror_mode": {
    "name": "ipython",
    "version": 3
   },
   "file_extension": ".py",
   "mimetype": "text/x-python",
   "name": "python",
   "nbconvert_exporter": "python",
   "pygments_lexer": "ipython3",
   "version": "3.7.3"
  }
 },
 "nbformat": 4,
 "nbformat_minor": 2
}
