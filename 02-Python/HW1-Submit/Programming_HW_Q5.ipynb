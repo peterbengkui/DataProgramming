{
 "cells": [
  {
   "cell_type": "markdown",
   "metadata": {},
   "source": [
    "# Assignment HW01\n",
    "\n",
    "## <font color='red'> Deadline: 9/4. </font>\n",
    "\n",
    "### QUESTIONS\n",
    "\n",
    "1. Write a function called \"operate\" that takes as input two numbers, and a string that can be either \"add\" or \"multiply\". The output should be either the sum or product of the two numbers, depending on the string entered.\n",
    "\n",
    "2. The Fibonacci sequence starts with 1, 1, and each subsequent term is the sum of the preceding two terms. The first 6 terms of the Fibonacci sequence are: 1, 1, 2, 3, 5, 8, ... Write a python function that takes one argument N and prints the first N terms of the Fibonacci sequence.\n",
    "\n",
    "3. A simple substitution code codes 'a' as 1, 'b' as 2, ..., 'z' as 26. Write a function called \"encode\" that takes in a string, and prints the coded text. The output should be a string, with letters separated by \".\". Use \"999\" for punctuation and spaces. For example, encode(\"Hello!\") should print out \"8.5.12.12.15.999\".\n",
    "\n",
    "4. The Harmonic series is the sum of 1 + 1/2 + 1/3 + 1/4 + ..... The n<sup>th</sup> Harmonic number H<sub>n</sub> is 1 + 1/2 + 1/3 + ...  + 1/n. Write a python function called \"get_n\" that accepts as input a threshold, and returns n corresponding to the smallest Harmonic number whose value is grater than the threshold. E.g. `get_n(3)` should output 11.\n",
    "\n",
    "5. Write a function called \"describe\" that takes as input a list of numbers, and prints the number of elements in the list, and the mean, variance, and standard deviation. The printed quantities should be labeled. The output should look something like: </br></br>\n",
    "`number of elements: 12` </br>\n",
    "`mean: 0.5` </br>\n",
    "`variance: 0.04` </br>\n",
    "`standard deviation: 0.2`\n"
   ]
  },
  {
   "cell_type": "code",
   "execution_count": 4,
   "metadata": {},
   "outputs": [
    {
     "data": {
      "text/plain": [
       "9"
      ]
     },
     "execution_count": 4,
     "metadata": {},
     "output_type": "execute_result"
    }
   ],
   "source": [
    "# Problem no 1\n",
    "def operate(x1,x2,s):\n",
    "    if s==\"add\":\n",
    "        return(x1+x2)\n",
    "    elif s==\"multiply\":\n",
    "        return(x1*x2)\n",
    "operate(4,5,\"add\")"
   ]
  },
  {
   "cell_type": "code",
   "execution_count": 12,
   "metadata": {
    "scrolled": true
   },
   "outputs": [
    {
     "data": {
      "text/plain": [
       "[1, 1, 2, 3]"
      ]
     },
     "execution_count": 12,
     "metadata": {},
     "output_type": "execute_result"
    }
   ],
   "source": [
    "#Problem no 2\n",
    "def Fibonacci(n):\n",
    "    i=2\n",
    "    first=1\n",
    "    second=1\n",
    "    mylist=[]\n",
    "    if n<=0:\n",
    "        return(\"The series should have at least one number. Please enter a number greater than 0\")\n",
    "    elif n==1:\n",
    "        return(mylist.append(1))\n",
    "    else:\n",
    "        mylist.append(1)\n",
    "        mylist.append(1)\n",
    "        while(i<n):\n",
    "            third=first+second\n",
    "            first=second\n",
    "            second=third\n",
    "            mylist.append(third)\n",
    "            i=i+1\n",
    "    return(mylist)\n",
    "\n",
    "Fibonacci(4)"
   ]
  },
  {
   "cell_type": "code",
   "execution_count": 8,
   "metadata": {},
   "outputs": [
    {
     "name": "stdout",
     "output_type": "stream",
     "text": [
      "mean:  2.5\n",
      "number of elements: 4  mean: 2.50  variance: 0.67 standard deviation: 0.45\n"
     ]
    }
   ],
   "source": [
    "# Problem No 5\n",
    "import math\n",
    "def describe(l):\n",
    "    length=len(l)\n",
    "    mean=sum(l)/len(l)\n",
    "    print(\"mean: \",mean)\n",
    "    sd1=0\n",
    "    for item in l:\n",
    "        sd1=(mean-item)**2\n",
    "    sd=sd1/5\n",
    "    var=math.sqrt(sd)\n",
    "    print(\"number of elements: {}  mean: {:.2f}  variance: {:.2f} standard deviation: {:.2f}\".format(length,mean,var,sd))\n",
    "    \n",
    "describe([1,2,3,4])"
   ]
  },
  {
   "cell_type": "code",
   "execution_count": 15,
   "metadata": {},
   "outputs": [
    {
     "name": "stdout",
     "output_type": "stream",
     "text": [
      "Enter a string:Hello!\n",
      "\"8.5.12.12.15.999\"\n"
     ]
    }
   ],
   "source": [
    "#Problem 3\n",
    "string = input(\"Enter a string:\")   \n",
    "mylist=['a', 'b', 'c', 'd', 'e', 'f', 'g', 'h', 'i', 'j', 'k', 'l', 'm', 'n', 'o', 'p', 'q', 'r', 's', 't', 'u', 'v', 'w', 'x', 'y', 'z']\n",
    "mydict={}\n",
    "mylist1=[]\n",
    "i=1\n",
    "for item in mylist:\n",
    "    mydict.update({item:i})\n",
    "    i = i + 1\n",
    "    \n",
    "def encode(s):\n",
    "    s = s.lower()\n",
    "    for item in s:\n",
    "        if item in mylist:\n",
    "            mylist1.append(str(mydict[item]))\n",
    "        else:\n",
    "            mylist1.append('999')\n",
    "    print('\"'+'.'.join(mylist1)+'\"')\n",
    "encode(string)  "
   ]
  },
  {
   "cell_type": "code",
   "execution_count": 8,
   "metadata": {},
   "outputs": [
    {
     "name": "stdout",
     "output_type": "stream",
     "text": [
      "Enter a number:2\n"
     ]
    },
    {
     "data": {
      "text/plain": [
       "4"
      ]
     },
     "execution_count": 8,
     "metadata": {},
     "output_type": "execute_result"
    }
   ],
   "source": [
    "#Problem 4\n",
    "num=int(input(\"Enter a number:\"))\n",
    "def get_n(num):\n",
    "    i=1\n",
    "    sum=0\n",
    "    while sum<=num:\n",
    "        sum=sum+(1/i)\n",
    "        i=i+1        \n",
    "    return (i-1)\n",
    "get_n(num)"
   ]
  },
  {
   "cell_type": "code",
   "execution_count": 3,
   "metadata": {},
   "outputs": [
    {
     "data": {
      "text/plain": [
       "'C:\\\\Users\\\\praga'"
      ]
     },
     "execution_count": 3,
     "metadata": {},
     "output_type": "execute_result"
    }
   ],
   "source": [
    "import os\n",
    "os.getcwd()"
   ]
  },
  {
   "cell_type": "code",
   "execution_count": null,
   "metadata": {},
   "outputs": [],
   "source": []
  }
 ],
 "metadata": {
  "kernelspec": {
   "display_name": "Python 3",
   "language": "python",
   "name": "python3"
  },
  "language_info": {
   "codemirror_mode": {
    "name": "ipython",
    "version": 3
   },
   "file_extension": ".py",
   "mimetype": "text/x-python",
   "name": "python",
   "nbconvert_exporter": "python",
   "pygments_lexer": "ipython3",
   "version": "3.7.1"
  }
 },
 "nbformat": 4,
 "nbformat_minor": 2
}
