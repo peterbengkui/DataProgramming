{
 "cells": [
  {
   "cell_type": "markdown",
   "metadata": {},
   "source": [
    "# Assignment HW01\n",
    "\n",
    "## <font color='red'> Deadline: 9/4. </font>\n",
    "\n",
    "### QUESTIONS\n",
    "\n",
    "1. Write a function called \"operate\" that takes as input two numbers, and a string that can be either \"add\" or \"multiply\". The output should be either the sum or product of the two numbers, depending on the string entered.\n",
    "\n",
    "2. The Fibonacci sequence starts with 1, 1, and each subsequent term is the sum of the preceding two terms. The first 6 terms of the Fibonacci sequence are: 1, 1, 2, 3, 5, 8, ... Write a python function that takes one argument N and prints the first N terms of the Fibonacci sequence.\n",
    "\n",
    "3. A simple substitution code codes 'a' as 1, 'b' as 2, ..., 'z' as 26. Write a function called \"encode\" that takes in a string, and prints the coded text. The output should be a string, with letters separated by \".\". Use \"999\" for punctuation and spaces. For example, encode(\"Hello!\") should print out \"8.5.12.12.15.999\".\n",
    "\n",
    "4. The Harmonic series is the sum of 1 + 1/2 + 1/3 + 1/4 + ..... The n<sup>th</sup> Harmonic number H<sub>n</sub> is 1 + 1/2 + 1/3 + ...  + 1/n. Write a python function called \"get_n\" that accepts as input a threshold, and returns n corresponding to the smallest Harmonic number whose value is grater than the threshold. E.g. `get_n(3)` should output 11.\n",
    "\n",
    "5. Write a function called \"describe\" that takes as input a list of numbers, and prints the number of elements in the list, and the mean, variance, and standard deviation. The printed quantities should be labeled. The output should look something like: </br></br>\n",
    "`number of elements: 12` </br>\n",
    "`mean: 0.5` </br>\n",
    "`variance: 0.04` </br>\n",
    "`standard deviation: 0.2`\n"
   ]
  },
  {
   "cell_type": "code",
   "execution_count": 27,
   "metadata": {},
   "outputs": [
    {
     "name": "stdout",
     "output_type": "stream",
     "text": [
      "3\n",
      "15\n",
      "N/A\n"
     ]
    }
   ],
   "source": [
    "#Question1:\n",
    "def operate(number1,number2,s):\n",
    "    if s == 'add':\n",
    "        output=number1+number2\n",
    "    elif s =='multiply':\n",
    "        output=number1*number2\n",
    "    else:\n",
    "        output='N/A'\n",
    "    return output\n",
    "\n",
    "a = operate(1,2,'add')\n",
    "b = operate(5,3,'multiply')\n",
    "c = operate(6,5,'a')\n",
    "print(a)\n",
    "print(b)\n",
    "print(c)"
   ]
  },
  {
   "cell_type": "code",
   "execution_count": 28,
   "metadata": {},
   "outputs": [
    {
     "name": "stdout",
     "output_type": "stream",
     "text": [
      "[1]\n",
      "[1, 1, 2, 3, 5]\n",
      "[1, 1, 2, 3, 5, 8]\n",
      "[1, 1, 2, 3, 5, 8, 13, 21, 34, 55]\n"
     ]
    }
   ],
   "source": [
    "#Question2：\n",
    "def operate(N):\n",
    "    if N==0:\n",
    "        element=1\n",
    "        return element\n",
    "    elif N==1:\n",
    "        element=1\n",
    "        return element\n",
    "    else:\n",
    "        element=operate(N-2)+operate(N-1)\n",
    "        return element\n",
    "    \n",
    "def Fibonacci(N):\n",
    "    A = []\n",
    "    for i in range(N):#Not include N\n",
    "        a=operate(i)\n",
    "        A.append(a)\n",
    "    print(A)\n",
    "\n",
    "Fibonacci(1)\n",
    "Fibonacci(5)\n",
    "Fibonacci(6)\n",
    "Fibonacci(10)"
   ]
  },
  {
   "cell_type": "code",
   "execution_count": 29,
   "metadata": {},
   "outputs": [
    {
     "name": "stdout",
     "output_type": "stream",
     "text": [
      "8.5.12.12.15.999\n",
      "-24.5.12.12.15.999\n",
      "8.5.12.12.15.999.-16.25.20.8.15.14.999.23.15.18.12.4.999\n"
     ]
    }
   ],
   "source": [
    "#Question3\n",
    "# background:\n",
    "# letters = ['a','b','c','d','e','f','g']\n",
    "# print([ord(x) for x in letters])#in unicode lowecase a-z begin from 97\n",
    "# print([ord(x)-96 for x in letters])#so ord(x)-96 will transform 97 to 1\n",
    "\n",
    "\n",
    "#倒推：\n",
    "# a='hello!'\n",
    "# alist = list(a)\n",
    "# print(alist)\n",
    "# blist: List[int] = []\n",
    "# for x in alist:\n",
    "#     if x==' ':\n",
    "#         string_number=999\n",
    "#     elif x== '!':\n",
    "#         string_number = 999\n",
    "#     else:\n",
    "#         string_number = int(ord(x) - 96)\n",
    "#     blist.append(string_number)\n",
    "# print(\".\".join(str(i) for i in blist))\n",
    "# #为什么这里要用str()而不是int()?\n",
    "# # https://blog.csdn.net/yangnianjinxin/article/details/77127257\n",
    "\n",
    "def encode(a):\n",
    "    alist=list(a)\n",
    "    blist=[]\n",
    "    for x in alist:\n",
    "        if x == ' ':\n",
    "            string_number = 999\n",
    "        elif x == '!':\n",
    "            string_number = 999\n",
    "        else:\n",
    "            string_number = int(ord(x) - 96)\n",
    "        blist.append(string_number)\n",
    "    return print(\".\".join(str(i) for i in blist))\n",
    "\n",
    "encode('hello!') #If I use 'Hello!',the first number will be different!\n",
    "encode('Hello!')\n",
    "encode('hello Python world!')"
   ]
  },
  {
   "cell_type": "code",
   "execution_count": 38,
   "metadata": {},
   "outputs": [
    {
     "name": "stdout",
     "output_type": "stream",
     "text": [
      "11\n",
      "31\n",
      "83\n",
      "0\n"
     ]
    }
   ],
   "source": [
    "#Question4:\n",
    "def get_n(a):\n",
    "    i = 0\n",
    "    sum_n = 0\n",
    "    while sum_n < int(a):\n",
    "        i += 1\n",
    "        sum_n += 1/i\n",
    "    print(i)\n",
    "\n",
    "get_n(3)\n",
    "get_n(4)\n",
    "get_n(5)\n",
    "get_n(0)"
   ]
  },
  {
   "cell_type": "code",
   "execution_count": 37,
   "metadata": {},
   "outputs": [
    {
     "name": "stdout",
     "output_type": "stream",
     "text": [
      "number of elements:12  mean:5.5 variance:11.916666666666666 standard deviation:3.452052529534663\n"
     ]
    },
    {
     "data": {
      "text/plain": [
       "(12, 5.5, 11.916666666666666, 3.452052529534663)"
      ]
     },
     "execution_count": 37,
     "metadata": {},
     "output_type": "execute_result"
    }
   ],
   "source": [
    "# # Question5:\n",
    "import numpy as np\n",
    "def describle(n):\n",
    "    number_of_element = len(n)\n",
    "    if number_of_element == 0:\n",
    "        number_mean = 0\n",
    "        number_var = 0\n",
    "        number_devi = 0\n",
    "    else:\n",
    "        number_mean = np.sum(n)/int(number_of_element)\n",
    "        number_var = np.var(n)\n",
    "        number_devi = np.std(n)\n",
    "    print('number of elements:' +str(number_of_element),\n",
    "          ' mean:' + str(number_mean) +\n",
    "          ' variance:' + str(number_var) +\n",
    "          ' standard deviation:' + str(number_devi))\n",
    "    return number_of_element,number_mean,number_var,number_devi\n",
    "\n",
    "b = list(range(12))\n",
    "describle(b)\n",
    "\n"
   ]
  },
  {
   "cell_type": "code",
   "execution_count": null,
   "metadata": {},
   "outputs": [],
   "source": []
  }
 ],
 "metadata": {
  "kernelspec": {
   "display_name": "Python 3",
   "language": "python",
   "name": "python3"
  },
  "language_info": {
   "codemirror_mode": {
    "name": "ipython",
    "version": 3
   },
   "file_extension": ".py",
   "mimetype": "text/x-python",
   "name": "python",
   "nbconvert_exporter": "python",
   "pygments_lexer": "ipython3",
   "version": "3.6.8"
  }
 },
 "nbformat": 4,
 "nbformat_minor": 2
}
