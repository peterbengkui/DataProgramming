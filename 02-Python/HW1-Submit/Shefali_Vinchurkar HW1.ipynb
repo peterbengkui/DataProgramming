{
 "cells": [
  {
   "cell_type": "markdown",
   "metadata": {},
   "source": [
    "# Assignment HW01\n",
    "\n",
    "## <font color='red'> Deadline: 9/4. </font>\n",
    "\n",
    "### QUESTIONS\n",
    "\n",
    "1. Write a function called \"operate\" that takes as input two numbers, and a string that can be either \"add\" or \"multiply\". The output should be either the sum or product of the two numbers, depending on the string entered.\n",
    "\n",
    "2. The Fibonacci sequence starts with 1, 1, and each subsequent term is the sum of the preceding two terms. The first 6 terms of the Fibonacci sequence are: 1, 1, 2, 3, 5, 8, ... Write a python function that takes one argument N and prints the first N terms of the Fibonacci sequence.\n",
    "\n",
    "3. A simple substitution code codes 'a' as 1, 'b' as 2, ..., 'z' as 26. Write a function called \"encode\" that takes in a string, and prints the coded text. The output should be a string, with letters separated by \".\". Use \"999\" for punctuation and spaces. For example, encode(\"Hello!\") should print out \"8.5.12.12.15.999\".\n",
    "\n",
    "4. The Harmonic series is the sum of 1 + 1/2 + 1/3 + 1/4 + ..... The n<sup>th</sup> Harmonic number H<sub>n</sub> is 1 + 1/2 + 1/3 + ...  + 1/n. Write a python function called \"get_n\" that accepts as input a threshold, and returns n corresponding to the smallest Harmonic number whose value is grater than the threshold. E.g. `get_n(3)` should output 11.\n",
    "\n",
    "5. Write a function called \"describe\" that takes as input a list of numbers, and prints the number of elements in the list, and the mean, variance, and standard deviation. The printed quantities should be labeled. The output should look something like: </br></br>\n",
    "`number of elements: 12` </br>\n",
    "`mean: 0.5` </br>\n",
    "`variance: 0.04` </br>\n",
    "`standard deviation: 0.2`\n"
   ]
  },
  {
   "cell_type": "code",
   "execution_count": 9,
   "metadata": {},
   "outputs": [
    {
     "name": "stdout",
     "output_type": "stream",
     "text": [
      "The result is 12\n",
      "The result is 16\n"
     ]
    }
   ],
   "source": [
    "def operate(x,y,str):\n",
    "    if(str==\"add\"):\n",
    "       z= x+y\n",
    "    elif(str==\"multiply\"):\n",
    "       z= x*y\n",
    "    output_string = \"The result is %d\" %(z)\n",
    "    print(output_string)\n",
    "operate(9.0,3,\"add\")\n",
    "operate(2,8.0,\"multiply\")"
   ]
  },
  {
   "cell_type": "markdown",
   "metadata": {},
   "source": [
    "# Fibonacci Series"
   ]
  },
  {
   "cell_type": "code",
   "execution_count": 63,
   "metadata": {},
   "outputs": [
    {
     "name": "stdout",
     "output_type": "stream",
     "text": [
      "Fibonacci series for N terms is [1, 1]\n",
      "Fibonacci series for N terms is [1, 1, 2, 3, 5, 8]\n",
      "Fibonacci series for N terms is [1, 1, 2, 3, 5, 8, 13, 21, 34, 55]\n"
     ]
    }
   ],
   "source": [
    "def newOperate(N):\n",
    "    series=[1]\n",
    "    count =1\n",
    "    while(count<N):\n",
    "        if(count==1):\n",
    "            series.append(count)\n",
    "            count = count +1\n",
    "        else:\n",
    "            series.append(series[count-1]+series[count-2])\n",
    "            count = count +1\n",
    "    print(\"Fibonacci series for N terms is \"+str(series))   \n",
    "newOperate(2)\n",
    "newOperate(6)\n",
    "newOperate(10)"
   ]
  },
  {
   "cell_type": "markdown",
   "metadata": {},
   "source": [
    "# Encoding input"
   ]
  },
  {
   "cell_type": "code",
   "execution_count": 55,
   "metadata": {},
   "outputs": [
    {
     "name": "stdout",
     "output_type": "stream",
     "text": [
      "encoded output is 8.5.12.12.15.999\n"
     ]
    }
   ],
   "source": [
    "import string\n",
    "def encode(inputString):\n",
    "    listofLowerCaseALphabets =list(string.ascii_lowercase)\n",
    "    listOFIntegers = [i for i in range(1,26)]\n",
    "    lowerDict =dict( zip(listofLowerCaseALphabets,listOFIntegers ))\n",
    "    #print(\"lowerDict :\"+str(lowerDict))\n",
    "    outputString =\"\"\n",
    "    inputWord = str(inputString.lower())\n",
    "    for x in inputWord:\n",
    "        if(x in lowerDict):\n",
    "            outputString=outputString + str(lowerDict.get(x)) +'.'\n",
    "            \n",
    "        else:\n",
    "            outputString = outputString +'999'+'.'\n",
    "    outputString = outputString[:-1]\n",
    "    print(\"encoded output is \" + str(outputString))\n",
    "    \n",
    "encode(\"Hello!\")"
   ]
  },
  {
   "cell_type": "markdown",
   "metadata": {},
   "source": [
    "# Harmonic Series"
   ]
  },
  {
   "cell_type": "code",
   "execution_count": 56,
   "metadata": {},
   "outputs": [
    {
     "name": "stdout",
     "output_type": "stream",
     "text": [
      "The num is 11\n"
     ]
    }
   ],
   "source": [
    "def get_n(Num):\n",
    "    total =0\n",
    "    n=0\n",
    "    x=1\n",
    "    while(total<Num):\n",
    "        total = total + 1/(x)\n",
    "        x=x+1\n",
    "        #print(\"total\"+str(total))\n",
    "    n=x-1\n",
    "    print(\"The num is \"+str(n))\n",
    "get_n(3)"
   ]
  },
  {
   "cell_type": "markdown",
   "metadata": {},
   "source": [
    "#  Statistics"
   ]
  },
  {
   "cell_type": "code",
   "execution_count": 8,
   "metadata": {},
   "outputs": [
    {
     "name": "stdout",
     "output_type": "stream",
     "text": [
      "Number of elements :5\n",
      "mean :3\n",
      "standard variation:1.5811388300841898\n",
      "variance :2.5\n"
     ]
    }
   ],
   "source": [
    "import statistics\n",
    "def describe(numList):\n",
    "    num_of_elements=len(numList)\n",
    "    mean_of_elements =statistics.mean(numList)\n",
    "    std_dev = statistics.stdev(numList)\n",
    "    var_of_elements = statistics.variance(numList)\n",
    "    print(\"Number of elements :\"+str(num_of_elements))\n",
    "    print(\"mean :\"+str(mean_of_elements))\n",
    "    print(\"standard variation:\"+str(std_dev))\n",
    "    print(\"variance :\"+str(var_of_elements))\n",
    "describe([1,2,3,4,5])\n"
   ]
  }
 ],
 "metadata": {
  "kernelspec": {
   "display_name": "Python 3",
   "language": "python",
   "name": "python3"
  },
  "language_info": {
   "codemirror_mode": {
    "name": "ipython",
    "version": 3
   },
   "file_extension": ".py",
   "mimetype": "text/x-python",
   "name": "python",
   "nbconvert_exporter": "python",
   "pygments_lexer": "ipython3",
   "version": "3.7.3"
  }
 },
 "nbformat": 4,
 "nbformat_minor": 2
}
