{
 "cells": [
  {
   "cell_type": "markdown",
   "metadata": {},
   "source": [
    "# Assignment HW01\n",
    "\n",
    "## <font color='red'> Deadline: 9/4. </font>\n",
    "\n",
    "### QUESTIONS\n",
    "\n",
    "1. Write a function called \"operate\" that takes as input two numbers, and a string that can be either \"add\" or \"multiply\". The output should be either the sum or product of the two numbers, depending on the string entered.\n",
    "\n",
    "2. The Fibonacci sequence starts with 1, 1, and each subsequent term is the sum of the preceding two terms. The first 6 terms of the Fibonacci sequence are: 1, 1, 2, 3, 5, 8, ... Write a python function that takes one argument N and prints the first N terms of the Fibonacci sequence.\n",
    "\n",
    "3. A simple substitution code codes 'a' as 1, 'b' as 2, ..., 'z' as 26. Write a function called \"encode\" that takes in a string, and prints the coded text. The output should be a string, with letters separated by \".\". Use \"999\" for punctuation and spaces. For example, encode(\"Hello!\") should print out \"8.5.12.12.15.999\".\n",
    "\n",
    "4. The Harmonic series is the sum of 1 + 1/2 + 1/3 + 1/4 + ..... The n<sup>th</sup> Harmonic number H<sub>n</sub> is 1 + 1/2 + 1/3 + ...  + 1/n. Write a python function called \"get_n\" that accepts as input a threshold, and returns n corresponding to the smallest Harmonic number whose value is grater than the threshold. E.g. `get_n(3)` should output 11.\n",
    "\n",
    "5. Write a function called \"describe\" that takes as input a list of numbers, and prints the number of elements in the list, and the mean, variance, and standard deviation. The printed quantities should be labeled. The output should look something like: </br></br>\n",
    "`number of elements: 12` </br>\n",
    "`mean: 0.5` </br>\n",
    "`variance: 0.04` </br>\n",
    "`standard deviation: 0.2`\n",
    "\n"
   ]
  },
  {
   "cell_type": "code",
   "execution_count": 1,
   "metadata": {},
   "outputs": [
    {
     "name": "stdout",
     "output_type": "stream",
     "text": [
      "enter num1:1\n",
      "enter num2:6\n",
      "enter string:add\n",
      "7\n"
     ]
    }
   ],
   "source": [
    "def operate (x , y, s):\n",
    "     if (s==\"add\"):\n",
    "        return int(x)+int(y)\n",
    "     elif (s==\"multiply\"):\n",
    "        return int(x)*int(y)\n",
    "     else:\n",
    "        print ('given string is not defined')\n",
    "    \n",
    "\n",
    "        \n",
    "num1 = input('enter num1:')\n",
    "\n",
    "num2 = input('enter num2:')    \n",
    "\n",
    "string = input(\"enter string:\")\n",
    "z = operate(num1, num2, string)\n",
    "\n",
    "print(z)"
   ]
  },
  {
   "cell_type": "code",
   "execution_count": 21,
   "metadata": {},
   "outputs": [
    {
     "name": "stdout",
     "output_type": "stream",
     "text": [
      "enter no. sequence4\n",
      "Fibonacci sequence upto 4 :\n",
      "0 , 1 , 1 , 2 , "
     ]
    }
   ],
   "source": [
    "\n",
    "\n",
    "def fibonacc(fib_number):\n",
    "    n1 = 0\n",
    "    n2 = 1\n",
    "    count = 0\n",
    "\n",
    "\n",
    "    if fib_number <= 0:\n",
    "       print(\"Please enter a positive integer\")\n",
    "    elif fib_number == 1:\n",
    "       print(\"Fibonacci sequence upto\",fib_number,\":\")\n",
    "       print(n1)\n",
    "    else:\n",
    "       print(\"Fibonacci sequence upto\",fib_number,\":\")\n",
    "       while count < fib_number:\n",
    "            print(n1,end=' , ')\n",
    "            nth = n1 + n2\n",
    "            n1 = n2\n",
    "            n2 = nth\n",
    "            count += 1\n",
    "                \n",
    "fib_num = int(input(\"enter no. sequence\"))\n",
    "fibonacc(fib_num)"
   ]
  },
  {
   "cell_type": "code",
   "execution_count": 19,
   "metadata": {},
   "outputs": [
    {
     "name": "stdout",
     "output_type": "stream",
     "text": [
      "enter a namehello!\n",
      "8.5.12.12.15.999\n"
     ]
    }
   ],
   "source": [
    "def encode(str_t):\n",
    "    for i in range(len(str_t)):\n",
    "        if ord(str_t[i]) in range(97, 123):  \n",
    "            for j in range(97,123):\n",
    "                if str_t[i]==chr(j):\n",
    "                    print (j-96, end=\".\")\n",
    "        else:\n",
    "            print(999)\n",
    "            break\n",
    "str_name = str.lower(input(\"enter a name\"))\n",
    "encode(str_name)                \n",
    "        "
   ]
  },
  {
   "cell_type": "code",
   "execution_count": 18,
   "metadata": {},
   "outputs": [
    {
     "name": "stdout",
     "output_type": "stream",
     "text": [
      "enter the threashold value3\n",
      "11\n"
     ]
    }
   ],
   "source": [
    "def get_n(n):\n",
    "    i=1\n",
    "    sum=0\n",
    "    while(sum<=n):\n",
    "        sum=sum+(1/i)\n",
    "        i=i+1\n",
    "    print(i-1)\n",
    "\n",
    "n=int(input(\"enter the threashold value\"))\n",
    "get_n(n)"
   ]
  },
  {
   "cell_type": "code",
   "execution_count": 1,
   "metadata": {},
   "outputs": [
    {
     "name": "stdout",
     "output_type": "stream",
     "text": [
      "enter no. of numbers3\n",
      "2\n",
      "4\n",
      "6\n",
      "[2, 4, 6]\n",
      "mean: 4\n",
      "variance: 4\n",
      "standard deviation: 2.0 \n"
     ]
    }
   ],
   "source": [
    "import statistics \n",
    "def describe(num=[]):\n",
    "  \n",
    "    print(\"mean: %s\" %(statistics.mean(num)))\n",
    "    print(\"variance: % s\" %(statistics.variance(num)))\n",
    "    print(\"standard deviation: % s \"  % (statistics.stdev(num))) \n",
    "\n",
    "str_num=[]\n",
    "num=int(input(\"enter no. of numbers\"))\n",
    "for i in range(0,num):\n",
    "    a = int(input())\n",
    "    str_num.append(a)\n",
    "print(str_num)\n",
    "\n",
    "describe(str_num)"
   ]
  },
  {
   "cell_type": "code",
   "execution_count": null,
   "metadata": {},
   "outputs": [],
   "source": []
  }
 ],
 "metadata": {
  "kernelspec": {
   "display_name": "Python 3",
   "language": "python",
   "name": "python3"
  },
  "language_info": {
   "codemirror_mode": {
    "name": "ipython",
    "version": 3
   },
   "file_extension": ".py",
   "mimetype": "text/x-python",
   "name": "python",
   "nbconvert_exporter": "python",
   "pygments_lexer": "ipython3",
   "version": "3.7.3"
  }
 },
 "nbformat": 4,
 "nbformat_minor": 2
}
