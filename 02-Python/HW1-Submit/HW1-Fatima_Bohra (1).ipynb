{
 "cells": [
  {
   "cell_type": "markdown",
   "metadata": {},
   "source": [
    "# Assignment HW01\n",
    "\n",
    "## <font color='red'> Deadline: 9/4. </font>\n",
    "\n",
    "### QUESTIONS\n",
    "\n",
    "1. Write a function called \"operate\" that takes as input two numbers, and a string that can be either \"add\" or \"multiply\". The output should be either the sum or product of the two numbers, depending on the string entered.\n",
    "\n",
    "2. The Fibonacci sequence starts with 1, 1, and each subsequent term is the sum of the preceding two terms. The first 6 terms of the Fibonacci sequence are: 1, 1, 2, 3, 5, 8, ... Write a python function that takes one argument N and prints the first N terms of the Fibonacci sequence.\n",
    "\n",
    "3. A simple substitution code codes 'a' as 1, 'b' as 2, ..., 'z' as 26. Write a function called \"encode\" that takes in a string, and prints the coded text. The output should be a string, with letters separated by \".\". Use \"999\" for punctuation and spaces. For example, encode(\"Hello!\") should print out \"8.5.12.12.15.999\".\n",
    "\n",
    "4. The Harmonic series is the sum of 1 + 1/2 + 1/3 + 1/4 + ..... The n<sup>th</sup> Harmonic number H<sub>n</sub> is 1 + 1/2 + 1/3 + ...  + 1/n. Write a python function called \"get_n\" that accepts as input a threshold, and returns n corresponding to the smallest Harmonic number whose value is grater than the threshold. E.g. `get_n(3)` should output 11.\n",
    "\n",
    "5. Write a function called \"describe\" that takes as input a list of numbers, and prints the number of elements in the list, and the mean, variance, and standard deviation. The printed quantities should be labeled. The output should look something like: </br></br>\n",
    "`number of elements: 12` </br>\n",
    "`mean: 0.5` </br>\n",
    "`variance: 0.04` </br>\n",
    "`standard deviation: 0.2`\n"
   ]
  },
  {
   "cell_type": "code",
   "execution_count": 4,
   "metadata": {},
   "outputs": [
    {
     "name": "stdout",
     "output_type": "stream",
     "text": [
      "first1\n",
      "second2\n",
      "input operation:add\n",
      "3\n"
     ]
    }
   ],
   "source": [
    "def operate(x,y,str):    \n",
    "    if str == \"add\": \n",
    "        s = x + y \n",
    "        print (s) \n",
    "    elif str == \"multiply\": \n",
    "        m = x * y \n",
    "        print (m) \n",
    "x = int(input(\"first\")) \n",
    "y = int(input(\"second\")) \n",
    "str= input(\"input operation:\") \n",
    "operate(x,y,str) "
   ]
  },
  {
   "cell_type": "code",
   "execution_count": 2,
   "metadata": {},
   "outputs": [
    {
     "name": "stdout",
     "output_type": "stream",
     "text": [
      "Input your length of Series, please5\n",
      "Your fibonacci series is:\n",
      "1\n",
      "1\n",
      "2\n",
      "3\n",
      "5\n"
     ]
    }
   ],
   "source": [
    "N = int(input(\"Input your length of Series, please\")) \n",
    "first = 0 \n",
    "second = 1 \n",
    "iterations = 0 \n",
    "if N <= 0: \n",
    "    print(\"Enter greater than Zero, please  \") \n",
    "elif N == 1: \n",
    "    print(\"I meant greater than one\") \n",
    "else:  \n",
    "    print(\"Your fibonacci series is:\") \n",
    "    while iterations < N: \n",
    "        print (second) \n",
    "        fab = first + second \n",
    "        first = second \n",
    "        second = fab \n",
    "        iterations = iterations + 1"
   ]
  },
  {
   "cell_type": "code",
   "execution_count": 1,
   "metadata": {},
   "outputs": [
    {
     "name": "stdout",
     "output_type": "stream",
     "text": [
      "Enter your word f,a,t,i,m,a,!\n",
      " 6.999.1.999.20.999.9.999.13.999.1.999.999.\n"
     ]
    }
   ],
   "source": [
    "dicti = {'a':'1','b':'2','c':'3','d':'4','e':'5','f':'6','g':'7','h':'8', \n",
    "\n",
    "    'i':'9','j':'10','k':'11','l':'12','m':'13','n':'14','o':'15','p':'16','q':'17', \n",
    "\n",
    "    'r':'18','s':'19','t':'20','u':'21','v':'22','w':'23','x':'24','y':'25','z':'26', '!':999 ,'.':999, ',':999, ' ':999 \n",
    "\n",
    "    } \n",
    "def encode(strn): \n",
    "    emp=' ' \n",
    "    for items in strn: \n",
    "        emp =   emp + str(dicti[items] ) + '.' \n",
    "   print(emp) \n",
    "encode(input('Enter your word ') )    "
   ]
  },
  {
   "cell_type": "code",
   "execution_count": 7,
   "metadata": {},
   "outputs": [
    {
     "name": "stdout",
     "output_type": "stream",
     "text": [
      "Enter your threshold3\n",
      "Your threshold is 3\n",
      "your number of terms are 11\n"
     ]
    }
   ],
   "source": [
    "myinput = int(input(\"Enter your threshold\")) \n",
    "print (\"Your threshold is\",myinput) \n",
    "count = 0 \n",
    "hm = 0 \n",
    "n = 1 \n",
    "while myinput >= hm: \n",
    "  hm = hm + (1 / n) \n",
    "  n +=1  \n",
    "  count +=1 \n",
    "print (\"your number of terms are\",count) "
   ]
  },
  {
   "cell_type": "code",
   "execution_count": 11,
   "metadata": {},
   "outputs": [
    {
     "name": "stdout",
     "output_type": "stream",
     "text": [
      "Enter your list: 1,2,3\n",
      "The mean of the numbers is: 2\n",
      "The variance of the numbers is: 1\n",
      "The Standard Deviation of the numbers is: 1.0\n"
     ]
    }
   ],
   "source": [
    "import statistics \n",
    "\n",
    "mylist = input('Enter your list: ') \n",
    "mylist = [int(x) for x in mylist.split(',')] \n",
    "for number in mylist:     \n",
    "    mean = statistics.mean(mylist) \n",
    "    variance = statistics.variance(mylist) \n",
    "    sd = statistics.stdev(mylist) \n",
    "print (\"The mean of the numbers is:\", mean) \n",
    "print (\"The variance of the numbers is:\", variance) \n",
    "print (\"The Standard Deviation of the numbers is:\", sd) "
   ]
  },
  {
   "cell_type": "code",
   "execution_count": null,
   "metadata": {},
   "outputs": [],
   "source": []
  }
 ],
 "metadata": {
  "kernelspec": {
   "display_name": "Python 3",
   "language": "python",
   "name": "python3"
  },
  "language_info": {
   "codemirror_mode": {
    "name": "ipython",
    "version": 3
   },
   "file_extension": ".py",
   "mimetype": "text/x-python",
   "name": "python",
   "nbconvert_exporter": "python",
   "pygments_lexer": "ipython3",
   "version": "3.7.3"
  }
 },
 "nbformat": 4,
 "nbformat_minor": 2
}
