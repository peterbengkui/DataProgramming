{
 "cells": [
  {
   "cell_type": "code",
   "execution_count": 1,
   "metadata": {},
   "outputs": [
    {
     "name": "stdout",
     "output_type": "stream",
     "text": [
      "addition of numbers is 10\n",
      "multiplication of numbers is 21\n"
     ]
    }
   ],
   "source": [
    "#QUESTION 1\n",
    "\n",
    "def operate (n1,n2,op):\n",
    "    if op=='add':\n",
    "        addition=n1+n2\n",
    "        print(\"addition of numbers is\" , addition)\n",
    "    elif op=='multiply':\n",
    "        multiplication=n1*n2\n",
    "        print(\"multiplication of numbers is\" , multiplication)\n",
    "        \n",
    "operate (3, 7, \"add\")\n",
    "operate (3, 7, \"multiply\")"
   ]
  },
  {
   "cell_type": "code",
   "execution_count": 2,
   "metadata": {},
   "outputs": [
    {
     "name": "stdout",
     "output_type": "stream",
     "text": [
      "1\n",
      "1\n",
      "2\n",
      "3\n",
      "5\n",
      "8\n"
     ]
    }
   ],
   "source": [
    "#QUESTION 2\n",
    "\n",
    "def fibonacci (N):\n",
    "    i=1\n",
    "    n1=1\n",
    "    n2=1\n",
    "    while i<=N:\n",
    "        print (n1)\n",
    "        next = n1 + n2\n",
    "        n1 = n2\n",
    "        n2 = next\n",
    "        i=i+1\n",
    "fibonacci (6)"
   ]
  },
  {
   "cell_type": "code",
   "execution_count": 3,
   "metadata": {},
   "outputs": [
    {
     "name": "stdout",
     "output_type": "stream",
     "text": [
      "11 .5 .5 .18 .20 .8 .9 .999\n"
     ]
    }
   ],
   "source": [
    "#QUESTION 3\n",
    "\n",
    "def encode (input):\n",
    "    my_dict = {'a':1,'b':2,'c':3,'d':4,'e':5,'f':6,'g':7,'h':8,'i':9,'j':10,'k':11,'l':12,'m':13,'n':14,'o':15,'p':16,'q':17,'r':18,'s':19,'t':20,'u':21,'v':22,'w':23,'x':24,'y':25,'z':26}\n",
    "    for alpha in input:\n",
    "        if alpha in my_dict:\n",
    "            print (my_dict[alpha],'.',end='')  \n",
    "        else:\n",
    "            print ('999')\n",
    "encode ('keerthi$')"
   ]
  },
  {
   "cell_type": "code",
   "execution_count": 4,
   "metadata": {},
   "outputs": [
    {
     "data": {
      "text/plain": [
       "11"
      ]
     },
     "execution_count": 4,
     "metadata": {},
     "output_type": "execute_result"
    }
   ],
   "source": [
    "#QUESTION 4\n",
    "\n",
    "def get_n(n):\n",
    "    i=1\n",
    "    H=0\n",
    "    k=n\n",
    "    while n<=k:\n",
    "        H += 1/i\n",
    "        n=H\n",
    "        i=i+1\n",
    "    return i-1\n",
    "    \n",
    "get_n (3)"
   ]
  },
  {
   "cell_type": "code",
   "execution_count": 5,
   "metadata": {},
   "outputs": [
    {
     "name": "stdout",
     "output_type": "stream",
     "text": [
      "number of elements: 4\n",
      "mean: 7\n",
      "Variance: 4.666666666666667\n",
      "standard deviation: 2.160246899469287\n"
     ]
    }
   ],
   "source": [
    "#QUESTION 5\n",
    "\n",
    "import statistics\n",
    "def describe (*args):\n",
    "    print (\"number of elements:\", len(args))\n",
    "    mean = statistics.mean(args)\n",
    "    variance = statistics.variance(args)\n",
    "    SD = statistics.stdev(args)\n",
    "    print (\"mean:\", mean)\n",
    "    print (\"Variance:\", variance)\n",
    "    print (\"standard deviation:\", SD)\n",
    "\n",
    "describe (5,6,7,10)"
   ]
  },
  {
   "cell_type": "code",
   "execution_count": null,
   "metadata": {},
   "outputs": [],
   "source": []
  }
 ],
 "metadata": {
  "kernelspec": {
   "display_name": "Python 3",
   "language": "python",
   "name": "python3"
  },
  "language_info": {
   "codemirror_mode": {
    "name": "ipython",
    "version": 3
   },
   "file_extension": ".py",
   "mimetype": "text/x-python",
   "name": "python",
   "nbconvert_exporter": "python",
   "pygments_lexer": "ipython3",
   "version": "3.7.3"
  }
 },
 "nbformat": 4,
 "nbformat_minor": 2
}
