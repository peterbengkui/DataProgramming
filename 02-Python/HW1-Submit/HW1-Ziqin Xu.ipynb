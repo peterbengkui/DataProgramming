{
 "cells": [
  {
   "cell_type": "code",
   "execution_count": 1,
   "metadata": {},
   "outputs": [
    {
     "name": "stdout",
     "output_type": "stream",
     "text": [
      "3\n",
      "2\n"
     ]
    }
   ],
   "source": [
    "def operate(a,b):\n",
    "    print(a+b)\n",
    "    print(a*b)\n",
    "\n",
    "operate(1,2)"
   ]
  },
  {
   "cell_type": "code",
   "execution_count": 2,
   "metadata": {},
   "outputs": [
    {
     "name": "stdout",
     "output_type": "stream",
     "text": [
      "1\n",
      "1\n",
      "2\n",
      "3\n",
      "5\n",
      "8\n",
      "13\n",
      "21\n",
      "34\n",
      "55\n"
     ]
    }
   ],
   "source": [
    "print (1)\n",
    "a=0\n",
    "b=1\n",
    "N=10\n",
    "m=1\n",
    "while m < N:\n",
    "    c=a+b\n",
    "    print(c)\n",
    "    a=b\n",
    "    b=c\n",
    "    m=m+1"
   ]
  },
  {
   "cell_type": "code",
   "execution_count": 3,
   "metadata": {},
   "outputs": [
    {
     "name": "stdout",
     "output_type": "stream",
     "text": [
      "input something\n",
      "it's a test.\n",
      ".9.20.999.19.999.1.999.20.5.19.20.999\n"
     ]
    }
   ],
   "source": [
    "print(\"input something\")\n",
    "x = input()\n",
    "array = []\n",
    "\n",
    "letter = \"\"\n",
    "for letter in x:\n",
    "    if letter.isalpha():\n",
    "        number = ord(letter)-96\n",
    "        array.append(\".\")\n",
    "        array.append(str(number))\n",
    "    else:\n",
    "        array.append(\".999\")\n",
    "str0 = \"\"\n",
    "\n",
    "str1 = ''.join(array)\n",
    "\n",
    "print(str1)"
   ]
  },
  {
   "cell_type": "code",
   "execution_count": 4,
   "metadata": {},
   "outputs": [
    {
     "name": "stdout",
     "output_type": "stream",
     "text": [
      "11\n"
     ]
    }
   ],
   "source": [
    "def get_n(m):\n",
    "    y=0\n",
    "    x=1\n",
    "    n=0\n",
    "    while y < m:\n",
    "        y=1/x+y\n",
    "        x=x+1\n",
    "        n=n+1\n",
    "    print(n)\n",
    "\n",
    "get_n(3)"
   ]
  },
  {
   "cell_type": "code",
   "execution_count": 5,
   "metadata": {},
   "outputs": [
    {
     "name": "stdout",
     "output_type": "stream",
     "text": [
      "number of elements: 15\n",
      "mean: 24.066666666666666\n",
      "variance: 202.19555555555556\n",
      "stand deviation 14.21954835976008\n"
     ]
    }
   ],
   "source": [
    "lists = [20, 12, 5, 32, 60, 23, 9, 18, 24, 32, 7, 16, 32, 27, 44]\n",
    "#I can't integrate them together.\n",
    "def list_sum(num):\n",
    "    total = 0\n",
    "    for num in lists:\n",
    "        total += num\n",
    "    return (total)\n",
    "def list_average(num):\n",
    "    sum_of_list = list_sum(num)\n",
    "    average = sum_of_list / float(len(num))\n",
    "    return (average)\n",
    "def list_variance(scores):\n",
    "    average = list_average(scores)\n",
    "    variance = 0\n",
    "    for score in scores:\n",
    "        variance = variance + (average - score) ** 2\n",
    "    return variance / len(scores)\n",
    "def list_std_deviation(variance):\n",
    "    return variance ** 0.5\n",
    "variance = list_variance(lists)\n",
    "\n",
    "print('number of elements: '+str(len(lists)))\n",
    "print('mean: '+str(list_average(lists)))\n",
    "print('variance: '+str(list_variance(lists)))\n",
    "print('stand deviation '+str(list_std_deviation(variance)))"
   ]
  }
 ],
 "metadata": {
  "kernelspec": {
   "display_name": "Python 3",
   "language": "python",
   "name": "python3"
  },
  "language_info": {
   "codemirror_mode": {
    "name": "ipython",
    "version": 3
   },
   "file_extension": ".py",
   "mimetype": "text/x-python",
   "name": "python",
   "nbconvert_exporter": "python",
   "pygments_lexer": "ipython3",
   "version": "3.7.3"
  }
 },
 "nbformat": 4,
 "nbformat_minor": 2
}
