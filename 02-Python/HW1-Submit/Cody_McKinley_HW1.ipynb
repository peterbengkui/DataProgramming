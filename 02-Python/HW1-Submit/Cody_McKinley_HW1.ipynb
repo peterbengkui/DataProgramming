{
 "cells": [
  {
   "cell_type": "markdown",
   "metadata": {},
   "source": [
    "# Assignment HW01-Cody McKinley\n",
    "\n",
    "## <font color='red'> Deadline: 9/11. </font>\n",
    "\n",
    "### QUESTIONS\n",
    "\n",
    "1. Write a function called \"operate\" that takes as input two numbers, and a string that can be either \"add\" or \"multiply\". The output should be either the sum or product of the two numbers, depending on the string entered.\n",
    "\n",
    "2. The Fibonacci sequence starts with 1, 1, and each subsequent term is the sum of the preceding two terms. The first 6 terms of the Fibonacci sequence are: 1, 1, 2, 3, 5, 8, ... Write a python function that takes one argument N and prints the first N terms of the Fibonacci sequence.\n",
    "\n",
    "3. A simple substitution code codes 'a' as 1, 'b' as 2, ..., 'z' as 26. Write a function called \"encode\" that takes in a string, and prints the coded text. The output should be a string, with letters separated by \".\". Use \"999\" for punctuation and spaces. For example, encode(\"Hello!\") should print out \"8.5.12.12.15.999\".\n",
    "\n",
    "4. The Harmonic series is the sum of 1 + 1/2 + 1/3 + 1/4 + ..... The n<sup>th</sup> Harmonic number H<sub>n</sub> is 1 + 1/2 + 1/3 + ...  + 1/n. Write a python function called \"get_n\" that accepts as input a threshold, and returns n corresponding to the smallest Harmonic number whose value is grater than the threshold. E.g. `get_n(3)` should output 11.\n",
    "\n",
    "5. Write a function called \"describe\" that takes as input a list of numbers, and prints the number of elements in the list, and the mean, variance, and standard deviation. The printed quantities should be labeled. The output should look something like: </br></br>\n",
    "`number of elements: 12` </br>\n",
    "`mean: 0.5` </br>\n",
    "`variance: 0.04` </br>\n",
    "`standard deviation: 0.2`\n"
   ]
  },
  {
   "cell_type": "code",
   "execution_count": 5,
   "metadata": {},
   "outputs": [
    {
     "name": "stdout",
     "output_type": "stream",
     "text": [
      "Please type sum or multiply:\n",
      "sum\n",
      "First number:\n",
      "5\n",
      "Second number :\n",
      "4\n",
      "The sum is 9\n"
     ]
    }
   ],
   "source": [
    "\"\"\"\n",
    "Created on Thu Aug 29 2019\n",
    "\n",
    "@author: Cody McKinley\n",
    "\"\"\"\n",
    "def operate(astr,a,b):\n",
    "    if astr in [\"sum\"]:\n",
    "        c=a+b\n",
    "        output_str = \"The sum is %d\" % (c)\n",
    "        print(output_str)\n",
    "    \n",
    "    if astr in [\"multiply\"]:\n",
    "        c=a*b\n",
    "        output_str = \"The product is %d\" % (c)\n",
    "        print(output_str) \n",
    "    \n",
    "\n",
    "string1 = input(\"Please type sum or multiply:\\n\")\n",
    "\n",
    "number1 = int(input(\"First number:\\n\")) \n",
    "number2 = int(input(\"Second number :\\n\")) \n",
    "\n",
    "operate(string1,number1,number2)\n",
    "\n"
   ]
  },
  {
   "cell_type": "code",
   "execution_count": 5,
   "metadata": {
    "scrolled": true
   },
   "outputs": [
    {
     "name": "stdout",
     "output_type": "stream",
     "text": [
      "Enter how many fibonnaci numbers you want:\n",
      "10\n",
      "1 1 2 3 5 8 13 21 34 55 "
     ]
    }
   ],
   "source": [
    "\"\"\"\n",
    "Created on Thu Aug 29 2019\n",
    "\n",
    "@author: Cody McKinley\n",
    "\"\"\"\n",
    "def fibonnaci (n):\n",
    "    count = 1\n",
    "    num1 = 0\n",
    "    num2 = 1\n",
    "    print(\"%d\" % (num2),end = ' ')\n",
    "    while count <=(n-1):\n",
    "        current_sum = num1 + num2\n",
    "        print(\"%d\" % (current_sum),end=' ')\n",
    "        num1 = num2\n",
    "        num2 = current_sum\n",
    "        count +=1    \n",
    "        \n",
    "number1=int(input(\"Enter how many fibonnaci numbers you want:\\n\"))\n",
    "fibonnaci(number1)"
   ]
  },
  {
   "cell_type": "code",
   "execution_count": 6,
   "metadata": {},
   "outputs": [
    {
     "name": "stdout",
     "output_type": "stream",
     "text": [
      "Please enter a word to be encoded: Hello!\n",
      "8.5.12.12.15.999."
     ]
    }
   ],
   "source": [
    "\"\"\"\n",
    "Created on Thu Aug 29 2019\n",
    "\n",
    "@author: Cody McKinley\n",
    "\"\"\"\n",
    "import collections\n",
    "\n",
    "#Changes the default unknown value import to '999'\n",
    "defDictionary = collections.defaultdict(lambda : '999')\n",
    "\n",
    "#Adds the lowercase letters to the dictionary\n",
    "defDictionary['a']=1\n",
    "defDictionary['b']=2\n",
    "defDictionary['c']=3\n",
    "defDictionary['d']=4\n",
    "defDictionary['e']=5\n",
    "defDictionary['f']=6\n",
    "defDictionary['g']=7\n",
    "defDictionary['h']=8\n",
    "defDictionary['i']=9\n",
    "defDictionary['j']=10\n",
    "defDictionary['k']=11\n",
    "defDictionary['l']=12\n",
    "defDictionary['m']=13\n",
    "defDictionary['n']=14\n",
    "defDictionary['o']=15\n",
    "defDictionary['p']=16\n",
    "defDictionary['q']=17\n",
    "defDictionary['r']=18\n",
    "defDictionary['s']=19\n",
    "defDictionary['t']=20\n",
    "defDictionary['u']=21\n",
    "defDictionary['v']=22\n",
    "defDictionary['w']=23\n",
    "defDictionary['x']=24\n",
    "defDictionary['y']=25\n",
    "defDictionary['z']=26\n",
    "\n",
    "#Adds the uppercase letters to the dictionary\n",
    "defDictionary['A']=1\n",
    "defDictionary['B']=2\n",
    "defDictionary['C']=3\n",
    "defDictionary['D']=4\n",
    "defDictionary['E']=5\n",
    "defDictionary['F']=6\n",
    "defDictionary['G']=7\n",
    "defDictionary['H']=8\n",
    "defDictionary['I']=9\n",
    "defDictionary['J']=10\n",
    "defDictionary['K']=11\n",
    "defDictionary['L']=12\n",
    "defDictionary['M']=13\n",
    "defDictionary['N']=14\n",
    "defDictionary['O']=15\n",
    "defDictionary['P']=16\n",
    "defDictionary['Q']=17\n",
    "defDictionary['R']=18\n",
    "defDictionary['S']=19\n",
    "defDictionary['T']=20\n",
    "defDictionary['U']=21\n",
    "defDictionary['V']=22\n",
    "defDictionary['W']=23\n",
    "defDictionary['X']=24\n",
    "defDictionary['Y']=25\n",
    "defDictionary['Z']=26\n",
    "\n",
    "\n",
    "#Breaks the string into a list and then encodes the word from the dictionary defined above\n",
    "def encode(string1):\n",
    "   brokenString = list(string1)\n",
    "   for list_item in brokenString:\n",
    "       print(defDictionary[list_item],\".\",sep='',end='')\n",
    "\n",
    "\n",
    "#Asks for the word and then encodes it\n",
    "word=input(\"Please enter a word to be encoded: \")\n",
    "encode(word)"
   ]
  },
  {
   "cell_type": "code",
   "execution_count": 1,
   "metadata": {},
   "outputs": [
    {
     "name": "stdout",
     "output_type": "stream",
     "text": [
      "Please enter threshold for harmonic number:\n",
      "3\n",
      "Threshold: 11\n"
     ]
    }
   ],
   "source": [
    "\"\"\"\n",
    "Created on Thu Aug 29 2019\n",
    "\n",
    "@author: Cody McKinley\n",
    "\"\"\"\n",
    "def get_n(n):\n",
    "    count=0\n",
    "    fib_sum = 0.0\n",
    "    while fib_sum < n:\n",
    "        add_num = 1./(count+1)\n",
    "        fib_sum = fib_sum + add_num\n",
    "        count += 1\n",
    "    output_str = \"Threshold: %d\" % (count)\n",
    "    print(output_str)\n",
    "    \n",
    "number1=int(input(\"Please enter threshold for harmonic number:\\n\"))\n",
    "\n",
    "get_n(number1)"
   ]
  },
  {
   "cell_type": "code",
   "execution_count": 1,
   "metadata": {},
   "outputs": [
    {
     "name": "stdout",
     "output_type": "stream",
     "text": [
      "Enter number of elements : 9\n",
      "Enter number:44\n",
      "Enter number:35\n",
      "Enter number:27\n",
      "Enter number:42\n",
      "Enter number:39\n",
      "Enter number:36\n",
      "Enter number:40\n",
      "Enter number:36\n",
      "Enter number:32\n",
      "[44, 35, 27, 42, 39, 36, 40, 36, 32]\n",
      "Number of elements:  9\n",
      "The mean of the data:  36.77777777777778\n",
      "The standard deviation of the data:  4.916588197741686\n",
      "The variance of the data:  27.194444444444443\n"
     ]
    }
   ],
   "source": [
    "\"\"\"\n",
    "Created on Thu Aug 29 2019\n",
    "\n",
    "@author: Cody McKinley\n",
    "\"\"\"\n",
    "import statistics\n",
    "\n",
    "def describe(NumList):\n",
    "    ListMean = statistics.mean(NumList)\n",
    "    ListDev = statistics.pstdev(NumList)\n",
    "    ListVar = statistics.variance(NumList)\n",
    "    ListLength = len(NumList)\n",
    "    print('Number of elements: ',  ListLength)\n",
    "    print('The mean of the data: ',  ListMean)\n",
    "    print('The standard deviation of the data: ',  ListDev)\n",
    "    print('The variance of the data: ',  ListVar)\n",
    "\n",
    "\n",
    "\n",
    "# creating an empty list \n",
    "MainList = [] \n",
    "  \n",
    "# number of elements as input \n",
    "n = int(input(\"Enter number of elements : \")) \n",
    "  \n",
    "# iterating till the range \n",
    "for i in range(0, n): \n",
    "    ele = int(input('Enter number:')) \n",
    "    MainList.append(ele) # adding the element \n",
    "      \n",
    "print(MainList)\n",
    "describe(MainList) \n"
   ]
  },
  {
   "cell_type": "code",
   "execution_count": null,
   "metadata": {},
   "outputs": [],
   "source": []
  }
 ],
 "metadata": {
  "kernelspec": {
   "display_name": "Python 3",
   "language": "python",
   "name": "python3"
  },
  "language_info": {
   "codemirror_mode": {
    "name": "ipython",
    "version": 3
   },
   "file_extension": ".py",
   "mimetype": "text/x-python",
   "name": "python",
   "nbconvert_exporter": "python",
   "pygments_lexer": "ipython3",
   "version": "3.7.3"
  }
 },
 "nbformat": 4,
 "nbformat_minor": 2
}
