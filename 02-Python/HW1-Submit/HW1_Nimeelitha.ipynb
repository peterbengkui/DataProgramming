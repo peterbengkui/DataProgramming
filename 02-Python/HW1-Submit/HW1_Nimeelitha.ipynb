{
 "cells": [
  {
   "cell_type": "markdown",
   "metadata": {},
   "source": [
    "# Assignment HW01\n",
    "\n",
    "## <font color='red'> Deadline: 9/4. </font>\n",
    "\n",
    "### QUESTIONS\n",
    "\n",
    "1. Write a function called \"operate\" that takes as input two numbers, and a string that can be either \"add\" or \"multiply\". The output should be either the sum or product of the two numbers, depending on the string entered.\n",
    "\n",
    "2. The Fibonacci sequence starts with 1, 1, and each subsequent term is the sum of the preceding two terms. The first 6 terms of the Fibonacci sequence are: 1, 1, 2, 3, 5, 8, ... Write a python function that takes one argument N and prints the first N terms of the Fibonacci sequence.\n",
    "\n",
    "3. A simple substitution code codes 'a' as 1, 'b' as 2, ..., 'z' as 26. Write a function called \"encode\" that takes in a string, and prints the coded text. The output should be a string, with letters separated by \".\". Use \"999\" for punctuation and spaces. For example, encode(\"Hello!\") should print out \"8.5.12.12.15.999\".\n",
    "\n",
    "4. The Harmonic series is the sum of 1 + 1/2 + 1/3 + 1/4 + ..... The n<sup>th</sup> Harmonic number H<sub>n</sub> is 1 + 1/2 + 1/3 + ...  + 1/n. Write a python function called \"get_n\" that accepts as input a threshold, and returns n corresponding to the smallest Harmonic number whose value is grater than the threshold. E.g. `get_n(3)` should output 11.\n",
    "\n",
    "5. Write a function called \"describe\" that takes as input a list of numbers, and prints the number of elements in the list, and the mean, variance, and standard deviation. The printed quantities should be labeled. The output should look something like: </br></br>\n",
    "`number of elements: 12` </br>\n",
    "`mean: 0.5` </br>\n",
    "`variance: 0.04` </br>\n",
    "`standard deviation: 0.2`\n"
   ]
  },
  {
   "cell_type": "code",
   "execution_count": null,
   "metadata": {},
   "outputs": [],
   "source": [
    "#Solution for Problem 1: \n",
    "#Doubt: How to avoid defining the fucntion twice? Exploring"
   ]
  },
  {
   "cell_type": "code",
   "execution_count": 72,
   "metadata": {},
   "outputs": [
    {
     "name": "stdout",
     "output_type": "stream",
     "text": [
      "Enter the first number: 4\n",
      "Enter the second number: 7\n",
      "Add or Multiply: Multiply\n",
      "The product is 28.0\n"
     ]
    }
   ],
   "source": [
    "num1=float(input(\"Enter the first number: \"))\n",
    "num2=float(input(\"Enter the second number: \"))\n",
    "str1=str(input(\"Add or Multiply: \"))\n",
    "\n",
    "def operate(num1,num2):\n",
    "    addition=num1+num2;\n",
    "    return addition;\n",
    "if str1=='Add':\n",
    "    print(\"The sum is\",operate(num1,num2))\n",
    "    \n",
    "def operate(num1,num2):\n",
    "    multiply=num1*num2;\n",
    "    return multiply;\n",
    "if str1=='Multiply':\n",
    "    print(\"The product is\",operate(num1,num2))"
   ]
  },
  {
   "cell_type": "code",
   "execution_count": null,
   "metadata": {},
   "outputs": [],
   "source": [
    "#Solution for Problem 2:\n",
    "#Doubt:How to show the output in horizontal list? Expoloring"
   ]
  },
  {
   "cell_type": "code",
   "execution_count": 1,
   "metadata": {},
   "outputs": [
    {
     "name": "stdout",
     "output_type": "stream",
     "text": [
      "Enter a positive number for Fibonacci sequence: 6\n",
      "1\n",
      "1\n",
      "2\n",
      "3\n",
      "5\n",
      "8\n"
     ]
    }
   ],
   "source": [
    "N=int(input(\"Enter a positive number for Fibonacci sequence: \"))\n",
    "\n",
    "i=1\n",
    "x1=1\n",
    "x2=1\n",
    "x3=x1+x2\n",
    "print (x1)\n",
    "while i < N:\n",
    "    x1=x2\n",
    "    x2=x3\n",
    "    x3=x1+x2\n",
    "    print (x1)\n",
    "    i += 1"
   ]
  },
  {
   "cell_type": "code",
   "execution_count": null,
   "metadata": {},
   "outputs": [],
   "source": [
    "#Solution for Problem 3:\n",
    "#Doubt: How to append '.' and string to display them in a single line? Exploring"
   ]
  },
  {
   "cell_type": "code",
   "execution_count": 2,
   "metadata": {},
   "outputs": [
    {
     "name": "stdout",
     "output_type": "stream",
     "text": [
      "Enter a word: python!\n",
      "16\n",
      "25\n",
      "20\n",
      "8\n",
      "15\n",
      "14\n",
      "999\n"
     ]
    }
   ],
   "source": [
    "str1 = str(input(\"Enter a word: \" ))\n",
    "letters = {'a':'1','b':'2','c':'3','d':'4','e':'5','f':'6','g':'7','h':'8','i':'9','j':'10','k':'11','l':'12','m':'13','n':'14','o':'15','p':'16','q':'17','r':'18','s':'19','t':'20','u':'21','v':'22','w':'23','x':'24','y':'25','z':'26','!':'999',',':'999', ' ':'.'}\n",
    "for word in str1:\n",
    "    print(letters[word])\n"
   ]
  },
  {
   "cell_type": "code",
   "execution_count": null,
   "metadata": {},
   "outputs": [],
   "source": [
    "#Skipped Problem 4 as it is over my head and is optional:)"
   ]
  },
  {
   "cell_type": "code",
   "execution_count": null,
   "metadata": {},
   "outputs": [],
   "source": [
    "#Solution for Problem 5:"
   ]
  },
  {
   "cell_type": "code",
   "execution_count": 6,
   "metadata": {},
   "outputs": [
    {
     "name": "stdout",
     "output_type": "stream",
     "text": [
      "Enter a list of numbers: 1 2 3 4 5\n",
      "Number of elements: 5\n",
      "Mean: 3.0 \n",
      "Variance: 2.5 \n",
      "Std Dev: 1.5811388300841898 \n"
     ]
    }
   ],
   "source": [
    "num_list = [float(i) for i in input(\"Enter a list of numbers: \").split()]\n",
    "\n",
    "print (\"Number of elements:\", len(num_list))\n",
    "\n",
    "import statistics\n",
    "\n",
    "print(\"Mean: % s \" % (statistics.mean(num_list)))\n",
    "\n",
    "print(\"Variance: % s \" % (statistics.variance(num_list)))\n",
    "    \n",
    "print(\"Std Dev: % s \" % (statistics.stdev(num_list)))"
   ]
  },
  {
   "cell_type": "code",
   "execution_count": null,
   "metadata": {},
   "outputs": [],
   "source": []
  }
 ],
 "metadata": {
  "kernelspec": {
   "display_name": "Python 3",
   "language": "python",
   "name": "python3"
  },
  "language_info": {
   "codemirror_mode": {
    "name": "ipython",
    "version": 3
   },
   "file_extension": ".py",
   "mimetype": "text/x-python",
   "name": "python",
   "nbconvert_exporter": "python",
   "pygments_lexer": "ipython3",
   "version": "3.7.3"
  }
 },
 "nbformat": 4,
 "nbformat_minor": 2
}
