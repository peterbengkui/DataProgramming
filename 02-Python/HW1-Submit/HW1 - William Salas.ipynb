{
 "cells": [
  {
   "cell_type": "markdown",
   "metadata": {},
   "source": [
    "# Assignment HW01\n",
    "\n",
    "## <font color='red'> Deadline: 9/4. </font>\n",
    "\n",
    "### QUESTIONS\n",
    "\n",
    "1. Write a function called \"operate\" that takes as input two numbers, and a string that can be either \"add\" or \"multiply\". The output should be either the sum or product of the two numbers, depending on the string entered.\n",
    "\n",
    "2. The Fibonacci sequence starts with 1, 1, and each subsequent term is the sum of the preceding two terms. The first 6 terms of the Fibonacci sequence are: 1, 1, 2, 3, 5, 8, ... Write a python function that takes one argument N and prints the first N terms of the Fibonacci sequence.\n",
    "\n",
    "3. A simple substitution code codes 'a' as 1, 'b' as 2, ..., 'z' as 26. Write a function called \"encode\" that takes in a string, and prints the coded text. The output should be a string, with letters separated by \".\". Use \"999\" for punctuation and spaces. For example, encode(\"Hello!\") should print out \"8.5.12.12.15.999\".\n",
    "\n",
    "4. The Harmonic series is the sum of 1 + 1/2 + 1/3 + 1/4 + ..... The n<sup>th</sup> Harmonic number H<sub>n</sub> is 1 + 1/2 + 1/3 + ...  + 1/n. Write a python function called \"get_n\" that accepts as input a threshold, and returns n corresponding to the smallest Harmonic number whose value is grater than the threshold. E.g. `get_n(3)` should output 11.\n",
    "\n",
    "5. Write a function called \"describe\" that takes as input a list of numbers, and prints the number of elements in the list, and the mean, variance, and standard deviation. The printed quantities should be labeled. The output should look something like: </br></br>\n",
    "`number of elements: 12` </br>\n",
    "`mean: 0.5` </br>\n",
    "`variance: 0.04` </br>\n",
    "`standard deviation: 0.2`\n"
   ]
  },
  {
   "cell_type": "code",
   "execution_count": 1,
   "metadata": {},
   "outputs": [
    {
     "data": {
      "text/plain": [
       "9"
      ]
     },
     "execution_count": 1,
     "metadata": {},
     "output_type": "execute_result"
    }
   ],
   "source": [
    "def operate( n1, n2, operation ):\n",
    "    if operation == \"sum\":\n",
    "        result = n1 + n2\n",
    "    elif operation == \"multiply\":\n",
    "        result = n1 * n2   \n",
    "    return result\n",
    "\n",
    "operate(4, 5, \"sum\")"
   ]
  },
  {
   "cell_type": "code",
   "execution_count": 2,
   "metadata": {},
   "outputs": [
    {
     "data": {
      "text/plain": [
       "[1, 1, 2, 3, 5, 8, 13, 21, 34]"
      ]
     },
     "execution_count": 2,
     "metadata": {},
     "output_type": "execute_result"
    }
   ],
   "source": [
    "def fib_N( n ):\n",
    "    if n == 1:\n",
    "        result = 1\n",
    "    elif n == 2:\n",
    "        result = [1, 1]\n",
    "    elif n >= 3:\n",
    "        result = [1, 1]\n",
    "        for i in range(2, n):\n",
    "            result.append(result[i-1] + result[i-2])\n",
    "            \n",
    "    return result\n",
    "\n",
    "fib_N(9)"
   ]
  },
  {
   "cell_type": "code",
   "execution_count": 3,
   "metadata": {},
   "outputs": [
    {
     "data": {
      "text/plain": [
       "'13.25.999.6.9.18.19.20.999.20.9.13.5.999.3.15.4.9.14.7.999.16.25.20.8.15.14'"
      ]
     },
     "execution_count": 3,
     "metadata": {},
     "output_type": "execute_result"
    }
   ],
   "source": [
    "def encode( string ):\n",
    "    \n",
    "    # Creating the dictionary\n",
    "    abecedario1 = \"abcdefghijklmnopqrstuvwxyz\"\n",
    "    abecedario2 = \"ABCDEFGHIJKLMNOPQRSTUVWXYZ\"\n",
    "    Dict = {}\n",
    "    n = 0\n",
    "    \n",
    "    for i in abecedario1:\n",
    "        n = n + 1\n",
    "        Dict[i] = \"%d.\" % (n)\n",
    "    \n",
    "    n = 0\n",
    "    for i in abecedario2:\n",
    "        n = n + 1\n",
    "        Dict[i] = \"%d.\" % (n)\n",
    "        \n",
    "    # Creating the codified message\n",
    "    result = \"\"\n",
    "    for i in string:\n",
    "        if i in abecedario1:\n",
    "            result = result + Dict[i]\n",
    "        elif i in abecedario2:\n",
    "            result = result + Dict[i]\n",
    "        else:\n",
    "            result = result + \"%d.\" % (999)\n",
    "            \n",
    "        l = len(result)\n",
    "    \n",
    "    return result[0:(l-1)]\n",
    "\n",
    "string = \"My first time coding Python\"\n",
    "encode(string)"
   ]
  },
  {
   "cell_type": "code",
   "execution_count": 4,
   "metadata": {},
   "outputs": [
    {
     "data": {
      "text/plain": [
       "83"
      ]
     },
     "execution_count": 4,
     "metadata": {},
     "output_type": "execute_result"
    }
   ],
   "source": [
    "def get_n( r ):\n",
    "    n = 0\n",
    "    Hn = 0\n",
    "    while Hn <= r:\n",
    "        n = n + 1\n",
    "        Hn = Hn + 1/n\n",
    "        \n",
    "    return n\n",
    "\n",
    "get_n(5)"
   ]
  },
  {
   "cell_type": "code",
   "execution_count": 5,
   "metadata": {},
   "outputs": [
    {
     "name": "stdout",
     "output_type": "stream",
     "text": [
      "number of elemnts: 12.00\n",
      "mean: 13.25\n",
      "variance: 77.85\n",
      "standard deviation: 8.82\n"
     ]
    },
    {
     "data": {
      "text/plain": [
       "[12, 13.25, 77.85416666666667, 8.82350081694713]"
      ]
     },
     "execution_count": 5,
     "metadata": {},
     "output_type": "execute_result"
    }
   ],
   "source": [
    "def describe(array):\n",
    "    # Number of elements\n",
    "    n = len(array)\n",
    "    # Mean\n",
    "    mean = sum(array)/n\n",
    "    # Variance\n",
    "    variance = 0\n",
    "    for i in array:\n",
    "        variance = variance + (i - mean)**2\n",
    "    variance = variance / n\n",
    "    # Standard deviation\n",
    "    sd = variance ** 0.5\n",
    "    result = [n, mean, variance, sd]\n",
    "    print(\"number of elemnts: %.2f\" % (n))\n",
    "    print(\"mean: %.2f\" % (mean))\n",
    "    print(\"variance: %.2f\" % (variance))\n",
    "    print(\"standard deviation: %.2f\" % (sd))\n",
    "    return [n, mean, variance, sd]\n",
    "    \n",
    "array = [3,9,4,7,34,21,10,18,5,22,16,10]\n",
    "describe(array)"
   ]
  }
 ],
 "metadata": {
  "kernelspec": {
   "display_name": "Python 3",
   "language": "python",
   "name": "python3"
  },
  "language_info": {
   "codemirror_mode": {
    "name": "ipython",
    "version": 3
   },
   "file_extension": ".py",
   "mimetype": "text/x-python",
   "name": "python",
   "nbconvert_exporter": "python",
   "pygments_lexer": "ipython3",
   "version": "3.7.3"
  }
 },
 "nbformat": 4,
 "nbformat_minor": 2
}
