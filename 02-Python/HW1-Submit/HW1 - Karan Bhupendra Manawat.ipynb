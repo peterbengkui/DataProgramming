{
 "cells": [
  {
   "cell_type": "markdown",
   "metadata": {},
   "source": [
    "# Assignment HW01\n",
    "\n",
    "## <font color='red'> Deadline: 9/4. </font>\n",
    "\n",
    "### QUESTIONS\n",
    "\n",
    "1. Write a function called \"operate\" that takes as input two numbers, and a string that can be either \"add\" or \"multiply\". The output should be either the sum or product of the two numbers, depending on the string entered.\n",
    "\n",
    "2. The Fibonacci sequence starts with 1, 1, and each subsequent term is the sum of the preceding two terms. The first 6 terms of the Fibonacci sequence are: 1, 1, 2, 3, 5, 8, ... Write a python function that takes one argument N and prints the first N terms of the Fibonacci sequence.\n",
    "\n",
    "3. A simple substitution code codes 'a' as 1, 'b' as 2, ..., 'z' as 26. Write a function called \"encode\" that takes in a string, and prints the coded text. The output should be a string, with letters separated by \".\". Use \"999\" for punctuation and spaces. For example, encode(\"Hello!\") should print out \"8.5.12.12.15.999\".\n",
    "\n",
    "4. The Harmonic series is the sum of 1 + 1/2 + 1/3 + 1/4 + ..... The n<sup>th</sup> Harmonic number H<sub>n</sub> is 1 + 1/2 + 1/3 + ...  + 1/n. Write a python function called \"get_n\" that accepts as input a threshold, and returns n corresponding to the smallest Harmonic number whose value is grater than the threshold. E.g. `get_n(3)` should output 11.\n",
    "\n",
    "5. Write a function called \"describe\" that takes as input a list of numbers, and prints the number of elements in the list, and the mean, variance, and standard deviation. The printed quantities should be labeled. The output should look something like: </br></br>\n",
    "`number of elements: 12` </br>\n",
    "`mean: 0.5` </br>\n",
    "`variance: 0.04` </br>\n",
    "`standard deviation: 0.2`\n"
   ]
  },
  {
   "cell_type": "code",
   "execution_count": 15,
   "metadata": {},
   "outputs": [
    {
     "name": "stdout",
     "output_type": "stream",
     "text": [
      "7\n",
      "32\n"
     ]
    }
   ],
   "source": [
    "#Solution 1\n",
    "\n",
    "def operate(x,y,z):\n",
    "    if z == 'add':\n",
    "        w = x+y\n",
    "        print(w)    \n",
    "    \n",
    "    elif z == 'multiply':\n",
    "        w = x*y\n",
    "        print (w)\n",
    "    \n",
    "    else:\n",
    "        print('error')\n",
    "        \n",
    "operate(3,4,'add')\n",
    "operate(4,8,'multiply')\n"
   ]
  },
  {
   "cell_type": "code",
   "execution_count": 9,
   "metadata": {},
   "outputs": [
    {
     "name": "stdout",
     "output_type": "stream",
     "text": [
      "1\n",
      "1\n",
      "2\n",
      "3\n",
      "5\n",
      "8\n",
      "13\n",
      "21\n"
     ]
    }
   ],
   "source": [
    "#Solution 2\n",
    "\n",
    "def Fs(n):\n",
    "    count = 1\n",
    "    a = 0\n",
    "    b = 1\n",
    "    while count<=n :\n",
    "        i = a\n",
    "        a = b\n",
    "        b = i + b\n",
    "        print (a)\n",
    "        count= count + 1\n",
    "\n",
    "Fs(8)\n"
   ]
  },
  {
   "cell_type": "code",
   "execution_count": 4,
   "metadata": {},
   "outputs": [
    {
     "name": "stdout",
     "output_type": "stream",
     "text": [
      "1.2.3.999.7.6.8."
     ]
    }
   ],
   "source": [
    "#Solution 3\n",
    "\n",
    "mydict = dict([('a',1),('b',2),('c',3),('d',4),('e',5),('f',6),('g',7),('h',8),('i',9),('j',10),('k',11),('l',12),('m',13),('n',14),('o',15),('p',16),('q',17),('r',18),('s',19),('t',20),('u',21),('v',22),('w',23),('x',24),('y',25),('z',26)])\n",
    "myinput = 'abc@gfh'\n",
    "mylist = list(myinput)\n",
    "for letter in mylist:\n",
    "    if letter in mydict:\n",
    "        print (mydict[letter],'.',sep='',end='')\n",
    "    else:\n",
    "        print('999','.',sep='',end='')\n",
    "        \n"
   ]
  },
  {
   "cell_type": "code",
   "execution_count": 11,
   "metadata": {},
   "outputs": [
    {
     "name": "stdout",
     "output_type": "stream",
     "text": [
      "11\n"
     ]
    }
   ],
   "source": [
    "#Solution 4\n",
    "\n",
    "def get(n): \n",
    "    count=0\n",
    "    sum = 0\n",
    "    while sum<n:\n",
    "        add = 1/(count+1)\n",
    "        sum = add + sum\n",
    "        count += 1\n",
    "        string = count\n",
    "    print(string)\n",
    "get(3)\n"
   ]
  },
  {
   "cell_type": "code",
   "execution_count": 4,
   "metadata": {},
   "outputs": [
    {
     "name": "stdout",
     "output_type": "stream",
     "text": [
      "Number of Elements = 6\n",
      "Mean = 80.33333333333333\n",
      "Variance = 8629.88888888889\n",
      "Standard Deviation = 92.897195269227\n"
     ]
    }
   ],
   "source": [
    "#Solution 5\n",
    "\n",
    "list = [2,8,16,64,128,264]\n",
    "import numpy as np\n",
    "def describe(list):\n",
    "    print ('Number of Elements =', len(list))\n",
    "    print ('Mean =', np.mean(list))\n",
    "    print ('Variance =', np.var(list))\n",
    "    print ('Standard Deviation =',np.std(list))\n",
    "describe(list)"
   ]
  },
  {
   "cell_type": "code",
   "execution_count": null,
   "metadata": {},
   "outputs": [],
   "source": []
  }
 ],
 "metadata": {
  "kernelspec": {
   "display_name": "Python 3",
   "language": "python",
   "name": "python3"
  },
  "language_info": {
   "codemirror_mode": {
    "name": "ipython",
    "version": 3
   },
   "file_extension": ".py",
   "mimetype": "text/x-python",
   "name": "python",
   "nbconvert_exporter": "python",
   "pygments_lexer": "ipython3",
   "version": "3.7.3"
  }
 },
 "nbformat": 4,
 "nbformat_minor": 2
}
