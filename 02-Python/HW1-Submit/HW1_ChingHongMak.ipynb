{
 "cells": [
  {
   "cell_type": "markdown",
   "metadata": {},
   "source": [
    "# Assignment HW01\n",
    "\n",
    "## <font color='red'> Deadline: 9/4. </font>\n",
    "\n",
    "### QUESTIONS\n",
    "\n",
    "1. Write a function called \"operate\" that takes as input two numbers, and a string that can be either \"add\" or \"multiply\". The output should be either the sum or product of the two numbers, depending on the string entered.\n",
    "\n",
    "2. The Fibonacci sequence starts with 1, 1, and each subsequent term is the sum of the preceding two terms. The first 6 terms of the Fibonacci sequence are: 1, 1, 2, 3, 5, 8, ... Write a python function that takes one argument N and prints the first N terms of the Fibonacci sequence.\n",
    "\n",
    "3. A simple substitution code codes 'a' as 1, 'b' as 2, ..., 'z' as 26. Write a function called \"encode\" that takes in a string, and prints the coded text. The output should be a string, with letters separated by \".\". Use \"999\" for punctuation and spaces. For example, encode(\"Hello!\") should print out \"8.5.12.12.15.999\".\n",
    "\n",
    "4. The Harmonic series is the sum of 1 + 1/2 + 1/3 + 1/4 + ..... The n<sup>th</sup> Harmonic number H<sub>n</sub> is 1 + 1/2 + 1/3 + ...  + 1/n. Write a python function called \"get_n\" that accepts as input a threshold, and returns n corresponding to the smallest Harmonic number whose value is grater than the threshold. E.g. `get_n(3)` should output 11.\n",
    "\n",
    "5. Write a function called \"describe\" that takes as input a list of numbers, and prints the number of elements in the list, and the mean, variance, and standard deviation. The printed quantities should be labeled. The output should look something like: </br></br>\n",
    "`number of elements: 12` </br>\n",
    "`mean: 0.5` </br>\n",
    "`variance: 0.04` </br>\n",
    "`standard deviation: 0.2`\n"
   ]
  },
  {
   "cell_type": "code",
   "execution_count": 4,
   "metadata": {},
   "outputs": [
    {
     "name": "stdout",
     "output_type": "stream",
     "text": [
      "Enter the first number:10\n",
      "Enter the second number:10\n",
      "add or multiply:add\n",
      "10.000000 + 10.000000 = 20.000000\n"
     ]
    }
   ],
   "source": [
    "def operate(num1, num2, operation):\n",
    "    if operation == \"add\":\n",
    "        print (\"%f + %f = %f\" % (float(num1),float(num2),float(num1)+float(num2)))\n",
    "    elif operation == \"multiply\":\n",
    "        print (\"%f x %f = %f\" % (float(num1),float(num2),float(num1)*float(num2)))\n",
    "    else:\n",
    "        print (\"Your operation is not either add or multiply\")\n",
    "#operate(4,2,\"multiply\".lower().strip())\n",
    "num1 = input(\"Enter the first number:\")\n",
    "num2 = input(\"Enter the second number:\")\n",
    "operation = input(\"add or multiply:\")\n",
    "operate(num1,num2,operation.lower().strip())"
   ]
  },
  {
   "cell_type": "code",
   "execution_count": 3,
   "metadata": {},
   "outputs": [
    {
     "name": "stdout",
     "output_type": "stream",
     "text": [
      "Enter the number of Fibonacci sequence: 10\n",
      "1\n",
      "1\n",
      "2\n",
      "3\n",
      "5\n",
      "8\n",
      "13\n",
      "21\n",
      "34\n",
      "55\n"
     ]
    }
   ],
   "source": [
    "seq = input(\"Enter the number of Fibonacci sequence: \")\n",
    "x=1\n",
    "y=1\n",
    "for i in range(int(seq)):\n",
    "    if i%2==0:\n",
    "        print (x)\n",
    "        x=x+y\n",
    "    else:\n",
    "        print (y)\n",
    "        y=x+y"
   ]
  },
  {
   "cell_type": "code",
   "execution_count": 2,
   "metadata": {},
   "outputs": [
    {
     "name": "stdout",
     "output_type": "stream",
     "text": [
      "Enter the word or phrase that you want to encode:Happy Birthday!\n",
      "8.1.16.16.25.999.2.9.18.20.8.4.1.25.999\n"
     ]
    }
   ],
   "source": [
    "def encode(string):\n",
    "    num  = list(range(1,27))\n",
    "    char = list(range(26))\n",
    "    letters = 'abcdefghijklmnopqrstuvwxyz'\n",
    "    count = 0\n",
    "    code =[]\n",
    "    while count < len(letters):     #Assigning each letters to the list. Can use matrix too but i am lazy. for loop could work too. \n",
    "        char[count] = letters[count]\n",
    "        count+=1\n",
    "    for i in range(len(string)):         #checking each space in the string\n",
    "        for j in range(len(char)):        #match the letters in string with the index and assign the number\n",
    "            check = True\n",
    "            if string[i] == char[j]:\n",
    "                code.append(str(num[j]))\n",
    "                check = False\n",
    "                break\n",
    "        if check == True:\n",
    "            code.append(\"999\")\n",
    "    print ('.'.join(code))\n",
    "        \n",
    "string = input(\"Enter the word or phrase that you want to encode:\")\n",
    "encode(string.lower())"
   ]
  },
  {
   "cell_type": "code",
   "execution_count": 8,
   "metadata": {},
   "outputs": [
    {
     "name": "stdout",
     "output_type": "stream",
     "text": [
      "Enter the threshold:2\n",
      "4\n"
     ]
    }
   ],
   "source": [
    "def get_n(number):\n",
    "    harmonic = 0\n",
    "    count = 0\n",
    "    while harmonic < number:\n",
    "        count += 1\n",
    "        harmonic += (1/count) \n",
    "    print (count)\n",
    "\n",
    "number = input(\"Enter the threshold:\")\n",
    "get_n(int(number))"
   ]
  },
  {
   "cell_type": "code",
   "execution_count": 7,
   "metadata": {},
   "outputs": [
    {
     "name": "stdout",
     "output_type": "stream",
     "text": [
      "Pleaes separate each number with a space\n",
      "Enter the List of Numbers:15 16 17 18\n",
      "Number of Element is: 4\n",
      "Mean: 16.500000\n",
      "Variance: 1.666667\n",
      "Standard Deviation: 1.290994\n"
     ]
    }
   ],
   "source": [
    "def describe(numlist):\n",
    "    ele = numlist.split()\n",
    "    ints = [int(num) for num in ele]\n",
    "    print (\"Number of Element is: %d\" % len(ints))\n",
    "    print (\"Mean: %f\" % s.mean(ints))\n",
    "    print (\"Variance: %f\" % s.variance(ints))\n",
    "    print (\"Standard Deviation: %f\" % s.stdev(ints))\n",
    "    \n",
    "import statistics as s\n",
    "print (\"Pleaes separate each number with a space\")\n",
    "numlist = input(\"Enter the List of Numbers:\")\n",
    "describe(numlist)"
   ]
  },
  {
   "cell_type": "code",
   "execution_count": null,
   "metadata": {},
   "outputs": [],
   "source": []
  }
 ],
 "metadata": {
  "kernelspec": {
   "display_name": "Python 3",
   "language": "python",
   "name": "python3"
  },
  "language_info": {
   "codemirror_mode": {
    "name": "ipython",
    "version": 3
   },
   "file_extension": ".py",
   "mimetype": "text/x-python",
   "name": "python",
   "nbconvert_exporter": "python",
   "pygments_lexer": "ipython3",
   "version": "3.7.3"
  }
 },
 "nbformat": 4,
 "nbformat_minor": 2
}
