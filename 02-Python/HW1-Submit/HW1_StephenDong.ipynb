{
 "cells": [
  {
   "cell_type": "markdown",
   "metadata": {},
   "source": [
    "# Assignment HW01\n",
    "\n",
    "## <font color='red'> Deadline: 9/4. </font>\n",
    "\n",
    "### QUESTIONS\n",
    "\n",
    "1. Write a function called \"operate\" that takes as input two numbers, and a string that can be either \"add\" or \"multiply\". The output should be either the sum or product of the two numbers, depending on the string entered.\n",
    "\n",
    "2. The Fibonacci sequence starts with 1, 1, and each subsequent term is the sum of the preceding two terms. The first 6 terms of the Fibonacci sequence are: 1, 1, 2, 3, 5, 8, ... Write a python function that takes one argument N and prints the first N terms of the Fibonacci sequence.\n",
    "\n",
    "3. A simple substitution code codes 'a' as 1, 'b' as 2, ..., 'z' as 26. Write a function called \"encode\" that takes in a string, and prints the coded text. The output should be a string, with letters separated by \".\". Use \"999\" for punctuation and spaces. For example, encode(\"Hello!\") should print out \"8.5.12.12.15.999\".\n",
    "\n",
    "4. The Harmonic series is the sum of 1 + 1/2 + 1/3 + 1/4 + ..... The n<sup>th</sup> Harmonic number H<sub>n</sub> is 1 + 1/2 + 1/3 + ...  + 1/n. Write a python function called \"get_n\" that accepts as input a threshold, and returns n corresponding to the smallest Harmonic number whose value is grater than the threshold. E.g. `get_n(3)` should output 11.\n",
    "\n",
    "5. Write a function called \"describe\" that takes as input a list of numbers, and prints the number of elements in the list, and the mean, variance, and standard deviation. The printed quantities should be labeled. The output should look something like: </br></br>\n",
    "`number of elements: 12` </br>\n",
    "`mean: 0.5` </br>\n",
    "`variance: 0.04` </br>\n",
    "`standard deviation: 0.2`\n"
   ]
  },
  {
   "cell_type": "code",
   "execution_count": 37,
   "metadata": {},
   "outputs": [
    {
     "data": {
      "text/plain": [
       "15.5"
      ]
     },
     "execution_count": 37,
     "metadata": {},
     "output_type": "execute_result"
    }
   ],
   "source": [
    "def operate(a, b, operator):\n",
    "    if operator == \"add\":\n",
    "        return a+b\n",
    "    elif operator == \"multiply\":\n",
    "        return a*b\n",
    "    else:\n",
    "        return \"Please enter either 'add' or 'multiply' as your command.\"\n",
    "operate(3.1, 5, \"multiply\")"
   ]
  },
  {
   "cell_type": "code",
   "execution_count": 39,
   "metadata": {},
   "outputs": [
    {
     "name": "stdout",
     "output_type": "stream",
     "text": [
      "1\n",
      "1\n",
      "2\n",
      "3\n",
      "5\n",
      "8\n"
     ]
    }
   ],
   "source": [
    "def fibonacci(N):\n",
    "    count = 0\n",
    "    prev = 0\n",
    "    current = 1\n",
    "    out = 1\n",
    "    while count < N:\n",
    "        print(out)\n",
    "        out = prev+current\n",
    "        prev = current\n",
    "        current = out\n",
    "        count+=1\n",
    "\n",
    "fibonacci(6)"
   ]
  },
  {
   "cell_type": "code",
   "execution_count": 117,
   "metadata": {},
   "outputs": [
    {
     "name": "stdout",
     "output_type": "stream",
     "text": [
      "7.5.15.18.7.9.1.999.19.20.1.20.5.999.21.14.9.22.5.18.19.9.20.25\n"
     ]
    }
   ],
   "source": [
    "def encode(input):\n",
    "    import string\n",
    "    message = input.lower()\n",
    "    Cipher = {}\n",
    "    Output = \"\"\n",
    "    for x in range (0, len(string.ascii_lowercase)):\n",
    "        Cipher[string.ascii_lowercase[x]]=x+1\n",
    "    for y in range (0, 2*len(message)-1):\n",
    "        if y % 2 == 0:\n",
    "            if message[int(y/2)] in string.ascii_lowercase:\n",
    "                Output+=str(Cipher[message[int(y/2)]])\n",
    "            else:\n",
    "                Output+=\"999\"\n",
    "        else:\n",
    "            Output+=\".\"\n",
    "    print(Output)\n",
    "    \n",
    "        \n",
    "encode(\"Georgia State University\")"
   ]
  },
  {
   "cell_type": "code",
   "execution_count": 2,
   "metadata": {},
   "outputs": [
    {
     "data": {
      "text/plain": [
       "11"
      ]
     },
     "execution_count": 2,
     "metadata": {},
     "output_type": "execute_result"
    }
   ],
   "source": [
    "def get_n(n):\n",
    "    h = 0\n",
    "    count = 0\n",
    "    while h <= n:\n",
    "        count += 1\n",
    "        h += 1/count\n",
    "    return count\n",
    "\n",
    "get_n(3)"
   ]
  },
  {
   "cell_type": "code",
   "execution_count": 114,
   "metadata": {},
   "outputs": [
    {
     "name": "stdout",
     "output_type": "stream",
     "text": [
      "Number of elements: 3\n",
      "Mean: 2.0\n",
      "Variance: 0.666666666666667\n",
      "Standard deviation: 0.8164965809277263\n"
     ]
    }
   ],
   "source": [
    "def describe(input):\n",
    "    from math import sqrt\n",
    "    total = 0\n",
    "    for n in range(0, len(input)):\n",
    "        total += input[n]\n",
    "    mean = total/len(input)\n",
    "    moment2 = 0\n",
    "    for n in range(0, len(input)):\n",
    "        moment2 += input[n]**2\n",
    "    moment2 = moment2/len(input)\n",
    "    variance = moment2 - (mean**2)\n",
    "    std = sqrt(variance)\n",
    "    print(\"Number of elements: \" + str(len(input)))\n",
    "    print(\"Mean: \" + str(mean))\n",
    "    print(\"Variance: \" + str(variance))\n",
    "    print(\"Standard deviation: \" + str(std))\n",
    "\n",
    "describe([1,2,3])"
   ]
  },
  {
   "cell_type": "code",
   "execution_count": null,
   "metadata": {},
   "outputs": [],
   "source": []
  }
 ],
 "metadata": {
  "kernelspec": {
   "display_name": "Python 3",
   "language": "python",
   "name": "python3"
  },
  "language_info": {
   "codemirror_mode": {
    "name": "ipython",
    "version": 3
   },
   "file_extension": ".py",
   "mimetype": "text/x-python",
   "name": "python",
   "nbconvert_exporter": "python",
   "pygments_lexer": "ipython3",
   "version": "3.7.3"
  }
 },
 "nbformat": 4,
 "nbformat_minor": 2
}
