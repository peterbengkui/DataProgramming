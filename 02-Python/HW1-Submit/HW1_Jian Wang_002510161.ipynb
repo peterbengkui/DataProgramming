{
 "cells": [
  {
   "cell_type": "markdown",
   "metadata": {},
   "source": [
    "# Assignment HW01\n",
    "\n",
    "## <font color='red'> Deadline: 9/4. </font>\n",
    "\n",
    "### QUESTIONS\n",
    "\n",
    "1. Write a function called \"operate\" that takes as input two numbers, and a string that can be either \"add\" or \"multiply\". The output should be either the sum or product of the two numbers, depending on the string entered.\n",
    "\n",
    "2. The Fibonacci sequence starts with 1, 1, and each subsequent term is the sum of the preceding two terms. The first 6 terms of the Fibonacci sequence are: 1, 1, 2, 3, 5, 8, ... Write a python function that takes one argument N and prints the first N terms of the Fibonacci sequence.\n",
    "\n",
    "3. A simple substitution code codes 'a' as 1, 'b' as 2, ..., 'z' as 26. Write a function called \"encode\" that takes in a string, and prints the coded text. The output should be a string, with letters separated by \".\". Use \"999\" for punctuation and spaces. For example, encode(\"Hello!\") should print out \"8.5.12.12.15.999\".\n",
    "\n",
    "4. The Harmonic series is the sum of 1 + 1/2 + 1/3 + 1/4 + ..... The n<sup>th</sup> Harmonic number H<sub>n</sub> is 1 + 1/2 + 1/3 + ...  + 1/n. Write a python function called \"get_n\" that accepts as input a threshold, and returns n corresponding to the smallest Harmonic number whose value is grater than the threshold. E.g. `get_n(3)` should output 11.\n",
    "\n",
    "5. Write a function called \"describe\" that takes as input a list of numbers, and prints the number of elements in the list, and the mean, variance, and standard deviation. The printed quantities should be labeled. The output should look something like: </br></br>\n",
    "`number of elements: 12` </br>\n",
    "`mean: 0.5` </br>\n",
    "`variance: 0.04` </br>\n",
    "`standard deviation: 0.2`\n"
   ]
  },
  {
   "cell_type": "code",
   "execution_count": 37,
   "metadata": {},
   "outputs": [
    {
     "name": "stdout",
     "output_type": "stream",
     "text": [
      "Input the add or multiply opration for calculation as (1 add 2) or (1 multiply 2)\n",
      "1.34 add 3.456\n",
      "1.340000 + 3.456000 = 4.7960\n"
     ]
    }
   ],
   "source": [
    "def operate(n1,n2,oper_str):\n",
    "    \"\"\"add or multiply operation （results with 4 decimal retained）\"\"\"\n",
    "    if oper_str == \"add\":\n",
    "        print(\"%f + %f = %.4f\" %(n1, n2, n1+n2))\n",
    "    else:\n",
    "        print(\"%f X %f = %.4f\" %(n1, n2, n1*n2))\n",
    "n_1, oper_s, n_2 = input(\"Input the add or multiply opration for calculation as (1 add 2) or (1 multiply 2)\\n\").strip().split()\n",
    "operate(float(n_1),float(n_2), oper_s)"
   ]
  },
  {
   "cell_type": "code",
   "execution_count": 31,
   "metadata": {},
   "outputs": [
    {
     "name": "stdout",
     "output_type": "stream",
     "text": [
      "The first 1 terms of the Fibonacci sequence are [1]\n",
      "The first 2 terms of the Fibonacci sequence are [1, 1]\n",
      "The first 3 terms of the Fibonacci sequence are [1, 1, 2]\n",
      "The first 11 terms of the Fibonacci sequence are [1, 1, 2, 3, 5, 8, 13, 21, 34, 55, 89]\n",
      "CPU times: user 299 µs, sys: 27 µs, total: 326 µs\n",
      "Wall time: 338 µs\n"
     ]
    }
   ],
   "source": [
    "%%time\n",
    "def fibonacci (n):\n",
    "    \"\"\" Fibonacci sequence (n>=1)\"\"\"\n",
    "    fa = [0,1]\n",
    "    for i in range(n-1):\n",
    "        fa.append(fa[i]+fa[i+1])\n",
    "    print(\"The first %d terms of the Fibonacci sequence are %s\" %(n, fa[1:]))\n",
    "fibonacci (1)\n",
    "fibonacci (2)\n",
    "fibonacci (3)\n",
    "fibonacci (11)\n",
    "# fibonacci (1000) total runing time 3.3ms (macbookair2017 w/o power)"
   ]
  },
  {
   "cell_type": "code",
   "execution_count": 32,
   "metadata": {},
   "outputs": [
    {
     "name": "stdout",
     "output_type": "stream",
     "text": [
      "1.1.2.3.3.26.999.4.999\n"
     ]
    }
   ],
   "source": [
    "import string\n",
    "def encode(in_str):\n",
    "    \"\"\"substitution code -> letter to digit\"\"\"\n",
    "    \n",
    "    in_str_l = in_str.lower()\n",
    "    out_str = \"\"\n",
    "    for i in range(len(in_str_l)):\n",
    "        code = ord(in_str_l[i])-96\n",
    "        if code >26 or code <1:\n",
    "            code = \"999\"\n",
    "        out_str += (str(code) + \".\")\n",
    "    print(out_str[:-1])\n",
    "encode(\"aAbCcz d%\")   "
   ]
  },
  {
   "cell_type": "code",
   "execution_count": 24,
   "metadata": {},
   "outputs": [
    {
     "name": "stdout",
     "output_type": "stream",
     "text": [
      "n = 11\n"
     ]
    }
   ],
   "source": [
    "def get_n(threshold):\n",
    "    \"\"\"accepts as input a threshold, \n",
    "    and returns n corresponding to the smallest Harmonic number \n",
    "    whose value is grater than the threshold. \"\"\"\n",
    "    sum = 0\n",
    "    i = 0\n",
    "    while sum <= threshold:\n",
    "        i += 1\n",
    "        sum += 1/i\n",
    "    return i\n",
    "n = get_n(3)\n",
    "print (\"n = %d\" %n)"
   ]
  },
  {
   "cell_type": "code",
   "execution_count": 35,
   "metadata": {},
   "outputs": [
    {
     "name": "stdout",
     "output_type": "stream",
     "text": [
      "number of elements: 8\n",
      "mean: 9.875\n",
      "variance: 183.109\n",
      "standard deviation: 13.532\n"
     ]
    }
   ],
   "source": [
    "import numpy as np\n",
    "def describe(in_list):\n",
    "    \"\"\"Write a function called \"describe\" that takes as input a list of numbers, \n",
    "    and prints the number of elements in the list, \n",
    "    and the mean, variance, and standard deviation.\"\"\"\n",
    "    array = np.array(in_list)\n",
    "    print (\"number of elements: %d\" %array.size)\n",
    "    print (\"mean: %.3f\" %np.mean(array))\n",
    "    print (\"variance: %.3f\" %np.var(array))\n",
    "    print (\"standard deviation: %.3f\" %np.std(array))\n",
    "describe([1,3,5,6,8,2,9,45])\n",
    "\n"
   ]
  }
 ],
 "metadata": {
  "kernelspec": {
   "display_name": "Python 3",
   "language": "python",
   "name": "python3"
  },
  "language_info": {
   "codemirror_mode": {
    "name": "ipython",
    "version": 3
   },
   "file_extension": ".py",
   "mimetype": "text/x-python",
   "name": "python",
   "nbconvert_exporter": "python",
   "pygments_lexer": "ipython3",
   "version": "3.7.3"
  }
 },
 "nbformat": 4,
 "nbformat_minor": 2
}
