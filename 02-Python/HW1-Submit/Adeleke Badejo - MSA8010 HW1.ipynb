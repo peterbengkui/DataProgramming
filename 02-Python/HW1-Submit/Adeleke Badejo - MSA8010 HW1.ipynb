{
 "cells": [
  {
   "cell_type": "markdown",
   "metadata": {},
   "source": [
    "# Assignment HW01\n",
    "\n",
    "## <font color='red'> Deadline: 9/12. </font>\n",
    "\n",
    "### QUESTIONS\n",
    "\n",
    "1. Write a function called \"operate\" that takes as input two numbers, and a string that can be either \"add\" or \"multiply\". The output should be either the sum or product of the two numbers, depending on the string entered.\n",
    "\n",
    "2. The Fibonacci sequence starts with 1, 1, and each subsequent term is the sum of the preceding two terms. The first 6 terms of the Fibonacci sequence are: 1, 1, 2, 3, 5, 8, ... Write a python function that takes one argument N and prints the first N terms of the Fibonacci sequence.\n",
    "\n",
    "3. A simple substitution code codes 'a' as 1, 'b' as 2, ..., 'z' as 26. Write a function called \"encode\" that takes in a string, and prints the coded text. The output should be a string, with letters separated by \".\". Use \"999\" for punctuation and spaces. For example, encode(\"Hello!\") should print out \"8.5.12.12.15.999\".\n",
    "\n",
    "4. The Harmonic series is the sum of 1 + 1/2 + 1/3 + 1/4 + ..... The n<sup>th</sup> Harmonic number H<sub>n</sub> is 1 + 1/2 + 1/3 + ...  + 1/n. Write a python function called \"get_n\" that accepts as input a threshold, and returns n corresponding to the smallest Harmonic number whose value is grater than the threshold. E.g. `get_n(3)` should output 11.\n",
    "\n",
    "5. Write a function called \"describe\" that takes as input a list of numbers, and prints the number of elements in the list, and the mean, variance, and standard deviation. The printed quantities should be labeled. The output should look something like: </br></br>\n",
    "`number of elements: 12` </br>\n",
    "`mean: 0.5` </br>\n",
    "`variance: 0.04` </br>\n",
    "`standard deviation: 0.2`\n"
   ]
  },
  {
   "cell_type": "code",
   "execution_count": 1,
   "metadata": {},
   "outputs": [
    {
     "name": "stdout",
     "output_type": "stream",
     "text": [
      "Please enter the first number\n",
      "5.9\n",
      "Please enter the second number\n",
      "78.1\n",
      "Enter add or multiply to get the sum or product of the two numbers\n",
      "multiply\n",
      "460.79\n"
     ]
    }
   ],
   "source": [
    "# Question 1\n",
    "def operate(a, b):\n",
    "    if (math == \"add\"):\n",
    "        print(a + b)\n",
    "    if (math == \"multiply\"):\n",
    "        print(a * b)\n",
    "print(\"Please enter the first number\")\n",
    "var1 = input()\n",
    "print(\"Please enter the second number\")\n",
    "var2 = input()\n",
    "a = float(var1)\n",
    "b = float(var2)\n",
    "print(\"Enter add or multiply to get the sum or product of the two numbers\")\n",
    "math = input()\n",
    "operate(a, b)    "
   ]
  },
  {
   "cell_type": "code",
   "execution_count": 2,
   "metadata": {},
   "outputs": [
    {
     "name": "stdout",
     "output_type": "stream",
     "text": [
      "How many terms in the Fibonacci sequence do you want?\n",
      "9\n",
      "[1, 1, 2, 3, 5, 8, 13, 21, 34]\n"
     ]
    }
   ],
   "source": [
    "# Question 2\n",
    "def Fibonacci():\n",
    "    a = [1,1]\n",
    "    print('How many terms in the Fibonacci sequence do you want?')\n",
    "    size = input()\n",
    "    if int(size) == 2:\n",
    "        print(a)\n",
    "\n",
    "    while len(a) < int(size):\n",
    "        b = len(a)\n",
    "        c = a[b-2] + a[b-1]\n",
    "        a.append(c)\n",
    "    print(a)\n",
    "Fibonacci()"
   ]
  },
  {
   "cell_type": "code",
   "execution_count": 3,
   "metadata": {},
   "outputs": [
    {
     "name": "stdout",
     "output_type": "stream",
     "text": [
      "Please type the word\n",
      "tonight!!!\n",
      "20. 15. 14. 9. 7. 8. 20. 999. 999. 999\n"
     ]
    }
   ],
   "source": [
    "# Question 3\n",
    "def encode():\n",
    "    alpha = {\n",
    "        'a':1,'b':2,'c':3,'d':4,'e':5,\n",
    "        'f':6,'g':7,'h':8,'i':9,'j':10,\n",
    "        'k':11,'l':12,'m':13,'n':14,'o':15,\n",
    "        'p':16,'q':17,'r':18,'s':19,'t':20,\n",
    "        'u':21,'v':22,'w':23,'x':24,'y':25,\n",
    "        'z':26,'!':999,'@':999,'#':999,'$':999,\n",
    "        '%':999,'^':999,'&':999,'*':999,'(':999,\n",
    "        ')':999\n",
    "    }\n",
    "\n",
    "    print(\"Please type the word\")\n",
    "    a = list(input())\n",
    "    length = len(a)\n",
    "    c = 0\n",
    "    word = []\n",
    "    while c < length:\n",
    "        b = alpha.get(str(a[c]))\n",
    "        word.append(b)\n",
    "        c += 1\n",
    "    \n",
    "    d = str(word).strip('[]')\n",
    "    e = d.replace(',','.')\n",
    "    print(e)\n",
    "encode()\n"
   ]
  },
  {
   "cell_type": "code",
   "execution_count": 4,
   "metadata": {},
   "outputs": [
    {
     "name": "stdout",
     "output_type": "stream",
     "text": [
      "What is the Threshold?\n",
      "6\n",
      "227\n"
     ]
    }
   ],
   "source": [
    "# Question 4\n",
    "def get_n(N):\n",
    "    a = [1]\n",
    "    while sum(a) < N:\n",
    "        b = len(a) + 1\n",
    "        c = float(1/b)\n",
    "        a.append(c)\n",
    "    print(len(a))\n",
    "print('What is the Threshold?')\n",
    "threshold = input()\n",
    "N = int(threshold)\n",
    "get_n(N)"
   ]
  },
  {
   "cell_type": "code",
   "execution_count": 5,
   "metadata": {},
   "outputs": [
    {
     "name": "stdout",
     "output_type": "stream",
     "text": [
      "Please enter your numbers now. When you are finished please type STOP!\n",
      "1\n",
      "4\n",
      "6\n",
      "8\n",
      "14\n",
      "22\n",
      "32\n",
      "STOP!\n",
      "Number of elements: 7\n",
      "Mean: 12.428571428571429\n",
      "Variance: 123.28571428571428\n",
      "Standard deviation: 11.103410029613167\n"
     ]
    }
   ],
   "source": [
    "# Question 5\n",
    "print(\"Please enter your numbers now. When you are finished please type STOP!\")\n",
    "def describe():\n",
    "    try:\n",
    "        mylist = []\n",
    "        while True:\n",
    "            mylist.append(int(input()))\n",
    "    except:\n",
    "        print(\"Number of elements:\", len(mylist))\n",
    "        m = sum(mylist[0:])/len(mylist)\n",
    "        print(\"Mean:\", m)\n",
    "        vartop = [m - element for element in mylist] \n",
    "        x = []\n",
    "        for element in vartop:\n",
    "            x.append(element**2)\n",
    "        var = sum(x)/(len(mylist)-1)\n",
    "        print(\"Variance:\", var)\n",
    "        SD = var**.5\n",
    "        print(\"Standard deviation:\", SD)\n",
    "describe()"
   ]
  },
  {
   "cell_type": "code",
   "execution_count": null,
   "metadata": {},
   "outputs": [],
   "source": []
  }
 ],
 "metadata": {
  "kernelspec": {
   "display_name": "Python 3",
   "language": "python",
   "name": "python3"
  },
  "language_info": {
   "codemirror_mode": {
    "name": "ipython",
    "version": 3
   },
   "file_extension": ".py",
   "mimetype": "text/x-python",
   "name": "python",
   "nbconvert_exporter": "python",
   "pygments_lexer": "ipython3",
   "version": "3.7.3"
  }
 },
 "nbformat": 4,
 "nbformat_minor": 2
}
