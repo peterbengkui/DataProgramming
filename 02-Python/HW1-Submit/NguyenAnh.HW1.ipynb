{
 "cells": [
  {
   "cell_type": "code",
   "execution_count": 127,
   "metadata": {},
   "outputs": [],
   "source": [
    "#Write a function called \"operate\" that takes as input two numbers, and a string that can be either \"add\" or \"multiply\". \n",
    "#The output should be either the sum or product of the two numbers, depending on the string entered.\n",
    "\n",
    "def operate(a,b,c):\n",
    "    if c == \"add\":\n",
    "        s = a+b\n",
    "        print (s)\n",
    "    if c == \"multiply\":\n",
    "        m = a*b\n",
    "        print (m)"
   ]
  },
  {
   "cell_type": "code",
   "execution_count": 3,
   "metadata": {},
   "outputs": [],
   "source": [
    "#The Fibonacci sequence starts with 1, 1, and each subsequent term is the sum of the preceding two terms. \n",
    "#The first 6 terms of the Fibonacci sequence are: 1, 1, 2, 3, 5, 8, ... \n",
    "#Write a python function that takes one argument N and prints the first N terms of the Fibonacci sequence.\n",
    "\n",
    "def fibonacci(N): \n",
    "    a1 = 1\n",
    "    a2 = 1\n",
    "    count = 0\n",
    "    for count in range (N): \n",
    "        print (a1)\n",
    "        an = a1+a2\n",
    "        a1 = a2\n",
    "        a2 = an\n",
    "        count += 1"
   ]
  },
  {
   "cell_type": "code",
   "execution_count": 4,
   "metadata": {},
   "outputs": [
    {
     "name": "stdout",
     "output_type": "stream",
     "text": [
      "1\n",
      "1\n",
      "2\n",
      "3\n",
      "5\n",
      "8\n",
      "13\n"
     ]
    }
   ],
   "source": [
    "fibonacci(7)"
   ]
  },
  {
   "cell_type": "code",
   "execution_count": 5,
   "metadata": {},
   "outputs": [],
   "source": [
    "#A simple substitution code codes 'a' as 1, 'b' as 2, ..., 'z' as 26. \n",
    "#Write a function called \"encode\" that takes in a string, and prints the coded text. \n",
    "#The output should be a string, with letters separated by \".\". Use \"999\" for punctuation and spaces. \n",
    "#For example, encode(\"Hello!\") should print out \"8.5.12.12.15.999\".\n",
    "\n",
    "def words(word): \n",
    "    wd = word.lower()\n",
    "    Dict = {} \n",
    "    Dict = { 'a': '1.', 'b': '2.', 'c.': '3.', 'd':'4.', 'e':'5.','f':'6.','g':'7.','h':'8.','i':'9.',\n",
    "             'j':'10.','k':'11.','l':'12.','m':'13.','n':'14.','o':'15.','p':'16.','q':'17.',\n",
    "            'r':'18.','s':'19.','t':'20.','u':'21.','v':'22.','w':'23.','x':'24.','y':'25.','z':'26.', \n",
    "          '!':'999',' ':'999.','?':'999', '.' :'999', ',':'999', '<':'999','>':'999','(':'999', ')':'999'\n",
    "           }   \n",
    "    for i in range (0, len(word)):\n",
    "        print (Dict[wd[i]],end = '')\n",
    "        i+=1\n",
    "    "
   ]
  },
  {
   "cell_type": "code",
   "execution_count": 6,
   "metadata": {},
   "outputs": [
    {
     "name": "stdout",
     "output_type": "stream",
     "text": [
      "8.9.999.8.5.12.12.15.999"
     ]
    }
   ],
   "source": [
    "words(\"Hi Hello!\")"
   ]
  },
  {
   "cell_type": "code",
   "execution_count": 43,
   "metadata": {},
   "outputs": [],
   "source": [
    "# Write a function called \"describe\" that takes as input a list of numbers, and prints the number of elements in the list, \n",
    "#and the mean, variance, and standard deviation. \n",
    "#The printed quantities should be labeled. \n",
    "#The output should look something like:  number of elements: 12  mean: 0.5  variance: 0.04 standard deviation: 0.2\n",
    "\n",
    "def describe(List):\n",
    "    print (\"Number of elements:\" + str(len(List)))\n",
    "    import statistics \n",
    "    print (\"Mean:\"+ str(statistics.mean(List)))\n",
    "    print (\"Variance:\" + str (statistics.variance(List))) \n",
    "    print (\"Standard Deviation:\" + str(statistics.stdev(List))) \n"
   ]
  },
  {
   "cell_type": "code",
   "execution_count": 44,
   "metadata": {},
   "outputs": [
    {
     "name": "stdout",
     "output_type": "stream",
     "text": [
      "number of elements:4\n",
      "mean:45\n",
      "Variance:1166.6666666666667\n",
      "Standard Deviation:34.15650255319866\n"
     ]
    }
   ],
   "source": [
    "describe([10, 90, 30, 50])"
   ]
  },
  {
   "cell_type": "code",
   "execution_count": null,
   "metadata": {},
   "outputs": [],
   "source": []
  }
 ],
 "metadata": {
  "kernelspec": {
   "display_name": "Python 3",
   "language": "python",
   "name": "python3"
  },
  "language_info": {
   "codemirror_mode": {
    "name": "ipython",
    "version": 3
   },
   "file_extension": ".py",
   "mimetype": "text/x-python",
   "name": "python",
   "nbconvert_exporter": "python",
   "pygments_lexer": "ipython3",
   "version": "3.7.3"
  }
 },
 "nbformat": 4,
 "nbformat_minor": 2
}
