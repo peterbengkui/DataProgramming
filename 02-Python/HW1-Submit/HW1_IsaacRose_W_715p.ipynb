{
 "cells": [
  {
   "cell_type": "markdown",
   "metadata": {},
   "source": [
    "# Assignment HW01\n",
    "\n",
    "## <font color='red'> Deadline: 9/4. </font>\n",
    "\n",
    "### QUESTIONS\n",
    "\n",
    "1. Write a function called \"operate\" that takes as input two numbers, and a string that can be either \"add\" or \"multiply\". The output should be either the sum or product of the two numbers, depending on the string entered.\n",
    "\n",
    "2. The Fibonacci sequence starts with 1, 1, and each subsequent term is the sum of the preceding two terms. The first 6 terms of the Fibonacci sequence are: 1, 1, 2, 3, 5, 8, ... Write a python function that takes one argument N and prints the first N terms of the Fibonacci sequence.\n",
    "\n",
    "3. A simple substitution code codes 'a' as 1, 'b' as 2, ..., 'z' as 26. Write a function called \"encode\" that takes in a string, and prints the coded text. The output should be a string, with letters separated by \".\". Use \"999\" for punctuation and spaces. For example, encode(\"Hello!\") should print out \"8.5.12.12.15.999\".\n",
    "\n",
    "4. The Harmonic series is the sum of 1 + 1/2 + 1/3 + 1/4 + ..... The n<sup>th</sup> Harmonic number H<sub>n</sub> is 1 + 1/2 + 1/3 + ...  + 1/n. Write a python function called \"get_n\" that accepts as input a threshold, and returns n corresponding to the smallest Harmonic number whose value is grater than the threshold. E.g. `get_n(3)` should output 11.\n",
    "\n",
    "5. Write a function called \"describe\" that takes as input a list of numbers, and prints the number of elements in the list, and the mean, variance, and standard deviation. The printed quantities should be labeled. The output should look something like: </br></br>\n",
    "`number of elements: 12` </br>\n",
    "`mean: 0.5` </br>\n",
    "`variance: 0.04` </br>\n",
    "`standard deviation: 0.2`\n"
   ]
  },
  {
   "cell_type": "code",
   "execution_count": 20,
   "metadata": {},
   "outputs": [
    {
     "name": "stdout",
     "output_type": "stream",
     "text": [
      "13\n"
     ]
    }
   ],
   "source": [
    "# 1\n",
    "def operate(x,y):\n",
    "    print(x+y)\n",
    "operate(4,9)"
   ]
  },
  {
   "cell_type": "code",
   "execution_count": null,
   "metadata": {
    "scrolled": false
   },
   "outputs": [],
   "source": [
    "# 2\n",
    "def n_fib():\n",
    "    a = 0\n",
    "    b = 1\n",
    "    # c = a + b\n",
    "    for i in range(int(input())):\n",
    "        print(a +b)\n",
    "        (a, b) = (b, a)\n",
    "        a = a+ b\n",
    "\n",
    "\n",
    "n_fib()"
   ]
  },
  {
   "cell_type": "code",
   "execution_count": 5,
   "metadata": {},
   "outputs": [
    {
     "name": "stdout",
     "output_type": "stream",
     "text": [
      "Type a message: Yeah Buddy!\n",
      "25.5.1.8.999.2.21.4.4.25.999."
     ]
    }
   ],
   "source": [
    "low_let = {\"a\": 1, \"b\": 2, \"c\": 3, \"d\": 4, \"e\": 5, \"f\": 6, \"g\": 7,\n",
    "           \"h\": 8, \"i\": 9, \"j\": 10, \"k\": 11, \"l\": 12, \"m\": 13,\n",
    "           \"n\": 14, \"o\": 15, \"p\": 16, \"q\": 17, \"r\": 18, \"s\": 19,\n",
    "           \"t\": 20, \"u\": 21, \"v\": 22, \"w\": 23, \"x\": 24, \"y\": 25, \"z\": 26}\n",
    "upp_let = {\"A\": 1, \"B\": 2, \"C\": 3, \"D\": 4, \"E\": 5, \"F\": 6, \"G\": 7,\n",
    "           \"H\": 8, \"I\": 9, \"J\": 10, \"K\": 11, \"L\": 12, \"M\": 13,\n",
    "           \"N\": 14, \"O\": 15, \"P\": 16, \"Q\": 17, \"R\": 18, \"S\": 19,\n",
    "           \"T\": 20, \"U\": 21, \"V\": 22, \"W\": 23, \"X\": 24, \"Y\": 25, \"Z\": 26}\n",
    "\n",
    "encode = input(\"Type a message: \")\n",
    "\n",
    "\n",
    "for letter in encode:\n",
    "    if letter == \"a\":\n",
    "        print(low_let.get(\"a\"),'.',sep='', end='')\n",
    "    elif letter == \"b\":\n",
    "        print(low_let.get(\"b\"),'.',sep='', end='')\n",
    "    elif letter == \"c\":\n",
    "        print(low_let.get(\"c\"),'.',sep='', end='')\n",
    "    elif letter == \"d\":\n",
    "        print(low_let.get(\"d\"),'.',sep='', end='')\n",
    "    elif letter == \"e\":\n",
    "        print(low_let.get(\"e\"),'.',sep='', end='')\n",
    "    elif letter == \"f\":\n",
    "        print(low_let.get(\"f\"),'.',sep='', end='')\n",
    "    elif letter == \"g\":\n",
    "        print(low_let.get(\"g\"),'.',sep='', end='')\n",
    "    elif letter == \"h\":\n",
    "        print(low_let.get(\"h\"),'.',sep='', end='')\n",
    "    elif letter == \"i\":\n",
    "        print(low_let.get(\"i\"),'.',sep='', end='')\n",
    "    elif letter == \"j\":\n",
    "        print(low_let.get(\"j\"),'.',sep='', end='')\n",
    "    elif letter == \"k\":\n",
    "        print(low_let.get(\"k\"),'.',sep='', end='')\n",
    "    elif letter == \"l\":\n",
    "        print(low_let.get(\"l\"),'.',sep='', end='')\n",
    "    elif letter == \"m\":\n",
    "        print(low_let.get(\"m\"),'.',sep='', end='')\n",
    "    elif letter == \"n\":\n",
    "        print(low_let.get(\"n\"),'.',sep='', end='')\n",
    "    elif letter == \"o\":\n",
    "        print(low_let.get(\"o\"),'.',sep='', end='')\n",
    "    elif letter == \"p\":\n",
    "        print(low_let.get(\"p\"),'.',sep='', end='')\n",
    "    elif letter == \"q\":\n",
    "        print(low_let.get(\"q\"),'.',sep='', end='')\n",
    "    elif letter == \"r\":\n",
    "        print(low_let.get(\"r\"),'.',sep='', end='')\n",
    "    elif letter == \"s\":\n",
    "        print(low_let.get(\"s\"),'.',sep='', end='')\n",
    "    elif letter == \"t\":\n",
    "        print(low_let.get(\"t\"),'.',sep='', end='')\n",
    "    elif letter == \"u\":\n",
    "        print(low_let.get(\"u\"),'.',sep='', end='')\n",
    "    elif letter == \"v\":\n",
    "        print(low_let.get(\"v\"),'.',sep='', end='')\n",
    "    elif letter == \"w\":\n",
    "        print(low_let.get(\"w\"),'.',sep='', end='')\n",
    "    elif letter == \"x\":\n",
    "        print(low_let.get(\"x\"),'.',sep='', end='')\n",
    "    elif letter == \"y\":\n",
    "        print(low_let.get(\"y\"),'.',sep='', end='')\n",
    "    elif letter == \"z\":\n",
    "        print(low_let.get(\"z\"),'.',sep='', end='')\n",
    "    elif letter == \"A\":\n",
    "        print(upp_let.get(\"A\"),'.',sep='', end='')\n",
    "    elif letter == \"B\":\n",
    "        print(upp_let.get(\"B\"),'.',sep='', end='')\n",
    "    elif letter == \"C\":\n",
    "        print(upp_let.get(\"C\"),'.',sep='', end='')\n",
    "    elif letter == \"D\":\n",
    "        print(upp_let.get(\"D\"),'.',sep='', end='')\n",
    "    elif letter == \"E\":\n",
    "        print(upp_let.get(\"E\"),'.',sep='', end='')\n",
    "    elif letter == \"F\":\n",
    "        print(upp_let.get(\"F\"),'.',sep='', end='')\n",
    "    elif letter == \"G\":\n",
    "        print(upp_let.get(\"G\"),'.',sep='', end='')\n",
    "    elif letter == \"H\":\n",
    "        print(upp_let.get(\"H\"),'.',sep='', end='')\n",
    "    elif letter == \"I\":\n",
    "        print(upp_let.get(\"I\"),'.',sep='', end='')\n",
    "    elif letter == \"J\":\n",
    "        print(upp_let.get(\"J\"),'.',sep='', end='')\n",
    "    elif letter == \"K\":\n",
    "        print(upp_let.get(\"K\"),'.',sep='', end='')\n",
    "    elif letter == \"L\":\n",
    "        print(upp_let.get(\"L\"),'.',sep='', end='')\n",
    "    elif letter == \"M\":\n",
    "        print(upp_let.get(\"M\"),'.',sep='', end='')\n",
    "    elif letter == \"N\":\n",
    "        print(upp_let.get(\"N\"),'.',sep='', end='')\n",
    "    elif letter == \"O\":\n",
    "        print(upp_let.get(\"O\"),'.',sep='', end='')\n",
    "    elif letter == \"P\":\n",
    "        print(upp_let.get(\"P\"),'.',sep='', end='')\n",
    "    elif letter == \"Q\":\n",
    "        print(upp_let.get(\"Q\"),'.',sep='', end='')\n",
    "    elif letter == \"R\":\n",
    "        print(upp_let.get(\"R\"),'.',sep='', end='')\n",
    "    elif letter == \"S\":\n",
    "        print(upp_let.get(\"S\"),'.',sep='', end='')\n",
    "    elif letter == \"T\":\n",
    "        print(upp_let.get(\"T\"),'.',sep='', end='')\n",
    "    elif letter == \"U\":\n",
    "        print(upp_let.get(\"U\"),'.',sep='', end='')\n",
    "    elif letter == \"V\":\n",
    "        print(upp_let.get(\"V\"),'.',sep='', end='')\n",
    "    elif letter == \"W\":\n",
    "        print(upp_let.get(\"W\"),'.',sep='', end='')\n",
    "    elif letter == \"X\":\n",
    "        print(upp_let.get(\"X\"),'.',sep='', end='')\n",
    "    elif letter == \"Y\":\n",
    "        print(upp_let.get(\"Y\"),'.',sep='', end='')\n",
    "    elif letter == \"Z\":\n",
    "        print(upp_let.get(\"Z\"),'.',sep='', end='')\n",
    "    else:\n",
    "        print('999','.',sep='', end='')\n"
   ]
  },
  {
   "cell_type": "code",
   "execution_count": 2,
   "metadata": {},
   "outputs": [
    {
     "name": "stdout",
     "output_type": "stream",
     "text": [
      "11\n"
     ]
    }
   ],
   "source": [
    "def get(n):\n",
    "    count = 0 \n",
    "    sum = 0 \n",
    "    while sum<n:\n",
    "        add = 1/(count + 1)\n",
    "        sum += add\n",
    "        count += 1\n",
    "        string = count\n",
    "    print(string)\n",
    "\n",
    "get(3)"
   ]
  },
  {
   "cell_type": "code",
   "execution_count": 13,
   "metadata": {},
   "outputs": [
    {
     "name": "stdout",
     "output_type": "stream",
     "text": [
      "number of elements: 7\n",
      "68.42901878768173\n",
      "4682.530612244898\n",
      "31.428571428571427\n"
     ]
    }
   ],
   "source": [
    "# Write a function called \"describe\" that takes as input a list of numbers, and prints the number of elements in the list, and the mean, variance, and standard deviation. \n",
    "# The printed quantities should be labeled. \n",
    "# The output should look something like:  number of elements: 12  mean: 0.5  variance: 0.04 standard deviation: 0.2\n",
    "import numpy as np\n",
    "list = [1,2,3,4,5,6,199]\n",
    "def describe(list):\n",
    "    print(\"number of elements:\", len(list))\n",
    "    print(np.std(list))\n",
    "    print(np.var(list))\n",
    "    print(np.mean(list))\n",
    "describe(list)\n",
    "\n",
    "\n",
    "    "
   ]
  },
  {
   "cell_type": "code",
   "execution_count": null,
   "metadata": {},
   "outputs": [],
   "source": []
  },
  {
   "cell_type": "code",
   "execution_count": null,
   "metadata": {},
   "outputs": [],
   "source": []
  }
 ],
 "metadata": {
  "kernelspec": {
   "display_name": "Python 3",
   "language": "python",
   "name": "python3"
  }
 },
 "nbformat": 4,
 "nbformat_minor": 2
}
