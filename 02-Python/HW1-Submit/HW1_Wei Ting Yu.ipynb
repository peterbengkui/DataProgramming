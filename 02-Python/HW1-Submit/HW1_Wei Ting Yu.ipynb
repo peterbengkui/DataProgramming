{
 "cells": [
  {
   "cell_type": "markdown",
   "metadata": {},
   "source": [
    "# Assignment HW01\n",
    "\n",
    "## <font color='red'> Deadline: 9/4. </font>\n",
    "\n",
    "### QUESTIONS\n",
    "\n",
    "1. Write a function called \"operate\" that takes as input two numbers, and a string that can be either \"add\" or \"multiply\". The output should be either the sum or product of the two numbers, depending on the string entered.\n",
    "\n",
    "2. The Fibonacci sequence starts with 1, 1, and each subsequent term is the sum of the preceding two terms. The first 6 terms of the Fibonacci sequence are: 1, 1, 2, 3, 5, 8, ... Write a python function that takes one argument N and prints the first N terms of the Fibonacci sequence.\n",
    "\n",
    "3. A simple substitution code codes 'a' as 1, 'b' as 2, ..., 'z' as 26. Write a function called \"encode\" that takes in a string, and prints the coded text. The output should be a string, with letters separated by \".\". Use \"999\" for punctuation and spaces. For example, encode(\"Hello!\") should print out \"8.5.12.12.15.999\".\n",
    "\n",
    "4. The Harmonic series is the sum of 1 + 1/2 + 1/3 + 1/4 + ..... The n<sup>th</sup> Harmonic number H<sub>n</sub> is 1 + 1/2 + 1/3 + ...  + 1/n. Write a python function called \"get_n\" that accepts as input a threshold, and returns n corresponding to the smallest Harmonic number whose value is grater than the threshold. E.g. `get_n(3)` should output 11.\n",
    "\n",
    "5. Write a function called \"describe\" that takes as input a list of numbers, and prints the number of elements in the list, and the mean, variance, and standard deviation. The printed quantities should be labeled. The output should look something like: </br></br>\n",
    "`number of elements: 12` </br>\n",
    "`mean: 0.5` </br>\n",
    "`variance: 0.04` </br>\n",
    "`standard deviation: 0.2`\n"
   ]
  },
  {
   "cell_type": "code",
   "execution_count": 3,
   "metadata": {},
   "outputs": [
    {
     "data": {
      "text/plain": [
       "4"
      ]
     },
     "execution_count": 3,
     "metadata": {},
     "output_type": "execute_result"
    }
   ],
   "source": [
    "#1\n",
    "def operate(a,b,c):\n",
    "    if c==\"add\":\n",
    "        return a+b\n",
    "    elif c==\"multiply\":\n",
    "        return a*b\n",
    "operate(1,3,\"add\") \n",
    "     "
   ]
  },
  {
   "cell_type": "code",
   "execution_count": 16,
   "metadata": {},
   "outputs": [
    {
     "name": "stdout",
     "output_type": "stream",
     "text": [
      "n7\n",
      "[1, 1, 2, 3, 5, 8, 13]\n"
     ]
    }
   ],
   "source": [
    "#2\n",
    "n=int(input(\"n\"))\n",
    "a=1\n",
    "b=[]\n",
    "for i in range(n):\n",
    "    if i==0 or i==1:\n",
    "        a=1\n",
    "        b.append(a)\n",
    "    elif i!=0 and i!=1:\n",
    "        a=b[(i-2)]+b[(i-1)]\n",
    "        b.append(a)\n",
    "print (b)"
   ]
  },
  {
   "cell_type": "code",
   "execution_count": 117,
   "metadata": {},
   "outputs": [],
   "source": [
    "#3\n",
    "def letter(l):\n",
    " if l==\"a\":\n",
    "       ll=\"1.\"\n",
    "    \n",
    " elif l==\"b\":\n",
    "       ll=\"2.\"\n",
    " elif l==\"c\":\n",
    "       ll=\"3.\"\n",
    " elif l==\"d\":\n",
    "       ll=\"4.\"\n",
    " elif l==\"e\":\n",
    "       ll=\"5.\"\n",
    " elif l==\"f\":\n",
    "       ll=\"6.\"\n",
    " elif l==\"g\":\n",
    "       ll=\"7.\"\n",
    " elif l==\"h\":\n",
    "       ll=\"8.\"\n",
    " elif l==\"i\":\n",
    "       ll=\"9.\"\n",
    "    \n",
    " elif l==\"j\":\n",
    "       ll=\"10.\"\n",
    " elif l==\"k\":\n",
    "       ll=\"11.\"\n",
    " elif l==\"l\":\n",
    "       ll=\"12.\"\n",
    " elif l==\"m\":\n",
    "       ll=\"13.\"\n",
    " elif l==\"n\":\n",
    "       ll=\"14.\"\n",
    " elif l==\"o\":\n",
    "       ll=\"15.\"\n",
    " elif l==\"p\":\n",
    "       ll=\"16.\"\n",
    " elif l==\"q\":\n",
    "       ll=\"17.\"\n",
    "    \n",
    " elif l==\"r\":\n",
    "       ll=\"18.\"\n",
    " elif l==\"s\":\n",
    "       ll=\"19.\"\n",
    " elif l==\"t\":\n",
    "       ll=\"20.\"\n",
    " elif l==\"u\":\n",
    "       ll=\"21.\"\n",
    " elif l==\"v\":\n",
    "       ll=\"22.\"\n",
    " elif l==\"w\":\n",
    "       ll=\"23.\"\n",
    " elif l==\"x\":\n",
    "       ll=\"24.\"\n",
    " elif l==\"y\":\n",
    "       ll=\"25.\"\n",
    "    \n",
    " elif l==\"z\":\n",
    "       ll=\"26.\"\n",
    " else:\n",
    "    ll=\"999\"\n",
    "     \n",
    " return ll\n"
   ]
  },
  {
   "cell_type": "code",
   "execution_count": 122,
   "metadata": {},
   "outputs": [
    {
     "name": "stdout",
     "output_type": "stream",
     "text": [
      "hello!\n"
     ]
    },
    {
     "data": {
      "text/plain": [
       "'8.5.12.12.15.999'"
      ]
     },
     "execution_count": 122,
     "metadata": {},
     "output_type": "execute_result"
    }
   ],
   "source": [
    "#3\n",
    "def incode(c):\n",
    "\n",
    " b=c.lower()\n",
    " len_b=len(b)\n",
    " a=\"\"\n",
    " for i in range(len_b):\n",
    "  a=a+letter(b[i])\n",
    " return a\n",
    "test=input()\n",
    "incode(test)"
   ]
  },
  {
   "cell_type": "code",
   "execution_count": 36,
   "metadata": {},
   "outputs": [
    {
     "data": {
      "text/plain": [
       "4"
      ]
     },
     "execution_count": 36,
     "metadata": {},
     "output_type": "execute_result"
    }
   ],
   "source": [
    "#4  \n",
    "def get_n(x):\n",
    " sum_h=0\n",
    " a=1\n",
    " while sum_h<x:\n",
    "    sum_h=sum_h+1/a\n",
    "    a=a+1\n",
    " return a-1\n",
    "get_n(2)\n",
    "    "
   ]
  },
  {
   "cell_type": "code",
   "execution_count": 29,
   "metadata": {},
   "outputs": [
    {
     "data": {
      "text/plain": [
       "'number of elements: 5  mean: 3.5 variance: 2.25  standard deviation:1.5'"
      ]
     },
     "execution_count": 29,
     "metadata": {},
     "output_type": "execute_result"
    }
   ],
   "source": [
    "#5\n",
    "import numpy as np\n",
    "def describe(a_list):\n",
    "    a_len=len(a_list)\n",
    "    a_mean=np.mean(a)\n",
    "    a_var=np.var(a)\n",
    "    a_std=np.std(a)\n",
    "    return f\"number of elements: {a_len}  mean: {a_mean} variance: {a_var}  standard deviation:{a_std}\"\n",
    "describe([1,3,4,5,6])"
   ]
  },
  {
   "cell_type": "code",
   "execution_count": null,
   "metadata": {},
   "outputs": [],
   "source": []
  },
  {
   "cell_type": "code",
   "execution_count": null,
   "metadata": {},
   "outputs": [],
   "source": []
  },
  {
   "cell_type": "code",
   "execution_count": null,
   "metadata": {},
   "outputs": [],
   "source": []
  },
  {
   "cell_type": "code",
   "execution_count": null,
   "metadata": {},
   "outputs": [],
   "source": []
  },
  {
   "cell_type": "code",
   "execution_count": null,
   "metadata": {},
   "outputs": [],
   "source": []
  }
 ],
 "metadata": {
  "kernelspec": {
   "display_name": "Python 3",
   "language": "python",
   "name": "python3"
  },
  "language_info": {
   "codemirror_mode": {
    "name": "ipython",
    "version": 3
   },
   "file_extension": ".py",
   "mimetype": "text/x-python",
   "name": "python",
   "nbconvert_exporter": "python",
   "pygments_lexer": "ipython3",
   "version": "3.7.3"
  }
 },
 "nbformat": 4,
 "nbformat_minor": 2
}
