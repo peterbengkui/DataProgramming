{
 "cells": [
  {
   "cell_type": "markdown",
   "metadata": {},
   "source": [
    "# Assignment HW01\n",
    "\n",
    "## <font color='red'> Deadline: 9/4. </font>\n",
    "\n",
    "### QUESTIONS\n",
    "\n",
    "1. Write a function called \"operate\" that takes as input two numbers, and a string that can be either \"add\" or \"multiply\". The output should be either the sum or product of the two numbers, depending on the string entered.\n",
    "\n",
    "2. The Fibonacci sequence starts with 1, 1, and each subsequent term is the sum of the preceding two terms. The first 6 terms of the Fibonacci sequence are: 1, 1, 2, 3, 5, 8, ... Write a python function that takes one argument N and prints the first N terms of the Fibonacci sequence.\n",
    "\n",
    "3. A simple substitution code codes 'a' as 1, 'b' as 2, ..., 'z' as 26. Write a function called \"encode\" that takes in a string, and prints the coded text. The output should be a string, with letters separated by \".\". Use \"999\" for punctuation and spaces. For example, encode(\"Hello!\") should print out \"8.5.12.12.15.999\".\n",
    "\n",
    "4. The Harmonic series is the sum of 1 + 1/2 + 1/3 + 1/4 + ..... The n<sup>th</sup> Harmonic number H<sub>n</sub> is 1 + 1/2 + 1/3 + ...  + 1/n. Write a python function called \"get_n\" that accepts as input a threshold, and returns n corresponding to the smallest Harmonic number whose value is grater than the threshold. E.g. `get_n(3)` should output 11.\n",
    "\n",
    "5. Write a function called \"describe\" that takes as input a list of numbers, and prints the number of elements in the list, and the mean, variance, and standard deviation. The printed quantities should be labeled. The output should look something like: </br></br>\n",
    "`number of elements: 12` </br>\n",
    "`mean: 0.5` </br>\n",
    "`variance: 0.04` </br>\n",
    "`standard deviation: 0.2`\n"
   ]
  },
  {
   "cell_type": "code",
   "execution_count": 427,
   "metadata": {},
   "outputs": [],
   "source": [
    "#Question4\n",
    "def get_n(thresh):\n",
    "    har = 0\n",
    "    for i in range(1, thresh + 1):\n",
    "        har = har + 1 / i\n",
    "        i = i + 1\n",
    "    while har <= thresh:\n",
    "        har = har + 1 / i\n",
    "        if har > thresh:\n",
    "            print (i)\n",
    "            break\n",
    "        else:\n",
    "            i = i + 1\n",
    "    print (har)"
   ]
  },
  {
   "cell_type": "code",
   "execution_count": 431,
   "metadata": {},
   "outputs": [
    {
     "name": "stdout",
     "output_type": "stream",
     "text": [
      "31\n",
      "4.02724519543652\n"
     ]
    }
   ],
   "source": [
    "get_n(4)"
   ]
  },
  {
   "cell_type": "code",
   "execution_count": 432,
   "metadata": {},
   "outputs": [],
   "source": [
    "#Question5\n",
    "\n",
    "def describe(list):\n",
    "    length = len(list)\n",
    "    print (\"number of elements: %s\" % length)\n",
    "    summ = 0\n",
    "    i = 0\n",
    "    for i in range(0,length):\n",
    "        summ = summ + list[i]\n",
    "        i = i + 1\n",
    "    mean = summ / length\n",
    "    print (\"mean: %.1f\" % mean)\n",
    "    varsum = 0\n",
    "    for i in range(0, length):\n",
    "        varsum = varsum + (list[i] - mean) ** 2\n",
    "        i = i + 1\n",
    "    variance = varsum / (length - 1)\n",
    "    print (\"variance: %.2f\" % variance)\n",
    "    stdvar = variance ** 0.5\n",
    "    print (\"standard deviation: %0.1f\" % stdvar)\n",
    "        "
   ]
  },
  {
   "cell_type": "code",
   "execution_count": 433,
   "metadata": {},
   "outputs": [
    {
     "name": "stdout",
     "output_type": "stream",
     "text": [
      "number of elements: 3\n",
      "mean: 2.0\n",
      "variance: 1.00\n",
      "standard deviation: 1.0\n"
     ]
    }
   ],
   "source": [
    "list = [1,2,3]\n",
    "describe(list)"
   ]
  },
  {
   "cell_type": "code",
   "execution_count": 435,
   "metadata": {},
   "outputs": [
    {
     "name": "stdout",
     "output_type": "stream",
     "text": [
      "<built-in method count of list object at 0x1067a6088>\n"
     ]
    }
   ],
   "source": [
    "list = [1,2,3]\n",
    "print (list.count)"
   ]
  },
  {
   "cell_type": "code",
   "execution_count": null,
   "metadata": {},
   "outputs": [],
   "source": []
  },
  {
   "cell_type": "code",
   "execution_count": 436,
   "metadata": {},
   "outputs": [],
   "source": [
    "#Question1 "
   ]
  },
  {
   "cell_type": "code",
   "execution_count": 19,
   "metadata": {},
   "outputs": [],
   "source": [
    "def operate(a,b):\n",
    "    #Name the addition and multiplication\n",
    "    addi = a + b\n",
    "    multi = a * b\n",
    "    #The output should be either the sum or product of the two numbers.\n",
    "    #Create a condition environment\n",
    "    if a > b:\n",
    "        print (\"The sum of %s and %s is %s\" % (a, b, addi))\n",
    "    else:\n",
    "        print (\"The product of %s and %s is %s\" % (a, b, multi))\n",
    "    "
   ]
  },
  {
   "cell_type": "code",
   "execution_count": 20,
   "metadata": {},
   "outputs": [
    {
     "name": "stdout",
     "output_type": "stream",
     "text": [
      "The sum of 3 and 1 is 4\n"
     ]
    }
   ],
   "source": [
    "operate(3,1)"
   ]
  },
  {
   "cell_type": "code",
   "execution_count": 21,
   "metadata": {},
   "outputs": [
    {
     "name": "stdout",
     "output_type": "stream",
     "text": [
      "The product of 4 and 5 is 20\n"
     ]
    }
   ],
   "source": [
    "operate(4, 5)"
   ]
  },
  {
   "cell_type": "code",
   "execution_count": 149,
   "metadata": {},
   "outputs": [],
   "source": [
    "#Question2\n",
    "def Fibo(n):\n",
    "    if n <= 0:\n",
    "        print (\"Please enter a positive integer.\")\n",
    "    elif n == 1:\n",
    "        # This is a special case. I singled it out to make it easier.\n",
    "        print (\"The first term in Fibonacci series is 1\")\n",
    "    else:\n",
    "        i = 2\n",
    "        npp = 0\n",
    "        np = 1\n",
    "        print (\"The first %s terms in Fibonacci series are:\" % n)\n",
    "        # I want to create a overarching statement here. I don't want to repeat it.\n",
    "        # So I wrote it outside of the for loop.\n",
    "        print (1)\n",
    "        # Because I am going to print out first n terms, I want to start a new line for\n",
    "        # this special case.\n",
    "        for i in range(2, n+1):\n",
    "            # Create a for loop\n",
    "            # range will decrease 1 from n, so I added 1 to n\n",
    "            fib = np + npp\n",
    "            # Fib should be the sum of two previous terms\n",
    "            print (fib)\n",
    "            # print each new Fibonacci term\n",
    "            i = i + 1\n",
    "            # increase the index number so that the loop will end\n",
    "            npp = np\n",
    "            # npp becomes np\n",
    "            np = fib\n",
    "            # and np becomes the new fib\n",
    "            # loop again"
   ]
  },
  {
   "cell_type": "code",
   "execution_count": 150,
   "metadata": {},
   "outputs": [
    {
     "name": "stdout",
     "output_type": "stream",
     "text": [
      "Please enter a positive integer.\n"
     ]
    }
   ],
   "source": [
    "Fibo(-2)"
   ]
  },
  {
   "cell_type": "code",
   "execution_count": 151,
   "metadata": {},
   "outputs": [
    {
     "name": "stdout",
     "output_type": "stream",
     "text": [
      "Please enter a positive integer.\n"
     ]
    }
   ],
   "source": [
    "Fibo(0)"
   ]
  },
  {
   "cell_type": "code",
   "execution_count": 376,
   "metadata": {},
   "outputs": [],
   "source": [
    "#Question3\n",
    "def encode(input):\n",
    "    output = []\n",
    "    import string as str \n",
    "    Dict = {'a':1, 'b':2, 'c':3, 'd':4, 'e':5, 'f':6, 'g':7, 'h':8,\n",
    "    'i':9, 'j':10, 'k':11, 'l':12, 'm':13, 'n':14, 'o':15, 'p':16, 'q':17,\n",
    "    'r':18, 's':19, 't':20, 'u':21, 'v':22, 'w':23, 'x':24, 'y':25, 'z':26, ' ':999}\n",
    "    \n",
    "    lower = input.lower()\n",
    "    \n",
    "    length = len(lower)\n",
    "    i = 0\n",
    "    for i in range(0, length):\n",
    "        print (i)\n",
    "        letter = lower[i]\n",
    "        print (lower[i])\n",
    "        if letter in Dict:\n",
    "            output = Dict.get(letter)\n",
    "            print (output)\n",
    "            \n",
    "        "
   ]
  },
  {
   "cell_type": "code",
   "execution_count": null,
   "metadata": {},
   "outputs": [],
   "source": []
  }
 ],
 "metadata": {
  "kernelspec": {
   "display_name": "Python 3",
   "language": "python",
   "name": "python3"
  },
  "language_info": {
   "codemirror_mode": {
    "name": "ipython",
    "version": 3
   },
   "file_extension": ".py",
   "mimetype": "text/x-python",
   "name": "python",
   "nbconvert_exporter": "python",
   "pygments_lexer": "ipython3",
   "version": "3.7.3"
  }
 },
 "nbformat": 4,
 "nbformat_minor": 2
}
