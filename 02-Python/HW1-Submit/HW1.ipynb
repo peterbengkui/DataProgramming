{
 "cells": [
  {
   "cell_type": "markdown",
   "metadata": {},
   "source": [
    "# Assignment HW01\n",
    "\n",
    "## <font color='red'> Deadline: 9/4. </font>\n",
    "\n",
    "### QUESTIONS\n",
    "\n",
    "1. Write a function called \"operate\" that takes as input two numbers, and a string that can be either \"add\" or \"multiply\". The output should be either the sum or product of the two numbers, depending on the string entered.\n",
    "\n",
    "2. The Fibonacci sequence starts with 1, 1, and each subsequent term is the sum of the preceding two terms. The first 6 terms of the Fibonacci sequence are: 1, 1, 2, 3, 5, 8, ... Write a python function that takes one argument N and prints the first N terms of the Fibonacci sequence.\n",
    "\n",
    "3. A simple substitution code codes 'a' as 1, 'b' as 2, ..., 'z' as 26. Write a function called \"encode\" that takes in a string, and prints the coded text. The output should be a string, with letters separated by \".\". Use \"999\" for punctuation and spaces. For example, encode(\"Hello!\") should print out \"8.5.12.12.15.999\".\n",
    "\n",
    "4. The Harmonic series is the sum of 1 + 1/2 + 1/3 + 1/4 + ..... The n<sup>th</sup> Harmonic number H<sub>n</sub> is 1 + 1/2 + 1/3 + ...  + 1/n. Write a python function called \"get_n\" that accepts as input a threshold, and returns n corresponding to the smallest Harmonic number whose value is grater than the threshold. E.g. `get_n(3)` should output 11.\n",
    "\n",
    "5. Write a function called \"describe\" that takes as input a list of numbers, and prints the number of elements in the list, and the mean, variance, and standard deviation. The printed quantities should be labeled. The output should look something like: </br></br>\n",
    "`number of elements: 12` </br>\n",
    "`mean: 0.5` </br>\n",
    "`variance: 0.04` </br>\n",
    "`standard deviation: 0.2`\n"
   ]
  },
  {
   "cell_type": "code",
   "execution_count": 14,
   "metadata": {
    "scrolled": false
   },
   "outputs": [
    {
     "name": "stdout",
     "output_type": "stream",
     "text": [
      "Result: 31\n"
     ]
    }
   ],
   "source": [
    "def operate(num1,num2,str1):\n",
    "    if str1=='add':\n",
    "        s=num1+num2\n",
    "    elif str1=='multiply':\n",
    "        s=num1*num2\n",
    "    print('Result:',s)\n",
    "#enter the numbers and select the desired operation\n",
    "operate(12,19,'add')"
   ]
  },
  {
   "cell_type": "code",
   "execution_count": 15,
   "metadata": {},
   "outputs": [
    {
     "name": "stdout",
     "output_type": "stream",
     "text": [
      "N Fibonacci terms?8\n",
      "1 1 2 3 5 8 13 21 "
     ]
    }
   ],
   "source": [
    "#ask user for Fibonacci terms\n",
    "terms = int(input(\"N Fibonacci terms?\"))\n",
    "\n",
    "n1 = 1\n",
    "n2 = 1\n",
    "count = 0\n",
    "\n",
    "if terms == 1:\n",
    "    print(n1)\n",
    "else:\n",
    "    while count < terms:\n",
    "        print(n1,end=' ')\n",
    "        nfinal = n1 + n2\n",
    "        n1 = n2\n",
    "        n2 = nfinal\n",
    "        count=count+1"
   ]
  },
  {
   "cell_type": "code",
   "execution_count": 16,
   "metadata": {},
   "outputs": [
    {
     "name": "stdout",
     "output_type": "stream",
     "text": [
      "Type a word to encode:Juan Camilo\n",
      "10.21.1.14.999.3.1.13.9.12.15."
     ]
    }
   ],
   "source": [
    "Dict= {'a':1,'b':2,'c':3,'d':4,'e':5,'f':6,'g':7,'h':8,'i':9,'j':10,'k':11,'l':12,'m':13,'n':14,'o':15,'p':16,'q':17,'r':18,'s':19,'t':20,'u':21,'v':22,'w':23,'x':24,'y':25,'z':26}\n",
    "word = str(input(\"Type a word to encode:\")).lower()\n",
    "count = 0\n",
    "while count < len(word):\n",
    "    if Dict.get(word[count])==None:\n",
    "        print(999,end='.')\n",
    "        count=count+1\n",
    "    else:\n",
    "        print(Dict.get(word[count]),end='.')\n",
    "        count=count+1"
   ]
  },
  {
   "cell_type": "code",
   "execution_count": 17,
   "metadata": {},
   "outputs": [
    {
     "name": "stdout",
     "output_type": "stream",
     "text": [
      "Define Threshold:8\n",
      "1674\n"
     ]
    }
   ],
   "source": [
    "def get_n(wall):\n",
    "    count = 1\n",
    "    output = 0\n",
    "    while output < wall:\n",
    "        output=output+(1/count)\n",
    "        count=count+1\n",
    "    print(count-1)\n",
    "\n",
    "threshold = int(input(\"Define Threshold:\"))\n",
    "get_n(threshold)"
   ]
  },
  {
   "cell_type": "code",
   "execution_count": 19,
   "metadata": {},
   "outputs": [
    {
     "name": "stdout",
     "output_type": "stream",
     "text": [
      "Number of elements: 10\n",
      "Mean: 5.5\n",
      "Variance: 8.25\n",
      "Standard Deviation: 2.8722813232690143\n"
     ]
    }
   ],
   "source": [
    "import math\n",
    "def describe(listn):\n",
    "    e=len(listn)\n",
    "    m=sum(listn)/e\n",
    "    var=sum((xi-m)**2 for xi in listn)/e\n",
    "    sd=math.sqrt(var)\n",
    "    print('Number of elements:',e)\n",
    "    print('Mean:',m)\n",
    "    print('Variance:',var)\n",
    "    print('Standard Deviation:',sd)\n",
    "\n",
    "terms_list=[1,2,3,4,5,6,7,8,9,10]\n",
    "\n",
    "describe(terms_list)"
   ]
  }
 ],
 "metadata": {
  "kernelspec": {
   "display_name": "Python 3",
   "language": "python",
   "name": "python3"
  },
  "language_info": {
   "codemirror_mode": {
    "name": "ipython",
    "version": 3
   },
   "file_extension": ".py",
   "mimetype": "text/x-python",
   "name": "python",
   "nbconvert_exporter": "python",
   "pygments_lexer": "ipython3",
   "version": "3.6.8"
  }
 },
 "nbformat": 4,
 "nbformat_minor": 2
}
