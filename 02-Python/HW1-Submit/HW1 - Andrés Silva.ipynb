{
 "cells": [
  {
   "cell_type": "markdown",
   "metadata": {},
   "source": [
    "# Assignment HW01\n",
    "\n",
    "## <font color='red'> Deadline: 9/4. </font>\n",
    "\n",
    "### QUESTIONS\n",
    "\n",
    "1. Write a function called \"operate\" that takes as input two numbers, and a string that can be either \"add\" or \"multiply\". The output should be either the sum or product of the two numbers, depending on the string entered.\n",
    "\n",
    "2. The Fibonacci sequence starts with 1, 1, and each subsequent term is the sum of the preceding two terms. The first 6 terms of the Fibonacci sequence are: 1, 1, 2, 3, 5, 8, ... Write a python function that takes one argument N and prints the first N terms of the Fibonacci sequence.\n",
    "\n",
    "3. A simple substitution code codes 'a' as 1, 'b' as 2, ..., 'z' as 26. Write a function called \"encode\" that takes in a string, and prints the coded text. The output should be a string, with letters separated by \".\". Use \"999\" for punctuation and spaces. For example, encode(\"Hello!\") should print out \"8.5.12.12.15.999\".\n",
    "\n",
    "4. The Harmonic series is the sum of 1 + 1/2 + 1/3 + 1/4 + ..... The n<sup>th</sup> Harmonic number H<sub>n</sub> is 1 + 1/2 + 1/3 + ...  + 1/n. Write a python function called \"get_n\" that accepts as input a threshold, and returns n corresponding to the smallest Harmonic number whose value is grater than the threshold. E.g. `get_n(3)` should output 11.\n",
    "\n",
    "5. Write a function called \"describe\" that takes as input a list of numbers, and prints the number of elements in the list, and the mean, variance, and standard deviation. The printed quantities should be labeled. The output should look something like: </br></br>\n",
    "`number of elements: 12` </br>\n",
    "`mean: 0.5` </br>\n",
    "`variance: 0.04` </br>\n",
    "`standard deviation: 0.2`\n"
   ]
  },
  {
   "cell_type": "markdown",
   "metadata": {},
   "source": [
    "# 1. Operate Function"
   ]
  },
  {
   "cell_type": "code",
   "execution_count": 9,
   "metadata": {},
   "outputs": [],
   "source": [
    "def operate(num1, num2, string):\n",
    "    if string == 'add':\n",
    "        Answer = num1 + num2\n",
    "    elif string == 'multiply':\n",
    "        Answer = num1 * num2\n",
    "    else:\n",
    "        Answer = 'Wrong string'\n",
    "    \n",
    "    return Answer"
   ]
  },
  {
   "cell_type": "code",
   "execution_count": 10,
   "metadata": {},
   "outputs": [
    {
     "name": "stdout",
     "output_type": "stream",
     "text": [
      "Addition: 5\n",
      "Product : 6\n",
      "Wrong   : Wrong string\n"
     ]
    }
   ],
   "source": [
    "print('Addition: ' + str(operate(3,2,'add')))\n",
    "print('Product : ' + str(operate(3,2,'multiply')))\n",
    "print('Wrong   : ' + str(operate(3,2,'substract')))"
   ]
  },
  {
   "cell_type": "markdown",
   "metadata": {},
   "source": [
    "# 2. Fibonacci Sequence"
   ]
  },
  {
   "cell_type": "code",
   "execution_count": 11,
   "metadata": {},
   "outputs": [],
   "source": [
    "def Fibonacci(N):\n",
    "    ok = False\n",
    "    \n",
    "    #Check if argument is a whole number\n",
    "    if isinstance(N, int):\n",
    "        ok = True\n",
    "    elif isinstance(N, float):\n",
    "        if N.is_integer():\n",
    "            ok = True\n",
    "            N = int(N)\n",
    "    else:\n",
    "        pass\n",
    "    \n",
    "    #IF not a whole number\n",
    "    if ok == False:\n",
    "        fib = 'Wrong argument. Should be a Whole Number'\n",
    "    else:\n",
    "        #If a whole number, check for valid input\n",
    "        if N <= 0:\n",
    "            fib = 'Wrong argument. Should be greater than 0.'\n",
    "        else:\n",
    "            #If valid input, perform Fibonacci\n",
    "            fib = [1,1]\n",
    "            for i in range(1, N-1):\n",
    "                fib = fib + [fib[i]+fib[i-1]]\n",
    "            \n",
    "    return fib"
   ]
  },
  {
   "cell_type": "code",
   "execution_count": 12,
   "metadata": {},
   "outputs": [
    {
     "name": "stdout",
     "output_type": "stream",
     "text": [
      "Fibonacci(2) = [1, 1]\n",
      "Fibonacci(2.0) = [1, 1]\n",
      "Fibonacci(8) = [1, 1, 2, 3, 5, 8, 13, 21]\n",
      "Fibonacci(a) = Wrong argument. Should be a Whole Number\n",
      "Fibonacci(0) = Wrong argument. Should be greater than 0.\n"
     ]
    }
   ],
   "source": [
    "#Without Formatting:\n",
    "for N in [2,2.,8,'a',0]:\n",
    "    print('Fibonacci(' + str(N) + ') = ' + str(Fibonacci(N)))"
   ]
  },
  {
   "cell_type": "code",
   "execution_count": 13,
   "metadata": {},
   "outputs": [
    {
     "name": "stdout",
     "output_type": "stream",
     "text": [
      "Fibonacci(2)    =  [1, 1]\n",
      "Fibonacci(2.0)  =  [1, 1]\n",
      "Fibonacci(8)    =  [1, 1, 2, 3, 5, 8, 13, 21]\n",
      "Fibonacci(a)    =  Wrong argument. Should be a Whole Number\n",
      "Fibonacci(0)    =  Wrong argument. Should be greater than 0.\n"
     ]
    }
   ],
   "source": [
    "#With Formatting:\n",
    "for N in [2,2.,8,'a',0]:\n",
    "    print(\"{0:15s} {1:s} {2:s}\".format('Fibonacci(' + str(N) + ')', '= ', str(Fibonacci(N)) ) ) "
   ]
  },
  {
   "cell_type": "markdown",
   "metadata": {},
   "source": [
    "# 3. Substitution Code"
   ]
  },
  {
   "cell_type": "code",
   "execution_count": 2,
   "metadata": {},
   "outputs": [],
   "source": [
    "def replaceMultiple(Original,List,ReplaceValue):\n",
    "    for x in List:\n",
    "        Original = Original.replace(x,ReplaceValue)\n",
    "    \n",
    "    return Original"
   ]
  },
  {
   "cell_type": "code",
   "execution_count": 73,
   "metadata": {},
   "outputs": [],
   "source": [
    "import string\n",
    "\n",
    "def Encode(Text):\n",
    "    Letters = list(string.ascii_uppercase) ##len() = 26\n",
    "    \n",
    "    List = ['.'] #Has to be the first one.\n",
    "    List = List + [' ',',','!',':','#','$','%','&','/','+','-','<','>']\n",
    "    Text = replaceMultiple(Text,List,'999.')\n",
    "    \n",
    "    New = ''\n",
    "    for l in Text:\n",
    "        if l.upper() in Letters:\n",
    "            New = New + str(Letters.index(l.upper())+1) + '.'\n",
    "        else:\n",
    "            New = New + l\n",
    "    \n",
    "    return New"
   ]
  },
  {
   "cell_type": "code",
   "execution_count": 74,
   "metadata": {},
   "outputs": [
    {
     "name": "stdout",
     "output_type": "stream",
     "text": [
      "Hello!\n",
      "8.5.12.12.15.999.\n",
      "Hello! This is an encoded message.\n",
      "8.5.12.12.15.999.999.20.8.9.19.999.9.19.999.1.14.999.5.14.3.15.4.5.4.999.13.5.19.19.1.7.5.999.\n"
     ]
    }
   ],
   "source": [
    "Text = 'Hello!'\n",
    "print(Text)\n",
    "print(Encode(Text))\n",
    "\n",
    "Text = 'Hello! This is an encoded message.'\n",
    "print(Text)\n",
    "print(Encode(Text))"
   ]
  },
  {
   "cell_type": "markdown",
   "metadata": {},
   "source": [
    "# 4. Harmonic Series"
   ]
  },
  {
   "cell_type": "code",
   "execution_count": 33,
   "metadata": {},
   "outputs": [],
   "source": [
    "def Harmonic(n):\n",
    "    Value = 0\n",
    "    for i in range(1,n+1):\n",
    "        Value = Value + 1/i\n",
    "    \n",
    "    return Value"
   ]
  },
  {
   "cell_type": "code",
   "execution_count": 38,
   "metadata": {},
   "outputs": [],
   "source": [
    "def get_n(n):\n",
    "    Exit = False\n",
    "    i = 1\n",
    "    while Exit == False:\n",
    "        if Harmonic(i) > n:\n",
    "            Exit = True\n",
    "        else:\n",
    "            i += 1\n",
    "    \n",
    "    return i         \n",
    "        "
   ]
  },
  {
   "cell_type": "code",
   "execution_count": 86,
   "metadata": {},
   "outputs": [
    {
     "data": {
      "text/plain": [
       "11"
      ]
     },
     "execution_count": 86,
     "metadata": {},
     "output_type": "execute_result"
    }
   ],
   "source": [
    "get_n(3)"
   ]
  },
  {
   "cell_type": "markdown",
   "metadata": {},
   "source": [
    "# 5. Describe"
   ]
  },
  {
   "cell_type": "code",
   "execution_count": 59,
   "metadata": {},
   "outputs": [],
   "source": [
    "import statistics\n",
    "\n",
    "def Describe(list):\n",
    "    Description = {}\n",
    "    Description['Elements'] = len(list)\n",
    "    Description['Mean'] = statistics.mean(list)\n",
    "    Description['Standard Deviation'] = statistics.stdev(list)\n",
    "    Description['Variance'] = statistics.variance(list)\n",
    "    \n",
    "    return Description"
   ]
  },
  {
   "cell_type": "code",
   "execution_count": 63,
   "metadata": {},
   "outputs": [
    {
     "data": {
      "text/plain": [
       "{'Elements': 3, 'Mean': 2, 'Standard Deviation': 1.0, 'Variance': 1}"
      ]
     },
     "execution_count": 63,
     "metadata": {},
     "output_type": "execute_result"
    }
   ],
   "source": [
    "Describe([1,2,3])"
   ]
  },
  {
   "cell_type": "code",
   "execution_count": 66,
   "metadata": {},
   "outputs": [
    {
     "data": {
      "text/plain": [
       "2"
      ]
     },
     "execution_count": 66,
     "metadata": {},
     "output_type": "execute_result"
    }
   ],
   "source": [
    "#Eg. Only the Mean:\n",
    "Describe([1,2,3])['Mean']"
   ]
  }
 ],
 "metadata": {
  "kernelspec": {
   "display_name": "Python 3",
   "language": "python",
   "name": "python3"
  },
  "language_info": {
   "codemirror_mode": {
    "name": "ipython",
    "version": 3
   },
   "file_extension": ".py",
   "mimetype": "text/x-python",
   "name": "python",
   "nbconvert_exporter": "python",
   "pygments_lexer": "ipython3",
   "version": "3.6.8"
  }
 },
 "nbformat": 4,
 "nbformat_minor": 2
}
