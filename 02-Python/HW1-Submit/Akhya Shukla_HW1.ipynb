{
 "cells": [
  {
   "cell_type": "markdown",
   "metadata": {},
   "source": [
    "# Assignment HW01\n",
    "\n",
    "## <font color='red'> Deadline: 9/4. </font>\n",
    "\n",
    "### QUESTIONS\n",
    "\n",
    "1. Write a function called \"operate\" that takes as input two numbers, and a string that can be either \"add\" or \"multiply\". The output should be either the sum or product of the two numbers, depending on the string entered.\n",
    "\n",
    "2. The Fibonacci sequence starts with 1, 1, and each subsequent term is the sum of the preceding two terms. The first 6 terms of the Fibonacci sequence are: 1, 1, 2, 3, 5, 8, ... Write a python function that takes one argument N and prints the first N terms of the Fibonacci sequence.\n",
    "\n",
    "3. A simple substitution code codes 'a' as 1, 'b' as 2, ..., 'z' as 26. Write a function called \"encode\" that takes in a string, and prints the coded text. The output should be a string, with letters separated by \".\". Use \"999\" for punctuation and spaces. For example, encode(\"Hello!\") should print out \"8.5.12.12.15.999\".\n",
    "\n",
    "4. The Harmonic series is the sum of 1 + 1/2 + 1/3 + 1/4 + ..... The n<sup>th</sup> Harmonic number H<sub>n</sub> is 1 + 1/2 + 1/3 + ...  + 1/n. Write a python function called \"get_n\" that accepts as input a threshold, and returns n corresponding to the smallest Harmonic number whose value is grater than the threshold. E.g. `get_n(3)` should output 11.\n",
    "\n",
    "5. Write a function called \"describe\" that takes as input a list of numbers, and prints the number of elements in the list, and the mean, variance, and standard deviation. The printed quantities should be labeled. The output should look something like: </br></br>\n",
    "`number of elements: 12` </br>\n",
    "`mean: 0.5` </br>\n",
    "`variance: 0.04` </br>\n",
    "`standard deviation: 0.2`\n"
   ]
  },
  {
   "cell_type": "code",
   "execution_count": 2,
   "metadata": {},
   "outputs": [],
   "source": [
    "#Answer for question 1\n",
    "\n",
    "def operate():\n",
    "    if c == 'add':\n",
    "        m = a+b\n",
    "        print(\"Your answer is \" + str(m))\n",
    "    elif c == 'multiply':\n",
    "        n = a*b\n",
    "        print (\"Your answer is \"+ str(n))\n",
    "    else:\n",
    "        print (\"Invalid operation\")"
   ]
  },
  {
   "cell_type": "code",
   "execution_count": 3,
   "metadata": {},
   "outputs": [
    {
     "name": "stdout",
     "output_type": "stream",
     "text": [
      "Please enter first number 10\n",
      "Please enter second number 40\n",
      "Please enter the operation add\n",
      "Your answer is 50\n"
     ]
    }
   ],
   "source": [
    "a = int(input('Please enter first number '))\n",
    "b = int(input('Please enter second number '))\n",
    "c = input('Please enter the operation ')\n",
    "operate()"
   ]
  },
  {
   "cell_type": "code",
   "execution_count": 1,
   "metadata": {},
   "outputs": [
    {
     "name": "stdout",
     "output_type": "stream",
     "text": [
      "Enter number of terms 6\n",
      "0\n",
      "1\n",
      "1\n",
      "2\n",
      "3\n",
      "5\n"
     ]
    }
   ],
   "source": [
    "#Answer for question 2\n",
    "\n",
    "N = int(input(\"Enter number of terms \"))\n",
    "\n",
    "i = 0\n",
    "a = 0\n",
    "b = 1\n",
    "\n",
    "for i in range (0, N) :\n",
    "    \n",
    "    if (i <= 1) :\n",
    "        c = i\n",
    "    else :\n",
    "        c = a + b\n",
    "        a = b\n",
    "        b = c\n",
    "        \n",
    "    print(c)   "
   ]
  },
  {
   "cell_type": "code",
   "execution_count": 1,
   "metadata": {},
   "outputs": [
    {
     "name": "stdout",
     "output_type": "stream",
     "text": [
      "Please enter number of elements3\n",
      "Enter number 1\n",
      "Enter number 6\n",
      "Enter number 8\n",
      "Number of elements: 3\n",
      "Mean: 5\n",
      "Variance: 13\n",
      "Standard deviation: 3.605551275463989\n"
     ]
    }
   ],
   "source": [
    "#Answer for question 5\n",
    "import statistics\n",
    "lst = []\n",
    "num = int(input('Please enter number of elements'))\n",
    "for n in range(num):\n",
    "    numbers = int(input('Enter number '))\n",
    "    lst.append(numbers)\n",
    "print(\"Number of elements:\", len(lst))\n",
    " \n",
    "print(\"Mean:\", (statistics.mean(lst)))\n",
    "print(\"Variance:\",(statistics.variance(lst)))\n",
    "print(\"Standard deviation:\", (statistics.stdev(lst)))"
   ]
  },
  {
   "cell_type": "code",
   "execution_count": 3,
   "metadata": {},
   "outputs": [],
   "source": [
    "#Answer for question 4\n",
    "def get_n(n):\n",
    "    Sum=1\n",
    "    x=1\n",
    "    while(Sum<=n):\n",
    "      x=x+1\n",
    "      Sum=Sum+(1/x)\n",
    "    print(x)"
   ]
  },
  {
   "cell_type": "code",
   "execution_count": 4,
   "metadata": {},
   "outputs": [
    {
     "name": "stdout",
     "output_type": "stream",
     "text": [
      "11\n"
     ]
    }
   ],
   "source": [
    "get_n(3)"
   ]
  },
  {
   "cell_type": "code",
   "execution_count": 17,
   "metadata": {},
   "outputs": [],
   "source": [
    "#Answer for question 3\n",
    "import string \n",
    "\n",
    "alphanum=dict(zip(string.ascii_lowercase, range(1,27)))\n",
    "\n",
    "def encode(input):\n",
    "    output= ''\n",
    "    \n",
    "    for char in input:\n",
    "        if(alphanum.get(char.lower()) is None):\n",
    "            output+='999.'\n",
    "        else:\n",
    "            output=output+str(alphanum.get(char.lower()))+ '.'\n",
    "    \n",
    "    output = output[:-1]\n",
    "    print(output)"
   ]
  },
  {
   "cell_type": "code",
   "execution_count": 18,
   "metadata": {},
   "outputs": [
    {
     "name": "stdout",
     "output_type": "stream",
     "text": [
      "8.5.12.12.15.999\n"
     ]
    }
   ],
   "source": [
    "encode('hello!')"
   ]
  }
 ],
 "metadata": {
  "kernelspec": {
   "display_name": "Python 3",
   "language": "python",
   "name": "python3"
  },
  "language_info": {
   "codemirror_mode": {
    "name": "ipython",
    "version": 3
   },
   "file_extension": ".py",
   "mimetype": "text/x-python",
   "name": "python",
   "nbconvert_exporter": "python",
   "pygments_lexer": "ipython3",
   "version": "3.7.3"
  }
 },
 "nbformat": 4,
 "nbformat_minor": 2
}
