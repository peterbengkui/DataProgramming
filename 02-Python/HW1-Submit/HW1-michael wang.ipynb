{
 "cells": [
  {
   "cell_type": "markdown",
   "metadata": {},
   "source": [
    "# Assignment HW01\n",
    "\n",
    "## <font color='red'> Deadline: 9/4. </font>\n",
    "\n",
    "### QUESTIONS\n",
    "\n",
    "1. Write a function called \"operate\" that takes as input two numbers, and a string that can be either \"add\" or \"multiply\". The output should be either the sum or product of the two numbers, depending on the string entered.\n",
    "\n",
    "2. The Fibonacci sequence starts with 1, 1, and each subsequent term is the sum of the preceding two terms. The first 6 terms of the Fibonacci sequence are: 1, 1, 2, 3, 5, 8, ... Write a python function that takes one argument N and prints the first N terms of the Fibonacci sequence.\n",
    "\n",
    "3. A simple substitution code codes 'a' as 1, 'b' as 2, ..., 'z' as 26. Write a function called \"encode\" that takes in a string, and prints the coded text. The output should be a string, with letters separated by \".\". Use \"999\" for punctuation and spaces. For example, encode(\"Hello!\") should print out \"8.5.12.12.15.999\".\n",
    "\n",
    "4. The Harmonic series is the sum of 1 + 1/2 + 1/3 + 1/4 + ..... The n<sup>th</sup> Harmonic number H<sub>n</sub> is 1 + 1/2 + 1/3 + ...  + 1/n. Write a python function called \"get_n\" that accepts as input a threshold, and returns n corresponding to the smallest Harmonic number whose value is grater than the threshold. E.g. `get_n(3)` should output 11.\n",
    "\n",
    "5. Write a function called \"describe\" that takes as input a list of numbers, and prints the number of elements in the list, and the mean, variance, and standard deviation. The printed quantities should be labeled. The output should look something like: </br></br>\n",
    "`number of elements: 12` </br>\n",
    "`mean: 0.5` </br>\n",
    "`variance: 0.04` </br>\n",
    "`standard deviation: 0.2`\n"
   ]
  },
  {
   "cell_type": "code",
   "execution_count": null,
   "metadata": {},
   "outputs": [],
   "source": [
    "def operate():\n",
    "    x = eval(input(\"Please enter a number: \"))\n",
    "    y = eval(input(\"Please enter a 2nd number: \"))\n",
    "    n = input(\"Please enter the operations you would like to perform, you may type 'add' or 'multiply'\")\n",
    "    if n =='add':\n",
    "        print(x+y)\n",
    "    elif n =='multiply':\n",
    "        print(x*y)\n",
    "    else:\n",
    "        print(\"Please type 'add' or 'multiply' only\")\n",
    "operate()"
   ]
  },
  {
   "cell_type": "code",
   "execution_count": null,
   "metadata": {},
   "outputs": [],
   "source": [
    "def fibo(n):\n",
    "   if n <= 1:\n",
    "       return n\n",
    "   else:\n",
    "       return(fibo(n-1) + fibo(n-2))\n",
    "\n",
    "n = int(input(\"How many terms do you want to display? \"))\n",
    "\n",
    "if n <= 0:\n",
    "   print(\"Plese enter a positive integer\")\n",
    "else:\n",
    "   print(\"Fibonacci sequence upto\",n,\":\")\n",
    "   for i in range(n):\n",
    "       print(fibo(i))"
   ]
  },
  {
   "cell_type": "code",
   "execution_count": 3,
   "metadata": {},
   "outputs": [
    {
     "name": "stdout",
     "output_type": "stream",
     "text": [
      "Write a text:ads.   \n",
      "1.4.19.999.999.999.999."
     ]
    }
   ],
   "source": [
    "import string\n",
    "my_letters = string.ascii_lowercase\n",
    "user_input = input('Write a text:')\n",
    "user_input = user_input.lower()                                    #transform input text into lowercase format\n",
    "for letters in user_input:\n",
    "    if letters not in my_letters:\n",
    "        print(\"999.\", end = \" \")\n",
    "    else:\n",
    "        encode_num = ord(letters)-96                               #ord function gives unicode to the letters\n",
    "        print(str(encode_num) + \".\", end = \"\")                  "
   ]
  },
  {
   "cell_type": "code",
   "execution_count": 6,
   "metadata": {},
   "outputs": [
    {
     "name": "stdout",
     "output_type": "stream",
     "text": [
      "2\n",
      "4\n",
      "11\n",
      "31\n"
     ]
    }
   ],
   "source": [
    "#get_n(1): 1 + 1/2 > 1                                                           output = 2\n",
    "#get_n(2): 1 + 1/2 + 1/3 + 1/4 > 2                                               output = 4\n",
    "#get_n(3): 1 + 1/2 + 1/3 + 1/4 + 1/5 + 1/6 + 1/7 + 1/8 + 1/9 + 1/10 + 1/11 > 3   output = 11\n",
    "\n",
    "def get_n(x):\n",
    "    a = 2\n",
    "    har_sum = 1 + 1/a\n",
    "    while har_sum < x:\n",
    "        a += 1\n",
    "        har_sum += 1/a\n",
    "    return(a)\n",
    "\n",
    "print(get_n(1))\n",
    "print(get_n(2))\n",
    "print(get_n(3))\n",
    "print(get_n(4))"
   ]
  },
  {
   "cell_type": "code",
   "execution_count": 25,
   "metadata": {},
   "outputs": [
    {
     "name": "stdout",
     "output_type": "stream",
     "text": [
      "The number of element is: 4\n",
      "The mean is: 2.5\n",
      "The variance is: 1.25\n",
      "The sdandard deviation is: 1.118033988749895\n",
      "The number of element is: 6\n",
      "The mean is: 22.166666666666668\n",
      "The variance is: 1218.4722222222222\n",
      "The sdandard deviation is: 34.90662146673926\n"
     ]
    }
   ],
   "source": [
    "import numpy as np\n",
    "\n",
    "def desc(my_list):\n",
    "    l = my_list\n",
    "    n = len(l)                    #Calculate number of elements      \n",
    "    m = sum(l)/n                  #Calculate mean          \n",
    "    v = np.var(l)                 #Calculate variance\n",
    "    s = np.std(l)                 #Calculate SD\n",
    "    print('The number of element is: ' + str(n))\n",
    "    print('The mean is: ' + str(m))\n",
    "    print('The variance is: ' + str(v))\n",
    "    print('The sdandard deviation is: ' + str(s))\n",
    "\n",
    "desc([1,2,3,4])\n",
    "desc([2,5,7,9,10,100])\n",
    "\n",
    "    "
   ]
  }
 ],
 "metadata": {
  "kernelspec": {
   "display_name": "Python 3",
   "language": "python",
   "name": "python3"
  },
  "language_info": {
   "codemirror_mode": {
    "name": "ipython",
    "version": 3
   },
   "file_extension": ".py",
   "mimetype": "text/x-python",
   "name": "python",
   "nbconvert_exporter": "python",
   "pygments_lexer": "ipython3",
   "version": "3.7.3"
  }
 },
 "nbformat": 4,
 "nbformat_minor": 2
}
