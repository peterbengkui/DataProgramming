{
 "cells": [
  {
   "cell_type": "markdown",
   "metadata": {},
   "source": [
    "# Assignment HW01\n",
    "\n",
    "## <font color='red'> Deadline: 9/4. </font>\n",
    "\n",
    "### QUESTIONS\n",
    "\n",
    "1. Write a function called \"operate\" that takes as input two numbers, and a string that can be either \"add\" or \"multiply\". The output should be either the sum or product of the two numbers, depending on the string entered.\n",
    "\n",
    "2. The Fibonacci sequence starts with 1, 1, and each subsequent term is the sum of the preceding two terms. The first 6 terms of the Fibonacci sequence are: 1, 1, 2, 3, 5, 8, ... Write a python function that takes one argument N and prints the first N terms of the Fibonacci sequence.\n",
    "\n",
    "3. A simple substitution code codes 'a' as 1, 'b' as 2, ..., 'z' as 26. Write a function called \"encode\" that takes in a string, and prints the coded text. The output should be a string, with letters separated by \".\". Use \"999\" for punctuation and spaces. For example, encode(\"Hello!\") should print out \"8.5.12.12.15.999\".\n",
    "\n",
    "4. The Harmonic series is the sum of 1 + 1/2 + 1/3 + 1/4 + ..... The n<sup>th</sup> Harmonic number H<sub>n</sub> is 1 + 1/2 + 1/3 + ...  + 1/n. Write a python function called \"get_n\" that accepts as input a threshold, and returns n corresponding to the smallest Harmonic number whose value is grater than the threshold. E.g. `get_n(3)` should output 11.\n",
    "\n",
    "5. Write a function called \"describe\" that takes as input a list of numbers, and prints the number of elements in the list, and the mean, variance, and standard deviation. The printed quantities should be labeled. The output should look something like: </br></br>\n",
    "`number of elements: 12` </br>\n",
    "`mean: 0.5` </br>\n",
    "`variance: 0.04` </br>\n",
    "`standard deviation: 0.2`\n"
   ]
  },
  {
   "cell_type": "code",
   "execution_count": 34,
   "metadata": {},
   "outputs": [
    {
     "name": "stdout",
     "output_type": "stream",
     "text": [
      "5\n",
      "6\n"
     ]
    }
   ],
   "source": [
    "\n",
    "def operate(number1, number2, operationName):\n",
    "    if operationName == \"add\":\n",
    "        return number1 + number2\n",
    "    elif operationName == \"multiply\":\n",
    "        return number1 * number2\n",
    "    else:\n",
    "        return \"Error! Need input of either add or multiply\"\n",
    "\n",
    "    print(operate(2,3,\"add\"))\n",
    "print(operate(2,3,\"multiply\"))"
   ]
  },
  {
   "cell_type": "code",
   "execution_count": 25,
   "metadata": {},
   "outputs": [
    {
     "name": "stdout",
     "output_type": "stream",
     "text": [
      "1,1,2,3,5,8,"
     ]
    }
   ],
   "source": [
    "N = 6\n",
    "\n",
    "def Fib(n):\n",
    "    a1 = 0\n",
    "    a2 = 1\n",
    "    for i in range(n):\n",
    "        a1, a2 = a2, a1 + a2\n",
    "    return a2 \n",
    "\n",
    "for i in range (N):\n",
    "    print(Fib(i), end = \",\")\n",
    "\n"
   ]
  },
  {
   "cell_type": "code",
   "execution_count": 27,
   "metadata": {
    "scrolled": true
   },
   "outputs": [
    {
     "name": "stdout",
     "output_type": "stream",
     "text": [
      "8.5.12.12.15.999"
     ]
    }
   ],
   "source": [
    "mystring = \"Hello!\"\n",
    "\n",
    "def encode(mystring):\n",
    "    for i in range(len(mystring)):\n",
    "    #for letter in mystring:\n",
    "        letter = mystring[i]\n",
    "        if ord(letter)>=65 and ord(letter)<=90:\n",
    "            print(ord(letter)-65+1, end = \"\")\n",
    "        elif ord(letter)>=97 and ord(letter)<=122:\n",
    "            print(ord(letter)-97+1, end = \"\")\n",
    "        else:\n",
    "            print(999, end = \"\")\n",
    "        if i < len(mystring)-1:\n",
    "            print(\".\", end = \"\")\n",
    "encode(mystring)"
   ]
  },
  {
   "cell_type": "code",
   "execution_count": 30,
   "metadata": {},
   "outputs": [
    {
     "data": {
      "text/plain": [
       "11"
      ]
     },
     "execution_count": 30,
     "metadata": {},
     "output_type": "execute_result"
    }
   ],
   "source": [
    "def get_n(threshold):\n",
    "    num = 1\n",
    "    n = 1\n",
    "    while(num<threshold):\n",
    "        n += 1\n",
    "        num += 1/float(n)\n",
    "    return n\n",
    "\n",
    "get_n(3)"
   ]
  },
  {
   "cell_type": "code",
   "execution_count": 17,
   "metadata": {
    "scrolled": false
   },
   "outputs": [
    {
     "name": "stdout",
     "output_type": "stream",
     "text": [
      "number of elements: 10\n",
      "mean: 5.50\n",
      "variance: 8.25\n",
      "standard deviation: 2.87\n"
     ]
    }
   ],
   "source": [
    "import math\n",
    "mylist = [1, 2, 3, 4, 5, 6, 7, 8, 9, 10]\n",
    "#import numpy as np\n",
    "def describe(inputList):\n",
    "    num = len(inputList)\n",
    "    sum=0\n",
    "    for x in inputList:\n",
    "         sum += x\n",
    "    avg = float(sum)/num\n",
    "    var = 0\n",
    "    for x in inputList:\n",
    "        var +=  (x - avg)**2/num\n",
    "    sd = math.sqrt(var)\n",
    "    print(\"number of elements: %d\" %len(inputList))\n",
    "    print(\"mean: %.2lf\" %avg)\n",
    "    print(\"variance: %.2lf\"%var) \n",
    "    print(\"standard deviation: %.2lf\" %sd)\n",
    "describe(mylist)    "
   ]
  },
  {
   "cell_type": "code",
   "execution_count": null,
   "metadata": {},
   "outputs": [],
   "source": []
  },
  {
   "cell_type": "code",
   "execution_count": null,
   "metadata": {},
   "outputs": [],
   "source": []
  }
 ],
 "metadata": {
  "kernelspec": {
   "display_name": "Python 3",
   "language": "python",
   "name": "python3"
  },
  "language_info": {
   "codemirror_mode": {
    "name": "ipython",
    "version": 3
   },
   "file_extension": ".py",
   "mimetype": "text/x-python",
   "name": "python",
   "nbconvert_exporter": "python",
   "pygments_lexer": "ipython3",
   "version": "3.7.3"
  }
 },
 "nbformat": 4,
 "nbformat_minor": 2
}
