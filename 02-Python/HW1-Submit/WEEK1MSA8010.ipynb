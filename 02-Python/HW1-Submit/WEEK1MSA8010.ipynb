{
 "cells": [
  {
   "cell_type": "markdown",
   "metadata": {},
   "source": [
    "FIRST SOLUTION"
   ]
  },
  {
   "cell_type": "code",
   "execution_count": null,
   "metadata": {},
   "outputs": [],
   "source": [
    "def operate(a,b,c):\n",
    "    if c == \"add\":\n",
    "        return a+b\n",
    "    elif c == \"multiply\":\n",
    "        return a*b\n",
    "\n",
    "x = int(input(\"type the first number:\"))\n",
    "y = int(input(\"type the second number:\"))\n",
    "z = input(\"type the function\")\n",
    "operate(x,y,z)"
   ]
  },
  {
   "cell_type": "markdown",
   "metadata": {},
   "source": [
    "SECOND SOLUTION"
   ]
  },
  {
   "cell_type": "code",
   "execution_count": null,
   "metadata": {},
   "outputs": [],
   "source": [
    "def fibonacci (n):\n",
    "    first = 1\n",
    "    second = 1\n",
    "    if n<=2:\n",
    "        print(first)\n",
    "        print(second)\n",
    "    else:\n",
    "        print(first)\n",
    "        print(second)\n",
    "        while n>2:\n",
    "            third = first + second\n",
    "            print(third)\n",
    "            temp = second\n",
    "            second = third\n",
    "            first = temp\n",
    "            n=n-1\n",
    "\n",
    "fibonacci(8)\n",
    "        "
   ]
  },
  {
   "cell_type": "markdown",
   "metadata": {},
   "source": [
    "THIRD SOLUTION"
   ]
  },
  {
   "cell_type": "code",
   "execution_count": null,
   "metadata": {},
   "outputs": [],
   "source": [
    "import string\n",
    "def encode(x):\n",
    "    output = \" \"\n",
    "    for i in x:\n",
    "        if i in string.punctuation:\n",
    "            if (i==\"!\"):\n",
    "                continue\n",
    "            else:\n",
    "                output = output + str(999) + '.'\n",
    "        else:\n",
    "            temp = ord(i) - 96\n",
    "            output = output + str(temp) + '.'\n",
    "    print (output)\n",
    "\n",
    "xyz = input(\"enter your string\")\n",
    "encode(xyz)"
   ]
  },
  {
   "cell_type": "markdown",
   "metadata": {},
   "source": [
    "FOURTH SOLUTION"
   ]
  },
  {
   "cell_type": "code",
   "execution_count": null,
   "metadata": {},
   "outputs": [],
   "source": [
    "def get_n (x):\n",
    "    \n",
    "    if(x==0):\n",
    "        return 1\n",
    "    else:\n",
    "        counter = 2\n",
    "        result = 1\n",
    "        loop = 1\n",
    "        while(result<=x):\n",
    "            result = result + 1/counter\n",
    "            print(result)\n",
    "            counter = counter + 1\n",
    "        print(counter-1)\n",
    "        \n",
    "    \n",
    "a = int(input(\"enter your number\"))\n",
    "get_n(a)\n",
    "            "
   ]
  },
  {
   "cell_type": "markdown",
   "metadata": {},
   "source": [
    "FIFTH SOLUTION"
   ]
  },
  {
   "cell_type": "code",
   "execution_count": null,
   "metadata": {},
   "outputs": [],
   "source": [
    "import math\n",
    "\n",
    "def describe(my_list):\n",
    "    sum = 0\n",
    "    new_list = []\n",
    "    var = 0\n",
    "    for i in my_list:\n",
    "        sum = sum + i\n",
    "    mean = sum/len(my_list)\n",
    "    print(\"The mean is\",mean)\n",
    "    \n",
    "    for i in my_list:\n",
    "        temp = abs(mean - i)\n",
    "        \n",
    "        if temp==0:\n",
    "            new_list.append(0)\n",
    "     \n",
    "        else:\n",
    "            new_list.append(temp**2)\n",
    "            var = var + temp**2;\n",
    "            \n",
    "    vari = var/(len(my_list)-1)\n",
    "    print(\"the variance is\", vari)\n",
    "    print(\"the standard deviation is\", math.sqrt(vari))\n",
    "    \n",
    "    \n",
    "    \n",
    "       \n",
    "    \n",
    "list_num = int(input(\"please enter the no.of elements needed\"))\n",
    "listt = []\n",
    "for i in range(list_num):\n",
    "    temp = int(input(\"please enter the number\"))\n",
    "    listt.append(temp)\n",
    "\n",
    "describe(listt)"
   ]
  }
 ],
 "metadata": {
  "kernelspec": {
   "display_name": "Python 3",
   "language": "python",
   "name": "python3"
  },
  "language_info": {
   "codemirror_mode": {
    "name": "ipython",
    "version": 3
   },
   "file_extension": ".py",
   "mimetype": "text/x-python",
   "name": "python",
   "nbconvert_exporter": "python",
   "pygments_lexer": "ipython3",
   "version": "3.6.8"
  }
 },
 "nbformat": 4,
 "nbformat_minor": 2
}
