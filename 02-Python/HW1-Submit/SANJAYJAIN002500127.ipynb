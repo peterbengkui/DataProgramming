{
 "cells": [
  {
   "cell_type": "markdown",
   "metadata": {},
   "source": [
    "# SANJAY JAIN 002500127 FIRST WEEK HOMEWORK"
   ]
  },
  {
   "cell_type": "markdown",
   "metadata": {},
   "source": [
    "FIRST SOLUTION"
   ]
  },
  {
   "cell_type": "code",
   "execution_count": 9,
   "metadata": {},
   "outputs": [
    {
     "name": "stdout",
     "output_type": "stream",
     "text": [
      "type the first number:45\n",
      "type the second number:45\n",
      "type the functionadd\n"
     ]
    },
    {
     "data": {
      "text/plain": [
       "90"
      ]
     },
     "execution_count": 9,
     "metadata": {},
     "output_type": "execute_result"
    }
   ],
   "source": [
    "def operate(a,b,c):\n",
    "    if c == \"add\":\n",
    "        return a+b\n",
    "    elif c == \"multiply\":\n",
    "        return a*b\n",
    "\n",
    "x = int(input(\"type the first number:\"))\n",
    "y = int(input(\"type the second number:\"))\n",
    "z = input(\"type the function\")\n",
    "operate(x,y,z)"
   ]
  },
  {
   "cell_type": "markdown",
   "metadata": {},
   "source": [
    "SECOND SOLUTION"
   ]
  },
  {
   "cell_type": "code",
   "execution_count": 10,
   "metadata": {},
   "outputs": [
    {
     "name": "stdout",
     "output_type": "stream",
     "text": [
      "1\n",
      "1\n",
      "2\n",
      "3\n",
      "5\n",
      "8\n",
      "13\n",
      "21\n"
     ]
    }
   ],
   "source": [
    "def fibonacci (n):\n",
    "    first = 1\n",
    "    second = 1\n",
    "    if n<=2:\n",
    "        print(first)\n",
    "        print(second)\n",
    "    else:\n",
    "        print(first)\n",
    "        print(second)\n",
    "        while n>2:\n",
    "            third = first + second\n",
    "            print(third)\n",
    "            temp = second\n",
    "            second = third\n",
    "            first = temp\n",
    "            n=n-1\n",
    "\n",
    "fibonacci(8)\n",
    "\n",
    "        "
   ]
  },
  {
   "cell_type": "markdown",
   "metadata": {},
   "source": [
    "THIRD SOLUTION"
   ]
  },
  {
   "cell_type": "code",
   "execution_count": 11,
   "metadata": {},
   "outputs": [
    {
     "name": "stdout",
     "output_type": "stream",
     "text": [
      "enter your string\"sanjay\"\n",
      " 999.19.1.14.10.1.25.999.\n"
     ]
    }
   ],
   "source": [
    "import string\n",
    "def encode(x):\n",
    "    output = \" \"\n",
    "    for i in x:\n",
    "        if i in string.punctuation:\n",
    "            if (i==\"!\"):\n",
    "                continue\n",
    "            else:\n",
    "                output = output + str(999) + '.'\n",
    "        else:\n",
    "            temp = ord(i) - 96\n",
    "            output = output + str(temp) + '.'\n",
    "    print (output)\n",
    "\n",
    "xyz = input(\"enter your string\")\n",
    "encode(xyz)"
   ]
  },
  {
   "cell_type": "markdown",
   "metadata": {},
   "source": [
    "FOURTH SOLUTION"
   ]
  },
  {
   "cell_type": "code",
   "execution_count": 13,
   "metadata": {},
   "outputs": [
    {
     "name": "stdout",
     "output_type": "stream",
     "text": [
      "enter your number5\n",
      "83\n"
     ]
    }
   ],
   "source": [
    "def get_n (x):\n",
    "    \n",
    "    if(x==0):\n",
    "        return 1\n",
    "    else:\n",
    "        counter = 2\n",
    "        result = 1\n",
    "        loop = 1\n",
    "        while(result<=x):\n",
    "            result = result + 1/counter\n",
    "            counter = counter + 1\n",
    "        print(counter-1)\n",
    "        \n",
    "    \n",
    "a = int(input(\"enter your number\"))\n",
    "get_n(a)\n",
    "            "
   ]
  },
  {
   "cell_type": "markdown",
   "metadata": {},
   "source": [
    "FIFTH SOLUTION"
   ]
  },
  {
   "cell_type": "code",
   "execution_count": 14,
   "metadata": {},
   "outputs": [
    {
     "name": "stdout",
     "output_type": "stream",
     "text": [
      "please enter the no.of elements needed5\n",
      "please enter the number12\n",
      "please enter the number14\n",
      "please enter the number15\n",
      "please enter the number14\n",
      "please enter the number13\n",
      "The mean is 13.6\n",
      "the variance is 1.2999999999999998\n",
      "the standard deviation is 1.1401754250991378\n"
     ]
    }
   ],
   "source": [
    "import math\n",
    "\n",
    "def describe(my_list):\n",
    "    sum = 0\n",
    "    new_list = []\n",
    "    var = 0\n",
    "    for i in my_list:\n",
    "        sum = sum + i\n",
    "    mean = sum/len(my_list)\n",
    "    print(\"The mean is\",mean)\n",
    "    \n",
    "    for i in my_list:\n",
    "        temp = abs(mean - i)\n",
    "        \n",
    "        if temp==0:\n",
    "            new_list.append(0)\n",
    "     \n",
    "        else:\n",
    "            new_list.append(temp**2)\n",
    "            var = var + temp**2;\n",
    "            \n",
    "    vari = var/(len(my_list)-1)\n",
    "    print(\"the variance is\", vari)\n",
    "    print(\"the standard deviation is\", math.sqrt(vari))\n",
    "    \n",
    "    \n",
    "    \n",
    "       \n",
    "    \n",
    "list_num = int(input(\"please enter the no.of elements needed\"))\n",
    "listt = []\n",
    "for i in range(list_num):\n",
    "    temp = int(input(\"please enter the number\"))\n",
    "    listt.append(temp)\n",
    "\n",
    "describe(listt)"
   ]
  },
  {
   "cell_type": "code",
   "execution_count": null,
   "metadata": {},
   "outputs": [],
   "source": []
  }
 ],
 "metadata": {
  "kernelspec": {
   "display_name": "Python 3",
   "language": "python",
   "name": "python3"
  },
  "language_info": {
   "codemirror_mode": {
    "name": "ipython",
    "version": 3
   },
   "file_extension": ".py",
   "mimetype": "text/x-python",
   "name": "python",
   "nbconvert_exporter": "python",
   "pygments_lexer": "ipython3",
   "version": "3.7.3"
  }
 },
 "nbformat": 4,
 "nbformat_minor": 2
}
