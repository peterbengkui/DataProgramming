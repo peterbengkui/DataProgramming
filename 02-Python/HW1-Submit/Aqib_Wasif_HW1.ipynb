{
 "cells": [
  {
   "cell_type": "markdown",
   "metadata": {},
   "source": [
    "# Assignment HW01\n",
    "\n",
    "## <font color='red'> Deadline: 9/4. </font>\n",
    "\n",
    "### QUESTIONS\n",
    "\n",
    "1. Write a function called \"operate\" that takes as input two numbers, and a string that can be either \"add\" or \"multiply\". The output should be either the sum or product of the two numbers, depending on the string entered.\n",
    "\n",
    "2. The Fibonacci sequence starts with 1, 1, and each subsequent term is the sum of the preceding two terms. The first 6 terms of the Fibonacci sequence are: 1, 1, 2, 3, 5, 8, ... Write a python function that takes one argument N and prints the first N terms of the Fibonacci sequence.\n",
    "\n",
    "3. A simple substitution code codes 'a' as 1, 'b' as 2, ..., 'z' as 26. Write a function called \"encode\" that takes in a string, and prints the coded text. The output should be a string, with letters separated by \".\". Use \"999\" for punctuation and spaces. For example, encode(\"Hello!\") should print out \"8.5.12.12.15.999\".\n",
    "\n",
    "4. The Harmonic series is the sum of 1 + 1/2 + 1/3 + 1/4 + ..... The n<sup>th</sup> Harmonic number H<sub>n</sub> is 1 + 1/2 + 1/3 + ...  + 1/n. Write a python function called \"get_n\" that accepts as input a threshold, and returns n corresponding to the smallest Harmonic number whose value is grater than the threshold. E.g. `get_n(3)` should output 11.\n",
    "\n",
    "5. Write a function called \"describe\" that takes as input a list of numbers, and prints the number of elements in the list, and the mean, variance, and standard deviation. The printed quantities should be labeled. The output should look something like: </br></br>\n",
    "`number of elements: 12` </br>\n",
    "`mean: 0.5` </br>\n",
    "`variance: 0.04` </br>\n",
    "`standard deviation: 0.2`\n"
   ]
  },
  {
   "cell_type": "code",
   "execution_count": 15,
   "metadata": {},
   "outputs": [
    {
     "name": "stdout",
     "output_type": "stream",
     "text": [
      "9 multiply by 2 is 18\n"
     ]
    }
   ],
   "source": [
    "def operate(x,y):\n",
    "    z = (x*y)  # Multiply\n",
    "    out_operate = \"%d multiply by %d is %d\" % (x,y,z) # String for multiplying\n",
    "    print(out_operate)\n",
    "    \n",
    "operate(9,2)  # This function multiplies both numbers"
   ]
  },
  {
   "cell_type": "code",
   "execution_count": 16,
   "metadata": {},
   "outputs": [
    {
     "name": "stdout",
     "output_type": "stream",
     "text": [
      "Fibonacci Sequence upto N terms\n",
      "1,1,2,3,5,8,13,21,34,55,"
     ]
    }
   ],
   "source": [
    "N = 10\n",
    "\n",
    "nterms = N*2\n",
    "n1 = 1\n",
    "n2 = 1\n",
    "count = 0\n",
    "\n",
    "print(\"Fibonacci Sequence upto\", \"N\" ,\"terms\")\n",
    "\n",
    "while count < nterms:\n",
    "    print(n1, end =',')\n",
    "    nth = n1 + n2\n",
    "    count += 1\n",
    "    n1 = n2\n",
    "    n2 = nth\n",
    "    count +=1"
   ]
  },
  {
   "cell_type": "code",
   "execution_count": 3,
   "metadata": {},
   "outputs": [
    {
     "data": {
      "text/plain": [
       "'8.5.12.12.15'"
      ]
     },
     "execution_count": 3,
     "metadata": {},
     "output_type": "execute_result"
    }
   ],
   "source": [
    "Dict = {'a': '1', 'b': '2', 'c': '3', 'd': '4', 'e': '5', 'f': '6', 'g': '7', 'h': '8', 'i': '9', 'j': '10', 'k': '11', 'l': '12', 'm': '13', 'n': '14', 'o': '15', 'p': '16', 'q': '17', 'r': '18', 's': '19', 't': '20', 'u': '21', 'v': '22', 'w': '23', 'x': '24', 'y': '25', 'z': '26'}\n",
    "\n",
    "\n",
    "\n",
    "def encode(text):\n",
    "    text = text.lower()\n",
    "    numbers = [Dict[character] for character in text if character in Dict]\n",
    "    \n",
    "    return '.'.join(numbers)\n",
    "\n",
    "encode('hello!')\n",
    "\n",
    "\n",
    "\n"
   ]
  },
  {
   "cell_type": "code",
   "execution_count": 14,
   "metadata": {},
   "outputs": [
    {
     "name": "stdout",
     "output_type": "stream",
     "text": [
      "Enter the number of terms: 11\n",
      "Sum is 3.02\n"
     ]
    }
   ],
   "source": [
    "n=int(input(\"Enter the number of terms: \")) \n",
    "\n",
    "def get_n(n):\n",
    "    i = 1\n",
    "    s = 0.0\n",
    "    for i in range(1, n+1):\n",
    "        s = s + 1/i;\n",
    "    return s;\n",
    "\n",
    "\n",
    "print(\"Sum is\", round(get_n(n), 2))\n",
    "\n",
    "\n",
    "    "
   ]
  },
  {
   "cell_type": "code",
   "execution_count": 11,
   "metadata": {},
   "outputs": [
    {
     "name": "stdout",
     "output_type": "stream",
     "text": [
      "Mean:  3\n",
      "Standard Deviation:  1.5811388300841898\n",
      "Variance:  2.5\n",
      "Number of elements : 5\n"
     ]
    }
   ],
   "source": [
    "describe_numbers = [1,2,3,4,5]\n",
    "import statistics\n",
    "from statistics import variance\n",
    "\n",
    "def describe(describe_numbers):\n",
    "    a = print(\"Mean: \", statistics.mean(numbers))\n",
    "    b = print(\"Standard Deviation: \", statistics.stdev(numbers))\n",
    "    c = print(\"Variance: \",variance(numbers))\n",
    "    d = print(\"Number of elements :\", len(describe_numbers))\n",
    "    \n",
    "describe(describe_numbers)\n"
   ]
  }
 ],
 "metadata": {
  "kernelspec": {
   "display_name": "Python 3",
   "language": "python",
   "name": "python3"
  },
  "language_info": {
   "codemirror_mode": {
    "name": "ipython",
    "version": 3
   },
   "file_extension": ".py",
   "mimetype": "text/x-python",
   "name": "python",
   "nbconvert_exporter": "python",
   "pygments_lexer": "ipython3",
   "version": "3.7.3"
  }
 },
 "nbformat": 4,
 "nbformat_minor": 2
}
