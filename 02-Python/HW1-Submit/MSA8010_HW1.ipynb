{
 "cells": [
  {
   "cell_type": "markdown",
   "metadata": {},
   "source": [
    "# Assignment HW01\n",
    "\n",
    "## <font color='red'> Deadline: 9/4. </font>\n",
    "\n",
    "### QUESTIONS\n",
    "\n",
    "1. Write a function called \"operate\" that takes as input two numbers, and a string that can be either \"add\" or \"multiply\". The output should be either the sum or product of the two numbers, depending on the string entered.\n",
    "\n",
    "2. The Fibonacci sequence starts with 1, 1, and each subsequent term is the sum of the preceding two terms. The first 6 terms of the Fibonacci sequence are: 1, 1, 2, 3, 5, 8, ... Write a python function that takes one argument N and prints the first N terms of the Fibonacci sequence.\n",
    "\n",
    "3. A simple substitution code codes 'a' as 1, 'b' as 2, ..., 'z' as 26. Write a function called \"encode\" that takes in a string, and prints the coded text. The output should be a string, with letters separated by \".\". Use \"999\" for punctuation and spaces. For example, encode(\"Hello!\") should print out \"8.5.12.12.15.999\".\n",
    "\n",
    "4. The Harmonic series is the sum of 1 + 1/2 + 1/3 + 1/4 + ..... The n<sup>th</sup> Harmonic number H<sub>n</sub> is 1 + 1/2 + 1/3 + ...  + 1/n. Write a python function called \"get_n\" that accepts as input a threshold, and returns n corresponding to the smallest Harmonic number whose value is grater than the threshold. E.g. `get_n(3)` should output 11.\n",
    "\n",
    "5. Write a function called \"describe\" that takes as input a list of numbers, and prints the number of elements in the list, and the mean, variance, and standard deviation. The printed quantities should be labeled. The output should look something like: </br></br>\n",
    "`number of elements: 12` </br>\n",
    "`mean: 0.5` </br>\n",
    "`variance: 0.04` </br>\n",
    "`standard deviation: 0.2`\n"
   ]
  },
  {
   "cell_type": "code",
   "execution_count": 1,
   "metadata": {},
   "outputs": [
    {
     "name": "stdout",
     "output_type": "stream",
     "text": [
      "Enter the first number: 4\n",
      "Enter the second number: 5\n",
      "Enter either add or multiply:multiply\n",
      "the product of the two numbers is: 20\n"
     ]
    }
   ],
   "source": [
    "#Question 1\n",
    "\n",
    "\n",
    "def operate(num1, num2, sign):\n",
    "    if sign == 'add':\n",
    "        return num1 + num2\n",
    "    elif sign == 'multiply':\n",
    "        return num1 * num2\n",
    "    else:\n",
    "        print(\"Please input a valid sign!\")\n",
    "if __name__ == '__main__':\n",
    "    num1 = int(input(\"Enter the first number: \"))\n",
    "    num2 = int(input(\"Enter the second number: \"))\n",
    "    sign = input('Enter either add or multiply:')\n",
    "    if sign == 'add':\n",
    "        print('the sum of the two numbers is: '+ str(operate(num1,num2,\"add\")))\n",
    "    elif sign == 'multiply':\n",
    "        print('the product of the two numbers is: '+ str(operate(num1,num2,\"multiply\")))\n",
    "    \n",
    "\n",
    "        "
   ]
  },
  {
   "cell_type": "code",
   "execution_count": 9,
   "metadata": {},
   "outputs": [
    {
     "name": "stdout",
     "output_type": "stream",
     "text": [
      "Enter number of terms:\n",
      "5\n",
      "\n",
      "Fibonacci Sequence:\n",
      "0\n",
      "1\n",
      "1\n",
      "2\n",
      "3\n"
     ]
    }
   ],
   "source": [
    "#Question 2 \n",
    "num = int(input(\"Enter number of terms:\\n\"))\n",
    "def Fibonacci(n): \n",
    "    if n<=1: \n",
    "        return n\n",
    "    else: \n",
    "        return Fibonacci(n-1)+Fibonacci(n-2)  \n",
    "    \n",
    "print('\\nFibonacci Sequence:')\n",
    "for n in range(num):\n",
    "    print(Fibonacci(n))"
   ]
  },
  {
   "cell_type": "code",
   "execution_count": 77,
   "metadata": {},
   "outputs": [
    {
     "name": "stdout",
     "output_type": "stream",
     "text": [
      "Type something\n",
      "Hello!\n"
     ]
    },
    {
     "data": {
      "text/plain": [
       "'8.5.12.12.15.999'"
      ]
     },
     "execution_count": 77,
     "metadata": {},
     "output_type": "execute_result"
    }
   ],
   "source": [
    "#Question 3\n",
    "import string\n",
    "string_name = str(input('Type something\\n'))\n",
    "string_name = string_name.lower()\n",
    "my_list = []\n",
    "word = {'a': 1, 'b': 2, 'c': 3, 'd': 4, 'e': 5, 'f': 6, 'g': 7, 'h': 8, 'i': 9, 'j': 10, 'k': 11, 'l': 12, 'm': 13,\n",
    "         'n': 14, 'o': 15, 'p': 16, 'q': 17,'r': 18, 's': 19, 't': 20, 'u': 21, 'v': 22, 'w': 23, 'x': 24, 'y': 25, 'z': 26}          \n",
    "def encode(letter):\n",
    "    output = ''\n",
    "    for x in range(len(letter)):\n",
    "        if letter[x] in word:\n",
    "            output = str(word.get(letter[x]))\n",
    "            my_list.append(output)\n",
    "        else:\n",
    "            my_list.append(\"999\")\n",
    "    return '.'.join(str(x) for x in my_list)  \n",
    "    \n",
    "encode(string_name)\n",
    "\n"
   ]
  },
  {
   "cell_type": "code",
   "execution_count": 4,
   "metadata": {},
   "outputs": [
    {
     "name": "stdout",
     "output_type": "stream",
     "text": [
      "Enter number of elements : \n",
      "2\n",
      "Enter the number\n",
      "24\n",
      "Enter the number\n",
      "35\n",
      "[24, 35]\n",
      "number of elements: 2\n",
      "mean : 29.50\n",
      "variance : 30.25\n",
      "standard deviation : 5.50\n"
     ]
    }
   ],
   "source": [
    "#Question 5\n",
    "\n",
    "import numpy as np\n",
    "\n",
    "\n",
    "lst = [] \n",
    "\n",
    "n = int(input(\"Enter number of elements : \\n\")) \n",
    "\n",
    "\n",
    "for x in range(n): \n",
    "        #value = int(input()) \n",
    "        num = int(input(\"Enter the number\\n\"))\n",
    "        lst.append(num) \n",
    "      \n",
    "print(lst)\n",
    "\n",
    "def describe(my_list):\n",
    "    count = len(my_list)\n",
    "    mean = np.mean(lst)\n",
    "    var = np.var(lst)\n",
    "    sd = np.std(lst)\n",
    "    \n",
    "\n",
    "    print('number of elements:',count)\n",
    "    print('mean : {:0.2f}'.format(mean))\n",
    "    print('variance : {:0.2f}'.format(var))\n",
    "    print('standard deviation : {:0.2f}'.format(sd))\n",
    "\n",
    "describe(lst)"
   ]
  },
  {
   "cell_type": "code",
   "execution_count": null,
   "metadata": {},
   "outputs": [],
   "source": []
  },
  {
   "cell_type": "code",
   "execution_count": null,
   "metadata": {},
   "outputs": [],
   "source": []
  }
 ],
 "metadata": {
  "kernelspec": {
   "display_name": "Python 3",
   "language": "python",
   "name": "python3"
  },
  "language_info": {
   "codemirror_mode": {
    "name": "ipython",
    "version": 3
   },
   "file_extension": ".py",
   "mimetype": "text/x-python",
   "name": "python",
   "nbconvert_exporter": "python",
   "pygments_lexer": "ipython3",
   "version": "3.7.3"
  }
 },
 "nbformat": 4,
 "nbformat_minor": 2
}
