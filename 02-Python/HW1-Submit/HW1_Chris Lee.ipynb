{
 "cells": [
  {
   "cell_type": "markdown",
   "metadata": {},
   "source": [
    "# Assignment HW01\n",
    "\n",
    "## <font color='red'> Deadline: 9/4. </font>\n",
    "\n",
    "### QUESTIONS\n",
    "\n",
    "1. Write a function called \"operate\" that takes as input two numbers, and a string that can be either \"add\" or \"multiply\". The output should be either the sum or product of the two numbers, depending on the string entered.\n",
    "\n",
    "2. The Fibonacci sequence starts with 1, 1, and each subsequent term is the sum of the preceding two terms. The first 6 terms of the Fibonacci sequence are: 1, 1, 2, 3, 5, 8, ... Write a python function that takes one argument N and prints the first N terms of the Fibonacci sequence.\n",
    "\n",
    "3. A simple substitution code codes 'a' as 1, 'b' as 2, ..., 'z' as 26. Write a function called \"encode\" that takes in a string, and prints the coded text. The output should be a string, with letters separated by \".\". Use \"999\" for punctuation and spaces. For example, encode(\"Hello!\") should print out \"8.5.12.12.15.999\".\n",
    "\n",
    "4. The Harmonic series is the sum of 1 + 1/2 + 1/3 + 1/4 + ..... The n<sup>th</sup> Harmonic number H<sub>n</sub> is 1 + 1/2 + 1/3 + ...  + 1/n. Write a python function called \"get_n\" that accepts as input a threshold, and returns n corresponding to the smallest Harmonic number whose value is grater than the threshold. E.g. `get_n(3)` should output 11.\n",
    "\n",
    "5. Write a function called \"describe\" that takes as input a list of numbers, and prints the number of elements in the list, and the mean, variance, and standard deviation. The printed quantities should be labeled. The output should look something like: </br></br>\n",
    "`number of elements: 12` </br>\n",
    "`mean: 0.5` </br>\n",
    "`variance: 0.04` </br>\n",
    "`standard deviation: 0.2`\n"
   ]
  },
  {
   "cell_type": "code",
   "execution_count": 3,
   "metadata": {},
   "outputs": [
    {
     "data": {
      "text/plain": [
       "28"
      ]
     },
     "execution_count": 3,
     "metadata": {},
     "output_type": "execute_result"
    }
   ],
   "source": [
    "#Problem Number 1, string name operator\n",
    "def operate(a,b,c):\n",
    "    if c == \"add\":\n",
    "        answer = a+b\n",
    "    if c == \"multiply\":\n",
    "        answer = a*b\n",
    "    return answer\n",
    "operate(4,7,\"add\")\n",
    "operate(4,7,\"multiply\")"
   ]
  },
  {
   "cell_type": "code",
   "execution_count": 6,
   "metadata": {},
   "outputs": [
    {
     "data": {
      "text/plain": [
       "28"
      ]
     },
     "execution_count": 6,
     "metadata": {},
     "output_type": "execute_result"
    }
   ],
   "source": [
    "#Problem Number 1, string sign operator\n",
    "def operate(a,operator,b):\n",
    "    if operator == \"+\":\n",
    "        answer = a+b\n",
    "    if operator == \"*\":\n",
    "        answer = a*b\n",
    "    return answer\n",
    "operate(4,\"+\",7)\n",
    "operate(4,\"*\",7)"
   ]
  },
  {
   "cell_type": "code",
   "execution_count": 12,
   "metadata": {},
   "outputs": [
    {
     "name": "stdout",
     "output_type": "stream",
     "text": [
      "1 1 2 3 5 8 "
     ]
    }
   ],
   "source": [
    "#Problem Number 2\n",
    "def nFib(N):\n",
    "    a1 = 1\n",
    "    a2 = 1\n",
    "    i = 0\n",
    "    while(i<N):\n",
    "        if(i<=1):\n",
    "            aN = 1\n",
    "        else:\n",
    "            aN = a1+a2\n",
    "            a1 = a2\n",
    "            a2 = aN\n",
    "        print(aN, end = \" \")\n",
    "        i = i+1\n",
    "nFib(6)"
   ]
  },
  {
   "cell_type": "code",
   "execution_count": 23,
   "metadata": {},
   "outputs": [
    {
     "name": "stdout",
     "output_type": "stream",
     "text": [
      "8.5.12.12.15.999."
     ]
    }
   ],
   "source": [
    "#Problem Number 3\n",
    "def encode(String):\n",
    "#    Alphabet = [a,b,c,d,e,f,g,h,i,j,k,l,m,n,o,p,q,r,s,t,u,v,w,x,y,z]\n",
    "#    aEncoded = [1,2,3,4,5,6,7,8,9,10,11,12,13,14,15,16,17,18,19,20,21,22,23,24,25,26]\n",
    "    AlphabetCode = dict([('a',1),('b',2),('c',3),('d',4),('e',5),('f',6),('g',7),('h',8),('i',9),('j',10),('k',11),('l',12),('m',13),('n',14),('o',15),('p',16),('q',17),('r',18),('s',19),('t',20),('u',21),('v',22),('w',23),('x',24),('y',25),('z',26)])\n",
    "    for letter in String.lower():\n",
    "        if letter in AlphabetCode:\n",
    "            print(AlphabetCode[letter], end = \".\")\n",
    "        else:\n",
    "            print(999, end = \".\")\n",
    "encode(\"Hello!\")"
   ]
  },
  {
   "cell_type": "code",
   "execution_count": 110,
   "metadata": {},
   "outputs": [
    {
     "name": "stdout",
     "output_type": "stream",
     "text": [
      "11\n"
     ]
    }
   ],
   "source": [
    "#Problem Number 4\n",
    "def get_n(N):\n",
    "    hsum = 0\n",
    "    count = 0\n",
    "    while(hsum<N):\n",
    "        count = count + 1\n",
    "        hsum = hsum + (1/count)\n",
    "    print(count)\n",
    "get_n(3)"
   ]
  },
  {
   "cell_type": "code",
   "execution_count": 115,
   "metadata": {},
   "outputs": [
    {
     "name": "stdout",
     "output_type": "stream",
     "text": [
      "Number of elements: 4\n",
      "Mean: 70.0\n",
      "Variance: 3125.0\n",
      "Standard Deviation: 55.90169943749474\n"
     ]
    }
   ],
   "source": [
    "#problem Number 5\n",
    "import numpy as np\n",
    "def describe(list):\n",
    "    total = 0\n",
    "    count = 0\n",
    "    vtotal = 0\n",
    "    for number in list:\n",
    "        total = total + number\n",
    "        count = count + 1\n",
    "    mean = total / count\n",
    "    for number in list:\n",
    "        vtotal = vtotal + (number - mean)**2\n",
    "        var = vtotal / count\n",
    "    stdv = np.sqrt(var)\n",
    "    print(\"Number of elements: \" + str(count))\n",
    "    print(\"Mean: \" + str(mean))\n",
    "    print(\"Variance: \" + str(var))\n",
    "    print(\"Standard Deviation: \" + str(stdv))\n",
    "\n",
    "describe([5,115,25,135])"
   ]
  },
  {
   "cell_type": "code",
   "execution_count": 99,
   "metadata": {},
   "outputs": [
    {
     "name": "stdout",
     "output_type": "stream",
     "text": [
      "0\n",
      "1\n",
      "2\n",
      "3\n",
      "4\n",
      "5\n",
      "6\n",
      "7\n",
      "8\n",
      "9\n",
      "10\n",
      "11\n",
      "12\n",
      "13\n",
      "14\n",
      "15\n",
      "16\n",
      "17\n",
      "18\n",
      "19\n"
     ]
    }
   ],
   "source": [
    "for x in range(20):\n",
    "    print(x)"
   ]
  },
  {
   "cell_type": "code",
   "execution_count": null,
   "metadata": {},
   "outputs": [],
   "source": []
  }
 ],
 "metadata": {
  "kernelspec": {
   "display_name": "Python 3",
   "language": "python",
   "name": "python3"
  },
  "language_info": {
   "codemirror_mode": {
    "name": "ipython",
    "version": 3
   },
   "file_extension": ".py",
   "mimetype": "text/x-python",
   "name": "python",
   "nbconvert_exporter": "python",
   "pygments_lexer": "ipython3",
   "version": "3.7.3"
  }
 },
 "nbformat": 4,
 "nbformat_minor": 2
}
