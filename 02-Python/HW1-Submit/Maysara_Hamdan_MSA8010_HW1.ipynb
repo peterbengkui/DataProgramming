{
 "cells": [
  {
   "cell_type": "markdown",
   "metadata": {},
   "source": [
    "# Assignment HW01\n",
    "\n",
    "## <font color='red'> Deadline: 9/4. </font>\n",
    "\n",
    "### QUESTIONS\n",
    "\n",
    "1. Write a function called \"operate\" that takes as input two numbers, and a string that can be either \"add\" or \"multiply\". The output should be either the sum or product of the two numbers, depending on the string entered.\n",
    "\n",
    "2. The Fibonacci sequence starts with 1, 1, and each subsequent term is the sum of the preceding two terms. The first 6 terms of the Fibonacci sequence are: 1, 1, 2, 3, 5, 8, ... Write a python function that takes one argument N and prints the first N terms of the Fibonacci sequence.\n",
    "\n",
    "3. A simple substitution code codes 'a' as 1, 'b' as 2, ..., 'z' as 26. Write a function called \"encode\" that takes in a string, and prints the coded text. The output should be a string, with letters separated by \".\". Use \"999\" for punctuation and spaces. For example, encode(\"Hello!\") should print out \"8.5.12.12.15.999\".\n",
    "\n",
    "4. The Harmonic series is the sum of 1 + 1/2 + 1/3 + 1/4 + ..... The n<sup>th</sup> Harmonic number H<sub>n</sub> is 1 + 1/2 + 1/3 + ...  + 1/n. Write a python function called \"get_n\" that accepts as input a threshold, and returns n corresponding to the smallest Harmonic number whose value is grater than the threshold. E.g. `get_n(3)` should output 11.\n",
    "\n",
    "5. Write a function called \"describe\" that takes as input a list of numbers, and prints the number of elements in the list, and the mean, variance, and standard deviation. The printed quantities should be labeled. The output should look something like: </br></br>\n",
    "`number of elements: 12` </br>\n",
    "`mean: 0.5` </br>\n",
    "`variance: 0.04` </br>\n",
    "`standard deviation: 0.2`\n"
   ]
  },
  {
   "cell_type": "code",
   "execution_count": 7,
   "metadata": {},
   "outputs": [
    {
     "name": "stdout",
     "output_type": "stream",
     "text": [
      "13\n"
     ]
    }
   ],
   "source": [
    "#Q1 Operate function \n",
    "def operate (number1,number2,operation):\n",
    "    if (operation == 'add') :\n",
    "        result = number1 + number2\n",
    "    elif (operation == 'multiply'):\n",
    "        result = number1 * number2\n",
    "    else:\n",
    "        result = 'Error ..' + operation + 'not supported yet !!' \n",
    "        \n",
    "    return result\n",
    "\n",
    "#Q1 Run Operate on 11 , 2 , add\n",
    "print(operate(11,2,'add'))"
   ]
  },
  {
   "cell_type": "code",
   "execution_count": 84,
   "metadata": {},
   "outputs": [
    {
     "name": "stdout",
     "output_type": "stream",
     "text": [
      "8.5.12.12.15.999\n",
      "1.4.4\n"
     ]
    }
   ],
   "source": [
    "#Q3 Encode Function\n",
    "Dict = {'a':1 ,'b':2 ,'c':3 ,'d':4 ,'e':5 ,'f':6 ,'g':7 ,\n",
    "        'h':8 ,'i':9 ,'j':10,'k':11,'l':12,'m':13,'n':14,\n",
    "        'o':15,'p':16,'q':17,'r':18,'s':19,'t':20,'u':21, \n",
    "        'v':22,'w':23,'x':24,'y':25,'z':26,' ':999,'!':999}\n",
    "\n",
    "def encode (texttoencode):\n",
    "    encodedtext=''\n",
    "    for i in texttoencode:\n",
    "        if encodedtext != '' :\n",
    "            encodedtext = encodedtext + '.'\n",
    "        encodedtext = encodedtext + str(Dict[i.lower()])\n",
    "    return encodedtext\n",
    "#Q3 Run encode on 'add'\n",
    "print(encode('Hello!'))\n",
    "print(encode('aDd'))"
   ]
  },
  {
   "cell_type": "code",
   "execution_count": 78,
   "metadata": {},
   "outputs": [
    {
     "name": "stdout",
     "output_type": "stream",
     "text": [
      "The first 6 terms of the Fibonacci sequence are: [1, 1, 2, 3, 5, 8]\n",
      "The first 9 terms of the Fibonacci sequence are: [1, 1, 2, 3, 5, 8, 13, 21, 34]\n"
     ]
    }
   ],
   "source": [
    "#Q2 Fibonacci Function\n",
    "def fibonacci (number):\n",
    "    sequence= []\n",
    "    for i in range(number):\n",
    "        if i == 0 or i == 1:\n",
    "            sequence.append(1)\n",
    "        else :\n",
    "            nextSeq = sequence[i-1]+sequence[i-2]\n",
    "            sequence.append(nextSeq)\n",
    "    return 'The first ' + str(number) + ' terms of the Fibonacci sequence are: ' + str(sequence)\n",
    "                             \n",
    "#Q2 Run fibonancci on 9\n",
    "print(fibonacci(6))                          \n",
    "print(fibonacci(9)) "
   ]
  },
  {
   "cell_type": "code",
   "execution_count": 83,
   "metadata": {},
   "outputs": [
    {
     "name": "stdout",
     "output_type": "stream",
     "text": [
      "11\n",
      "616\n"
     ]
    }
   ],
   "source": [
    "#Q4 get_n harmonic series\n",
    "def get_n (number):\n",
    "    n = 0\n",
    "    i = 0\n",
    "    while n < number:\n",
    "        i = i + 1\n",
    "        n = n + (1/i)       \n",
    "    return i\n",
    "\n",
    "#Q4 get_n for 7\n",
    "print(get_n(3))\n",
    "print(get_n(7))"
   ]
  },
  {
   "cell_type": "code",
   "execution_count": 98,
   "metadata": {},
   "outputs": [
    {
     "name": "stdout",
     "output_type": "stream",
     "text": [
      "number of elements: 5\n",
      "mean: 3.2\n",
      "variance: 2.2\n",
      "standard deviation: 1.4832396974191326\n",
      "number of elements: 10\n",
      "mean: 4.1\n",
      "variance: 4.766666666666667\n",
      "standard deviation: 2.183269719175042\n"
     ]
    }
   ],
   "source": [
    "#Q5 describe function\n",
    "import statistics as ss\n",
    "mylist = [1,3,5,3,4]\n",
    "\n",
    "\n",
    "def describe (mylist):\n",
    "    n = len(mylist)\n",
    "    m = ss.mean(mylist)\n",
    "    v = ss.variance(mylist)\n",
    "    s = ss.stdev(mylist)\n",
    "\n",
    "    print('number of elements: ' + str(n))\n",
    "    print('mean: ' + str(m))\n",
    "    print('variance: ' + str(v))\n",
    "    print('standard deviation: ' + str(s))\n",
    "\n",
    "#Q5 describe the list [[1,2,3,3,4,5,7,8,3,5] \n",
    "describe(mylist)\n",
    "describe([1,2,3,3,4,5,7,8,3,5])"
   ]
  },
  {
   "cell_type": "code",
   "execution_count": 110,
   "metadata": {},
   "outputs": [
    {
     "name": "stdout",
     "output_type": "stream",
     "text": [
      "number of elements: 5\n",
      "mean: 3.2\n",
      "variance: 2.2\n",
      "standard deviation: 1.4832396974191326\n",
      "number of elements: 10\n",
      "mean: 4.1\n",
      "variance: 4.7666666666666675\n",
      "standard deviation: 2.1832697191750423\n"
     ]
    }
   ],
   "source": [
    "#Q5 describe function\n",
    "mylist = [1,3,5,3,4]\n",
    "\n",
    "\n",
    "def describe (mylist):\n",
    "    n  =  0 #count\n",
    "    m  =  0 #sum\n",
    "    mm =  0 #sum the square of difference \n",
    "    \n",
    "    # to count and sum the list elements\n",
    "    for i in mylist:\n",
    "        n = n + 1\n",
    "        m = m + i\n",
    "    \n",
    "    myListCount = n\n",
    "    myListMean  = m/n\n",
    "    \n",
    "    # to calculate the sum of square (element - mean)\n",
    "    for ii in mylist:\n",
    "        mm = mm + ((ii - myListMean)**2)\n",
    "            \n",
    "    myListVariance = mm/(n-1)\n",
    "    myListSTD = myListVariance**(1/2)\n",
    "\n",
    "    print('number of elements: ' + str(myListCount))\n",
    "    print('mean: ' + str(myListMean))\n",
    "    print('variance: ' + str(myListVariance))\n",
    "    print('standard deviation: ' + str(myListSTD))\n",
    "\n",
    "#Q5 describe the list [[1,2,3,3,4,5,7,8,3,5] \n",
    "describe(mylist)\n",
    "describe([1,2,3,3,4,5,7,8,3,5])"
   ]
  },
  {
   "cell_type": "code",
   "execution_count": null,
   "metadata": {},
   "outputs": [],
   "source": []
  }
 ],
 "metadata": {
  "kernelspec": {
   "display_name": "Python 3",
   "language": "python",
   "name": "python3"
  },
  "language_info": {
   "codemirror_mode": {
    "name": "ipython",
    "version": 3
   },
   "file_extension": ".py",
   "mimetype": "text/x-python",
   "name": "python",
   "nbconvert_exporter": "python",
   "pygments_lexer": "ipython3",
   "version": "3.7.3"
  }
 },
 "nbformat": 4,
 "nbformat_minor": 2
}
