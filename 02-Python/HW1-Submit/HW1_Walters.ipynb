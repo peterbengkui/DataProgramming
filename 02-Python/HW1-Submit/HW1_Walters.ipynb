{
 "cells": [
  {
   "cell_type": "markdown",
   "metadata": {},
   "source": [
    "# Assignment HW01\n",
    "\n",
    "## <font color='red'> Deadline: 9/4. </font>\n",
    "\n",
    "### QUESTIONS\n",
    "\n",
    "1. Write a function called \"operate\" that takes as input two numbers, and a string that can be either \"add\" or \"multiply\". The output should be either the sum or product of the two numbers, depending on the string entered.\n",
    "\n",
    "2. The Fibonacci sequence starts with 1, 1, and each subsequent term is the sum of the preceding two terms. The first 6 terms of the Fibonacci sequence are: 1, 1, 2, 3, 5, 8, ... Write a python function that takes one argument N and prints the first N terms of the Fibonacci sequence.\n",
    "\n",
    "3. A simple substitution code codes 'a' as 1, 'b' as 2, ..., 'z' as 26. Write a function called \"encode\" that takes in a string, and prints the coded text. The output should be a string, with letters separated by \".\". Use \"999\" for punctuation and spaces. For example, encode(\"Hello!\") should print out \"8.5.12.12.15.999\".\n",
    "\n",
    "4. The Harmonic series is the sum of 1 + 1/2 + 1/3 + 1/4 + ..... The n<sup>th</sup> Harmonic number H<sub>n</sub> is 1 + 1/2 + 1/3 + ...  + 1/n. Write a python function called \"get_n\" that accepts as input a threshold, and returns n corresponding to the smallest Harmonic number whose value is grater than the threshold. E.g. `get_n(3)` should output 11.\n",
    "\n",
    "5. Write a function called \"describe\" that takes as input a list of numbers, and prints the number of elements in the list, and the mean, variance, and standard deviation. The printed quantities should be labeled. The output should look something like: </br></br>\n",
    "`number of elements: 12` </br>\n",
    "`mean: 0.5` </br>\n",
    "`variance: 0.04` </br>\n",
    "`standard deviation: 0.2`\n"
   ]
  },
  {
   "cell_type": "code",
   "execution_count": 64,
   "metadata": {},
   "outputs": [
    {
     "name": "stdout",
     "output_type": "stream",
     "text": [
      "5\n",
      "12\n"
     ]
    }
   ],
   "source": [
    "#1\n",
    "\n",
    "def operate(x,y,operation):\n",
    "    if operation==\"add\": \n",
    "        print (x+y)\n",
    "    elif operation==\"multiply\":\n",
    "        print (x*y)\n",
    "        \n",
    "operate(2,3,\"add\")\n",
    "operate (3,4,\"multiply\")  \n"
   ]
  },
  {
   "cell_type": "code",
   "execution_count": 100,
   "metadata": {},
   "outputs": [
    {
     "name": "stdout",
     "output_type": "stream",
     "text": [
      "[1, 1, 2, 3, 5, 8, 13, 21, 34]\n"
     ]
    }
   ],
   "source": [
    "#2\n",
    "\n",
    "def fibseq(N):\n",
    "    seq=[1,1]\n",
    "\n",
    "    for i in range(N):\n",
    "        if i > 1:\n",
    "            seq.append(seq[i-1]+seq[i-2])\n",
    "        \n",
    "    print(seq[:N])\n",
    "    \n",
    "fibseq(9)\n",
    "    "
   ]
  },
  {
   "cell_type": "code",
   "execution_count": 255,
   "metadata": {},
   "outputs": [
    {
     "name": "stdout",
     "output_type": "stream",
     "text": [
      "12.5.1.18.14.9.14.7\n"
     ]
    }
   ],
   "source": [
    "#3\n",
    "def encode(text):\n",
    "    new_string = text.lower() \n",
    "\n",
    "    a_char = ord(new_string[0]) \n",
    "    if a_char >= 97 and a_char <= 122: \n",
    "        num_concat = a_char-96 \n",
    "    else:\n",
    "        num_concat = 999\n",
    "    output_string=str(num_concat) \n",
    "\n",
    "    for char in new_string[1:]: \n",
    "        a_char = ord(char)\n",
    "        if a_char >= 97 and a_char <= 122:\n",
    "            num_concat = a_char-96\n",
    "        else:\n",
    "            num_concat = 999\n",
    "        output_string+=\".\" \n",
    "        output_string+=str(num_concat) \n",
    "\n",
    "    print(output_string)\n",
    "\n",
    "encode(\"Learning\")   \n"
   ]
  },
  {
   "cell_type": "code",
   "execution_count": 260,
   "metadata": {},
   "outputs": [
    {
     "name": "stdout",
     "output_type": "stream",
     "text": [
      "11\n"
     ]
    }
   ],
   "source": [
    "#4\n",
    "\n",
    "def get_n(n):\n",
    "    finalsum = 0 \n",
    "    a = 0\n",
    "    while finalsum < n:  \n",
    "        a += 1 \n",
    "        finalsum += 1/a \n",
    "    print(a)\n",
    "\n",
    "get_n(3)\n",
    "    "
   ]
  },
  {
   "cell_type": "code",
   "execution_count": 110,
   "metadata": {},
   "outputs": [
    {
     "name": "stdout",
     "output_type": "stream",
     "text": [
      "number of elements: 4\n",
      "mean: 47.25\n",
      "variance: 805.6875\n",
      "standard deviation: 28.38463492807332\n"
     ]
    }
   ],
   "source": [
    "#5\n",
    "\n",
    "import numpy as np\n",
    "\n",
    "def describe(numbers):\n",
    "    print(\"number of elements: {}\".format(len(numbers)))\n",
    "    print(\"mean: {}\".format(np.mean(numbers)))\n",
    "    print(\"variance: {}\".format(np.var(numbers)))\n",
    "    print(\"standard deviation: {}\".format(np.std(numbers)))\n",
    "describe([14, 56, 30, 89])"
   ]
  },
  {
   "cell_type": "code",
   "execution_count": null,
   "metadata": {},
   "outputs": [],
   "source": []
  }
 ],
 "metadata": {
  "kernelspec": {
   "display_name": "Python 3",
   "language": "python",
   "name": "python3"
  },
  "language_info": {
   "codemirror_mode": {
    "name": "ipython",
    "version": 3
   },
   "file_extension": ".py",
   "mimetype": "text/x-python",
   "name": "python",
   "nbconvert_exporter": "python",
   "pygments_lexer": "ipython3",
   "version": "3.7.3"
  }
 },
 "nbformat": 4,
 "nbformat_minor": 2
}
