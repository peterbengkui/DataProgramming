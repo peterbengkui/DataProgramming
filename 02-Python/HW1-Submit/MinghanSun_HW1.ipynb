{
 "cells": [
  {
   "cell_type": "code",
   "execution_count": 1,
   "metadata": {},
   "outputs": [
    {
     "name": "stdout",
     "output_type": "stream",
     "text": [
      "15\n"
     ]
    }
   ],
   "source": [
    "def operate(a,b,c):\n",
    "    if c=='add':\n",
    "        print(a+b)\n",
    "    else:\n",
    "        print(a*b)\n",
    "operate(7,8,'add')"
   ]
  },
  {
   "cell_type": "code",
   "execution_count": 1,
   "metadata": {},
   "outputs": [
    {
     "name": "stdout",
     "output_type": "stream",
     "text": [
      "1\n",
      "1\n",
      "2\n",
      "3\n",
      "5\n",
      "8\n"
     ]
    }
   ],
   "source": [
    "def f(n):\n",
    "    if n==1: \n",
    "        return 1\n",
    "    elif n==2:\n",
    "        return 1\n",
    "    else:\n",
    "        return f(n-1)+f(n-2)\n",
    "for i in range (1,7):\n",
    "    print(f(i))\n",
    "\n"
   ]
  },
  {
   "cell_type": "code",
   "execution_count": 134,
   "metadata": {
    "scrolled": true
   },
   "outputs": [
    {
     "name": "stdout",
     "output_type": "stream",
     "text": [
      "13.15.18.14.9.14.7.999\n"
     ]
    }
   ],
   "source": [
    "my_dict={\"a\":1,\"b\":2,\"c\":3,\"d\":4,\"e\":5,\"f\":6,\"g\":7,\"h\":8,\"i\":9,\"j\":10,\"k\":11,\"l\":12,\"m\":13,\"n\":14,\"o\":15,\"p\":16,\"q\":17,\"r\":18,\"s\":19,\"t\":20,\"u\":21,\"v\":22,\"w\":23,\"x\":24,\"y\":25,\"z\":26}\n",
    "def encode(word):\n",
    "    my_input=list(word)\n",
    "    for element in my_input:\n",
    "        if element in my_dict:\n",
    "            output=my_dict[element]\n",
    "            print(output, end='' + '.')\n",
    "        else:\n",
    "            print(\"999\")\n",
    "encode(\"morning!\")"
   ]
  },
  {
   "cell_type": "code",
   "execution_count": 1,
   "metadata": {},
   "outputs": [
    {
     "name": "stdout",
     "output_type": "stream",
     "text": [
      "11\n"
     ]
    }
   ],
   "source": [
    "def get_n(n):\n",
    "    i=1\n",
    "    m=1\n",
    "    while i<n:\n",
    "        i=i+1/(1+m)\n",
    "        m+=1\n",
    "    print(m)\n",
    "    \n",
    "get_n(3)\n",
    "        "
   ]
  },
  {
   "cell_type": "code",
   "execution_count": 51,
   "metadata": {},
   "outputs": [
    {
     "name": "stdout",
     "output_type": "stream",
     "text": [
      "number of elements: 4\n",
      "mean: 3.25\n",
      "variance: 6.92\n",
      "standard deviation: 2.63\n"
     ]
    }
   ],
   "source": [
    "import statistics as sta\n",
    "def describe(n):\n",
    "    m=len(list(n))\n",
    "    x=sta.mean(n)\n",
    "    y=sta.variance(n)\n",
    "    z=sta.stdev(n)\n",
    "    print('number of elements: '+str(m))\n",
    "    print('mean: '+str('%.2f'%x))\n",
    "    print('variance: '+str('%.2f'%y))\n",
    "    print('standard deviation: '+str('%.2f'%z))\n",
    "describe([1,2,3,7])"
   ]
  },
  {
   "cell_type": "code",
   "execution_count": null,
   "metadata": {},
   "outputs": [],
   "source": []
  }
 ],
 "metadata": {
  "kernelspec": {
   "display_name": "Python 3",
   "language": "python",
   "name": "python3"
  },
  "language_info": {
   "codemirror_mode": {
    "name": "ipython",
    "version": 3
   },
   "file_extension": ".py",
   "mimetype": "text/x-python",
   "name": "python",
   "nbconvert_exporter": "python",
   "pygments_lexer": "ipython3",
   "version": "3.7.3"
  }
 },
 "nbformat": 4,
 "nbformat_minor": 2
}
