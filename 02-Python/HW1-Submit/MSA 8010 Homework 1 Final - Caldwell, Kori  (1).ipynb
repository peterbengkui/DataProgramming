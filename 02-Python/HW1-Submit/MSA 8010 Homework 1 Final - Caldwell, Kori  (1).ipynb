{
 "cells": [
  {
   "cell_type": "markdown",
   "metadata": {},
   "source": [
    "1) Write a function called \"operate\" that takes as input two numbers, and a string that can be either \"add\" or \"multiply\". The output should be either the sum or product of the two numbers, depending on the string entered."
   ]
  },
  {
   "cell_type": "code",
   "execution_count": 1,
   "metadata": {},
   "outputs": [
    {
     "name": "stdout",
     "output_type": "stream",
     "text": [
      "Enter value 1:1\n",
      "Enter value 2:2\n",
      "Add or Multiplymultiply\n",
      "3\n"
     ]
    }
   ],
   "source": [
    "## Define function called \"Operate\" ##\n",
    "def operate():\n",
    "    x = int(input(\"Enter value 1:\")) ## Input Number 1 ##\n",
    "    y = int(input(\"Enter value 2:\")) ## Input Number 2 ##\n",
    "    str_operation = input(\"Add or Multiply: \") ## String Command ##\n",
    "    if str_operation.lower() == \"multiply\": ## Choose Command ##\n",
    "        return x * y\n",
    "    else:\n",
    "        return x + y\n",
    "        \n",
    "print(operate()) ## Execute Function ##"
   ]
  },
  {
   "cell_type": "markdown",
   "metadata": {},
   "source": [
    "2) The Fibonacci sequence starts with 1, 1, and each subsequent term is the sum of the preceding two terms. The first 6 terms of the Fibonacci sequence are: 1, 1, 2, 3, 5, 8, ... Write a python function that takes one argument N and prints the first N terms of the Fibonacci sequence."
   ]
  },
  {
   "cell_type": "code",
   "execution_count": null,
   "metadata": {},
   "outputs": [],
   "source": [
    "## Enter the number of terms you in your Fibonacci Sequence ## \n",
    "Nth_Term = int(input(\"Enter the number of terms you want to evaluate for the Fibonacci Sequence: \"))\n",
    " \n",
    "n1 = 0 ## First Term ##\n",
    "n2 = 1 ## Second Term ##\n",
    " \n",
    "print(\"\\nThe Fibonacci Sequence is as follows:\")  ## \\n indicates new line then string ##\n",
    "print(n1, \",\", n2, end= \", \") ## Display n1, n2, and end with a comma ##\n",
    " \n",
    "for i in range(2, Nth_Term):  ## Initiate loop until Nth Term entered ## \n",
    "    next = n1 + n2 ## Next returns the next item ## \n",
    "    print(next, end= \", \")\n",
    " \n",
    "    n1 = n2 \n",
    "    n2 = next"
   ]
  },
  {
   "cell_type": "markdown",
   "metadata": {},
   "source": [
    "3) A simple substitution code codes 'a' as 1, 'b' as 2, ..., 'z' as 26. Write a function called \"encode\" that takes in a string, and prints the coded text. The output should be a string, with letters separated by \".\". Use \"999\" for punctuation and spaces. For example, encode(\"Hello!\") should print out \"8.5.12.12.15.999\"."
   ]
  },
  {
   "cell_type": "code",
   "execution_count": 4,
   "metadata": {},
   "outputs": [
    {
     "ename": "IndentationError",
     "evalue": "expected an indented block (<ipython-input-4-942ebeb19218>, line 33)",
     "output_type": "error",
     "traceback": [
      "\u001b[1;36m  File \u001b[1;32m\"<ipython-input-4-942ebeb19218>\"\u001b[1;36m, line \u001b[1;32m33\u001b[0m\n\u001b[1;33m    if word[i] in value:\u001b[0m\n\u001b[1;37m     ^\u001b[0m\n\u001b[1;31mIndentationError\u001b[0m\u001b[1;31m:\u001b[0m expected an indented block\n"
     ]
    }
   ],
   "source": [
    "values = {\n",
    "    'a':1,\n",
    "    'b':2,\n",
    "    'c':3,\n",
    "    'd':4,\n",
    "    'e':5,\n",
    "    'f':6,\n",
    "    'g':7,\n",
    "    'h':8,\n",
    "    'i':9,\n",
    "    'j':10,\n",
    "    'k':11,\n",
    "    'l':12,\n",
    "    'm':13,\n",
    "    'n':14, \n",
    "    'o':15,\n",
    "    'p':16,\n",
    "    'q':17,\n",
    "    'r':18,\n",
    "    's':19,\n",
    "    't':20,\n",
    "    'u':21,\n",
    "    'v':22,\n",
    "    'w':23,\n",
    "    'x':24,\n",
    "    'y':25,\n",
    "    'z':26,\n",
    "    '!':999,\n",
    "    ' ':999,\n",
    "    '@':999,\n",
    "    '.':999}\n",
    "\n",
    "word = str(input(\"Enter a word: \").lower())\n",
    "\n",
    "for i in range (len(word)):\n",
    "    print (word[i]) "
   ]
  },
  {
   "cell_type": "markdown",
   "metadata": {},
   "source": [
    "4) The Harmonic series is the sum of 1 + 1/2 + 1/3 + 1/4 + ..... The nth Harmonic number Hn is 1 + 1/2 + 1/3 + ... + 1/n. Write a python function called \"get_n\" that accepts as input a threshold, and returns n corresponding to the smallest Harmonic number whose value is grater than the threshold. E.g. get_n(3) should output 11."
   ]
  },
  {
   "cell_type": "code",
   "execution_count": 42,
   "metadata": {},
   "outputs": [
    {
     "name": "stdout",
     "output_type": "stream",
     "text": [
      "Enter Input Threshold: 3\n",
      "11.0\n"
     ]
    }
   ],
   "source": [
    "n = int(input(\"Enter Input Threshold: \")) \n",
    "\n",
    "def get_n(n): ## Define function called get_n ##\n",
    "    \n",
    "    a=1\n",
    "    b=1\n",
    "    \n",
    "    for d in range(2, n+1):\n",
    "        a = a*d+b\n",
    "        b = b*d\n",
    "        \n",
    "    y=a\n",
    "    x=b\n",
    "    \n",
    "    while x > 0: ## Continue while x is greater than zero ## \n",
    "        re = y % x ## Modulo = Remainig of a and b ##\n",
    "        y = x\n",
    "        x = re\n",
    "\n",
    "    a=a/y\n",
    "    b=b/y\n",
    "    \n",
    "    return(a) ## Return results of (a) ##\n",
    "\n",
    "print (get_n(n)) ## Display output ##\n"
   ]
  },
  {
   "cell_type": "markdown",
   "metadata": {},
   "source": [
    "5) Write a function called \"describe\" that takes as input a list of numbers, and prints the number of elements in the list, and the mean, variance, and standard deviation. The printed quantities should be labeled. The output should look something like:  number of elements: 12  mean: 0.5  variance: 0.04 standard deviation: 0.2"
   ]
  },
  {
   "cell_type": "code",
   "execution_count": 53,
   "metadata": {},
   "outputs": [
    {
     "name": "stdout",
     "output_type": "stream",
     "text": [
      "Enter number of elements : 5\n",
      "1\n",
      "2\n",
      "3\n",
      "4\n",
      "5\n",
      "[1, 2, 3, 4, 5]\n",
      "Mean: 3\n",
      "Standard Deviation: 1.5811388300841898\n",
      "Variance: 2.5\n"
     ]
    }
   ],
   "source": [
    "## Import Statistics ## \n",
    "import statistics \n",
    "\n",
    "## Set empty list ##\n",
    "lst = [] \n",
    "  \n",
    "## Input number of elements ## \n",
    "nbr_ele = int(input(\"Enter number of elements : \")) \n",
    "  \n",
    "## Loop until number of elements entered ##\n",
    "for i in range(0, nbr_ele): \n",
    "    list = int(input()) \n",
    "    \n",
    "    lst.append(list) ## add each element ## \n",
    "           \n",
    "print(lst) ## Print list ##\n",
    "print(\"Mean: % s\" %(statistics.mean(lst))) ## Display Mean ##\n",
    "print(\"Standard Deviation: % s\" %(statistics.stdev(lst))) ## Display Standard Deviation ##\n",
    "print(\"Variance: % s\" %(statistics.variance(lst))) ##  Display Variance ##\n",
    "\n",
    "  \n"
   ]
  }
 ],
 "metadata": {
  "kernelspec": {
   "display_name": "Python 3",
   "language": "python",
   "name": "python3"
  },
  "language_info": {
   "codemirror_mode": {
    "name": "ipython",
    "version": 3
   },
   "file_extension": ".py",
   "mimetype": "text/x-python",
   "name": "python",
   "nbconvert_exporter": "python",
   "pygments_lexer": "ipython3",
   "version": "3.7.1"
  }
 },
 "nbformat": 4,
 "nbformat_minor": 2
}
