{
 "cells": [
  {
   "cell_type": "markdown",
   "metadata": {},
   "source": [
    "# Assignment HW01\n",
    "\n",
    "## <font color='red'> Deadline: 9/4. </font>\n",
    "\n",
    "### QUESTIONS\n",
    "\n",
    "1. Write a function called \"operate\" that takes as input two numbers, and a string that can be either \"add\" or \"multiply\". The output should be either the sum or product of the two numbers, depending on the string entered.\n",
    "\n",
    "2. The Fibonacci sequence starts with 1, 1, and each subsequent term is the sum of the preceding two terms. The first 6 terms of the Fibonacci sequence are: 1, 1, 2, 3, 5, 8, ... Write a python function that takes one argument N and prints the first N terms of the Fibonacci sequence.\n",
    "\n",
    "3. A simple substitution code codes 'a' as 1, 'b' as 2, ..., 'z' as 26. Write a function called \"encode\" that takes in a string, and prints the coded text. The output should be a string, with letters separated by \".\". Use \"999\" for punctuation and spaces. For example, encode(\"Hello!\") should print out \"8.5.12.12.15.999\".\n",
    "\n",
    "4. The Harmonic series is the sum of 1 + 1/2 + 1/3 + 1/4 + ..... The n<sup>th</sup> Harmonic number H<sub>n</sub> is 1 + 1/2 + 1/3 + ...  + 1/n. Write a python function called \"get_n\" that accepts as input a threshold, and returns n corresponding to the smallest Harmonic number whose value is grater than the threshold. E.g. `get_n(3)` should output 11.\n",
    "\n",
    "5. Write a function called \"describe\" that takes as input a list of numbers, and prints the number of elements in the list, and the mean, variance, and standard deviation. The printed quantities should be labeled. The output should look something like: </br></br>\n",
    "`number of elements: 12` </br>\n",
    "`mean: 0.5` </br>\n",
    "`variance: 0.04` </br>\n",
    "`standard deviation: 0.2`\n"
   ]
  },
  {
   "cell_type": "code",
   "execution_count": null,
   "metadata": {},
   "outputs": [],
   "source": [
    "#Question 1.\n",
    "print(\"Question 1. \\n\")\n",
    "\n",
    "def operate(a,b,c):\n",
    "    if c == \"add\":\n",
    "        d = a + b \n",
    "        print(d)\n",
    "    elif c == \"multiply\":\n",
    "        d = a*b\n",
    "        print (d)\n",
    "    else:\n",
    "        print(\"error\")\n",
    "        \n",
    "operate(2,7,\"add\")\n",
    "operate(2,9,\"multiply\")"
   ]
  },
  {
   "cell_type": "code",
   "execution_count": 29,
   "metadata": {},
   "outputs": [
    {
     "name": "stdout",
     "output_type": "stream",
     "text": [
      "Question 2. \n",
      "\n",
      "[1, 1, 2, 3, 5]\n",
      "[1, 1, 2, 3, 5, 8, 13]\n",
      "[1, 1, 2, 3, 5, 8, 13, 21, 34, 55, 89, 144, 233, 377, 610, 987, 1597, 2584, 4181, 6765]\n"
     ]
    }
   ],
   "source": [
    "#Question 2. \n",
    "print('Question 2. \\n')\n",
    "\n",
    "def showfib(n):\n",
    "    i = 0\n",
    "    d= [0]* n\n",
    "    while (i+1)<n:\n",
    "        d[0]=1\n",
    "        d[1]=1\n",
    "        d[i+1] = d[i] + (d[i-1])\n",
    "        i = i+1\n",
    "    print(d)\n",
    "    \n",
    "    \n",
    "showfib(5)\n",
    "showfib(7)\n",
    "showfib(20)"
   ]
  },
  {
   "cell_type": "code",
   "execution_count": 7,
   "metadata": {},
   "outputs": [
    {
     "name": "stdout",
     "output_type": "stream",
     "text": [
      "Question 3. \n",
      "\n",
      "9.999.12.15.22.5.999.25.15.21."
     ]
    }
   ],
   "source": [
    "#Question 3. want letters to translate to numbers. separated by \".\" and 999 for punctuation \n",
    "print('Question 3. \\n')\n",
    "\n",
    "encdict = dict([('a',1),('A',1),('b',2),('B',2),('c',3),('C',3),('d',4),('D',4),('e',5),('E',5),\n",
    "               ('f',6),('F',6),('g',7),('G',7),('h',8),('H',8),('i',9),('I',9),('j',10),('J',10),\n",
    "               ('k',11),('K',11),('l',12),('L',12),('m',13),('M',13),('n',14),('N',14),('o',15),('O',15),\n",
    "               ('p',16),('P',16),('q',17),('Q',17),('r',18),('R',18),('s',19),('S',19),('t',20),('T',20),\n",
    "               ('u',21),('U',21),('v',22),('V',22),('w',23),('W',23),('x',24),('X',24),('y',25),('Y',25),\n",
    "               ('z',26),('Z',26)])\n",
    "def encode(a):\n",
    "    b = list(a)\n",
    "    for letter in b:\n",
    "        if letter in encdict:\n",
    "            print(encdict[letter],'.',sep='',end='')\n",
    "        else:\n",
    "            print('999','.',sep='',end='')\n",
    "    \n",
    "    \n",
    "encode(\"i love you\")\n",
    "#still need to add the \".\""
   ]
  },
  {
   "cell_type": "code",
   "execution_count": 4,
   "metadata": {},
   "outputs": [
    {
     "name": "stdout",
     "output_type": "stream",
     "text": [
      "Question 4. \n",
      "\n",
      "11\n",
      "12367\n"
     ]
    }
   ],
   "source": [
    "print('Question 4. \\n')\n",
    "\n",
    "def harmsum(b):\n",
    "    i = 0\n",
    "    x = 0\n",
    "    while (i) < (b):\n",
    "        x = x + 1/(i+1)\n",
    "        i = i +1\n",
    "    return(x)\n",
    "\n",
    "# **harmsum input is number of terms, output x is the sum of b terms** #\n",
    "\n",
    "\n",
    "def get_n(a):\n",
    "    j = 0\n",
    "    y = harmsum(j)\n",
    "    while y < a:\n",
    "        y = harmsum(j)\n",
    "        j = j+1\n",
    "    print(j-1)\n",
    "    \n",
    "# should print the number of terms in harmonic sum before the sum > a #\n",
    "    \n",
    "get_n(3)\n",
    "get_n(10)\n",
    "     "
   ]
  },
  {
   "cell_type": "code",
   "execution_count": 13,
   "metadata": {},
   "outputs": [
    {
     "name": "stdout",
     "output_type": "stream",
     "text": [
      "Question 5. \n",
      " \n",
      "\n",
      "Number of elements: 4 \n",
      "\n",
      "Mean: 2.5 \n",
      "\n",
      "Variance: 1.6666666666666667 \n",
      "\n",
      "Standard Deviation: 1.2909944487358056 \n",
      "\n"
     ]
    }
   ],
   "source": [
    "print('Question 5. \\n \\n')\n",
    "\n",
    "import statistics\n",
    "    \n",
    "def describe(*n):\n",
    "    print(\"Number of elements:\", len(n), \"\\n\")\n",
    "    print(\"Mean:\", statistics.mean(n), \"\\n\")\n",
    "    print(\"Variance:\", statistics.variance(n), \"\\n\")\n",
    "    print(\"Standard Deviation:\", statistics.stdev(n), \"\\n\")\n",
    "    \n",
    "describe(1,2,3,4)"
   ]
  },
  {
   "cell_type": "code",
   "execution_count": null,
   "metadata": {},
   "outputs": [],
   "source": []
  },
  {
   "cell_type": "code",
   "execution_count": null,
   "metadata": {},
   "outputs": [],
   "source": []
  }
 ],
 "metadata": {
  "kernelspec": {
   "display_name": "Python 3",
   "language": "python",
   "name": "python3"
  },
  "language_info": {
   "codemirror_mode": {
    "name": "ipython",
    "version": 3
   },
   "file_extension": ".py",
   "mimetype": "text/x-python",
   "name": "python",
   "nbconvert_exporter": "python",
   "pygments_lexer": "ipython3",
   "version": "3.7.3"
  }
 },
 "nbformat": 4,
 "nbformat_minor": 2
}
