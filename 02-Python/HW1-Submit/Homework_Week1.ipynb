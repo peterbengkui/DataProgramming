{
 "cells": [
  {
   "cell_type": "code",
   "execution_count": 1,
   "metadata": {},
   "outputs": [
    {
     "name": "stdout",
     "output_type": "stream",
     "text": [
      "Input the two numbers and the operation you want to perform (multiply/add)\n",
      "10\n",
      "20\n",
      "add\n",
      "30\n"
     ]
    }
   ],
   "source": [
    "#Write a function called \"operate\" that takes as input two numbers, and a string that can be either \"add\" or \"multiply\".\n",
    "#The output should be either the sum or product of the two numbers, depending on the string entered.\n",
    "def operate(var1,var2,op):\n",
    "    if op=='add':\n",
    "        return var1+var2\n",
    "    elif op=='multiply':\n",
    "        return var1*var2\n",
    "    else:\n",
    "        return 0\n",
    "print(\"Input the two numbers and the operation you want to perform (multiply/add)\")\n",
    "inputs = []\n",
    "for i in range(3):\n",
    "    inputs.append(input())\n",
    "a = int(inputs[0])\n",
    "b = int(inputs[1])\n",
    "c = inputs[2].lower()\n",
    "result = operate(a,b,c)\n",
    "if result ==0:\n",
    "    print(\"Invalid operation\")\n",
    "else:\n",
    "    print(result)"
   ]
  },
  {
   "cell_type": "code",
   "execution_count": null,
   "metadata": {},
   "outputs": [],
   "source": [
    "#The Fibonacci sequence starts with 1, 1, and each subsequent term is the sum of the preceding two terms. The first 6 terms of the Fibonacci sequence are: 1, 1, 2, 3, 5, 8, ... \n",
    "#Write a python function that takes one argument N and prints the first N terms of the Fibonacci sequence.\n",
    "def fibonacci(fib):\n",
    "        a = 1\n",
    "        b = 1\n",
    "        count = 0\n",
    "        if fib == 1:\n",
    "            print(\"THe first fibonacci number is\")\n",
    "            print(a)\n",
    "        else:\n",
    "            print(\"THe first \",fib,\"Fibonacci numbers are:\")\n",
    "            while count < fib:\n",
    "                print(a,end=' , ')\n",
    "                c = a+b\n",
    "                a = b\n",
    "                b = c\n",
    "                count += 1\n",
    "                \n",
    "x = input(\"Enter the number\")\n",
    "n = int(x)\n",
    "fibonacci(n)\n",
    "    "
   ]
  },
  {
   "cell_type": "code",
   "execution_count": null,
   "metadata": {},
   "outputs": [],
   "source": [
    "#A simple substitution code codes 'a' as 1, 'b' as 2, ..., 'z' as 26. \n",
    "#Write a function called \"encode\" that takes in a string, and prints the coded text. \n",
    "#The output should be a string, with letters separated by \".\". Use \"999\" for punctuation and spaces. \n",
    "#For example, encode(\"Hello!\") should print out \"8.5.12.12.15.999\".\n",
    "string = str.lower(input(\"Enter the input\"))\n",
    "print(string)\n",
    "lent = len(string)\n",
    "result = \"\"\n",
    "b = [\"a\",\"b\",\"c\",\"d\",\"e\",\"f\",\"g\",\"h\",\"i\",\"j\",\"k\",\"l\",\"m\",\"n\",\"o\",\"p\",\"q\",\"r\",\"s\",\"t\",\"u\",\"v\",\"w\",\"x\",\"y\",\"z\"]\n",
    "print(\"The code for\",string,\"is\")\n",
    "for i in range(0,lent):\n",
    "    if(string[i] in b):\n",
    "        for j in range(0,25):\n",
    "            if(string[i]==b[j]):\n",
    "                result =result+str((j+1))+\".\"\n",
    "                #print(j+1,end=\".\")\n",
    "    elif(string[i] not in b):\n",
    "        result = result+\"999\"+\".\"\n",
    "       # print(999,end=\".\")\n",
    "print(result[:len(result)-1]) "
   ]
  },
  {
   "cell_type": "code",
   "execution_count": null,
   "metadata": {},
   "outputs": [],
   "source": [
    "#The Harmonic series is the sum of 1 + 1/2 + 1/3 + 1/4 + ..... The nth Harmonic number Hn is 1 + 1/2 + 1/3 + ... + 1/n. \n",
    "#Write a python function called \"get_n\" that accepts as input a threshold, \n",
    "#and returns n corresponding to the smallest Harmonic number whose value is grater than the threshold. \n",
    "#E.g. get_n(3) should output 11.\n",
    "def get_n(a):\n",
    "    sum = 0\n",
    "    res = 0\n",
    "    i = 1\n",
    "    while(sum<=a):\n",
    "            sum=sum+(1/i)\n",
    "            i=i+1\n",
    "            res = i\n",
    "    return res-1\n",
    "\n",
    "n = int(input(\"Enter the threshold\"))\n",
    "result = get_n(n)\n",
    "print(\"The smallest Harmonic number whose value is grater than the threshold is\",result)"
   ]
  },
  {
   "cell_type": "code",
   "execution_count": 5,
   "metadata": {},
   "outputs": [
    {
     "name": "stdout",
     "output_type": "stream",
     "text": [
      "Enter number of elements : 2\n",
      "10\n",
      "10\n",
      "Numbers of elements:  2\n",
      "Mean : 10.0\n",
      "Variance : 0.0\n",
      "Standard Deviation:  0.0\n"
     ]
    }
   ],
   "source": [
    "#Write a function called \"describe\" that takes as input a list of numbers, and prints the number of elements in the list, \n",
    "#and the mean, variance, and standard deviation. The printed quantities should be labeled. \n",
    "#The output should look something like: number of elements: 12 mean: 0.5 variance: 0.04 standard deviation: \n",
    "                    #0.2import math as math1\n",
    "import math as math1\n",
    "def describe(a,b = []):\n",
    "    sum = 0\n",
    "    for i in range(a):\n",
    "        sum = sum+b[i]\n",
    "    mean = float(sum/n)\n",
    "    print(\"Mean :\",mean)\n",
    "    variance = 0\n",
    "    for i in range(a):\n",
    "        variance = variance+(((b[i]-mean)**2)/a)\n",
    "    print(\"Variance :\",variance)\n",
    "    standard_dev = math1.sqrt(variance)\n",
    "    print(\"Standard Deviation: \",standard_dev)\n",
    "\n",
    "ab = []  \n",
    "n = int(input(\"Enter number of elements : \")) \n",
    "for i in range(0, n): \n",
    "    x = int(input()) \n",
    "    ab.append(x)\n",
    "print(\"Numbers of elements: \",n) \n",
    "describe(n,ab)      \n"
   ]
  },
  {
   "cell_type": "code",
   "execution_count": null,
   "metadata": {},
   "outputs": [],
   "source": []
  }
 ],
 "metadata": {
  "kernelspec": {
   "display_name": "Python 3",
   "language": "python",
   "name": "python3"
  },
  "language_info": {
   "codemirror_mode": {
    "name": "ipython",
    "version": 3
   },
   "file_extension": ".py",
   "mimetype": "text/x-python",
   "name": "python",
   "nbconvert_exporter": "python",
   "pygments_lexer": "ipython3",
   "version": "3.7.3"
  }
 },
 "nbformat": 4,
 "nbformat_minor": 2
}
