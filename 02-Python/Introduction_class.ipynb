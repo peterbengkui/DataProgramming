{
 "cells": [
  {
   "cell_type": "markdown",
   "metadata": {
    "collapsed": true
   },
   "source": [
    "<p style=\"text-align:right;color:red;font-weight:bold;font-size:16pt;padding-bottom:20px\">Please, rename this notebook before editing!</p>\n",
    "\n",
    "# The Programming Language Python"
   ]
  },
  {
   "cell_type": "markdown",
   "metadata": {},
   "source": [
    "## Introduction\n",
    "\n",
    "Python is meant to be a simple, readable high-level language that is easily extensible. Well-written python code should be easy for a collaborator to understand, provided they have a good grasp of the python language. \n",
    "\n",
    "One of the pitfalls of python is that whitespace matters. In a for/while/if statement, the relevant lines must be indented. This is good for readability, but can cause some hard-to-catch debugging errors!\n",
    "\n",
    "Python uses dynamic typing. This means that you don't have to declare your variables and types like in C/C++/Java; but that does not mean that you can stop thinking about type. For example, `a=3` sets a to an integer (int), while and `a=3.0` (or `a=3.`) makes it a floating-point number (float). Ints and floats are treated differently; for example, in python 2.7, `b=3/5` will set `b` to 0, while `b=3./5.` will set it to 0.6!\n",
    "\n",
    "You may find python somewhat quirky to use. Don't worry, you will get used to it, and you will find that it is a very flexible and powerful tool to have.\n",
    "\n",
    "## References\n",
    "Here are some references to freshen up on concepts:\n",
    "- Self-paced online tutorials\n",
    "    - CodeAcademy (13h estimated time) https://www.codecademy.com/tracks/python\n",
    "    - Brief overview with live examples https://www.learnpython.org/en/Welcome\n",
    "\n",
    "- Books\n",
    "    - Python for Everybody (HTML, PDF, Kindle) https://www.py4e.com/book\n",
    "    - Python Practice Book http://anandology.com/python-practice-book/index.html\n",
    "    - Learning Python (free, requires registration to download) https://www.packtpub.com/packt/free-ebook/learning-python\n",
    "\n",
    "\n",
    "### Python 2 vs Python 3\n",
    "While there are a number of major differences between the versions the majority of libraries and tools that we are concerned with operate on both. Most changes in Python 3 concern the internal workings and performance. Though, there are some syntax changes, and some operations behave differently. This pages offers a comprehensive look at the key changes: http://sebastianraschka.com/Articles/2014_python_2_3_key_diff.html\n",
    "\n",
    "We provide both versions on our cluster: the binaries `python` and `python2` for Python 2.7, and `python3` for version 3.4.\n",
    "\n",
    "**All assignments are expected to run on Python 3**\n",
    "\n",
    "## WHY?\n",
    "# ENCODING SUCKS!!! -- Google python 2 encoding\n",
    "\n",
    "## Resources &amp; and Important Links\n",
    "- Official web-site of the Python Software Foundation https://www.python.org/\n",
    "- API Refernce https://docs.python.org/2.7/\n",
    "- StackOverflow https://stackoverflow.com/questions/tagged/python\n"
   ]
  },
  {
   "cell_type": "markdown",
   "metadata": {},
   "source": [
    "The following has been adopted from https://www.learnpython.org/"
   ]
  },
  {
   "cell_type": "markdown",
   "metadata": {},
   "source": [
    "# Variables and Types\n",
    "\n",
    "One of the conveniences and pit-falls is that Python does not require to explicitly declare variables before using them. This is common in many other programming languages. Python is **not statically typed**, but rather follows the **object oriented** paradigm. Every variable in Python is an object.\n",
    "\n",
    "However, the **values** that variables hold have a designated **data type**.\n",
    "\n",
    "This tutorial will go over a few basic types of variables.\n"
   ]
  },
  {
   "cell_type": "markdown",
   "metadata": {},
   "source": [
    "## Numbers\n",
    "Python supports two types of numbers - **integers** and **floating point numbers**. Basic arithmetic operations yield different results for integers and floats. Special attention needs to be given when mixing values of different types within expressions the results might be unexpected.\n",
    "\n",
    "To define an integer, use the following syntax:"
   ]
  },
  {
   "cell_type": "code",
   "execution_count": 1,
   "metadata": {
    "ExecuteTime": {
     "end_time": "2017-08-28T19:43:00.045867",
     "start_time": "2017-08-28T19:43:00.038900"
    }
   },
   "outputs": [
    {
     "name": "stdout",
     "output_type": "stream",
     "text": [
      "7\n",
      "<class 'int'>\n"
     ]
    }
   ],
   "source": [
    "myint = 7\n",
    "print(myint)\n",
    "print(type(myint))"
   ]
  },
  {
   "cell_type": "markdown",
   "metadata": {},
   "source": [
    "To define a floating point number, you may use one of the following notations:"
   ]
  },
  {
   "cell_type": "code",
   "execution_count": 2,
   "metadata": {
    "ExecuteTime": {
     "end_time": "2017-08-28T19:43:04.212724",
     "start_time": "2017-08-28T19:43:04.205097"
    }
   },
   "outputs": [
    {
     "name": "stdout",
     "output_type": "stream",
     "text": [
      "7.0 <class 'float'>\n",
      "42.0 <class 'float'>\n"
     ]
    }
   ],
   "source": [
    "myfloat = 7.0\n",
    "print(myfloat, type(myfloat))\n",
    "myfloat = float(42)\n",
    "print(myfloat, type(myfloat))"
   ]
  },
  {
   "cell_type": "code",
   "execution_count": 3,
   "metadata": {
    "ExecuteTime": {
     "end_time": "2017-08-28T19:45:18.405089",
     "start_time": "2017-08-28T19:45:18.398698"
    }
   },
   "outputs": [
    {
     "name": "stdout",
     "output_type": "stream",
     "text": [
      "3.5\n",
      "3.5\n"
     ]
    }
   ],
   "source": [
    "print(7/2)\n",
    "print(7./2)"
   ]
  },
  {
   "cell_type": "markdown",
   "metadata": {},
   "source": [
    "### Arithmetic operations\n",
    "We can arithmetic operations that are common in many programing languages.\n",
    "- `+`, `-`, `*`, `/`\n",
    "- `//` is a special integer division even if the operands aren't\n",
    "- `x**y` is used for $x^y$\n",
    "- `n % k` calculates the remainder (modulo) of the integer division of n by k\n",
    "\n",
    "**Try it out!**"
   ]
  },
  {
   "cell_type": "code",
   "execution_count": 54,
   "metadata": {
    "ExecuteTime": {
     "end_time": "2017-08-28T19:46:06.034886",
     "start_time": "2017-08-28T19:46:06.030017"
    }
   },
   "outputs": [],
   "source": [
    "import math as ma"
   ]
  },
  {
   "cell_type": "code",
   "execution_count": 55,
   "metadata": {
    "ExecuteTime": {
     "end_time": "2017-08-28T19:46:19.518997",
     "start_time": "2017-08-28T19:46:19.512771"
    }
   },
   "outputs": [
    {
     "data": {
      "text/plain": [
       "2.0"
      ]
     },
     "execution_count": 55,
     "metadata": {},
     "output_type": "execute_result"
    }
   ],
   "source": [
    "ma.log10(100)"
   ]
  },
  {
   "cell_type": "code",
   "execution_count": 4,
   "metadata": {
    "ExecuteTime": {
     "end_time": "2017-08-28T19:48:44.012386",
     "start_time": "2017-08-28T19:48:44.004730"
    },
    "scrolled": true
   },
   "outputs": [
    {
     "name": "stdout",
     "output_type": "stream",
     "text": [
      "7 2 3.5 3.5\n"
     ]
    }
   ],
   "source": [
    "(numerator, denominator) = 3.5.as_integer_ratio()\n",
    "print(numerator, denominator, numerator/denominator, float(numerator)/float(denominator))"
   ]
  },
  {
   "cell_type": "markdown",
   "metadata": {},
   "source": [
    "## Strings\n",
    "Strings are defined either with a **single quote** or a **double quotes**. Many other languages interpret them differently.  "
   ]
  },
  {
   "cell_type": "code",
   "execution_count": 57,
   "metadata": {
    "ExecuteTime": {
     "end_time": "2017-08-28T19:49:24.607088",
     "start_time": "2017-08-28T19:49:24.601198"
    }
   },
   "outputs": [
    {
     "name": "stdout",
     "output_type": "stream",
     "text": [
      "hello\n",
      "hello\n"
     ]
    }
   ],
   "source": [
    "mystring = 'hello'\n",
    "print(mystring)\n",
    "mystring = \"hello\"\n",
    "print(mystring)"
   ]
  },
  {
   "cell_type": "markdown",
   "metadata": {},
   "source": [
    "The difference between the two is that using double quotes makes it easy to include apostrophes (whereas these would terminate the string if using single quotes)"
   ]
  },
  {
   "cell_type": "code",
   "execution_count": 58,
   "metadata": {
    "ExecuteTime": {
     "end_time": "2017-08-28T19:49:40.260861",
     "start_time": "2017-08-28T19:49:40.255467"
    },
    "scrolled": true
   },
   "outputs": [
    {
     "name": "stdout",
     "output_type": "stream",
     "text": [
      "Don't worry about apostrophes\n"
     ]
    }
   ],
   "source": [
    "mystring = \"Don't worry about apostrophes\"\n",
    "print(mystring)"
   ]
  },
  {
   "cell_type": "markdown",
   "metadata": {},
   "source": [
    "As a side note, you can use \"\\\" to \"escape\" special characters. Here's another way to deal with apostrophes:"
   ]
  },
  {
   "cell_type": "code",
   "execution_count": 60,
   "metadata": {
    "ExecuteTime": {
     "end_time": "2017-08-28T19:50:13.974469",
     "start_time": "2017-08-28T19:50:13.969214"
    }
   },
   "outputs": [
    {
     "name": "stdout",
     "output_type": "stream",
     "text": [
      "You still don't have to worry about apostrophes\n"
     ]
    }
   ],
   "source": [
    "mystring = 'You still don\\'t have to worry about apostrophes'\n",
    "print(mystring)"
   ]
  },
  {
   "cell_type": "markdown",
   "metadata": {},
   "source": [
    "### Operators\n",
    "Some the arithmetic operators can be applied to strings, though they have a different interpretation\n",
    "- `+` will concatenate two strings\n",
    "- `*` multiplies a string with an integer, i.e. the result is that many copies of the original string.\n",
    "- `%` has a very special purpose to fill in values into strings\n",
    "\n",
    "Python provides a large number of operations to manipulate text strings. Examples are given at https://www.tutorialspoint.com/python/python_strings.htm\n",
    "\n",
    "For the complete documentation refer to https://docs.python.org/3.7/library/string.html\n"
   ]
  },
  {
   "cell_type": "code",
   "execution_count": 96,
   "metadata": {
    "ExecuteTime": {
     "end_time": "2017-08-27T17:58:17.811172",
     "start_time": "2017-08-27T17:58:17.805049"
    }
   },
   "outputs": [
    {
     "name": "stdout",
     "output_type": "stream",
     "text": [
      "Hi, my name is Meng Zhao\n",
      "my first initial is MZ\n"
     ]
    }
   ],
   "source": [
    "# Practice adding some strings!\n",
    "\n",
    "fn = 'Meng'\n",
    "ln = 'Zhao'\n",
    "\n",
    "print('Hi, my name is ' + fn + \" \" + ln)\n",
    "print('my first initial is ' + fn[0] + ln[0])"
   ]
  },
  {
   "cell_type": "code",
   "execution_count": 104,
   "metadata": {
    "ExecuteTime": {
     "end_time": "2017-08-28T19:57:49.058049",
     "start_time": "2017-08-28T19:57:49.049364"
    }
   },
   "outputs": [
    {
     "name": "stdout",
     "output_type": "stream",
     "text": [
      "There once was a man named Crocket\n",
      "Who put his foot in a socket\n",
      "When along came a witch,\n",
      "Who turned on the switch,\n",
      "And rattled the change in his pocket.\n",
      "\n",
      "\n"
     ]
    },
    {
     "ename": "TypeError",
     "evalue": "unsupported operand type(s) for *: 'NoneType' and 'int'",
     "output_type": "error",
     "traceback": [
      "\u001b[0;31m---------------------------------------------------------------------------\u001b[0m",
      "\u001b[0;31mTypeError\u001b[0m                                 Traceback (most recent call last)",
      "\u001b[0;32m<ipython-input-104-81d6d2c0d1be>\u001b[0m in \u001b[0;36m<module>\u001b[0;34m()\u001b[0m\n\u001b[1;32m     11\u001b[0m \u001b[0;34m\u001b[0m\u001b[0m\n\u001b[1;32m     12\u001b[0m \u001b[0;31m#print (beginning+end)*2\u001b[0m\u001b[0;34m\u001b[0m\u001b[0;34m\u001b[0m\u001b[0;34m\u001b[0m\u001b[0m\n\u001b[0;32m---> 13\u001b[0;31m \u001b[0mprint\u001b[0m\u001b[0;34m(\u001b[0m\u001b[0;34m\"%s%s\"\u001b[0m \u001b[0;34m%\u001b[0m \u001b[0;34m(\u001b[0m\u001b[0mbeginning\u001b[0m\u001b[0;34m,\u001b[0m \u001b[0mend\u001b[0m\u001b[0;34m)\u001b[0m \u001b[0;34m)\u001b[0m \u001b[0;34m*\u001b[0m \u001b[0;36m3\u001b[0m\u001b[0;34m\u001b[0m\u001b[0;34m\u001b[0m\u001b[0m\n\u001b[0m\u001b[1;32m     14\u001b[0m \u001b[0;31m# your code goes here!\u001b[0m\u001b[0;34m\u001b[0m\u001b[0;34m\u001b[0m\u001b[0;34m\u001b[0m\u001b[0m\n",
      "\u001b[0;31mTypeError\u001b[0m: unsupported operand type(s) for *: 'NoneType' and 'int'"
     ]
    }
   ],
   "source": [
    "# In-class exercise: \n",
    "# Append a line to finish this limmerick, then print it twice!\n",
    "\n",
    "beginning = \"\"\"There once was a man named Crocket\n",
    "Who put his foot in a socket\n",
    "When along came a witch,\n",
    "Who turned on the switch,\\n\"\"\" # \"\\n\" insterts a newline\n",
    "# source: Jeremy Diamond on http://home.earthlink.net/~kristenaa/nice/lims2f.html\n",
    "\n",
    "end = \"And rattled the change in his pocket.\\n\\n\" # enter a line that rhymes with line 1 \n",
    "\n",
    "#print (beginning+end)*2\n",
    "print(\"%s%s\" % (beginning, end) ) * 3\n",
    "# your code goes here!"
   ]
  },
  {
   "cell_type": "markdown",
   "metadata": {},
   "source": [
    "### String Formatting\n",
    "Python uses C-style string formatting to create new, formatted strings. The \"%\" operator is used to format a set of variables enclosed in a \"tuple\" (a fixed size list), together with a format string, which contains normal text together with \"argument specifiers\", special symbols like \"%s\" and \"%d\".\n",
    "\n",
    "Some basic argument specifiers you should know:\n",
    "`%s` - String (or any object with a string representation, like numbers)\n",
    "\n",
    "`%d` - Integers\n",
    "\n",
    "`%f` - Floating point numbers\n",
    "\n",
    "`%.<number of digits>f` - Floating point numbers with a fixed amount of digits to the right of the dot.\n",
    "\n",
    "`%x`/`%X` - Integers in hex representation (lowercase/uppercase)"
   ]
  },
  {
   "cell_type": "code",
   "execution_count": 65,
   "metadata": {
    "ExecuteTime": {
     "end_time": "2017-08-28T19:59:01.681798",
     "start_time": "2017-08-28T19:59:01.675001"
    }
   },
   "outputs": [
    {
     "data": {
      "text/plain": [
       "0.5384615384615384"
      ]
     },
     "execution_count": 65,
     "metadata": {},
     "output_type": "execute_result"
    }
   ],
   "source": [
    "7./13."
   ]
  },
  {
   "cell_type": "code",
   "execution_count": 5,
   "metadata": {
    "ExecuteTime": {
     "end_time": "2017-08-28T19:59:25.656405",
     "start_time": "2017-08-28T19:59:25.650788"
    }
   },
   "outputs": [
    {
     "name": "stdout",
     "output_type": "stream",
     "text": [
      "The magic number is 0.54!\n"
     ]
    }
   ],
   "source": [
    "print(\"The magic number is %.2f!\" % (7.0/13.0))"
   ]
  },
  {
   "cell_type": "code",
   "execution_count": 21,
   "metadata": {
    "ExecuteTime": {
     "end_time": "2017-08-28T20:04:41.511586",
     "start_time": "2017-08-28T20:04:41.503414"
    },
    "scrolled": true
   },
   "outputs": [
    {
     "name": "stdout",
     "output_type": "stream",
     "text": [
      "3.000000 plus 5.000000 is 8.000000\n"
     ]
    }
   ],
   "source": [
    "# In-class exercise:\n",
    "# Define output_str so that calling myadd(3, 5) displays a text \"3 plus 5 is 8\". \n",
    "\n",
    "def myadd(a,b):\n",
    "    c = a+b\n",
    "    output_str = \"%f plus %f is %f\" % (a,b,c) # yay, done!\n",
    "    print(output_str)\n",
    "    \n",
    "myadd(3, 5)"
   ]
  },
  {
   "cell_type": "markdown",
   "metadata": {},
   "source": [
    "### String Formatting -- II\n",
    "A more powerful one is the format method.\n",
    "\n",
    " Use the format code syntax {field_name:conversion}, where field_name specifies the index number of the argument to the str.format() method, and conversion refers to the conversion code of the data type.\n",
    " \n",
    " \n",
    "`s` - strings\n",
    "\n",
    "`d` - decimal integers (base-10)\n",
    "\n",
    "`f` - floating point display\n",
    "\n",
    "`c` - character\n",
    "\n",
    "`b` - binary\n",
    "\n",
    "`o` - octal\n",
    "\n",
    "`x` - hexadecimal with lowercase letters after 9\n",
    "\n",
    "`X` - hexadecimal with uppercase letters after 9\n",
    "\n",
    "`e` - exponent notation"
   ]
  },
  {
   "cell_type": "code",
   "execution_count": 14,
   "metadata": {},
   "outputs": [
    {
     "name": "stdout",
     "output_type": "stream",
     "text": [
      "3.000000 plus 5.000000 is 8.000000\n"
     ]
    }
   ],
   "source": [
    "def myadd(a,b):\n",
    "    c = a+b\n",
    "    output_str = \"{0:f} plus {1:f} is {2:f}\".format(a,b,c) # yay, done!\n",
    "    print(output_str)\n",
    "    \n",
    "myadd(3, 5)"
   ]
  },
  {
   "cell_type": "code",
   "execution_count": 15,
   "metadata": {},
   "outputs": [
    {
     "name": "stdout",
     "output_type": "stream",
     "text": [
      "*******Geeks********\n"
     ]
    }
   ],
   "source": [
    "# source: https://www.geeksforgeeks.org/python-format-function/\n",
    "print(\"{:*^20s}\".format(\"Geeks\")) "
   ]
  },
  {
   "cell_type": "code",
   "execution_count": 17,
   "metadata": {},
   "outputs": [
    {
     "name": "stdout",
     "output_type": "stream",
     "text": [
      "Enter lower range :-\n",
      "1\n",
      "Enter upper range :-\n",
      "6\n",
      "------Before Using Formatters-------\n",
      "1 1 1 1\n",
      "2 4 8 16\n",
      "3 9 27 81\n",
      "4 16 64 256\n",
      "5 25 125 625\n",
      "\n",
      "-------After Using Formatters---------\n",
      "\n",
      "     1      1      1      1\n",
      "     2      4      8     16\n",
      "     3      9     27     81\n",
      "     4     16     64    256\n",
      "     5     25    125    625\n"
     ]
    }
   ],
   "source": [
    "# source: https://www.geeksforgeeks.org/python-format-function/\n",
    "\n",
    "# which prints out i, i ^ 2, i ^ 3, \n",
    "#  i ^ 4 in the given range \n",
    "  \n",
    "# Function prints out values \n",
    "# in an unorganized manner \n",
    "def unorganized(a, b): \n",
    "    for i in range (a, b): \n",
    "        print ( i, i**2, i**3, i**4 ) \n",
    "  \n",
    "# Function prints the organized set of values \n",
    "def organized(a, b): \n",
    "    for i in range (a, b): \n",
    "  \n",
    "        # Using formatters to give 6  \n",
    "        # spaces to each set of values \n",
    "        print(\"{:6d} {:6d} {:6d} {:6d}\"\n",
    "        .format(i, i ** 2, i ** 3, i ** 4)) \n",
    "  \n",
    "# Driver Code \n",
    "n1 = int(input(\"Enter lower range :-\\n\")) \n",
    "n2 = int(input(\"Enter upper range :-\\n\")) \n",
    "  \n",
    "print(\"------Before Using Formatters-------\") \n",
    "  \n",
    "# Calling function without formatters \n",
    "unorganized(n1, n2) \n",
    "  \n",
    "print() \n",
    "print(\"-------After Using Formatters---------\") \n",
    "print() \n",
    "  \n",
    "# Calling function that contain \n",
    "# formatters to organize the data \n",
    "organized(n1, n2) "
   ]
  },
  {
   "cell_type": "markdown",
   "metadata": {},
   "source": [
    "# Lists\n",
    "Lists are construct for holding multiple objects or values of different types (if this makes sense). We can dynamically add, replace, or remove elements from a list.\n",
    "\n",
    "Usually we iterate through list in order to perform some operations, though, we can also address a specific element by its position (*index*) in the list.\n",
    "\n",
    "The `+` and `*` operators work on lists in a similar way as they do on strings. \n",
    "\n",
    "Complete documentation at https://docs.python.org/2/tutorial/datastructures.html"
   ]
  },
  {
   "cell_type": "code",
   "execution_count": 99,
   "metadata": {
    "ExecuteTime": {
     "end_time": "2017-08-28T20:19:16.275805",
     "start_time": "2017-08-28T20:19:16.267968"
    }
   },
   "outputs": [
    {
     "name": "stdout",
     "output_type": "stream",
     "text": [
      "5\n",
      "i put whatever i want\n"
     ]
    }
   ],
   "source": [
    "mylist = ['i put whatever i want', 1, 2, \"three\", (\"a\", 7)]\n",
    "print(len(mylist))\n",
    "print(mylist[0])"
   ]
  },
  {
   "cell_type": "code",
   "execution_count": 71,
   "metadata": {
    "ExecuteTime": {
     "end_time": "2017-08-28T20:19:46.611325",
     "start_time": "2017-08-28T20:19:46.605048"
    }
   },
   "outputs": [
    {
     "data": {
      "text/plain": [
       "('a', 7)"
      ]
     },
     "execution_count": 71,
     "metadata": {},
     "output_type": "execute_result"
    }
   ],
   "source": [
    "mylist[3]"
   ]
  },
  {
   "cell_type": "code",
   "execution_count": 72,
   "metadata": {
    "ExecuteTime": {
     "end_time": "2017-08-28T20:20:16.397776",
     "start_time": "2017-08-28T20:20:16.390426"
    }
   },
   "outputs": [
    {
     "data": {
      "text/plain": [
       "1"
      ]
     },
     "execution_count": 72,
     "metadata": {},
     "output_type": "execute_result"
    }
   ],
   "source": [
    "mylist[0]"
   ]
  },
  {
   "cell_type": "code",
   "execution_count": 74,
   "metadata": {
    "ExecuteTime": {
     "end_time": "2017-08-28T20:20:36.086581",
     "start_time": "2017-08-28T20:20:36.080464"
    }
   },
   "outputs": [
    {
     "data": {
      "text/plain": [
       "'three'"
      ]
     },
     "execution_count": 74,
     "metadata": {},
     "output_type": "execute_result"
    }
   ],
   "source": [
    "mylist[-2]"
   ]
  },
  {
   "cell_type": "code",
   "execution_count": 106,
   "metadata": {
    "ExecuteTime": {
     "end_time": "2017-08-28T20:21:37.436382",
     "start_time": "2017-08-28T20:21:37.428828"
    }
   },
   "outputs": [
    {
     "data": {
      "text/plain": [
       "['i put whatever i want', 1, 2, 'three', ('a', 7), 7]"
      ]
     },
     "execution_count": 106,
     "metadata": {},
     "output_type": "execute_result"
    }
   ],
   "source": [
    "mylist + [7]"
   ]
  },
  {
   "cell_type": "code",
   "execution_count": 107,
   "metadata": {
    "ExecuteTime": {
     "end_time": "2017-08-28T20:21:58.529003",
     "start_time": "2017-08-28T20:21:58.521990"
    }
   },
   "outputs": [
    {
     "data": {
      "text/plain": [
       "['i put whatever i want',\n",
       " 1,\n",
       " 2,\n",
       " 'three',\n",
       " ('a', 7),\n",
       " 'i put whatever i want',\n",
       " 1,\n",
       " 2,\n",
       " 'three',\n",
       " ('a', 7),\n",
       " 'i put whatever i want',\n",
       " 1,\n",
       " 2,\n",
       " 'three',\n",
       " ('a', 7)]"
      ]
     },
     "execution_count": 107,
     "metadata": {},
     "output_type": "execute_result"
    }
   ],
   "source": [
    "mylist * 3"
   ]
  },
  {
   "cell_type": "markdown",
   "metadata": {},
   "source": [
    "## List Comprehension\n",
    "List comprehension can be thought of as a more **pythonic** way to loop over a list. It is a technique that comes in handy and is often used."
   ]
  },
  {
   "cell_type": "code",
   "execution_count": 20,
   "metadata": {
    "ExecuteTime": {
     "end_time": "2017-08-28T20:23:21.629317",
     "start_time": "2017-08-28T20:23:21.622903"
    }
   },
   "outputs": [
    {
     "name": "stdout",
     "output_type": "stream",
     "text": [
      "[0, 1, 2, 3, 4, 5, 6, 7, 8, 9]\n"
     ]
    }
   ],
   "source": [
    "x = list(range(0,10))\n",
    "print(x)"
   ]
  },
  {
   "cell_type": "code",
   "execution_count": 22,
   "metadata": {
    "ExecuteTime": {
     "end_time": "2017-08-28T20:25:33.054910",
     "start_time": "2017-08-28T20:25:33.043246"
    }
   },
   "outputs": [
    {
     "name": "stdout",
     "output_type": "stream",
     "text": [
      "y1 = [1, 2, 4, 8, 16, 32, 64, 128, 256, 512]\n",
      "y2 = [1, 2, 4, 8, 16, 32, 64, 128, 256, 512]\n"
     ]
    }
   ],
   "source": [
    "# # One way to get y = 2^x:\n",
    "x = range(0,10)\n",
    "y1 = []\n",
    "for element in x:\n",
    "    y1.append(2**element) # note the indent here! whitespace matters!\n",
    "print(\"y1 = \" + str(y1))\n",
    "\n",
    "# a more \"pythonic way\"\n",
    "y2 = [2**element for element in x]\n",
    "print(\"y2 = \" + str(y2))"
   ]
  },
  {
   "cell_type": "code",
   "execution_count": 23,
   "metadata": {
    "ExecuteTime": {
     "end_time": "2017-08-27T18:25:23.958382",
     "start_time": "2017-08-27T18:25:23.949970"
    },
    "scrolled": false
   },
   "outputs": [
    {
     "data": {
      "text/plain": [
       "[(1, 1), (1, 2), (1, 3), (2, 1), (2, 2), (2, 3), (3, 1), (3, 2), (3, 3)]"
      ]
     },
     "execution_count": 23,
     "metadata": {},
     "output_type": "execute_result"
    }
   ],
   "source": [
    "[(i,j) for i in range(1,4) for j in range(1,4)]"
   ]
  },
  {
   "cell_type": "code",
   "execution_count": 24,
   "metadata": {
    "ExecuteTime": {
     "end_time": "2017-08-27T18:25:46.464890",
     "start_time": "2017-08-27T18:25:46.456354"
    },
    "scrolled": true
   },
   "outputs": [
    {
     "data": {
      "text/plain": [
       "[[(1, 1), (2, 1), (3, 1)], [(1, 2), (2, 2), (3, 2)], [(1, 3), (2, 3), (3, 3)]]"
      ]
     },
     "execution_count": 24,
     "metadata": {},
     "output_type": "execute_result"
    }
   ],
   "source": [
    "[ [(i,j) for i in range(1,4) ] for j in range(1,4)]"
   ]
  },
  {
   "cell_type": "code",
   "execution_count": 108,
   "metadata": {
    "ExecuteTime": {
     "end_time": "2017-08-28T20:34:59.562496",
     "start_time": "2017-08-28T20:34:59.378990"
    }
   },
   "outputs": [
    {
     "data": {
      "text/plain": [
       "[<matplotlib.lines.Line2D at 0x1a17db1780>]"
      ]
     },
     "execution_count": 108,
     "metadata": {},
     "output_type": "execute_result"
    },
    {
     "data": {
      "image/png": "[encoded data removed]",
      "text/plain": [
       "<Figure size 432x288 with 1 Axes>"
      ]
     },
     "metadata": {},
     "output_type": "display_data"
    }
   ],
   "source": [
    "# in-class exercise:\n",
    "# complete the code below to plot y = 3*sin(x/3):\n",
    "\n",
    "import math as ma\n",
    "import matplotlib.pyplot as plt\n",
    "% matplotlib inline\n",
    "\n",
    "x = range(-20,20)\n",
    "y = [3.*ma.sin(xi/3.) for xi in x] # your code goes here!\n",
    "plt.plot(x,y)\n",
    "\n",
    "# plt.plot(*zip(*[(x,3.*ma.sin(x/3.)) for x in xrange(-20,20)]))"
   ]
  },
  {
   "cell_type": "code",
   "execution_count": 70,
   "metadata": {},
   "outputs": [
    {
     "data": {
      "text/plain": [
       "[<matplotlib.lines.Line2D at 0x1a173486d8>]"
      ]
     },
     "execution_count": 70,
     "metadata": {},
     "output_type": "execute_result"
    },
    {
     "data": {
      "image/png": "[encoded data removed]",
      "text/plain": [
       "<Figure size 748.8x514.8 with 1 Axes>"
      ]
     },
     "metadata": {},
     "output_type": "display_data"
    }
   ],
   "source": [
    "import matplotlib.style as style\n",
    "import seaborn as sns\n",
    "# sns.set()\n",
    "sns.set_style(\"white\")\n",
    "\n",
    "# style.use('seaborn-talk') #sets the size of the charts\n",
    "# style.use('ggplot')\n",
    "x = range(-20,20)\n",
    "y = [3 * ma.sin(xi/3.) for xi in x] # your code goes here!\n",
    "# plt.plot(x,y)\n",
    "\n",
    "# list(zip([(x, 3 * ma.sin(x/3.)) for x in range(-20,20)]))\n",
    "       \n",
    "plt.plot(*zip(*[(x, 3 * ma.sin(x/3.)) for x in range(-20,20)]))\n",
    "\n",
    "# sns.lineplot(*zip(*[(x, 3 * ma.sin(x/3.)) for x in range(-20,20)]))\n"
   ]
  },
  {
   "cell_type": "markdown",
   "metadata": {},
   "source": [
    "# Conditions\n",
    "Python uses boolean variables to evaluate conditions. The boolean values **True** and **False** are returned when an expression is compared or evaluated. \n",
    "\n",
    "Notice that variable assignment is done using a single equals operator \"=\", whereas comparison between two variables is done using the double equals operator \"==\". The \"not equals\" operator is marked as \"!=\"."
   ]
  },
  {
   "cell_type": "code",
   "execution_count": 85,
   "metadata": {
    "ExecuteTime": {
     "end_time": "2017-08-28T20:37:31.827020",
     "start_time": "2017-08-28T20:37:31.818662"
    },
    "scrolled": true
   },
   "outputs": [
    {
     "name": "stdout",
     "output_type": "stream",
     "text": [
      "True\n",
      "False\n",
      "True\n",
      "False\n"
     ]
    }
   ],
   "source": [
    "x = 2\n",
    "print(x == 2) # prints out True\n",
    "print(x == 3) # prints out False\n",
    "print(x <= 3) # prints out True\n",
    "print(x >= 3) # prints out True"
   ]
  },
  {
   "cell_type": "markdown",
   "metadata": {},
   "source": [
    "The \"and\", \"or\" and \"not\" boolean operators allow building complex boolean expressions, for example:"
   ]
  },
  {
   "cell_type": "code",
   "execution_count": 88,
   "metadata": {
    "ExecuteTime": {
     "end_time": "2017-08-28T20:39:02.033091",
     "start_time": "2017-08-28T20:39:02.024695"
    }
   },
   "outputs": [
    {
     "name": "stdout",
     "output_type": "stream",
     "text": [
      "Your name is John, and you are also 23 years old.\n",
      "Your name is either John or Rick.\n"
     ]
    }
   ],
   "source": [
    "name = \"John\"\n",
    "age = 23\n",
    "if (name == \"John\" and age == 23):\n",
    "    print(\"Your name is John, and you are also 23 years old.\")\n",
    "else:\n",
    "    print(\"You are not John.\")\n",
    "    \n",
    "if name == \"John\" or name == \"Rick\":\n",
    "    print(\"Your name is either John or Rick.\")"
   ]
  },
  {
   "cell_type": "markdown",
   "metadata": {},
   "source": [
    "The \"in\" operator could be used to check if a specified object exists within an iterable object container, such as a list:"
   ]
  },
  {
   "cell_type": "code",
   "execution_count": 89,
   "metadata": {
    "ExecuteTime": {
     "end_time": "2017-08-28T20:39:37.082373",
     "start_time": "2017-08-28T20:39:37.076704"
    }
   },
   "outputs": [
    {
     "name": "stdout",
     "output_type": "stream",
     "text": [
      "Your name is either John or Rick.\n"
     ]
    }
   ],
   "source": [
    "name = \"John\"\n",
    "if name in [\"John\", \"Rick\"]:\n",
    "    print(\"Your name is either John or Rick.\")"
   ]
  },
  {
   "cell_type": "markdown",
   "metadata": {},
   "source": [
    "Python uses indentation to define code blocks, instead of brackets. The standard Python indentation is 4 spaces, although tabs and any other space size will work, as long as it is consistent. Notice that code blocks do not need any termination.\n",
    "\n",
    "Here is an example for using Python's \"if\" statement using code blocks:\n",
    "\n",
    "    if <statement is true>:\n",
    "        <do something>\n",
    "        ....\n",
    "        ....\n",
    "    elif <another statement is true>: # else if\n",
    "        <do something else>\n",
    "        ....\n",
    "        ....\n",
    "    else:\n",
    "        <do another thing>\n",
    "        ....\n",
    "        ....\n",
    "        "
   ]
  },
  {
   "cell_type": "code",
   "execution_count": null,
   "metadata": {
    "collapsed": true
   },
   "outputs": [],
   "source": [
    "x = 2\n",
    "if x == 2:\n",
    "    print(\"x equals two!\")\n",
    "else:\n",
    "    print(\"x does not equal to two.\")"
   ]
  },
  {
   "cell_type": "markdown",
   "metadata": {},
   "source": [
    "A statement is evaulated as true if one of the following is correct: \n",
    "    1. The \"True\" boolean variable is given, or calculated using an expression, such as an arithmetic comparison. \n",
    "    2. An object which is not considered \"empty\" is passed.\n",
    "\n",
    "Here are some examples for objects which are considered as empty: \n",
    "    1. An empty string: \"\" \n",
    "    2. An empty list: [] \n",
    "    3. The number zero: 0 \n",
    "    4. The false boolean variable: False"
   ]
  },
  {
   "cell_type": "code",
   "execution_count": 56,
   "metadata": {
    "ExecuteTime": {
     "end_time": "2017-08-28T20:52:00.710642",
     "start_time": "2017-08-28T20:52:00.697295"
    }
   },
   "outputs": [
    {
     "name": "stdout",
     "output_type": "stream",
     "text": [
      "121 is even\n",
      "4 is not even\n"
     ]
    }
   ],
   "source": [
    "# In-class exercise:\n",
    "# Modify the following code to produce a function \"is_even\" that takes an argument x and prints\n",
    "# \"x is even\" if it is even, and \"x is not even\" otherwise.\n",
    "# If you call is_even(1), you should see \"1 is not even\"\n",
    "\n",
    "def is_even(x):\n",
    "    if x % 2 == 0:\n",
    "        str2 = \"even\"\n",
    "    else:\n",
    "        str2 = \"not even\"\n",
    "    outstr = \"%d is \" % (x, str2)\n",
    "    print(outstr)\n",
    "    \n",
    "def is_even2(x):\n",
    "    print(\"%d is \" % x + (\"\" if x % 2 == 0 else \"not \") + \"even\")\n",
    "    \n",
    "    \n",
    "# def is_even(x):\n",
    "#     str2 = \"even\" if x % 2 else \"not even\"\n",
    "#     print(\"%d is %s\" % (x, str2))\n",
    "    \n",
    "\n",
    "is_even(121)\n",
    "is_even(4)"
   ]
  },
  {
   "cell_type": "markdown",
   "metadata": {},
   "source": [
    "# Loops\n",
    "There are two types of loops in Python, for and while."
   ]
  },
  {
   "cell_type": "markdown",
   "metadata": {},
   "source": [
    "## The \"for\" loop\n",
    "For loops iterate over a given sequence. Here is an example:\n",
    "    primes = [2, 3, 5, 7]\n",
    "    for prime in primes:\n",
    "        print(prime)\n",
    "        \n",
    "For loops can iterate over a sequence of numbers using the **`range`** and **`xrange`** functions. The difference between `range` and `xrange` is that the `range` function returns a new list with numbers of that specified range, whereas `xrange` returns an iterator, which is more efficient. (Python 3 uses the range function, which acts like `xrange`). Note that the range function is **zero based**."
   ]
  },
  {
   "cell_type": "code",
   "execution_count": 71,
   "metadata": {
    "ExecuteTime": {
     "end_time": "2017-08-28T20:53:23.101852",
     "start_time": "2017-08-28T20:53:23.095850"
    }
   },
   "outputs": [
    {
     "name": "stdout",
     "output_type": "stream",
     "text": [
      "bob\n",
      "mary\n",
      "joe\n"
     ]
    }
   ],
   "source": [
    "for x in ['bob','mary','joe']:\n",
    "    print(x)"
   ]
  },
  {
   "cell_type": "code",
   "execution_count": 68,
   "metadata": {
    "ExecuteTime": {
     "end_time": "2017-08-28T20:54:37.895267",
     "start_time": "2017-08-28T20:54:37.882239"
    }
   },
   "outputs": [
    {
     "name": "stdout",
     "output_type": "stream",
     "text": [
      "0\n",
      "1\n",
      "2\n",
      "3\n",
      "4\n",
      "--------------\n",
      "3\n",
      "4\n",
      "5\n",
      "--------------\n",
      "3\n",
      "5\n",
      "7\n"
     ]
    }
   ],
   "source": [
    "# Prints out the numbers 0,1,2,3,4\n",
    "for x in range(5):\n",
    "    print(x)\n",
    "\n",
    "print('--------------')\n",
    "\n",
    "# Prints out 3,4,5\n",
    "for x in range(3, 6):\n",
    "    print(x)\n",
    "\n",
    "print('--------------')\n",
    "    \n",
    "# Prints out 3,5,7\n",
    "for x in range(3, 8, 2):\n",
    "    print(x)"
   ]
  },
  {
   "cell_type": "markdown",
   "metadata": {},
   "source": [
    "## \"while\" loops\n",
    "While loops repeat as long as a certain boolean condition is met. For example:"
   ]
  },
  {
   "cell_type": "code",
   "execution_count": 67,
   "metadata": {
    "ExecuteTime": {
     "end_time": "2017-08-28T20:55:40.795367",
     "start_time": "2017-08-28T20:55:40.786728"
    }
   },
   "outputs": [
    {
     "name": "stdout",
     "output_type": "stream",
     "text": [
      "0\n",
      "1\n",
      "2\n",
      "3\n",
      "4\n",
      "done!\n"
     ]
    }
   ],
   "source": [
    "count = 0\n",
    "while count < 5:\n",
    "    print(count)\n",
    "    count += 1  # This is the same as count = count + 1\n",
    "    \n",
    "print('done!')"
   ]
  },
  {
   "cell_type": "code",
   "execution_count": 58,
   "metadata": {
    "ExecuteTime": {
     "end_time": "2017-08-28T20:55:51.372584",
     "start_time": "2017-08-28T20:55:51.363977"
    }
   },
   "outputs": [
    {
     "name": "stdout",
     "output_type": "stream",
     "text": [
      "The GCD is 3\n"
     ]
    }
   ],
   "source": [
    "## compute the Greatest Common Denominator (GCD)\n",
    "a = 15\n",
    "b = 12\n",
    "\n",
    "while a!=b:\n",
    "    # put smaller number in a\n",
    "    (a, b) = (a, b) if a<b else (b, a)\n",
    "    b = b - a\n",
    "\n",
    "print(\"The GCD is %d\"%a)"
   ]
  },
  {
   "cell_type": "code",
   "execution_count": 66,
   "metadata": {
    "ExecuteTime": {
     "end_time": "2017-08-28T21:00:46.541783",
     "start_time": "2017-08-28T21:00:46.533795"
    }
   },
   "outputs": [
    {
     "name": "stdout",
     "output_type": "stream",
     "text": [
      "5! is 120\n"
     ]
    }
   ],
   "source": [
    "def fac(n):\n",
    "    f = 1\n",
    "    for m in range(1,n+1):\n",
    "        f *= m \n",
    "    print(\"%d! is %d\" % (n,f))\n",
    "    \n",
    "fac(5)"
   ]
  },
  {
   "cell_type": "markdown",
   "metadata": {},
   "source": [
    "## \"break\" and \"continue\" statements\n",
    "break is used to exit a for loop or a while loop, whereas continue is used to skip the current block, and return to the \"for\" or \"while\" statement. A few examples:"
   ]
  },
  {
   "cell_type": "code",
   "execution_count": 65,
   "metadata": {
    "ExecuteTime": {
     "end_time": "2017-08-28T21:04:46.428564",
     "start_time": "2017-08-28T21:04:46.418549"
    }
   },
   "outputs": [
    {
     "name": "stdout",
     "output_type": "stream",
     "text": [
      "1\n",
      "3\n",
      "5\n",
      "7\n",
      "9\n"
     ]
    }
   ],
   "source": [
    "# Prints out 0,1,2,3,4\n",
    "\n",
    "# count = 0\n",
    "# while True:\n",
    "#     print(count)\n",
    "#     count += 1\n",
    "#     if count >= 5:\n",
    "#         break\n",
    "\n",
    "# Prints out only odd numbers - 1,3,5,7,9\n",
    "for x in range(10):\n",
    "    # Check if x is even\n",
    "    if x % 2 == 0:\n",
    "        continue\n",
    "    print(x)"
   ]
  },
  {
   "cell_type": "markdown",
   "metadata": {},
   "source": [
    "## can we use \"else\" clause for loops?"
   ]
  },
  {
   "cell_type": "code",
   "execution_count": 64,
   "metadata": {
    "ExecuteTime": {
     "end_time": "2017-08-28T21:05:46.589584",
     "start_time": "2017-08-28T21:05:46.575579"
    }
   },
   "outputs": [
    {
     "name": "stdout",
     "output_type": "stream",
     "text": [
      "0\n",
      "1\n",
      "2\n",
      "3\n",
      "4\n",
      "count value reached 5\n",
      "1\n",
      "2\n",
      "3\n",
      "4\n"
     ]
    }
   ],
   "source": [
    "# Prints out 0,1,2,3,4 and then it prints \"count value reached 5\"\n",
    "\n",
    "count=0\n",
    "while(count<5):\n",
    "    print(count)\n",
    "    count +=1\n",
    "else:\n",
    "    print(\"count value reached %d\" %(count))\n",
    "\n",
    "# Prints out 1,2,3,4\n",
    "for i in range(1, 10):\n",
    "    if(i%5==0):\n",
    "        break\n",
    "    print(i)\n",
    "else:\n",
    "    print(\"this is not printed because for loop is terminated because of break but not due to fail in condition\")"
   ]
  },
  {
   "cell_type": "code",
   "execution_count": null,
   "metadata": {
    "collapsed": true
   },
   "outputs": [],
   "source": []
  },
  {
   "cell_type": "code",
   "execution_count": null,
   "metadata": {
    "collapsed": true
   },
   "outputs": [],
   "source": []
  },
  {
   "cell_type": "markdown",
   "metadata": {},
   "source": [
    "# Functions and methods\n",
    "Functions are a convenient way to divide your code into useful blocks, allowing us to order our code, make it more readable, reuse it and save some time. Also functions are a key way to define interfaces so programmers can share their code."
   ]
  },
  {
   "cell_type": "markdown",
   "metadata": {},
   "source": [
    "As we have seen on previous tutorials, Python makes use of blocks.\n",
    "\n",
    "A block is a area of code of written in the format of:\n",
    "    block_head:\n",
    "        1st block line\n",
    "        2nd block line\n",
    "        \n",
    "Where a block line is more Python code (even another block), and the block head is of the following format: block_keyword block_name(argument1,argument2, ...) Block keywords you already know are \"if\", \"for\", and \"while\".\n",
    "\n",
    "Functions in python are defined using the block keyword \"def\", followed with the function's name as the block's name. For example:"
   ]
  },
  {
   "cell_type": "code",
   "execution_count": 136,
   "metadata": {
    "ExecuteTime": {
     "end_time": "2017-08-28T21:20:27.304415",
     "start_time": "2017-08-28T21:20:27.298470"
    }
   },
   "outputs": [],
   "source": [
    "def my_function():\n",
    "    pass\n",
    "    print(\"Hello From My Function!\")\n"
   ]
  },
  {
   "cell_type": "code",
   "execution_count": 137,
   "metadata": {
    "ExecuteTime": {
     "end_time": "2017-08-28T21:20:28.418380",
     "start_time": "2017-08-28T21:20:28.413268"
    }
   },
   "outputs": [
    {
     "name": "stdout",
     "output_type": "stream",
     "text": [
      "Hello From My Function!\n"
     ]
    }
   ],
   "source": [
    "my_function()"
   ]
  },
  {
   "cell_type": "markdown",
   "metadata": {},
   "source": [
    "Functions may also receive arguments (variables passed from the caller to the function). For example:"
   ]
  },
  {
   "cell_type": "code",
   "execution_count": 60,
   "metadata": {
    "ExecuteTime": {
     "end_time": "2017-08-28T21:21:26.812226",
     "start_time": "2017-08-28T21:21:26.807408"
    }
   },
   "outputs": [],
   "source": [
    "def my_function_with_args(username, greeting):\n",
    "    print(\"Hello, %s , From My Function!, I wish you %s\" % (username, greeting))"
   ]
  },
  {
   "cell_type": "code",
   "execution_count": 139,
   "metadata": {
    "ExecuteTime": {
     "end_time": "2017-08-28T21:21:41.941393",
     "start_time": "2017-08-28T21:21:41.935024"
    }
   },
   "outputs": [
    {
     "name": "stdout",
     "output_type": "stream",
     "text": [
      "Hello, Peter , From My Function!, I wish you a wonderful day\n"
     ]
    }
   ],
   "source": [
    "my_function_with_args(\"Peter\", \"a wonderful day\")"
   ]
  },
  {
   "cell_type": "markdown",
   "metadata": {},
   "source": [
    "Functions may return a value to the caller, using the keyword- 'return' . For example:"
   ]
  },
  {
   "cell_type": "code",
   "execution_count": 59,
   "metadata": {
    "ExecuteTime": {
     "end_time": "2017-08-28T21:24:41.030465",
     "start_time": "2017-08-28T21:24:41.024717"
    }
   },
   "outputs": [],
   "source": [
    "def sum_two_numbers(a, b=1):\n",
    "    print(\"a = \" + str(a))\n",
    "    print(\"b = \" + str(b))\n",
    "    return a + b"
   ]
  },
  {
   "cell_type": "code",
   "execution_count": 156,
   "metadata": {
    "ExecuteTime": {
     "end_time": "2017-08-28T21:24:42.326928",
     "start_time": "2017-08-28T21:24:42.321835"
    },
    "scrolled": true
   },
   "outputs": [
    {
     "name": "stdout",
     "output_type": "stream",
     "text": [
      "a = 19\n",
      "b = 5\n"
     ]
    }
   ],
   "source": [
    "x = sum_two_numbers(b=5,a=19)"
   ]
  },
  {
   "cell_type": "code",
   "execution_count": 157,
   "metadata": {
    "ExecuteTime": {
     "end_time": "2017-08-28T21:24:50.224757",
     "start_time": "2017-08-28T21:24:50.218929"
    }
   },
   "outputs": [
    {
     "data": {
      "text/plain": [
       "24"
      ]
     },
     "execution_count": 157,
     "metadata": {},
     "output_type": "execute_result"
    }
   ],
   "source": [
    "x"
   ]
  },
  {
   "cell_type": "code",
   "execution_count": 63,
   "metadata": {
    "ExecuteTime": {
     "end_time": "2017-08-28T21:27:23.901508",
     "start_time": "2017-08-28T21:27:23.886906"
    }
   },
   "outputs": [
    {
     "name": "stdout",
     "output_type": "stream",
     "text": [
      "[0, 1, 2, 3, 4, 5, 6, 7, 8, 9]\n",
      "2\n",
      "running my_fun\n"
     ]
    },
    {
     "data": {
      "text/plain": [
       "4"
      ]
     },
     "execution_count": 63,
     "metadata": {},
     "output_type": "execute_result"
    },
    {
     "name": "stdout",
     "output_type": "stream",
     "text": [
      "[0, 1, 2, 3, 0, 5, 6, 7, 8, 9]\n",
      "2\n"
     ]
    }
   ],
   "source": [
    "def my_fun(xi, yi):\n",
    "    xi[4] = 0\n",
    "    return yi*2\n",
    "\n",
    "x = list(range(10))\n",
    "y = 2\n",
    "print(x)\n",
    "print(y)\n",
    "\n",
    "print(\"running my_fun\")\n",
    "\n",
    "my_fun(x,y)\n",
    "\n",
    "print(x)\n",
    "print(y)"
   ]
  },
  {
   "cell_type": "markdown",
   "metadata": {
    "ExecuteTime": {
     "end_time": "2017-08-26T18:30:52.289753",
     "start_time": "2017-08-26T18:30:52.284527"
    }
   },
   "source": [
    "### How to call functions"
   ]
  },
  {
   "cell_type": "code",
   "execution_count": null,
   "metadata": {
    "collapsed": true
   },
   "outputs": [],
   "source": []
  },
  {
   "cell_type": "code",
   "execution_count": 72,
   "metadata": {},
   "outputs": [
    {
     "name": "stdout",
     "output_type": "stream",
     "text": [
      "Hello From My Function!\n",
      "Hello, John Doe , From My Function!, I wish you a great year!\n"
     ]
    }
   ],
   "source": [
    "def my_function():\n",
    "    print(\"Hello From My Function!\")\n",
    "\n",
    "def my_function_with_args(username, greeting):\n",
    "    print(\"Hello, %s , From My Function!, I wish you %s\" % (username, greeting))\n",
    "\n",
    "def sum_two_numbers(a, b=1):\n",
    "    return a + b\n",
    "\n",
    "# print(a simple greeting)\n",
    "my_function()\n",
    "\n",
    "#prints - \"Hello, John Doe, From My Function!, I wish you a great year!\"\n",
    "my_function_with_args(\"John Doe\", \"a great year!\")\n",
    "\n",
    "# after this line x will hold the value 3!\n",
    "x = sum_two_numbers(1,2)"
   ]
  },
  {
   "cell_type": "code",
   "execution_count": 74,
   "metadata": {
    "ExecuteTime": {
     "end_time": "2017-08-28T21:31:02.537442",
     "start_time": "2017-08-28T21:31:02.529574"
    }
   },
   "outputs": [
    {
     "name": "stdout",
     "output_type": "stream",
     "text": [
      "5\n",
      "25\n",
      "125\n"
     ]
    }
   ],
   "source": [
    "def my_fun2(x):\n",
    "    return x, x**2, x**3\n",
    "\n",
    "y1, y2, y3 = my_fun2(5)\n",
    "print(y1)\n",
    "print(y2)\n",
    "print(y3)"
   ]
  },
  {
   "cell_type": "markdown",
   "metadata": {},
   "source": [
    "In this exercise you'll use an existing function, \n",
    "and while adding your own to create a fully functional program.\n",
    "\n",
    "1. Add a function named `list_benefits()` that returns the following list of strings: *\"More organized code\"*, *\"More readable code\"*, *\"Easier code reuse\"*, *\"Allowing programmers to share and connect code together\"*\n",
    "\n",
    "2. Add a function named `build_sentence(info)` which receives a single argument containing a string and returns a sentence starting with the given string and ending with the string \" is a benefit of functions!\"\n",
    "\n",
    "3. Run and see all the functions work together!"
   ]
  },
  {
   "cell_type": "code",
   "execution_count": 102,
   "metadata": {
    "ExecuteTime": {
     "end_time": "2017-08-26T18:32:41.698231",
     "start_time": "2017-08-26T18:32:41.665645"
    }
   },
   "outputs": [
    {
     "ename": "TypeError",
     "evalue": "'NoneType' object is not iterable",
     "output_type": "error",
     "traceback": [
      "\u001b[0;31m---------------------------------------------------------------------------\u001b[0m",
      "\u001b[0;31mTypeError\u001b[0m                                 Traceback (most recent call last)",
      "\u001b[0;32m<ipython-input-102-b9bdd9307249>\u001b[0m in \u001b[0;36m<module>\u001b[0;34m()\u001b[0m\n\u001b[1;32m     12\u001b[0m         \u001b[0mprint\u001b[0m\u001b[0;34m(\u001b[0m\u001b[0mbuild_sentence\u001b[0m\u001b[0;34m(\u001b[0m\u001b[0mbenefit\u001b[0m\u001b[0;34m)\u001b[0m\u001b[0;34m)\u001b[0m\u001b[0;34m\u001b[0m\u001b[0;34m\u001b[0m\u001b[0m\n\u001b[1;32m     13\u001b[0m \u001b[0;34m\u001b[0m\u001b[0m\n\u001b[0;32m---> 14\u001b[0;31m \u001b[0mname_the_benefits_of_functions\u001b[0m\u001b[0;34m(\u001b[0m\u001b[0;34m)\u001b[0m\u001b[0;34m\u001b[0m\u001b[0;34m\u001b[0m\u001b[0m\n\u001b[0m",
      "\u001b[0;32m<ipython-input-102-b9bdd9307249>\u001b[0m in \u001b[0;36mname_the_benefits_of_functions\u001b[0;34m()\u001b[0m\n\u001b[1;32m      9\u001b[0m \u001b[0;32mdef\u001b[0m \u001b[0mname_the_benefits_of_functions\u001b[0m\u001b[0;34m(\u001b[0m\u001b[0;34m)\u001b[0m\u001b[0;34m:\u001b[0m\u001b[0;34m\u001b[0m\u001b[0;34m\u001b[0m\u001b[0m\n\u001b[1;32m     10\u001b[0m     \u001b[0mlist_of_benefits\u001b[0m \u001b[0;34m=\u001b[0m \u001b[0mlist_benefits\u001b[0m\u001b[0;34m(\u001b[0m\u001b[0;34m)\u001b[0m\u001b[0;34m\u001b[0m\u001b[0;34m\u001b[0m\u001b[0m\n\u001b[0;32m---> 11\u001b[0;31m     \u001b[0;32mfor\u001b[0m \u001b[0mbenefit\u001b[0m \u001b[0;32min\u001b[0m \u001b[0mlist_of_benefits\u001b[0m\u001b[0;34m:\u001b[0m\u001b[0;34m\u001b[0m\u001b[0;34m\u001b[0m\u001b[0m\n\u001b[0m\u001b[1;32m     12\u001b[0m         \u001b[0mprint\u001b[0m\u001b[0;34m(\u001b[0m\u001b[0mbuild_sentence\u001b[0m\u001b[0;34m(\u001b[0m\u001b[0mbenefit\u001b[0m\u001b[0;34m)\u001b[0m\u001b[0;34m)\u001b[0m\u001b[0;34m\u001b[0m\u001b[0;34m\u001b[0m\u001b[0m\n\u001b[1;32m     13\u001b[0m \u001b[0;34m\u001b[0m\u001b[0m\n",
      "\u001b[0;31mTypeError\u001b[0m: 'NoneType' object is not iterable"
     ]
    }
   ],
   "source": [
    "# Modify this function to return a list of strings as defined above\n",
    "def list_benefits():\n",
    "     pass\n",
    "\n",
    "# Modify this function to concatenate to each benefit - \" is a benefit of functions!\"\n",
    "def build_sentence(benefit):\n",
    "     pass\n",
    "\n",
    "def name_the_benefits_of_functions():\n",
    "    list_of_benefits = list_benefits()\n",
    "    for benefit in list_of_benefits:\n",
    "        print(build_sentence(benefit))\n",
    "\n",
    "name_the_benefits_of_functions()"
   ]
  },
  {
   "cell_type": "markdown",
   "metadata": {},
   "source": [
    "## Methods\n",
    "Methods are very similar to functions with the difference that, typically, a method associated with an objects.\n"
   ]
  },
  {
   "cell_type": "code",
   "execution_count": 163,
   "metadata": {
    "ExecuteTime": {
     "end_time": "2017-08-28T21:32:40.427074",
     "start_time": "2017-08-28T21:32:40.419233"
    }
   },
   "outputs": [
    {
     "data": {
      "text/plain": [
       "'hello world'"
      ]
     },
     "execution_count": 163,
     "metadata": {},
     "output_type": "execute_result"
    }
   ],
   "source": [
    "s = \"Hello WORLD\"\n",
    "s.lower()"
   ]
  },
  {
   "cell_type": "code",
   "execution_count": 77,
   "metadata": {
    "ExecuteTime": {
     "end_time": "2017-08-26T18:36:43.926870",
     "start_time": "2017-08-26T18:36:43.920461"
    }
   },
   "outputs": [
    {
     "data": {
      "text/plain": [
       "(15, 4)"
      ]
     },
     "execution_count": 77,
     "metadata": {},
     "output_type": "execute_result"
    }
   ],
   "source": [
    "3.75.as_integer_ratio()"
   ]
  },
  {
   "cell_type": "markdown",
   "metadata": {},
   "source": [
    "**Hint:** while typing in the notebook or at the `ipython` prompt use the [TAB]-key after adding a \".\" (period) behind an object to see available methods:\n",
    "\n",
    "1. Type the name of an already defined object: `s`\n",
    "2. Add a period \".\" and hit the [TAB]-key: `s.`  $\\leftarrow$ This should show a list of available methods to a string.\n",
    "\n",
    "![](figs/tab-key-methods.png)"
   ]
  },
  {
   "cell_type": "markdown",
   "metadata": {
    "collapsed": true
   },
   "source": [
    "## Python Dictionary\n",
    "Dictionary in Python is an unordered collection of data values, used to store data values like a map, which unlike other Data Types that hold only single value as an element, Dictionary holds key:value pair. Key value is provided in the dictionary to make it more optimized. Each key-value pair in a Dictionary is separated by a colon :, whereas each key is separated by a ‘comma’.\n",
    "\n",
    "A Dictionary in Python works similar to the Dictionary in a real world. Keys of a Dictionary must be unique and of immutable data type such as Strings, Integers and tuples, but the key-values can be repeated and be of any type.\n",
    "\n",
    "# source: https://www.geeksforgeeks.org/python-dictionary/"
   ]
  },
  {
   "cell_type": "code",
   "execution_count": 87,
   "metadata": {},
   "outputs": [
    {
     "name": "stdout",
     "output_type": "stream",
     "text": [
      "Empty Dictionary: \n",
      "{}\n",
      "\n",
      "Dictionary with the use of Integer Keys: \n",
      "{1: 'Geeks', 2: 'For', 3: 'Geeks'}\n",
      "\n",
      "Dictionary with the use of Mixed Keys: \n",
      "{'Name': 'Geeks', 1: [1, 2, 3, 4]}\n",
      "\n",
      "Dictionary with the use of dict(): \n",
      "{1: 'Geeks', 2: 'For', 3: 'Geeks'}\n",
      "\n",
      "Dictionary with each item as a pair: \n",
      "{1: 'Geeks', 2: 'For'}\n"
     ]
    }
   ],
   "source": [
    "# Creating an empty Dictionary \n",
    "Dict = {} \n",
    "print(\"Empty Dictionary: \") \n",
    "print(Dict) \n",
    "  \n",
    "# Creating a Dictionary  \n",
    "# with Integer Keys \n",
    "MyWistList = {1: 'Geeks', 2: 'For', 3: 'Geeks'} \n",
    "print(\"\\nDictionary with the use of Integer Keys: \") \n",
    "print(Dict) \n",
    "\n",
    "MyWistList.get(2)\n",
    "  \n",
    "# Creating a Dictionary  \n",
    "# with Mixed keys \n",
    "Dict = {'Name': 'Geeks', 1: [1, 2, 3, 4]} \n",
    "print(\"\\nDictionary with the use of Mixed Keys: \") \n",
    "print(Dict) \n",
    "  \n",
    "# Creating a Dictionary \n",
    "# with dict() method \n",
    "Dict = {1: 'Geeks', 2: 'For', 3:'Geeks'}\n",
    "print(\"\\nDictionary with the use of dict(): \") \n",
    "print(Dict) \n",
    "  \n",
    "# Creating a Dictionary \n",
    "# with each item as a Pair \n",
    "Dict = dict([(1, 'Geeks'), (2, 'For')]) \n",
    "print(\"\\nDictionary with each item as a pair: \") \n",
    "print(Dict) "
   ]
  },
  {
   "cell_type": "code",
   "execution_count": 109,
   "metadata": {},
   "outputs": [
    {
     "data": {
      "text/plain": [
       "'Geeks'"
      ]
     },
     "execution_count": 109,
     "metadata": {},
     "output_type": "execute_result"
    },
    {
     "name": "stdout",
     "output_type": "stream",
     "text": [
      "{1: 'Geeks', 2: 'For', 3: {'A': 'Welcome', 'B': 'To', 'C': 'Geeks'}}\n"
     ]
    }
   ],
   "source": [
    "# Creating a Nested Dictionary  \n",
    "# as shown in the below image \n",
    "Dict = {1: 'Geeks', 2: 'For',  \n",
    "        3:{'A' : 'Welcome', 'B' : 'To', 'C' : 'Geeks'}} \n",
    "\n",
    "Dict.get(1)\n",
    "\n",
    "print(Dict) "
   ]
  },
  {
   "cell_type": "code",
   "execution_count": 89,
   "metadata": {},
   "outputs": [
    {
     "name": "stdout",
     "output_type": "stream",
     "text": [
      "Empty Dictionary: \n",
      "{}\n",
      "\n",
      "Dictionary after adding 3 elements: \n",
      "{0: 'Geeks', 2: 'For', 3: 1}\n",
      "\n",
      "Dictionary after adding 3 elements: \n",
      "{0: 'Geeks', 2: 'For', 3: 1, 'Value_set': (2, 3, 4)}\n",
      "\n",
      "Updated key value: \n",
      "{0: 'Geeks', 2: 'Welcome', 3: 1, 'Value_set': (2, 3, 4)}\n",
      "\n",
      "Adding a Nested Key: \n",
      "{0: 'Geeks', 2: 'Welcome', 3: 1, 'Value_set': (2, 3, 4), 5: {'Nested': {'1': 'Life', '2': 'Geeks'}}}\n"
     ]
    }
   ],
   "source": [
    "# Creating an empty Dictionary \n",
    "Dict = {} \n",
    "print(\"Empty Dictionary: \") \n",
    "print(Dict) \n",
    "  \n",
    "# Adding elements one at a time \n",
    "Dict[0] = 'Geeks'\n",
    "Dict[2] = 'For'\n",
    "Dict[3] = 1\n",
    "print(\"\\nDictionary after adding 3 elements: \") \n",
    "print(Dict) \n",
    "  \n",
    "# Adding set of values  \n",
    "# to a single Key \n",
    "Dict['Value_set'] = 2, 3, 4\n",
    "print(\"\\nDictionary after adding 3 elements: \") \n",
    "print(Dict) \n",
    "  \n",
    "# Updating existing Key's Value \n",
    "Dict[2] = 'Welcome'\n",
    "print(\"\\nUpdated key value: \") \n",
    "print(Dict) \n",
    "  \n",
    "# Adding Nested Key value to Dictionary \n",
    "Dict[5] = {'Nested' :{'1' : 'Life', '2' : 'Geeks'}} \n",
    "print(\"\\nAdding a Nested Key: \") \n",
    "print(Dict) "
   ]
  },
  {
   "cell_type": "code",
   "execution_count": 90,
   "metadata": {},
   "outputs": [
    {
     "name": "stdout",
     "output_type": "stream",
     "text": [
      "Acessing a element using key:\n",
      "For\n",
      "Acessing a element using key:\n",
      "Geeks\n",
      "Acessing a element using get:\n",
      "Geeks\n"
     ]
    }
   ],
   "source": [
    "# Python program to demonstrate   \n",
    "# accesing a element from a Dictionary  \n",
    "  \n",
    "# Creating a Dictionary  \n",
    "Dict = {1: 'Geeks', 'name': 'For', 3: 'Geeks'} \n",
    "  \n",
    "# accessing a element using key \n",
    "print(\"Acessing a element using key:\") \n",
    "print(Dict['name']) \n",
    "  \n",
    "# accessing a element using key \n",
    "print(\"Acessing a element using key:\") \n",
    "print(Dict[1]) \n",
    "  \n",
    "# accessing a element using get() \n",
    "# method \n",
    "print(\"Acessing a element using get:\") \n",
    "print(Dict.get(3)) "
   ]
  },
  {
   "cell_type": "code",
   "execution_count": 91,
   "metadata": {},
   "outputs": [
    {
     "name": "stdout",
     "output_type": "stream",
     "text": [
      "Initial Dictionary: \n",
      "{5: 'Welcome', 6: 'To', 7: 'Geeks', 'A': {1: 'Geeks', 2: 'For', 3: 'Geeks'}, 'B': {1: 'Geeks', 2: 'Life'}}\n",
      "\n",
      "Deleting a specific key: \n",
      "{5: 'Welcome', 7: 'Geeks', 'A': {1: 'Geeks', 2: 'For', 3: 'Geeks'}, 'B': {1: 'Geeks', 2: 'Life'}}\n",
      "\n",
      "Deleting a key from Nested Dictionary: \n",
      "{5: 'Welcome', 7: 'Geeks', 'A': {1: 'Geeks', 3: 'Geeks'}, 'B': {1: 'Geeks', 2: 'Life'}}\n"
     ]
    },
    {
     "data": {
      "text/plain": [
       "'Welcome'"
      ]
     },
     "execution_count": 91,
     "metadata": {},
     "output_type": "execute_result"
    },
    {
     "name": "stdout",
     "output_type": "stream",
     "text": [
      "\n",
      "Popping specific element: \n",
      "{7: 'Geeks', 'A': {1: 'Geeks', 3: 'Geeks'}, 'B': {1: 'Geeks', 2: 'Life'}}\n"
     ]
    },
    {
     "data": {
      "text/plain": [
       "('B', {1: 'Geeks', 2: 'Life'})"
      ]
     },
     "execution_count": 91,
     "metadata": {},
     "output_type": "execute_result"
    },
    {
     "name": "stdout",
     "output_type": "stream",
     "text": [
      "\n",
      "Pops an arbitrary key-value pair: \n",
      "{7: 'Geeks', 'A': {1: 'Geeks', 3: 'Geeks'}}\n",
      "\n",
      "Deleting Entire Dictionary: \n",
      "{}\n"
     ]
    }
   ],
   "source": [
    "# Initial Dictionary \n",
    "Dict = { 5 : 'Welcome', 6 : 'To', 7 : 'Geeks', \n",
    "        'A' : {1 : 'Geeks', 2 : 'For', 3 : 'Geeks'}, \n",
    "        'B' : {1 : 'Geeks', 2 : 'Life'}} \n",
    "print(\"Initial Dictionary: \") \n",
    "print(Dict) \n",
    "  \n",
    "# Deleting a Key value \n",
    "del Dict[6] \n",
    "print(\"\\nDeleting a specific key: \") \n",
    "print(Dict) \n",
    "  \n",
    "# Deleting a Key from \n",
    "# Nested Dictionary \n",
    "del Dict['A'][2] \n",
    "print(\"\\nDeleting a key from Nested Dictionary: \") \n",
    "print(Dict) \n",
    "  \n",
    "# Deleting a Key  \n",
    "# using pop() \n",
    "Dict.pop(5) \n",
    "print(\"\\nPopping specific element: \") \n",
    "print(Dict) \n",
    "  \n",
    "# Deleting an arbitrary Key-value pair \n",
    "# using popitem() \n",
    "Dict.popitem() \n",
    "print(\"\\nPops an arbitrary key-value pair: \") \n",
    "print(Dict) \n",
    "  \n",
    "# Deleting entire Dictionary \n",
    "Dict.clear() \n",
    "print(\"\\nDeleting Entire Dictionary: \") \n",
    "print(Dict) "
   ]
  },
  {
   "cell_type": "code",
   "execution_count": 92,
   "metadata": {},
   "outputs": [
    {
     "data": {
      "image/png": "[encoded data removed]",
      "text/plain": [
       "<PIL.PngImagePlugin.PngImageFile image mode=RGBA size=944x808 at 0x1A176FE160>"
      ]
     },
     "metadata": {},
     "output_type": "display_data"
    }
   ],
   "source": [
    "from IPython.display import display\n",
    "from PIL import Image\n",
    "\n",
    "\n",
    "path=\"/Users/mxz0434/Downloads/dict.png\"\n",
    "display(Image.open(path))"
   ]
  },
  {
   "cell_type": "markdown",
   "metadata": {},
   "source": [
    "# Plotting something\n",
    "- Let's put some of our knowledge about lists and functions to use.\n",
    "- The following examples will create list of values, and then graph them.\n",
    "- We use a module of the Matplotlib library https://matplotlib.org/ The web-site provides detailed documentation and a wealth of examples. \n",
    "<img src=\"https://matplotlib.org/_static/logo2.svg\" style=\"top:5px;width:200px;right:5px;position:absolute\" />"
   ]
  },
  {
   "cell_type": "code",
   "execution_count": 78,
   "metadata": {
    "ExecuteTime": {
     "end_time": "2017-08-26T14:56:26.682438",
     "start_time": "2017-08-26T14:56:26.390777"
    }
   },
   "outputs": [],
   "source": [
    "# These two lines are critical to using matplotlib within the noteboook\n",
    "%matplotlib inline\n",
    "import matplotlib.pyplot as plt\n",
    "import matplotlib.style as style"
   ]
  },
  {
   "cell_type": "code",
   "execution_count": 79,
   "metadata": {
    "ExecuteTime": {
     "end_time": "2017-08-26T14:57:15.324487",
     "start_time": "2017-08-26T14:57:15.317285"
    }
   },
   "outputs": [
    {
     "data": {
      "text/plain": [
       "range(0, 10)"
      ]
     },
     "execution_count": 79,
     "metadata": {},
     "output_type": "execute_result"
    }
   ],
   "source": [
    "x = range(10)\n",
    "x"
   ]
  },
  {
   "cell_type": "code",
   "execution_count": 80,
   "metadata": {
    "ExecuteTime": {
     "end_time": "2017-08-28T21:36:43.905528",
     "start_time": "2017-08-28T21:36:43.901373"
    }
   },
   "outputs": [],
   "source": [
    "x = [float(i-50)/50.0 for i in range(100)]"
   ]
  },
  {
   "cell_type": "code",
   "execution_count": null,
   "metadata": {
    "ExecuteTime": {
     "end_time": "2017-08-27T10:48:02.543227",
     "start_time": "2017-08-27T10:48:02.538032"
    },
    "collapsed": true
   },
   "outputs": [],
   "source": [
    "# from math import *"
   ]
  },
  {
   "cell_type": "code",
   "execution_count": 27,
   "metadata": {},
   "outputs": [
    {
     "data": {
      "text/plain": [
       "['seaborn-dark',\n",
       " 'seaborn-darkgrid',\n",
       " 'seaborn-ticks',\n",
       " 'fivethirtyeight',\n",
       " 'seaborn-whitegrid',\n",
       " 'classic',\n",
       " '_classic_test',\n",
       " 'fast',\n",
       " 'seaborn-talk',\n",
       " 'seaborn-dark-palette',\n",
       " 'seaborn-bright',\n",
       " 'seaborn-pastel',\n",
       " 'grayscale',\n",
       " 'seaborn-notebook',\n",
       " 'ggplot',\n",
       " 'seaborn-colorblind',\n",
       " 'seaborn-muted',\n",
       " 'seaborn',\n",
       " 'Solarize_Light2',\n",
       " 'seaborn-paper',\n",
       " 'bmh',\n",
       " 'tableau-colorblind10',\n",
       " 'seaborn-white',\n",
       " 'dark_background',\n",
       " 'seaborn-poster',\n",
       " 'seaborn-deep']"
      ]
     },
     "execution_count": 27,
     "metadata": {},
     "output_type": "execute_result"
    }
   ],
   "source": [
    "import matplotlib.style as style\n",
    "\n",
    "style.available"
   ]
  },
  {
   "cell_type": "code",
   "execution_count": 81,
   "metadata": {
    "ExecuteTime": {
     "end_time": "2017-08-28T21:37:13.944632",
     "start_time": "2017-08-28T21:37:13.941129"
    }
   },
   "outputs": [],
   "source": [
    "y = [ xx**2 for xx in x]\n",
    "y2 = [xx**3 for xx in x]"
   ]
  },
  {
   "cell_type": "code",
   "execution_count": 85,
   "metadata": {
    "ExecuteTime": {
     "end_time": "2017-08-28T21:38:07.576338",
     "start_time": "2017-08-28T21:38:07.391925"
    }
   },
   "outputs": [
    {
     "data": {
      "text/plain": [
       "[<matplotlib.lines.Line2D at 0x1a177d86d8>]"
      ]
     },
     "execution_count": 85,
     "metadata": {},
     "output_type": "execute_result"
    },
    {
     "data": {
      "text/plain": [
       "[<matplotlib.lines.Line2D at 0x1a17377a90>]"
      ]
     },
     "execution_count": 85,
     "metadata": {},
     "output_type": "execute_result"
    },
    {
     "data": {
      "text/plain": [
       "<matplotlib.legend.Legend at 0x1a177d8e48>"
      ]
     },
     "execution_count": 85,
     "metadata": {},
     "output_type": "execute_result"
    },
    {
     "data": {
      "text/plain": [
       "Text(0.5,1,'Exponential Functions')"
      ]
     },
     "execution_count": 85,
     "metadata": {},
     "output_type": "execute_result"
    },
    {
     "data": {
      "image/png": "[encoded data removed]",
      "text/plain": [
       "<Figure size 432x288 with 1 Axes>"
      ]
     },
     "metadata": {},
     "output_type": "display_data"
    }
   ],
   "source": [
    "sns.set_style('white')\n",
    "# style.use('ggplot')\n",
    "plt.plot(x, y, label=\"x^2\")\n",
    "plt.plot(x, y2, label=\"x^3\")\n",
    "plt.legend(loc=\"best\")\n",
    "plt.title(\"Exponential Functions\")\n",
    "plt.show()"
   ]
  },
  {
   "cell_type": "code",
   "execution_count": 170,
   "metadata": {
    "ExecuteTime": {
     "end_time": "2017-08-28T21:38:47.025483",
     "start_time": "2017-08-28T21:38:47.014945"
    }
   },
   "outputs": [
    {
     "data": {
      "text/plain": [
       "[-3.1415926535897936,\n",
       " -3.0787608005179976,\n",
       " -3.0159289474462017,\n",
       " -2.9530970943744057,\n",
       " -2.8902652413026098,\n",
       " -2.8274333882308142,\n",
       " -2.7646015351590183,\n",
       " -2.7017696820872223,\n",
       " -2.6389378290154264,\n",
       " -2.5761059759436304]"
      ]
     },
     "execution_count": 170,
     "metadata": {},
     "output_type": "execute_result"
    }
   ],
   "source": [
    "theta = [ ma.pi*0.02*float(t-50) for t in range (100)]\n",
    "theta[:10]"
   ]
  },
  {
   "cell_type": "code",
   "execution_count": 172,
   "metadata": {
    "ExecuteTime": {
     "end_time": "2017-08-28T21:39:04.284415",
     "start_time": "2017-08-28T21:39:04.279794"
    }
   },
   "outputs": [],
   "source": [
    "x = [ma.sin(t) for t in theta]\n",
    "y = [ma.cos(t) for t in theta]"
   ]
  },
  {
   "cell_type": "code",
   "execution_count": 176,
   "metadata": {
    "ExecuteTime": {
     "end_time": "2017-08-28T21:41:41.211580",
     "start_time": "2017-08-28T21:41:41.207991"
    }
   },
   "outputs": [],
   "source": [
    "x,y = zip(*[(ma.sin(t), ma.cos(t)) for t in theta])"
   ]
  },
  {
   "cell_type": "code",
   "execution_count": 86,
   "metadata": {
    "ExecuteTime": {
     "end_time": "2017-08-28T21:41:50.906418",
     "start_time": "2017-08-28T21:41:50.696803"
    }
   },
   "outputs": [
    {
     "data": {
      "text/plain": [
       "<Figure size 432x432 with 0 Axes>"
      ]
     },
     "execution_count": 86,
     "metadata": {},
     "output_type": "execute_result"
    },
    {
     "data": {
      "text/plain": [
       "[<matplotlib.lines.Line2D at 0x1a176e4710>]"
      ]
     },
     "execution_count": 86,
     "metadata": {},
     "output_type": "execute_result"
    },
    {
     "data": {
      "image/png": "[encoded data removed]",
      "text/plain": [
       "<Figure size 432x432 with 1 Axes>"
      ]
     },
     "metadata": {},
     "output_type": "display_data"
    }
   ],
   "source": [
    "plt.figure(figsize=(6,6))\n",
    "plt.plot(x,y)"
   ]
  },
  {
   "cell_type": "markdown",
   "metadata": {},
   "source": [
    "# Some Fun\n",
    "Let's draw a picture of a bear in matplotlib. (Watch on YouTube https://www.youtube.com/watch?v=Jt1fSndR2bY)\n",
    "![](figs/bear.png) "
   ]
  },
  {
   "cell_type": "markdown",
   "metadata": {
    "collapsed": true
   },
   "source": [
    "# Assignment HW02\n",
    "## Instructions\n",
    "**Please following the instructions precisely!**\n",
    "\n",
    "To submit your assignment, write all your functions in the indicated spaces in the Jupyter notebook called \"HW2_submission.ipynb\" located in this directory. Run the notebook to generate .py files that will make up your submission. \n",
    "\n",
    "QUESTIONS\n",
    "\n",
    "1. Write a function called \"operate\" that takes as input two numbers, and a string that can be either \"add\" or \"multiply\". The output should be either the sum or product of the two numbers, depending on the string entered.\n",
    "\n",
    "2. The Fibonacci sequence starts with 1, 1, and each subsequent term is the sum of the preceding two terms. The first 6 terms of the Fibonacci sequence are: 1, 1, 2, 3, 5, 8, ... Write a python function that takes one argument N and prints the first N terms of the Fibonacci sequence.\n",
    "\n",
    "3. A simple substitution code codes 'a' as 1, 'b' as 2, ..., 'z' as 26. Write a function called \"encode\" that takes in a string, and prints the coded text. The output should be a string, with letters separated by \".\". Use \"999\" for punctuation and spaces. For example, encode(\"Hello!\") should print out \"8.5.12.12.15.999\".\n",
    "\n",
    "4. The Harmonic series is the sum of 1 + 1/2 + 1/3 + 1/4 + ..... The n<sup>th</sup> Harmonic number H<sub>n</sub> is 1 + 1/2 + 1/3 + ...  + 1/n. Write a python function called \"get_n\" that accepts as input a threshold, and returns n corresponding to the smallest Harmonic number whose value is grater than the threshold. E.g. `get_n(3)` should output 11.\n",
    "\n",
    "5. Write a function called \"describe\" that takes as input a list of numbers, and prints the number of elements in the list, and the mean, variance, and standard deviation. The printed quantities should be labeled. The output should look something like: </br></br>\n",
    "`number of elements: 12` </br>\n",
    "`mean: 0.5` </br>\n",
    "`variance: 0.04` </br>\n",
    "`standard deviation: 0.2`\n"
   ]
  },
  {
   "cell_type": "code",
   "execution_count": null,
   "metadata": {},
   "outputs": [],
   "source": []
  }
 ],
 "metadata": {
  "hide_input": false,
  "kernelspec": {
   "display_name": "Python 3",
   "language": "python",
   "name": "python3"
  },
  "language_info": {
   "codemirror_mode": {
    "name": "ipython",
    "version": 3
   },
   "file_extension": ".py",
   "mimetype": "text/x-python",
   "name": "python",
   "nbconvert_exporter": "python",
   "pygments_lexer": "ipython3",
   "version": "3.6.8"
  },
  "toc": {
   "nav_menu": {
    "height": "12px",
    "width": "252px"
   },
   "navigate_menu": true,
   "number_sections": true,
   "sideBar": true,
   "threshold": 4,
   "toc_cell": false,
   "toc_section_display": "block",
   "toc_window_display": true
  }
 },
 "nbformat": 4,
 "nbformat_minor": 1
}
