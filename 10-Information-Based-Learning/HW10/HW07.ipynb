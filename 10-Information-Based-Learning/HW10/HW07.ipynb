{
 "cells": [
  {
   "cell_type": "markdown",
   "metadata": {},
   "source": [
    "# Homework 7"
   ]
  },
  {
   "cell_type": "markdown",
   "metadata": {},
   "source": [
    "Use this notebook to work on your answers and check solutions. You can then submit your functions using \"HW7_submission.ipynb\" or directly write your functions in a file named \"hw7_answers.py\".\n",
    "\n",
    "You will use the cereal dataset attached with the assignment."
   ]
  },
  {
   "cell_type": "markdown",
   "metadata": {
    "ExecuteTime": {
     "end_time": "2017-10-17T21:06:49.446074",
     "start_time": "2017-10-17T21:06:49.440535"
    }
   },
   "source": [
    "## Question 1\n",
    "\n",
    "Write a function called \"get_corrs\" which takes one argument:\n",
    "\n",
    "* df, which is a pandas data frame\n",
    "\n",
    "and returns:\n",
    "\n",
    "* m, a correlation matrix for the numerical variables in df.\n",
    "\n",
    "Hint:\n",
    "* google _df corr_"
   ]
  },
  {
   "cell_type": "code",
   "execution_count": null,
   "metadata": {
    "ExecuteTime": {
     "end_time": "2017-10-17T21:53:22.812162",
     "start_time": "2017-10-17T21:53:22.808170"
    }
   },
   "outputs": [],
   "source": [
    "#### play with code here #####\n",
    "\n",
    "\n",
    "\n",
    "\n"
   ]
  },
  {
   "cell_type": "markdown",
   "metadata": {},
   "source": [
    "### Sample output:\n",
    "\n",
    "```\n",
    "In [1]: get_corrs(cer[['name','calories','carbo','sugars']])\n",
    "Out[1]:  \tcalories \tcarbo \t    sugars\n",
    "   calories\t1.000000    0.250681 \t0.562340\n",
    "      carbo    0.250681    1.000000    -0.331665\n",
    "     sugars\t0.562340   -0.331665\t 1.000000\n",
    "```"
   ]
  },
  {
   "cell_type": "markdown",
   "metadata": {
    "ExecuteTime": {
     "end_time": "2017-10-17T21:39:52.369611",
     "start_time": "2017-10-17T21:39:52.332791"
    }
   },
   "source": [
    "## Question 2\n",
    "\n",
    "Write a function called \"get_corr_pairs\" which takes one argument:\n",
    "\n",
    "* df, which is a pandas data frame\n",
    "\n",
    "and returns:\n",
    "\n",
    "* corr_pairs, a dictionary where keys are names of columns of df corresponding to numerical features, and values are arrays of names of columns whose correlation coefficient with the key has magnitude 0.3 or greater. \n",
    "\n",
    "You can use your function from question 1 to get the correlation values."
   ]
  },
  {
   "cell_type": "code",
   "execution_count": null,
   "metadata": {
    "ExecuteTime": {
     "end_time": "2017-10-17T21:53:22.812162",
     "start_time": "2017-10-17T21:53:22.808170"
    }
   },
   "outputs": [],
   "source": [
    "#### play with code here #####\n",
    "\n",
    "\n",
    "\n",
    "\n"
   ]
  },
  {
   "cell_type": "markdown",
   "metadata": {},
   "source": [
    "### Sample output:\n",
    "\n",
    "```\n",
    "In [1]: get_corr_pairs(cer[['name','fat','sugars','rating']])\n",
    "Out[1]: {'fat': ['rating'], 'rating': ['fat', 'sugars'], 'sugars': ['rating']}\n",
    "```\n",
    "\n",
    "Short explanation: the correlation between 'fat' and 'rating' is -0.409, 'sugars' and 'rating' is -0.760; the remaining correlations have magnitude < 0.3. "
   ]
  },
  {
   "cell_type": "markdown",
   "metadata": {},
   "source": [
    "## Question 3\n",
    "\n",
    "Write a function called \"sample_cereal\" which takes two arguments:\n",
    "    \n",
    "* df, which is a pandas data frame\n",
    "* kind, which is a string that can take value 'up' or 'down'\n",
    "\n",
    "and returns:\n",
    "\n",
    "* a pandas data frame with balanced target class 'ratingID', using up sampling if kind='up' and downsampling if kind='down'."
   ]
  },
  {
   "cell_type": "code",
   "execution_count": null,
   "metadata": {
    "ExecuteTime": {
     "end_time": "2017-10-17T21:53:22.812162",
     "start_time": "2017-10-17T21:53:22.808170"
    }
   },
   "outputs": [],
   "source": [
    "#### play with code here #####\n",
    "\n",
    "\n",
    "\n",
    "\n"
   ]
  },
  {
   "cell_type": "markdown",
   "metadata": {},
   "source": [
    "### Sample output:\n",
    "\n",
    "```\n",
    "In [1]: sample_cereal(cer.ix[3:5,['name','mfr','type','calories','protein','ratingID']], 'up')\n",
    "Out[1]:  \tname \t            mfr \ttype \tcalories \tprotein \tratingID\n",
    "3 \tAll-Bran with Extra Fiber \tK \tC \t     50 \t      4 \t     1\n",
    "3 \tAll-Bran with Extra Fiber \tK \tC \t     50 \t      4 \t     1\n",
    "4 \tAlmond Delight  \t          R \tC \t     110 \t     2 \t     0\n",
    "5 \tApple Cinnamon Cheerios \t  G \tC \t     110 \t     2 \t     0\n",
    "```\n",
    "\n",
    "Short explanation: The input has only one positive sample and two negative samples; random sampling from a distribution of 1 can only return one possible result, so our up-sampling of the smaller class merely replicates the row for \"All-Bran with Extra Fiber\". "
   ]
  },
  {
   "cell_type": "markdown",
   "metadata": {},
   "source": [
    "## Question 4\n",
    "\n",
    "Write a function called \"find_H\" which takes two arguments:\n",
    "\n",
    "* df, which is a pandas data frame\n",
    "* cname, which is the name of the target column (that should correspond to a categorical variable)\n",
    "\n",
    "and returns:\n",
    "\n",
    "* H, the entropy in the column cname (use logarithm base 2)"
   ]
  },
  {
   "cell_type": "code",
   "execution_count": null,
   "metadata": {
    "ExecuteTime": {
     "end_time": "2017-10-30T23:22:59.175090",
     "start_time": "2017-10-30T23:22:59.167214"
    }
   },
   "outputs": [],
   "source": [
    "#### play with code here #####\n",
    "\n",
    "\n",
    "\n",
    "\n"
   ]
  },
  {
   "cell_type": "markdown",
   "metadata": {},
   "source": [
    "### Sample output:\n",
    "\n",
    "```\n",
    "In [1]: find_H(cer.iloc[:20], 'ratingID')\n",
    "Out[1]: 0.60984030471640038\n",
    "```"
   ]
  },
  {
   "cell_type": "markdown",
   "metadata": {
    "ExecuteTime": {
     "end_time": "2017-10-18T00:17:09.715906",
     "start_time": "2017-10-18T00:17:09.672366"
    }
   },
   "source": [
    "## Bonus: Question 5\n",
    "\n",
    "We talked about using gini score for split in class, but we will focus on using entropy in this practice. \n",
    "What want to know how much information can be gained by splitting on one specific feature. \n",
    "\n",
    "Formally, given resp. variable $Y$, dataset $D$ and feature $X$, information gain of $Y$ from $X$ is defined as \n",
    "\n",
    "$ IG(Y, X) = H(Y) - H(Y|X) $\n",
    "\n",
    "where $H(Y|X)$ is defined as\n",
    "\n",
    "$H(Y|X) = \\sum_{l \\in levels(X)} P(l) \\cdot H(l). $\n",
    "\n",
    "See [here](https://medium.com/@rishabhjain_22692/decision-trees-it-begins-here-93ff54ef134) for an illustration.\n",
    "\n",
    "Write a function called \"info_gain\" which takes four arguments:\n",
    "\n",
    "* df, which is a pandas data frame\n",
    "* cname, which is the name of the target column (that should correspond to a categorical variable)\n",
    "* csplit, which is the name of a numeric column in df (aka, feature)\n",
    "* threshold, which is a numeric value (aka, split cutoff)\n",
    "\n",
    "and returns:\n",
    "\n",
    "* info_gain, the information gain you get in column cname by splitting the dataset on the threshold value in column csplit. "
   ]
  },
  {
   "cell_type": "code",
   "execution_count": null,
   "metadata": {
    "ExecuteTime": {
     "end_time": "2017-10-17T21:53:22.812162",
     "start_time": "2017-10-17T21:53:22.808170"
    }
   },
   "outputs": [],
   "source": [
    "#### play with code here #####\n",
    "\n",
    "\n",
    "\n",
    "\n"
   ]
  },
  {
   "cell_type": "markdown",
   "metadata": {},
   "source": [
    "### Sample output:\n",
    "\n",
    "\n",
    "```\n",
    "In [1]: info_gain(cer.iloc[:20], 'ratingID', 'sugars', '7.0')\n",
    "Out[1]: 0.2280667035464144\n",
    "```\n",
    "\n",
    "Note: in case you wonder, for a probability of 0, use the fact that $lim_{p->0+} p log(p) = 0$. "
   ]
  },
  {
   "cell_type": "code",
   "execution_count": null,
   "metadata": {},
   "outputs": [],
   "source": []
  }
 ],
 "metadata": {
  "kernelspec": {
   "display_name": "Python 3",
   "language": "python",
   "name": "python3"
  },
  "language_info": {
   "codemirror_mode": {
    "name": "ipython",
    "version": 3
   },
   "file_extension": ".py",
   "mimetype": "text/x-python",
   "name": "python",
   "nbconvert_exporter": "python",
   "pygments_lexer": "ipython3",
   "version": "3.6.8"
  },
  "toc": {
   "nav_menu": {
    "height": "216px",
    "width": "252px"
   },
   "navigate_menu": true,
   "number_sections": true,
   "sideBar": true,
   "threshold": 4,
   "toc_cell": false,
   "toc_section_display": "block",
   "toc_window_display": false
  }
 },
 "nbformat": 4,
 "nbformat_minor": 1
}
