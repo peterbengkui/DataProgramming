{
 "cells": [
  {
   "cell_type": "markdown",
   "metadata": {},
   "source": [
    "<div style=\"float: right; color:red; font-weight:bold;\">Rename this file before you work on it!</div>\n",
    "# Pandas Exercise\n",
    "Use the Adventure Works dataset to create the following reports. The dataset is availablt for download in it's original format at https://msdn.microsoft.com/en-us/library/hh403424.aspx (follow instructions to download).\n",
    "\n",
    "## Task\n",
    "1. write the Python Pandas expression to produce a table as described in the problem statements.\n",
    "2. The SQL expression may give you a hint. It also allows you to see both systems side-by-side.\n",
    "3. If you don't know SQL just ignore the SQL code."
   ]
  },
  {
   "cell_type": "code",
   "execution_count": 1,
   "metadata": {
    "collapsed": true
   },
   "outputs": [],
   "source": [
    "import pandas as pd\n",
    "import numpy as np"
   ]
  },
  {
   "cell_type": "code",
   "execution_count": 3,
   "metadata": {
    "collapsed": false
   },
   "outputs": [
    {
     "name": "stdout",
     "output_type": "stream",
     "text": [
      "CPU times: user 69.4 ms, sys: 1.73 ms, total: 71.2 ms\n",
      "Wall time: 69.8 ms\n"
     ]
    }
   ],
   "source": [
    "%%time\n",
    "Empoyees = pd.read_excel('/home/data/AdventureWorks/Employees.xls')"
   ]
  },
  {
   "cell_type": "code",
   "execution_count": 4,
   "metadata": {
    "collapsed": false
   },
   "outputs": [
    {
     "name": "stdout",
     "output_type": "stream",
     "text": [
      "CPU times: user 8.81 ms, sys: 4.56 ms, total: 13.4 ms\n",
      "Wall time: 12.5 ms\n"
     ]
    }
   ],
   "source": [
    "%%time\n",
    "Territory = pd.read_excel('/home/data/AdventureWorks/SalesTerritory.xls')"
   ]
  },
  {
   "cell_type": "code",
   "execution_count": 5,
   "metadata": {
    "collapsed": false
   },
   "outputs": [
    {
     "name": "stdout",
     "output_type": "stream",
     "text": [
      "CPU times: user 8.05 ms, sys: 3.07 ms, total: 11.1 ms\n",
      "Wall time: 10.3 ms\n"
     ]
    }
   ],
   "source": [
    "%%time\n",
    "Customers = pd.read_excel('/home/data/AdventureWorks/Customers.xls')"
   ]
  },
  {
   "cell_type": "code",
   "execution_count": 6,
   "metadata": {
    "collapsed": false
   },
   "outputs": [
    {
     "name": "stdout",
     "output_type": "stream",
     "text": [
      "CPU times: user 11.2 ms, sys: 438 µs, total: 11.7 ms\n",
      "Wall time: 10.3 ms\n"
     ]
    }
   ],
   "source": [
    "%%time\n",
    "Orders = pd.read_excel('/home/data/AdventureWorks/ItemsOrdered.xls')"
   ]
  },
  {
   "cell_type": "markdown",
   "metadata": {},
   "source": [
    "# Filtering (with)"
   ]
  },
  {
   "cell_type": "markdown",
   "metadata": {},
   "source": [
    "### 1. Provide a list of employees that are married."
   ]
  },
  {
   "cell_type": "raw",
   "metadata": {},
   "source": [
    "SELECT e.EmployeeID, e.FirstName, e.LastName FROM dbo.Employees AS e\n",
    "    WHERE e.MaritalStatus = 'M';"
   ]
  },
  {
   "cell_type": "code",
   "execution_count": null,
   "metadata": {
    "collapsed": true
   },
   "outputs": [],
   "source": []
  },
  {
   "cell_type": "markdown",
   "metadata": {},
   "source": [
    "### 2a. Show me a list of employees that have a lastname that begins with \"R\"."
   ]
  },
  {
   "cell_type": "raw",
   "metadata": {},
   "source": [
    "SELECT e.EmployeeID, e.FirstName, e.LastName FROM dbo.Employees AS e\n",
    "\tWHERE e.LastName LIKE 'R%';"
   ]
  },
  {
   "cell_type": "code",
   "execution_count": null,
   "metadata": {
    "collapsed": true
   },
   "outputs": [],
   "source": []
  },
  {
   "cell_type": "markdown",
   "metadata": {},
   "source": [
    "### 2b. Show me a list of employees that have a lastname that ends with \"r\""
   ]
  },
  {
   "cell_type": "raw",
   "metadata": {},
   "source": [
    "SELECT e.EmployeeID, e.FirstName, e.LastName FROM dbo.Employees AS e\n",
    "\tWHERE e.LastName LIKE '%r';"
   ]
  },
  {
   "cell_type": "code",
   "execution_count": null,
   "metadata": {
    "collapsed": true
   },
   "outputs": [],
   "source": []
  },
  {
   "cell_type": "markdown",
   "metadata": {},
   "source": [
    "### 2c. Provide a list of employees that have a hyphenated lastname."
   ]
  },
  {
   "cell_type": "raw",
   "metadata": {},
   "source": [
    "SELECT e.EmployeeID, e.FirstName, e.LastName FROM dbo.Employees AS e\n",
    "\tWHERE e.LastName LIKE '%-%';"
   ]
  },
  {
   "cell_type": "code",
   "execution_count": null,
   "metadata": {
    "collapsed": true
   },
   "outputs": [],
   "source": []
  },
  {
   "cell_type": "markdown",
   "metadata": {},
   "source": [
    "### 3a. Provide a list of employees that are on salary and have more than 35 vacation hours left."
   ]
  },
  {
   "cell_type": "raw",
   "metadata": {},
   "source": [
    "SELECT \te.EmployeeID\n",
    "\t\t,e.FirstName\n",
    "\t\t,e.LastName\n",
    "\t\t,e.VacationHours\n",
    "\t\t,e.SalariedFlag\n",
    "\tFROM dbo.Employees AS e\n",
    "\tWHERE (e.SalariedFlag = 1) AND (e.VacationHours > 35);"
   ]
  },
  {
   "cell_type": "code",
   "execution_count": null,
   "metadata": {
    "collapsed": true
   },
   "outputs": [],
   "source": []
  },
  {
   "cell_type": "markdown",
   "metadata": {},
   "source": [
    "### 3b. Show the same as above but limit it to American employees."
   ]
  },
  {
   "cell_type": "raw",
   "metadata": {},
   "source": [
    "SELECT DISTINCT CountryName FROM dbo.Employees;\n",
    "\n",
    "SELECT \te.EmployeeID\n",
    "\t\t,e.FirstName\n",
    "\t\t,e.LastName\n",
    "\t\t,e.VacationHours\n",
    "\t\t,e.SalariedFlag\n",
    "\t\t,e.CountryName\n",
    "\tFROM dbo.Employees AS e\n",
    "\tWHERE (e.SalariedFlag = 1) AND (e.VacationHours > 5) AND e.CountryName = 'United States';"
   ]
  },
  {
   "cell_type": "code",
   "execution_count": null,
   "metadata": {
    "collapsed": true
   },
   "outputs": [],
   "source": []
  },
  {
   "cell_type": "markdown",
   "metadata": {},
   "source": [
    "### 3c. Show the same as above but limit it to non-American employees."
   ]
  },
  {
   "cell_type": "raw",
   "metadata": {},
   "source": [
    "SELECT \te.EmployeeID\n",
    "\t\t,e.FirstName\n",
    "\t\t,e.LastName\n",
    "\t\t,e.VacationHours\n",
    "\t\t,e.SalariedFlag\n",
    "\t\t,e.CountryName\n",
    "\tFROM dbo.Employees AS e\n",
    "\tWHERE (e.SalariedFlag = 1) AND (e.VacationHours > 5) AND e.CountryName != 'United States';"
   ]
  },
  {
   "cell_type": "code",
   "execution_count": null,
   "metadata": {
    "collapsed": true
   },
   "outputs": [],
   "source": []
  },
  {
   "cell_type": "markdown",
   "metadata": {},
   "source": [
    "### 4a. List the married employees with more than 35 vacation hours, only ones living in Washington state."
   ]
  },
  {
   "cell_type": "raw",
   "metadata": {},
   "source": [
    "SELECT \te.EmployeeID\n",
    "\t\t,e.FirstName\n",
    "\t\t,e.LastName\n",
    "\t\t,e.VacationHours\n",
    "\t\t,e.SalariedFlag\n",
    "\t\t,e.StateProvinceName\n",
    "\t\t,e.CountryName\n",
    "\tFROM dbo.Employees AS e\n",
    "\tWHERE e.MaritalStatus = 'M' AND e.VacationHours > 35 AND e.StateProvinceName = 'Washington'\n",
    "\t;"
   ]
  },
  {
   "cell_type": "code",
   "execution_count": null,
   "metadata": {
    "collapsed": true
   },
   "outputs": [],
   "source": []
  },
  {
   "cell_type": "markdown",
   "metadata": {},
   "source": [
    "### 4b. Change the logic to include anyone who meets any of the 3 conditions (i.e., people who are either married, live in Washington state, or have more than 35 vacation hours left)"
   ]
  },
  {
   "cell_type": "raw",
   "metadata": {},
   "source": [
    "SELECT \te.EmployeeID\n",
    "\t\t,e.FirstName\n",
    "\t\t,e.LastName\n",
    "\t\t,e.MaritalStatus\n",
    "\t\t,e.VacationHours\n",
    "\t\t,e.SalariedFlag\n",
    "\t\t,e.StateProvinceName\n",
    "\t\t,e.CountryName\n",
    "\tFROM dbo.Employees AS e\n",
    "\tWHERE e.MaritalStatus = 'M' OR e.VacationHours > 35 OR e.StateProvinceName = 'Washington'\n",
    "\t;"
   ]
  },
  {
   "cell_type": "code",
   "execution_count": null,
   "metadata": {
    "collapsed": true
   },
   "outputs": [],
   "source": []
  },
  {
   "cell_type": "markdown",
   "metadata": {},
   "source": [
    "### 4c. Show the same as above, but only for Production Technicians"
   ]
  },
  {
   "cell_type": "raw",
   "metadata": {},
   "source": [
    "SELECT DISTINCT JobTitle FROM dbo.Employees; --- look at job titles\n",
    "\n",
    "SELECT \te.EmployeeID\n",
    "\t\t,e.FirstName\n",
    "\t\t,e.LastName\n",
    "\t\t,e.MaritalStatus\n",
    "\t\t,e.JobTitle\n",
    "\t\t,e.VacationHours\n",
    "\t\t,e.SalariedFlag\n",
    "\t\t,e.StateProvinceName\n",
    "\t\t,e.CountryName\n",
    "\tFROM dbo.Employees AS e\n",
    "\tWHERE e.JobTitle LIKE 'Production Technician%'\n",
    "\t\t AND (e.MaritalStatus = 'M' OR e.VacationHours > 35 OR e.StateProvinceName = 'Washington')\n",
    "\t;"
   ]
  },
  {
   "cell_type": "code",
   "execution_count": null,
   "metadata": {
    "collapsed": true
   },
   "outputs": [],
   "source": []
  },
  {
   "cell_type": "markdown",
   "metadata": {},
   "source": [
    "### 5a. List all employees living in Redmond, Seattle, and Bellevue, showing EmployeeID, FirstName, LastName, and City. Sort the list alphabetically by city."
   ]
  },
  {
   "cell_type": "raw",
   "metadata": {},
   "source": [
    "SELECT e.EmployeeID, e.FirstName, e.LastName, e.City\n",
    "\tFROM dbo.Employees AS e\n",
    "\tWHERE e.City in ('Redmond', 'Seattle', 'Bellevue')\n",
    "\tORDER BY e.City\n",
    "\t;"
   ]
  },
  {
   "cell_type": "code",
   "execution_count": null,
   "metadata": {
    "collapsed": true
   },
   "outputs": [],
   "source": []
  },
  {
   "cell_type": "markdown",
   "metadata": {},
   "source": [
    "### 5b. For the list above, make sure these are only in the state of Washington, just to be careful."
   ]
  },
  {
   "cell_type": "raw",
   "metadata": {},
   "source": [
    "SELECT DISTINCT e.City, e.StateProvinceName, e.CountryName\n",
    "\tFROM dbo.Employees AS e\n",
    "\tWHERE e.City in ('Redmond', 'Seattle', 'Bellevue')\n",
    "\t;\n",
    "\n",
    "SELECT e.EmployeeID, e.FirstName, e.LastName, e.City,  e.StateProvinceName\n",
    "\tFROM dbo.Employees AS e\n",
    "\tWHERE e.City in ('Redmond', 'Seattle', 'Bellevue') AND e.StateProvinceName = 'Washington'\n",
    "\tORDER BY e.City\n",
    "\t;"
   ]
  },
  {
   "cell_type": "code",
   "execution_count": null,
   "metadata": {
    "collapsed": true
   },
   "outputs": [],
   "source": []
  },
  {
   "cell_type": "markdown",
   "metadata": {},
   "source": [
    "### 6. Provide a list of employees who have no title, whether it's a NULL or empty string."
   ]
  },
  {
   "cell_type": "raw",
   "metadata": {},
   "source": [
    "SELECT e.EmployeeID, e.Title, e.FirstName, e.LastName\n",
    "\tFROM dbo.Employees AS e\n",
    "\tWHERE e.Title IS NULL OR e.Title = ''\n",
    "\t;"
   ]
  },
  {
   "cell_type": "code",
   "execution_count": null,
   "metadata": {
    "collapsed": true
   },
   "outputs": [],
   "source": []
  },
  {
   "cell_type": "markdown",
   "metadata": {},
   "source": [
    "### 7a. Provide a list of employees who have at least 60 vacation hours left."
   ]
  },
  {
   "cell_type": "raw",
   "metadata": {},
   "source": [
    "SELECT e.EmployeeID, e.Title, e.FirstName, e.LastName, e.VacationHours, e.SickLeaveHours\n",
    "\tFROM dbo.Employees AS e\n",
    "\tWHERE e.VacationHours >= 60\n",
    "\t;"
   ]
  },
  {
   "cell_type": "code",
   "execution_count": null,
   "metadata": {
    "collapsed": true
   },
   "outputs": [],
   "source": []
  },
  {
   "cell_type": "markdown",
   "metadata": {},
   "source": [
    "### 7b. Provide a list of employees who have less than 60 vacation hours left."
   ]
  },
  {
   "cell_type": "code",
   "execution_count": null,
   "metadata": {
    "collapsed": true
   },
   "outputs": [],
   "source": [
    "SELECT e.EmployeeID, e.Title, e.FirstName, e.LastName, e.VacationHours, e.SickLeaveHours\n",
    "\tFROM dbo.Employees AS e\n",
    "\tWHERE e.VacationHours < 60\n",
    "\t;"
   ]
  },
  {
   "cell_type": "code",
   "execution_count": null,
   "metadata": {
    "collapsed": true
   },
   "outputs": [],
   "source": []
  },
  {
   "cell_type": "markdown",
   "metadata": {},
   "source": [
    "### 7c. Show me employees who have more than 20 and less than 60 vacation hours left."
   ]
  },
  {
   "cell_type": "raw",
   "metadata": {},
   "source": [
    "SELECT e.EmployeeID, e.Title, e.FirstName, e.LastName, e.VacationHours, e.SickLeaveHours\n",
    "\tFROM dbo.Employees AS e\n",
    "\tWHERE e.VacationHours BETWEEN 21 AND 59\n",
    "\t;"
   ]
  },
  {
   "cell_type": "code",
   "execution_count": null,
   "metadata": {
    "collapsed": true
   },
   "outputs": [],
   "source": []
  },
  {
   "cell_type": "markdown",
   "metadata": {},
   "source": [
    "### 7d. If you did not use BETWEEN for 7c, do the same but use BETWEEN. If you did use BETWEEN for 7c, do it another way."
   ]
  },
  {
   "cell_type": "raw",
   "metadata": {},
   "source": [
    "SELECT e.EmployeeID, e.Title, e.FirstName, e.LastName, e.VacationHours, e.SickLeaveHours\n",
    "\tFROM dbo.Employees AS e\n",
    "\tWHERE e.VacationHours > 20 AND  e.VacationHours < 60\n",
    "\t;"
   ]
  },
  {
   "cell_type": "code",
   "execution_count": null,
   "metadata": {
    "collapsed": true
   },
   "outputs": [],
   "source": []
  },
  {
   "cell_type": "markdown",
   "metadata": {},
   "source": [
    "# Grouping"
   ]
  },
  {
   "cell_type": "markdown",
   "metadata": {},
   "source": [
    "### 1a. What is the earliest birthdate for all employees?"
   ]
  },
  {
   "cell_type": "raw",
   "metadata": {},
   "source": [
    "SELECT MIN(e.BirthDate) FROM dbo.Employees AS e;"
   ]
  },
  {
   "cell_type": "code",
   "execution_count": null,
   "metadata": {
    "collapsed": true
   },
   "outputs": [],
   "source": []
  },
  {
   "cell_type": "markdown",
   "metadata": {},
   "source": [
    "### 1b. Add to the above, the most recent birthdate for all employees"
   ]
  },
  {
   "cell_type": "raw",
   "metadata": {},
   "source": [
    "SELECT MIN(e.BirthDate) AS 'Earliest Birthday', MAX(e.BirthDate) AS 'Most Reecent Birthday'\n",
    "\tFROM dbo.Employees AS e;"
   ]
  },
  {
   "cell_type": "code",
   "execution_count": null,
   "metadata": {
    "collapsed": true
   },
   "outputs": [],
   "source": []
  },
  {
   "cell_type": "markdown",
   "metadata": {},
   "source": [
    "### 1c. Show the above results broken down by gender"
   ]
  },
  {
   "cell_type": "raw",
   "metadata": {},
   "source": [
    "SELECT e.Gender, MIN(e.BirthDate) AS 'Earliest Birthday', MAX(e.BirthDate) AS 'Most Reecent Birthday'\n",
    "\tFROM dbo.Employees AS e\n",
    "\tGROUP BY e.Gender\n",
    "\t;"
   ]
  },
  {
   "cell_type": "code",
   "execution_count": null,
   "metadata": {
    "collapsed": true
   },
   "outputs": [],
   "source": []
  },
  {
   "cell_type": "markdown",
   "metadata": {},
   "source": [
    "### 1d. Show the above results broken down by gender, and salaried/hourly"
   ]
  },
  {
   "cell_type": "raw",
   "metadata": {},
   "source": [
    "SELECT e.Gender, e.SalariedFlag, MIN(e.BirthDate) AS 'Earliest Birthday', MAX(e.BirthDate) AS 'Most Reecent Birthday'\n",
    "\tFROM dbo.Employees AS e\n",
    "\tGROUP BY e.Gender, e.SalariedFlag\n",
    "\t;"
   ]
  },
  {
   "cell_type": "code",
   "execution_count": null,
   "metadata": {
    "collapsed": true
   },
   "outputs": [],
   "source": []
  },
  {
   "cell_type": "markdown",
   "metadata": {},
   "source": [
    "### 2a. What are the average vacation hours for all employees?"
   ]
  },
  {
   "cell_type": "raw",
   "metadata": {},
   "source": [
    "SELECT AVG(e.VacationHours)\n",
    "\tFROM dbo.Employees AS e\t\n",
    "\t;\n",
    "\t\n",
    "\t"
   ]
  },
  {
   "cell_type": "code",
   "execution_count": null,
   "metadata": {
    "collapsed": true
   },
   "outputs": [],
   "source": []
  },
  {
   "cell_type": "markdown",
   "metadata": {},
   "source": [
    "### 2b. Add to the above, the minimum vacation hours for all employees"
   ]
  },
  {
   "cell_type": "raw",
   "metadata": {},
   "source": [
    "SELECT AVG(e.VacationHours) AS 'Average Vacation', MIN(e.VacationHours) AS 'Minumum Vacation'\n",
    "\tFROM dbo.Employees AS e\t\n",
    "\t;"
   ]
  },
  {
   "cell_type": "code",
   "execution_count": null,
   "metadata": {
    "collapsed": true
   },
   "outputs": [],
   "source": []
  },
  {
   "cell_type": "markdown",
   "metadata": {},
   "source": [
    "### 2c. Show the above results broken down and ordered by job title"
   ]
  },
  {
   "cell_type": "raw",
   "metadata": {},
   "source": [
    "SELECT e.JobTitle, AVG(e.VacationHours) AS 'Average Vacation', MIN(e.VacationHours) AS 'Minimum Vacation'\n",
    "\tFROM dbo.Employees AS e\n",
    "\tGROUP BY e.JobTitle\n",
    "\t;"
   ]
  },
  {
   "cell_type": "code",
   "execution_count": null,
   "metadata": {
    "collapsed": true
   },
   "outputs": [],
   "source": []
  },
  {
   "cell_type": "markdown",
   "metadata": {},
   "source": [
    "### 2d. Show the above results broken down by job title, and married/single employees"
   ]
  },
  {
   "cell_type": "raw",
   "metadata": {},
   "source": [
    "SELECT e.JobTitle, e.MaritalStatus, AVG(e.VacationHours) AS 'Average Vacation', MIN(e.VacationHours) AS 'Minimum Vacation'\n",
    "\tFROM dbo.Employees AS e\n",
    "\tGROUP BY e.JobTitle, e.MaritalStatus\n",
    "\t;"
   ]
  },
  {
   "cell_type": "code",
   "execution_count": null,
   "metadata": {
    "collapsed": true
   },
   "outputs": [],
   "source": []
  },
  {
   "cell_type": "markdown",
   "metadata": {},
   "source": [
    "### 2e. Add to the above, the maximum vacation hours per group"
   ]
  },
  {
   "cell_type": "raw",
   "metadata": {},
   "source": [
    "SELECT e.JobTitle, e.MaritalStatus\n",
    "\t\t, AVG(e.VacationHours) AS 'Average Vacation'\n",
    "\t\t, MIN(e.VacationHours) AS 'Minimum Vacation'\n",
    "\t\t, MAX(e.VacationHours) AS 'Maximum Vacation'\n",
    "\tFROM dbo.Employees AS e\n",
    "\tGROUP BY e.JobTitle, e.MaritalStatus\n",
    "\t;"
   ]
  },
  {
   "cell_type": "code",
   "execution_count": null,
   "metadata": {
    "collapsed": true
   },
   "outputs": [],
   "source": []
  },
  {
   "cell_type": "markdown",
   "metadata": {},
   "source": [
    "### 2f. Show the above results broken down by job title, married/single employees, and State"
   ]
  },
  {
   "cell_type": "raw",
   "metadata": {},
   "source": [
    "SELECT e.JobTitle, e.MaritalStatus, e.StateProvinceName\n",
    "\t\t, AVG(e.VacationHours) AS 'Average Vacation'\n",
    "\t\t, MIN(e.VacationHours) AS 'Minimum Vacation'\n",
    "\t\t, MAX(e.VacationHours) AS 'Maximum Vacation'\n",
    "\tFROM dbo.Employees AS e\n",
    "\tGROUP BY e.JobTitle, e.MaritalStatus, e.StateProvinceName\n",
    "\t;"
   ]
  },
  {
   "cell_type": "code",
   "execution_count": null,
   "metadata": {
    "collapsed": true
   },
   "outputs": [],
   "source": []
  },
  {
   "cell_type": "markdown",
   "metadata": {},
   "source": [
    "### 2g. Show the above results but only for American employees"
   ]
  },
  {
   "cell_type": "raw",
   "metadata": {},
   "source": [
    "SELECT e.JobTitle, e.MaritalStatus, e.StateProvinceName\n",
    "\t\t, AVG(e.VacationHours) AS 'Average Vacation'\n",
    "\t\t, MIN(e.VacationHours) AS 'Minimum Vacation'\n",
    "\t\t, MAX(e.VacationHours) AS 'Maximum Vacation'\n",
    "\tFROM dbo.Employees AS e\n",
    "\tWHERE e.CountryName = 'United States'\n",
    "\tGROUP BY e.JobTitle, e.MaritalStatus, e.StateProvinceName\n",
    "\t;"
   ]
  },
  {
   "cell_type": "code",
   "execution_count": null,
   "metadata": {
    "collapsed": true
   },
   "outputs": [],
   "source": []
  },
  {
   "cell_type": "markdown",
   "metadata": {},
   "source": [
    "### 2h. Change the grouping above so it's broken down by married/single and State, no more job title"
   ]
  },
  {
   "cell_type": "raw",
   "metadata": {},
   "source": [
    "SELECT e.MaritalStatus, e.StateProvinceName\n",
    "\t\t, AVG(e.VacationHours) AS 'Average Vacation'\n",
    "\t\t, MIN(e.VacationHours) AS 'Minimum Vacation'\n",
    "\t\t, MAX(e.VacationHours) AS 'Maximum Vacation'\n",
    "\tFROM dbo.Employees AS e\n",
    "\tWHERE e.CountryName = 'United States'\n",
    "\tGROUP BY e.MaritalStatus, e.StateProvinceName\n",
    "\t;"
   ]
  },
  {
   "cell_type": "code",
   "execution_count": null,
   "metadata": {
    "collapsed": true
   },
   "outputs": [],
   "source": []
  },
  {
   "cell_type": "markdown",
   "metadata": {},
   "source": [
    "### 2i. Limit the results above to States where the average vacation hours is greater than 30"
   ]
  },
  {
   "cell_type": "raw",
   "metadata": {},
   "source": [
    "SELECT e.MaritalStatus, e.StateProvinceName\n",
    "\t\t, AVG(e.VacationHours) AS 'Average Vacation'\n",
    "\t\t, MIN(e.VacationHours) AS 'Minimum Vacation'\n",
    "\t\t, MAX(e.VacationHours) AS 'Maximum Vacation'\n",
    "\tFROM dbo.Employees AS e\n",
    "\tWHERE e.CountryName = 'United States'\n",
    "\tGROUP BY e.MaritalStatus, e.StateProvinceName\n",
    "\tHAVING AVG(e.VacationHours) > 30\n",
    "\t;"
   ]
  },
  {
   "cell_type": "raw",
   "metadata": {},
   "source": [
    "SELECT e.StateProvinceName\n",
    "\t\t, AVG(e.VacationHours) AS 'Average Vacation'\n",
    "\t\t, MIN(e.VacationHours) AS 'Minimum Vacation'\n",
    "\t\t, MAX(e.VacationHours) AS 'Maximum Vacation'\n",
    "\tFROM dbo.Employees AS e\n",
    "\tWHERE e.CountryName = 'United States'\n",
    "\tGROUP BY e.StateProvinceName\n",
    "\tHAVING AVG(e.VacationHours) > 30\n",
    "\t;"
   ]
  },
  {
   "cell_type": "code",
   "execution_count": null,
   "metadata": {
    "collapsed": true
   },
   "outputs": [],
   "source": []
  },
  {
   "cell_type": "markdown",
   "metadata": {},
   "source": [
    "### 2j. Limit the results above to States where the average vacation hours is greater than 30 and the maximum vacation hours is less than 50"
   ]
  },
  {
   "cell_type": "raw",
   "metadata": {},
   "source": [
    "SELECT e.StateProvinceName\n",
    "\t\t, AVG(e.VacationHours) AS 'Average Vacation'\n",
    "\t\t, MIN(e.VacationHours) AS 'Minimum Vacation'\n",
    "\t\t, MAX(e.VacationHours) AS 'Maximum Vacation'\n",
    "\tFROM dbo.Employees AS e\n",
    "\tWHERE e.CountryName = 'United States'\n",
    "\tGROUP BY e.StateProvinceName\n",
    "\tHAVING AVG(e.VacationHours) BETWEEN 31 AND 49\n",
    "\t;"
   ]
  },
  {
   "cell_type": "code",
   "execution_count": null,
   "metadata": {
    "collapsed": true
   },
   "outputs": [],
   "source": []
  },
  {
   "cell_type": "markdown",
   "metadata": {},
   "source": [
    "### 2k. Show the same results but only for non-American employees"
   ]
  },
  {
   "cell_type": "raw",
   "metadata": {},
   "source": [
    "SELECT e.StateProvinceName\n",
    "\t\t, AVG(e.VacationHours) AS 'Average Vacation'\n",
    "\t\t, MIN(e.VacationHours) AS 'Minimum Vacation'\n",
    "\t\t, MAX(e.VacationHours) AS 'Maximum Vacation'\n",
    "\tFROM dbo.Employees AS e\n",
    "\tWHERE e.CountryName != 'United States'\n",
    "\tGROUP BY e.StateProvinceName\n",
    "\tHAVING AVG(e.VacationHours) BETWEEN 31 AND 49\n",
    "\t;"
   ]
  },
  {
   "cell_type": "code",
   "execution_count": null,
   "metadata": {
    "collapsed": true
   },
   "outputs": [],
   "source": []
  },
  {
   "cell_type": "markdown",
   "metadata": {},
   "source": [
    "### 3a. Report how many employees are in the company"
   ]
  },
  {
   "cell_type": "raw",
   "metadata": {},
   "source": [
    "SELECT COUNT(1) FROM dbo.Employees;"
   ]
  },
  {
   "cell_type": "code",
   "execution_count": null,
   "metadata": {
    "collapsed": true
   },
   "outputs": [],
   "source": []
  },
  {
   "cell_type": "markdown",
   "metadata": {},
   "source": [
    "### 3b. For the above report, show the number of employees per manager (hint: use ManagerID)"
   ]
  },
  {
   "cell_type": "raw",
   "metadata": {},
   "source": [
    "SELECT e.ManagerID, COUNT(1) AS 'NumEmployees'\n",
    "\tFROM dbo.Employees AS e\n",
    "\tGROUP BY e.ManagerID\n",
    "\t;"
   ]
  },
  {
   "cell_type": "code",
   "execution_count": null,
   "metadata": {
    "collapsed": true
   },
   "outputs": [],
   "source": []
  },
  {
   "cell_type": "markdown",
   "metadata": {},
   "source": [
    "### 3c. Remove any manager ID's that are NULL from the results above"
   ]
  },
  {
   "cell_type": "raw",
   "metadata": {},
   "source": [
    "SELECT e.ManagerID, COUNT(1) AS 'NumEmployees'\n",
    "\tFROM dbo.Employees AS e\n",
    "\tWHERE e.ManagerID IS NOT NULL\n",
    "\tGROUP BY e.ManagerID\n",
    "\t;"
   ]
  },
  {
   "cell_type": "code",
   "execution_count": null,
   "metadata": {
    "collapsed": true
   },
   "outputs": [],
   "source": []
  },
  {
   "cell_type": "markdown",
   "metadata": {},
   "source": [
    "### 3d. Show the same results as above, but only for managers who have at least 5 employees"
   ]
  },
  {
   "cell_type": "raw",
   "metadata": {},
   "source": [
    "SELECT e.ManagerID, COUNT(1) AS 'NumEmployees'\n",
    "\tFROM dbo.Employees AS e\n",
    "\tWHERE e.ManagerID IS NOT NULL\n",
    "\tGROUP BY e.ManagerID\n",
    "\tHAVING COUNT(1) >= 5\n",
    "\t;"
   ]
  },
  {
   "cell_type": "code",
   "execution_count": null,
   "metadata": {
    "collapsed": true
   },
   "outputs": [],
   "source": []
  },
  {
   "cell_type": "markdown",
   "metadata": {},
   "source": [
    "### 4a. List the average vacation hours of all employees"
   ]
  },
  {
   "cell_type": "raw",
   "metadata": {},
   "source": [
    "SELECT AVG(e.VacationHours)\n",
    "\tFROM dbo.Employees AS e\n",
    "\t;"
   ]
  },
  {
   "cell_type": "code",
   "execution_count": null,
   "metadata": {
    "collapsed": true
   },
   "outputs": [],
   "source": []
  },
  {
   "cell_type": "markdown",
   "metadata": {},
   "source": [
    "### 4b. Break down the results by State"
   ]
  },
  {
   "cell_type": "raw",
   "metadata": {},
   "source": [
    "SELECT e.StateProvinceName, AVG(e.VacationHours) AS 'Average Vacation Hours'\n",
    "\tFROM dbo.Employees AS e\n",
    "\tGROUP BY e.StateProvinceName\n",
    "\t;"
   ]
  },
  {
   "cell_type": "code",
   "execution_count": null,
   "metadata": {
    "collapsed": true
   },
   "outputs": [],
   "source": []
  },
  {
   "cell_type": "markdown",
   "metadata": {},
   "source": [
    "### 4c. Break down the results by city and State"
   ]
  },
  {
   "cell_type": "raw",
   "metadata": {},
   "source": [
    "SELECT e.StateProvinceName, e.City, AVG(e.VacationHours) AS 'Average Vacation Hours'\n",
    "\tFROM dbo.Employees AS e\n",
    "\tGROUP BY e.StateProvinceName, e.City\n",
    "\t;"
   ]
  },
  {
   "cell_type": "code",
   "execution_count": null,
   "metadata": {
    "collapsed": true
   },
   "outputs": [],
   "source": []
  },
  {
   "cell_type": "markdown",
   "metadata": {},
   "source": [
    "### 4d. Add something that shows the number of employees per city"
   ]
  },
  {
   "cell_type": "raw",
   "metadata": {},
   "source": [
    "SELECT e.StateProvinceName, e.City\n",
    "\t, AVG(e.VacationHours) AS 'Average Vacation Hours'\n",
    "\t, COUNT(1) AS 'NumEmployees'\n",
    "\tFROM dbo.Employees AS e\n",
    "\tGROUP BY e.StateProvinceName, e.City\n",
    "\t;"
   ]
  },
  {
   "cell_type": "code",
   "execution_count": null,
   "metadata": {
    "collapsed": true
   },
   "outputs": [],
   "source": []
  },
  {
   "cell_type": "markdown",
   "metadata": {},
   "source": [
    "### 4e. Sort the results by the city and state"
   ]
  },
  {
   "cell_type": "raw",
   "metadata": {},
   "source": [
    "SELECT e.StateProvinceName, e.City\n",
    "\t, AVG(e.VacationHours) AS 'Average Vacation Hours'\n",
    "\t, COUNT(1) AS 'NumEmployees'\n",
    "\tFROM dbo.Employees AS e\n",
    "\tGROUP BY e.StateProvinceName, e.City\n",
    "\tORDER BY e.StateProvinceName, e.City\n",
    "\t;"
   ]
  },
  {
   "cell_type": "code",
   "execution_count": null,
   "metadata": {
    "collapsed": true
   },
   "outputs": [],
   "source": []
  },
  {
   "cell_type": "markdown",
   "metadata": {},
   "source": [
    "### 4f. Make city and State a single column in the format of \"City, State\""
   ]
  },
  {
   "cell_type": "raw",
   "metadata": {},
   "source": [
    "SELECT CONCAT(e.StateProvinceName, ', ', e.City) AS 'Location'\n",
    "\t, AVG(e.VacationHours) AS 'Average Vacation Hours'\n",
    "\t, COUNT(1) AS 'NumEmployees'\n",
    "\tFROM dbo.Employees AS e\n",
    "\tGROUP BY e.StateProvinceName, e.City\n",
    "\tORDER BY e.StateProvinceName, e.City\n",
    "\t;"
   ]
  },
  {
   "cell_type": "code",
   "execution_count": null,
   "metadata": {
    "collapsed": true
   },
   "outputs": [],
   "source": []
  },
  {
   "cell_type": "markdown",
   "metadata": {},
   "source": [
    "### 4g. Add a column that shows the difference between the maximum vacation hours and minimum vacation hours for each city"
   ]
  },
  {
   "cell_type": "raw",
   "metadata": {},
   "source": [
    "SELECT CONCAT(e.StateProvinceName, ', ', e.City) AS 'Location'\n",
    "\t, AVG(e.VacationHours) AS 'Average Vacation Hours'\n",
    "\t, COUNT(1) AS 'NumEmployees'\n",
    "\t, MAX(e.VacationHours)-MIN(e.VacationHours) AS 'Difference Vacation Hours'\n",
    "\tFROM dbo.Employees AS e\n",
    "\tGROUP BY e.StateProvinceName, e.City\n",
    "\tORDER BY e.StateProvinceName, e.City\n",
    "\t;"
   ]
  },
  {
   "cell_type": "code",
   "execution_count": null,
   "metadata": {
    "collapsed": true
   },
   "outputs": [],
   "source": []
  },
  {
   "cell_type": "markdown",
   "metadata": {},
   "source": [
    "### 4h. Now sort the results by the new column created above"
   ]
  },
  {
   "cell_type": "raw",
   "metadata": {},
   "source": [
    "SELECT CONCAT(e.StateProvinceName, ', ', e.City) AS 'Location'\n",
    "\t, AVG(e.VacationHours) AS 'Average Vacation Hours'\n",
    "\t, COUNT(1) AS 'NumEmployees'\n",
    "\t, MAX(e.VacationHours)-MIN(e.VacationHours) AS 'Difference Vacation Hours'\n",
    "\tFROM dbo.Employees AS e\n",
    "\tGROUP BY e.StateProvinceName, e.City\n",
    "\tORDER BY 'Difference Vacation Hours' DESC\n",
    "\t;"
   ]
  },
  {
   "cell_type": "code",
   "execution_count": null,
   "metadata": {
    "collapsed": true
   },
   "outputs": [],
   "source": []
  },
  {
   "cell_type": "markdown",
   "metadata": {},
   "source": [
    "### 4i. Limit the results to cities that have more than 1 employee"
   ]
  },
  {
   "cell_type": "raw",
   "metadata": {},
   "source": [
    "SELECT CONCAT(e.StateProvinceName, ', ', e.City) AS 'Location'\n",
    "\t, AVG(e.VacationHours) AS 'Average Vacation Hours'\n",
    "\t, COUNT(1) AS 'NumEmployees'\n",
    "\t, MAX(e.VacationHours)-MIN(e.VacationHours) AS 'Difference Vacation Hours'\n",
    "\tFROM dbo.Employees AS e\n",
    "\tGROUP BY e.StateProvinceName, e.City\n",
    "\tHAVING COUNT(1) > 1\n",
    "\tORDER BY 'Difference Vacation Hours' DESC\n",
    "\t;"
   ]
  },
  {
   "cell_type": "code",
   "execution_count": null,
   "metadata": {
    "collapsed": true
   },
   "outputs": [],
   "source": []
  },
  {
   "cell_type": "markdown",
   "metadata": {},
   "source": [
    "### 4j. Limit the results to non-U.S. cities"
   ]
  },
  {
   "cell_type": "raw",
   "metadata": {},
   "source": [
    "SELECT CONCAT(e.StateProvinceName, ', ', e.City) AS 'Location'\n",
    "\t, AVG(e.VacationHours) AS 'Average Vacation Hours'\n",
    "\t, COUNT(1) AS 'NumEmployees'\n",
    "\t, MAX(e.VacationHours)-MIN(e.VacationHours) AS 'Difference Vacation Hours'\n",
    "\tFROM dbo.Employees AS e\n",
    "\tWHERE e.CountryName != 'United States'\n",
    "\tGROUP BY e.StateProvinceName, e.City\n",
    "\tHAVING COUNT(1) > 1\n",
    "\tORDER BY 'Difference Vacation Hours' DESC\n",
    "\t;"
   ]
  },
  {
   "cell_type": "code",
   "execution_count": null,
   "metadata": {
    "collapsed": true
   },
   "outputs": [],
   "source": []
  }
 ],
 "metadata": {
  "kernelspec": {
   "display_name": "Python 3",
   "language": "python",
   "name": "python3"
  },
  "language_info": {
   "codemirror_mode": {
    "name": "ipython",
    "version": 3
   },
   "file_extension": ".py",
   "mimetype": "text/x-python",
   "name": "python",
   "nbconvert_exporter": "python",
   "pygments_lexer": "ipython3",
   "version": "3.4.3"
  }
 },
 "nbformat": 4,
 "nbformat_minor": 0
}
