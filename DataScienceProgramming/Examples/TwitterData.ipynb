{
 "cells": [
  {
   "cell_type": "markdown",
   "metadata": {},
   "source": [
    "# Processing Twitter Data\n",
    "\n"
   ]
  },
  {
   "cell_type": "code",
   "execution_count": 1,
   "metadata": {
    "collapsed": false,
    "scrolled": true
   },
   "outputs": [
    {
     "name": "stdout",
     "output_type": "stream",
     "text": [
      "Welcome to\n",
      "      ____              __\n",
      "     / __/__  ___ _____/ /__\n",
      "    _\\ \\/ _ \\/ _ `/ __/  '_/\n",
      "   /__ / .__/\\_,_/_/ /_/\\_\\   version 1.6.1\n",
      "      /_/\n",
      "\n",
      "Using Python version 2.7.5 (default, Nov 20 2015 02:00:19)\n",
      "SparkContext available as sc, HiveContext available as sqlContext.\n"
     ]
    }
   ],
   "source": [
    "import atexit\n",
    "import os\n",
    "import platform\n",
    "import sys\n",
    "\n",
    "os.environ[\"SPARK_HOME\"] = '/usr/hdp/2.4.2.0-258/spark'\n",
    "spark_home = os.environ.get('SPARK_HOME', None)\n",
    "if not spark_home:\n",
    "    raise ValueError('SPARK_HOME environment variable is not set')\n",
    "\n",
    "sys.path.insert(0, os.path.join(spark_home, 'python'))\n",
    "sys.path.insert(0, os.path.join(spark_home, 'python/lib/py4j-0.8.1-src.zip'))\n",
    "execfile(os.path.join(spark_home, 'python/pyspark/shell.py'))\n",
    "\n",
    "\n",
    "###sys.path.append('/usr/hdp/2.4.2.0-258/spark/python')\n",
    "\n",
    "import py4j\n",
    "\n",
    "import pyspark\n",
    "from pyspark.context import SparkContext\n",
    "from pyspark.sql import SQLContext, HiveContext\n",
    "from pyspark.storagelevel import StorageLevel"
   ]
  },
  {
   "cell_type": "code",
   "execution_count": 4,
   "metadata": {
    "collapsed": false
   },
   "outputs": [
    {
     "data": {
      "text/plain": [
       "u'1.6.1'"
      ]
     },
     "execution_count": 4,
     "metadata": {},
     "output_type": "execute_result"
    }
   ],
   "source": [
    "sc.version"
   ]
  },
  {
   "cell_type": "code",
   "execution_count": 6,
   "metadata": {
    "collapsed": false
   },
   "outputs": [
    {
     "data": {
      "text/plain": [
       "1000000"
      ]
     },
     "execution_count": 6,
     "metadata": {},
     "output_type": "execute_result"
    }
   ],
   "source": [
    "tweets = sc.textFile(\"/user/molnar/data/election2012/cache-117000000.json.gz\")\n",
    "tweets.count()"
   ]
  },
  {
   "cell_type": "code",
   "execution_count": 5,
   "metadata": {
    "collapsed": true
   },
   "outputs": [],
   "source": [
    "import json"
   ]
  },
  {
   "cell_type": "code",
   "execution_count": 16,
   "metadata": {
    "collapsed": false
   },
   "outputs": [
    {
     "data": {
      "text/plain": [
       "[u'user_mentions', u'hashtags', u'urls']"
      ]
     },
     "execution_count": 16,
     "metadata": {},
     "output_type": "execute_result"
    }
   ],
   "source": [
    "tw = json.loads(tweets.take(1)[0])\n",
    "#tw[u'user'][u'screen_name']\n",
    "#json.loads(tw[0])[u'entities'].keys()\n",
    "#json.loads(tw[0])['entities']['hashtags']\n",
    "tw['entities'].keys()"
   ]
  },
  {
   "cell_type": "code",
   "execution_count": 7,
   "metadata": {
    "collapsed": false
   },
   "outputs": [
    {
     "data": {
      "text/plain": [
       "[(u'HAPPYBIRTHDAYAVALANNA', 1),\n",
       " (u'badgers', 1),\n",
       " (u'WHUFC', 1),\n",
       " (u'OOMF', 1),\n",
       " (u'UnFilmQuiMaMarqu\\xe9', 1),\n",
       " (u'brfc', 1),\n",
       " (u'lufc', 1),\n",
       " (u'bcfc', 1),\n",
       " (u'Panthers', 1),\n",
       " (u'jobs', 1)]"
      ]
     },
     "execution_count": 7,
     "metadata": {},
     "output_type": "execute_result"
    }
   ],
   "source": [
    "def extract_hash(tw):\n",
    "    try:\n",
    "        return json.loads(tw)['entities']['hashtags']\n",
    "    except:\n",
    "        return ()\n",
    "    \n",
    "hashtags = tweets.flatMap(extract_hash).map(lambda x: (x['text'], 1))\n",
    "hashtags.take(10)"
   ]
  },
  {
   "cell_type": "code",
   "execution_count": 8,
   "metadata": {
    "collapsed": false
   },
   "outputs": [
    {
     "name": "stdout",
     "output_type": "stream",
     "text": [
      "CPU times: user 8.91 ms, sys: 7.78 ms, total: 16.7 ms\n",
      "Wall time: 59.1 ms\n"
     ]
    }
   ],
   "source": [
    "%%time\n",
    "topcounts = hashtags.reduceByKey(lambda a, b: a+b)"
   ]
  },
  {
   "cell_type": "code",
   "execution_count": 9,
   "metadata": {
    "collapsed": false,
    "scrolled": true
   },
   "outputs": [
    {
     "name": "stdout",
     "output_type": "stream",
     "text": [
      "CPU times: user 18.1 ms, sys: 7.99 ms, total: 26.1 ms\n",
      "Wall time: 1min 30s\n"
     ]
    },
    {
     "data": {
      "text/plain": [
       "[(8854, u'Iran'),\n",
       " (6283, u'tcot'),\n",
       " (6197, u'ReligiousFreedom'),\n",
       " (6196, u'Nadarkhani'),\n",
       " (4890, u'Israel'),\n",
       " (3647, u'Obama'),\n",
       " (2436, u'ImACeleb'),\n",
       " (2392, u'EMAVoteOneDirection'),\n",
       " (2374, u'Gaza'),\n",
       " (2361, u'Pakistan')]"
      ]
     },
     "execution_count": 9,
     "metadata": {},
     "output_type": "execute_result"
    }
   ],
   "source": [
    "%%time\n",
    "topcounts.map(lambda (a,b): (b, a)).sortByKey(0,1).take(10)"
   ]
  },
  {
   "cell_type": "markdown",
   "metadata": {},
   "source": [
    "Now let's try all them ... this might take a while"
   ]
  },
  {
   "cell_type": "code",
   "execution_count": 10,
   "metadata": {
    "collapsed": true
   },
   "outputs": [],
   "source": [
    "tweets = sc.textFile(\"/user/molnar/data/election2012/cache-*.json.gz\")\n",
    "hashtags = tweets.flatMap(extract_hash).map(lambda x: (x['text'], 1))\n",
    "topcounts = hashtags.reduceByKey(lambda a, b: a+b)"
   ]
  },
  {
   "cell_type": "code",
   "execution_count": 11,
   "metadata": {
    "collapsed": false
   },
   "outputs": [
    {
     "name": "stdout",
     "output_type": "stream",
     "text": [
      "CPU times: user 75.8 ms, sys: 126 ms, total: 202 ms\n",
      "Wall time: 23min 48s\n"
     ]
    },
    {
     "data": {
      "text/plain": [
       "[(1341607, u'tcot'),\n",
       " (1199847, u'Obama'),\n",
       " (703426, u'Pakistan'),\n",
       " (598698, u'Romney'),\n",
       " (534551, u'p2'),\n",
       " (492539, u'Iran'),\n",
       " (397206, u'teaparty'),\n",
       " (354935, u'obama'),\n",
       " (293350, u'black'),\n",
       " (289500, u'Israel'),\n",
       " (264352, u'Sandy'),\n",
       " (248773, u'news'),\n",
       " (196201, u'tlot'),\n",
       " (194760, u'RomneyRyan2012'),\n",
       " (184762, u'Obama2012'),\n",
       " (178192, u'USA'),\n",
       " (166043, u'media'),\n",
       " (165223, u'GOP'),\n",
       " (165206, u'gop'),\n",
       " (164156, u'Benghazi')]"
      ]
     },
     "execution_count": 11,
     "metadata": {},
     "output_type": "execute_result"
    }
   ],
   "source": [
    "%%time\n",
    "topcounts.map(lambda (a,b): (b, a)).sortByKey(0,1).take(20)"
   ]
  },
  {
   "cell_type": "code",
   "execution_count": null,
   "metadata": {
    "collapsed": true
   },
   "outputs": [],
   "source": []
  },
  {
   "cell_type": "code",
   "execution_count": null,
   "metadata": {
    "collapsed": true
   },
   "outputs": [],
   "source": []
  },
  {
   "cell_type": "code",
   "execution_count": null,
   "metadata": {
    "collapsed": true
   },
   "outputs": [],
   "source": []
  },
  {
   "cell_type": "code",
   "execution_count": null,
   "metadata": {
    "collapsed": true
   },
   "outputs": [],
   "source": []
  }
 ],
 "metadata": {
  "kernelspec": {
   "display_name": "Python 2",
   "language": "python",
   "name": "python2"
  },
  "language_info": {
   "codemirror_mode": {
    "name": "ipython",
    "version": 2
   },
   "file_extension": ".py",
   "mimetype": "text/x-python",
   "name": "python",
   "nbconvert_exporter": "python",
   "pygments_lexer": "ipython2",
   "version": "2.7.5"
  }
 },
 "nbformat": 4,
 "nbformat_minor": 0
}
