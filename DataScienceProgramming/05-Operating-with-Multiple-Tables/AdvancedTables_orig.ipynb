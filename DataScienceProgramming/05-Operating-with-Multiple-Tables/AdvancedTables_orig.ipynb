{
 "cells": [
  {
   "cell_type": "code",
   "execution_count": 1,
   "metadata": {
    "collapsed": false
   },
   "outputs": [
    {
     "data": {
      "text/html": [
       "<style>.container { width:100% !important; }</style>"
      ],
      "text/plain": [
       "<IPython.core.display.HTML object>"
      ]
     },
     "metadata": {},
     "output_type": "display_data"
    }
   ],
   "source": [
    "from IPython.core.display import display, HTML\n",
    "display(HTML(\"<style>.container { width:100% !important; }</style>\"))"
   ]
  },
  {
   "cell_type": "markdown",
   "metadata": {},
   "source": [
    "# Advanced Tables\n",
    "## Why are databases so complex?\n",
    "1. Consistency when updating: no duplicate places for information https://en.wikipedia.org/wiki/Database_normalization\n",
    "2. Performance https://en.wikipedia.org/wiki/Star_schema\n",
    "\n",
    "## How to Join?\n",
    "https://en.wikipedia.org/wiki/Join_(SQL)\n",
    "\n",
    "1. Two tables can be joined at a time. 'Join' is a binary operator. (Commutations and associations may produce different results, though.)\n",
    "1. Tables must have `key` values that can be matched. Usually one table has a `primary key` and the other table has a `foreign key`.\n",
    "\n",
    "\n",
    "## Pandas\n",
    "1. Merge, join, and concatenate http://pandas.pydata.org/pandas-docs/version/0.18.1/merging.html#merge-join-and-concatenate\n",
    "2. Reshaping and Pivot Tables http://pandas.pydata.org/pandas-docs/version/0.18.1/reshaping.html\n"
   ]
  },
  {
   "cell_type": "code",
   "execution_count": 4,
   "metadata": {
    "collapsed": false
   },
   "outputs": [],
   "source": [
    "import pandas as pd\n",
    "import numpy as np"
   ]
  },
  {
   "cell_type": "code",
   "execution_count": 6,
   "metadata": {
    "collapsed": false,
    "scrolled": true
   },
   "outputs": [
    {
     "name": "stdout",
     "output_type": "stream",
     "text": [
      "Help on function concat in module pandas.tools.merge:\n",
      "\n",
      "concat(objs, axis=0, join='outer', join_axes=None, ignore_index=False, keys=None, levels=None, names=None, verify_integrity=False, copy=True)\n",
      "    Concatenate pandas objects along a particular axis with optional set logic\n",
      "    along the other axes. Can also add a layer of hierarchical indexing on the\n",
      "    concatenation axis, which may be useful if the labels are the same (or\n",
      "    overlapping) on the passed axis number\n",
      "    \n",
      "    Parameters\n",
      "    ----------\n",
      "    objs : a sequence or mapping of Series, DataFrame, or Panel objects\n",
      "        If a dict is passed, the sorted keys will be used as the `keys`\n",
      "        argument, unless it is passed, in which case the values will be\n",
      "        selected (see below). Any None objects will be dropped silently unless\n",
      "        they are all None in which case a ValueError will be raised\n",
      "    axis : {0, 1, ...}, default 0\n",
      "        The axis to concatenate along\n",
      "    join : {'inner', 'outer'}, default 'outer'\n",
      "        How to handle indexes on other axis(es)\n",
      "    join_axes : list of Index objects\n",
      "        Specific indexes to use for the other n - 1 axes instead of performing\n",
      "        inner/outer set logic\n",
      "    verify_integrity : boolean, default False\n",
      "        Check whether the new concatenated axis contains duplicates. This can\n",
      "        be very expensive relative to the actual data concatenation\n",
      "    keys : sequence, default None\n",
      "        If multiple levels passed, should contain tuples. Construct\n",
      "        hierarchical index using the passed keys as the outermost level\n",
      "    levels : list of sequences, default None\n",
      "        Specific levels (unique values) to use for constructing a\n",
      "        MultiIndex. Otherwise they will be inferred from the keys\n",
      "    names : list, default None\n",
      "        Names for the levels in the resulting hierarchical index\n",
      "    ignore_index : boolean, default False\n",
      "        If True, do not use the index values along the concatenation axis. The\n",
      "        resulting axis will be labeled 0, ..., n - 1. This is useful if you are\n",
      "        concatenating objects where the concatenation axis does not have\n",
      "        meaningful indexing information. Note the index values on the other\n",
      "        axes are still respected in the join.\n",
      "    copy : boolean, default True\n",
      "        If False, do not copy data unnecessarily\n",
      "    \n",
      "    Notes\n",
      "    -----\n",
      "    The keys, levels, and names arguments are all optional\n",
      "    \n",
      "    Returns\n",
      "    -------\n",
      "    concatenated : type of objects\n",
      "\n"
     ]
    }
   ],
   "source": [
    "help(pd.concat)"
   ]
  },
  {
   "cell_type": "code",
   "execution_count": 8,
   "metadata": {
    "collapsed": false,
    "scrolled": true
   },
   "outputs": [
    {
     "name": "stdout",
     "output_type": "stream",
     "text": [
      "Help on function append in module pandas.core.frame:\n",
      "\n",
      "append(self, other, ignore_index=False, verify_integrity=False)\n",
      "    Append rows of `other` to the end of this frame, returning a new\n",
      "    object. Columns not in this frame are added as new columns.\n",
      "    \n",
      "    Parameters\n",
      "    ----------\n",
      "    other : DataFrame or Series/dict-like object, or list of these\n",
      "        The data to append.\n",
      "    ignore_index : boolean, default False\n",
      "        If True, do not use the index labels.\n",
      "    verify_integrity : boolean, default False\n",
      "        If True, raise ValueError on creating index with duplicates.\n",
      "    \n",
      "    Returns\n",
      "    -------\n",
      "    appended : DataFrame\n",
      "    \n",
      "    Notes\n",
      "    -----\n",
      "    If a list of dict/series is passed and the keys are all contained in\n",
      "    the DataFrame's index, the order of the columns in the resulting\n",
      "    DataFrame will be unchanged.\n",
      "    \n",
      "    See also\n",
      "    --------\n",
      "    pandas.concat : General function to concatenate DataFrame, Series\n",
      "        or Panel objects\n",
      "    \n",
      "    Examples\n",
      "    --------\n",
      "    \n",
      "    >>> df = pd.DataFrame([[1, 2], [3, 4]], columns=list('AB'))\n",
      "    >>> df\n",
      "       A  B\n",
      "    0  1  2\n",
      "    1  3  4\n",
      "    >>> df2 = pd.DataFrame([[5, 6], [7, 8]], columns=list('AB'))\n",
      "    >>> df.append(df2)\n",
      "       A  B\n",
      "    0  1  2\n",
      "    1  3  4\n",
      "    0  5  6\n",
      "    1  7  8\n",
      "    \n",
      "    With `ignore_index` set to True:\n",
      "    \n",
      "    >>> df.append(df2, ignore_index=True)\n",
      "       A  B\n",
      "    0  1  2\n",
      "    1  3  4\n",
      "    2  5  6\n",
      "    3  7  8\n",
      "\n"
     ]
    }
   ],
   "source": [
    "help(pd.DataFrame.append)"
   ]
  },
  {
   "cell_type": "code",
   "execution_count": 9,
   "metadata": {
    "collapsed": false,
    "scrolled": true
   },
   "outputs": [
    {
     "name": "stdout",
     "output_type": "stream",
     "text": [
      "Help on function merge in module pandas.tools.merge:\n",
      "\n",
      "merge(left, right, how='inner', on=None, left_on=None, right_on=None, left_index=False, right_index=False, sort=False, suffixes=('_x', '_y'), copy=True, indicator=False)\n",
      "    Merge DataFrame objects by performing a database-style join operation by\n",
      "    columns or indexes.\n",
      "    \n",
      "    If joining columns on columns, the DataFrame indexes *will be\n",
      "    ignored*. Otherwise if joining indexes on indexes or indexes on a column or\n",
      "    columns, the index will be passed on.\n",
      "    \n",
      "    Parameters\n",
      "    ----------\n",
      "    left : DataFrame\n",
      "    right : DataFrame\n",
      "    how : {'left', 'right', 'outer', 'inner'}, default 'inner'\n",
      "        * left: use only keys from left frame (SQL: left outer join)\n",
      "        * right: use only keys from right frame (SQL: right outer join)\n",
      "        * outer: use union of keys from both frames (SQL: full outer join)\n",
      "        * inner: use intersection of keys from both frames (SQL: inner join)\n",
      "    on : label or list\n",
      "        Field names to join on. Must be found in both DataFrames. If on is\n",
      "        None and not merging on indexes, then it merges on the intersection of\n",
      "        the columns by default.\n",
      "    left_on : label or list, or array-like\n",
      "        Field names to join on in left DataFrame. Can be a vector or list of\n",
      "        vectors of the length of the DataFrame to use a particular vector as\n",
      "        the join key instead of columns\n",
      "    right_on : label or list, or array-like\n",
      "        Field names to join on in right DataFrame or vector/list of vectors per\n",
      "        left_on docs\n",
      "    left_index : boolean, default False\n",
      "        Use the index from the left DataFrame as the join key(s). If it is a\n",
      "        MultiIndex, the number of keys in the other DataFrame (either the index\n",
      "        or a number of columns) must match the number of levels\n",
      "    right_index : boolean, default False\n",
      "        Use the index from the right DataFrame as the join key. Same caveats as\n",
      "        left_index\n",
      "    sort : boolean, default False\n",
      "        Sort the join keys lexicographically in the result DataFrame\n",
      "    suffixes : 2-length sequence (tuple, list, ...)\n",
      "        Suffix to apply to overlapping column names in the left and right\n",
      "        side, respectively\n",
      "    copy : boolean, default True\n",
      "        If False, do not copy data unnecessarily\n",
      "    indicator : boolean or string, default False\n",
      "        If True, adds a column to output DataFrame called \"_merge\" with\n",
      "        information on the source of each row.\n",
      "        If string, column with information on source of each row will be added to\n",
      "        output DataFrame, and column will be named value of string.\n",
      "        Information column is Categorical-type and takes on a value of \"left_only\"\n",
      "        for observations whose merge key only appears in 'left' DataFrame,\n",
      "        \"right_only\" for observations whose merge key only appears in 'right'\n",
      "        DataFrame, and \"both\" if the observation's merge key is found in both.\n",
      "    \n",
      "        .. versionadded:: 0.17.0\n",
      "    \n",
      "    Examples\n",
      "    --------\n",
      "    \n",
      "    >>> A              >>> B\n",
      "        lkey value         rkey value\n",
      "    0   foo  1         0   foo  5\n",
      "    1   bar  2         1   bar  6\n",
      "    2   baz  3         2   qux  7\n",
      "    3   foo  4         3   bar  8\n",
      "    \n",
      "    >>> A.merge(B, left_on='lkey', right_on='rkey', how='outer')\n",
      "       lkey  value_x  rkey  value_y\n",
      "    0  foo   1        foo   5\n",
      "    1  foo   4        foo   5\n",
      "    2  bar   2        bar   6\n",
      "    3  bar   2        bar   8\n",
      "    4  baz   3        NaN   NaN\n",
      "    5  NaN   NaN      qux   7\n",
      "    \n",
      "    Returns\n",
      "    -------\n",
      "    merged : DataFrame\n",
      "        The output type will the be same as 'left', if it is a subclass\n",
      "        of DataFrame.\n",
      "\n"
     ]
    }
   ],
   "source": [
    "help(pd.merge)"
   ]
  },
  {
   "cell_type": "code",
   "execution_count": 10,
   "metadata": {
    "collapsed": false,
    "scrolled": true
   },
   "outputs": [
    {
     "name": "stdout",
     "output_type": "stream",
     "text": [
      "Help on function combine_first in module pandas.core.frame:\n",
      "\n",
      "combine_first(self, other)\n",
      "    Combine two DataFrame objects and default to non-null values in frame\n",
      "    calling the method. Result index columns will be the union of the\n",
      "    respective indexes and columns\n",
      "    \n",
      "    Parameters\n",
      "    ----------\n",
      "    other : DataFrame\n",
      "    \n",
      "    Examples\n",
      "    --------\n",
      "    a's values prioritized, use values from b to fill holes:\n",
      "    \n",
      "    >>> a.combine_first(b)\n",
      "    \n",
      "    \n",
      "    Returns\n",
      "    -------\n",
      "    combined : DataFrame\n",
      "\n"
     ]
    }
   ],
   "source": [
    "help(pd.DataFrame.combine_first)"
   ]
  },
  {
   "cell_type": "code",
   "execution_count": 11,
   "metadata": {
    "collapsed": false,
    "scrolled": true
   },
   "outputs": [
    {
     "name": "stdout",
     "output_type": "stream",
     "text": [
      "Help on function update in module pandas.core.frame:\n",
      "\n",
      "update(self, other, join='left', overwrite=True, filter_func=None, raise_conflict=False)\n",
      "    Modify DataFrame in place using non-NA values from passed\n",
      "    DataFrame. Aligns on indices\n",
      "    \n",
      "    Parameters\n",
      "    ----------\n",
      "    other : DataFrame, or object coercible into a DataFrame\n",
      "    join : {'left'}, default 'left'\n",
      "    overwrite : boolean, default True\n",
      "        If True then overwrite values for common keys in the calling frame\n",
      "    filter_func : callable(1d-array) -> 1d-array<boolean>, default None\n",
      "        Can choose to replace values other than NA. Return True for values\n",
      "        that should be updated\n",
      "    raise_conflict : boolean\n",
      "        If True, will raise an error if the DataFrame and other both\n",
      "        contain data in the same place.\n",
      "\n"
     ]
    }
   ],
   "source": [
    "help(pd.DataFrame.update)"
   ]
  }
 ],
 "metadata": {
  "kernelspec": {
   "display_name": "Python 3",
   "language": "python",
   "name": "python3"
  },
  "language_info": {
   "codemirror_mode": {
    "name": "ipython",
    "version": 3
   },
   "file_extension": ".py",
   "mimetype": "text/x-python",
   "name": "python",
   "nbconvert_exporter": "python",
   "pygments_lexer": "ipython3",
   "version": "3.4.3"
  }
 },
 "nbformat": 4,
 "nbformat_minor": 0
}
